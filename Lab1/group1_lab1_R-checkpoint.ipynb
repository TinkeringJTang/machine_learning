{
 "cells": [
  {
   "cell_type": "code",
   "execution_count": 1,
   "metadata": {
    "collapsed": true
   },
   "outputs": [
    {
     "name": "stdout",
     "output_type": "stream",
     "text": [
      "package 'ggplot2' successfully unpacked and MD5 sums checked\n",
      "\n",
      "The downloaded binary packages are in\n",
      "\tC:\\Users\\JARVIS\\AppData\\Local\\Temp\\RtmpWofSzE\\downloaded_packages\n",
      "package 'tidyverse' successfully unpacked and MD5 sums checked\n",
      "\n",
      "The downloaded binary packages are in\n",
      "\tC:\\Users\\JARVIS\\AppData\\Local\\Temp\\RtmpWofSzE\\downloaded_packages\n",
      "package 'glmnet' successfully unpacked and MD5 sums checked\n"
     ]
    },
    {
     "name": "stderr",
     "output_type": "stream",
     "text": [
      "Warning message:\n",
      "\"cannot remove prior installation of package 'glmnet'\"\n",
      "Warning message in file.copy(savedcopy, lib, recursive = TRUE):\n",
      "\"problema al copiar F:\\R\\R-4.1.3\\library\\00LOCK\\glmnet\\libs\\x64\\glmnet.dll  a F:\\R\\R-4.1.3\\library\\glmnet\\libs\\x64\\glmnet.dll: Permission denied\"\n",
      "Warning message:\n",
      "\"restored 'glmnet'\"\n"
     ]
    },
    {
     "name": "stdout",
     "output_type": "stream",
     "text": [
      "\n",
      "The downloaded binary packages are in\n",
      "\tC:\\Users\\JARVIS\\AppData\\Local\\Temp\\RtmpWofSzE\\downloaded_packages\n",
      "package 'lmtest' successfully unpacked and MD5 sums checked\n"
     ]
    },
    {
     "name": "stderr",
     "output_type": "stream",
     "text": [
      "Warning message:\n",
      "\"cannot remove prior installation of package 'lmtest'\"\n",
      "Warning message in file.copy(savedcopy, lib, recursive = TRUE):\n",
      "\"problema al copiar F:\\R\\R-4.1.3\\library\\00LOCK\\lmtest\\libs\\x64\\lmtest.dll  a F:\\R\\R-4.1.3\\library\\lmtest\\libs\\x64\\lmtest.dll: Permission denied\"\n",
      "Warning message:\n",
      "\"restored 'lmtest'\"\n"
     ]
    },
    {
     "name": "stdout",
     "output_type": "stream",
     "text": [
      "\n",
      "The downloaded binary packages are in\n",
      "\tC:\\Users\\JARVIS\\AppData\\Local\\Temp\\RtmpWofSzE\\downloaded_packages\n",
      "package 'sandwich' successfully unpacked and MD5 sums checked\n",
      "\n",
      "The downloaded binary packages are in\n",
      "\tC:\\Users\\JARVIS\\AppData\\Local\\Temp\\RtmpWofSzE\\downloaded_packages\n",
      "package 'coefplot' successfully unpacked and MD5 sums checked\n",
      "\n",
      "The downloaded binary packages are in\n",
      "\tC:\\Users\\JARVIS\\AppData\\Local\\Temp\\RtmpWofSzE\\downloaded_packages\n",
      "package 'collapse' successfully unpacked and MD5 sums checked\n"
     ]
    },
    {
     "name": "stderr",
     "output_type": "stream",
     "text": [
      "Warning message:\n",
      "\"cannot remove prior installation of package 'collapse'\"\n",
      "Warning message in file.copy(savedcopy, lib, recursive = TRUE):\n",
      "\"problema al copiar F:\\R\\R-4.1.3\\library\\00LOCK\\collapse\\libs\\x64\\collapse.dll  a F:\\R\\R-4.1.3\\library\\collapse\\libs\\x64\\collapse.dll: Permission denied\"\n",
      "Warning message:\n",
      "\"restored 'collapse'\"\n"
     ]
    },
    {
     "name": "stdout",
     "output_type": "stream",
     "text": [
      "\n",
      "The downloaded binary packages are in\n",
      "\tC:\\Users\\JARVIS\\AppData\\Local\\Temp\\RtmpWofSzE\\downloaded_packages\n",
      "package 'doBy' successfully unpacked and MD5 sums checked\n",
      "\n",
      "The downloaded binary packages are in\n",
      "\tC:\\Users\\JARVIS\\AppData\\Local\\Temp\\RtmpWofSzE\\downloaded_packages\n"
     ]
    },
    {
     "name": "stderr",
     "output_type": "stream",
     "text": [
      "collapse 1.7.6, see ?`collapse-package` or ?`collapse-documentation`\n",
      "\n",
      "\n",
      "Attaching package: 'collapse'\n",
      "\n",
      "\n",
      "The following object is masked from 'package:stats':\n",
      "\n",
      "    D\n",
      "\n",
      "\n",
      "-- \u001b[1mAttaching packages\u001b[22m ------------------------------------------------------------------------------- tidyverse 1.3.1 --\n",
      "\n",
      "\u001b[32mv\u001b[39m \u001b[34mtibble \u001b[39m 3.1.6     \u001b[32mv\u001b[39m \u001b[34mdplyr  \u001b[39m 1.0.8\n",
      "\u001b[32mv\u001b[39m \u001b[34mtidyr  \u001b[39m 1.2.0     \u001b[32mv\u001b[39m \u001b[34mstringr\u001b[39m 1.4.0\n",
      "\u001b[32mv\u001b[39m \u001b[34mreadr  \u001b[39m 2.1.2     \u001b[32mv\u001b[39m \u001b[34mforcats\u001b[39m 0.5.1\n",
      "\u001b[32mv\u001b[39m \u001b[34mpurrr  \u001b[39m 0.3.4     \n",
      "\n",
      "-- \u001b[1mConflicts\u001b[22m ---------------------------------------------------------------------------------- tidyverse_conflicts() --\n",
      "\u001b[31mx\u001b[39m \u001b[34mdplyr\u001b[39m::\u001b[32mfilter()\u001b[39m   masks \u001b[34mstats\u001b[39m::filter()\n",
      "\u001b[31mx\u001b[39m \u001b[34mdplyr\u001b[39m::\u001b[32mlag()\u001b[39m      masks \u001b[34mstats\u001b[39m::lag()\n",
      "\u001b[31mx\u001b[39m \u001b[34mdplyr\u001b[39m::\u001b[32morder_by()\u001b[39m masks \u001b[34mdoBy\u001b[39m::order_by()\n",
      "\n",
      "\n",
      "Attaching package: 'lubridate'\n",
      "\n",
      "\n",
      "The following object is masked from 'package:collapse':\n",
      "\n",
      "    is.Date\n",
      "\n",
      "\n",
      "The following objects are masked from 'package:base':\n",
      "\n",
      "    date, intersect, setdiff, union\n",
      "\n",
      "\n",
      "Loading required package: Matrix\n",
      "\n",
      "\n",
      "Attaching package: 'Matrix'\n",
      "\n",
      "\n",
      "The following objects are masked from 'package:tidyr':\n",
      "\n",
      "    expand, pack, unpack\n",
      "\n",
      "\n",
      "Loaded glmnet 4.1-3\n",
      "\n",
      "Loading required package: zoo\n",
      "\n",
      "\n",
      "Attaching package: 'zoo'\n",
      "\n",
      "\n",
      "The following object is masked from 'package:collapse':\n",
      "\n",
      "    is.regular\n",
      "\n",
      "\n",
      "The following objects are masked from 'package:base':\n",
      "\n",
      "    as.Date, as.Date.numeric\n",
      "\n",
      "\n",
      "Warning message in readChar(con, 5L, useBytes = TRUE):\n",
      "\"cannot open compressed file 'wage2015_subsample_inference.Rdata', probable reason 'No such file or directory'\"\n"
     ]
    },
    {
     "ename": "ERROR",
     "evalue": "Error in readChar(con, 5L, useBytes = TRUE): no se puede abrir la conexión\n",
     "output_type": "error",
     "traceback": [
      "Error in readChar(con, 5L, useBytes = TRUE): no se puede abrir la conexión\nTraceback:\n",
      "1. load(\"wage2015_subsample_inference.Rdata\")",
      "2. readChar(con, 5L, useBytes = TRUE)"
     ]
    }
   ],
   "source": [
    "install.packages(\"ggplot2\")\n",
    "install.packages(\"tidyverse\")\n",
    "install.packages( \"glmnet\" )\n",
    "install.packages( \"lmtest\" )\n",
    "install.packages( \"sandwich\")\n",
    "install.packages( \"coefplot\")\n",
    "install.packages('collapse')\n",
    "install.packages('doBy')\n",
    "library('doBy')\n",
    "library('collapse')\n",
    "library(\"ggplot2\")\n",
    "library(\"tidyverse\")\n",
    "library(\"lubridate\")\n",
    "library(\"glmnet\")\n",
    "library(\"lmtest\")\n",
    "library(\"sandwich\")"
   ]
  },
  {
   "cell_type": "code",
   "execution_count": 8,
   "metadata": {},
   "outputs": [],
   "source": [
    "#Charge data, transform to dataframe\n",
    "load(\"../../data/wage2015_subsample_inference.Rdata\")\n",
    "df<-as.data.frame(data)"
   ]
  },
  {
   "cell_type": "markdown",
   "metadata": {},
   "source": [
    "### 1. Descriptive Statistics "
   ]
  },
  {
   "cell_type": "code",
   "execution_count": 9,
   "metadata": {},
   "outputs": [
    {
     "data": {
      "text/html": [
       "'Wages have a long tail at the right(extreme values). Looks like a log-Normal distribution'"
      ],
      "text/latex": [
       "'Wages have a long tail at the right(extreme values). Looks like a log-Normal distribution'"
      ],
      "text/markdown": [
       "'Wages have a long tail at the right(extreme values). Looks like a log-Normal distribution'"
      ],
      "text/plain": [
       "[1] \"Wages have a long tail at the right(extreme values). Looks like a log-Normal distribution\""
      ]
     },
     "metadata": {},
     "output_type": "display_data"
    },
    {
     "data": {
      "image/png": "[encoded data removed]",
      "text/plain": [
       "plot without title"
      ]
     },
     "metadata": {
      "image/png": {
       "height": 420,
       "width": 420
      }
     },
     "output_type": "display_data"
    }
   ],
   "source": [
    "'Wages have a long tail at the right(extreme values). Looks like a log-Normal distribution'\n",
    "ggplot(data)+geom_density(aes(.data$wage), fill=\"blue\")+theme_classic()\n"
   ]
  },
  {
   "cell_type": "code",
   "execution_count": 10,
   "metadata": {},
   "outputs": [
    {
     "data": {
      "text/html": [
       "'LogWages have a long tail at the right(extreme values), but it is less notorious.'"
      ],
      "text/latex": [
       "'LogWages have a long tail at the right(extreme values), but it is less notorious.'"
      ],
      "text/markdown": [
       "'LogWages have a long tail at the right(extreme values), but it is less notorious.'"
      ],
      "text/plain": [
       "[1] \"LogWages have a long tail at the right(extreme values), but it is less notorious.\""
      ]
     },
     "metadata": {},
     "output_type": "display_data"
    },
    {
     "data": {
      "image/png": "[encoded data removed]",
      "text/plain": [
       "plot without title"
      ]
     },
     "metadata": {
      "image/png": {
       "height": 420,
       "width": 420
      }
     },
     "output_type": "display_data"
    }
   ],
   "source": [
    "'LogWages have a long tail at the right(extreme values), but it is less notorious.'\n",
    "ggplot(data)+geom_density(aes(.data$lwage), fill=\"blue\")+theme_classic()\n"
   ]
  },
  {
   "cell_type": "code",
   "execution_count": 11,
   "metadata": {},
   "outputs": [
    {
     "data": {
      "text/html": [
       "'The Database has mostly men'"
      ],
      "text/latex": [
       "'The Database has mostly men'"
      ],
      "text/markdown": [
       "'The Database has mostly men'"
      ],
      "text/plain": [
       "[1] \"The Database has mostly men\""
      ]
     },
     "metadata": {},
     "output_type": "display_data"
    },
    {
     "data": {
      "image/png": "[encoded data removed]",
      "text/plain": [
       "plot without title"
      ]
     },
     "metadata": {
      "image/png": {
       "height": 420,
       "width": 420
      }
     },
     "output_type": "display_data"
    }
   ],
   "source": [
    "'The Database has mostly men'\n",
    "ggplot(data,aes(sex))+geom_bar(aes(y=stat(prop),group=1))\n"
   ]
  },
  {
   "cell_type": "code",
   "execution_count": 12,
   "metadata": {},
   "outputs": [
    {
     "data": {
      "text/html": [
       "'The distribution between SHS (Some High School), HSG(High School Graduate), SCL(Some College),\\nCLG(College Graduate) y AD (Advance) is presented in the figure below. The sample is represented mostly by high-school and college graduates'"
      ],
      "text/latex": [
       "'The distribution between SHS (Some High School), HSG(High School Graduate), SCL(Some College),\\textbackslash{}nCLG(College Graduate) y AD (Advance) is presented in the figure below. The sample is represented mostly by high-school and college graduates'"
      ],
      "text/markdown": [
       "'The distribution between SHS (Some High School), HSG(High School Graduate), SCL(Some College),\\nCLG(College Graduate) y AD (Advance) is presented in the figure below. The sample is represented mostly by high-school and college graduates'"
      ],
      "text/plain": [
       "[1] \"The distribution between SHS (Some High School), HSG(High School Graduate), SCL(Some College),\\nCLG(College Graduate) y AD (Advance) is presented in the figure below. The sample is represented mostly by high-school and college graduates\""
      ]
     },
     "metadata": {},
     "output_type": "display_data"
    },
    {
     "data": {
      "image/png": "[encoded data removed]",
      "text/plain": [
       "plot without title"
      ]
     },
     "metadata": {
      "image/png": {
       "height": 420,
       "width": 420
      }
     },
     "output_type": "display_data"
    }
   ],
   "source": [
    "'The distribution between SHS (Some High School), HSG(High School Graduate), SCL(Some College),\n",
    "CLG(College Graduate) y AD (Advance) is presented in the figure below. The sample is represented mostly by high-school and college graduates'\n",
    "educationgraph <- data.frame(name=c(\"shs\",\"hsg\",\"scl\",\"clg\",\"ad\"),value=c(sum(data$shs),sum(data$hsg),sum(data$scl),sum(data$clg),sum(data$ad)))\n",
    "barplot(height=educationgraph$value,names=educationgraph$name)\n"
   ]
  },
  {
   "cell_type": "code",
   "execution_count": 13,
   "metadata": {},
   "outputs": [
    {
     "data": {
      "text/html": [
       "'The distribution of experience has some sort of left bias'"
      ],
      "text/latex": [
       "'The distribution of experience has some sort of left bias'"
      ],
      "text/markdown": [
       "'The distribution of experience has some sort of left bias'"
      ],
      "text/plain": [
       "[1] \"The distribution of experience has some sort of left bias\""
      ]
     },
     "metadata": {},
     "output_type": "display_data"
    },
    {
     "data": {
      "image/png": "[encoded data removed]",
      "text/plain": [
       "plot without title"
      ]
     },
     "metadata": {
      "image/png": {
       "height": 420,
       "width": 420
      }
     },
     "output_type": "display_data"
    }
   ],
   "source": [
    "'The distribution of experience has some sort of left bias'\n",
    "ggplot(data)+geom_density(aes(.data$exp1), fill=\"pink\")+theme_classic()"
   ]
  },
  {
   "cell_type": "markdown",
   "metadata": {},
   "source": [
    "### Plotting Experience - Wages for SCL and CLG"
   ]
  },
  {
   "cell_type": "code",
   "execution_count": 16,
   "metadata": {},
   "outputs": [
    {
     "data": {
      "text/html": [
       "'Filtering base for HSG and CLG'"
      ],
      "text/latex": [
       "'Filtering base for HSG and CLG'"
      ],
      "text/markdown": [
       "'Filtering base for HSG and CLG'"
      ],
      "text/plain": [
       "[1] \"Filtering base for HSG and CLG\""
      ]
     },
     "metadata": {},
     "output_type": "display_data"
    },
    {
     "data": {
      "text/html": [
       "'Regression for replicating the graph of lnwage vs experience'"
      ],
      "text/latex": [
       "'Regression for replicating the graph of lnwage vs experience'"
      ],
      "text/markdown": [
       "'Regression for replicating the graph of lnwage vs experience'"
      ],
      "text/plain": [
       "[1] \"Regression for replicating the graph of lnwage vs experience\""
      ]
     },
     "metadata": {},
     "output_type": "display_data"
    },
    {
     "data": {
      "text/html": [
       "'Merge predicted values to original DB mendf'"
      ],
      "text/latex": [
       "'Merge predicted values to original DB mendf'"
      ],
      "text/markdown": [
       "'Merge predicted values to original DB mendf'"
      ],
      "text/plain": [
       "[1] \"Merge predicted values to original DB mendf\""
      ]
     },
     "metadata": {},
     "output_type": "display_data"
    },
    {
     "data": {
      "text/html": [
       "'Filter mendf by HSG or CLG'"
      ],
      "text/latex": [
       "'Filter mendf by HSG or CLG'"
      ],
      "text/markdown": [
       "'Filter mendf by HSG or CLG'"
      ],
      "text/plain": [
       "[1] \"Filter mendf by HSG or CLG\""
      ]
     },
     "metadata": {},
     "output_type": "display_data"
    },
    {
     "data": {
      "text/html": [
       "'Outliers!! Probably need to clean them'"
      ],
      "text/latex": [
       "'Outliers!! Probably need to clean them'"
      ],
      "text/markdown": [
       "'Outliers!! Probably need to clean them'"
      ],
      "text/plain": [
       "[1] \"Outliers!! Probably need to clean them\""
      ]
     },
     "metadata": {},
     "output_type": "display_data"
    },
    {
     "data": {
      "image/png": "[encoded data removed]",
      "text/plain": [
       "plot without title"
      ]
     },
     "metadata": {
      "image/png": {
       "height": 420,
       "width": 420
      }
     },
     "output_type": "display_data"
    }
   ],
   "source": [
    "'Filtering base for HSG and CLG'\n",
    "mendf <- filter(df,sex==0 & (hsg==1|clg==1))\n",
    "\n",
    "'Regression for replicating the graph of lnwage vs experience'\n",
    "controlreg4 <- lm(mendf$lwage ~ mendf$clg+(mendf$exp1+mendf$exp2+mendf$exp3+mendf$exp4)^4)\n",
    "\n",
    "\n",
    "'Merge predicted values to original DB mendf'\n",
    "lwagepred4 <- as.numeric(controlreg4$fitted.values)\n",
    "mendf$lwagepred4 <- lwagepred4\n",
    "\n",
    "'Filter mendf by HSG or CLG'\n",
    "hsgdf <- filter(mendf, hsg==1)\n",
    "clgdf <- filter(mendf, clg==1)\n",
    "\n",
    "\n",
    "'Outliers!! Probably need to clean them'\n",
    "hsgdf <- hsgdf[!hsgdf$lwage %in% boxplot.stats(hsgdf$lwage)$out, ]\n",
    "clgdf <- clgdf[!clgdf$lwage %in% boxplot.stats(clgdf$lwage)$out, ]\n",
    "\n",
    "\n",
    "ggplot(data = clgdf, aes(x = exp1),xlim=c(1,5),axis(1, at = 1:15)) + \n",
    "  geom_smooth(aes(y = lwage, colour = \"Actual CLG\"), \n",
    "              fill=\"blue\",size=1,se=FALSE,method='loess',formula = 'y ~ x^4') + \n",
    "  geom_smooth(aes(y = lwagepred4, colour = \"Fitted CLG\"), \n",
    "              fill=\"black\",size=1,se=FALSE,linetype = \"dashed\",method='loess',formula = 'y ~ x^4') + \n",
    "  geom_smooth(data=hsgdf,aes(y = lwage, colour = \"Actual HSG\"), \n",
    "              fill=\"blue\",size=1,se=FALSE,method='loess',formula = 'y ~ x^4') + \n",
    "  geom_smooth(data=hsgdf,aes(y = lwagepred4, colour = \"Fitted HSG\"), \n",
    "              fill=\"green\",size=1,se=FALSE,linetype = \"dashed\",method='loess',formula = 'y ~ x^4')+scale_color_manual(name=\"Legend\",values = c(scales::hue_pal()(3), \"black\"))\n",
    "\n"
   ]
  },
  {
   "cell_type": "markdown",
   "metadata": {},
   "source": [
    "### Plot Interval confidence of sexs coefficient for different model (basic, control and partialling out)"
   ]
  },
  {
   "cell_type": "code",
   "execution_count": 25,
   "metadata": {},
   "outputs": [
    {
     "data": {
      "text/html": [
       "'1. Basic Regression'"
      ],
      "text/latex": [
       "'1. Basic Regression'"
      ],
      "text/markdown": [
       "'1. Basic Regression'"
      ],
      "text/plain": [
       "[1] \"1. Basic Regression\""
      ]
     },
     "metadata": {},
     "output_type": "display_data"
    },
    {
     "name": "stdout",
     "output_type": "stream",
     "text": [
      "The estimated gender coefficient is -0.03834473  and the corresponding robust standard error is 0.01590824"
     ]
    },
    {
     "data": {
      "text/html": [
       "<style>\n",
       ".dl-inline {width: auto; margin:0; padding: 0}\n",
       ".dl-inline>dt, .dl-inline>dd {float: none; width: auto; display: inline-block}\n",
       ".dl-inline>dt::after {content: \":\\0020\"; padding-right: .5ex}\n",
       ".dl-inline>dt:not(:first-of-type) {padding-left: .5ex}\n",
       "</style><dl class=dl-inline><dt>2.5 %</dt><dd>-0.0696876650028262</dd><dt>97.5 %</dt><dd>-0.00700180234600837</dd></dl>\n"
      ],
      "text/latex": [
       "\\begin{description*}\n",
       "\\item[2.5 \\textbackslash{}\\%] -0.0696876650028262\n",
       "\\item[97.5 \\textbackslash{}\\%] -0.00700180234600837\n",
       "\\end{description*}\n"
      ],
      "text/markdown": [
       "2.5 %\n",
       ":   -0.069687665002826297.5 %\n",
       ":   -0.00700180234600837\n",
       "\n"
      ],
      "text/plain": [
       "       2.5 %       97.5 % \n",
       "-0.069687665 -0.007001802 "
      ]
     },
     "metadata": {},
     "output_type": "display_data"
    }
   ],
   "source": [
    "'1. Basic Regression'\n",
    "basicreg.fit <- lm(df$lwage ~ df$sex)\n",
    "basicreg.est <- summary(basicreg.fit)$coef[\"df$sex\",1]\n",
    "HCV.coefs <- vcovHC(basicreg.fit, type = 'HC3');\n",
    "basicreg.se <- sqrt(diag(HCV.coefs))[2] # Estimated standard errors\n",
    "\n",
    "cat (\"The estimated gender coefficient is\",basicreg.est,\" and the corresponding robust standard error is\",basicreg.se)\n",
    "confint(basicreg.fit)[2,]\n",
    "CI1upper <-confint(basicreg.fit)[2,2]\n",
    "CI1low <-confint(basicreg.fit)[2,1]\n"
   ]
  },
  {
   "cell_type": "code",
   "execution_count": 26,
   "metadata": {},
   "outputs": [
    {
     "data": {
      "text/html": [
       "'2. Control Regression'"
      ],
      "text/latex": [
       "'2. Control Regression'"
      ],
      "text/markdown": [
       "'2. Control Regression'"
      ],
      "text/plain": [
       "[1] \"2. Control Regression\""
      ]
     },
     "metadata": {},
     "output_type": "display_data"
    },
    {
     "name": "stdout",
     "output_type": "stream",
     "text": [
      "Coefficient for OLS with controls -0.0695532The estimated gender coefficient for the control regression is -0.0695532  and the corresponding robust standard error is 0.0156992"
     ]
    }
   ],
   "source": [
    "'2. Control Regression'\n",
    "controlreg <- lwage ~ sex + (exp1+exp2+exp3+exp4)*(shs+hsg+scl+clg+occ2+ind2+mw+so+we)\n",
    "controlreg.fit <- lm(controlreg, data=df)\n",
    "controlreg.est <- summary(controlreg.fit)$coef[2,1]\n",
    "\n",
    "cat(\"Coefficient for OLS with controls\", controlreg.est)\n",
    "\n",
    "HCV.coefs <- vcovHC(controlreg.fit, type = 'HC3');\n",
    "controlreg.se <- sqrt(diag(HCV.coefs))[2] # Estimated std errors\n",
    "\n",
    "cat(\"The estimated gender coefficient for the control regression is\",controlreg.est, \" and the corresponding robust standard error is\", controlreg.se)\n",
    "CI2upper <-confint(controlreg.fit)[2,2]\n",
    "CI2low <-confint(controlreg.fit)[2,1]\n"
   ]
  },
  {
   "cell_type": "code",
   "execution_count": 27,
   "metadata": {},
   "outputs": [
    {
     "data": {
      "text/html": [
       "'3. Control Regression with partialling out'"
      ],
      "text/latex": [
       "'3. Control Regression with partialling out'"
      ],
      "text/markdown": [
       "'3. Control Regression with partialling out'"
      ],
      "text/plain": [
       "[1] \"3. Control Regression with partialling out\""
      ]
     },
     "metadata": {},
     "output_type": "display_data"
    },
    {
     "name": "stdout",
     "output_type": "stream",
     "text": [
      "Coefficient for D via partialling-out -0.0695532"
     ]
    },
    {
     "data": {
      "text/html": [
       "'confidence interval'"
      ],
      "text/latex": [
       "'confidence interval'"
      ],
      "text/markdown": [
       "'confidence interval'"
      ],
      "text/plain": [
       "[1] \"confidence interval\""
      ]
     },
     "metadata": {},
     "output_type": "display_data"
    },
    {
     "data": {
      "text/html": [
       "<style>\n",
       ".dl-inline {width: auto; margin:0; padding: 0}\n",
       ".dl-inline>dt, .dl-inline>dd {float: none; width: auto; display: inline-block}\n",
       ".dl-inline>dt::after {content: \":\\0020\"; padding-right: .5ex}\n",
       ".dl-inline>dt:not(:first-of-type) {padding-left: .5ex}\n",
       "</style><dl class=dl-inline><dt>2.5 %</dt><dd>-0.0986685945470766</dd><dt>97.5 %</dt><dd>-0.0404378120466168</dd></dl>\n"
      ],
      "text/latex": [
       "\\begin{description*}\n",
       "\\item[2.5 \\textbackslash{}\\%] -0.0986685945470766\n",
       "\\item[97.5 \\textbackslash{}\\%] -0.0404378120466168\n",
       "\\end{description*}\n"
      ],
      "text/markdown": [
       "2.5 %\n",
       ":   -0.098668594547076697.5 %\n",
       ":   -0.0404378120466168\n",
       "\n"
      ],
      "text/plain": [
       "      2.5 %      97.5 % \n",
       "-0.09866859 -0.04043781 "
      ]
     },
     "metadata": {},
     "output_type": "display_data"
    }
   ],
   "source": [
    "'3. Control Regression with partialling out'\n",
    "temp1 <- lwage ~ (exp1+exp2+exp3+exp4)*(shs+hsg+scl+clg+occ2+ind2+mw+so+we)\n",
    "temp2 <- sex ~ (exp1+exp2+exp3+exp4)*(shs+hsg+scl+clg+occ2+ind2+mw+so+we)\n",
    "resy <- lm(temp1,data=df)$res\n",
    "resd <- lm(temp2,data=df)$res\n",
    "control2reg <- lm(resy ~ resd -1)\n",
    "control2reg.est <-summary(control2reg)$coef[1,1]\n",
    "cat(\"Coefficient for D via partialling-out\",control2reg.est)\n",
    "\n",
    "HCV.coefs <- vcovHC(control2reg, type = 'HC3')\n",
    "partial.se <- sqrt(diag(HCV.coefs))[1]\n",
    "\n",
    "'confidence interval'\n",
    "confint(control2reg)[1,]\n",
    "CI3upper <-confint(control2reg)[1,2]\n",
    "CI3low <-confint(control2reg)[1,1]\n",
    "\n"
   ]
  },
  {
   "cell_type": "code",
   "execution_count": 28,
   "metadata": {
    "scrolled": true
   },
   "outputs": [
    {
     "data": {
      "text/html": [
       "'Plotting confidence intervals'"
      ],
      "text/latex": [
       "'Plotting confidence intervals'"
      ],
      "text/markdown": [
       "'Plotting confidence intervals'"
      ],
      "text/plain": [
       "[1] \"Plotting confidence intervals\""
      ]
     },
     "metadata": {},
     "output_type": "display_data"
    }
   ],
   "source": [
    "'Plotting confidence intervals'\n",
    "CIdf <- data.frame(x = c('Basic','Control','Partialling Out'),\n",
    "                         y = c(basicreg.est,controlreg.est,control2reg.est),\n",
    "                         lower = c(CI1low,CI2low,CI3low),\n",
    "                         upper = c(CI1upper,CI2upper,CI3upper))\n"
   ]
  },
  {
   "cell_type": "code",
   "execution_count": 29,
   "metadata": {},
   "outputs": [
    {
     "data": {
      "image/png": "[encoded data removed]",
      "text/plain": [
       "plot without title"
      ]
     },
     "metadata": {
      "image/png": {
       "height": 420,
       "width": 420
      }
     },
     "output_type": "display_data"
    }
   ],
   "source": [
    "ggplot(CIdf, aes(x, y)) +        # ggplot2 plot with confidence intervals\n",
    "  geom_point() +\n",
    "  geom_errorbar(aes(ymin = lower, ymax = upper))\n"
   ]
  },
  {
   "cell_type": "markdown",
   "metadata": {},
   "source": [
    "## Item 6: Proof of the Frisch-Waugh-Lovell Theorem"
   ]
  },
  {
   "cell_type": "markdown",
   "metadata": {},
   "source": [
    "Let the following equation\n",
    "\n",
    "$$\\overset{nx1}y=\\overset{nxk_1}D \\overset{k_1x1}\\beta_1 + \\overset{nxk_2}W \\overset{k_2x1}\\beta_2+\\overset{nx1}\\mu$$\n",
    "\n",
    "Where $y$ is the vector of dependent variables, $D$ is a matrix of regresors (in this particular case, it will represent the variable \"sex\") , $\\beta_1$ is the coefficient vector asocciated to D, W is the matrix of all other dependent variables, $\\beta_2$ the coefficient vector asocciated to W, and $\\mu$ the vector of innovations.\n",
    "\n",
    "The Frisch-Waugh-Lovell Theorem states that we can obtain $\\beta_1$ through the alternative regression:\n",
    "\n",
    "$$\\epsilon^y = \\epsilon^D \\psi+\\xi $$\n",
    "\n",
    "\n"
   ]
  },
  {
   "cell_type": "markdown",
   "metadata": {},
   "source": [
    "### 1. First Step"
   ]
  },
  {
   "cell_type": "markdown",
   "metadata": {},
   "source": [
    "First, we need to regress\n",
    "\n",
    "$$y=W \\alpha_1 +\\epsilon^y  $$\n",
    "\n",
    "The resulting estimated coefficient vector is:\n",
    "\n",
    "$$\\widehat{\\alpha_1} = (W^{'}W)^{-1}W^{'}y$$\n",
    "\n",
    "Thus, the estimated error vector:\n",
    "\n",
    "$$\\widehat{\\epsilon^y } = y-W(W^{'}W)^{-1}W^{'}y = \\left[I - W(W^{'}W)^{-1}W^{'}\\right]y$$\n",
    "\n",
    "Now, defining $ M = \\left[I - W(W^{'}W)^{-1}W^{'}\\right]$, and rewriting last expression:\n",
    "\n",
    "$$\\widehat{\\epsilon^y } = My$$"
   ]
  },
  {
   "cell_type": "markdown",
   "metadata": {},
   "source": [
    "### 2. Second Step"
   ]
  },
  {
   "cell_type": "markdown",
   "metadata": {},
   "source": [
    "Now lets regress\n",
    "\n",
    "$$D = W \\gamma_1 + \\epsilon^D $$\n",
    "\n",
    "The resulting estimated coefficient vector is:\n",
    "\n",
    "$$\\widehat{\\gamma_1} = (W^{'}W)^{-1}W^{'}D$$\n",
    "\n",
    "Thus, the estimated error vector:\n",
    "\n",
    "$$\\widehat{\\epsilon^D} = D-W(W^{'}W)^{-1}W^{'}D = \\left[I - W(W^{'}W)^{-1}W^{'}\\right]D$$\n",
    "\n",
    "$$\\widehat{\\epsilon^D} = MD$$"
   ]
  },
  {
   "cell_type": "markdown",
   "metadata": {},
   "source": [
    "### 3. Thrid Step"
   ]
  },
  {
   "cell_type": "markdown",
   "metadata": {},
   "source": [
    "Finally, we need to regress\n",
    "\n",
    "$$\\widehat{\\epsilon^y} = \\widehat{\\epsilon^D}\\psi + \\xi$$\n",
    "\n",
    "The estimated coefficient (in this case, $\\psi$ is a scalar) is:\n",
    "\n",
    "$$\\widehat{\\psi} = \\left(\\widehat{\\epsilon^D}^{'}\\widehat{\\epsilon^D}\\right)^{-1}\\widehat{\\epsilon^D}^{'}\\widehat{\\epsilon^y}$$\n",
    "\n",
    "$$\\widehat{\\psi} = \\left(D'M'MD\\right)^{-1}D'M'My$$\n",
    "\n",
    "Notice that\n",
    "\n",
    "$$M'M = \\left[I - W(W^{'}W)^{-1}W^{'}\\right]\\left[I - W(W^{'}W)^{-1}W^{'}\\right]$$\n",
    "$$M'M = I - W(W^{'}W)^{-1}W^{'} - W(W^{'}W)^{-1}W^{'} + W(W^{'}W)^{-1}W^{'}W(W^{'}W)^{-1}W^{'}$$\n",
    "$$M'M = I - W(W^{'}W)^{-1}W^{'} = M $$\n",
    "\n",
    "Then\n",
    "\n",
    "$$\\widehat{\\psi} = \\left(D'MD\\right)^{-1}D'My$$"
   ]
  },
  {
   "cell_type": "markdown",
   "metadata": {},
   "source": [
    "- Is $\\psi$ the same as $\\beta_1$? \n",
    "\n",
    "To prove this, we will make us of partial regressions."
   ]
  },
  {
   "cell_type": "markdown",
   "metadata": {},
   "source": [
    "Given the initial model:\n",
    "\n",
    "$$y=D \\beta_1 + W \\beta_2+\\mu$$"
   ]
  },
  {
   "cell_type": "markdown",
   "metadata": {},
   "source": [
    "$$y = \\begin{array}{ccc}\n",
    "[D & \\vdots & W]\\end{array}\\left[\\begin{array}{c}\n",
    "\\beta_{1}\\\\\n",
    "\\cdots\\\\\n",
    "\\beta_{2}\n",
    "\\end{array}\\right]+\\mu$$\n",
    "\n",
    "The estimated coefficients are given by the vector $\\widehat\\beta$:\n",
    "\n",
    "$$\\widehat{\\beta} = (\\begin{array}{ccc}\n",
    "[D & \\vdots & W]'\\end{array}\\begin{array}{ccc}\n",
    "[D & \\vdots & W]\\end{array})^{-1}\\begin{array}{ccc}\n",
    "[D & \\vdots & W]'\\end{array}y$$ \n",
    "\n",
    "$$\\widehat{\\beta} = \\left(\\left[\\begin{array}{c}\n",
    "D'\\\\\n",
    "\\cdots\\\\\n",
    "W'\n",
    "\\end{array}\\right]\\begin{array}{ccc}\n",
    "[D & \\vdots & W]\\end{array}\\right)^{-1}\\left[\\begin{array}{c}\n",
    "D'\\\\\n",
    "\\cdots\\\\\n",
    "W'\n",
    "\\end{array}\\right]y$$\n",
    "\n",
    "We can transform the last expression to a system of equations:\n",
    "\n",
    "$$\\widehat{\\beta} = \\left[\\begin{array}{c}\n",
    "\\widehat{\\beta_{1}}\\\\\n",
    "\\cdots\\\\\n",
    "\\widehat{\\beta_{2}}\n",
    "\\end{array}\\right] = \\left(\\begin{array}{ccc}\n",
    "D'D & \\vdots & D'W\\\\\n",
    "\\cdots &  & \\cdots\\\\\n",
    "W'D & \\vdots & W'W\n",
    "\\end{array}\\right)^{-1}\\left[\\begin{array}{c}\n",
    "D'y\\\\\n",
    "\\cdots\\\\\n",
    "W'y\n",
    "\\end{array}\\right]$$\n",
    "\n",
    "$$\\left(\\begin{array}{ccc}\n",
    "D'D & \\vdots & D'W\\\\\n",
    "\\cdots &  & \\cdots\\\\\n",
    "W'D & \\vdots & W'W\n",
    "\\end{array}\\right)\\left[\\begin{array}{c}\n",
    "\\widehat{\\beta_{1}}\\\\\n",
    "\\cdots\\\\\n",
    "\\widehat{\\beta_{2}}\n",
    "\\end{array}\\right] = \\left[\\begin{array}{c}\n",
    "D'y\\\\\n",
    "\\cdots\\\\\n",
    "W'y\n",
    "\\end{array}\\right]$$\n",
    "\n",
    "$$D'D\\widehat{\\beta_{1}}+D'W\\widehat{\\beta_{2}}=D'y$$\n",
    "\n",
    "$$W'D\\widehat{\\beta_{1}}+W'W\\widehat{\\beta_{2}}=W'y$$\n",
    "\n",
    "To make the problem easier to solve, consider the following substitutions:\n",
    "\n",
    "$$A\\widehat{\\beta_{1}}+B\\widehat{\\beta_{2}}=C$$\n",
    "\n",
    "$$X\\widehat{\\beta_{1}}+Y\\widehat{\\beta_{2}}=Z$$\n",
    "\n",
    "Then:\n",
    "\n",
    "$$\\widehat{\\beta_{2}}=Y^{-1}(Z-X\\widehat{\\beta_{1}})$$\n",
    "\n",
    "$$A\\widehat{\\beta_{1}}+BY^{-1}(Z-X\\widehat{\\beta_{1}})=C$$\n",
    "\n",
    "$$A\\widehat{\\beta_{1}}+BY^{-1}Z-BY^{-1}X\\widehat{\\beta_{1}}=C$$\n",
    "\n",
    "$$(A-BY^{-1}X)\\widehat{\\beta_{1}}=C-BY^{-1}Z$$\n",
    "\n",
    "Finally, replacing terms:\n",
    "\n",
    "$$(D'D-D'W(W'W)^{-1}W'D)\\widehat{\\beta_{1}}=D'y-D'W(W'W)^{-1}W'y$$\n",
    "\n",
    "$$D'(I-W(W'W)^{-1}W')D\\widehat{\\beta_{1}}=D'(I-W(W'W)^{-1}W')y$$\n",
    "\n",
    "Recall that $M =\\left[I - W(W^{'}W)^{-1}W^{'}\\right]$. Then:\n",
    "\n",
    "$$D'MD\\widehat{\\beta_{1}}=D'My$$\n",
    "\n",
    "$$\\widehat{\\beta_{1}}=(D'MD)^{-1}D'My$$"
   ]
  },
  {
   "cell_type": "code",
   "execution_count": null,
   "metadata": {},
   "outputs": [],
   "source": []
  },
  {
   "cell_type": "code",
   "execution_count": null,
   "metadata": {},
   "outputs": [],
   "source": []
  },
  {
   "cell_type": "code",
   "execution_count": null,
   "metadata": {},
   "outputs": [],
   "source": []
  },
  {
   "cell_type": "code",
   "execution_count": null,
   "metadata": {},
   "outputs": [],
   "source": []
  },
  {
   "cell_type": "code",
   "execution_count": null,
   "metadata": {},
   "outputs": [],
   "source": []
  }
 ],
 "metadata": {
  "kernelspec": {
   "display_name": "R",
   "language": "R",
   "name": "ir"
  },
  "language_info": {
   "codemirror_mode": "r",
   "file_extension": ".r",
   "mimetype": "text/x-r-source",
   "name": "R",
   "pygments_lexer": "r",
   "version": "4.1.3"
  }
 },
 "nbformat": 4,
 "nbformat_minor": 4
}
