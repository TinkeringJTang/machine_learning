{
 "cells": [
  {
   "cell_type": "markdown",
   "metadata": {},
   "source": [
    "# <span style=\"color:blue\">Good and bad controls</span>"
   ]
  },
  {
   "cell_type": "markdown",
   "metadata": {},
   "source": [
    "- Juan José Tang\n",
    "- Ursula Cotrina\n",
    "- Victoria Olivera"
   ]
  },
  {
   "cell_type": "code",
   "execution_count": null,
   "metadata": {},
   "outputs": [],
   "source": [
    "# using Pkg\n",
    "# Pkg.add(\"StatsPlots\")\n",
    "# Pkg.add(\"GraphRecipes\")\n",
    "# Pkg.add(\"Gadfly\")\n",
    "# Pkg.add(\"Conda\")\n",
    "# Pkg.add(\"Random\")\n",
    "# Pkg.add(\"DataTables\")\n",
    "# Pkg.add(\"TypedTables\")\n",
    "# Pkg.add(\"MacroTools\")\n",
    "# Pkg.add(\"TexTables\")\n",
    "# Pkg.add(\"PlotlyJS\")\n",
    "# Pkg.add(\"Images\")\n",
    "# Pkg.add(\"FileIO\")\n",
    "# Pkg.add(\"ClinicalTrialUtilities\")\n",
    "# Pkg.add(\"KernelDensity\")\n",
    "# Conda.pip_interop(true)\n",
    "# Conda.pip(\"install\", \"webio_jupyter_extension\")"
   ]
  },
  {
   "cell_type": "code",
   "execution_count": 1,
   "metadata": {},
   "outputs": [],
   "source": [
    "using Pkg\n",
    "# using Random\n",
    "# using GLM, StatsModels\n",
    "# using DataTables\n",
    "# using DelimitedFiles, DataFrames, Lasso\n",
    "# using FilePaths\n",
    "# using StatsModels, Combinatorics\n",
    "# using CategoricalArrays\n",
    "# using StatsBase, Statistics\n",
    "# using TypedTables\n",
    "# using MacroTools\n",
    "# using NamedArrays\n",
    "# using PrettyTables # Dataframe or Datatable to latex\n",
    "# using TexTables # pretty regression table and tex outcome\n",
    "# using Conda\n",
    "# using Images, FileIO\n",
    "# using ClinicalTrialUtilities\n",
    "# using PlotlyJS\n",
    "# using KernelDensity"
   ]
  },
  {
   "cell_type": "code",
   "execution_count": 19,
   "metadata": {},
   "outputs": [],
   "source": [
    "import Pkg"
   ]
  },
  {
   "cell_type": "code",
   "execution_count": 26,
   "metadata": {},
   "outputs": [
    {
     "name": "stderr",
     "output_type": "stream",
     "text": [
      "\u001b[32m\u001b[1m   Resolving\u001b[22m\u001b[39m package versions...\n",
      "\u001b[32m\u001b[1m   Installed\u001b[22m\u001b[39m PyPlot ─ v2.10.0\n",
      "\u001b[32m\u001b[1m    Updating\u001b[22m\u001b[39m `C:\\Users\\Pelusa\\.julia\\environments\\v1.7\\Project.toml`\n",
      " \u001b[90m [d330b81b] \u001b[39m\u001b[92m+ PyPlot v2.10.0\u001b[39m\n",
      "\u001b[32m\u001b[1m    Updating\u001b[22m\u001b[39m `C:\\Users\\Pelusa\\.julia\\environments\\v1.7\\Manifest.toml`\n",
      " \u001b[90m [d330b81b] \u001b[39m\u001b[92m+ PyPlot v2.10.0\u001b[39m\n",
      "\u001b[32m\u001b[1mPrecompiling\u001b[22m\u001b[39m project...\n",
      "\u001b[32m  ✓ \u001b[39mPyPlot\n",
      "  1 dependency successfully precompiled in 4 seconds (296 already precompiled)\n"
     ]
    }
   ],
   "source": [
    "#Pkg.add(\"PlotlyJS\")\n",
    "#Pkg.add(\"RegressionTables\")\n",
    "#Pkg.add(\"StructuralCausalModels\")\n",
    "#Pkg.add(\"CausalInference\")\n",
    "#Pkg.add(\"LightGraphs\")\n",
    "#Pkg.add(\"Graphs\")\n",
    "#Pkg.add(\"TikzGraphs\")\n",
    "#Pkg.add(\"TikzPictures\")\n",
    "#import Pkg; Pkg.add(\"AbstractValGraph\") #esto no funciona\n",
    "#Pkg.add(\"GraphPlot\")\n",
    "#Pkg.add(\"GraphRecipes\")\n",
    "#Pkg.add(\"PyPlot\")"
   ]
  },
  {
   "cell_type": "code",
   "execution_count": 7,
   "metadata": {},
   "outputs": [
    {
     "data": {
      "application/vnd.webio.node+json": {
       "children": [],
       "instanceArgs": {
        "namespace": "html",
        "tag": "div"
       },
       "nodeType": "DOM",
       "props": {},
       "type": "node"
      },
      "text/html": [
       "<div style=\"padding: 1em; background-color: #f8d6da; border: 1px solid #f5c6cb; font-weight: bold;\">\n",
       "<p>The WebIO Jupyter extension was not detected. See the\n",
       "<a href=\"https://juliagizmos.github.io/WebIO.jl/latest/providers/ijulia/\" target=\"_blank\">\n",
       "    WebIO Jupyter integration documentation\n",
       "</a>\n",
       "for more information.\n",
       "</div>\n"
      ],
      "text/plain": [
       "WebIO._IJuliaInit()"
      ]
     },
     "metadata": {},
     "output_type": "display_data"
    }
   ],
   "source": [
    "using Random\n",
    "using DataFrames\n",
    "#using PlotlyJS"
   ]
  },
  {
   "cell_type": "code",
   "execution_count": 21,
   "metadata": {},
   "outputs": [],
   "source": [
    "using CausalInference\n",
    "using TikzGraphs\n",
    "using TikzPictures\n",
    "using Graphs\n",
    "using GraphPlot"
   ]
  },
  {
   "cell_type": "code",
   "execution_count": 24,
   "metadata": {},
   "outputs": [
    {
     "name": "stderr",
     "output_type": "stream",
     "text": [
      "WARNING: using LightGraphs.edges in module Main conflicts with an existing identifier.\n",
      "WARNING: using LightGraphs.has_edge in module Main conflicts with an existing identifier.\n",
      "WARNING: using LightGraphs.DiGraph in module Main conflicts with an existing identifier.\n",
      "WARNING: using LightGraphs.nv in module Main conflicts with an existing identifier.\n"
     ]
    }
   ],
   "source": [
    "using GraphRecipes\n",
    "using Plots\n",
    "using LightGraphs"
   ]
  },
  {
   "cell_type": "markdown",
   "metadata": {},
   "source": [
    "## Model 1"
   ]
  },
  {
   "cell_type": "code",
   "execution_count": 69,
   "metadata": {},
   "outputs": [
    {
     "data": {
      "image/png": "[encoded data removed]"
     },
     "execution_count": 69,
     "metadata": {},
     "output_type": "execute_result"
    }
   ],
   "source": [
    "using GraphRecipes, Plots\n",
    "g = [0 1 1;\n",
    "     0 0 1;\n",
    "     0 0 0]\n",
    "\n",
    "graphplot(g, names=[\"Z\",\"X\",\"Y\"], curvature_scalar=0, nodesize=0.2, nodeshape=:circle, nodecolor = [colorant\"red\",colorant\"lightblue\",colorant\"lightblue\"])"
   ]
  },
  {
   "cell_type": "code",
   "execution_count": 3,
   "metadata": {},
   "outputs": [],
   "source": [
    "\n",
    "using Distributions, DataFrames, GLM, StatsModels, LinearAlgebra, GLM, Statistics, Random, RegressionTables, Plots"
   ]
  },
  {
   "cell_type": "code",
   "execution_count": 5,
   "metadata": {},
   "outputs": [
    {
     "data": {
      "text/html": [
       "<div class=\"data-frame\"><p>1,000 rows × 3 columns</p><table class=\"data-frame\"><thead><tr><th></th><th>Z</th><th>X</th><th>Y</th></tr><tr><th></th><th title=\"Float64\">Float64</th><th title=\"Float64\">Float64</th><th title=\"Float64\">Float64</th></tr></thead><tbody><tr><th>1</th><td>-0.645731</td><td>-0.0541318</td><td>-0.341112</td></tr><tr><th>2</th><td>-1.46325</td><td>-1.40056</td><td>-6.9272</td></tr><tr><th>3</th><td>-1.6236</td><td>-1.58863</td><td>-8.26582</td></tr><tr><th>4</th><td>-0.217665</td><td>-0.368401</td><td>-0.649745</td></tr><tr><th>5</th><td>0.492246</td><td>-1.55051</td><td>-2.59495</td></tr><tr><th>6</th><td>0.98098</td><td>-1.01321</td><td>-1.30883</td></tr><tr><th>7</th><td>0.0799568</td><td>-0.383582</td><td>-0.927791</td></tr><tr><th>8</th><td>1.54912</td><td>0.189898</td><td>2.78672</td></tr><tr><th>9</th><td>-1.34161</td><td>-1.86768</td><td>-7.46473</td></tr><tr><th>10</th><td>0.412162</td><td>0.612625</td><td>2.37414</td></tr><tr><th>11</th><td>0.593197</td><td>-0.834007</td><td>-1.70909</td></tr><tr><th>12</th><td>-0.768409</td><td>-0.592274</td><td>-4.8042</td></tr><tr><th>13</th><td>-0.0761679</td><td>-0.004133</td><td>-0.531835</td></tr><tr><th>14</th><td>-0.654901</td><td>-0.833805</td><td>-2.51285</td></tr><tr><th>15</th><td>0.68706</td><td>0.798954</td><td>4.33691</td></tr><tr><th>16</th><td>-0.119465</td><td>0.88727</td><td>0.179572</td></tr><tr><th>17</th><td>0.206075</td><td>-1.34135</td><td>-3.90909</td></tr><tr><th>18</th><td>-1.01901</td><td>-1.78801</td><td>-9.43556</td></tr><tr><th>19</th><td>0.505311</td><td>1.39235</td><td>4.04001</td></tr><tr><th>20</th><td>-0.538298</td><td>-1.15802</td><td>-2.2083</td></tr><tr><th>21</th><td>0.261401</td><td>0.351556</td><td>1.99306</td></tr><tr><th>22</th><td>-1.312</td><td>-0.40769</td><td>-3.40155</td></tr><tr><th>23</th><td>-1.27544</td><td>0.304271</td><td>-3.36028</td></tr><tr><th>24</th><td>0.388407</td><td>-2.07881</td><td>-5.24423</td></tr><tr><th>25</th><td>0.109018</td><td>0.638899</td><td>-0.20977</td></tr><tr><th>26</th><td>0.273589</td><td>0.347149</td><td>2.2518</td></tr><tr><th>27</th><td>0.0570974</td><td>-0.313579</td><td>-1.52964</td></tr><tr><th>28</th><td>0.39915</td><td>-0.943163</td><td>-1.9529</td></tr><tr><th>29</th><td>-0.155651</td><td>2.01216</td><td>5.53419</td></tr><tr><th>30</th><td>1.79233</td><td>-0.234611</td><td>4.11985</td></tr><tr><th>&vellip;</th><td>&vellip;</td><td>&vellip;</td><td>&vellip;</td></tr></tbody></table></div>"
      ],
      "text/latex": [
       "\\begin{tabular}{r|ccc}\n",
       "\t& Z & X & Y\\\\\n",
       "\t\\hline\n",
       "\t& Float64 & Float64 & Float64\\\\\n",
       "\t\\hline\n",
       "\t1 & -0.645731 & -0.0541318 & -0.341112 \\\\\n",
       "\t2 & -1.46325 & -1.40056 & -6.9272 \\\\\n",
       "\t3 & -1.6236 & -1.58863 & -8.26582 \\\\\n",
       "\t4 & -0.217665 & -0.368401 & -0.649745 \\\\\n",
       "\t5 & 0.492246 & -1.55051 & -2.59495 \\\\\n",
       "\t6 & 0.98098 & -1.01321 & -1.30883 \\\\\n",
       "\t7 & 0.0799568 & -0.383582 & -0.927791 \\\\\n",
       "\t8 & 1.54912 & 0.189898 & 2.78672 \\\\\n",
       "\t9 & -1.34161 & -1.86768 & -7.46473 \\\\\n",
       "\t10 & 0.412162 & 0.612625 & 2.37414 \\\\\n",
       "\t11 & 0.593197 & -0.834007 & -1.70909 \\\\\n",
       "\t12 & -0.768409 & -0.592274 & -4.8042 \\\\\n",
       "\t13 & -0.0761679 & -0.004133 & -0.531835 \\\\\n",
       "\t14 & -0.654901 & -0.833805 & -2.51285 \\\\\n",
       "\t15 & 0.68706 & 0.798954 & 4.33691 \\\\\n",
       "\t16 & -0.119465 & 0.88727 & 0.179572 \\\\\n",
       "\t17 & 0.206075 & -1.34135 & -3.90909 \\\\\n",
       "\t18 & -1.01901 & -1.78801 & -9.43556 \\\\\n",
       "\t19 & 0.505311 & 1.39235 & 4.04001 \\\\\n",
       "\t20 & -0.538298 & -1.15802 & -2.2083 \\\\\n",
       "\t21 & 0.261401 & 0.351556 & 1.99306 \\\\\n",
       "\t22 & -1.312 & -0.40769 & -3.40155 \\\\\n",
       "\t23 & -1.27544 & 0.304271 & -3.36028 \\\\\n",
       "\t24 & 0.388407 & -2.07881 & -5.24423 \\\\\n",
       "\t25 & 0.109018 & 0.638899 & -0.20977 \\\\\n",
       "\t26 & 0.273589 & 0.347149 & 2.2518 \\\\\n",
       "\t27 & 0.0570974 & -0.313579 & -1.52964 \\\\\n",
       "\t28 & 0.39915 & -0.943163 & -1.9529 \\\\\n",
       "\t29 & -0.155651 & 2.01216 & 5.53419 \\\\\n",
       "\t30 & 1.79233 & -0.234611 & 4.11985 \\\\\n",
       "\t$\\dots$ & $\\dots$ & $\\dots$ & $\\dots$ \\\\\n",
       "\\end{tabular}\n"
      ],
      "text/plain": [
       "\u001b[1m1000×3 DataFrame\u001b[0m\n",
       "\u001b[1m  Row \u001b[0m│\u001b[1m Z          \u001b[0m\u001b[1m X          \u001b[0m\u001b[1m Y         \u001b[0m\n",
       "\u001b[1m      \u001b[0m│\u001b[90m Float64    \u001b[0m\u001b[90m Float64    \u001b[0m\u001b[90m Float64   \u001b[0m\n",
       "──────┼───────────────────────────────────\n",
       "    1 │ -0.645731   -0.0541318  -0.341112\n",
       "    2 │ -1.46325    -1.40056    -6.9272\n",
       "    3 │ -1.6236     -1.58863    -8.26582\n",
       "    4 │ -0.217665   -0.368401   -0.649745\n",
       "    5 │  0.492246   -1.55051    -2.59495\n",
       "    6 │  0.98098    -1.01321    -1.30883\n",
       "    7 │  0.0799568  -0.383582   -0.927791\n",
       "    8 │  1.54912     0.189898    2.78672\n",
       "    9 │ -1.34161    -1.86768    -7.46473\n",
       "   10 │  0.412162    0.612625    2.37414\n",
       "   11 │  0.593197   -0.834007   -1.70909\n",
       "  ⋮   │     ⋮           ⋮           ⋮\n",
       "  991 │  0.149776   -0.506578   -0.683446\n",
       "  992 │  0.801118    0.182862    1.80041\n",
       "  993 │  0.402365    0.789162    3.04014\n",
       "  994 │  0.0893779  -0.332993   -2.06344\n",
       "  995 │  0.406164   -1.19408    -0.788423\n",
       "  996 │  1.28432     0.338894    6.48476\n",
       "  997 │ -0.0902471  -1.55459    -6.39857\n",
       "  998 │ -0.0563532   0.021194    0.779637\n",
       "  999 │ -0.0270624   0.224605    0.852715\n",
       " 1000 │ -0.172309   -0.45056    -2.00589\n",
       "\u001b[36m                          979 rows omitted\u001b[0m"
      ]
     },
     "execution_count": 5,
     "metadata": {},
     "output_type": "execute_result"
    }
   ],
   "source": [
    "Random.seed!(123)\n",
    "N = 1000 # number of data points\n",
    "\n",
    "# define simple linear model with added noise\n",
    "Z = rand(Normal(0, 1), N)\n",
    "X = 0.5*Z + rand(Normal(0, 1), N)\n",
    "Y = 3*X + 2*Z + rand(Normal(0, 1), N) #Real effect is 3.\n",
    "tb=DataFrame(Z=Z,X=X,Y=Y)"
   ]
  },
  {
   "cell_type": "code",
   "execution_count": 6,
   "metadata": {},
   "outputs": [
    {
     "name": "stdout",
     "output_type": "stream",
     "text": [
      "\n",
      "---------------------------------\n",
      "                       Y         \n",
      "              -------------------\n",
      "                   (1)        (2)\n",
      "---------------------------------\n",
      "(Intercept)     -0.024      0.046\n",
      "               (0.066)    (0.032)\n",
      "X             3.906***   2.999***\n",
      "               (0.060)    (0.034)\n",
      "Z                        1.984***\n",
      "                          (0.036)\n",
      "---------------------------------\n",
      "Estimator          OLS        OLS\n",
      "---------------------------------\n",
      "N                1,000      1,000\n",
      "R2               0.807      0.953\n",
      "---------------------------------\n",
      "\n",
      "\n"
     ]
    }
   ],
   "source": [
    "# Regressions\n",
    "no_control = lm(@formula(Y ~ X), tb)        #Wrong, not controlling by the confounder Z\n",
    "using_control = lm(@formula(Y ~ X+Z), tb)    # Correct\n",
    "\n",
    "# Summary results\n",
    "regtable(no_control , using_control, renderSettings = asciiOutput(), estimformat = \"%02.3f\")"
   ]
  },
  {
   "cell_type": "markdown",
   "metadata": {},
   "source": [
    "## Model 2"
   ]
  },
  {
   "cell_type": "code",
   "execution_count": 158,
   "metadata": {},
   "outputs": [
    {
     "data": {
      "image/png": "[encoded data removed]"
     },
     "execution_count": 158,
     "metadata": {},
     "output_type": "execute_result"
    }
   ],
   "source": [
    "using GraphRecipes, Plots\n",
    "g = [0 1 0 0;\n",
    "     0 0 1 0;\n",
    "     0 0 0 0;\n",
    "     1 0 1 0]\n",
    "\n",
    "graphplot(g, names=[\"Z\",\"X\",\"Y\",\"U\"], curvature_scalar=0, nodesize=0.2, nodeshape=:circle, nodecolor = [colorant\"red\",colorant\"lightblue\",colorant\"lightblue\",colorant\"white\"],x=[-0.5,-1,1,0],y=[-0.5,-1,-1,0])"
   ]
  },
  {
   "cell_type": "code",
   "execution_count": 7,
   "metadata": {},
   "outputs": [
    {
     "data": {
      "text/html": [
       "<div class=\"data-frame\"><p>1,000 rows × 4 columns</p><table class=\"data-frame\"><thead><tr><th></th><th>U</th><th>Z</th><th>X</th><th>Y</th></tr><tr><th></th><th title=\"Float64\">Float64</th><th title=\"Float64\">Float64</th><th title=\"Float64\">Float64</th><th title=\"Float64\">Float64</th></tr></thead><tbody><tr><th>1</th><td>-0.645731</td><td>-1.02273</td><td>0.601381</td><td>0.702346</td></tr><tr><th>2</th><td>-1.46325</td><td>-3.59543</td><td>-1.59674</td><td>-7.75462</td></tr><tr><th>3</th><td>-1.6236</td><td>-4.02404</td><td>-2.26473</td><td>-9.62877</td></tr><tr><th>4</th><td>-0.217665</td><td>-0.694899</td><td>0.543338</td><td>-0.198605</td></tr><tr><th>5</th><td>0.492246</td><td>-0.812141</td><td>0.666015</td><td>2.67747</td></tr><tr><th>6</th><td>0.98098</td><td>0.458256</td><td>-0.00201823</td><td>2.96958</td></tr><tr><th>7</th><td>0.0799568</td><td>-0.263647</td><td>-0.0687812</td><td>-1.91276</td></tr><tr><th>8</th><td>1.54912</td><td>2.51359</td><td>0.375571</td><td>5.69266</td></tr><tr><th>9</th><td>-1.34161</td><td>-3.88009</td><td>-1.11852</td><td>-7.44883</td></tr><tr><th>10</th><td>0.412162</td><td>1.23087</td><td>0.327378</td><td>2.25465</td></tr><tr><th>11</th><td>0.593197</td><td>0.0557888</td><td>-0.36557</td><td>-0.652464</td></tr><tr><th>12</th><td>-0.768409</td><td>-1.74489</td><td>-2.36301</td><td>-8.79901</td></tr><tr><th>13</th><td>-0.0761679</td><td>-0.118385</td><td>-0.426293</td><td>-1.47995</td></tr><tr><th>14</th><td>-0.654901</td><td>-1.81616</td><td>0.390293</td><td>-2.01607</td></tr><tr><th>15</th><td>0.68706</td><td>1.82954</td><td>1.48071</td><td>4.03779</td></tr><tr><th>16</th><td>-0.119465</td><td>0.708073</td><td>-1.88927</td><td>-5.66799</td></tr><tr><th>17</th><td>0.206075</td><td>-1.03224</td><td>-0.813304</td><td>-0.592571</td></tr><tr><th>18</th><td>-1.01901</td><td>-3.31653</td><td>-3.69177</td><td>-11.4959</td></tr><tr><th>19</th><td>0.505311</td><td>2.15032</td><td>-0.0725056</td><td>2.58781</td></tr><tr><th>20</th><td>-0.538298</td><td>-1.96546</td><td>1.35961</td><td>1.1642</td></tr><tr><th>21</th><td>0.261401</td><td>0.743657</td><td>0.787423</td><td>3.41847</td></tr><tr><th>22</th><td>-1.312</td><td>-2.37569</td><td>-0.74233</td><td>-4.36245</td></tr><tr><th>23</th><td>-1.27544</td><td>-1.60889</td><td>-2.52666</td><td>-10.7957</td></tr><tr><th>24</th><td>0.388407</td><td>-1.4962</td><td>-0.532706</td><td>-0.958345</td></tr><tr><th>25</th><td>0.109018</td><td>0.802426</td><td>-1.94329</td><td>-5.13696</td></tr><tr><th>26</th><td>0.273589</td><td>0.757533</td><td>1.04194</td><td>2.60713</td></tr><tr><th>27</th><td>0.0570974</td><td>-0.227933</td><td>-0.817068</td><td>-1.90438</td></tr><tr><th>28</th><td>0.39915</td><td>-0.344439</td><td>-0.0939265</td><td>0.386725</td></tr><tr><th>29</th><td>-0.155651</td><td>1.77868</td><td>0.698357</td><td>3.11397</td></tr><tr><th>30</th><td>1.79233</td><td>2.45388</td><td>2.46597</td><td>12.2609</td></tr><tr><th>&vellip;</th><td>&vellip;</td><td>&vellip;</td><td>&vellip;</td><td>&vellip;</td></tr></tbody></table></div>"
      ],
      "text/latex": [
       "\\begin{tabular}{r|cccc}\n",
       "\t& U & Z & X & Y\\\\\n",
       "\t\\hline\n",
       "\t& Float64 & Float64 & Float64 & Float64\\\\\n",
       "\t\\hline\n",
       "\t1 & -0.645731 & -1.02273 & 0.601381 & 0.702346 \\\\\n",
       "\t2 & -1.46325 & -3.59543 & -1.59674 & -7.75462 \\\\\n",
       "\t3 & -1.6236 & -4.02404 & -2.26473 & -9.62877 \\\\\n",
       "\t4 & -0.217665 & -0.694899 & 0.543338 & -0.198605 \\\\\n",
       "\t5 & 0.492246 & -0.812141 & 0.666015 & 2.67747 \\\\\n",
       "\t6 & 0.98098 & 0.458256 & -0.00201823 & 2.96958 \\\\\n",
       "\t7 & 0.0799568 & -0.263647 & -0.0687812 & -1.91276 \\\\\n",
       "\t8 & 1.54912 & 2.51359 & 0.375571 & 5.69266 \\\\\n",
       "\t9 & -1.34161 & -3.88009 & -1.11852 & -7.44883 \\\\\n",
       "\t10 & 0.412162 & 1.23087 & 0.327378 & 2.25465 \\\\\n",
       "\t11 & 0.593197 & 0.0557888 & -0.36557 & -0.652464 \\\\\n",
       "\t12 & -0.768409 & -1.74489 & -2.36301 & -8.79901 \\\\\n",
       "\t13 & -0.0761679 & -0.118385 & -0.426293 & -1.47995 \\\\\n",
       "\t14 & -0.654901 & -1.81616 & 0.390293 & -2.01607 \\\\\n",
       "\t15 & 0.68706 & 1.82954 & 1.48071 & 4.03779 \\\\\n",
       "\t16 & -0.119465 & 0.708073 & -1.88927 & -5.66799 \\\\\n",
       "\t17 & 0.206075 & -1.03224 & -0.813304 & -0.592571 \\\\\n",
       "\t18 & -1.01901 & -3.31653 & -3.69177 & -11.4959 \\\\\n",
       "\t19 & 0.505311 & 2.15032 & -0.0725056 & 2.58781 \\\\\n",
       "\t20 & -0.538298 & -1.96546 & 1.35961 & 1.1642 \\\\\n",
       "\t21 & 0.261401 & 0.743657 & 0.787423 & 3.41847 \\\\\n",
       "\t22 & -1.312 & -2.37569 & -0.74233 & -4.36245 \\\\\n",
       "\t23 & -1.27544 & -1.60889 & -2.52666 & -10.7957 \\\\\n",
       "\t24 & 0.388407 & -1.4962 & -0.532706 & -0.958345 \\\\\n",
       "\t25 & 0.109018 & 0.802426 & -1.94329 & -5.13696 \\\\\n",
       "\t26 & 0.273589 & 0.757533 & 1.04194 & 2.60713 \\\\\n",
       "\t27 & 0.0570974 & -0.227933 & -0.817068 & -1.90438 \\\\\n",
       "\t28 & 0.39915 & -0.344439 & -0.0939265 & 0.386725 \\\\\n",
       "\t29 & -0.155651 & 1.77868 & 0.698357 & 3.11397 \\\\\n",
       "\t30 & 1.79233 & 2.45388 & 2.46597 & 12.2609 \\\\\n",
       "\t$\\dots$ & $\\dots$ & $\\dots$ & $\\dots$ & $\\dots$ \\\\\n",
       "\\end{tabular}\n"
      ],
      "text/plain": [
       "\u001b[1m1000×4 DataFrame\u001b[0m\n",
       "\u001b[1m  Row \u001b[0m│\u001b[1m U          \u001b[0m\u001b[1m Z          \u001b[0m\u001b[1m X           \u001b[0m\u001b[1m Y          \u001b[0m\n",
       "\u001b[1m      \u001b[0m│\u001b[90m Float64    \u001b[0m\u001b[90m Float64    \u001b[0m\u001b[90m Float64     \u001b[0m\u001b[90m Float64    \u001b[0m\n",
       "──────┼─────────────────────────────────────────────────\n",
       "    1 │ -0.645731   -1.02273     0.601381     0.702346\n",
       "    2 │ -1.46325    -3.59543    -1.59674     -7.75462\n",
       "    3 │ -1.6236     -4.02404    -2.26473     -9.62877\n",
       "    4 │ -0.217665   -0.694899    0.543338    -0.198605\n",
       "    5 │  0.492246   -0.812141    0.666015     2.67747\n",
       "    6 │  0.98098     0.458256   -0.00201823   2.96958\n",
       "    7 │  0.0799568  -0.263647   -0.0687812   -1.91276\n",
       "    8 │  1.54912     2.51359     0.375571     5.69266\n",
       "    9 │ -1.34161    -3.88009    -1.11852     -7.44883\n",
       "   10 │  0.412162    1.23087     0.327378     2.25465\n",
       "   11 │  0.593197    0.0557888  -0.36557     -0.652464\n",
       "  ⋮   │     ⋮           ⋮            ⋮           ⋮\n",
       "  991 │  0.149776   -0.281913    0.395777     1.5364\n",
       "  992 │  0.801118    1.38454     0.34186      3.64259\n",
       "  993 │  0.402365    1.39271     0.564277    -0.0741472\n",
       "  994 │  0.0893779  -0.198927   -1.34268     -3.76067\n",
       "  995 │  0.406164   -0.584834    1.68907      8.12123\n",
       "  996 │  1.28432     2.26537     4.03212     15.0047\n",
       "  997 │ -0.0902471  -1.68996    -2.39928     -5.5252\n",
       "  998 │ -0.0563532  -0.0633359   0.797094     3.81822\n",
       "  999 │ -0.0270624   0.184012    0.325029    -0.716166\n",
       " 1000 │ -0.172309   -0.709023   -0.6641      -2.22532\n",
       "\u001b[36m                                        979 rows omitted\u001b[0m"
      ]
     },
     "execution_count": 7,
     "metadata": {},
     "output_type": "execute_result"
    }
   ],
   "source": [
    "Random.seed!(123)\n",
    "N = 1000 # number of data points\n",
    "\n",
    "# define simple linear model with added noise\n",
    "U = rand(Normal(0, 1), N)\n",
    "Z = 2*U + rand(Normal(0, 1), N)\n",
    "X = 0.5*Z + rand(Normal(0, 1), N)\n",
    "Y= 3*X + 2*U + rand(Normal(0, 1), N)\n",
    "tb=DataFrame(U=U,Z=Z,X=X,Y=Y)"
   ]
  },
  {
   "cell_type": "code",
   "execution_count": 8,
   "metadata": {},
   "outputs": [
    {
     "name": "stdout",
     "output_type": "stream",
     "text": [
      "\n",
      "---------------------------------\n",
      "                       Y         \n",
      "              -------------------\n",
      "                   (1)        (2)\n",
      "---------------------------------\n",
      "(Intercept)     -0.112     -0.043\n",
      "               (0.060)    (0.042)\n",
      "X             3.926***   2.941***\n",
      "               (0.039)    (0.041)\n",
      "Z                        0.885***\n",
      "                          (0.027)\n",
      "---------------------------------\n",
      "Estimator          OLS        OLS\n",
      "---------------------------------\n",
      "N                1,000      1,000\n",
      "R2               0.909      0.956\n",
      "---------------------------------\n",
      "\n",
      "\n"
     ]
    }
   ],
   "source": [
    "# Regressions\n",
    "no_control = lm(@formula(Y ~ X), tb)        #Wrong, not controlling by the confounder Z\n",
    "using_control = lm(@formula(Y ~ X+Z), tb)    # Correct\n",
    "\n",
    "# Summary results\n",
    "regtable(no_control , using_control, renderSettings = asciiOutput(), estimformat = \"%02.3f\")"
   ]
  },
  {
   "cell_type": "markdown",
   "metadata": {},
   "source": [
    "In this case, it is necessary to control for Z because it blocks the back-door path from X to due to U. If we don't include Z, the estimation is biased."
   ]
  },
  {
   "cell_type": "markdown",
   "metadata": {},
   "source": [
    "## Model 3"
   ]
  },
  {
   "cell_type": "code",
   "execution_count": 161,
   "metadata": {},
   "outputs": [
    {
     "data": {
      "image/png": "[encoded data removed]"
     },
     "execution_count": 161,
     "metadata": {},
     "output_type": "execute_result"
    }
   ],
   "source": [
    "using GraphRecipes, Plots\n",
    "g = [0 0 1 0;\n",
    "     0 0 1 0;\n",
    "     0 0 0 0;\n",
    "     1 1 0 0]\n",
    "\n",
    "graphplot(g, names=[\"Z\",\"X\",\"Y\",\"U\"], curvature_scalar=0, nodesize=0.2, nodeshape=:circle, nodecolor = [colorant\"red\",colorant\"lightblue\",colorant\"lightblue\",colorant\"white\"],x=[0.5,-1,1,0],y=[0.5,0,0,1])"
   ]
  },
  {
   "cell_type": "code",
   "execution_count": 9,
   "metadata": {},
   "outputs": [
    {
     "data": {
      "text/html": [
       "<div class=\"data-frame\"><p>1,000 rows × 4 columns</p><table class=\"data-frame\"><thead><tr><th></th><th>U</th><th>Z</th><th>X</th><th>Y</th></tr><tr><th></th><th title=\"Float64\">Float64</th><th title=\"Float64\">Float64</th><th title=\"Float64\">Float64</th><th title=\"Float64\">Float64</th></tr></thead><tbody><tr><th>1</th><td>-0.645731</td><td>-1.02273</td><td>0.78988</td><td>0.513847</td></tr><tr><th>2</th><td>-1.46325</td><td>-3.59543</td><td>-0.530651</td><td>-8.82072</td></tr><tr><th>3</th><td>-1.6236</td><td>-4.02404</td><td>-1.06452</td><td>-10.829</td></tr><tr><th>4</th><td>-0.217665</td><td>-0.694899</td><td>0.781955</td><td>-0.437222</td></tr><tr><th>5</th><td>0.492246</td><td>-0.812141</td><td>1.31821</td><td>2.02528</td></tr><tr><th>6</th><td>0.98098</td><td>0.458256</td><td>0.259344</td><td>2.70822</td></tr><tr><th>7</th><td>0.0799568</td><td>-0.263647</td><td>0.103021</td><td>-2.08456</td></tr><tr><th>8</th><td>1.54912</td><td>2.51359</td><td>-0.106659</td><td>6.17489</td></tr><tr><th>9</th><td>-1.34161</td><td>-3.88009</td><td>0.150726</td><td>-8.71807</td></tr><tr><th>10</th><td>0.412162</td><td>1.23087</td><td>-0.0819751</td><td>2.66401</td></tr><tr><th>11</th><td>0.593197</td><td>0.0557888</td><td>-0.0968653</td><td>-0.921168</td></tr><tr><th>12</th><td>-0.768409</td><td>-1.74489</td><td>-1.87477</td><td>-9.28725</td></tr><tr><th>13</th><td>-0.0761679</td><td>-0.118385</td><td>-0.405184</td><td>-1.50106</td></tr><tr><th>14</th><td>-0.654901</td><td>-1.81616</td><td>0.970921</td><td>-2.5967</td></tr><tr><th>15</th><td>0.68706</td><td>1.82954</td><td>0.909463</td><td>4.60903</td></tr><tr><th>16</th><td>-0.119465</td><td>0.708073</td><td>-2.30304</td><td>-5.25422</td></tr><tr><th>17</th><td>0.206075</td><td>-1.03224</td><td>-0.194146</td><td>-1.21173</td></tr><tr><th>18</th><td>-1.01901</td><td>-3.31653</td><td>-2.54301</td><td>-12.6447</td></tr><tr><th>19</th><td>0.505311</td><td>2.15032</td><td>-0.895009</td><td>3.41031</td></tr><tr><th>20</th><td>-0.538298</td><td>-1.96546</td><td>2.07319</td><td>0.450615</td></tr><tr><th>21</th><td>0.261401</td><td>0.743657</td><td>0.546295</td><td>3.65959</td></tr><tr><th>22</th><td>-1.312</td><td>-2.37569</td><td>-0.210485</td><td>-4.8943</td></tr><tr><th>23</th><td>-1.27544</td><td>-1.60889</td><td>-2.35993</td><td>-10.9624</td></tr><tr><th>24</th><td>0.388407</td><td>-1.4962</td><td>0.409598</td><td>-1.90065</td></tr><tr><th>25</th><td>0.109018</td><td>0.802426</td><td>-2.29</td><td>-4.79026</td></tr><tr><th>26</th><td>0.273589</td><td>0.757533</td><td>0.799968</td><td>2.8491</td></tr><tr><th>27</th><td>0.0570974</td><td>-0.227933</td><td>-0.674553</td><td>-2.04689</td></tr><tr><th>28</th><td>0.39915</td><td>-0.344439</td><td>0.277868</td><td>0.014931</td></tr><tr><th>29</th><td>-0.155651</td><td>1.77868</td><td>-0.26881</td><td>4.08114</td></tr><tr><th>30</th><td>1.79233</td><td>2.45388</td><td>2.13519</td><td>12.5917</td></tr><tr><th>&vellip;</th><td>&vellip;</td><td>&vellip;</td><td>&vellip;</td><td>&vellip;</td></tr></tbody></table></div>"
      ],
      "text/latex": [
       "\\begin{tabular}{r|cccc}\n",
       "\t& U & Z & X & Y\\\\\n",
       "\t\\hline\n",
       "\t& Float64 & Float64 & Float64 & Float64\\\\\n",
       "\t\\hline\n",
       "\t1 & -0.645731 & -1.02273 & 0.78988 & 0.513847 \\\\\n",
       "\t2 & -1.46325 & -3.59543 & -0.530651 & -8.82072 \\\\\n",
       "\t3 & -1.6236 & -4.02404 & -1.06452 & -10.829 \\\\\n",
       "\t4 & -0.217665 & -0.694899 & 0.781955 & -0.437222 \\\\\n",
       "\t5 & 0.492246 & -0.812141 & 1.31821 & 2.02528 \\\\\n",
       "\t6 & 0.98098 & 0.458256 & 0.259344 & 2.70822 \\\\\n",
       "\t7 & 0.0799568 & -0.263647 & 0.103021 & -2.08456 \\\\\n",
       "\t8 & 1.54912 & 2.51359 & -0.106659 & 6.17489 \\\\\n",
       "\t9 & -1.34161 & -3.88009 & 0.150726 & -8.71807 \\\\\n",
       "\t10 & 0.412162 & 1.23087 & -0.0819751 & 2.66401 \\\\\n",
       "\t11 & 0.593197 & 0.0557888 & -0.0968653 & -0.921168 \\\\\n",
       "\t12 & -0.768409 & -1.74489 & -1.87477 & -9.28725 \\\\\n",
       "\t13 & -0.0761679 & -0.118385 & -0.405184 & -1.50106 \\\\\n",
       "\t14 & -0.654901 & -1.81616 & 0.970921 & -2.5967 \\\\\n",
       "\t15 & 0.68706 & 1.82954 & 0.909463 & 4.60903 \\\\\n",
       "\t16 & -0.119465 & 0.708073 & -2.30304 & -5.25422 \\\\\n",
       "\t17 & 0.206075 & -1.03224 & -0.194146 & -1.21173 \\\\\n",
       "\t18 & -1.01901 & -3.31653 & -2.54301 & -12.6447 \\\\\n",
       "\t19 & 0.505311 & 2.15032 & -0.895009 & 3.41031 \\\\\n",
       "\t20 & -0.538298 & -1.96546 & 2.07319 & 0.450615 \\\\\n",
       "\t21 & 0.261401 & 0.743657 & 0.546295 & 3.65959 \\\\\n",
       "\t22 & -1.312 & -2.37569 & -0.210485 & -4.8943 \\\\\n",
       "\t23 & -1.27544 & -1.60889 & -2.35993 & -10.9624 \\\\\n",
       "\t24 & 0.388407 & -1.4962 & 0.409598 & -1.90065 \\\\\n",
       "\t25 & 0.109018 & 0.802426 & -2.29 & -4.79026 \\\\\n",
       "\t26 & 0.273589 & 0.757533 & 0.799968 & 2.8491 \\\\\n",
       "\t27 & 0.0570974 & -0.227933 & -0.674553 & -2.04689 \\\\\n",
       "\t28 & 0.39915 & -0.344439 & 0.277868 & 0.014931 \\\\\n",
       "\t29 & -0.155651 & 1.77868 & -0.26881 & 4.08114 \\\\\n",
       "\t30 & 1.79233 & 2.45388 & 2.13519 & 12.5917 \\\\\n",
       "\t$\\dots$ & $\\dots$ & $\\dots$ & $\\dots$ & $\\dots$ \\\\\n",
       "\\end{tabular}\n"
      ],
      "text/plain": [
       "\u001b[1m1000×4 DataFrame\u001b[0m\n",
       "\u001b[1m  Row \u001b[0m│\u001b[1m U          \u001b[0m\u001b[1m Z          \u001b[0m\u001b[1m X          \u001b[0m\u001b[1m Y          \u001b[0m\n",
       "\u001b[1m      \u001b[0m│\u001b[90m Float64    \u001b[0m\u001b[90m Float64    \u001b[0m\u001b[90m Float64    \u001b[0m\u001b[90m Float64    \u001b[0m\n",
       "──────┼────────────────────────────────────────────────\n",
       "    1 │ -0.645731   -1.02273     0.78988      0.513847\n",
       "    2 │ -1.46325    -3.59543    -0.530651    -8.82072\n",
       "    3 │ -1.6236     -4.02404    -1.06452    -10.829\n",
       "    4 │ -0.217665   -0.694899    0.781955    -0.437222\n",
       "    5 │  0.492246   -0.812141    1.31821      2.02528\n",
       "    6 │  0.98098     0.458256    0.259344     2.70822\n",
       "    7 │  0.0799568  -0.263647    0.103021    -2.08456\n",
       "    8 │  1.54912     2.51359    -0.106659     6.17489\n",
       "    9 │ -1.34161    -3.88009     0.150726    -8.71807\n",
       "   10 │  0.412162    1.23087    -0.0819751    2.66401\n",
       "   11 │  0.593197    0.0557888  -0.0968653   -0.921168\n",
       "  ⋮   │     ⋮           ⋮           ⋮           ⋮\n",
       "  991 │  0.149776   -0.281913    0.611622     1.32055\n",
       "  992 │  0.801118    1.38454     0.0501493    3.9343\n",
       "  993 │  0.402365    1.39271     0.0691049    0.421025\n",
       "  994 │  0.0893779  -0.198927   -1.19853     -3.90482\n",
       "  995 │  0.406164   -0.584834    2.18457      7.62574\n",
       "  996 │  1.28432     2.26537     3.5416      15.4952\n",
       "  997 │ -0.0902471  -1.68996    -1.59942     -6.32506\n",
       "  998 │ -0.0563532  -0.0633359   0.800585     3.81473\n",
       "  999 │ -0.0270624   0.184012    0.219492    -0.610628\n",
       " 1000 │ -0.172309   -0.709023   -0.395743    -2.49368\n",
       "\u001b[36m                                       979 rows omitted\u001b[0m"
      ]
     },
     "execution_count": 9,
     "metadata": {},
     "output_type": "execute_result"
    }
   ],
   "source": [
    "Random.seed!(123)\n",
    "N = 1000 # number of data points\n",
    "\n",
    "# define simple linear model with added noise\n",
    "U = rand(Normal(0, 1), N)\n",
    "Z = 2*U + rand(Normal(0, 1), N)\n",
    "X = 0.5*U + rand(Normal(0, 1), N)\n",
    "Y= 3*X + 2*Z + rand(Normal(0, 1), N)\n",
    "tb=DataFrame(U=U,Z=Z,X=X,Y=Y)"
   ]
  },
  {
   "cell_type": "code",
   "execution_count": 10,
   "metadata": {},
   "outputs": [
    {
     "name": "stdout",
     "output_type": "stream",
     "text": [
      "\n",
      "---------------------------------\n",
      "                       Y         \n",
      "              -------------------\n",
      "                   (1)        (2)\n",
      "---------------------------------\n",
      "(Intercept)     -0.185     -0.019\n",
      "               (0.139)    (0.032)\n",
      "X             4.585***   2.946***\n",
      "               (0.122)    (0.031)\n",
      "Z                        2.042***\n",
      "                          (0.015)\n",
      "---------------------------------\n",
      "Estimator          OLS        OLS\n",
      "---------------------------------\n",
      "N                1,000      1,000\n",
      "R2               0.585      0.978\n",
      "---------------------------------\n",
      "\n",
      "\n"
     ]
    }
   ],
   "source": [
    "# Regressions\n",
    "no_control = lm(@formula(Y ~ X), tb)        \n",
    "using_control = lm(@formula(Y ~ X+Z), tb)    \n",
    "\n",
    "# Summary results\n",
    "regtable(no_control , using_control, renderSettings = asciiOutput(), estimformat = \"%02.3f\")"
   ]
  },
  {
   "cell_type": "markdown",
   "metadata": {},
   "source": [
    "## Model 4: good control"
   ]
  },
  {
   "cell_type": "code",
   "execution_count": 120,
   "metadata": {},
   "outputs": [
    {
     "data": {
      "image/png": "[encoded data removed]"
     },
     "execution_count": 120,
     "metadata": {},
     "output_type": "execute_result"
    }
   ],
   "source": [
    "using GraphRecipes, Plots\n",
    "g = [0 1 1 0;\n",
    "     0 0 1 0;\n",
    "     0 0 0 1;\n",
    "     0 0 0 0]\n",
    "\n",
    "graphplot(g, names=[\"Z\",\"X\",\"M\",\"Y\"], curvature_scalar=0, nodesize=0.2, nodeshape=:circle, nodecolor = [colorant\"red\",colorant\"lightblue\",colorant\"lightblue\",colorant\"white\"],method=:spring,arrow=1)"
   ]
  },
  {
   "cell_type": "code",
   "execution_count": 11,
   "metadata": {},
   "outputs": [
    {
     "data": {
      "text/html": [
       "<div class=\"data-frame\"><p>1,000 rows × 4 columns</p><table class=\"data-frame\"><thead><tr><th></th><th>Z</th><th>X</th><th>M</th><th>Y</th></tr><tr><th></th><th title=\"Float64\">Float64</th><th title=\"Float64\">Float64</th><th title=\"Float64\">Float64</th><th title=\"Float64\">Float64</th></tr></thead><tbody><tr><th>1</th><td>-0.645731</td><td>-0.0541318</td><td>0.117083</td><td>0.657996</td></tr><tr><th>2</th><td>-1.46325</td><td>-1.40056</td><td>-2.69418</td><td>-10.8146</td></tr><tr><th>3</th><td>-1.6236</td><td>-1.58863</td><td>-3.48244</td><td>-13.5171</td></tr><tr><th>4</th><td>-0.217665</td><td>-0.368401</td><td>0.380089</td><td>0.127068</td></tr><tr><th>5</th><td>0.492246</td><td>-1.55051</td><td>1.0352</td><td>3.83574</td></tr><tr><th>6</th><td>0.98098</td><td>-1.01321</td><td>0.733717</td><td>3.94854</td></tr><tr><th>7</th><td>0.0799568</td><td>-0.383582</td><td>-0.00881359</td><td>-1.90158</td></tr><tr><th>8</th><td>1.54912</td><td>0.189898</td><td>1.53741</td><td>7.61736</td></tr><tr><th>9</th><td>-1.34161</td><td>-1.86768</td><td>-2.12472</td><td>-9.90896</td></tr><tr><th>10</th><td>0.412162</td><td>0.612625</td><td>0.636499</td><td>2.99419</td></tr><tr><th>11</th><td>0.593197</td><td>-0.834007</td><td>0.0793285</td><td>-0.424836</td></tr><tr><th>12</th><td>-0.768409</td><td>-0.592274</td><td>-2.93931</td><td>-11.9304</td></tr><tr><th>13</th><td>-0.0761679</td><td>-0.004133</td><td>-0.483419</td><td>-1.98241</td></tr><tr><th>14</th><td>-0.654901</td><td>-0.833805</td><td>-0.100883</td><td>-2.28068</td></tr><tr><th>15</th><td>0.68706</td><td>0.798954</td><td>1.996</td><td>6.20556</td></tr><tr><th>16</th><td>-0.119465</td><td>0.88727</td><td>-1.97887</td><td>-7.67673</td></tr><tr><th>17</th><td>0.206075</td><td>-1.34135</td><td>-0.658747</td><td>-1.1998</td></tr><tr><th>18</th><td>-1.01901</td><td>-1.78801</td><td>-4.45603</td><td>-16.2067</td></tr><tr><th>19</th><td>0.505311</td><td>1.39235</td><td>0.306477</td><td>3.02061</td></tr><tr><th>20</th><td>-0.538298</td><td>-1.15802</td><td>0.955888</td><td>1.98551</td></tr><tr><th>21</th><td>0.261401</td><td>0.351556</td><td>0.983473</td><td>4.46729</td></tr><tr><th>22</th><td>-1.312</td><td>-0.40769</td><td>-1.72633</td><td>-6.41678</td></tr><tr><th>23</th><td>-1.27544</td><td>0.304271</td><td>-3.48324</td><td>-14.5978</td></tr><tr><th>24</th><td>0.388407</td><td>-2.07881</td><td>-0.241401</td><td>-1.10264</td></tr><tr><th>25</th><td>0.109018</td><td>0.638899</td><td>-1.86153</td><td>-6.97123</td></tr><tr><th>26</th><td>0.273589</td><td>0.347149</td><td>1.24713</td><td>3.92266</td></tr><tr><th>27</th><td>0.0570974</td><td>-0.313579</td><td>-0.774245</td><td>-2.66435</td></tr><tr><th>28</th><td>0.39915</td><td>-0.943163</td><td>0.205436</td><td>0.691948</td></tr><tr><th>29</th><td>-0.155651</td><td>2.01216</td><td>0.581619</td><td>3.65668</td></tr><tr><th>30</th><td>1.79233</td><td>-0.234611</td><td>3.81021</td><td>16.5192</td></tr><tr><th>&vellip;</th><td>&vellip;</td><td>&vellip;</td><td>&vellip;</td><td>&vellip;</td></tr></tbody></table></div>"
      ],
      "text/latex": [
       "\\begin{tabular}{r|cccc}\n",
       "\t& Z & X & M & Y\\\\\n",
       "\t\\hline\n",
       "\t& Float64 & Float64 & Float64 & Float64\\\\\n",
       "\t\\hline\n",
       "\t1 & -0.645731 & -0.0541318 & 0.117083 & 0.657996 \\\\\n",
       "\t2 & -1.46325 & -1.40056 & -2.69418 & -10.8146 \\\\\n",
       "\t3 & -1.6236 & -1.58863 & -3.48244 & -13.5171 \\\\\n",
       "\t4 & -0.217665 & -0.368401 & 0.380089 & 0.127068 \\\\\n",
       "\t5 & 0.492246 & -1.55051 & 1.0352 & 3.83574 \\\\\n",
       "\t6 & 0.98098 & -1.01321 & 0.733717 & 3.94854 \\\\\n",
       "\t7 & 0.0799568 & -0.383582 & -0.00881359 & -1.90158 \\\\\n",
       "\t8 & 1.54912 & 0.189898 & 1.53741 & 7.61736 \\\\\n",
       "\t9 & -1.34161 & -1.86768 & -2.12472 & -9.90896 \\\\\n",
       "\t10 & 0.412162 & 0.612625 & 0.636499 & 2.99419 \\\\\n",
       "\t11 & 0.593197 & -0.834007 & 0.0793285 & -0.424836 \\\\\n",
       "\t12 & -0.768409 & -0.592274 & -2.93931 & -11.9304 \\\\\n",
       "\t13 & -0.0761679 & -0.004133 & -0.483419 & -1.98241 \\\\\n",
       "\t14 & -0.654901 & -0.833805 & -0.100883 & -2.28068 \\\\\n",
       "\t15 & 0.68706 & 0.798954 & 1.996 & 6.20556 \\\\\n",
       "\t16 & -0.119465 & 0.88727 & -1.97887 & -7.67673 \\\\\n",
       "\t17 & 0.206075 & -1.34135 & -0.658747 & -1.1998 \\\\\n",
       "\t18 & -1.01901 & -1.78801 & -4.45603 & -16.2067 \\\\\n",
       "\t19 & 0.505311 & 1.39235 & 0.306477 & 3.02061 \\\\\n",
       "\t20 & -0.538298 & -1.15802 & 0.955888 & 1.98551 \\\\\n",
       "\t21 & 0.261401 & 0.351556 & 0.983473 & 4.46729 \\\\\n",
       "\t22 & -1.312 & -0.40769 & -1.72633 & -6.41678 \\\\\n",
       "\t23 & -1.27544 & 0.304271 & -3.48324 & -14.5978 \\\\\n",
       "\t24 & 0.388407 & -2.07881 & -0.241401 & -1.10264 \\\\\n",
       "\t25 & 0.109018 & 0.638899 & -1.86153 & -6.97123 \\\\\n",
       "\t26 & 0.273589 & 0.347149 & 1.24713 & 3.92266 \\\\\n",
       "\t27 & 0.0570974 & -0.313579 & -0.774245 & -2.66435 \\\\\n",
       "\t28 & 0.39915 & -0.943163 & 0.205436 & 0.691948 \\\\\n",
       "\t29 & -0.155651 & 2.01216 & 0.581619 & 3.65668 \\\\\n",
       "\t30 & 1.79233 & -0.234611 & 3.81021 & 16.5192 \\\\\n",
       "\t$\\dots$ & $\\dots$ & $\\dots$ & $\\dots$ & $\\dots$ \\\\\n",
       "\\end{tabular}\n"
      ],
      "text/plain": [
       "\u001b[1m1000×4 DataFrame\u001b[0m\n",
       "\u001b[1m  Row \u001b[0m│\u001b[1m Z          \u001b[0m\u001b[1m X          \u001b[0m\u001b[1m M           \u001b[0m\u001b[1m Y          \u001b[0m\n",
       "\u001b[1m      \u001b[0m│\u001b[90m Float64    \u001b[0m\u001b[90m Float64    \u001b[0m\u001b[90m Float64     \u001b[0m\u001b[90m Float64    \u001b[0m\n",
       "──────┼─────────────────────────────────────────────────\n",
       "    1 │ -0.645731   -0.0541318   0.117083      0.657996\n",
       "    2 │ -1.46325    -1.40056    -2.69418     -10.8146\n",
       "    3 │ -1.6236     -1.58863    -3.48244     -13.5171\n",
       "    4 │ -0.217665   -0.368401    0.380089      0.127068\n",
       "    5 │  0.492246   -1.55051     1.0352        3.83574\n",
       "    6 │  0.98098    -1.01321     0.733717      3.94854\n",
       "    7 │  0.0799568  -0.383582   -0.00881359   -1.90158\n",
       "    8 │  1.54912     0.189898    1.53741       7.61736\n",
       "    9 │ -1.34161    -1.86768    -2.12472      -9.90896\n",
       "   10 │  0.412162    0.612625    0.636499      2.99419\n",
       "   11 │  0.593197   -0.834007    0.0793285    -0.424836\n",
       "  ⋮   │     ⋮           ⋮            ⋮           ⋮\n",
       "  991 │  0.149776   -0.506578    0.50811       2.08195\n",
       "  992 │  0.801118    0.182862    0.942698      4.78557\n",
       "  993 │  0.402365    0.789162    0.866051      0.892495\n",
       "  994 │  0.0893779  -0.332993   -1.27565      -5.01397\n",
       "  995 │  0.406164   -1.19408     1.99369      10.2165\n",
       "  996 │  1.28432     0.338894    4.99536      20.3212\n",
       "  997 │ -0.0902471  -1.55459    -2.46696      -8.01473\n",
       "  998 │ -0.0563532   0.021194    0.754829      4.55897\n",
       "  999 │ -0.0270624   0.224605    0.304733     -0.418199\n",
       " 1000 │ -0.172309   -0.45056    -0.793331     -3.06173\n",
       "\u001b[36m                                        979 rows omitted\u001b[0m"
      ]
     },
     "execution_count": 11,
     "metadata": {},
     "output_type": "execute_result"
    }
   ],
   "source": [
    "Random.seed!(123)\n",
    "N = 1000 # number of data points\n",
    "\n",
    "# define simple linear model with added noise\n",
    "Z = rand(Normal(0, 1), N)\n",
    "X = 0.5*Z + rand(Normal(0, 1), N)\n",
    "M= 1.5*Z + 0.5*X + rand(Normal(0, 1), N)\n",
    "Y= 4*M + rand(Normal(0, 1), N)\n",
    "\n",
    "tb=DataFrame(Z=Z,X=X,M=M,Y=Y)"
   ]
  },
  {
   "cell_type": "code",
   "execution_count": 12,
   "metadata": {},
   "outputs": [
    {
     "name": "stdout",
     "output_type": "stream",
     "text": [
      "\n",
      "---------------------------------\n",
      "                       Y         \n",
      "              -------------------\n",
      "                   (1)        (2)\n",
      "---------------------------------\n",
      "(Intercept)     -0.047      0.163\n",
      "               (0.216)    (0.131)\n",
      "X             4.769***   2.037***\n",
      "               (0.199)    (0.138)\n",
      "Z                        5.972***\n",
      "                          (0.145)\n",
      "---------------------------------\n",
      "Estimator          OLS        OLS\n",
      "---------------------------------\n",
      "N                1,000      1,000\n",
      "R2               0.365      0.766\n",
      "---------------------------------\n",
      "\n",
      "\n"
     ]
    }
   ],
   "source": [
    "# Regressions\n",
    "no_control = lm(@formula(Y ~ X), tb)        \n",
    "using_control = lm(@formula(Y ~ X+Z), tb)    \n",
    "\n",
    "# Summary results\n",
    "regtable(no_control , using_control, renderSettings = asciiOutput(), estimformat = \"%02.3f\")"
   ]
  },
  {
   "cell_type": "markdown",
   "metadata": {},
   "source": [
    "## Model 5: good control"
   ]
  },
  {
   "cell_type": "code",
   "execution_count": 119,
   "metadata": {},
   "outputs": [
    {
     "data": {
      "image/png": "[encoded data removed]"
     },
     "execution_count": 119,
     "metadata": {},
     "output_type": "execute_result"
    }
   ],
   "source": [
    "using GraphRecipes, Plots\n",
    "g = [0 1 0 0 0;\n",
    "     0 0 1 0 0;\n",
    "     0 0 0 1 0;\n",
    "     0 0 0 0 0;\n",
    "     1 0 1 0 0]\n",
    "\n",
    "graphplot(g, names=[\"Z\",\"X\",\"M\",\"Y\",\"U\"], curvature_scalar=0, nodesize=0.2, nodeshape=:circle, nodecolor = [colorant\"red\",colorant\"lightblue\",colorant\"lightblue\",colorant\"lightblue\",colorant\"white\"],method=:spring,arrow=1)"
   ]
  },
  {
   "cell_type": "code",
   "execution_count": 13,
   "metadata": {},
   "outputs": [
    {
     "data": {
      "text/html": [
       "<div class=\"data-frame\"><p>1,000 rows × 5 columns</p><table class=\"data-frame\"><thead><tr><th></th><th>U</th><th>Z</th><th>X</th><th>M</th><th>Y</th></tr><tr><th></th><th title=\"Float64\">Float64</th><th title=\"Float64\">Float64</th><th title=\"Float64\">Float64</th><th title=\"Float64\">Float64</th><th title=\"Float64\">Float64</th></tr></thead><tbody><tr><th>1</th><td>-0.645731</td><td>-1.02273</td><td>0.601381</td><td>-0.478242</td><td>-0.680694</td></tr><tr><th>2</th><td>-1.46325</td><td>-3.59543</td><td>-1.59674</td><td>-3.03114</td><td>-12.7534</td></tr><tr><th>3</th><td>-1.6236</td><td>-4.02404</td><td>-2.26473</td><td>-3.15513</td><td>-12.8977</td></tr><tr><th>4</th><td>-0.217665</td><td>-0.694899</td><td>0.543338</td><td>-1.44812</td><td>-6.24713</td></tr><tr><th>5</th><td>0.492246</td><td>-0.812141</td><td>0.666015</td><td>0.766313</td><td>2.93599</td></tr><tr><th>6</th><td>0.98098</td><td>0.458256</td><td>-0.00201823</td><td>2.48413</td><td>10.1542</td></tr><tr><th>7</th><td>0.0799568</td><td>-0.263647</td><td>-0.0687812</td><td>-1.78078</td><td>-8.10506</td></tr><tr><th>8</th><td>1.54912</td><td>2.51359</td><td>0.375571</td><td>3.97917</td><td>17.0418</td></tr><tr><th>9</th><td>-1.34161</td><td>-3.88009</td><td>-1.11852</td><td>-3.98174</td><td>-15.2188</td></tr><tr><th>10</th><td>0.412162</td><td>1.23087</td><td>0.327378</td><td>1.23013</td><td>4.20427</td></tr><tr><th>11</th><td>0.593197</td><td>0.0557888</td><td>-0.36557</td><td>-0.0351385</td><td>0.916413</td></tr><tr><th>12</th><td>-0.768409</td><td>-1.74489</td><td>-2.36301</td><td>-2.50729</td><td>-10.7662</td></tr><tr><th>13</th><td>-0.0761679</td><td>-0.118385</td><td>-0.426293</td><td>-0.376135</td><td>-1.29174</td></tr><tr><th>14</th><td>-0.654901</td><td>-1.81616</td><td>0.390293</td><td>-2.66435</td><td>-10.8151</td></tr><tr><th>15</th><td>0.68706</td><td>1.82954</td><td>1.48071</td><td>-0.00750054</td><td>1.43304</td></tr><tr><th>16</th><td>-0.119465</td><td>0.708073</td><td>-1.88927</td><td>-0.885076</td><td>-3.92933</td></tr><tr><th>17</th><td>0.206075</td><td>-1.03224</td><td>-0.813304</td><td>1.33765</td><td>4.13603</td></tr><tr><th>18</th><td>-1.01901</td><td>-3.31653</td><td>-3.69177</td><td>-1.75702</td><td>-5.90097</td></tr><tr><th>19</th><td>0.505311</td><td>2.15032</td><td>-0.0725056</td><td>2.51642</td><td>8.17854</td></tr><tr><th>20</th><td>-0.538298</td><td>-1.96546</td><td>1.35961</td><td>-1.96568</td><td>-7.52344</td></tr><tr><th>21</th><td>0.261401</td><td>0.743657</td><td>0.787423</td><td>1.31921</td><td>4.00637</td></tr><tr><th>22</th><td>-1.312</td><td>-2.37569</td><td>-0.74233</td><td>-1.85063</td><td>-7.50297</td></tr><tr><th>23</th><td>-1.27544</td><td>-1.60889</td><td>-2.52666</td><td>-3.84134</td><td>-15.6987</td></tr><tr><th>24</th><td>0.388407</td><td>-1.4962</td><td>-0.532706</td><td>0.179218</td><td>0.379277</td></tr><tr><th>25</th><td>0.109018</td><td>0.802426</td><td>-1.94329</td><td>-0.333243</td><td>-0.377634</td></tr><tr><th>26</th><td>0.273589</td><td>0.757533</td><td>1.04194</td><td>-0.134517</td><td>0.801624</td></tr><tr><th>27</th><td>0.0570974</td><td>-0.227933</td><td>-0.817068</td><td>0.109745</td><td>-0.490806</td></tr><tr><th>28</th><td>0.39915</td><td>-0.344439</td><td>-0.0939265</td><td>0.421967</td><td>2.98865</td></tr><tr><th>29</th><td>-0.155651</td><td>1.77868</td><td>0.698357</td><td>1.44591</td><td>5.2359</td></tr><tr><th>30</th><td>1.79233</td><td>2.45388</td><td>2.46597</td><td>5.19985</td><td>21.5222</td></tr><tr><th>&vellip;</th><td>&vellip;</td><td>&vellip;</td><td>&vellip;</td><td>&vellip;</td><td>&vellip;</td></tr></tbody></table></div>"
      ],
      "text/latex": [
       "\\begin{tabular}{r|ccccc}\n",
       "\t& U & Z & X & M & Y\\\\\n",
       "\t\\hline\n",
       "\t& Float64 & Float64 & Float64 & Float64 & Float64\\\\\n",
       "\t\\hline\n",
       "\t1 & -0.645731 & -1.02273 & 0.601381 & -0.478242 & -0.680694 \\\\\n",
       "\t2 & -1.46325 & -3.59543 & -1.59674 & -3.03114 & -12.7534 \\\\\n",
       "\t3 & -1.6236 & -4.02404 & -2.26473 & -3.15513 & -12.8977 \\\\\n",
       "\t4 & -0.217665 & -0.694899 & 0.543338 & -1.44812 & -6.24713 \\\\\n",
       "\t5 & 0.492246 & -0.812141 & 0.666015 & 0.766313 & 2.93599 \\\\\n",
       "\t6 & 0.98098 & 0.458256 & -0.00201823 & 2.48413 & 10.1542 \\\\\n",
       "\t7 & 0.0799568 & -0.263647 & -0.0687812 & -1.78078 & -8.10506 \\\\\n",
       "\t8 & 1.54912 & 2.51359 & 0.375571 & 3.97917 & 17.0418 \\\\\n",
       "\t9 & -1.34161 & -3.88009 & -1.11852 & -3.98174 & -15.2188 \\\\\n",
       "\t10 & 0.412162 & 1.23087 & 0.327378 & 1.23013 & 4.20427 \\\\\n",
       "\t11 & 0.593197 & 0.0557888 & -0.36557 & -0.0351385 & 0.916413 \\\\\n",
       "\t12 & -0.768409 & -1.74489 & -2.36301 & -2.50729 & -10.7662 \\\\\n",
       "\t13 & -0.0761679 & -0.118385 & -0.426293 & -0.376135 & -1.29174 \\\\\n",
       "\t14 & -0.654901 & -1.81616 & 0.390293 & -2.66435 & -10.8151 \\\\\n",
       "\t15 & 0.68706 & 1.82954 & 1.48071 & -0.00750054 & 1.43304 \\\\\n",
       "\t16 & -0.119465 & 0.708073 & -1.88927 & -0.885076 & -3.92933 \\\\\n",
       "\t17 & 0.206075 & -1.03224 & -0.813304 & 1.33765 & 4.13603 \\\\\n",
       "\t18 & -1.01901 & -3.31653 & -3.69177 & -1.75702 & -5.90097 \\\\\n",
       "\t19 & 0.505311 & 2.15032 & -0.0725056 & 2.51642 & 8.17854 \\\\\n",
       "\t20 & -0.538298 & -1.96546 & 1.35961 & -1.96568 & -7.52344 \\\\\n",
       "\t21 & 0.261401 & 0.743657 & 0.787423 & 1.31921 & 4.00637 \\\\\n",
       "\t22 & -1.312 & -2.37569 & -0.74233 & -1.85063 & -7.50297 \\\\\n",
       "\t23 & -1.27544 & -1.60889 & -2.52666 & -3.84134 & -15.6987 \\\\\n",
       "\t24 & 0.388407 & -1.4962 & -0.532706 & 0.179218 & 0.379277 \\\\\n",
       "\t25 & 0.109018 & 0.802426 & -1.94329 & -0.333243 & -0.377634 \\\\\n",
       "\t26 & 0.273589 & 0.757533 & 1.04194 & -0.134517 & 0.801624 \\\\\n",
       "\t27 & 0.0570974 & -0.227933 & -0.817068 & 0.109745 & -0.490806 \\\\\n",
       "\t28 & 0.39915 & -0.344439 & -0.0939265 & 0.421967 & 2.98865 \\\\\n",
       "\t29 & -0.155651 & 1.77868 & 0.698357 & 1.44591 & 5.2359 \\\\\n",
       "\t30 & 1.79233 & 2.45388 & 2.46597 & 5.19985 & 21.5222 \\\\\n",
       "\t$\\dots$ & $\\dots$ & $\\dots$ & $\\dots$ & $\\dots$ & $\\dots$ \\\\\n",
       "\\end{tabular}\n"
      ],
      "text/plain": [
       "\u001b[1m1000×5 DataFrame\u001b[0m\n",
       "\u001b[1m  Row \u001b[0m│\u001b[1m U          \u001b[0m\u001b[1m Z          \u001b[0m\u001b[1m X           \u001b[0m\u001b[1m M          \u001b[0m\u001b[1m Y           \u001b[0m\n",
       "\u001b[1m      \u001b[0m│\u001b[90m Float64    \u001b[0m\u001b[90m Float64    \u001b[0m\u001b[90m Float64     \u001b[0m\u001b[90m Float64    \u001b[0m\u001b[90m Float64     \u001b[0m\n",
       "──────┼──────────────────────────────────────────────────────────────\n",
       "    1 │ -0.645731   -1.02273     0.601381    -0.478242    -0.680694\n",
       "    2 │ -1.46325    -3.59543    -1.59674     -3.03114    -12.7534\n",
       "    3 │ -1.6236     -4.02404    -2.26473     -3.15513    -12.8977\n",
       "    4 │ -0.217665   -0.694899    0.543338    -1.44812     -6.24713\n",
       "    5 │  0.492246   -0.812141    0.666015     0.766313     2.93599\n",
       "    6 │  0.98098     0.458256   -0.00201823   2.48413     10.1542\n",
       "    7 │  0.0799568  -0.263647   -0.0687812   -1.78078     -8.10506\n",
       "    8 │  1.54912     2.51359     0.375571     3.97917     17.0418\n",
       "    9 │ -1.34161    -3.88009    -1.11852     -3.98174    -15.2188\n",
       "   10 │  0.412162    1.23087     0.327378     1.23013      4.20427\n",
       "   11 │  0.593197    0.0557888  -0.36557     -0.0351385    0.916413\n",
       "  ⋮   │     ⋮           ⋮            ⋮           ⋮            ⋮\n",
       "  991 │  0.149776   -0.281913    0.395777     0.472068     0.0961085\n",
       "  992 │  0.801118    1.38454     0.34186      2.38738      9.99161\n",
       "  993 │  0.402365    1.39271     0.564277    -1.68602     -4.4467\n",
       "  994 │  0.0893779  -0.198927   -1.34268     -0.448652    -1.31411\n",
       "  995 │  0.406164   -0.584834    1.68907      3.69547     15.3414\n",
       "  996 │  1.28432     2.26537     4.03212      4.28225     16.0707\n",
       "  997 │ -0.0902471  -1.68996    -2.39928      0.51812      0.755701\n",
       "  998 │ -0.0563532  -0.0633359   0.797094     1.85367      7.15968\n",
       "  999 │ -0.0270624   0.184012    0.325029    -1.51521     -5.92588\n",
       " 1000 │ -0.172309   -0.709023   -0.6641      -0.478915    -1.37628\n",
       "\u001b[36m                                                     979 rows omitted\u001b[0m"
      ]
     },
     "execution_count": 13,
     "metadata": {},
     "output_type": "execute_result"
    }
   ],
   "source": [
    "Random.seed!(123)\n",
    "N = 1000 # number of data points\n",
    "\n",
    "# define simple linear model with added noise\n",
    "U = rand(Normal(0, 1), N)\n",
    "Z = 2*U + rand(Normal(0, 1), N)\n",
    "X = 0.5*Z + rand(Normal(0, 1), N)\n",
    "M = 1.5*U + 0.5*X + rand(Normal(0, 1), N)\n",
    "Y = 4*M + rand(Normal(0, 1), N)\n",
    "\n",
    "tb=DataFrame(U=U,Z=Z,X=X,M=M,Y=Y)"
   ]
  },
  {
   "cell_type": "code",
   "execution_count": 14,
   "metadata": {},
   "outputs": [
    {
     "name": "stdout",
     "output_type": "stream",
     "text": [
      "\n",
      "---------------------------------\n",
      "                       Y         \n",
      "              -------------------\n",
      "                   (1)        (2)\n",
      "---------------------------------\n",
      "(Intercept)     -0.346     -0.136\n",
      "               (0.202)    (0.154)\n",
      "X             4.781***   1.769***\n",
      "               (0.133)    (0.151)\n",
      "Z                        2.707***\n",
      "                          (0.100)\n",
      "---------------------------------\n",
      "Estimator          OLS        OLS\n",
      "---------------------------------\n",
      "N                1,000      1,000\n",
      "R2               0.563      0.747\n",
      "---------------------------------\n",
      "\n",
      "\n"
     ]
    }
   ],
   "source": [
    "# Regressions\n",
    "no_control = lm(@formula(Y ~ X), tb)        \n",
    "using_control = lm(@formula(Y ~ X+Z), tb)    \n",
    "\n",
    "# Summary results\n",
    "regtable(no_control , using_control, renderSettings = asciiOutput(), estimformat = \"%02.3f\")"
   ]
  },
  {
   "cell_type": "markdown",
   "metadata": {},
   "source": [
    "## Model 6: good control"
   ]
  },
  {
   "cell_type": "code",
   "execution_count": 121,
   "metadata": {},
   "outputs": [
    {
     "data": {
      "image/png": "[encoded data removed]"
     },
     "execution_count": 121,
     "metadata": {},
     "output_type": "execute_result"
    }
   ],
   "source": [
    "using GraphRecipes, Plots\n",
    "g = [0 0 1 0 0;\n",
    "     0 0 1 0 0;\n",
    "     0 0 0 1 0;\n",
    "     0 0 0 0 0;\n",
    "     1 1 0 0 0]\n",
    "\n",
    "graphplot(g, names=[\"Z\",\"X\",\"M\",\"Y\",\"U\"], curvature_scalar=0, nodesize=0.2, nodeshape=:circle, nodecolor = [colorant\"red\",colorant\"lightblue\",colorant\"lightblue\",colorant\"lightblue\",colorant\"white\"],method=:spring,arrow=1)"
   ]
  },
  {
   "cell_type": "code",
   "execution_count": 15,
   "metadata": {},
   "outputs": [
    {
     "data": {
      "text/html": [
       "<div class=\"data-frame\"><p>1,000 rows × 5 columns</p><table class=\"data-frame\"><thead><tr><th></th><th>U</th><th>Z</th><th>X</th><th>M</th><th>Y</th></tr><tr><th></th><th title=\"Float64\">Float64</th><th title=\"Float64\">Float64</th><th title=\"Float64\">Float64</th><th title=\"Float64\">Float64</th><th title=\"Float64\">Float64</th></tr></thead><tbody><tr><th>1</th><td>-0.645731</td><td>-1.02273</td><td>0.78988</td><td>-0.949488</td><td>-2.56568</td></tr><tr><th>2</th><td>-1.46325</td><td>-3.59543</td><td>-0.530651</td><td>-5.69637</td><td>-23.4144</td></tr><tr><th>3</th><td>-1.6236</td><td>-4.02404</td><td>-1.06452</td><td>-6.15568</td><td>-24.8999</td></tr><tr><th>4</th><td>-0.217665</td><td>-0.694899</td><td>0.781955</td><td>-2.04466</td><td>-8.6333</td></tr><tr><th>5</th><td>0.492246</td><td>-0.812141</td><td>1.31821</td><td>-0.86417</td><td>-3.58594</td></tr><tr><th>6</th><td>0.98098</td><td>0.458256</td><td>0.259344</td><td>1.83073</td><td>7.54062</td></tr><tr><th>7</th><td>0.0799568</td><td>-0.263647</td><td>0.103021</td><td>-2.21029</td><td>-9.82308</td></tr><tr><th>8</th><td>1.54912</td><td>2.51359</td><td>-0.106659</td><td>5.18475</td><td>21.8641</td></tr><tr><th>9</th><td>-1.34161</td><td>-3.88009</td><td>0.150726</td><td>-7.15484</td><td>-27.9112</td></tr><tr><th>10</th><td>0.412162</td><td>1.23087</td><td>-0.0819751</td><td>2.25351</td><td>8.2978</td></tr><tr><th>11</th><td>0.593197</td><td>0.0557888</td><td>-0.0968653</td><td>-0.706899</td><td>-1.77063</td></tr><tr><th>12</th><td>-0.768409</td><td>-1.74489</td><td>-1.87477</td><td>-3.72789</td><td>-15.6486</td></tr><tr><th>13</th><td>-0.0761679</td><td>-0.118385</td><td>-0.405184</td><td>-0.428907</td><td>-1.50283</td></tr><tr><th>14</th><td>-0.654901</td><td>-1.81616</td><td>0.970921</td><td>-4.11592</td><td>-16.6214</td></tr><tr><th>15</th><td>0.68706</td><td>1.82954</td><td>0.909463</td><td>1.4206</td><td>7.14546</td></tr><tr><th>16</th><td>-0.119465</td><td>0.708073</td><td>-2.30304</td><td>0.149346</td><td>0.208363</td></tr><tr><th>17</th><td>0.206075</td><td>-1.03224</td><td>-0.194146</td><td>-0.210244</td><td>-2.05555</td></tr><tr><th>18</th><td>-1.01901</td><td>-3.31653</td><td>-2.54301</td><td>-4.62892</td><td>-17.3886</td></tr><tr><th>19</th><td>0.505311</td><td>2.15032</td><td>-0.895009</td><td>4.57268</td><td>16.4036</td></tr><tr><th>20</th><td>-0.538298</td><td>-1.96546</td><td>2.07319</td><td>-3.74964</td><td>-14.6593</td></tr><tr><th>21</th><td>0.261401</td><td>0.743657</td><td>0.546295</td><td>1.92203</td><td>6.41765</td></tr><tr><th>22</th><td>-1.312</td><td>-2.37569</td><td>-0.210485</td><td>-3.18024</td><td>-12.8214</td></tr><tr><th>23</th><td>-1.27544</td><td>-1.60889</td><td>-2.35993</td><td>-4.25816</td><td>-17.366</td></tr><tr><th>24</th><td>0.388407</td><td>-1.4962</td><td>0.409598</td><td>-2.17654</td><td>-9.04376</td></tr><tr><th>25</th><td>0.109018</td><td>0.802426</td><td>-2.29</td><td>0.533517</td><td>3.08941</td></tr><tr><th>26</th><td>0.273589</td><td>0.757533</td><td>0.799968</td><td>0.470412</td><td>3.22134</td></tr><tr><th>27</th><td>0.0570974</td><td>-0.227933</td><td>-0.674553</td><td>-0.246543</td><td>-1.91596</td></tr><tr><th>28</th><td>0.39915</td><td>-0.344439</td><td>0.277868</td><td>-0.507519</td><td>-0.72929</td></tr><tr><th>29</th><td>-0.155651</td><td>1.77868</td><td>-0.26881</td><td>3.86382</td><td>14.9076</td></tr><tr><th>30</th><td>1.79233</td><td>2.45388</td><td>2.13519</td><td>6.02679</td><td>24.8299</td></tr><tr><th>&vellip;</th><td>&vellip;</td><td>&vellip;</td><td>&vellip;</td><td>&vellip;</td><td>&vellip;</td></tr></tbody></table></div>"
      ],
      "text/latex": [
       "\\begin{tabular}{r|ccccc}\n",
       "\t& U & Z & X & M & Y\\\\\n",
       "\t\\hline\n",
       "\t& Float64 & Float64 & Float64 & Float64 & Float64\\\\\n",
       "\t\\hline\n",
       "\t1 & -0.645731 & -1.02273 & 0.78988 & -0.949488 & -2.56568 \\\\\n",
       "\t2 & -1.46325 & -3.59543 & -0.530651 & -5.69637 & -23.4144 \\\\\n",
       "\t3 & -1.6236 & -4.02404 & -1.06452 & -6.15568 & -24.8999 \\\\\n",
       "\t4 & -0.217665 & -0.694899 & 0.781955 & -2.04466 & -8.6333 \\\\\n",
       "\t5 & 0.492246 & -0.812141 & 1.31821 & -0.86417 & -3.58594 \\\\\n",
       "\t6 & 0.98098 & 0.458256 & 0.259344 & 1.83073 & 7.54062 \\\\\n",
       "\t7 & 0.0799568 & -0.263647 & 0.103021 & -2.21029 & -9.82308 \\\\\n",
       "\t8 & 1.54912 & 2.51359 & -0.106659 & 5.18475 & 21.8641 \\\\\n",
       "\t9 & -1.34161 & -3.88009 & 0.150726 & -7.15484 & -27.9112 \\\\\n",
       "\t10 & 0.412162 & 1.23087 & -0.0819751 & 2.25351 & 8.2978 \\\\\n",
       "\t11 & 0.593197 & 0.0557888 & -0.0968653 & -0.706899 & -1.77063 \\\\\n",
       "\t12 & -0.768409 & -1.74489 & -1.87477 & -3.72789 & -15.6486 \\\\\n",
       "\t13 & -0.0761679 & -0.118385 & -0.405184 & -0.428907 & -1.50283 \\\\\n",
       "\t14 & -0.654901 & -1.81616 & 0.970921 & -4.11592 & -16.6214 \\\\\n",
       "\t15 & 0.68706 & 1.82954 & 0.909463 & 1.4206 & 7.14546 \\\\\n",
       "\t16 & -0.119465 & 0.708073 & -2.30304 & 0.149346 & 0.208363 \\\\\n",
       "\t17 & 0.206075 & -1.03224 & -0.194146 & -0.210244 & -2.05555 \\\\\n",
       "\t18 & -1.01901 & -3.31653 & -2.54301 & -4.62892 & -17.3886 \\\\\n",
       "\t19 & 0.505311 & 2.15032 & -0.895009 & 4.57268 & 16.4036 \\\\\n",
       "\t20 & -0.538298 & -1.96546 & 2.07319 & -3.74964 & -14.6593 \\\\\n",
       "\t21 & 0.261401 & 0.743657 & 0.546295 & 1.92203 & 6.41765 \\\\\n",
       "\t22 & -1.312 & -2.37569 & -0.210485 & -3.18024 & -12.8214 \\\\\n",
       "\t23 & -1.27544 & -1.60889 & -2.35993 & -4.25816 & -17.366 \\\\\n",
       "\t24 & 0.388407 & -1.4962 & 0.409598 & -2.17654 & -9.04376 \\\\\n",
       "\t25 & 0.109018 & 0.802426 & -2.29 & 0.533517 & 3.08941 \\\\\n",
       "\t26 & 0.273589 & 0.757533 & 0.799968 & 0.470412 & 3.22134 \\\\\n",
       "\t27 & 0.0570974 & -0.227933 & -0.674553 & -0.246543 & -1.91596 \\\\\n",
       "\t28 & 0.39915 & -0.344439 & 0.277868 & -0.507519 & -0.72929 \\\\\n",
       "\t29 & -0.155651 & 1.77868 & -0.26881 & 3.86382 & 14.9076 \\\\\n",
       "\t30 & 1.79233 & 2.45388 & 2.13519 & 6.02679 & 24.8299 \\\\\n",
       "\t$\\dots$ & $\\dots$ & $\\dots$ & $\\dots$ & $\\dots$ & $\\dots$ \\\\\n",
       "\\end{tabular}\n"
      ],
      "text/plain": [
       "\u001b[1m1000×5 DataFrame\u001b[0m\n",
       "\u001b[1m  Row \u001b[0m│\u001b[1m U          \u001b[0m\u001b[1m Z          \u001b[0m\u001b[1m X          \u001b[0m\u001b[1m M          \u001b[0m\u001b[1m Y          \u001b[0m\n",
       "\u001b[1m      \u001b[0m│\u001b[90m Float64    \u001b[0m\u001b[90m Float64    \u001b[0m\u001b[90m Float64    \u001b[0m\u001b[90m Float64    \u001b[0m\u001b[90m Float64    \u001b[0m\n",
       "──────┼────────────────────────────────────────────────────────────\n",
       "    1 │ -0.645731   -1.02273     0.78988    -0.949488    -2.56568\n",
       "    2 │ -1.46325    -3.59543    -0.530651   -5.69637    -23.4144\n",
       "    3 │ -1.6236     -4.02404    -1.06452    -6.15568    -24.8999\n",
       "    4 │ -0.217665   -0.694899    0.781955   -2.04466     -8.6333\n",
       "    5 │  0.492246   -0.812141    1.31821    -0.86417     -3.58594\n",
       "    6 │  0.98098     0.458256    0.259344    1.83073      7.54062\n",
       "    7 │  0.0799568  -0.263647    0.103021   -2.21029     -9.82308\n",
       "    8 │  1.54912     2.51359    -0.106659    5.18475     21.8641\n",
       "    9 │ -1.34161    -3.88009     0.150726   -7.15484    -27.9112\n",
       "   10 │  0.412162    1.23087    -0.0819751   2.25351      8.2978\n",
       "   11 │  0.593197    0.0557888  -0.0968653  -0.706899    -1.77063\n",
       "  ⋮   │     ⋮           ⋮           ⋮           ⋮           ⋮\n",
       "  991 │  0.149776   -0.281913    0.611622   -0.0675435   -2.06234\n",
       "  992 │  0.801118    1.38454     0.0501493   3.11666     12.9087\n",
       "  993 │  0.402365    1.39271     0.0691049  -0.448092     0.505025\n",
       "  994 │  0.0893779  -0.198927   -1.19853    -0.809032    -2.75564\n",
       "  995 │  0.406164   -0.584834    2.18457     2.45673     10.3864\n",
       "  996 │  1.28432     2.26537     3.5416      5.50857     20.976\n",
       "  997 │ -0.0902471  -1.68996    -1.59942    -1.48153     -7.24288\n",
       "  998 │ -0.0563532  -0.0633359   0.800585    1.84494      7.12476\n",
       "  999 │ -0.0270624   0.184012    0.219492   -1.25137     -4.87051\n",
       " 1000 │ -0.172309   -0.709023   -0.395743   -1.14981     -4.05985\n",
       "\u001b[36m                                                   979 rows omitted\u001b[0m"
      ]
     },
     "execution_count": 15,
     "metadata": {},
     "output_type": "execute_result"
    }
   ],
   "source": [
    "Random.seed!(123)\n",
    "N = 1000 # number of data points\n",
    "\n",
    "# define simple linear model with added noise\n",
    "U = rand(Normal(0, 1), N)\n",
    "Z = 2*U + rand(Normal(0, 1), N)\n",
    "X = 0.5*U + rand(Normal(0, 1), N)\n",
    "M = 1.5*Z + 0.5*X + rand(Normal(0, 1), N)\n",
    "Y = 4*M + rand(Normal(0, 1), N)\n",
    "\n",
    "tb=DataFrame(U=U,Z=Z,X=X,M=M,Y=Y)"
   ]
  },
  {
   "cell_type": "code",
   "execution_count": 16,
   "metadata": {},
   "outputs": [
    {
     "name": "stdout",
     "output_type": "stream",
     "text": [
      "\n",
      "---------------------------------\n",
      "                       Y         \n",
      "              -------------------\n",
      "                   (1)        (2)\n",
      "---------------------------------\n",
      "(Intercept)     -0.563     -0.062\n",
      "               (0.428)    (0.131)\n",
      "X             6.731***   1.786***\n",
      "               (0.377)    (0.126)\n",
      "Z                        6.161***\n",
      "                          (0.063)\n",
      "---------------------------------\n",
      "Estimator          OLS        OLS\n",
      "---------------------------------\n",
      "N                1,000      1,000\n",
      "R2               0.242      0.929\n",
      "---------------------------------\n",
      "\n",
      "\n"
     ]
    }
   ],
   "source": [
    "# Regressions\n",
    "no_control = lm(@formula(Y ~ X), tb)        \n",
    "using_control = lm(@formula(Y ~ X+Z), tb)    \n",
    "\n",
    "# Summary results\n",
    "regtable(no_control , using_control, renderSettings = asciiOutput(), estimformat = \"%02.3f\")"
   ]
  },
  {
   "cell_type": "markdown",
   "metadata": {},
   "source": [
    "## Model 7: bad control (M-bias)"
   ]
  },
  {
   "cell_type": "markdown",
   "metadata": {},
   "source": [
    "### Case 1"
   ]
  },
  {
   "cell_type": "code",
   "execution_count": 122,
   "metadata": {},
   "outputs": [
    {
     "data": {
      "image/png": "[encoded data removed]"
     },
     "execution_count": 122,
     "metadata": {},
     "output_type": "execute_result"
    }
   ],
   "source": [
    "using GraphRecipes, Plots\n",
    "g = [0 0 0 0 0;\n",
    "     0 0 0 1 0;\n",
    "     1 1 0 0 0;\n",
    "     0 0 0 0 0;\n",
    "     1 0 0 1 0]\n",
    "\n",
    "graphplot(g, names=[\"Z\",\"X\",\"U1\",\"Y\",\"U2\"], curvature_scalar=0, nodesize=0.2, nodeshape=:circle, nodecolor = [colorant\"red\",colorant\"lightblue\",colorant\"white\",colorant\"lightblue\",colorant\"white\"],method=:spring,arrow=1)"
   ]
  },
  {
   "cell_type": "code",
   "execution_count": 17,
   "metadata": {},
   "outputs": [
    {
     "data": {
      "text/html": [
       "<div class=\"data-frame\"><p>1,000 rows × 5 columns</p><table class=\"data-frame\"><thead><tr><th></th><th>U_1</th><th>U_2</th><th>Z</th><th>X</th><th>Y</th></tr><tr><th></th><th title=\"Float64\">Float64</th><th title=\"Float64\">Float64</th><th title=\"Float64\">Float64</th><th title=\"Float64\">Float64</th><th title=\"Float64\">Float64</th></tr></thead><tbody><tr><th>1</th><td>-0.645731</td><td>0.268734</td><td>0.924247</td><td>-1.1018</td><td>-1.53565</td></tr><tr><th>2</th><td>-1.46325</td><td>-0.668932</td><td>-0.865117</td><td>-2.9644</td><td>-10.8599</td></tr><tr><th>3</th><td>-1.6236</td><td>-0.776832</td><td>-1.45293</td><td>-2.83457</td><td>-10.3346</td></tr><tr><th>4</th><td>-0.217665</td><td>-0.259568</td><td>0.652171</td><td>-1.82862</td><td>-6.45966</td></tr><tr><th>5</th><td>0.492246</td><td>-1.79663</td><td>0.419892</td><td>0.679429</td><td>-1.68424</td></tr><tr><th>6</th><td>0.98098</td><td>-1.5037</td><td>-0.492508</td><td>2.97563</td><td>6.13719</td></tr><tr><th>7</th><td>0.0799568</td><td>-0.423561</td><td>-0.10876</td><td>-1.70642</td><td>-6.94829</td></tr><tr><th>8</th><td>1.54912</td><td>-0.584664</td><td>-0.398991</td><td>4.56595</td><td>13.6536</td></tr><tr><th>9</th><td>-1.34161</td><td>-1.19688</td><td>-0.447712</td><td>-4.09328</td><td>-13.9655</td></tr><tr><th>10</th><td>0.412162</td><td>0.406545</td><td>0.121297</td><td>1.27252</td><td>3.91441</td></tr><tr><th>11</th><td>0.593197</td><td>-1.13061</td><td>-0.662168</td><td>0.444245</td><td>0.12849</td></tr><tr><th>12</th><td>-0.768409</td><td>-0.208069</td><td>-1.9788</td><td>-1.70999</td><td>-6.28312</td></tr><tr><th>13</th><td>-0.0761679</td><td>0.033951</td><td>-0.388209</td><td>-0.201073</td><td>-0.322519</td></tr><tr><th>14</th><td>-0.654901</td><td>-0.506355</td><td>0.717743</td><td>-3.18695</td><td>-10.7313</td></tr><tr><th>15</th><td>0.68706</td><td>0.455424</td><td>1.13717</td><td>-0.404323</td><td>1.16092</td></tr><tr><th>16</th><td>-0.119465</td><td>0.947003</td><td>-1.82954</td><td>-0.000171932</td><td>1.50447</td></tr><tr><th>17</th><td>0.206075</td><td>-1.44439</td><td>-0.916341</td><td>1.84734</td><td>1.43867</td></tr><tr><th>18</th><td>-1.01901</td><td>-1.2785</td><td>-3.18226</td><td>-0.420648</td><td>-2.69182</td></tr><tr><th>19</th><td>0.505311</td><td>1.1397</td><td>-0.325161</td><td>2.80533</td><td>8.80824</td></tr><tr><th>20</th><td>-0.538298</td><td>-0.888869</td><td>1.62876</td><td>-2.91464</td><td>-10.1824</td></tr><tr><th>21</th><td>0.261401</td><td>0.220856</td><td>0.656722</td><td>1.0562</td><td>2.33984</td></tr><tr><th>22</th><td>-1.312</td><td>0.24831</td><td>-0.0863304</td><td>-2.13546</td><td>-6.01022</td></tr><tr><th>23</th><td>-1.27544</td><td>0.941992</td><td>-1.88894</td><td>-3.21574</td><td>-8.09655</td></tr><tr><th>24</th><td>0.388407</td><td>-2.27302</td><td>-0.72691</td><td>0.639775</td><td>-2.9643</td></tr><tr><th>25</th><td>0.109018</td><td>0.58439</td><td>-1.9978</td><td>0.692911</td><td>4.20285</td></tr><tr><th>26</th><td>0.273589</td><td>0.210354</td><td>0.905145</td><td>-0.518692</td><td>0.204324</td></tr><tr><th>27</th><td>0.0570974</td><td>-0.342127</td><td>-0.845617</td><td>0.546828</td><td>0.0264428</td></tr><tr><th>28</th><td>0.39915</td><td>-1.14274</td><td>-0.293501</td><td>0.668505</td><td>1.02082</td></tr><tr><th>29</th><td>-0.155651</td><td>2.08999</td><td>0.776183</td><td>1.0189</td><td>6.68895</td></tr><tr><th>30</th><td>1.79233</td><td>-1.13078</td><td>1.5698</td><td>4.86303</td><td>13.0503</td></tr><tr><th>&vellip;</th><td>&vellip;</td><td>&vellip;</td><td>&vellip;</td><td>&vellip;</td><td>&vellip;</td></tr></tbody></table></div>"
      ],
      "text/latex": [
       "\\begin{tabular}{r|ccccc}\n",
       "\t& U\\_1 & U\\_2 & Z & X & Y\\\\\n",
       "\t\\hline\n",
       "\t& Float64 & Float64 & Float64 & Float64 & Float64\\\\\n",
       "\t\\hline\n",
       "\t1 & -0.645731 & 0.268734 & 0.924247 & -1.1018 & -1.53565 \\\\\n",
       "\t2 & -1.46325 & -0.668932 & -0.865117 & -2.9644 & -10.8599 \\\\\n",
       "\t3 & -1.6236 & -0.776832 & -1.45293 & -2.83457 & -10.3346 \\\\\n",
       "\t4 & -0.217665 & -0.259568 & 0.652171 & -1.82862 & -6.45966 \\\\\n",
       "\t5 & 0.492246 & -1.79663 & 0.419892 & 0.679429 & -1.68424 \\\\\n",
       "\t6 & 0.98098 & -1.5037 & -0.492508 & 2.97563 & 6.13719 \\\\\n",
       "\t7 & 0.0799568 & -0.423561 & -0.10876 & -1.70642 & -6.94829 \\\\\n",
       "\t8 & 1.54912 & -0.584664 & -0.398991 & 4.56595 & 13.6536 \\\\\n",
       "\t9 & -1.34161 & -1.19688 & -0.447712 & -4.09328 & -13.9655 \\\\\n",
       "\t10 & 0.412162 & 0.406545 & 0.121297 & 1.27252 & 3.91441 \\\\\n",
       "\t11 & 0.593197 & -1.13061 & -0.662168 & 0.444245 & 0.12849 \\\\\n",
       "\t12 & -0.768409 & -0.208069 & -1.9788 & -1.70999 & -6.28312 \\\\\n",
       "\t13 & -0.0761679 & 0.033951 & -0.388209 & -0.201073 & -0.322519 \\\\\n",
       "\t14 & -0.654901 & -0.506355 & 0.717743 & -3.18695 & -10.7313 \\\\\n",
       "\t15 & 0.68706 & 0.455424 & 1.13717 & -0.404323 & 1.16092 \\\\\n",
       "\t16 & -0.119465 & 0.947003 & -1.82954 & -0.000171932 & 1.50447 \\\\\n",
       "\t17 & 0.206075 & -1.44439 & -0.916341 & 1.84734 & 1.43867 \\\\\n",
       "\t18 & -1.01901 & -1.2785 & -3.18226 & -0.420648 & -2.69182 \\\\\n",
       "\t19 & 0.505311 & 1.1397 & -0.325161 & 2.80533 & 8.80824 \\\\\n",
       "\t20 & -0.538298 & -0.888869 & 1.62876 & -2.91464 & -10.1824 \\\\\n",
       "\t21 & 0.261401 & 0.220856 & 0.656722 & 1.0562 & 2.33984 \\\\\n",
       "\t22 & -1.312 & 0.24831 & -0.0863304 & -2.13546 & -6.01022 \\\\\n",
       "\t23 & -1.27544 & 0.941992 & -1.88894 & -3.21574 & -8.09655 \\\\\n",
       "\t24 & 0.388407 & -2.27302 & -0.72691 & 0.639775 & -2.9643 \\\\\n",
       "\t25 & 0.109018 & 0.58439 & -1.9978 & 0.692911 & 4.20285 \\\\\n",
       "\t26 & 0.273589 & 0.210354 & 0.905145 & -0.518692 & 0.204324 \\\\\n",
       "\t27 & 0.0570974 & -0.342127 & -0.845617 & 0.546828 & 0.0264428 \\\\\n",
       "\t28 & 0.39915 & -1.14274 & -0.293501 & 0.668505 & 1.02082 \\\\\n",
       "\t29 & -0.155651 & 2.08999 & 0.776183 & 1.0189 & 6.68895 \\\\\n",
       "\t30 & 1.79233 & -1.13078 & 1.5698 & 4.86303 & 13.0503 \\\\\n",
       "\t$\\dots$ & $\\dots$ & $\\dots$ & $\\dots$ & $\\dots$ & $\\dots$ \\\\\n",
       "\\end{tabular}\n"
      ],
      "text/plain": [
       "\u001b[1m1000×5 DataFrame\u001b[0m\n",
       "\u001b[1m  Row \u001b[0m│\u001b[1m U_1        \u001b[0m\u001b[1m U_2        \u001b[0m\u001b[1m Z          \u001b[0m\u001b[1m X          \u001b[0m\u001b[1m Y          \u001b[0m\n",
       "\u001b[1m      \u001b[0m│\u001b[90m Float64    \u001b[0m\u001b[90m Float64    \u001b[0m\u001b[90m Float64    \u001b[0m\u001b[90m Float64    \u001b[0m\u001b[90m Float64    \u001b[0m\n",
       "──────┼────────────────────────────────────────────────────────────\n",
       "    1 │ -0.645731    0.268734    0.924247   -1.1018      -1.53565\n",
       "    2 │ -1.46325    -0.668932   -0.865117   -2.9644     -10.8599\n",
       "    3 │ -1.6236     -0.776832   -1.45293    -2.83457    -10.3346\n",
       "    4 │ -0.217665   -0.259568    0.652171   -1.82862     -6.45966\n",
       "    5 │  0.492246   -1.79663     0.419892    0.679429    -1.68424\n",
       "    6 │  0.98098    -1.5037     -0.492508    2.97563      6.13719\n",
       "    7 │  0.0799568  -0.423561   -0.10876    -1.70642     -6.94829\n",
       "    8 │  1.54912    -0.584664   -0.398991    4.56595     13.6536\n",
       "    9 │ -1.34161    -1.19688    -0.447712   -4.09328    -13.9655\n",
       "   10 │  0.412162    0.406545    0.121297    1.27252      3.91441\n",
       "   11 │  0.593197   -1.13061    -0.662168    0.444245     0.12849\n",
       "  ⋮   │     ⋮           ⋮           ⋮           ⋮           ⋮\n",
       "  991 │  0.149776   -0.581466    0.320889    0.349068    -1.90789\n",
       "  992 │  0.801118   -0.217697   -0.0586994   2.61701      7.85772\n",
       "  993 │  0.402365    0.58798     0.363095   -1.76698     -1.82758\n",
       "  994 │  0.0893779  -0.377682   -1.38737     0.267379     0.527265\n",
       "  995 │  0.406164   -1.39716     1.48599     3.05402      6.92726\n",
       "  996 │  1.28432    -0.303265    3.38996     2.90835      7.06021\n",
       "  997 │ -0.0902471  -1.50947    -2.35416     1.67264      0.68219\n",
       "  998 │ -0.0563532   0.0493706   0.82527     1.42694      4.12458\n",
       "  999 │ -0.0270624   0.238137    0.338561   -1.69125     -4.46253\n",
       " 1000 │ -0.172309   -0.364406   -0.577945   -0.23302     -0.888487\n",
       "\u001b[36m                                                   979 rows omitted\u001b[0m"
      ]
     },
     "execution_count": 17,
     "metadata": {},
     "output_type": "execute_result"
    }
   ],
   "source": [
    "Random.seed!(123)\n",
    "N = 1000 # number of data points\n",
    "\n",
    "# define simple linear model with added noise\n",
    "U_1 = rand(Normal(0, 1), N)\n",
    "U_2 = rand(Normal(0, 1), N)\n",
    "\n",
    "Z = 0.5*U_1 + 0.5*U_2 + rand(Normal(0, 1), N)\n",
    "X = 2*U_1 + rand(Normal(0, 1), N)\n",
    "Y = 3*X + 2*U_2 + rand(Normal(0, 1), N)\n",
    "\n",
    "tb=DataFrame(U_1=U_1,U_2=U_2,Z=Z,X=X,Y=Y)"
   ]
  },
  {
   "cell_type": "code",
   "execution_count": 18,
   "metadata": {},
   "outputs": [
    {
     "name": "stdout",
     "output_type": "stream",
     "text": [
      "\n",
      "---------------------------------\n",
      "                       Y         \n",
      "              -------------------\n",
      "                   (1)        (2)\n",
      "---------------------------------\n",
      "(Intercept)      0.044      0.008\n",
      "               (0.068)    (0.064)\n",
      "X             3.012***   2.888***\n",
      "               (0.029)    (0.029)\n",
      "Z                        0.666***\n",
      "                          (0.055)\n",
      "---------------------------------\n",
      "Estimator          OLS        OLS\n",
      "---------------------------------\n",
      "N                1,000      1,000\n",
      "R2               0.916      0.927\n",
      "---------------------------------\n",
      "\n",
      "\n"
     ]
    }
   ],
   "source": [
    "# Regressions\n",
    "no_control = lm(@formula(Y ~ X), tb)        \n",
    "using_control = lm(@formula(Y ~ X+Z), tb)    \n",
    "\n",
    "# Summary results\n",
    "regtable(no_control , using_control, renderSettings = asciiOutput(), estimformat = \"%02.3f\")"
   ]
  },
  {
   "cell_type": "markdown",
   "metadata": {},
   "source": [
    "### Case 2. Controlling or not for Z is equally bad"
   ]
  },
  {
   "cell_type": "code",
   "execution_count": 123,
   "metadata": {},
   "outputs": [
    {
     "data": {
      "image/png": "[encoded data removed]"
     },
     "execution_count": 123,
     "metadata": {},
     "output_type": "execute_result"
    }
   ],
   "source": [
    "using GraphRecipes, Plots\n",
    "g = [0 0 0 1 0;\n",
    "     0 0 0 1 0;\n",
    "     1 1 0 0 0;\n",
    "     0 0 0 0 0;\n",
    "     1 0 0 1 0]\n",
    "\n",
    "graphplot(g, names=[\"Z\",\"X\",\"U1\",\"Y\",\"U2\"], curvature_scalar=0, nodesize=0.2, nodeshape=:circle, nodecolor = [colorant\"red\",colorant\"lightblue\",colorant\"white\",colorant\"lightblue\",colorant\"white\"],method=:spring,arrow=1)"
   ]
  },
  {
   "cell_type": "code",
   "execution_count": 23,
   "metadata": {},
   "outputs": [
    {
     "data": {
      "text/html": [
       "<div class=\"data-frame\"><p>1,000 rows × 5 columns</p><table class=\"data-frame\"><thead><tr><th></th><th>U_1</th><th>U_2</th><th>Z</th><th>X</th><th>Y</th></tr><tr><th></th><th title=\"Float64\">Float64</th><th title=\"Float64\">Float64</th><th title=\"Float64\">Float64</th><th title=\"Float64\">Float64</th><th title=\"Float64\">Float64</th></tr></thead><tbody><tr><th>1</th><td>-0.645731</td><td>0.268734</td><td>0.924247</td><td>-1.1018</td><td>-1.51609</td></tr><tr><th>2</th><td>-1.46325</td><td>-0.668932</td><td>-0.865117</td><td>-2.9644</td><td>-14.1788</td></tr><tr><th>3</th><td>-1.6236</td><td>-0.776832</td><td>-1.45293</td><td>-2.83457</td><td>-14.934</td></tr><tr><th>4</th><td>-0.217665</td><td>-0.259568</td><td>0.652171</td><td>-1.82862</td><td>-5.07151</td></tr><tr><th>5</th><td>0.492246</td><td>-1.79663</td><td>0.419892</td><td>0.679429</td><td>3.7333</td></tr><tr><th>6</th><td>0.98098</td><td>-1.5037</td><td>-0.492508</td><td>2.97563</td><td>10.1215</td></tr><tr><th>7</th><td>0.0799568</td><td>-0.423561</td><td>-0.10876</td><td>-1.70642</td><td>-6.15878</td></tr><tr><th>8</th><td>1.54912</td><td>-0.584664</td><td>-0.398991</td><td>4.56595</td><td>17.1232</td></tr><tr><th>9</th><td>-1.34161</td><td>-1.19688</td><td>-0.447712</td><td>-4.09328</td><td>-15.1504</td></tr><tr><th>10</th><td>0.412162</td><td>0.406545</td><td>0.121297</td><td>1.27252</td><td>4.16823</td></tr><tr><th>11</th><td>0.593197</td><td>-1.13061</td><td>-0.662168</td><td>0.444245</td><td>2.25176</td></tr><tr><th>12</th><td>-0.768409</td><td>-0.208069</td><td>-1.9788</td><td>-1.70999</td><td>-11.3614</td></tr><tr><th>13</th><td>-0.0761679</td><td>0.033951</td><td>-0.388209</td><td>-0.201073</td><td>-1.31917</td></tr><tr><th>14</th><td>-0.654901</td><td>-0.506355</td><td>0.717743</td><td>-3.18695</td><td>-9.59288</td></tr><tr><th>15</th><td>0.68706</td><td>0.455424</td><td>1.13717</td><td>-0.404323</td><td>3.89854</td></tr><tr><th>16</th><td>-0.119465</td><td>0.947003</td><td>-1.82954</td><td>-0.000171932</td><td>-4.28755</td></tr><tr><th>17</th><td>0.206075</td><td>-1.44439</td><td>-0.916341</td><td>1.84734</td><td>2.90692</td></tr><tr><th>18</th><td>-1.01901</td><td>-1.2785</td><td>-3.18226</td><td>-0.420648</td><td>-8.53737</td></tr><tr><th>19</th><td>0.505311</td><td>1.1397</td><td>-0.325161</td><td>2.80533</td><td>6.88914</td></tr><tr><th>20</th><td>-0.538298</td><td>-0.888869</td><td>1.62876</td><td>-2.91464</td><td>-6.2237</td></tr><tr><th>21</th><td>0.261401</td><td>0.220856</td><td>0.656722</td><td>1.0562</td><td>3.73437</td></tr><tr><th>22</th><td>-1.312</td><td>0.24831</td><td>-0.0863304</td><td>-2.13546</td><td>-9.3035</td></tr><tr><th>23</th><td>-1.27544</td><td>0.941992</td><td>-1.88894</td><td>-3.21574</td><td>-16.3093</td></tr><tr><th>24</th><td>0.388407</td><td>-2.27302</td><td>-0.72691</td><td>0.639775</td><td>0.904723</td></tr><tr><th>25</th><td>0.109018</td><td>0.58439</td><td>-1.9978</td><td>0.692911</td><td>-0.743491</td></tr><tr><th>26</th><td>0.273589</td><td>0.210354</td><td>0.905145</td><td>-0.518692</td><td>2.14108</td></tr><tr><th>27</th><td>0.0570974</td><td>-0.342127</td><td>-0.845617</td><td>0.546828</td><td>-0.866341</td></tr><tr><th>28</th><td>0.39915</td><td>-1.14274</td><td>-0.293501</td><td>0.668505</td><td>3.5176</td></tr><tr><th>29</th><td>-0.155651</td><td>2.08999</td><td>0.776183</td><td>1.0189</td><td>3.75004</td></tr><tr><th>30</th><td>1.79233</td><td>-1.13078</td><td>1.5698</td><td>4.86303</td><td>22.0361</td></tr><tr><th>&vellip;</th><td>&vellip;</td><td>&vellip;</td><td>&vellip;</td><td>&vellip;</td><td>&vellip;</td></tr></tbody></table></div>"
      ],
      "text/latex": [
       "\\begin{tabular}{r|ccccc}\n",
       "\t& U\\_1 & U\\_2 & Z & X & Y\\\\\n",
       "\t\\hline\n",
       "\t& Float64 & Float64 & Float64 & Float64 & Float64\\\\\n",
       "\t\\hline\n",
       "\t1 & -0.645731 & 0.268734 & 0.924247 & -1.1018 & -1.51609 \\\\\n",
       "\t2 & -1.46325 & -0.668932 & -0.865117 & -2.9644 & -14.1788 \\\\\n",
       "\t3 & -1.6236 & -0.776832 & -1.45293 & -2.83457 & -14.934 \\\\\n",
       "\t4 & -0.217665 & -0.259568 & 0.652171 & -1.82862 & -5.07151 \\\\\n",
       "\t5 & 0.492246 & -1.79663 & 0.419892 & 0.679429 & 3.7333 \\\\\n",
       "\t6 & 0.98098 & -1.5037 & -0.492508 & 2.97563 & 10.1215 \\\\\n",
       "\t7 & 0.0799568 & -0.423561 & -0.10876 & -1.70642 & -6.15878 \\\\\n",
       "\t8 & 1.54912 & -0.584664 & -0.398991 & 4.56595 & 17.1232 \\\\\n",
       "\t9 & -1.34161 & -1.19688 & -0.447712 & -4.09328 & -15.1504 \\\\\n",
       "\t10 & 0.412162 & 0.406545 & 0.121297 & 1.27252 & 4.16823 \\\\\n",
       "\t11 & 0.593197 & -1.13061 & -0.662168 & 0.444245 & 2.25176 \\\\\n",
       "\t12 & -0.768409 & -0.208069 & -1.9788 & -1.70999 & -11.3614 \\\\\n",
       "\t13 & -0.0761679 & 0.033951 & -0.388209 & -0.201073 & -1.31917 \\\\\n",
       "\t14 & -0.654901 & -0.506355 & 0.717743 & -3.18695 & -9.59288 \\\\\n",
       "\t15 & 0.68706 & 0.455424 & 1.13717 & -0.404323 & 3.89854 \\\\\n",
       "\t16 & -0.119465 & 0.947003 & -1.82954 & -0.000171932 & -4.28755 \\\\\n",
       "\t17 & 0.206075 & -1.44439 & -0.916341 & 1.84734 & 2.90692 \\\\\n",
       "\t18 & -1.01901 & -1.2785 & -3.18226 & -0.420648 & -8.53737 \\\\\n",
       "\t19 & 0.505311 & 1.1397 & -0.325161 & 2.80533 & 6.88914 \\\\\n",
       "\t20 & -0.538298 & -0.888869 & 1.62876 & -2.91464 & -6.2237 \\\\\n",
       "\t21 & 0.261401 & 0.220856 & 0.656722 & 1.0562 & 3.73437 \\\\\n",
       "\t22 & -1.312 & 0.24831 & -0.0863304 & -2.13546 & -9.3035 \\\\\n",
       "\t23 & -1.27544 & 0.941992 & -1.88894 & -3.21574 & -16.3093 \\\\\n",
       "\t24 & 0.388407 & -2.27302 & -0.72691 & 0.639775 & 0.904723 \\\\\n",
       "\t25 & 0.109018 & 0.58439 & -1.9978 & 0.692911 & -0.743491 \\\\\n",
       "\t26 & 0.273589 & 0.210354 & 0.905145 & -0.518692 & 2.14108 \\\\\n",
       "\t27 & 0.0570974 & -0.342127 & -0.845617 & 0.546828 & -0.866341 \\\\\n",
       "\t28 & 0.39915 & -1.14274 & -0.293501 & 0.668505 & 3.5176 \\\\\n",
       "\t29 & -0.155651 & 2.08999 & 0.776183 & 1.0189 & 3.75004 \\\\\n",
       "\t30 & 1.79233 & -1.13078 & 1.5698 & 4.86303 & 22.0361 \\\\\n",
       "\t$\\dots$ & $\\dots$ & $\\dots$ & $\\dots$ & $\\dots$ & $\\dots$ \\\\\n",
       "\\end{tabular}\n"
      ],
      "text/plain": [
       "\u001b[1m1000×5 DataFrame\u001b[0m\n",
       "\u001b[1m  Row \u001b[0m│\u001b[1m U_1        \u001b[0m\u001b[1m U_2        \u001b[0m\u001b[1m Z          \u001b[0m\u001b[1m X          \u001b[0m\u001b[1m Y         \u001b[0m\n",
       "\u001b[1m      \u001b[0m│\u001b[90m Float64    \u001b[0m\u001b[90m Float64    \u001b[0m\u001b[90m Float64    \u001b[0m\u001b[90m Float64    \u001b[0m\u001b[90m Float64   \u001b[0m\n",
       "──────┼───────────────────────────────────────────────────────────\n",
       "    1 │ -0.645731    0.268734    0.924247   -1.1018      -1.51609\n",
       "    2 │ -1.46325    -0.668932   -0.865117   -2.9644     -14.1788\n",
       "    3 │ -1.6236     -0.776832   -1.45293    -2.83457    -14.934\n",
       "    4 │ -0.217665   -0.259568    0.652171   -1.82862     -5.07151\n",
       "    5 │  0.492246   -1.79663     0.419892    0.679429     3.7333\n",
       "    6 │  0.98098    -1.5037     -0.492508    2.97563     10.1215\n",
       "    7 │  0.0799568  -0.423561   -0.10876    -1.70642     -6.15878\n",
       "    8 │  1.54912    -0.584664   -0.398991    4.56595     17.1232\n",
       "    9 │ -1.34161    -1.19688    -0.447712   -4.09328    -15.1504\n",
       "   10 │  0.412162    0.406545    0.121297    1.27252      4.16823\n",
       "   11 │  0.593197   -1.13061    -0.662168    0.444245     2.25176\n",
       "  ⋮   │     ⋮           ⋮           ⋮           ⋮           ⋮\n",
       "  991 │  0.149776   -0.581466    0.320889    0.349068     0.19637\n",
       "  992 │  0.801118   -0.217697   -0.0586994   2.61701      9.77796\n",
       "  993 │  0.402365    0.58798     0.363095   -1.76698     -1.47262\n",
       "  994 │  0.0893779  -0.377682   -1.38737     0.267379    -1.31336\n",
       "  995 │  0.406164   -1.39716     1.48599     3.05402     13.5059\n",
       "  996 │  1.28432    -0.303265    3.38996     2.90835     17.0153\n",
       "  997 │ -0.0902471  -1.50947    -2.35416     1.67264     -1.18768\n",
       "  998 │ -0.0563532   0.0493706   0.82527     1.42694      5.56367\n",
       "  999 │ -0.0270624   0.238137    0.338561   -1.69125     -4.31581\n",
       " 1000 │ -0.172309   -0.364406   -0.577945   -0.23302     -1.66018\n",
       "\u001b[36m                                                  979 rows omitted\u001b[0m"
      ]
     },
     "execution_count": 23,
     "metadata": {},
     "output_type": "execute_result"
    }
   ],
   "source": [
    "Random.seed!(123)\n",
    "N = 1000 # number of data points\n",
    "\n",
    "# define simple linear model with added noise\n",
    "U_1 = rand(Normal(0, 1), N)\n",
    "U_2 = rand(Normal(0, 1), N)\n",
    "\n",
    "Z = 0.5*U_1 + 0.5*U_2 + rand(Normal(0, 1), N)\n",
    "X = 2*U_1 + rand(Normal(0, 1), N)\n",
    "Y = 3*X + 2*U_1 + 2*Z + rand(Normal(0, 1), N)\n",
    "\n",
    "tb=DataFrame(U_1=U_1,U_2=U_2,Z=Z,X=X,Y=Y)"
   ]
  },
  {
   "cell_type": "code",
   "execution_count": 20,
   "metadata": {
    "scrolled": true
   },
   "outputs": [
    {
     "name": "stdout",
     "output_type": "stream",
     "text": [
      "\n",
      "---------------------------------\n",
      "                       Y         \n",
      "              -------------------\n",
      "                   (1)        (2)\n",
      "---------------------------------\n",
      "(Intercept)      0.122      0.007\n",
      "               (0.089)    (0.043)\n",
      "X             4.163***   3.762***\n",
      "               (0.038)    (0.019)\n",
      "Z                        2.159***\n",
      "                          (0.037)\n",
      "---------------------------------\n",
      "Estimator          OLS        OLS\n",
      "---------------------------------\n",
      "N                1,000      1,000\n",
      "R2               0.923      0.983\n",
      "---------------------------------\n",
      "\n",
      "\n"
     ]
    }
   ],
   "source": [
    "# Regressions\n",
    "no_control = lm(@formula(Y ~ X), tb)        \n",
    "using_control = lm(@formula(Y ~ X+Z), tb)    \n",
    "\n",
    "# Summary results\n",
    "regtable(no_control , using_control, renderSettings = asciiOutput(), estimformat = \"%02.3f\")"
   ]
  },
  {
   "cell_type": "markdown",
   "metadata": {},
   "source": [
    "## Model 8: neutral control (possibly good for precision)"
   ]
  },
  {
   "cell_type": "code",
   "execution_count": 128,
   "metadata": {},
   "outputs": [
    {
     "data": {
      "image/png": "[encoded data removed]"
     },
     "execution_count": 128,
     "metadata": {},
     "output_type": "execute_result"
    }
   ],
   "source": [
    "using GraphRecipes, Plots\n",
    "g = [0 0 1;\n",
    "     0 0 1;\n",
    "     0 0 0]\n",
    "\n",
    "graphplot(g, names=[\"Z\",\"X\",\"Y\"], curvature_scalar=0, nodesize=0.2, nodeshape=:circle, nodecolor = [colorant\"red\",colorant\"lightblue\",colorant\"lightblue\"])"
   ]
  },
  {
   "cell_type": "code",
   "execution_count": 24,
   "metadata": {},
   "outputs": [
    {
     "data": {
      "text/html": [
       "<div class=\"data-frame\"><p>1,000 rows × 3 columns</p><table class=\"data-frame\"><thead><tr><th></th><th>Z</th><th>X</th><th>Y</th></tr><tr><th></th><th title=\"Float64\">Float64</th><th title=\"Float64\">Float64</th><th title=\"Float64\">Float64</th></tr></thead><tbody><tr><th>1</th><td>-0.645731</td><td>0.268734</td><td>0.627484</td></tr><tr><th>2</th><td>-1.46325</td><td>-0.668932</td><td>-4.73232</td></tr><tr><th>3</th><td>-1.6236</td><td>-0.776832</td><td>-5.83042</td></tr><tr><th>4</th><td>-0.217665</td><td>-0.259568</td><td>-0.323248</td></tr><tr><th>5</th><td>0.492246</td><td>-1.79663</td><td>-3.33332</td></tr><tr><th>6</th><td>0.98098</td><td>-1.5037</td><td>-2.7803</td></tr><tr><th>7</th><td>0.0799568</td><td>-0.423561</td><td>-1.04773</td></tr><tr><th>8</th><td>1.54912</td><td>-0.584664</td><td>0.463036</td></tr><tr><th>9</th><td>-1.34161</td><td>-1.19688</td><td>-5.45232</td></tr><tr><th>10</th><td>0.412162</td><td>0.406545</td><td>1.7559</td></tr><tr><th>11</th><td>0.593197</td><td>-1.13061</td><td>-2.59889</td></tr><tr><th>12</th><td>-0.768409</td><td>-0.208069</td><td>-3.65159</td></tr><tr><th>13</th><td>-0.0761679</td><td>0.033951</td><td>-0.417583</td></tr><tr><th>14</th><td>-0.654901</td><td>-0.506355</td><td>-1.5305</td></tr><tr><th>15</th><td>0.68706</td><td>0.455424</td><td>3.30632</td></tr><tr><th>16</th><td>-0.119465</td><td>0.947003</td><td>0.358769</td></tr><tr><th>17</th><td>0.206075</td><td>-1.44439</td><td>-4.21821</td></tr><tr><th>18</th><td>-1.01901</td><td>-1.2785</td><td>-7.90704</td></tr><tr><th>19</th><td>0.505311</td><td>1.1397</td><td>3.28205</td></tr><tr><th>20</th><td>-0.538298</td><td>-0.888869</td><td>-1.40086</td></tr><tr><th>21</th><td>0.261401</td><td>0.220856</td><td>1.60096</td></tr><tr><th>22</th><td>-1.312</td><td>0.24831</td><td>-1.43355</td></tr><tr><th>23</th><td>-1.27544</td><td>0.941992</td><td>-1.44712</td></tr><tr><th>24</th><td>0.388407</td><td>-2.27302</td><td>-5.82684</td></tr><tr><th>25</th><td>0.109018</td><td>0.58439</td><td>-0.373297</td></tr><tr><th>26</th><td>0.273589</td><td>0.210354</td><td>1.84141</td></tr><tr><th>27</th><td>0.0570974</td><td>-0.342127</td><td>-1.61529</td></tr><tr><th>28</th><td>0.39915</td><td>-1.14274</td><td>-2.55162</td></tr><tr><th>29</th><td>-0.155651</td><td>2.08999</td><td>5.76767</td></tr><tr><th>30</th><td>1.79233</td><td>-1.13078</td><td>1.43136</td></tr><tr><th>&vellip;</th><td>&vellip;</td><td>&vellip;</td><td>&vellip;</td></tr></tbody></table></div>"
      ],
      "text/latex": [
       "\\begin{tabular}{r|ccc}\n",
       "\t& Z & X & Y\\\\\n",
       "\t\\hline\n",
       "\t& Float64 & Float64 & Float64\\\\\n",
       "\t\\hline\n",
       "\t1 & -0.645731 & 0.268734 & 0.627484 \\\\\n",
       "\t2 & -1.46325 & -0.668932 & -4.73232 \\\\\n",
       "\t3 & -1.6236 & -0.776832 & -5.83042 \\\\\n",
       "\t4 & -0.217665 & -0.259568 & -0.323248 \\\\\n",
       "\t5 & 0.492246 & -1.79663 & -3.33332 \\\\\n",
       "\t6 & 0.98098 & -1.5037 & -2.7803 \\\\\n",
       "\t7 & 0.0799568 & -0.423561 & -1.04773 \\\\\n",
       "\t8 & 1.54912 & -0.584664 & 0.463036 \\\\\n",
       "\t9 & -1.34161 & -1.19688 & -5.45232 \\\\\n",
       "\t10 & 0.412162 & 0.406545 & 1.7559 \\\\\n",
       "\t11 & 0.593197 & -1.13061 & -2.59889 \\\\\n",
       "\t12 & -0.768409 & -0.208069 & -3.65159 \\\\\n",
       "\t13 & -0.0761679 & 0.033951 & -0.417583 \\\\\n",
       "\t14 & -0.654901 & -0.506355 & -1.5305 \\\\\n",
       "\t15 & 0.68706 & 0.455424 & 3.30632 \\\\\n",
       "\t16 & -0.119465 & 0.947003 & 0.358769 \\\\\n",
       "\t17 & 0.206075 & -1.44439 & -4.21821 \\\\\n",
       "\t18 & -1.01901 & -1.2785 & -7.90704 \\\\\n",
       "\t19 & 0.505311 & 1.1397 & 3.28205 \\\\\n",
       "\t20 & -0.538298 & -0.888869 & -1.40086 \\\\\n",
       "\t21 & 0.261401 & 0.220856 & 1.60096 \\\\\n",
       "\t22 & -1.312 & 0.24831 & -1.43355 \\\\\n",
       "\t23 & -1.27544 & 0.941992 & -1.44712 \\\\\n",
       "\t24 & 0.388407 & -2.27302 & -5.82684 \\\\\n",
       "\t25 & 0.109018 & 0.58439 & -0.373297 \\\\\n",
       "\t26 & 0.273589 & 0.210354 & 1.84141 \\\\\n",
       "\t27 & 0.0570974 & -0.342127 & -1.61529 \\\\\n",
       "\t28 & 0.39915 & -1.14274 & -2.55162 \\\\\n",
       "\t29 & -0.155651 & 2.08999 & 5.76767 \\\\\n",
       "\t30 & 1.79233 & -1.13078 & 1.43136 \\\\\n",
       "\t$\\dots$ & $\\dots$ & $\\dots$ & $\\dots$ \\\\\n",
       "\\end{tabular}\n"
      ],
      "text/plain": [
       "\u001b[1m1000×3 DataFrame\u001b[0m\n",
       "\u001b[1m  Row \u001b[0m│\u001b[1m Z          \u001b[0m\u001b[1m X          \u001b[0m\u001b[1m Y         \u001b[0m\n",
       "\u001b[1m      \u001b[0m│\u001b[90m Float64    \u001b[0m\u001b[90m Float64    \u001b[0m\u001b[90m Float64   \u001b[0m\n",
       "──────┼───────────────────────────────────\n",
       "    1 │ -0.645731    0.268734    0.627484\n",
       "    2 │ -1.46325    -0.668932   -4.73232\n",
       "    3 │ -1.6236     -0.776832   -5.83042\n",
       "    4 │ -0.217665   -0.259568   -0.323248\n",
       "    5 │  0.492246   -1.79663    -3.33332\n",
       "    6 │  0.98098    -1.5037     -2.7803\n",
       "    7 │  0.0799568  -0.423561   -1.04773\n",
       "    8 │  1.54912    -0.584664    0.463036\n",
       "    9 │ -1.34161    -1.19688    -5.45232\n",
       "   10 │  0.412162    0.406545    1.7559\n",
       "   11 │  0.593197   -1.13061    -2.59889\n",
       "  ⋮   │     ⋮           ⋮           ⋮\n",
       "  991 │  0.149776   -0.581466   -0.908111\n",
       "  992 │  0.801118   -0.217697    0.598735\n",
       "  993 │  0.402365    0.58798     2.43659\n",
       "  994 │  0.0893779  -0.377682   -2.19751\n",
       "  995 │  0.406164   -1.39716    -1.39767\n",
       "  996 │  1.28432    -0.303265    4.55828\n",
       "  997 │ -0.0902471  -1.50947    -6.2632\n",
       "  998 │ -0.0563532   0.0493706   0.864167\n",
       "  999 │ -0.0270624   0.238137    0.893308\n",
       " 1000 │ -0.172309   -0.364406   -1.74742\n",
       "\u001b[36m                          979 rows omitted\u001b[0m"
      ]
     },
     "execution_count": 24,
     "metadata": {},
     "output_type": "execute_result"
    }
   ],
   "source": [
    "Random.seed!(123)\n",
    "N = 1000 # number of data points\n",
    "\n",
    "# define simple linear model with added noise\n",
    "\n",
    "Z = rand(Normal(0, 1), N)\n",
    "X = rand(Normal(0, 1), N)\n",
    "Y = 3*X + 2*Z + rand(Normal(0, 1), N)\n",
    "\n",
    "tb=DataFrame(Z=Z,X=X,Y=Y)"
   ]
  },
  {
   "cell_type": "code",
   "execution_count": 25,
   "metadata": {},
   "outputs": [
    {
     "name": "stdout",
     "output_type": "stream",
     "text": [
      "\n",
      "---------------------------------\n",
      "                       Y         \n",
      "              -------------------\n",
      "                   (1)        (2)\n",
      "---------------------------------\n",
      "(Intercept)     -0.027      0.046\n",
      "               (0.073)    (0.032)\n",
      "X             3.005***   2.999***\n",
      "               (0.076)    (0.034)\n",
      "Z                        1.983***\n",
      "                          (0.031)\n",
      "---------------------------------\n",
      "Estimator          OLS        OLS\n",
      "---------------------------------\n",
      "N                1,000      1,000\n",
      "R2               0.609      0.923\n",
      "---------------------------------\n",
      "\n",
      "\n"
     ]
    }
   ],
   "source": [
    "# Regressions\n",
    "no_control = lm(@formula(Y ~ X), tb)        \n",
    "using_control = lm(@formula(Y ~ X+Z), tb)    \n",
    "\n",
    "# Summary results\n",
    "regtable(no_control , using_control, renderSettings = asciiOutput(), estimformat = \"%02.3f\")"
   ]
  },
  {
   "cell_type": "markdown",
   "metadata": {},
   "source": [
    "## Model 9: neutral control (possibly bad for precision)"
   ]
  },
  {
   "cell_type": "code",
   "execution_count": 129,
   "metadata": {},
   "outputs": [
    {
     "data": {
      "image/png": "[encoded data removed]"
     },
     "execution_count": 129,
     "metadata": {},
     "output_type": "execute_result"
    }
   ],
   "source": [
    "using GraphRecipes, Plots\n",
    "g = [0 1 0;\n",
    "     0 0 1;\n",
    "     0 0 0]\n",
    "\n",
    "graphplot(g, names=[\"Z\",\"X\",\"Y\"], curvature_scalar=0, nodesize=0.2, nodeshape=:circle, nodecolor = [colorant\"red\",colorant\"lightblue\",colorant\"lightblue\"])"
   ]
  },
  {
   "cell_type": "code",
   "execution_count": 26,
   "metadata": {},
   "outputs": [
    {
     "data": {
      "text/html": [
       "<div class=\"data-frame\"><p>1,000 rows × 3 columns</p><table class=\"data-frame\"><thead><tr><th></th><th>Z</th><th>X</th><th>Y</th></tr><tr><th></th><th title=\"Float64\">Float64</th><th title=\"Float64\">Float64</th><th title=\"Float64\">Float64</th></tr></thead><tbody><tr><th>1</th><td>-0.645731</td><td>-1.02273</td><td>-1.95544</td></tr><tr><th>2</th><td>-1.46325</td><td>-3.59543</td><td>-10.5853</td></tr><tr><th>3</th><td>-1.6236</td><td>-4.02404</td><td>-12.3248</td></tr><tr><th>4</th><td>-0.217665</td><td>-0.694899</td><td>-1.19391</td></tr><tr><th>5</th><td>0.492246</td><td>-0.812141</td><td>-1.36434</td></tr><tr><th>6</th><td>0.98098</td><td>0.458256</td><td>1.14362</td></tr><tr><th>7</th><td>0.0799568</td><td>-0.263647</td><td>-0.727898</td></tr><tr><th>8</th><td>1.54912</td><td>2.51359</td><td>6.65953</td></tr><tr><th>9</th><td>-1.34161</td><td>-3.88009</td><td>-10.8188</td></tr><tr><th>10</th><td>0.412162</td><td>1.23087</td><td>3.40455</td></tr><tr><th>11</th><td>0.593197</td><td>0.0557888</td><td>-0.226098</td></tr><tr><th>12</th><td>-0.768409</td><td>-1.74489</td><td>-6.72522</td></tr><tr><th>13</th><td>-0.0761679</td><td>-0.118385</td><td>-0.722255</td></tr><tr><th>14</th><td>-0.654901</td><td>-1.81616</td><td>-4.1501</td></tr><tr><th>15</th><td>0.68706</td><td>1.82954</td><td>6.05457</td></tr><tr><th>16</th><td>-0.119465</td><td>0.708073</td><td>-0.119091</td></tr><tr><th>17</th><td>0.206075</td><td>-1.03224</td><td>-3.39391</td></tr><tr><th>18</th><td>-1.01901</td><td>-3.31653</td><td>-11.9831</td></tr><tr><th>19</th><td>0.505311</td><td>2.15032</td><td>5.30329</td></tr><tr><th>20</th><td>-0.538298</td><td>-1.96546</td><td>-3.55405</td></tr><tr><th>21</th><td>0.261401</td><td>0.743657</td><td>2.64657</td></tr><tr><th>22</th><td>-1.312</td><td>-2.37569</td><td>-6.68155</td></tr><tr><th>23</th><td>-1.27544</td><td>-1.60889</td><td>-6.54889</td></tr><tr><th>24</th><td>0.388407</td><td>-1.4962</td><td>-4.27321</td></tr><tr><th>25</th><td>0.109018</td><td>0.802426</td><td>0.0627753</td></tr><tr><th>26</th><td>0.273589</td><td>0.757533</td><td>2.93577</td></tr><tr><th>27</th><td>0.0570974</td><td>-0.227933</td><td>-1.3869</td></tr><tr><th>28</th><td>0.39915</td><td>-0.344439</td><td>-0.955023</td></tr><tr><th>29</th><td>-0.155651</td><td>1.77868</td><td>5.14507</td></tr><tr><th>30</th><td>1.79233</td><td>2.45388</td><td>8.60067</td></tr><tr><th>&vellip;</th><td>&vellip;</td><td>&vellip;</td><td>&vellip;</td></tr></tbody></table></div>"
      ],
      "text/latex": [
       "\\begin{tabular}{r|ccc}\n",
       "\t& Z & X & Y\\\\\n",
       "\t\\hline\n",
       "\t& Float64 & Float64 & Float64\\\\\n",
       "\t\\hline\n",
       "\t1 & -0.645731 & -1.02273 & -1.95544 \\\\\n",
       "\t2 & -1.46325 & -3.59543 & -10.5853 \\\\\n",
       "\t3 & -1.6236 & -4.02404 & -12.3248 \\\\\n",
       "\t4 & -0.217665 & -0.694899 & -1.19391 \\\\\n",
       "\t5 & 0.492246 & -0.812141 & -1.36434 \\\\\n",
       "\t6 & 0.98098 & 0.458256 & 1.14362 \\\\\n",
       "\t7 & 0.0799568 & -0.263647 & -0.727898 \\\\\n",
       "\t8 & 1.54912 & 2.51359 & 6.65953 \\\\\n",
       "\t9 & -1.34161 & -3.88009 & -10.8188 \\\\\n",
       "\t10 & 0.412162 & 1.23087 & 3.40455 \\\\\n",
       "\t11 & 0.593197 & 0.0557888 & -0.226098 \\\\\n",
       "\t12 & -0.768409 & -1.74489 & -6.72522 \\\\\n",
       "\t13 & -0.0761679 & -0.118385 & -0.722255 \\\\\n",
       "\t14 & -0.654901 & -1.81616 & -4.1501 \\\\\n",
       "\t15 & 0.68706 & 1.82954 & 6.05457 \\\\\n",
       "\t16 & -0.119465 & 0.708073 & -0.119091 \\\\\n",
       "\t17 & 0.206075 & -1.03224 & -3.39391 \\\\\n",
       "\t18 & -1.01901 & -3.31653 & -11.9831 \\\\\n",
       "\t19 & 0.505311 & 2.15032 & 5.30329 \\\\\n",
       "\t20 & -0.538298 & -1.96546 & -3.55405 \\\\\n",
       "\t21 & 0.261401 & 0.743657 & 2.64657 \\\\\n",
       "\t22 & -1.312 & -2.37569 & -6.68155 \\\\\n",
       "\t23 & -1.27544 & -1.60889 & -6.54889 \\\\\n",
       "\t24 & 0.388407 & -1.4962 & -4.27321 \\\\\n",
       "\t25 & 0.109018 & 0.802426 & 0.0627753 \\\\\n",
       "\t26 & 0.273589 & 0.757533 & 2.93577 \\\\\n",
       "\t27 & 0.0570974 & -0.227933 & -1.3869 \\\\\n",
       "\t28 & 0.39915 & -0.344439 & -0.955023 \\\\\n",
       "\t29 & -0.155651 & 1.77868 & 5.14507 \\\\\n",
       "\t30 & 1.79233 & 2.45388 & 8.60067 \\\\\n",
       "\t$\\dots$ & $\\dots$ & $\\dots$ & $\\dots$ \\\\\n",
       "\\end{tabular}\n"
      ],
      "text/plain": [
       "\u001b[1m1000×3 DataFrame\u001b[0m\n",
       "\u001b[1m  Row \u001b[0m│\u001b[1m Z          \u001b[0m\u001b[1m X          \u001b[0m\u001b[1m Y          \u001b[0m\n",
       "\u001b[1m      \u001b[0m│\u001b[90m Float64    \u001b[0m\u001b[90m Float64    \u001b[0m\u001b[90m Float64    \u001b[0m\n",
       "──────┼────────────────────────────────────\n",
       "    1 │ -0.645731   -1.02273     -1.95544\n",
       "    2 │ -1.46325    -3.59543    -10.5853\n",
       "    3 │ -1.6236     -4.02404    -12.3248\n",
       "    4 │ -0.217665   -0.694899    -1.19391\n",
       "    5 │  0.492246   -0.812141    -1.36434\n",
       "    6 │  0.98098     0.458256     1.14362\n",
       "    7 │  0.0799568  -0.263647    -0.727898\n",
       "    8 │  1.54912     2.51359      6.65953\n",
       "    9 │ -1.34161    -3.88009    -10.8188\n",
       "   10 │  0.412162    1.23087      3.40455\n",
       "   11 │  0.593197    0.0557888   -0.226098\n",
       "  ⋮   │     ⋮           ⋮           ⋮\n",
       "  991 │  0.149776   -0.281913    -0.309005\n",
       "  992 │  0.801118    1.38454      3.80321\n",
       "  993 │  0.402365    1.39271      4.04605\n",
       "  994 │  0.0893779  -0.198927    -1.84\n",
       "  995 │  0.406164   -0.584834     0.226986\n",
       "  996 │  1.28432     2.26537      9.69556\n",
       "  997 │ -0.0902471  -1.68996     -6.62419\n",
       "  998 │ -0.0563532  -0.0633359    0.638754\n",
       "  999 │ -0.0270624   0.184012     0.785059\n",
       " 1000 │ -0.172309   -0.709023    -2.43666\n",
       "\u001b[36m                           979 rows omitted\u001b[0m"
      ]
     },
     "execution_count": 26,
     "metadata": {},
     "output_type": "execute_result"
    }
   ],
   "source": [
    "Random.seed!(123)\n",
    "N = 1000 # number of data points\n",
    "\n",
    "# define simple linear model with added noise\n",
    "\n",
    "Z = rand(Normal(0, 1), N)\n",
    "X = 2*Z + rand(Normal(0, 1), N)\n",
    "Y = 3*X + rand(Normal(0, 1), N)\n",
    "\n",
    "tb=DataFrame(Z=Z,X=X,Y=Y)"
   ]
  },
  {
   "cell_type": "code",
   "execution_count": 27,
   "metadata": {},
   "outputs": [
    {
     "name": "stdout",
     "output_type": "stream",
     "text": [
      "\n",
      "---------------------------------\n",
      "                       Y         \n",
      "              -------------------\n",
      "                   (1)        (2)\n",
      "---------------------------------\n",
      "(Intercept)      0.046      0.046\n",
      "               (0.032)    (0.032)\n",
      "X             2.993***   2.999***\n",
      "               (0.014)    (0.034)\n",
      "Z                          -0.014\n",
      "                          (0.075)\n",
      "---------------------------------\n",
      "Estimator          OLS        OLS\n",
      "---------------------------------\n",
      "N                1,000      1,000\n",
      "R2               0.978      0.978\n",
      "---------------------------------\n",
      "\n",
      "\n"
     ]
    }
   ],
   "source": [
    "# Regressions\n",
    "no_control = lm(@formula(Y ~ X), tb)        \n",
    "using_control = lm(@formula(Y ~ X+Z), tb)    \n",
    "\n",
    "# Summary results\n",
    "regtable(no_control , using_control, renderSettings = asciiOutput(), estimformat = \"%02.3f\")"
   ]
  },
  {
   "cell_type": "markdown",
   "metadata": {},
   "source": [
    "## Model 10: bad control (bias amplification)"
   ]
  },
  {
   "cell_type": "code",
   "execution_count": 136,
   "metadata": {},
   "outputs": [
    {
     "data": {
      "image/png": "[encoded data removed]"
     },
     "execution_count": 136,
     "metadata": {},
     "output_type": "execute_result"
    }
   ],
   "source": [
    "using GraphRecipes, Plots\n",
    "g = [0 1 0 0;\n",
    "     0 0 0 1;\n",
    "     0 1 0 1;\n",
    "     0 0 0 0]\n",
    "\n",
    "graphplot(g, names=[\"Z\",\"X\",\"U\",\"Y\"], curvature_scalar=0, nodesize=0.2, nodeshape=:circle, nodecolor = [colorant\"red\",colorant\"lightblue\",colorant\"white\",colorant\"lightblue\"],arrow=1,x = [-1,0,1,2],y = [1,0,1,0])"
   ]
  },
  {
   "cell_type": "code",
   "execution_count": 29,
   "metadata": {},
   "outputs": [
    {
     "data": {
      "text/html": [
       "<div class=\"data-frame\"><p>1,000 rows × 4 columns</p><table class=\"data-frame\"><thead><tr><th></th><th>U</th><th>Z</th><th>X</th><th>Y</th></tr><tr><th></th><th title=\"Float64\">Float64</th><th title=\"Float64\">Float64</th><th title=\"Float64\">Float64</th><th title=\"Float64\">Float64</th></tr></thead><tbody><tr><th>1</th><td>-0.645731</td><td>0.268734</td><td>-0.0443495</td><td>-1.83623</td></tr><tr><th>2</th><td>-1.46325</td><td>-0.668932</td><td>-3.05999</td><td>-10.5476</td></tr><tr><th>3</th><td>-1.6236</td><td>-0.776832</td><td>-3.88834</td><td>-12.2348</td></tr><tr><th>4</th><td>-0.217665</td><td>-0.259568</td><td>0.325673</td><td>-1.39494</td></tr><tr><th>5</th><td>0.492246</td><td>-1.79663</td><td>1.15826</td><td>3.4882</td></tr><tr><th>6</th><td>0.98098</td><td>-1.5037</td><td>0.978962</td><td>5.91454</td></tr><tr><th>7</th><td>0.0799568</td><td>-0.423561</td><td>0.0111756</td><td>-1.60411</td></tr><tr><th>8</th><td>1.54912</td><td>-0.584664</td><td>1.9247</td><td>9.96447</td></tr><tr><th>9</th><td>-1.34161</td><td>-1.19688</td><td>-2.46013</td><td>-10.3551</td></tr><tr><th>10</th><td>0.412162</td><td>0.406545</td><td>0.73954</td><td>3.16376</td></tr><tr><th>11</th><td>0.593197</td><td>-1.13061</td><td>0.227628</td><td>1.4927</td></tr><tr><th>12</th><td>-0.768409</td><td>-0.208069</td><td>-3.13141</td><td>-8.74123</td></tr><tr><th>13</th><td>-0.0761679</td><td>0.033951</td><td>-0.502461</td><td>-1.28216</td></tr><tr><th>14</th><td>-0.654901</td><td>-0.506355</td><td>-0.264608</td><td>-4.37106</td></tr><tr><th>15</th><td>0.68706</td><td>0.455424</td><td>2.16777</td><td>4.61827</td></tr><tr><th>16</th><td>-0.119465</td><td>0.947003</td><td>-2.00874</td><td>-4.13711</td></tr><tr><th>17</th><td>0.206075</td><td>-1.44439</td><td>-0.607229</td><td>0.838958</td></tr><tr><th>18</th><td>-1.01901</td><td>-1.2785</td><td>-4.71078</td><td>-10.8612</td></tr><tr><th>19</th><td>0.505311</td><td>1.1397</td><td>0.432805</td><td>4.17625</td></tr><tr><th>20</th><td>-0.538298</td><td>-0.888869</td><td>0.821314</td><td>-1.81031</td></tr><tr><th>21</th><td>0.261401</td><td>0.220856</td><td>1.04882</td><td>3.41524</td></tr><tr><th>22</th><td>-1.312</td><td>0.24831</td><td>-2.05433</td><td>-7.55612</td></tr><tr><th>23</th><td>-1.27544</td><td>0.941992</td><td>-3.8021</td><td>-12.0954</td></tr><tr><th>24</th><td>0.388407</td><td>-2.27302</td><td>-0.144299</td><td>0.739584</td></tr><tr><th>25</th><td>0.109018</td><td>0.58439</td><td>-1.83427</td><td>-2.86662</td></tr><tr><th>26</th><td>0.273589</td><td>0.210354</td><td>1.31553</td><td>2.38596</td></tr><tr><th>27</th><td>0.0570974</td><td>-0.342127</td><td>-0.759971</td><td>-0.916016</td></tr><tr><th>28</th><td>0.39915</td><td>-1.14274</td><td>0.305223</td><td>1.6781</td></tr><tr><th>29</th><td>-0.155651</td><td>2.08999</td><td>0.542706</td><td>1.94866</td></tr><tr><th>30</th><td>1.79233</td><td>-1.13078</td><td>4.2583</td><td>15.172</td></tr><tr><th>&vellip;</th><td>&vellip;</td><td>&vellip;</td><td>&vellip;</td><td>&vellip;</td></tr></tbody></table></div>"
      ],
      "text/latex": [
       "\\begin{tabular}{r|cccc}\n",
       "\t& U & Z & X & Y\\\\\n",
       "\t\\hline\n",
       "\t& Float64 & Float64 & Float64 & Float64\\\\\n",
       "\t\\hline\n",
       "\t1 & -0.645731 & 0.268734 & -0.0443495 & -1.83623 \\\\\n",
       "\t2 & -1.46325 & -0.668932 & -3.05999 & -10.5476 \\\\\n",
       "\t3 & -1.6236 & -0.776832 & -3.88834 & -12.2348 \\\\\n",
       "\t4 & -0.217665 & -0.259568 & 0.325673 & -1.39494 \\\\\n",
       "\t5 & 0.492246 & -1.79663 & 1.15826 & 3.4882 \\\\\n",
       "\t6 & 0.98098 & -1.5037 & 0.978962 & 5.91454 \\\\\n",
       "\t7 & 0.0799568 & -0.423561 & 0.0111756 & -1.60411 \\\\\n",
       "\t8 & 1.54912 & -0.584664 & 1.9247 & 9.96447 \\\\\n",
       "\t9 & -1.34161 & -1.19688 & -2.46013 & -10.3551 \\\\\n",
       "\t10 & 0.412162 & 0.406545 & 0.73954 & 3.16376 \\\\\n",
       "\t11 & 0.593197 & -1.13061 & 0.227628 & 1.4927 \\\\\n",
       "\t12 & -0.768409 & -0.208069 & -3.13141 & -8.74123 \\\\\n",
       "\t13 & -0.0761679 & 0.033951 & -0.502461 & -1.28216 \\\\\n",
       "\t14 & -0.654901 & -0.506355 & -0.264608 & -4.37106 \\\\\n",
       "\t15 & 0.68706 & 0.455424 & 2.16777 & 4.61827 \\\\\n",
       "\t16 & -0.119465 & 0.947003 & -2.00874 & -4.13711 \\\\\n",
       "\t17 & 0.206075 & -1.44439 & -0.607229 & 0.838958 \\\\\n",
       "\t18 & -1.01901 & -1.2785 & -4.71078 & -10.8612 \\\\\n",
       "\t19 & 0.505311 & 1.1397 & 0.432805 & 4.17625 \\\\\n",
       "\t20 & -0.538298 & -0.888869 & 0.821314 & -1.81031 \\\\\n",
       "\t21 & 0.261401 & 0.220856 & 1.04882 & 3.41524 \\\\\n",
       "\t22 & -1.312 & 0.24831 & -2.05433 & -7.55612 \\\\\n",
       "\t23 & -1.27544 & 0.941992 & -3.8021 & -12.0954 \\\\\n",
       "\t24 & 0.388407 & -2.27302 & -0.144299 & 0.739584 \\\\\n",
       "\t25 & 0.109018 & 0.58439 & -1.83427 & -2.86662 \\\\\n",
       "\t26 & 0.273589 & 0.210354 & 1.31553 & 2.38596 \\\\\n",
       "\t27 & 0.0570974 & -0.342127 & -0.759971 & -0.916016 \\\\\n",
       "\t28 & 0.39915 & -1.14274 & 0.305223 & 1.6781 \\\\\n",
       "\t29 & -0.155651 & 2.08999 & 0.542706 & 1.94866 \\\\\n",
       "\t30 & 1.79233 & -1.13078 & 4.2583 & 15.172 \\\\\n",
       "\t$\\dots$ & $\\dots$ & $\\dots$ & $\\dots$ & $\\dots$ \\\\\n",
       "\\end{tabular}\n"
      ],
      "text/plain": [
       "\u001b[1m1000×4 DataFrame\u001b[0m\n",
       "\u001b[1m  Row \u001b[0m│\u001b[1m U          \u001b[0m\u001b[1m Z          \u001b[0m\u001b[1m X          \u001b[0m\u001b[1m Y         \u001b[0m\n",
       "\u001b[1m      \u001b[0m│\u001b[90m Float64    \u001b[0m\u001b[90m Float64    \u001b[0m\u001b[90m Float64    \u001b[0m\u001b[90m Float64   \u001b[0m\n",
       "──────┼───────────────────────────────────────────────\n",
       "    1 │ -0.645731    0.268734   -0.0443495   -1.83623\n",
       "    2 │ -1.46325    -0.668932   -3.05999    -10.5476\n",
       "    3 │ -1.6236     -0.776832   -3.88834    -12.2348\n",
       "    4 │ -0.217665   -0.259568    0.325673    -1.39494\n",
       "    5 │  0.492246   -1.79663     1.15826      3.4882\n",
       "    6 │  0.98098    -1.5037      0.978962     5.91454\n",
       "    7 │  0.0799568  -0.423561    0.0111756   -1.60411\n",
       "    8 │  1.54912    -0.584664    1.9247       9.96447\n",
       "    9 │ -1.34161    -1.19688    -2.46013    -10.3551\n",
       "   10 │  0.412162    0.406545    0.73954      3.16376\n",
       "   11 │  0.593197   -1.13061     0.227628     1.4927\n",
       "  ⋮   │     ⋮           ⋮           ⋮           ⋮\n",
       "  991 │  0.149776   -0.581466    0.545554     1.58995\n",
       "  992 │  0.801118   -0.217697    1.14298      5.70409\n",
       "  993 │  0.402365    0.58798     0.966642     0.56867\n",
       "  994 │  0.0893779  -0.377682   -1.2533      -2.14985\n",
       "  995 │  0.406164   -1.39716     2.09523      7.65065\n",
       "  996 │  1.28432    -0.303265    5.31644     14.8256\n",
       "  997 │ -0.0902471  -1.50947    -2.48953     -3.39666\n",
       "  998 │ -0.0563532   0.0493706   0.74074      2.85207\n",
       "  999 │ -0.0270624   0.238137    0.297967    -1.12238\n",
       " 1000 │ -0.172309   -0.364406   -0.836409    -2.07815\n",
       "\u001b[36m                                      979 rows omitted\u001b[0m"
      ]
     },
     "execution_count": 29,
     "metadata": {},
     "output_type": "execute_result"
    }
   ],
   "source": [
    "Random.seed!(123)\n",
    "N = 1000 # number of data points\n",
    "\n",
    "# define simple linear model with added noise\n",
    "U= rand(Normal(0, 1), N)\n",
    "Z = rand(Normal(0, 1), N)\n",
    "X = 0.5*Z + 2*U + rand(Normal(0, 1), N)\n",
    "Y = 2*X + 3*U + rand(Normal(0, 1), N)\n",
    "\n",
    "tb=DataFrame(U=U,Z=Z,X=X,Y=Y)"
   ]
  },
  {
   "cell_type": "code",
   "execution_count": 30,
   "metadata": {},
   "outputs": [
    {
     "name": "stdout",
     "output_type": "stream",
     "text": [
      "\n",
      "----------------------------------\n",
      "                        Y         \n",
      "              --------------------\n",
      "                   (1)         (2)\n",
      "----------------------------------\n",
      "(Intercept)     -0.110      -0.101\n",
      "               (0.058)     (0.056)\n",
      "X             3.178***    3.226***\n",
      "               (0.025)     (0.024)\n",
      "Z                        -0.567***\n",
      "                           (0.060)\n",
      "----------------------------------\n",
      "Estimator          OLS         OLS\n",
      "----------------------------------\n",
      "N                1,000       1,000\n",
      "R2               0.942       0.947\n",
      "----------------------------------\n",
      "\n",
      "\n"
     ]
    }
   ],
   "source": [
    "# Regressions\n",
    "no_control = lm(@formula(Y ~ X), tb)        \n",
    "using_control = lm(@formula(Y ~ X+Z), tb)    \n",
    "\n",
    "# Summary results\n",
    "regtable(no_control , using_control, renderSettings = asciiOutput(), estimformat = \"%02.3f\")"
   ]
  },
  {
   "cell_type": "markdown",
   "metadata": {},
   "source": [
    "## Model 11: bad control (overcontrol bias)"
   ]
  },
  {
   "cell_type": "code",
   "execution_count": 139,
   "metadata": {},
   "outputs": [
    {
     "data": {
      "image/png": "[encoded data removed]"
     },
     "execution_count": 139,
     "metadata": {},
     "output_type": "execute_result"
    }
   ],
   "source": [
    "using GraphRecipes, Plots\n",
    "g = [0 0 1;\n",
    "     1 0 0;\n",
    "     0 0 0]\n",
    "\n",
    "graphplot(g, names=[\"Z\",\"X\",\"Y\"], curvature_scalar=0, nodesize=0.2, nodeshape=:circle, nodecolor = [colorant\"red\",colorant\"lightblue\",colorant\"lightblue\"],x=[0,-1,1],y=[0,0,0])"
   ]
  },
  {
   "cell_type": "markdown",
   "metadata": {},
   "source": [
    "In this case,  Z is a mediator of the causal effect of X on Y"
   ]
  },
  {
   "cell_type": "code",
   "execution_count": 31,
   "metadata": {},
   "outputs": [
    {
     "data": {
      "text/html": [
       "<div class=\"data-frame\"><p>1,000 rows × 3 columns</p><table class=\"data-frame\"><thead><tr><th></th><th>Z</th><th>X</th><th>Y</th></tr><tr><th></th><th title=\"Float64\">Float64</th><th title=\"Float64\">Float64</th><th title=\"Float64\">Float64</th></tr></thead><tbody><tr><th>1</th><td>-0.0541318</td><td>-0.645731</td><td>1.00448</td></tr><tr><th>2</th><td>-1.40056</td><td>-1.46325</td><td>-2.60014</td></tr><tr><th>3</th><td>-1.58863</td><td>-1.6236</td><td>-3.42998</td></tr><tr><th>4</th><td>-0.368401</td><td>-0.217665</td><td>0.153986</td></tr><tr><th>5</th><td>-1.55051</td><td>0.492246</td><td>-2.02893</td></tr><tr><th>6</th><td>-1.01321</td><td>0.98098</td><td>-2.25757</td></tr><tr><th>7</th><td>-0.383582</td><td>0.0799568</td><td>-0.704122</td></tr><tr><th>8</th><td>0.189898</td><td>1.54912</td><td>-0.501425</td></tr><tr><th>9</th><td>-1.86768</td><td>-1.34161</td><td>-2.91383</td></tr><tr><th>10</th><td>0.612625</td><td>0.412162</td><td>0.937195</td></tr><tr><th>11</th><td>-0.834007</td><td>0.593197</td><td>-2.06148</td></tr><tr><th>12</th><td>-0.592274</td><td>-0.768409</td><td>-2.67511</td></tr><tr><th>13</th><td>-0.004133</td><td>-0.0761679</td><td>-0.375366</td></tr><tr><th>14</th><td>-0.833805</td><td>-0.654901</td><td>-0.36924</td></tr><tr><th>15</th><td>0.798954</td><td>0.68706</td><td>2.16384</td></tr><tr><th>16</th><td>0.88727</td><td>-0.119465</td><td>-0.468769</td></tr><tr><th>17</th><td>-1.34135</td><td>0.206075</td><td>-2.97989</td></tr><tr><th>18</th><td>-1.78801</td><td>-1.01901</td><td>-5.60952</td></tr><tr><th>19</th><td>1.39235</td><td>0.505311</td><td>1.63704</td></tr><tr><th>20</th><td>-1.15802</td><td>-0.538298</td><td>0.0263087</td></tr><tr><th>21</th><td>0.351556</td><td>0.261401</td><td>1.11871</td></tr><tr><th>22</th><td>-0.40769</td><td>-1.312</td><td>-0.369865</td></tr><tr><th>23</th><td>0.304271</td><td>-1.27544</td><td>-1.11367</td></tr><tr><th>24</th><td>-2.07881</td><td>0.388407</td><td>-3.94223</td></tr><tr><th>25</th><td>0.638899</td><td>0.109018</td><td>-1.06671</td></tr><tr><th>26</th><td>0.347149</td><td>0.273589</td><td>1.35747</td></tr><tr><th>27</th><td>-0.313579</td><td>0.0570974</td><td>-1.33026</td></tr><tr><th>28</th><td>-0.943163</td><td>0.39915</td><td>-1.80803</td></tr><tr><th>29</th><td>2.01216</td><td>-0.155651</td><td>3.83334</td></tr><tr><th>30</th><td>-0.234611</td><td>1.79233</td><td>0.769805</td></tr><tr><th>&vellip;</th><td>&vellip;</td><td>&vellip;</td><td>&vellip;</td></tr></tbody></table></div>"
      ],
      "text/latex": [
       "\\begin{tabular}{r|ccc}\n",
       "\t& Z & X & Y\\\\\n",
       "\t\\hline\n",
       "\t& Float64 & Float64 & Float64\\\\\n",
       "\t\\hline\n",
       "\t1 & -0.0541318 & -0.645731 & 1.00448 \\\\\n",
       "\t2 & -1.40056 & -1.46325 & -2.60014 \\\\\n",
       "\t3 & -1.58863 & -1.6236 & -3.42998 \\\\\n",
       "\t4 & -0.368401 & -0.217665 & 0.153986 \\\\\n",
       "\t5 & -1.55051 & 0.492246 & -2.02893 \\\\\n",
       "\t6 & -1.01321 & 0.98098 & -2.25757 \\\\\n",
       "\t7 & -0.383582 & 0.0799568 & -0.704122 \\\\\n",
       "\t8 & 0.189898 & 1.54912 & -0.501425 \\\\\n",
       "\t9 & -1.86768 & -1.34161 & -2.91383 \\\\\n",
       "\t10 & 0.612625 & 0.412162 & 0.937195 \\\\\n",
       "\t11 & -0.834007 & 0.593197 & -2.06148 \\\\\n",
       "\t12 & -0.592274 & -0.768409 & -2.67511 \\\\\n",
       "\t13 & -0.004133 & -0.0761679 & -0.375366 \\\\\n",
       "\t14 & -0.833805 & -0.654901 & -0.36924 \\\\\n",
       "\t15 & 0.798954 & 0.68706 & 2.16384 \\\\\n",
       "\t16 & 0.88727 & -0.119465 & -0.468769 \\\\\n",
       "\t17 & -1.34135 & 0.206075 & -2.97989 \\\\\n",
       "\t18 & -1.78801 & -1.01901 & -5.60952 \\\\\n",
       "\t19 & 1.39235 & 0.505311 & 1.63704 \\\\\n",
       "\t20 & -1.15802 & -0.538298 & 0.0263087 \\\\\n",
       "\t21 & 0.351556 & 0.261401 & 1.11871 \\\\\n",
       "\t22 & -0.40769 & -1.312 & -0.369865 \\\\\n",
       "\t23 & 0.304271 & -1.27544 & -1.11367 \\\\\n",
       "\t24 & -2.07881 & 0.388407 & -3.94223 \\\\\n",
       "\t25 & 0.638899 & 0.109018 & -1.06671 \\\\\n",
       "\t26 & 0.347149 & 0.273589 & 1.35747 \\\\\n",
       "\t27 & -0.313579 & 0.0570974 & -1.33026 \\\\\n",
       "\t28 & -0.943163 & 0.39915 & -1.80803 \\\\\n",
       "\t29 & 2.01216 & -0.155651 & 3.83334 \\\\\n",
       "\t30 & -0.234611 & 1.79233 & 0.769805 \\\\\n",
       "\t$\\dots$ & $\\dots$ & $\\dots$ & $\\dots$ \\\\\n",
       "\\end{tabular}\n"
      ],
      "text/plain": [
       "\u001b[1m1000×3 DataFrame\u001b[0m\n",
       "\u001b[1m  Row \u001b[0m│\u001b[1m Z          \u001b[0m\u001b[1m X          \u001b[0m\u001b[1m Y          \u001b[0m\n",
       "\u001b[1m      \u001b[0m│\u001b[90m Float64    \u001b[0m\u001b[90m Float64    \u001b[0m\u001b[90m Float64    \u001b[0m\n",
       "──────┼────────────────────────────────────\n",
       "    1 │ -0.0541318  -0.645731    1.00448\n",
       "    2 │ -1.40056    -1.46325    -2.60014\n",
       "    3 │ -1.58863    -1.6236     -3.42998\n",
       "    4 │ -0.368401   -0.217665    0.153986\n",
       "    5 │ -1.55051     0.492246   -2.02893\n",
       "    6 │ -1.01321     0.98098    -2.25757\n",
       "    7 │ -0.383582    0.0799568  -0.704122\n",
       "    8 │  0.189898    1.54912    -0.501425\n",
       "    9 │ -1.86768    -1.34161    -2.91383\n",
       "   10 │  0.612625    0.412162    0.937195\n",
       "   11 │ -0.834007    0.593197   -2.06148\n",
       "  ⋮   │     ⋮           ⋮           ⋮\n",
       "  991 │ -0.506578    0.149776   -0.476422\n",
       "  992 │  0.182862    0.801118    0.0153138\n",
       "  993 │  0.789162    0.402365    1.44625\n",
       "  994 │ -0.332993    0.0893779  -1.90921\n",
       "  995 │ -1.19408     0.406164   -0.40667\n",
       "  996 │  0.338894    1.28432     3.57722\n",
       "  997 │ -1.55459    -0.0902471  -4.66348\n",
       "  998 │  0.021194   -0.0563532   0.871149\n",
       "  999 │  0.224605   -0.0270624   0.682234\n",
       " 1000 │ -0.45056    -0.172309   -1.21071\n",
       "\u001b[36m                           979 rows omitted\u001b[0m"
      ]
     },
     "execution_count": 31,
     "metadata": {},
     "output_type": "execute_result"
    }
   ],
   "source": [
    "Random.seed!(123)\n",
    "N = 1000 # number of data points\n",
    "\n",
    "# define simple linear model with added noise\n",
    "X= rand(Normal(0, 1), N)\n",
    "Z = 0.5*X + rand(Normal(0, 1), N)\n",
    "Y = 2*Z + rand(Normal(0, 1), N)\n",
    "\n",
    "tb=DataFrame(Z=Z,X=X,Y=Y)"
   ]
  },
  {
   "cell_type": "code",
   "execution_count": 32,
   "metadata": {},
   "outputs": [
    {
     "name": "stdout",
     "output_type": "stream",
     "text": [
      "\n",
      "---------------------------------\n",
      "                       Y         \n",
      "              -------------------\n",
      "                   (1)        (2)\n",
      "---------------------------------\n",
      "(Intercept)      0.076      0.046\n",
      "               (0.068)    (0.032)\n",
      "X             0.988***     -0.016\n",
      "               (0.066)    (0.036)\n",
      "Z                        1.999***\n",
      "                          (0.034)\n",
      "---------------------------------\n",
      "Estimator          OLS        OLS\n",
      "---------------------------------\n",
      "N                1,000      1,000\n",
      "R2               0.183      0.818\n",
      "---------------------------------\n",
      "\n",
      "\n"
     ]
    }
   ],
   "source": [
    "# Regressions\n",
    "no_control = lm(@formula(Y ~ X), tb)        \n",
    "using_control = lm(@formula(Y ~ X+Z), tb)    \n",
    "\n",
    "# Summary results\n",
    "regtable(no_control , using_control, renderSettings = asciiOutput(), estimformat = \"%02.3f\")"
   ]
  },
  {
   "cell_type": "markdown",
   "metadata": {},
   "source": [
    "## Model 12: bad control (overcontrol bias)"
   ]
  },
  {
   "cell_type": "code",
   "execution_count": 142,
   "metadata": {},
   "outputs": [
    {
     "data": {
      "image/png": "[encoded data removed]"
     },
     "execution_count": 142,
     "metadata": {},
     "output_type": "execute_result"
    }
   ],
   "source": [
    "using GraphRecipes, Plots\n",
    "g = [0 0 0 0;\n",
    "     0 0 1 0;\n",
    "     1 0 0 1;\n",
    "     0 0 0 0]\n",
    "\n",
    "graphplot(g, names=[\"Z\",\"X\",\"M\",\"Y\"], curvature_scalar=0, nodesize=0.2, nodeshape=:circle, nodecolor = [colorant\"red\",colorant\"lightblue\",colorant\"lightblue\",colorant\"lightblue\"],method=:spring,arrow=1,x=[0,-1,0,1],y=[-1,0,0,0])"
   ]
  },
  {
   "cell_type": "code",
   "execution_count": 34,
   "metadata": {},
   "outputs": [
    {
     "data": {
      "text/html": [
       "<div class=\"data-frame\"><p>1,000 rows × 4 columns</p><table class=\"data-frame\"><thead><tr><th></th><th>M</th><th>Z</th><th>X</th><th>Y</th></tr><tr><th></th><th title=\"Float64\">Float64</th><th title=\"Float64\">Float64</th><th title=\"Float64\">Float64</th><th title=\"Float64\">Float64</th></tr></thead><tbody><tr><th>1</th><td>-2.31419</td><td>-0.0443495</td><td>-0.645731</td><td>-4.43871</td></tr><tr><th>2</th><td>-6.52194</td><td>-3.05999</td><td>-1.46325</td><td>-13.0818</td></tr><tr><th>3</th><td>-7.27125</td><td>-3.88834</td><td>-1.6236</td><td>-14.1299</td></tr><tr><th>4</th><td>-1.13023</td><td>0.325673</td><td>-0.217665</td><td>-3.65375</td></tr><tr><th>5</th><td>0.17235</td><td>1.15826</td><td>0.492246</td><td>0.039638</td></tr><tr><th>6</th><td>2.42022</td><td>0.978962</td><td>0.98098</td><td>5.85411</td></tr><tr><th>7</th><td>-0.103733</td><td>0.0111756</td><td>0.0799568</td><td>-2.0738</td></tr><tr><th>8</th><td>5.61183</td><td>1.9247</td><td>1.54912</td><td>12.6914</td></tr><tr><th>9</th><td>-6.56331</td><td>-2.46013</td><td>-1.34161</td><td>-14.5367</td></tr><tr><th>10</th><td>2.05519</td><td>0.73954</td><td>0.412162</td><td>4.55858</td></tr><tr><th>11</th><td>1.24218</td><td>0.227628</td><td>0.593197</td><td>1.74222</td></tr><tr><th>12</th><td>-3.2817</td><td>-3.13141</td><td>-0.768409</td><td>-6.73659</td></tr><tr><th>13</th><td>-0.270721</td><td>-0.502461</td><td>-0.0761679</td><td>-0.590179</td></tr><tr><th>14</th><td>-3.12596</td><td>-0.264608</td><td>-0.654901</td><td>-8.12906</td></tr><tr><th>15</th><td>3.20367</td><td>2.16777</td><td>0.68706</td><td>4.62889</td></tr><tr><th>16</th><td>0.469143</td><td>-2.00874</td><td>-0.119465</td><td>1.17704</td></tr><tr><th>17</th><td>-0.620091</td><td>-0.607229</td><td>0.206075</td><td>0.195008</td></tr><tr><th>18</th><td>-5.35456</td><td>-4.71078</td><td>-1.01901</td><td>-9.09174</td></tr><tr><th>19</th><td>3.16094</td><td>0.432805</td><td>0.505311</td><td>8.11658</td></tr><tr><th>20</th><td>-3.04206</td><td>0.821314</td><td>-0.538298</td><td>-7.92216</td></tr><tr><th>21</th><td>1.26646</td><td>1.04882</td><td>0.261401</td><td>3.06631</td></tr><tr><th>22</th><td>-4.99969</td><td>-2.05433</td><td>-1.312</td><td>-9.51084</td></tr><tr><th>23</th><td>-4.15978</td><td>-3.8021</td><td>-1.27544</td><td>-8.98441</td></tr><tr><th>24</th><td>-0.719386</td><td>-0.144299</td><td>0.388407</td><td>-1.57581</td></tr><tr><th>25</th><td>1.02046</td><td>-1.83427</td><td>0.109018</td><td>2.5158</td></tr><tr><th>26</th><td>1.30471</td><td>1.31553</td><td>0.273589</td><td>1.54355</td></tr><tr><th>27</th><td>-0.113738</td><td>-0.759971</td><td>0.0570974</td><td>0.205157</td></tr><tr><th>28</th><td>0.453861</td><td>0.305223</td><td>0.39915</td><td>0.777927</td></tr><tr><th>29</th><td>1.46738</td><td>0.542706</td><td>-0.155651</td><td>4.26497</td></tr><tr><th>30</th><td>6.03854</td><td>4.2583</td><td>1.79233</td><td>13.3555</td></tr><tr><th>&vellip;</th><td>&vellip;</td><td>&vellip;</td><td>&vellip;</td><td>&vellip;</td></tr></tbody></table></div>"
      ],
      "text/latex": [
       "\\begin{tabular}{r|cccc}\n",
       "\t& M & Z & X & Y\\\\\n",
       "\t\\hline\n",
       "\t& Float64 & Float64 & Float64 & Float64\\\\\n",
       "\t\\hline\n",
       "\t1 & -2.31419 & -0.0443495 & -0.645731 & -4.43871 \\\\\n",
       "\t2 & -6.52194 & -3.05999 & -1.46325 & -13.0818 \\\\\n",
       "\t3 & -7.27125 & -3.88834 & -1.6236 & -14.1299 \\\\\n",
       "\t4 & -1.13023 & 0.325673 & -0.217665 & -3.65375 \\\\\n",
       "\t5 & 0.17235 & 1.15826 & 0.492246 & 0.039638 \\\\\n",
       "\t6 & 2.42022 & 0.978962 & 0.98098 & 5.85411 \\\\\n",
       "\t7 & -0.103733 & 0.0111756 & 0.0799568 & -2.0738 \\\\\n",
       "\t8 & 5.61183 & 1.9247 & 1.54912 & 12.6914 \\\\\n",
       "\t9 & -6.56331 & -2.46013 & -1.34161 & -14.5367 \\\\\n",
       "\t10 & 2.05519 & 0.73954 & 0.412162 & 4.55858 \\\\\n",
       "\t11 & 1.24218 & 0.227628 & 0.593197 & 1.74222 \\\\\n",
       "\t12 & -3.2817 & -3.13141 & -0.768409 & -6.73659 \\\\\n",
       "\t13 & -0.270721 & -0.502461 & -0.0761679 & -0.590179 \\\\\n",
       "\t14 & -3.12596 & -0.264608 & -0.654901 & -8.12906 \\\\\n",
       "\t15 & 3.20367 & 2.16777 & 0.68706 & 4.62889 \\\\\n",
       "\t16 & 0.469143 & -2.00874 & -0.119465 & 1.17704 \\\\\n",
       "\t17 & -0.620091 & -0.607229 & 0.206075 & 0.195008 \\\\\n",
       "\t18 & -5.35456 & -4.71078 & -1.01901 & -9.09174 \\\\\n",
       "\t19 & 3.16094 & 0.432805 & 0.505311 & 8.11658 \\\\\n",
       "\t20 & -3.04206 & 0.821314 & -0.538298 & -7.92216 \\\\\n",
       "\t21 & 1.26646 & 1.04882 & 0.261401 & 3.06631 \\\\\n",
       "\t22 & -4.99969 & -2.05433 & -1.312 & -9.51084 \\\\\n",
       "\t23 & -4.15978 & -3.8021 & -1.27544 & -8.98441 \\\\\n",
       "\t24 & -0.719386 & -0.144299 & 0.388407 & -1.57581 \\\\\n",
       "\t25 & 1.02046 & -1.83427 & 0.109018 & 2.5158 \\\\\n",
       "\t26 & 1.30471 & 1.31553 & 0.273589 & 1.54355 \\\\\n",
       "\t27 & -0.113738 & -0.759971 & 0.0570974 & 0.205157 \\\\\n",
       "\t28 & 0.453861 & 0.305223 & 0.39915 & 0.777927 \\\\\n",
       "\t29 & 1.46738 & 0.542706 & -0.155651 & 4.26497 \\\\\n",
       "\t30 & 6.03854 & 4.2583 & 1.79233 & 13.3555 \\\\\n",
       "\t$\\dots$ & $\\dots$ & $\\dots$ & $\\dots$ & $\\dots$ \\\\\n",
       "\\end{tabular}\n"
      ],
      "text/plain": [
       "\u001b[1m1000×4 DataFrame\u001b[0m\n",
       "\u001b[1m  Row \u001b[0m│\u001b[1m M          \u001b[0m\u001b[1m Z          \u001b[0m\u001b[1m X          \u001b[0m\u001b[1m Y           \u001b[0m\n",
       "\u001b[1m      \u001b[0m│\u001b[90m Float64    \u001b[0m\u001b[90m Float64    \u001b[0m\u001b[90m Float64    \u001b[0m\u001b[90m Float64     \u001b[0m\n",
       "──────┼─────────────────────────────────────────────────\n",
       "    1 │ -2.31419    -0.0443495  -0.645731    -4.43871\n",
       "    2 │ -6.52194    -3.05999    -1.46325    -13.0818\n",
       "    3 │ -7.27125    -3.88834    -1.6236     -14.1299\n",
       "    4 │ -1.13023     0.325673   -0.217665    -3.65375\n",
       "    5 │  0.17235     1.15826     0.492246     0.039638\n",
       "    6 │  2.42022     0.978962    0.98098      5.85411\n",
       "    7 │ -0.103733    0.0111756   0.0799568   -2.0738\n",
       "    8 │  5.61183     1.9247      1.54912     12.6914\n",
       "    9 │ -6.56331    -2.46013    -1.34161    -14.5367\n",
       "   10 │  2.05519     0.73954     0.412162     4.55858\n",
       "   11 │  1.24218     0.227628    0.593197     1.74222\n",
       "  ⋮   │     ⋮           ⋮           ⋮            ⋮\n",
       "  991 │  0.01764     0.545554    0.149776     0.084795\n",
       "  992 │  2.98678     1.14298     0.801118     6.98833\n",
       "  993 │  2.19744     0.966642    0.402365     1.82317\n",
       "  994 │ -0.0201709  -1.2533      0.0893779    0.0482812\n",
       "  995 │  0.227493    2.09523     0.406164     2.69668\n",
       "  996 │  4.83401     5.31644     1.28432     10.0077\n",
       "  997 │ -1.87046    -2.48953    -0.0902471   -1.88779\n",
       "  998 │ -0.176042    0.74074    -0.0563532    1.18757\n",
       "  999 │  0.129887    0.297967   -0.0270624   -1.37736\n",
       " 1000 │ -1.05364    -0.836409   -0.172309    -1.99568\n",
       "\u001b[36m                                        979 rows omitted\u001b[0m"
      ]
     },
     "execution_count": 34,
     "metadata": {},
     "output_type": "execute_result"
    }
   ],
   "source": [
    "Random.seed!(123)\n",
    "N = 1000 # number of data points\n",
    "\n",
    "# define simple linear model with added noise\n",
    "X = rand(Normal(0, 1), N)\n",
    "M = 4*X + rand(Normal(0, 1), N)\n",
    "Z = 0.5*M + rand(Normal(0, 1), N)\n",
    "Y = 2*M + rand(Normal(0, 1), N)\n",
    "\n",
    "tb=DataFrame(M=M,Z=Z,X=X,Y=Y)"
   ]
  },
  {
   "cell_type": "code",
   "execution_count": 35,
   "metadata": {},
   "outputs": [
    {
     "name": "stdout",
     "output_type": "stream",
     "text": [
      "\n",
      "---------------------------------\n",
      "                       Y         \n",
      "              -------------------\n",
      "                   (1)        (2)\n",
      "---------------------------------\n",
      "(Intercept)      0.010     -0.027\n",
      "               (0.069)    (0.065)\n",
      "X             8.062***   6.703***\n",
      "               (0.067)    (0.130)\n",
      "Z                        0.685***\n",
      "                          (0.058)\n",
      "---------------------------------\n",
      "Estimator          OLS        OLS\n",
      "---------------------------------\n",
      "N                1,000      1,000\n",
      "R2               0.936      0.944\n",
      "---------------------------------\n",
      "\n",
      "\n"
     ]
    }
   ],
   "source": [
    "# Regressions\n",
    "no_control = lm(@formula(Y ~ X), tb)        \n",
    "using_control = lm(@formula(Y ~ X+Z), tb)    \n",
    "\n",
    "# Summary results\n",
    "regtable(no_control , using_control, renderSettings = asciiOutput(), estimformat = \"%02.3f\")"
   ]
  },
  {
   "cell_type": "markdown",
   "metadata": {},
   "source": [
    "## Model 13 - Neutral Control (probably good for precision)"
   ]
  },
  {
   "cell_type": "code",
   "execution_count": 144,
   "metadata": {},
   "outputs": [
    {
     "data": {
      "image/png": "[encoded data removed]"
     },
     "execution_count": 144,
     "metadata": {},
     "output_type": "execute_result"
    }
   ],
   "source": [
    "using GraphRecipes, Plots\n",
    "g = [0 0 1 0;\n",
    "     0 0 1 0;\n",
    "     0 0 0 1;\n",
    "     0 0 0 0]\n",
    "\n",
    "graphplot(g, names=[\"Z\",\"X\",\"M\",\"Y\"], curvature_scalar=0, nodesize=0.2, nodeshape=:circle, nodecolor = [colorant\"red\",colorant\"lightblue\",colorant\"lightblue\",colorant\"lightblue\"],method=:spring,arrow=1,x=[0,-1,0,1],y=[1,0,0,0])"
   ]
  },
  {
   "cell_type": "code",
   "execution_count": 37,
   "metadata": {},
   "outputs": [
    {
     "data": {
      "text/html": [
       "<div class=\"data-frame\"><p>1,000 rows × 4 columns</p><table class=\"data-frame\"><thead><tr><th></th><th>M</th><th>Z</th><th>X</th><th>Y</th></tr><tr><th></th><th title=\"Float64\">Float64</th><th title=\"Float64\">Float64</th><th title=\"Float64\">Float64</th><th title=\"Float64\">Float64</th></tr></thead><tbody><tr><th>1</th><td>0.627484</td><td>0.268734</td><td>-0.645731</td><td>1.44463</td></tr><tr><th>2</th><td>-4.73232</td><td>-0.668932</td><td>-1.46325</td><td>-9.50254</td></tr><tr><th>3</th><td>-5.83042</td><td>-0.776832</td><td>-1.6236</td><td>-11.2482</td></tr><tr><th>4</th><td>-0.323248</td><td>-0.259568</td><td>-0.217665</td><td>-2.03979</td></tr><tr><th>5</th><td>-3.33332</td><td>-1.79663</td><td>0.492246</td><td>-6.9717</td></tr><tr><th>6</th><td>-2.7803</td><td>-1.5037</td><td>0.98098</td><td>-4.54692</td></tr><tr><th>7</th><td>-1.04773</td><td>-0.423561</td><td>0.0799568</td><td>-3.96178</td></tr><tr><th>8</th><td>0.463036</td><td>-0.584664</td><td>1.54912</td><td>2.39377</td></tr><tr><th>9</th><td>-5.45232</td><td>-1.19688</td><td>-1.34161</td><td>-12.3147</td></tr><tr><th>10</th><td>1.7559</td><td>0.406545</td><td>0.412162</td><td>3.96</td></tr><tr><th>11</th><td>-2.59889</td><td>-1.13061</td><td>0.593197</td><td>-5.93992</td></tr><tr><th>12</th><td>-3.65159</td><td>-0.208069</td><td>-0.768409</td><td>-7.47635</td></tr><tr><th>13</th><td>-0.417583</td><td>0.033951</td><td>-0.0761679</td><td>-0.883904</td></tr><tr><th>14</th><td>-1.5305</td><td>-0.506355</td><td>-0.654901</td><td>-4.93814</td></tr><tr><th>15</th><td>3.30632</td><td>0.455424</td><td>0.68706</td><td>4.8342</td></tr><tr><th>16</th><td>0.358769</td><td>0.947003</td><td>-0.119465</td><td>0.956296</td></tr><tr><th>17</th><td>-4.21821</td><td>-1.44439</td><td>0.206075</td><td>-7.00122</td></tr><tr><th>18</th><td>-7.90704</td><td>-1.2785</td><td>-1.01901</td><td>-14.1967</td></tr><tr><th>19</th><td>3.28205</td><td>1.1397</td><td>0.505311</td><td>8.3588</td></tr><tr><th>20</th><td>-1.40086</td><td>-0.888869</td><td>-0.538298</td><td>-4.63976</td></tr><tr><th>21</th><td>1.60096</td><td>0.220856</td><td>0.261401</td><td>3.73532</td></tr><tr><th>22</th><td>-1.43355</td><td>0.24831</td><td>-1.312</td><td>-2.37857</td></tr><tr><th>23</th><td>-1.44712</td><td>0.941992</td><td>-1.27544</td><td>-3.55909</td></tr><tr><th>24</th><td>-5.82684</td><td>-2.27302</td><td>0.388407</td><td>-11.7907</td></tr><tr><th>25</th><td>-0.373297</td><td>0.58439</td><td>0.109018</td><td>-0.271719</td></tr><tr><th>26</th><td>1.84141</td><td>0.210354</td><td>0.273589</td><td>2.61696</td></tr><tr><th>27</th><td>-1.61529</td><td>-0.342127</td><td>0.0570974</td><td>-2.79795</td></tr><tr><th>28</th><td>-2.55162</td><td>-1.14274</td><td>0.39915</td><td>-5.23304</td></tr><tr><th>29</th><td>5.76767</td><td>2.08999</td><td>-0.155651</td><td>12.8655</td></tr><tr><th>30</th><td>1.43136</td><td>-1.13078</td><td>1.79233</td><td>4.14109</td></tr><tr><th>&vellip;</th><td>&vellip;</td><td>&vellip;</td><td>&vellip;</td><td>&vellip;</td></tr></tbody></table></div>"
      ],
      "text/latex": [
       "\\begin{tabular}{r|cccc}\n",
       "\t& M & Z & X & Y\\\\\n",
       "\t\\hline\n",
       "\t& Float64 & Float64 & Float64 & Float64\\\\\n",
       "\t\\hline\n",
       "\t1 & 0.627484 & 0.268734 & -0.645731 & 1.44463 \\\\\n",
       "\t2 & -4.73232 & -0.668932 & -1.46325 & -9.50254 \\\\\n",
       "\t3 & -5.83042 & -0.776832 & -1.6236 & -11.2482 \\\\\n",
       "\t4 & -0.323248 & -0.259568 & -0.217665 & -2.03979 \\\\\n",
       "\t5 & -3.33332 & -1.79663 & 0.492246 & -6.9717 \\\\\n",
       "\t6 & -2.7803 & -1.5037 & 0.98098 & -4.54692 \\\\\n",
       "\t7 & -1.04773 & -0.423561 & 0.0799568 & -3.96178 \\\\\n",
       "\t8 & 0.463036 & -0.584664 & 1.54912 & 2.39377 \\\\\n",
       "\t9 & -5.45232 & -1.19688 & -1.34161 & -12.3147 \\\\\n",
       "\t10 & 1.7559 & 0.406545 & 0.412162 & 3.96 \\\\\n",
       "\t11 & -2.59889 & -1.13061 & 0.593197 & -5.93992 \\\\\n",
       "\t12 & -3.65159 & -0.208069 & -0.768409 & -7.47635 \\\\\n",
       "\t13 & -0.417583 & 0.033951 & -0.0761679 & -0.883904 \\\\\n",
       "\t14 & -1.5305 & -0.506355 & -0.654901 & -4.93814 \\\\\n",
       "\t15 & 3.30632 & 0.455424 & 0.68706 & 4.8342 \\\\\n",
       "\t16 & 0.358769 & 0.947003 & -0.119465 & 0.956296 \\\\\n",
       "\t17 & -4.21821 & -1.44439 & 0.206075 & -7.00122 \\\\\n",
       "\t18 & -7.90704 & -1.2785 & -1.01901 & -14.1967 \\\\\n",
       "\t19 & 3.28205 & 1.1397 & 0.505311 & 8.3588 \\\\\n",
       "\t20 & -1.40086 & -0.888869 & -0.538298 & -4.63976 \\\\\n",
       "\t21 & 1.60096 & 0.220856 & 0.261401 & 3.73532 \\\\\n",
       "\t22 & -1.43355 & 0.24831 & -1.312 & -2.37857 \\\\\n",
       "\t23 & -1.44712 & 0.941992 & -1.27544 & -3.55909 \\\\\n",
       "\t24 & -5.82684 & -2.27302 & 0.388407 & -11.7907 \\\\\n",
       "\t25 & -0.373297 & 0.58439 & 0.109018 & -0.271719 \\\\\n",
       "\t26 & 1.84141 & 0.210354 & 0.273589 & 2.61696 \\\\\n",
       "\t27 & -1.61529 & -0.342127 & 0.0570974 & -2.79795 \\\\\n",
       "\t28 & -2.55162 & -1.14274 & 0.39915 & -5.23304 \\\\\n",
       "\t29 & 5.76767 & 2.08999 & -0.155651 & 12.8655 \\\\\n",
       "\t30 & 1.43136 & -1.13078 & 1.79233 & 4.14109 \\\\\n",
       "\t$\\dots$ & $\\dots$ & $\\dots$ & $\\dots$ & $\\dots$ \\\\\n",
       "\\end{tabular}\n"
      ],
      "text/plain": [
       "\u001b[1m1000×4 DataFrame\u001b[0m\n",
       "\u001b[1m  Row \u001b[0m│\u001b[1m M         \u001b[0m\u001b[1m Z          \u001b[0m\u001b[1m X          \u001b[0m\u001b[1m Y          \u001b[0m\n",
       "\u001b[1m      \u001b[0m│\u001b[90m Float64   \u001b[0m\u001b[90m Float64    \u001b[0m\u001b[90m Float64    \u001b[0m\u001b[90m Float64    \u001b[0m\n",
       "──────┼───────────────────────────────────────────────\n",
       "    1 │  0.627484   0.268734   -0.645731     1.44463\n",
       "    2 │ -4.73232   -0.668932   -1.46325     -9.50254\n",
       "    3 │ -5.83042   -0.776832   -1.6236     -11.2482\n",
       "    4 │ -0.323248  -0.259568   -0.217665    -2.03979\n",
       "    5 │ -3.33332   -1.79663     0.492246    -6.9717\n",
       "    6 │ -2.7803    -1.5037      0.98098     -4.54692\n",
       "    7 │ -1.04773   -0.423561    0.0799568   -3.96178\n",
       "    8 │  0.463036  -0.584664    1.54912      2.39377\n",
       "    9 │ -5.45232   -1.19688    -1.34161    -12.3147\n",
       "   10 │  1.7559     0.406545    0.412162     3.96\n",
       "   11 │ -2.59889   -1.13061     0.593197    -5.93992\n",
       "  ⋮   │     ⋮          ⋮           ⋮           ⋮\n",
       "  991 │ -0.908111  -0.581466    0.149776    -1.76671\n",
       "  992 │  0.598735  -0.217697    0.801118     2.21224\n",
       "  993 │  2.43659    0.58798     0.402365     2.30147\n",
       "  994 │ -2.19751   -0.377682    0.0893779   -4.3064\n",
       "  995 │ -1.39767   -1.39716     0.406164    -0.553642\n",
       "  996 │  4.55828   -0.303265    1.28432      9.45627\n",
       "  997 │ -6.2632    -1.50947    -0.0902471  -10.6733\n",
       "  998 │  0.864167   0.0493706  -0.0563532    3.26798\n",
       "  999 │  0.893308   0.238137   -0.0270624    0.149488\n",
       " 1000 │ -1.74742   -0.364406   -0.172309    -3.38325\n",
       "\u001b[36m                                      979 rows omitted\u001b[0m"
      ]
     },
     "execution_count": 37,
     "metadata": {},
     "output_type": "execute_result"
    }
   ],
   "source": [
    "Random.seed!(123)\n",
    "N = 1000 # number of data points\n",
    "\n",
    "# define simple linear model with added noise\n",
    "X = rand(Normal(0, 1), N)\n",
    "Z = rand(Normal(0, 1), N)\n",
    "M = 2*X + 3*Z + rand(Normal(0, 1), N)\n",
    "Y = 2*M + rand(Normal(0, 1), N)\n",
    "\n",
    "tb=DataFrame(M=M,Z=Z,X=X,Y=Y)"
   ]
  },
  {
   "cell_type": "code",
   "execution_count": 38,
   "metadata": {},
   "outputs": [
    {
     "name": "stdout",
     "output_type": "stream",
     "text": [
      "\n",
      "---------------------------------\n",
      "                       Y         \n",
      "              -------------------\n",
      "                   (1)        (2)\n",
      "---------------------------------\n",
      "(Intercept)      0.162      0.071\n",
      "               (0.195)    (0.070)\n",
      "X             4.039***   4.024***\n",
      "               (0.189)    (0.068)\n",
      "Z                        6.040***\n",
      "                          (0.074)\n",
      "---------------------------------\n",
      "Estimator          OLS        OLS\n",
      "---------------------------------\n",
      "N                1,000      1,000\n",
      "R2               0.315      0.911\n",
      "---------------------------------\n",
      "\n",
      "\n"
     ]
    }
   ],
   "source": [
    "# Regressions\n",
    "no_control = lm(@formula(Y ~ X), tb)        \n",
    "using_control = lm(@formula(Y ~ X+Z), tb)    \n",
    "\n",
    "# Summary results\n",
    "regtable(no_control , using_control, renderSettings = asciiOutput(), estimformat = \"%02.3f\")"
   ]
  },
  {
   "cell_type": "markdown",
   "metadata": {},
   "source": [
    "## Models 14 and 15 – Neutral Controls (possibly helpful in the case of selection bias)\n"
   ]
  },
  {
   "cell_type": "markdown",
   "metadata": {},
   "source": [
    "### Model 14"
   ]
  },
  {
   "cell_type": "code",
   "execution_count": 147,
   "metadata": {},
   "outputs": [
    {
     "data": {
      "image/png": "[encoded data removed]"
     },
     "execution_count": 147,
     "metadata": {},
     "output_type": "execute_result"
    }
   ],
   "source": [
    "using GraphRecipes, Plots\n",
    "g = [0 0 0;\n",
    "     1 0 1;\n",
    "     0 0 0]\n",
    "\n",
    "graphplot(g, names=[\"Z\",\"X\",\"Y\"], curvature_scalar=0, nodesize=0.2, nodeshape=:circle, nodecolor = [colorant\"red\",colorant\"lightblue\",colorant\"lightblue\"],x=[1,0,1.5],y=[-1,0,0])"
   ]
  },
  {
   "cell_type": "code",
   "execution_count": 39,
   "metadata": {},
   "outputs": [
    {
     "data": {
      "text/html": [
       "<div class=\"data-frame\"><p>1,000 rows × 3 columns</p><table class=\"data-frame\"><thead><tr><th></th><th>Z</th><th>X</th><th>Y</th></tr><tr><th></th><th title=\"Float64\">Float64</th><th title=\"Float64\">Float64</th><th title=\"Float64\">Float64</th></tr></thead><tbody><tr><th>1</th><td>-1.02273</td><td>-0.645731</td><td>0.467014</td></tr><tr><th>2</th><td>-3.59543</td><td>-1.46325</td><td>-1.26228</td></tr><tr><th>3</th><td>-4.02404</td><td>-1.6236</td><td>-1.87632</td></tr><tr><th>4</th><td>-0.694899</td><td>-0.217665</td><td>0.673123</td></tr><tr><th>5</th><td>-0.812141</td><td>0.492246</td><td>1.56433</td></tr><tr><th>6</th><td>0.458256</td><td>0.98098</td><td>0.749834</td></tr><tr><th>7</th><td>-0.263647</td><td>0.0799568</td><td>0.142999</td></tr><tr><th>8</th><td>2.51359</td><td>1.54912</td><td>0.667903</td></tr><tr><th>9</th><td>-3.88009</td><td>-1.34161</td><td>-0.520078</td></tr><tr><th>10</th><td>1.23087</td><td>0.412162</td><td>0.124106</td></tr><tr><th>11</th><td>0.0557888</td><td>0.593197</td><td>0.199733</td></tr><tr><th>12</th><td>-1.74489</td><td>-0.768409</td><td>-2.25897</td></tr><tr><th>13</th><td>-0.118385</td><td>-0.0761679</td><td>-0.443268</td></tr><tr><th>14</th><td>-1.81616</td><td>-0.654901</td><td>0.64347</td></tr><tr><th>15</th><td>1.82954</td><td>0.68706</td><td>1.25299</td></tr><tr><th>16</th><td>0.708073</td><td>-0.119465</td><td>-2.36277</td></tr><tr><th>17</th><td>-1.03224</td><td>0.206075</td><td>-0.0911081</td></tr><tr><th>18</th><td>-3.31653</td><td>-1.01901</td><td>-3.05252</td></tr><tr><th>19</th><td>2.15032</td><td>0.505311</td><td>-0.642354</td></tr><tr><th>20</th><td>-1.96546</td><td>-0.538298</td><td>1.80405</td></tr><tr><th>21</th><td>0.743657</td><td>0.261401</td><td>0.676995</td></tr><tr><th>22</th><td>-2.37569</td><td>-1.312</td><td>-0.866485</td></tr><tr><th>23</th><td>-1.60889</td><td>-1.27544</td><td>-2.99765</td></tr><tr><th>24</th><td>-1.4962</td><td>0.388407</td><td>0.603801</td></tr><tr><th>25</th><td>0.802426</td><td>0.109018</td><td>-2.23549</td></tr><tr><th>26</th><td>0.757533</td><td>0.273589</td><td>0.936763</td></tr><tr><th>27</th><td>-0.227933</td><td>0.0570974</td><td>-0.646004</td></tr><tr><th>28</th><td>-0.344439</td><td>0.39915</td><td>0.477443</td></tr><tr><th>29</th><td>1.77868</td><td>-0.155651</td><td>-0.346635</td></tr><tr><th>30</th><td>2.45388</td><td>1.79233</td><td>3.03136</td></tr><tr><th>&vellip;</th><td>&vellip;</td><td>&vellip;</td><td>&vellip;</td></tr></tbody></table></div>"
      ],
      "text/latex": [
       "\\begin{tabular}{r|ccc}\n",
       "\t& Z & X & Y\\\\\n",
       "\t\\hline\n",
       "\t& Float64 & Float64 & Float64\\\\\n",
       "\t\\hline\n",
       "\t1 & -1.02273 & -0.645731 & 0.467014 \\\\\n",
       "\t2 & -3.59543 & -1.46325 & -1.26228 \\\\\n",
       "\t3 & -4.02404 & -1.6236 & -1.87632 \\\\\n",
       "\t4 & -0.694899 & -0.217665 & 0.673123 \\\\\n",
       "\t5 & -0.812141 & 0.492246 & 1.56433 \\\\\n",
       "\t6 & 0.458256 & 0.98098 & 0.749834 \\\\\n",
       "\t7 & -0.263647 & 0.0799568 & 0.142999 \\\\\n",
       "\t8 & 2.51359 & 1.54912 & 0.667903 \\\\\n",
       "\t9 & -3.88009 & -1.34161 & -0.520078 \\\\\n",
       "\t10 & 1.23087 & 0.412162 & 0.124106 \\\\\n",
       "\t11 & 0.0557888 & 0.593197 & 0.199733 \\\\\n",
       "\t12 & -1.74489 & -0.768409 & -2.25897 \\\\\n",
       "\t13 & -0.118385 & -0.0761679 & -0.443268 \\\\\n",
       "\t14 & -1.81616 & -0.654901 & 0.64347 \\\\\n",
       "\t15 & 1.82954 & 0.68706 & 1.25299 \\\\\n",
       "\t16 & 0.708073 & -0.119465 & -2.36277 \\\\\n",
       "\t17 & -1.03224 & 0.206075 & -0.0911081 \\\\\n",
       "\t18 & -3.31653 & -1.01901 & -3.05252 \\\\\n",
       "\t19 & 2.15032 & 0.505311 & -0.642354 \\\\\n",
       "\t20 & -1.96546 & -0.538298 & 1.80405 \\\\\n",
       "\t21 & 0.743657 & 0.261401 & 0.676995 \\\\\n",
       "\t22 & -2.37569 & -1.312 & -0.866485 \\\\\n",
       "\t23 & -1.60889 & -1.27544 & -2.99765 \\\\\n",
       "\t24 & -1.4962 & 0.388407 & 0.603801 \\\\\n",
       "\t25 & 0.802426 & 0.109018 & -2.23549 \\\\\n",
       "\t26 & 0.757533 & 0.273589 & 0.936763 \\\\\n",
       "\t27 & -0.227933 & 0.0570974 & -0.646004 \\\\\n",
       "\t28 & -0.344439 & 0.39915 & 0.477443 \\\\\n",
       "\t29 & 1.77868 & -0.155651 & -0.346635 \\\\\n",
       "\t30 & 2.45388 & 1.79233 & 3.03136 \\\\\n",
       "\t$\\dots$ & $\\dots$ & $\\dots$ & $\\dots$ \\\\\n",
       "\\end{tabular}\n"
      ],
      "text/plain": [
       "\u001b[1m1000×3 DataFrame\u001b[0m\n",
       "\u001b[1m  Row \u001b[0m│\u001b[1m Z          \u001b[0m\u001b[1m X          \u001b[0m\u001b[1m Y         \u001b[0m\n",
       "\u001b[1m      \u001b[0m│\u001b[90m Float64    \u001b[0m\u001b[90m Float64    \u001b[0m\u001b[90m Float64   \u001b[0m\n",
       "──────┼───────────────────────────────────\n",
       "    1 │ -1.02273    -0.645731    0.467014\n",
       "    2 │ -3.59543    -1.46325    -1.26228\n",
       "    3 │ -4.02404    -1.6236     -1.87632\n",
       "    4 │ -0.694899   -0.217665    0.673123\n",
       "    5 │ -0.812141    0.492246    1.56433\n",
       "    6 │  0.458256    0.98098     0.749834\n",
       "    7 │ -0.263647    0.0799568   0.142999\n",
       "    8 │  2.51359     1.54912     0.667903\n",
       "    9 │ -3.88009    -1.34161    -0.520078\n",
       "   10 │  1.23087     0.412162    0.124106\n",
       "   11 │  0.0557888   0.593197    0.199733\n",
       "  ⋮   │     ⋮           ⋮           ⋮\n",
       "  991 │ -0.281913    0.149776    0.68651\n",
       "  992 │  1.38454     0.801118    0.450708\n",
       "  993 │  1.39271     0.402365    0.270287\n",
       "  994 │ -0.198927    0.0893779  -1.15384\n",
       "  995 │ -0.584834    0.406164    2.38765\n",
       "  996 │  2.26537     1.28432     4.18376\n",
       "  997 │ -1.68996    -0.0902471  -1.64454\n",
       "  998 │ -0.0633359  -0.0563532   0.772408\n",
       "  999 │  0.184012   -0.0270624   0.205961\n",
       " 1000 │ -0.709023   -0.172309   -0.481897\n",
       "\u001b[36m                          979 rows omitted\u001b[0m"
      ]
     },
     "execution_count": 39,
     "metadata": {},
     "output_type": "execute_result"
    }
   ],
   "source": [
    "Random.seed!(123)\n",
    "N = 1000 # number of data points\n",
    "\n",
    "# define simple linear model with added noise\n",
    "X = rand(Normal(0, 1), N)\n",
    "Z = 2*X + rand(Normal(0, 1), N)\n",
    "Y = X + rand(Normal(0, 1), N)\n",
    "\n",
    "tb=DataFrame(Z=Z,X=X,Y=Y)"
   ]
  },
  {
   "cell_type": "code",
   "execution_count": 40,
   "metadata": {},
   "outputs": [
    {
     "name": "stdout",
     "output_type": "stream",
     "text": [
      "\n",
      "---------------------------------\n",
      "                       Y         \n",
      "              -------------------\n",
      "                   (1)        (2)\n",
      "---------------------------------\n",
      "(Intercept)      0.046      0.046\n",
      "               (0.032)    (0.032)\n",
      "X             0.983***   0.986***\n",
      "               (0.031)    (0.075)\n",
      "Z                          -0.001\n",
      "                          (0.034)\n",
      "---------------------------------\n",
      "Estimator          OLS        OLS\n",
      "---------------------------------\n",
      "N                1,000      1,000\n",
      "R2               0.499      0.499\n",
      "---------------------------------\n",
      "\n",
      "\n"
     ]
    }
   ],
   "source": [
    "# Regressions\n",
    "no_control = lm(@formula(Y ~ X), tb)        \n",
    "using_control = lm(@formula(Y ~ X+Z), tb)    \n",
    "\n",
    "# Summary results\n",
    "regtable(no_control , using_control, renderSettings = asciiOutput(), estimformat = \"%02.3f\")"
   ]
  },
  {
   "cell_type": "markdown",
   "metadata": {},
   "source": [
    "### Model 15"
   ]
  },
  {
   "cell_type": "code",
   "execution_count": 150,
   "metadata": {},
   "outputs": [
    {
     "data": {
      "image/png": "[encoded data removed]"
     },
     "execution_count": 150,
     "metadata": {},
     "output_type": "execute_result"
    }
   ],
   "source": [
    "using GraphRecipes, Plots\n",
    "g = [0 0 0 0 1;\n",
    "     1 0 0 1 0;\n",
    "     0 0 0 1 1;\n",
    "     0 0 0 0 0;\n",
    "     0 0 0 0 0]\n",
    "\n",
    "graphplot(g, names=[\"Z\",\"X\",\"U\",\"Y\",\"W\"], curvature_scalar=0, nodesize=0.2, nodeshape=:circle, nodecolor = [colorant\"red\",colorant\"lightblue\",colorant\"white\",colorant\"lightblue\",colorant\"lightblue\"],method=:spring,arrow=1,x=[-0.5,-1,0,1,0],y=[-0.5,0,1,0,-1])"
   ]
  },
  {
   "cell_type": "code",
   "execution_count": 42,
   "metadata": {},
   "outputs": [
    {
     "data": {
      "text/html": [
       "<div class=\"data-frame\"><p>1,000 rows × 5 columns</p><table class=\"data-frame\"><thead><tr><th></th><th>Z</th><th>X</th><th>Y</th><th>W</th><th>U</th></tr><tr><th></th><th title=\"Float64\">Float64</th><th title=\"Float64\">Float64</th><th title=\"Float64\">Float64</th><th title=\"Float64\">Float64</th><th title=\"Float64\">Float64</th></tr></thead><tbody><tr><th>1</th><td>1.65021</td><td>0.268734</td><td>-1.15593</td><td>-0.28698</td><td>-0.645731</td></tr><tr><th>2</th><td>-1.13689</td><td>-0.668932</td><td>-4.36495</td><td>-5.52664</td><td>-1.46325</td></tr><tr><th>3</th><td>-1.80638</td><td>-0.776832</td><td>-4.4232</td><td>-6.67719</td><td>-1.6236</td></tr><tr><th>4</th><td>0.371651</td><td>-0.259568</td><td>-2.19702</td><td>-0.281344</td><td>-0.217665</td></tr><tr><th>5</th><td>-2.52118</td><td>-1.79663</td><td>-0.871081</td><td>-1.04444</td><td>0.492246</td></tr><tr><th>6</th><td>-3.23855</td><td>-1.5037</td><td>1.96242</td><td>-0.295614</td><td>0.98098</td></tr><tr><th>7</th><td>-0.784079</td><td>-0.423561</td><td>-2.09</td><td>-0.544208</td><td>0.0799568</td></tr><tr><th>8</th><td>-2.05055</td><td>-0.584664</td><td>4.75585</td><td>2.59682</td><td>1.54912</td></tr><tr><th>9</th><td>-1.57222</td><td>-1.19688</td><td>-5.96096</td><td>-5.59705</td><td>-1.34161</td></tr><tr><th>10</th><td>0.525033</td><td>0.406545</td><td>1.88515</td><td>1.76152</td><td>0.412162</td></tr><tr><th>11</th><td>-2.65468</td><td>-1.13061</td><td>-0.389762</td><td>-0.875084</td><td>0.593197</td></tr><tr><th>12</th><td>-1.9067</td><td>-0.208069</td><td>-2.30227</td><td>-4.21193</td><td>-0.768409</td></tr><tr><th>13</th><td>-0.299198</td><td>0.033951</td><td>-0.205206</td><td>-0.527702</td><td>-0.0761679</td></tr><tr><th>14</th><td>0.285661</td><td>-0.506355</td><td>-4.02075</td><td>-1.67904</td><td>-0.654901</td></tr><tr><th>15</th><td>1.47678</td><td>0.455424</td><td>0.394631</td><td>3.53796</td><td>0.68706</td></tr><tr><th>16</th><td>-0.349304</td><td>0.947003</td><td>0.887098</td><td>-0.707699</td><td>-0.119465</td></tr><tr><th>17</th><td>-3.18597</td><td>-1.44439</td><td>0.505986</td><td>-2.56774</td><td>0.206075</td></tr><tr><th>18</th><td>-4.59051</td><td>-1.2785</td><td>-2.20866</td><td>-7.64755</td><td>-1.01901</td></tr><tr><th>19</th><td>1.13173</td><td>1.1397</td><td>4.19768</td><td>2.64766</td><td>0.505311</td></tr><tr><th>20</th><td>0.564607</td><td>-0.888869</td><td>-4.07265</td><td>-1.05029</td><td>-0.538298</td></tr><tr><th>21</th><td>0.857305</td><td>0.220856</td><td>1.40775</td><td>1.64151</td><td>0.261401</td></tr><tr><th>22</th><td>0.942135</td><td>0.24831</td><td>-2.54315</td><td>-2.99386</td><td>-1.312</td></tr><tr><th>23</th><td>0.161773</td><td>0.941992</td><td>-2.91146</td><td>-3.66455</td><td>-1.27544</td></tr><tr><th>24</th><td>-4.33064</td><td>-2.27302</td><td>-1.43904</td><td>-3.16541</td><td>0.388407</td></tr><tr><th>25</th><td>-1.17572</td><td>0.58439</td><td>1.33181</td><td>-0.848669</td><td>0.109018</td></tr><tr><th>26</th><td>1.08388</td><td>0.210354</td><td>-0.171544</td><td>1.90465</td><td>0.273589</td></tr><tr><th>27</th><td>-1.38736</td><td>-0.342127</td><td>0.233249</td><td>-1.21606</td><td>0.0570974</td></tr><tr><th>28</th><td>-2.20718</td><td>-1.14274</td><td>-0.274658</td><td>-1.00973</td><td>0.39915</td></tr><tr><th>29</th><td>3.98899</td><td>2.08999</td><td>3.03106</td><td>3.52203</td><td>-0.155651</td></tr><tr><th>30</th><td>-1.02252</td><td>-1.13078</td><td>4.62842</td><td>4.35446</td><td>1.79233</td></tr><tr><th>&vellip;</th><td>&vellip;</td><td>&vellip;</td><td>&vellip;</td><td>&vellip;</td><td>&vellip;</td></tr></tbody></table></div>"
      ],
      "text/latex": [
       "\\begin{tabular}{r|ccccc}\n",
       "\t& Z & X & Y & W & U\\\\\n",
       "\t\\hline\n",
       "\t& Float64 & Float64 & Float64 & Float64 & Float64\\\\\n",
       "\t\\hline\n",
       "\t1 & 1.65021 & 0.268734 & -1.15593 & -0.28698 & -0.645731 \\\\\n",
       "\t2 & -1.13689 & -0.668932 & -4.36495 & -5.52664 & -1.46325 \\\\\n",
       "\t3 & -1.80638 & -0.776832 & -4.4232 & -6.67719 & -1.6236 \\\\\n",
       "\t4 & 0.371651 & -0.259568 & -2.19702 & -0.281344 & -0.217665 \\\\\n",
       "\t5 & -2.52118 & -1.79663 & -0.871081 & -1.04444 & 0.492246 \\\\\n",
       "\t6 & -3.23855 & -1.5037 & 1.96242 & -0.295614 & 0.98098 \\\\\n",
       "\t7 & -0.784079 & -0.423561 & -2.09 & -0.544208 & 0.0799568 \\\\\n",
       "\t8 & -2.05055 & -0.584664 & 4.75585 & 2.59682 & 1.54912 \\\\\n",
       "\t9 & -1.57222 & -1.19688 & -5.96096 & -5.59705 & -1.34161 \\\\\n",
       "\t10 & 0.525033 & 0.406545 & 1.88515 & 1.76152 & 0.412162 \\\\\n",
       "\t11 & -2.65468 & -1.13061 & -0.389762 & -0.875084 & 0.593197 \\\\\n",
       "\t12 & -1.9067 & -0.208069 & -2.30227 & -4.21193 & -0.768409 \\\\\n",
       "\t13 & -0.299198 & 0.033951 & -0.205206 & -0.527702 & -0.0761679 \\\\\n",
       "\t14 & 0.285661 & -0.506355 & -4.02075 & -1.67904 & -0.654901 \\\\\n",
       "\t15 & 1.47678 & 0.455424 & 0.394631 & 3.53796 & 0.68706 \\\\\n",
       "\t16 & -0.349304 & 0.947003 & 0.887098 & -0.707699 & -0.119465 \\\\\n",
       "\t17 & -3.18597 & -1.44439 & 0.505986 & -2.56774 & 0.206075 \\\\\n",
       "\t18 & -4.59051 & -1.2785 & -2.20866 & -7.64755 & -1.01901 \\\\\n",
       "\t19 & 1.13173 & 1.1397 & 4.19768 & 2.64766 & 0.505311 \\\\\n",
       "\t20 & 0.564607 & -0.888869 & -4.07265 & -1.05029 & -0.538298 \\\\\n",
       "\t21 & 0.857305 & 0.220856 & 1.40775 & 1.64151 & 0.261401 \\\\\n",
       "\t22 & 0.942135 & 0.24831 & -2.54315 & -2.99386 & -1.312 \\\\\n",
       "\t23 & 0.161773 & 0.941992 & -2.91146 & -3.66455 & -1.27544 \\\\\n",
       "\t24 & -4.33064 & -2.27302 & -1.43904 & -3.16541 & 0.388407 \\\\\n",
       "\t25 & -1.17572 & 0.58439 & 1.33181 & -0.848669 & 0.109018 \\\\\n",
       "\t26 & 1.08388 & 0.210354 & -0.171544 & 1.90465 & 0.273589 \\\\\n",
       "\t27 & -1.38736 & -0.342127 & 0.233249 & -1.21606 & 0.0570974 \\\\\n",
       "\t28 & -2.20718 & -1.14274 & -0.274658 & -1.00973 & 0.39915 \\\\\n",
       "\t29 & 3.98899 & 2.08999 & 3.03106 & 3.52203 & -0.155651 \\\\\n",
       "\t30 & -1.02252 & -1.13078 & 4.62842 & 4.35446 & 1.79233 \\\\\n",
       "\t$\\dots$ & $\\dots$ & $\\dots$ & $\\dots$ & $\\dots$ & $\\dots$ \\\\\n",
       "\\end{tabular}\n"
      ],
      "text/plain": [
       "\u001b[1m1000×5 DataFrame\u001b[0m\n",
       "\u001b[1m  Row \u001b[0m│\u001b[1m Z         \u001b[0m\u001b[1m X          \u001b[0m\u001b[1m Y          \u001b[0m\u001b[1m W         \u001b[0m\u001b[1m U          \u001b[0m\n",
       "\u001b[1m      \u001b[0m│\u001b[90m Float64   \u001b[0m\u001b[90m Float64    \u001b[0m\u001b[90m Float64    \u001b[0m\u001b[90m Float64   \u001b[0m\u001b[90m Float64    \u001b[0m\n",
       "──────┼──────────────────────────────────────────────────────────\n",
       "    1 │  1.65021    0.268734   -1.15593    -0.28698   -0.645731\n",
       "    2 │ -1.13689   -0.668932   -4.36495    -5.52664   -1.46325\n",
       "    3 │ -1.80638   -0.776832   -4.4232     -6.67719   -1.6236\n",
       "    4 │  0.371651  -0.259568   -2.19702    -0.281344  -0.217665\n",
       "    5 │ -2.52118   -1.79663    -0.871081   -1.04444    0.492246\n",
       "    6 │ -3.23855   -1.5037      1.96242    -0.295614   0.98098\n",
       "    7 │ -0.784079  -0.423561   -2.09       -0.544208   0.0799568\n",
       "    8 │ -2.05055   -0.584664    4.75585     2.59682    1.54912\n",
       "    9 │ -1.57222   -1.19688    -5.96096    -5.59705   -1.34161\n",
       "   10 │  0.525033   0.406545    1.88515     1.76152    0.412162\n",
       "   11 │ -2.65468   -1.13061    -0.389762   -0.875084   0.593197\n",
       "  ⋮   │     ⋮          ⋮           ⋮           ⋮          ⋮\n",
       "  991 │ -0.626198  -0.581466   -0.15751    -0.176869   0.149776\n",
       "  992 │ -0.785804  -0.217697    2.79987     1.61755    0.801118\n",
       "  993 │  1.04388    0.58798    -0.977817    2.25098    0.402365\n",
       "  994 │ -1.99858   -0.377682   -0.0656147  -1.73045    0.0893779\n",
       "  995 │ -0.812834  -1.39716     1.85994     0.405657   0.406164\n",
       "  996 │  2.2929    -0.303265    3.24724     6.14586    1.28432\n",
       "  997 │ -4.57324   -1.50947     0.118043   -4.84398   -0.0902471\n",
       "  998 │  0.927503   0.0493706   1.44814     0.758443  -0.0563532\n",
       "  999 │  0.709297   0.238137   -1.46665     0.628109  -0.0270624\n",
       " 1000 │ -1.0384    -0.364406   -0.68358    -1.55533   -0.172309\n",
       "\u001b[36m                                                 979 rows omitted\u001b[0m"
      ]
     },
     "execution_count": 42,
     "metadata": {},
     "output_type": "execute_result"
    }
   ],
   "source": [
    "Random.seed!(123)\n",
    "N = 1000 # number of data points\n",
    "\n",
    "# define simple linear model with added noise\n",
    "U = rand(Normal(0, 1), N) # generate U\n",
    "X = rand(Normal(0, 1), N) # generate X\n",
    "Z = 2*X + rand(Normal(0, 1), N)\n",
    "W = Z + 3*U \n",
    "Y = X + 2.5*U + rand(Normal(0, 1), N)\n",
    "\n",
    "tb=DataFrame(Z=Z,X=X,Y=Y,W=W,U=U)"
   ]
  },
  {
   "cell_type": "code",
   "execution_count": 43,
   "metadata": {},
   "outputs": [
    {
     "name": "stdout",
     "output_type": "stream",
     "text": [
      "\n",
      "---------------------------------\n",
      "                       Y         \n",
      "              -------------------\n",
      "                   (1)        (2)\n",
      "---------------------------------\n",
      "(Intercept)     -0.115     -0.111\n",
      "               (0.090)    (0.090)\n",
      "X             1.050***   1.246***\n",
      "               (0.094)    (0.199)\n",
      "Z                          -0.098\n",
      "                          (0.088)\n",
      "---------------------------------\n",
      "Estimator          OLS        OLS\n",
      "---------------------------------\n",
      "N                1,000      1,000\n",
      "R2               0.111      0.112\n",
      "---------------------------------\n",
      "\n",
      "\n"
     ]
    }
   ],
   "source": [
    "# Regressions\n",
    "no_control = lm(@formula(Y ~ X), tb)        \n",
    "using_control = lm(@formula(Y ~ X+Z), tb)    \n",
    "\n",
    "# Summary results\n",
    "regtable(no_control , using_control, renderSettings = asciiOutput(), estimformat = \"%02.3f\")"
   ]
  },
  {
   "cell_type": "markdown",
   "metadata": {},
   "source": [
    "## Models 16 and 17 – Bad Controls (selection bias)"
   ]
  },
  {
   "cell_type": "markdown",
   "metadata": {},
   "source": [
    "### Model 16"
   ]
  },
  {
   "cell_type": "code",
   "execution_count": 153,
   "metadata": {},
   "outputs": [
    {
     "data": {
      "image/png": "[encoded data removed]"
     },
     "execution_count": 153,
     "metadata": {},
     "output_type": "execute_result"
    }
   ],
   "source": [
    "using GraphRecipes, Plots\n",
    "g = [0 0 0 0;\n",
    "     1 0 0 1;\n",
    "     1 0 0 1;\n",
    "     0 0 0 0]\n",
    "\n",
    "graphplot(g, names=[\"Z\",\"X\",\"U\",\"Y\"], curvature_scalar=0, nodesize=0.2, nodeshape=:circle, nodecolor = [colorant\"red\",colorant\"lightblue\",colorant\"white\",colorant\"lightblue\"],method=:spring,arrow=1,x=[0,-1,0,1],y=[-1,0,1,0])"
   ]
  },
  {
   "cell_type": "code",
   "execution_count": 46,
   "metadata": {},
   "outputs": [
    {
     "data": {
      "text/html": [
       "<div class=\"data-frame\"><p>1,000 rows × 4 columns</p><table class=\"data-frame\"><thead><tr><th></th><th>Z</th><th>X</th><th>Y</th><th>U</th></tr><tr><th></th><th title=\"Float64\">Float64</th><th title=\"Float64\">Float64</th><th title=\"Float64\">Float64</th><th title=\"Float64\">Float64</th></tr></thead><tbody><tr><th>1</th><td>1.00448</td><td>0.268734</td><td>-1.15593</td><td>-0.645731</td></tr><tr><th>2</th><td>-2.60014</td><td>-0.668932</td><td>-4.36495</td><td>-1.46325</td></tr><tr><th>3</th><td>-3.42998</td><td>-0.776832</td><td>-4.4232</td><td>-1.6236</td></tr><tr><th>4</th><td>0.153986</td><td>-0.259568</td><td>-2.19702</td><td>-0.217665</td></tr><tr><th>5</th><td>-2.02893</td><td>-1.79663</td><td>-0.871081</td><td>0.492246</td></tr><tr><th>6</th><td>-2.25757</td><td>-1.5037</td><td>1.96242</td><td>0.98098</td></tr><tr><th>7</th><td>-0.704122</td><td>-0.423561</td><td>-2.09</td><td>0.0799568</td></tr><tr><th>8</th><td>-0.501425</td><td>-0.584664</td><td>4.75585</td><td>1.54912</td></tr><tr><th>9</th><td>-2.91383</td><td>-1.19688</td><td>-5.96096</td><td>-1.34161</td></tr><tr><th>10</th><td>0.937195</td><td>0.406545</td><td>1.88515</td><td>0.412162</td></tr><tr><th>11</th><td>-2.06148</td><td>-1.13061</td><td>-0.389762</td><td>0.593197</td></tr><tr><th>12</th><td>-2.67511</td><td>-0.208069</td><td>-2.30227</td><td>-0.768409</td></tr><tr><th>13</th><td>-0.375366</td><td>0.033951</td><td>-0.205206</td><td>-0.0761679</td></tr><tr><th>14</th><td>-0.36924</td><td>-0.506355</td><td>-4.02075</td><td>-0.654901</td></tr><tr><th>15</th><td>2.16384</td><td>0.455424</td><td>0.394631</td><td>0.68706</td></tr><tr><th>16</th><td>-0.468769</td><td>0.947003</td><td>0.887098</td><td>-0.119465</td></tr><tr><th>17</th><td>-2.97989</td><td>-1.44439</td><td>0.505986</td><td>0.206075</td></tr><tr><th>18</th><td>-5.60952</td><td>-1.2785</td><td>-2.20866</td><td>-1.01901</td></tr><tr><th>19</th><td>1.63704</td><td>1.1397</td><td>4.19768</td><td>0.505311</td></tr><tr><th>20</th><td>0.0263087</td><td>-0.888869</td><td>-4.07265</td><td>-0.538298</td></tr><tr><th>21</th><td>1.11871</td><td>0.220856</td><td>1.40775</td><td>0.261401</td></tr><tr><th>22</th><td>-0.369865</td><td>0.24831</td><td>-2.54315</td><td>-1.312</td></tr><tr><th>23</th><td>-1.11367</td><td>0.941992</td><td>-2.91146</td><td>-1.27544</td></tr><tr><th>24</th><td>-3.94223</td><td>-2.27302</td><td>-1.43904</td><td>0.388407</td></tr><tr><th>25</th><td>-1.06671</td><td>0.58439</td><td>1.33181</td><td>0.109018</td></tr><tr><th>26</th><td>1.35747</td><td>0.210354</td><td>-0.171544</td><td>0.273589</td></tr><tr><th>27</th><td>-1.33026</td><td>-0.342127</td><td>0.233249</td><td>0.0570974</td></tr><tr><th>28</th><td>-1.80803</td><td>-1.14274</td><td>-0.274658</td><td>0.39915</td></tr><tr><th>29</th><td>3.83334</td><td>2.08999</td><td>3.03106</td><td>-0.155651</td></tr><tr><th>30</th><td>0.769805</td><td>-1.13078</td><td>4.62842</td><td>1.79233</td></tr><tr><th>&vellip;</th><td>&vellip;</td><td>&vellip;</td><td>&vellip;</td><td>&vellip;</td></tr></tbody></table></div>"
      ],
      "text/latex": [
       "\\begin{tabular}{r|cccc}\n",
       "\t& Z & X & Y & U\\\\\n",
       "\t\\hline\n",
       "\t& Float64 & Float64 & Float64 & Float64\\\\\n",
       "\t\\hline\n",
       "\t1 & 1.00448 & 0.268734 & -1.15593 & -0.645731 \\\\\n",
       "\t2 & -2.60014 & -0.668932 & -4.36495 & -1.46325 \\\\\n",
       "\t3 & -3.42998 & -0.776832 & -4.4232 & -1.6236 \\\\\n",
       "\t4 & 0.153986 & -0.259568 & -2.19702 & -0.217665 \\\\\n",
       "\t5 & -2.02893 & -1.79663 & -0.871081 & 0.492246 \\\\\n",
       "\t6 & -2.25757 & -1.5037 & 1.96242 & 0.98098 \\\\\n",
       "\t7 & -0.704122 & -0.423561 & -2.09 & 0.0799568 \\\\\n",
       "\t8 & -0.501425 & -0.584664 & 4.75585 & 1.54912 \\\\\n",
       "\t9 & -2.91383 & -1.19688 & -5.96096 & -1.34161 \\\\\n",
       "\t10 & 0.937195 & 0.406545 & 1.88515 & 0.412162 \\\\\n",
       "\t11 & -2.06148 & -1.13061 & -0.389762 & 0.593197 \\\\\n",
       "\t12 & -2.67511 & -0.208069 & -2.30227 & -0.768409 \\\\\n",
       "\t13 & -0.375366 & 0.033951 & -0.205206 & -0.0761679 \\\\\n",
       "\t14 & -0.36924 & -0.506355 & -4.02075 & -0.654901 \\\\\n",
       "\t15 & 2.16384 & 0.455424 & 0.394631 & 0.68706 \\\\\n",
       "\t16 & -0.468769 & 0.947003 & 0.887098 & -0.119465 \\\\\n",
       "\t17 & -2.97989 & -1.44439 & 0.505986 & 0.206075 \\\\\n",
       "\t18 & -5.60952 & -1.2785 & -2.20866 & -1.01901 \\\\\n",
       "\t19 & 1.63704 & 1.1397 & 4.19768 & 0.505311 \\\\\n",
       "\t20 & 0.0263087 & -0.888869 & -4.07265 & -0.538298 \\\\\n",
       "\t21 & 1.11871 & 0.220856 & 1.40775 & 0.261401 \\\\\n",
       "\t22 & -0.369865 & 0.24831 & -2.54315 & -1.312 \\\\\n",
       "\t23 & -1.11367 & 0.941992 & -2.91146 & -1.27544 \\\\\n",
       "\t24 & -3.94223 & -2.27302 & -1.43904 & 0.388407 \\\\\n",
       "\t25 & -1.06671 & 0.58439 & 1.33181 & 0.109018 \\\\\n",
       "\t26 & 1.35747 & 0.210354 & -0.171544 & 0.273589 \\\\\n",
       "\t27 & -1.33026 & -0.342127 & 0.233249 & 0.0570974 \\\\\n",
       "\t28 & -1.80803 & -1.14274 & -0.274658 & 0.39915 \\\\\n",
       "\t29 & 3.83334 & 2.08999 & 3.03106 & -0.155651 \\\\\n",
       "\t30 & 0.769805 & -1.13078 & 4.62842 & 1.79233 \\\\\n",
       "\t$\\dots$ & $\\dots$ & $\\dots$ & $\\dots$ & $\\dots$ \\\\\n",
       "\\end{tabular}\n"
      ],
      "text/plain": [
       "\u001b[1m1000×4 DataFrame\u001b[0m\n",
       "\u001b[1m  Row \u001b[0m│\u001b[1m Z          \u001b[0m\u001b[1m X          \u001b[0m\u001b[1m Y          \u001b[0m\u001b[1m U          \u001b[0m\n",
       "\u001b[1m      \u001b[0m│\u001b[90m Float64    \u001b[0m\u001b[90m Float64    \u001b[0m\u001b[90m Float64    \u001b[0m\u001b[90m Float64    \u001b[0m\n",
       "──────┼────────────────────────────────────────────────\n",
       "    1 │  1.00448     0.268734   -1.15593    -0.645731\n",
       "    2 │ -2.60014    -0.668932   -4.36495    -1.46325\n",
       "    3 │ -3.42998    -0.776832   -4.4232     -1.6236\n",
       "    4 │  0.153986   -0.259568   -2.19702    -0.217665\n",
       "    5 │ -2.02893    -1.79663    -0.871081    0.492246\n",
       "    6 │ -2.25757    -1.5037      1.96242     0.98098\n",
       "    7 │ -0.704122   -0.423561   -2.09        0.0799568\n",
       "    8 │ -0.501425   -0.584664    4.75585     1.54912\n",
       "    9 │ -2.91383    -1.19688    -5.96096    -1.34161\n",
       "   10 │  0.937195    0.406545    1.88515     0.412162\n",
       "   11 │ -2.06148    -1.13061    -0.389762    0.593197\n",
       "  ⋮   │     ⋮           ⋮           ⋮           ⋮\n",
       "  991 │ -0.476422   -0.581466   -0.15751     0.149776\n",
       "  992 │  0.0153138  -0.217697    2.79987     0.801118\n",
       "  993 │  1.44625     0.58798    -0.977817    0.402365\n",
       "  994 │ -1.90921    -0.377682   -0.0656147   0.0893779\n",
       "  995 │ -0.40667    -1.39716     1.85994     0.406164\n",
       "  996 │  3.57722    -0.303265    3.24724     1.28432\n",
       "  997 │ -4.66348    -1.50947     0.118043   -0.0902471\n",
       "  998 │  0.871149    0.0493706   1.44814    -0.0563532\n",
       "  999 │  0.682234    0.238137   -1.46665    -0.0270624\n",
       " 1000 │ -1.21071    -0.364406   -0.68358    -0.172309\n",
       "\u001b[36m                                       979 rows omitted\u001b[0m"
      ]
     },
     "execution_count": 46,
     "metadata": {},
     "output_type": "execute_result"
    }
   ],
   "source": [
    "Random.seed!(123)\n",
    "N = 1000 # number of data points\n",
    "\n",
    "# define simple linear model with added noise\n",
    "U = rand(Normal(0, 1), N) # generate U\n",
    "X = rand(Normal(0, 1), N) # generate X\n",
    "Z = 2*X + U + rand(Normal(0, 1), N)\n",
    "Y = X + 2.5*U + rand(Normal(0, 1), N)\n",
    "\n",
    "tb=DataFrame(Z=Z,X=X,Y=Y,U=U)"
   ]
  },
  {
   "cell_type": "code",
   "execution_count": 47,
   "metadata": {},
   "outputs": [
    {
     "name": "stdout",
     "output_type": "stream",
     "text": [
      "\n",
      "----------------------------------\n",
      "                        Y         \n",
      "              --------------------\n",
      "                   (1)         (2)\n",
      "----------------------------------\n",
      "(Intercept)     -0.115      -0.128\n",
      "               (0.090)     (0.068)\n",
      "X             1.050***   -1.493***\n",
      "               (0.094)     (0.119)\n",
      "Z                         1.271***\n",
      "                           (0.047)\n",
      "----------------------------------\n",
      "Estimator          OLS         OLS\n",
      "----------------------------------\n",
      "N                1,000       1,000\n",
      "R2               0.111       0.483\n",
      "----------------------------------\n",
      "\n",
      "\n"
     ]
    }
   ],
   "source": [
    "# Regressions\n",
    "no_control = lm(@formula(Y ~ X), tb)        \n",
    "using_control = lm(@formula(Y ~ X+Z), tb)    \n",
    "\n",
    "# Summary results\n",
    "regtable(no_control , using_control, renderSettings = asciiOutput(), estimformat = \"%02.3f\")"
   ]
  },
  {
   "cell_type": "markdown",
   "metadata": {},
   "source": [
    "### Model 17"
   ]
  },
  {
   "cell_type": "code",
   "execution_count": 156,
   "metadata": {},
   "outputs": [
    {
     "data": {
      "image/png": "[encoded data removed]"
     },
     "execution_count": 156,
     "metadata": {},
     "output_type": "execute_result"
    }
   ],
   "source": [
    "using GraphRecipes, Plots\n",
    "g = [0 0 0;\n",
    "     1 0 1;\n",
    "     1 0 0]\n",
    "\n",
    "graphplot(g, names=[\"Z\",\"X\",\"Y\"], curvature_scalar=0, nodesize=0.2, nodeshape=:circle, nodecolor = [colorant\"red\",colorant\"lightblue\",colorant\"lightblue\"],x=[0,-1,1],y=[0,1,1])"
   ]
  },
  {
   "cell_type": "code",
   "execution_count": 48,
   "metadata": {},
   "outputs": [
    {
     "data": {
      "text/html": [
       "<div class=\"data-frame\"><p>1,000 rows × 3 columns</p><table class=\"data-frame\"><thead><tr><th></th><th>Z</th><th>X</th><th>Y</th></tr><tr><th></th><th title=\"Float64\">Float64</th><th title=\"Float64\">Float64</th><th title=\"Float64\">Float64</th></tr></thead><tbody><tr><th>1</th><td>-1.30971</td><td>-0.645731</td><td>-0.376997</td></tr><tr><th>2</th><td>-9.12208</td><td>-1.46325</td><td>-2.13218</td></tr><tr><th>3</th><td>-10.7012</td><td>-1.6236</td><td>-2.40044</td></tr><tr><th>4</th><td>-0.976243</td><td>-0.217665</td><td>-0.477234</td></tr><tr><th>5</th><td>-1.85658</td><td>0.492246</td><td>-1.30439</td></tr><tr><th>6</th><td>0.162642</td><td>0.98098</td><td>-0.522724</td></tr><tr><th>7</th><td>-0.807855</td><td>0.0799568</td><td>-0.343604</td></tr><tr><th>8</th><td>5.11041</td><td>1.54912</td><td>0.964461</td></tr><tr><th>9</th><td>-9.47714</td><td>-1.34161</td><td>-2.53849</td></tr><tr><th>10</th><td>2.99239</td><td>0.412162</td><td>0.818706</td></tr><tr><th>11</th><td>-0.819295</td><td>0.593197</td><td>-0.537409</td></tr><tr><th>12</th><td>-5.95681</td><td>-0.768409</td><td>-0.976478</td></tr><tr><th>13</th><td>-0.646087</td><td>-0.0761679</td><td>-0.042217</td></tr><tr><th>14</th><td>-3.4952</td><td>-0.654901</td><td>-1.16126</td></tr><tr><th>15</th><td>5.36751</td><td>0.68706</td><td>1.14248</td></tr><tr><th>16</th><td>0.000374198</td><td>-0.119465</td><td>0.827538</td></tr><tr><th>17</th><td>-3.59998</td><td>0.206075</td><td>-1.23832</td></tr><tr><th>18</th><td>-10.9641</td><td>-1.01901</td><td>-2.29752</td></tr><tr><th>19</th><td>4.79798</td><td>0.505311</td><td>1.64501</td></tr><tr><th>20</th><td>-3.01575</td><td>-0.538298</td><td>-1.42717</td></tr><tr><th>21</th><td>2.38516</td><td>0.261401</td><td>0.482256</td></tr><tr><th>22</th><td>-5.36955</td><td>-1.312</td><td>-1.06369</td></tr><tr><th>23</th><td>-5.27345</td><td>-1.27544</td><td>-0.33345</td></tr><tr><th>24</th><td>-4.66162</td><td>0.388407</td><td>-1.88461</td></tr><tr><th>25</th><td>-0.0462428</td><td>0.109018</td><td>0.693408</td></tr><tr><th>26</th><td>2.66218</td><td>0.273589</td><td>0.483943</td></tr><tr><th>27</th><td>-1.444</td><td>0.0570974</td><td>-0.28503</td></tr><tr><th>28</th><td>-1.35417</td><td>0.39915</td><td>-0.743588</td></tr><tr><th>29</th><td>5.30072</td><td>-0.155651</td><td>1.93433</td></tr><tr><th>30</th><td>6.80834</td><td>1.79233</td><td>0.661553</td></tr><tr><th>&vellip;</th><td>&vellip;</td><td>&vellip;</td><td>&vellip;</td></tr></tbody></table></div>"
      ],
      "text/latex": [
       "\\begin{tabular}{r|ccc}\n",
       "\t& Z & X & Y\\\\\n",
       "\t\\hline\n",
       "\t& Float64 & Float64 & Float64\\\\\n",
       "\t\\hline\n",
       "\t1 & -1.30971 & -0.645731 & -0.376997 \\\\\n",
       "\t2 & -9.12208 & -1.46325 & -2.13218 \\\\\n",
       "\t3 & -10.7012 & -1.6236 & -2.40044 \\\\\n",
       "\t4 & -0.976243 & -0.217665 & -0.477234 \\\\\n",
       "\t5 & -1.85658 & 0.492246 & -1.30439 \\\\\n",
       "\t6 & 0.162642 & 0.98098 & -0.522724 \\\\\n",
       "\t7 & -0.807855 & 0.0799568 & -0.343604 \\\\\n",
       "\t8 & 5.11041 & 1.54912 & 0.964461 \\\\\n",
       "\t9 & -9.47714 & -1.34161 & -2.53849 \\\\\n",
       "\t10 & 2.99239 & 0.412162 & 0.818706 \\\\\n",
       "\t11 & -0.819295 & 0.593197 & -0.537409 \\\\\n",
       "\t12 & -5.95681 & -0.768409 & -0.976478 \\\\\n",
       "\t13 & -0.646087 & -0.0761679 & -0.042217 \\\\\n",
       "\t14 & -3.4952 & -0.654901 & -1.16126 \\\\\n",
       "\t15 & 5.36751 & 0.68706 & 1.14248 \\\\\n",
       "\t16 & 0.000374198 & -0.119465 & 0.827538 \\\\\n",
       "\t17 & -3.59998 & 0.206075 & -1.23832 \\\\\n",
       "\t18 & -10.9641 & -1.01901 & -2.29752 \\\\\n",
       "\t19 & 4.79798 & 0.505311 & 1.64501 \\\\\n",
       "\t20 & -3.01575 & -0.538298 & -1.42717 \\\\\n",
       "\t21 & 2.38516 & 0.261401 & 0.482256 \\\\\n",
       "\t22 & -5.36955 & -1.312 & -1.06369 \\\\\n",
       "\t23 & -5.27345 & -1.27544 & -0.33345 \\\\\n",
       "\t24 & -4.66162 & 0.388407 & -1.88461 \\\\\n",
       "\t25 & -0.0462428 & 0.109018 & 0.693408 \\\\\n",
       "\t26 & 2.66218 & 0.273589 & 0.483943 \\\\\n",
       "\t27 & -1.444 & 0.0570974 & -0.28503 \\\\\n",
       "\t28 & -1.35417 & 0.39915 & -0.743588 \\\\\n",
       "\t29 & 5.30072 & -0.155651 & 1.93433 \\\\\n",
       "\t30 & 6.80834 & 1.79233 & 0.661553 \\\\\n",
       "\t$\\dots$ & $\\dots$ & $\\dots$ & $\\dots$ \\\\\n",
       "\\end{tabular}\n"
      ],
      "text/plain": [
       "\u001b[1m1000×3 DataFrame\u001b[0m\n",
       "\u001b[1m  Row \u001b[0m│\u001b[1m Z          \u001b[0m\u001b[1m X          \u001b[0m\u001b[1m Y           \u001b[0m\n",
       "\u001b[1m      \u001b[0m│\u001b[90m Float64    \u001b[0m\u001b[90m Float64    \u001b[0m\u001b[90m Float64     \u001b[0m\n",
       "──────┼─────────────────────────────────────\n",
       "    1 │  -1.30971   -0.645731   -0.376997\n",
       "    2 │  -9.12208   -1.46325    -2.13218\n",
       "    3 │ -10.7012    -1.6236     -2.40044\n",
       "    4 │  -0.976243  -0.217665   -0.477234\n",
       "    5 │  -1.85658    0.492246   -1.30439\n",
       "    6 │   0.162642   0.98098    -0.522724\n",
       "    7 │  -0.807855   0.0799568  -0.343604\n",
       "    8 │   5.11041    1.54912     0.964461\n",
       "    9 │  -9.47714   -1.34161    -2.53849\n",
       "   10 │   2.99239    0.412162    0.818706\n",
       "   11 │  -0.819295   0.593197   -0.537409\n",
       "  ⋮   │     ⋮           ⋮            ⋮\n",
       "  991 │  -0.458782   0.149776   -0.431689\n",
       "  992 │   3.00209    0.801118    0.583421\n",
       "  993 │   3.64369    0.402365    0.990345\n",
       "  994 │  -1.92938    0.0893779  -0.288305\n",
       "  995 │  -0.179177   0.406164   -0.990998\n",
       "  996 │   8.41124    1.28432     0.981054\n",
       "  997 │  -6.53394   -0.0902471  -1.59972\n",
       "  998 │   0.695107  -0.0563532  -0.00698265\n",
       "  999 │   0.812121  -0.0270624   0.211074\n",
       " 1000 │  -2.26435   -0.172309   -0.536714\n",
       "\u001b[36m                            979 rows omitted\u001b[0m"
      ]
     },
     "execution_count": 48,
     "metadata": {},
     "output_type": "execute_result"
    }
   ],
   "source": [
    "Random.seed!(123)\n",
    "N = 1000 # number of data points\n",
    "\n",
    "# define simple linear model with added noise\n",
    "X = rand(Normal(0, 1), N) # generate X\n",
    "Y = X + rand(Normal(0, 1), N)\n",
    "Z = 2*X + 3*Y + rand(Normal(0, 1), N)\n",
    "\n",
    "tb=DataFrame(Z=Z,X=X,Y=Y)"
   ]
  },
  {
   "cell_type": "code",
   "execution_count": 49,
   "metadata": {},
   "outputs": [
    {
     "name": "stdout",
     "output_type": "stream",
     "text": [
      "\n",
      "----------------------------------\n",
      "                        Y         \n",
      "              --------------------\n",
      "                   (1)         (2)\n",
      "----------------------------------\n",
      "(Intercept)      0.015      -0.012\n",
      "               (0.030)     (0.010)\n",
      "X             1.003***   -0.473***\n",
      "               (0.029)     (0.019)\n",
      "Z                         0.296***\n",
      "                           (0.003)\n",
      "----------------------------------\n",
      "Estimator          OLS         OLS\n",
      "----------------------------------\n",
      "N                1,000       1,000\n",
      "R2               0.543       0.948\n",
      "----------------------------------\n",
      "\n",
      "\n"
     ]
    }
   ],
   "source": [
    "# Regressions\n",
    "no_control = lm(@formula(Y ~ X), tb)        \n",
    "using_control = lm(@formula(Y ~ X+Z), tb)    \n",
    "\n",
    "# Summary results\n",
    "regtable(no_control , using_control, renderSettings = asciiOutput(), estimformat = \"%02.3f\")"
   ]
  },
  {
   "cell_type": "markdown",
   "metadata": {},
   "source": [
    "## Model 18 – Bad Control (case-control bias)\n"
   ]
  },
  {
   "cell_type": "code",
   "execution_count": 157,
   "metadata": {},
   "outputs": [
    {
     "data": {
      "image/png": "[encoded data removed]"
     },
     "execution_count": 157,
     "metadata": {},
     "output_type": "execute_result"
    }
   ],
   "source": [
    "using GraphRecipes, Plots\n",
    "g = [0 0 0;\n",
    "     0 0 1;\n",
    "     1 0 0]\n",
    "\n",
    "graphplot(g, names=[\"Z\",\"X\",\"Y\"], curvature_scalar=0, nodesize=0.2, nodeshape=:circle, nodecolor = [colorant\"red\",colorant\"lightblue\",colorant\"lightblue\"],x=[0,-1,1],y=[0,1,1])"
   ]
  },
  {
   "cell_type": "code",
   "execution_count": 50,
   "metadata": {},
   "outputs": [
    {
     "data": {
      "text/html": [
       "<div class=\"data-frame\"><p>1,000 rows × 3 columns</p><table class=\"data-frame\"><thead><tr><th></th><th>Z</th><th>X</th><th>Y</th></tr><tr><th></th><th title=\"Float64\">Float64</th><th title=\"Float64\">Float64</th><th title=\"Float64\">Float64</th></tr></thead><tbody><tr><th>1</th><td>-0.0182463</td><td>-0.645731</td><td>-0.376997</td></tr><tr><th>2</th><td>-6.19558</td><td>-1.46325</td><td>-2.13218</td></tr><tr><th>3</th><td>-7.45402</td><td>-1.6236</td><td>-2.40044</td></tr><tr><th>4</th><td>-0.540913</td><td>-0.217665</td><td>-0.477234</td></tr><tr><th>5</th><td>-2.84107</td><td>0.492246</td><td>-1.30439</td></tr><tr><th>6</th><td>-1.79932</td><td>0.98098</td><td>-0.522724</td></tr><tr><th>7</th><td>-0.967769</td><td>0.0799568</td><td>-0.343604</td></tr><tr><th>8</th><td>2.01216</td><td>1.54912</td><td>0.964461</td></tr><tr><th>9</th><td>-6.79393</td><td>-1.34161</td><td>-2.53849</td></tr><tr><th>10</th><td>2.16806</td><td>0.412162</td><td>0.818706</td></tr><tr><th>11</th><td>-2.00569</td><td>0.593197</td><td>-0.537409</td></tr><tr><th>12</th><td>-4.42</td><td>-0.768409</td><td>-0.976478</td></tr><tr><th>13</th><td>-0.493751</td><td>-0.0761679</td><td>-0.042217</td></tr><tr><th>14</th><td>-2.1854</td><td>-0.654901</td><td>-1.16126</td></tr><tr><th>15</th><td>3.99338</td><td>0.68706</td><td>1.14248</td></tr><tr><th>16</th><td>0.239304</td><td>-0.119465</td><td>0.827538</td></tr><tr><th>17</th><td>-4.01213</td><td>0.206075</td><td>-1.23832</td></tr><tr><th>18</th><td>-8.92605</td><td>-1.01901</td><td>-2.29752</td></tr><tr><th>19</th><td>3.78736</td><td>0.505311</td><td>1.64501</td></tr><tr><th>20</th><td>-1.93916</td><td>-0.538298</td><td>-1.42717</td></tr><tr><th>21</th><td>1.86236</td><td>0.261401</td><td>0.482256</td></tr><tr><th>22</th><td>-2.74555</td><td>-1.312</td><td>-1.06369</td></tr><tr><th>23</th><td>-2.72256</td><td>-1.27544</td><td>-0.33345</td></tr><tr><th>24</th><td>-5.43843</td><td>0.388407</td><td>-1.88461</td></tr><tr><th>25</th><td>-0.264279</td><td>0.109018</td><td>0.693408</td></tr><tr><th>26</th><td>2.115</td><td>0.273589</td><td>0.483943</td></tr><tr><th>27</th><td>-1.55819</td><td>0.0570974</td><td>-0.28503</td></tr><tr><th>28</th><td>-2.15247</td><td>0.39915</td><td>-0.743588</td></tr><tr><th>29</th><td>5.61202</td><td>-0.155651</td><td>1.93433</td></tr><tr><th>30</th><td>3.22369</td><td>1.79233</td><td>0.661553</td></tr><tr><th>&vellip;</th><td>&vellip;</td><td>&vellip;</td><td>&vellip;</td></tr></tbody></table></div>"
      ],
      "text/latex": [
       "\\begin{tabular}{r|ccc}\n",
       "\t& Z & X & Y\\\\\n",
       "\t\\hline\n",
       "\t& Float64 & Float64 & Float64\\\\\n",
       "\t\\hline\n",
       "\t1 & -0.0182463 & -0.645731 & -0.376997 \\\\\n",
       "\t2 & -6.19558 & -1.46325 & -2.13218 \\\\\n",
       "\t3 & -7.45402 & -1.6236 & -2.40044 \\\\\n",
       "\t4 & -0.540913 & -0.217665 & -0.477234 \\\\\n",
       "\t5 & -2.84107 & 0.492246 & -1.30439 \\\\\n",
       "\t6 & -1.79932 & 0.98098 & -0.522724 \\\\\n",
       "\t7 & -0.967769 & 0.0799568 & -0.343604 \\\\\n",
       "\t8 & 2.01216 & 1.54912 & 0.964461 \\\\\n",
       "\t9 & -6.79393 & -1.34161 & -2.53849 \\\\\n",
       "\t10 & 2.16806 & 0.412162 & 0.818706 \\\\\n",
       "\t11 & -2.00569 & 0.593197 & -0.537409 \\\\\n",
       "\t12 & -4.42 & -0.768409 & -0.976478 \\\\\n",
       "\t13 & -0.493751 & -0.0761679 & -0.042217 \\\\\n",
       "\t14 & -2.1854 & -0.654901 & -1.16126 \\\\\n",
       "\t15 & 3.99338 & 0.68706 & 1.14248 \\\\\n",
       "\t16 & 0.239304 & -0.119465 & 0.827538 \\\\\n",
       "\t17 & -4.01213 & 0.206075 & -1.23832 \\\\\n",
       "\t18 & -8.92605 & -1.01901 & -2.29752 \\\\\n",
       "\t19 & 3.78736 & 0.505311 & 1.64501 \\\\\n",
       "\t20 & -1.93916 & -0.538298 & -1.42717 \\\\\n",
       "\t21 & 1.86236 & 0.261401 & 0.482256 \\\\\n",
       "\t22 & -2.74555 & -1.312 & -1.06369 \\\\\n",
       "\t23 & -2.72256 & -1.27544 & -0.33345 \\\\\n",
       "\t24 & -5.43843 & 0.388407 & -1.88461 \\\\\n",
       "\t25 & -0.264279 & 0.109018 & 0.693408 \\\\\n",
       "\t26 & 2.115 & 0.273589 & 0.483943 \\\\\n",
       "\t27 & -1.55819 & 0.0570974 & -0.28503 \\\\\n",
       "\t28 & -2.15247 & 0.39915 & -0.743588 \\\\\n",
       "\t29 & 5.61202 & -0.155651 & 1.93433 \\\\\n",
       "\t30 & 3.22369 & 1.79233 & 0.661553 \\\\\n",
       "\t$\\dots$ & $\\dots$ & $\\dots$ & $\\dots$ \\\\\n",
       "\\end{tabular}\n"
      ],
      "text/plain": [
       "\u001b[1m1000×3 DataFrame\u001b[0m\n",
       "\u001b[1m  Row \u001b[0m│\u001b[1m Z          \u001b[0m\u001b[1m X          \u001b[0m\u001b[1m Y           \u001b[0m\n",
       "\u001b[1m      \u001b[0m│\u001b[90m Float64    \u001b[0m\u001b[90m Float64    \u001b[0m\u001b[90m Float64     \u001b[0m\n",
       "──────┼─────────────────────────────────────\n",
       "    1 │ -0.0182463  -0.645731   -0.376997\n",
       "    2 │ -6.19558    -1.46325    -2.13218\n",
       "    3 │ -7.45402    -1.6236     -2.40044\n",
       "    4 │ -0.540913   -0.217665   -0.477234\n",
       "    5 │ -2.84107     0.492246   -1.30439\n",
       "    6 │ -1.79932     0.98098    -0.522724\n",
       "    7 │ -0.967769    0.0799568  -0.343604\n",
       "    8 │  2.01216     1.54912     0.964461\n",
       "    9 │ -6.79393    -1.34161    -2.53849\n",
       "   10 │  2.16806     0.412162    0.818706\n",
       "   11 │ -2.00569     0.593197   -0.537409\n",
       "  ⋮   │     ⋮           ⋮            ⋮\n",
       "  991 │ -0.758335    0.149776   -0.431689\n",
       "  992 │  1.39985     0.801118    0.583421\n",
       "  993 │  2.83896     0.402365    0.990345\n",
       "  994 │ -2.10813     0.0893779  -0.288305\n",
       "  995 │ -0.991505    0.406164   -0.990998\n",
       "  996 │  5.8426      1.28432     0.981054\n",
       "  997 │ -6.35345    -0.0902471  -1.59972\n",
       "  998 │  0.807814   -0.0563532  -0.00698265\n",
       "  999 │  0.866246   -0.0270624   0.211074\n",
       " 1000 │ -1.91973    -0.172309   -0.536714\n",
       "\u001b[36m                            979 rows omitted\u001b[0m"
      ]
     },
     "execution_count": 50,
     "metadata": {},
     "output_type": "execute_result"
    }
   ],
   "source": [
    "Random.seed!(123)\n",
    "N = 1000 # number of data points\n",
    "\n",
    "# define simple linear model with added noise\n",
    "X = rand(Normal(0, 1), N) # generate X\n",
    "Y = X + rand(Normal(0, 1), N)\n",
    "Z = 3*Y + rand(Normal(0, 1), N)\n",
    "\n",
    "tb=DataFrame(Z=Z,X=X,Y=Y)"
   ]
  },
  {
   "cell_type": "code",
   "execution_count": 51,
   "metadata": {},
   "outputs": [
    {
     "name": "stdout",
     "output_type": "stream",
     "text": [
      "\n",
      "---------------------------------\n",
      "                       Y         \n",
      "              -------------------\n",
      "                   (1)        (2)\n",
      "---------------------------------\n",
      "(Intercept)      0.015     -0.012\n",
      "               (0.030)    (0.010)\n",
      "X             1.003***   0.118***\n",
      "               (0.029)    (0.014)\n",
      "Z                        0.296***\n",
      "                          (0.003)\n",
      "---------------------------------\n",
      "Estimator          OLS        OLS\n",
      "---------------------------------\n",
      "N                1,000      1,000\n",
      "R2               0.543      0.948\n",
      "---------------------------------\n",
      "\n",
      "\n"
     ]
    }
   ],
   "source": [
    "# Regressions\n",
    "no_control = lm(@formula(Y ~ X), tb)        \n",
    "using_control = lm(@formula(Y ~ X+Z), tb)    \n",
    "\n",
    "# Summary results\n",
    "regtable(no_control , using_control, renderSettings = asciiOutput(), estimformat = \"%02.3f\")"
   ]
  }
 ],
 "metadata": {
  "@webio": {
   "lastCommId": "f31cf43a2be8486e8158e40784b5f431",
   "lastKernelId": "c4815dbc-bfcb-4b56-aded-62db37e0a54d"
  },
  "kernelspec": {
   "display_name": "Julia 1.7.2",
   "language": "julia",
   "name": "julia-1.7"
  },
  "language_info": {
   "file_extension": ".jl",
   "mimetype": "application/julia",
   "name": "julia",
   "version": "1.7.2"
  }
 },
 "nbformat": 4,
 "nbformat_minor": 4
}
