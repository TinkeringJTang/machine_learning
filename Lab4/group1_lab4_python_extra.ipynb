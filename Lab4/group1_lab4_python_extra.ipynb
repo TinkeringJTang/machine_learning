{
 "cells": [
  {
   "cell_type": "markdown",
   "metadata": {},
   "source": [
    "# <font color='red'>Tutorial on Good and Bad Controls</font>"
   ]
  },
  {
   "cell_type": "code",
   "execution_count": 8,
   "metadata": {},
   "outputs": [
    {
     "ename": "ImportError",
     "evalue": "cannot import name 'Iterable' from 'collections' (C:\\Users\\Roberto\\anaconda3\\envs\\env_geopandas\\lib\\collections\\__init__.py)",
     "output_type": "error",
     "traceback": [
      "\u001b[1;31m---------------------------------------------------------------------------\u001b[0m",
      "\u001b[1;31mImportError\u001b[0m                               Traceback (most recent call last)",
      "Input \u001b[1;32mIn [8]\u001b[0m, in \u001b[0;36m<cell line: 14>\u001b[1;34m()\u001b[0m\n\u001b[0;32m     12\u001b[0m \u001b[38;5;28;01mimport\u001b[39;00m \u001b[38;5;21;01msympy\u001b[39;00m\n\u001b[0;32m     13\u001b[0m \u001b[38;5;66;03m# import dowhy as dw\u001b[39;00m\n\u001b[1;32m---> 14\u001b[0m \u001b[38;5;28;01mfrom\u001b[39;00m \u001b[38;5;21;01mcausalgraphicalmodels\u001b[39;00m \u001b[38;5;28;01mimport\u001b[39;00m CausalGraphicalModel\n",
      "File \u001b[1;32m~\\anaconda3\\envs\\env_geopandas\\lib\\site-packages\\causalgraphicalmodels\\__init__.py:1\u001b[0m, in \u001b[0;36m<module>\u001b[1;34m\u001b[0m\n\u001b[1;32m----> 1\u001b[0m \u001b[38;5;28;01mfrom\u001b[39;00m \u001b[38;5;21;01mcausalgraphicalmodels\u001b[39;00m\u001b[38;5;21;01m.\u001b[39;00m\u001b[38;5;21;01mcgm\u001b[39;00m \u001b[38;5;28;01mimport\u001b[39;00m CausalGraphicalModel\n\u001b[0;32m      2\u001b[0m \u001b[38;5;28;01mfrom\u001b[39;00m \u001b[38;5;21;01mcausalgraphicalmodels\u001b[39;00m\u001b[38;5;21;01m.\u001b[39;00m\u001b[38;5;21;01mcsm\u001b[39;00m \u001b[38;5;28;01mimport\u001b[39;00m StructuralCausalModel\n\u001b[0;32m      3\u001b[0m \u001b[38;5;28;01mimport\u001b[39;00m \u001b[38;5;21;01mcausalgraphicalmodels\u001b[39;00m\u001b[38;5;21;01m.\u001b[39;00m\u001b[38;5;21;01mexamples\u001b[39;00m \u001b[38;5;28;01mas\u001b[39;00m \u001b[38;5;21;01mexamples\u001b[39;00m\n",
      "File \u001b[1;32m~\\anaconda3\\envs\\env_geopandas\\lib\\site-packages\\causalgraphicalmodels\\cgm.py:4\u001b[0m, in \u001b[0;36m<module>\u001b[1;34m\u001b[0m\n\u001b[0;32m      2\u001b[0m \u001b[38;5;28;01mimport\u001b[39;00m \u001b[38;5;21;01mgraphviz\u001b[39;00m\n\u001b[0;32m      3\u001b[0m \u001b[38;5;28;01mfrom\u001b[39;00m \u001b[38;5;21;01mitertools\u001b[39;00m \u001b[38;5;28;01mimport\u001b[39;00m combinations, chain\n\u001b[1;32m----> 4\u001b[0m \u001b[38;5;28;01mfrom\u001b[39;00m \u001b[38;5;21;01mcollections\u001b[39;00m \u001b[38;5;28;01mimport\u001b[39;00m Iterable\n\u001b[0;32m      7\u001b[0m \u001b[38;5;28;01mclass\u001b[39;00m \u001b[38;5;21;01mCausalGraphicalModel\u001b[39;00m:\n\u001b[0;32m      8\u001b[0m     \u001b[38;5;124;03m\"\"\"\u001b[39;00m\n\u001b[0;32m      9\u001b[0m \u001b[38;5;124;03m    Causal Graphical Models\u001b[39;00m\n\u001b[0;32m     10\u001b[0m \u001b[38;5;124;03m    \"\"\"\u001b[39;00m\n",
      "\u001b[1;31mImportError\u001b[0m: cannot import name 'Iterable' from 'collections' (C:\\Users\\Roberto\\anaconda3\\envs\\env_geopandas\\lib\\collections\\__init__.py)"
     ]
    }
   ],
   "source": [
    "import pandas as pd\n",
    "import numpy as np\n",
    "import random\n",
    "import math\n",
    "import sklearn\n",
    "import scipy as sp\n",
    "import networkx\n",
    "import matplotlib\n",
    "import statsmodels.api as sm\n",
    "import statsmodels.formula.api as smf\n",
    "from statsmodels.iolib.summary2 import summary_col\n",
    "import sympy\n",
    "# import dowhy as dw\n",
    "from causalgraphicalmodels import CausalGraphicalModel\n"
   ]
  },
  {
   "cell_type": "markdown",
   "metadata": {},
   "source": [
    "## <font color='blue'>Models 1, 2 and 3 - Good Controls (blocking back-door paths)</font>"
   ]
  },
  {
   "cell_type": "markdown",
   "metadata": {},
   "source": [
    "### Model 1"
   ]
  },
  {
   "cell_type": "markdown",
   "metadata": {},
   "source": [
    "In this model, the variable Z acts as a confounder of X and Y. In this regard, if we want to estimate the effects of X on Y that are not caused by changes in Z, we **must** control for Z. In this short example we introduce this reasoning in a Directed Acyclical Graph."
   ]
  },
  {
   "cell_type": "code",
   "execution_count": 9,
   "metadata": {},
   "outputs": [
    {
     "ename": "NameError",
     "evalue": "name 'CausalGraphicalModel' is not defined",
     "output_type": "error",
     "traceback": [
      "\u001b[1;31m---------------------------------------------------------------------------\u001b[0m",
      "\u001b[1;31mNameError\u001b[0m                                 Traceback (most recent call last)",
      "Input \u001b[1;32mIn [9]\u001b[0m, in \u001b[0;36m<cell line: 1>\u001b[1;34m()\u001b[0m\n\u001b[1;32m----> 1\u001b[0m sprinkler \u001b[38;5;241m=\u001b[39m \u001b[43mCausalGraphicalModel\u001b[49m(nodes\u001b[38;5;241m=\u001b[39m[\u001b[38;5;124m\"\u001b[39m\u001b[38;5;124mZ\u001b[39m\u001b[38;5;124m\"\u001b[39m,\u001b[38;5;124m\"\u001b[39m\u001b[38;5;124mY\u001b[39m\u001b[38;5;124m\"\u001b[39m,\u001b[38;5;124m\"\u001b[39m\u001b[38;5;124mX\u001b[39m\u001b[38;5;124m\"\u001b[39m],\n\u001b[0;32m      2\u001b[0m                                  edges\u001b[38;5;241m=\u001b[39m[(\u001b[38;5;124m\"\u001b[39m\u001b[38;5;124mZ\u001b[39m\u001b[38;5;124m\"\u001b[39m,\u001b[38;5;124m\"\u001b[39m\u001b[38;5;124mY\u001b[39m\u001b[38;5;124m\"\u001b[39m),\n\u001b[0;32m      3\u001b[0m                                         (\u001b[38;5;124m\"\u001b[39m\u001b[38;5;124mZ\u001b[39m\u001b[38;5;124m\"\u001b[39m,\u001b[38;5;124m\"\u001b[39m\u001b[38;5;124mX\u001b[39m\u001b[38;5;124m\"\u001b[39m),\n\u001b[0;32m      4\u001b[0m                                         (\u001b[38;5;124m\"\u001b[39m\u001b[38;5;124mX\u001b[39m\u001b[38;5;124m\"\u001b[39m,\u001b[38;5;124m\"\u001b[39m\u001b[38;5;124mY\u001b[39m\u001b[38;5;124m\"\u001b[39m)])\n\u001b[0;32m      5\u001b[0m sprinkler\u001b[38;5;241m.\u001b[39mdraw()\n",
      "\u001b[1;31mNameError\u001b[0m: name 'CausalGraphicalModel' is not defined"
     ]
    }
   ],
   "source": [
    "sprinkler = CausalGraphicalModel(nodes=[\"Z\",\"Y\",\"X\"],\n",
    "                                 edges=[(\"Z\",\"Y\"),\n",
    "                                        (\"Z\",\"X\"),\n",
    "                                        (\"X\",\"Y\")])\n",
    "sprinkler.draw()"
   ]
  },
  {
   "cell_type": "code",
   "execution_count": 4,
   "metadata": {},
   "outputs": [],
   "source": [
    "# Set Seed\n",
    "# to make the results replicable (generating random numbers)\n",
    "np.random.seed(1234567)     # set MC seed\n",
    "\n",
    "n = 1000                # sample size\n",
    "Z = np.random.normal(0,1, 1000).reshape((1000, 1))  # generate Z, the distribution of the variables do not really matter\n",
    "X = 0.5*Z + np.random.normal(0, 1, 1000).reshape((1000, 1))\n",
    "Y = X + 2*Z + np.random.normal(0, 1, 1000).reshape((1000, 1)) #Real effect is 3.\n",
    "\n",
    "# Create dataframe\n",
    "D = np.hstack((Z, X, Y))\n",
    "data = pd.DataFrame(D, columns = [\"Z\", \"X\", \"Y\"])"
   ]
  },
  {
   "cell_type": "code",
   "execution_count": 5,
   "metadata": {
    "scrolled": true
   },
   "outputs": [
    {
     "name": "stdout",
     "output_type": "stream",
     "text": [
      "\n",
      "==================================\n",
      "                  Y I       Y II  \n",
      "----------------------------------\n",
      "Intercept      0.0739    -0.0039  \n",
      "               (0.0644)  (0.0323) \n",
      "R-squared      0.4718    0.8671   \n",
      "R-squared Adj. 0.4712    0.8669   \n",
      "X              1.7449*** 1.0088***\n",
      "               (0.0584)  (0.0323) \n",
      "Z                        1.9841***\n",
      "                         (0.0364) \n",
      "==================================\n",
      "Standard errors in parentheses.\n",
      "* p<.1, ** p<.05, ***p<.01\n"
     ]
    }
   ],
   "source": [
    "# Regressions\n",
    "no_control = \"Y ~ X\"          #Wrong, not controlling by the confounder Z\n",
    "using_control = \"Y ~ X + Z\"   # Correct\n",
    "\n",
    "no_control = smf.ols(no_control , data=data).fit()\n",
    "using_control = smf.ols(using_control , data=data).fit()\n",
    "\n",
    "# Summary results\n",
    "dfoutput = summary_col([no_control,using_control],stars=True)\n",
    "print(dfoutput)"
   ]
  },
  {
   "cell_type": "markdown",
   "metadata": {},
   "source": [
    "We can see that, although the real marginal effect of X on Y is 1, if we do not control for Z, we get a biased estimator, due to a spurious correlation."
   ]
  },
  {
   "cell_type": "markdown",
   "metadata": {},
   "source": [
    "### Model 2"
   ]
  },
  {
   "cell_type": "markdown",
   "metadata": {},
   "source": [
    "Now let's think of a similar case, but this time the *confounder* is a non-observable variable. Nevertheless, controlling for Z blocks the backdoor path from this unobservable to X, leading to a unbiased estimator for the marginal effect of X on Y."
   ]
  },
  {
   "cell_type": "code",
   "execution_count": 6,
   "metadata": {},
   "outputs": [
    {
     "data": {
      "image/svg+xml": [
       "<?xml version=\"1.0\" encoding=\"UTF-8\" standalone=\"no\"?>\r\n",
       "<!DOCTYPE svg PUBLIC \"-//W3C//DTD SVG 1.1//EN\"\r\n",
       " \"http://www.w3.org/Graphics/SVG/1.1/DTD/svg11.dtd\">\r\n",
       "<!-- Generated by graphviz version 2.38.0 (20140413.2041)\r\n",
       " -->\r\n",
       "<!-- Title: %3 Pages: 1 -->\r\n",
       "<svg width=\"89pt\" height=\"228pt\"\r\n",
       " viewBox=\"0.00 0.00 89.00 227.60\" xmlns=\"http://www.w3.org/2000/svg\" xmlns:xlink=\"http://www.w3.org/1999/xlink\">\r\n",
       "<g id=\"graph0\" class=\"graph\" transform=\"scale(1 1) rotate(0) translate(4 223.6)\">\r\n",
       "<title>%3</title>\r\n",
       "<polygon fill=\"white\" stroke=\"none\" points=\"-4,4 -4,-223.6 85,-223.6 85,4 -4,4\"/>\r\n",
       "<!-- Z -->\r\n",
       "<g id=\"node1\" class=\"node\"><title>Z</title>\r\n",
       "<ellipse fill=\"none\" stroke=\"black\" cx=\"27\" cy=\"-162\" rx=\"27\" ry=\"18\"/>\r\n",
       "<text text-anchor=\"middle\" x=\"27\" y=\"-158.3\" font-family=\"Times New Roman,serif\" font-size=\"14.00\">Z</text>\r\n",
       "</g>\r\n",
       "<!-- X -->\r\n",
       "<g id=\"node2\" class=\"node\"><title>X</title>\r\n",
       "<ellipse fill=\"none\" stroke=\"black\" cx=\"27\" cy=\"-90\" rx=\"27\" ry=\"18\"/>\r\n",
       "<text text-anchor=\"middle\" x=\"27\" y=\"-86.3\" font-family=\"Times New Roman,serif\" font-size=\"14.00\">X</text>\r\n",
       "</g>\r\n",
       "<!-- Z&#45;&gt;X -->\r\n",
       "<g id=\"edge1\" class=\"edge\"><title>Z&#45;&gt;X</title>\r\n",
       "<path fill=\"none\" stroke=\"black\" d=\"M27,-143.697C27,-135.983 27,-126.712 27,-118.112\"/>\r\n",
       "<polygon fill=\"black\" stroke=\"black\" points=\"30.5001,-118.104 27,-108.104 23.5001,-118.104 30.5001,-118.104\"/>\r\n",
       "</g>\r\n",
       "<!-- Y -->\r\n",
       "<g id=\"node3\" class=\"node\"><title>Y</title>\r\n",
       "<ellipse fill=\"none\" stroke=\"black\" cx=\"54\" cy=\"-18\" rx=\"27\" ry=\"18\"/>\r\n",
       "<text text-anchor=\"middle\" x=\"54\" y=\"-14.3\" font-family=\"Times New Roman,serif\" font-size=\"14.00\">Y</text>\r\n",
       "</g>\r\n",
       "<!-- X&#45;&gt;Y -->\r\n",
       "<g id=\"edge2\" class=\"edge\"><title>X&#45;&gt;Y</title>\r\n",
       "<path fill=\"none\" stroke=\"black\" d=\"M33.3986,-72.411C36.5136,-64.3352 40.3337,-54.4312 43.8346,-45.3547\"/>\r\n",
       "<polygon fill=\"black\" stroke=\"black\" points=\"47.1265,-46.5458 47.4597,-35.9562 40.5955,-44.0267 47.1265,-46.5458\"/>\r\n",
       "</g>\r\n",
       "<!-- Unobserved_0 -->\r\n",
       "<g id=\"node4\" class=\"node\"><title>Unobserved_0</title>\r\n",
       "<ellipse fill=\"black\" stroke=\"black\" cx=\"54\" cy=\"-217.8\" rx=\"1.8\" ry=\"1.8\"/>\r\n",
       "</g>\r\n",
       "<!-- Unobserved_0&#45;&gt;Z -->\r\n",
       "<g id=\"edge3\" class=\"edge\"><title>Unobserved_0&#45;&gt;Z</title>\r\n",
       "<path fill=\"none\" stroke=\"black\" stroke-dasharray=\"5,2\" d=\"M53.5314,-215.866C51.8185,-212.453 45.6865,-200.235 39.7489,-188.403\"/>\r\n",
       "<polygon fill=\"black\" stroke=\"black\" points=\"42.7305,-186.541 35.1169,-179.174 36.4742,-189.681 42.7305,-186.541\"/>\r\n",
       "</g>\r\n",
       "<!-- Unobserved_0&#45;&gt;Y -->\r\n",
       "<g id=\"edge4\" class=\"edge\"><title>Unobserved_0&#45;&gt;Y</title>\r\n",
       "<path fill=\"none\" stroke=\"black\" stroke-dasharray=\"5,2\" d=\"M54.3041,-215.904C55.6687,-211.832 61.2373,-194.627 63,-180 68.7428,-132.345 67.0322,-119.83 63,-72 62.2834,-63.4991 60.9311,-54.3119 59.4884,-46.0122\"/>\r\n",
       "<polygon fill=\"black\" stroke=\"black\" points=\"62.9142,-45.2892 57.6538,-36.0925 56.0309,-46.5623 62.9142,-45.2892\"/>\r\n",
       "</g>\r\n",
       "</g>\r\n",
       "</svg>\r\n"
      ],
      "text/plain": [
       "<graphviz.dot.Digraph at 0x2192302a820>"
      ]
     },
     "execution_count": 6,
     "metadata": {},
     "output_type": "execute_result"
    }
   ],
   "source": [
    "sprinkler = CausalGraphicalModel(nodes=[\"Z\",\"Y\",\"X\"],\n",
    "                                 edges=[(\"Z\",\"X\"),\n",
    "                                        (\"X\",\"Y\")],\n",
    "                                 latent_edges=[(\"Z\",\"Y\")])\n",
    "sprinkler.draw()"
   ]
  },
  {
   "cell_type": "code",
   "execution_count": 7,
   "metadata": {},
   "outputs": [],
   "source": [
    "# Set Seed\n",
    "# to make the results replicable (generating random numbers)\n",
    "np.random.seed(1234567)     # set MC seed\n",
    "\n",
    "n = 1000                # sample size\n",
    "U = np.random.normal(0, 1, 1000).reshape((1000, 1))\n",
    "Z = 2*U + np.random.normal(0, 1, 1000).reshape((1000, 1)) # generate Z\n",
    "X = 0.5*Z + np.random.normal(0, 1, 1000).reshape((1000, 1))\n",
    "Y = X + 2*U + np.random.normal(0, 1, 1000).reshape((1000, 1))\n",
    "\n",
    "# Create dataframe\n",
    "D = np.hstack((U, Z, X, Y))\n",
    "data = pd.DataFrame(D, columns = [\"U\", \"Z\", \"X\", \"Y\"])"
   ]
  },
  {
   "cell_type": "code",
   "execution_count": 8,
   "metadata": {},
   "outputs": [
    {
     "name": "stdout",
     "output_type": "stream",
     "text": [
      "\n",
      "==================================\n",
      "                  Y I       Y II  \n",
      "----------------------------------\n",
      "Intercept      0.0657    0.0373   \n",
      "               (0.0585)  (0.0436) \n",
      "R-squared      0.6784    0.8219   \n",
      "R-squared Adj. 0.6781    0.8216   \n",
      "X              1.8074*** 0.9281***\n",
      "               (0.0394)  (0.0427) \n",
      "Z                        0.8279***\n",
      "                         (0.0292) \n",
      "==================================\n",
      "Standard errors in parentheses.\n",
      "* p<.1, ** p<.05, ***p<.01\n"
     ]
    }
   ],
   "source": [
    "# Regressions\n",
    "no_control = \"Y ~ X\"           #Wrong, not controlling for confounder\n",
    "using_control = \"Y ~ X + Z\"      #classical\n",
    "\n",
    "no_control = smf.ols(no_control , data=data).fit()\n",
    "using_control = smf.ols(using_control , data=data).fit()\n",
    "\n",
    "# Summary results\n",
    "dfoutput = summary_col([no_control,using_control],stars=True)\n",
    "print(dfoutput)"
   ]
  },
  {
   "cell_type": "markdown",
   "metadata": {},
   "source": [
    "We can see that, although the real marginal effect of X on Y is 1, if we do not control for Z, we get a biased estimator, due to a spurious correlation."
   ]
  },
  {
   "cell_type": "markdown",
   "metadata": {},
   "source": [
    "### Model 3"
   ]
  },
  {
   "cell_type": "markdown",
   "metadata": {},
   "source": [
    "A final example of a good control is presented in the figure below. Here, as before, we have an unobservable confounder, which affects both X and Z. In this case, although Z does not have an influence on X,controlling for Z would block the backdoor path from the unobserved to Z and Y."
   ]
  },
  {
   "cell_type": "code",
   "execution_count": 9,
   "metadata": {
    "scrolled": true
   },
   "outputs": [
    {
     "data": {
      "image/svg+xml": [
       "<?xml version=\"1.0\" encoding=\"UTF-8\" standalone=\"no\"?>\r\n",
       "<!DOCTYPE svg PUBLIC \"-//W3C//DTD SVG 1.1//EN\"\r\n",
       " \"http://www.w3.org/Graphics/SVG/1.1/DTD/svg11.dtd\">\r\n",
       "<!-- Generated by graphviz version 2.38.0 (20140413.2041)\r\n",
       " -->\r\n",
       "<!-- Title: %3 Pages: 1 -->\r\n",
       "<svg width=\"134pt\" height=\"156pt\"\r\n",
       " viewBox=\"0.00 0.00 134.00 155.60\" xmlns=\"http://www.w3.org/2000/svg\" xmlns:xlink=\"http://www.w3.org/1999/xlink\">\r\n",
       "<g id=\"graph0\" class=\"graph\" transform=\"scale(1 1) rotate(0) translate(4 151.6)\">\r\n",
       "<title>%3</title>\r\n",
       "<polygon fill=\"white\" stroke=\"none\" points=\"-4,4 -4,-151.6 130,-151.6 130,4 -4,4\"/>\r\n",
       "<!-- Z -->\r\n",
       "<g id=\"node1\" class=\"node\"><title>Z</title>\r\n",
       "<ellipse fill=\"none\" stroke=\"black\" cx=\"27\" cy=\"-90\" rx=\"27\" ry=\"18\"/>\r\n",
       "<text text-anchor=\"middle\" x=\"27\" y=\"-86.3\" font-family=\"Times New Roman,serif\" font-size=\"14.00\">Z</text>\r\n",
       "</g>\r\n",
       "<!-- Y -->\r\n",
       "<g id=\"node3\" class=\"node\"><title>Y</title>\r\n",
       "<ellipse fill=\"none\" stroke=\"black\" cx=\"63\" cy=\"-18\" rx=\"27\" ry=\"18\"/>\r\n",
       "<text text-anchor=\"middle\" x=\"63\" y=\"-14.3\" font-family=\"Times New Roman,serif\" font-size=\"14.00\">Y</text>\r\n",
       "</g>\r\n",
       "<!-- Z&#45;&gt;Y -->\r\n",
       "<g id=\"edge1\" class=\"edge\"><title>Z&#45;&gt;Y</title>\r\n",
       "<path fill=\"none\" stroke=\"black\" d=\"M35.3496,-72.7646C39.7115,-64.2831 45.1469,-53.7144 50.0413,-44.1974\"/>\r\n",
       "<polygon fill=\"black\" stroke=\"black\" points=\"53.2346,-45.6409 54.6957,-35.1473 47.0096,-42.4395 53.2346,-45.6409\"/>\r\n",
       "</g>\r\n",
       "<!-- X -->\r\n",
       "<g id=\"node2\" class=\"node\"><title>X</title>\r\n",
       "<ellipse fill=\"none\" stroke=\"black\" cx=\"99\" cy=\"-90\" rx=\"27\" ry=\"18\"/>\r\n",
       "<text text-anchor=\"middle\" x=\"99\" y=\"-86.3\" font-family=\"Times New Roman,serif\" font-size=\"14.00\">X</text>\r\n",
       "</g>\r\n",
       "<!-- X&#45;&gt;Y -->\r\n",
       "<g id=\"edge2\" class=\"edge\"><title>X&#45;&gt;Y</title>\r\n",
       "<path fill=\"none\" stroke=\"black\" d=\"M90.6504,-72.7646C86.2885,-64.2831 80.8531,-53.7144 75.9587,-44.1974\"/>\r\n",
       "<polygon fill=\"black\" stroke=\"black\" points=\"78.9904,-42.4395 71.3043,-35.1473 72.7654,-45.6409 78.9904,-42.4395\"/>\r\n",
       "</g>\r\n",
       "<!-- Unobserved_0 -->\r\n",
       "<g id=\"node4\" class=\"node\"><title>Unobserved_0</title>\r\n",
       "<ellipse fill=\"black\" stroke=\"black\" cx=\"63\" cy=\"-145.8\" rx=\"1.8\" ry=\"1.8\"/>\r\n",
       "</g>\r\n",
       "<!-- Unobserved_0&#45;&gt;Z -->\r\n",
       "<g id=\"edge3\" class=\"edge\"><title>Unobserved_0&#45;&gt;Z</title>\r\n",
       "<path fill=\"none\" stroke=\"black\" stroke-dasharray=\"5,2\" d=\"M62.3752,-143.866C60.016,-140.341 51.37,-127.42 43.2168,-115.235\"/>\r\n",
       "<polygon fill=\"black\" stroke=\"black\" points=\"45.9342,-113.003 37.4641,-106.638 40.1165,-116.895 45.9342,-113.003\"/>\r\n",
       "</g>\r\n",
       "<!-- Unobserved_0&#45;&gt;X -->\r\n",
       "<g id=\"edge4\" class=\"edge\"><title>Unobserved_0&#45;&gt;X</title>\r\n",
       "<path fill=\"none\" stroke=\"black\" stroke-dasharray=\"5,2\" d=\"M63.6248,-143.866C65.984,-140.341 74.63,-127.42 82.7832,-115.235\"/>\r\n",
       "<polygon fill=\"black\" stroke=\"black\" points=\"85.8835,-116.895 88.5359,-106.638 80.0658,-113.003 85.8835,-116.895\"/>\r\n",
       "</g>\r\n",
       "</g>\r\n",
       "</svg>\r\n"
      ],
      "text/plain": [
       "<graphviz.dot.Digraph at 0x2192dc1f3d0>"
      ]
     },
     "execution_count": 9,
     "metadata": {},
     "output_type": "execute_result"
    }
   ],
   "source": [
    "sprinkler = CausalGraphicalModel(nodes=[\"Z\",\"Y\",\"X\"],\n",
    "                                 edges=[(\"Z\",\"Y\"),\n",
    "                                        (\"X\",\"Y\")],\n",
    "                                 latent_edges=[(\"Z\",\"X\")])\n",
    "sprinkler.draw()"
   ]
  },
  {
   "cell_type": "code",
   "execution_count": 10,
   "metadata": {},
   "outputs": [],
   "source": [
    "# Set Seed\n",
    "# to make the results replicable (generating random numbers)\n",
    "np.random.seed(1234567)     # set MC seed\n",
    "\n",
    "n = 1000                # sample size\n",
    "U = np.random.normal(0, 1, 1000).reshape((1000, 1))\n",
    "Z = 2*U + np.random.normal(0, 1, 1000).reshape((1000, 1)) # generate Z\n",
    "X = 0.5*U + np.random.normal(0, 1, 1000).reshape((1000, 1))\n",
    "Y = X + 2*Z + np.random.normal(0, 1, 1000).reshape((1000, 1))\n",
    "\n",
    "# Create dataframe\n",
    "D = np.hstack((U, Z, X, Y))\n",
    "data = pd.DataFrame(D, columns = [\"U\", \"Z\", \"X\", \"Y\"])"
   ]
  },
  {
   "cell_type": "code",
   "execution_count": 11,
   "metadata": {},
   "outputs": [
    {
     "name": "stdout",
     "output_type": "stream",
     "text": [
      "\n",
      "==================================\n",
      "                  Y I       Y II  \n",
      "----------------------------------\n",
      "Intercept      0.1107    0.0076   \n",
      "               (0.1312)  (0.0315) \n",
      "R-squared      0.3014    0.9597   \n",
      "R-squared Adj. 0.3007    0.9596   \n",
      "X              2.4169*** 0.9525***\n",
      "               (0.1165)  (0.0303) \n",
      "Z                        2.0029***\n",
      "                         (0.0157) \n",
      "==================================\n",
      "Standard errors in parentheses.\n",
      "* p<.1, ** p<.05, ***p<.01\n"
     ]
    }
   ],
   "source": [
    "# Regressions\n",
    "no_control = \"Y ~ X\"           #Wrong, not controlling for confounder\n",
    "using_control = \"Y ~ X + Z\"      #classical\n",
    "\n",
    "no_control = smf.ols(no_control , data=data).fit()\n",
    "using_control = smf.ols(using_control , data=data).fit()\n",
    "\n",
    "# Summary results\n",
    "dfoutput = summary_col([no_control,using_control],stars=True)\n",
    "print(dfoutput)"
   ]
  },
  {
   "cell_type": "markdown",
   "metadata": {},
   "source": [
    "We can see that, although the real marginal effect of X on Y is 1, if we do not control for Z, we get a biased estimator, due to a spurious correlation."
   ]
  },
  {
   "cell_type": "markdown",
   "metadata": {},
   "source": [
    "## <font color='blue'>Models 4, 5 and 6 - Good Controls (blocking back-door paths)</font>"
   ]
  },
  {
   "cell_type": "markdown",
   "metadata": {},
   "source": [
    "Variables that have an effect on X, or any other mediatior (M) will act as a confounder of the effect of X on Y. Hence, to block this backdoor path, we must include them, in order to get an unbiased estimate."
   ]
  },
  {
   "cell_type": "markdown",
   "metadata": {},
   "source": [
    "### Model 4"
   ]
  },
  {
   "cell_type": "code",
   "execution_count": 12,
   "metadata": {
    "scrolled": false
   },
   "outputs": [
    {
     "data": {
      "image/svg+xml": [
       "<?xml version=\"1.0\" encoding=\"UTF-8\" standalone=\"no\"?>\r\n",
       "<!DOCTYPE svg PUBLIC \"-//W3C//DTD SVG 1.1//EN\"\r\n",
       " \"http://www.w3.org/Graphics/SVG/1.1/DTD/svg11.dtd\">\r\n",
       "<!-- Generated by graphviz version 2.38.0 (20140413.2041)\r\n",
       " -->\r\n",
       "<!-- Title: %3 Pages: 1 -->\r\n",
       "<svg width=\"90pt\" height=\"260pt\"\r\n",
       " viewBox=\"0.00 0.00 90.00 260.00\" xmlns=\"http://www.w3.org/2000/svg\" xmlns:xlink=\"http://www.w3.org/1999/xlink\">\r\n",
       "<g id=\"graph0\" class=\"graph\" transform=\"scale(1 1) rotate(0) translate(4 256)\">\r\n",
       "<title>%3</title>\r\n",
       "<polygon fill=\"white\" stroke=\"none\" points=\"-4,4 -4,-256 86,-256 86,4 -4,4\"/>\r\n",
       "<!-- M -->\r\n",
       "<g id=\"node1\" class=\"node\"><title>M</title>\r\n",
       "<ellipse fill=\"none\" stroke=\"black\" cx=\"27\" cy=\"-90\" rx=\"27\" ry=\"18\"/>\r\n",
       "<text text-anchor=\"middle\" x=\"27\" y=\"-86.3\" font-family=\"Times New Roman,serif\" font-size=\"14.00\">M</text>\r\n",
       "</g>\r\n",
       "<!-- Y -->\r\n",
       "<g id=\"node4\" class=\"node\"><title>Y</title>\r\n",
       "<ellipse fill=\"none\" stroke=\"black\" cx=\"27\" cy=\"-18\" rx=\"27\" ry=\"18\"/>\r\n",
       "<text text-anchor=\"middle\" x=\"27\" y=\"-14.3\" font-family=\"Times New Roman,serif\" font-size=\"14.00\">Y</text>\r\n",
       "</g>\r\n",
       "<!-- M&#45;&gt;Y -->\r\n",
       "<g id=\"edge3\" class=\"edge\"><title>M&#45;&gt;Y</title>\r\n",
       "<path fill=\"none\" stroke=\"black\" d=\"M27,-71.6966C27,-63.9827 27,-54.7125 27,-46.1124\"/>\r\n",
       "<polygon fill=\"black\" stroke=\"black\" points=\"30.5001,-46.1043 27,-36.1043 23.5001,-46.1044 30.5001,-46.1043\"/>\r\n",
       "</g>\r\n",
       "<!-- Z -->\r\n",
       "<g id=\"node2\" class=\"node\"><title>Z</title>\r\n",
       "<ellipse fill=\"none\" stroke=\"black\" cx=\"27\" cy=\"-234\" rx=\"27\" ry=\"18\"/>\r\n",
       "<text text-anchor=\"middle\" x=\"27\" y=\"-230.3\" font-family=\"Times New Roman,serif\" font-size=\"14.00\">Z</text>\r\n",
       "</g>\r\n",
       "<!-- Z&#45;&gt;M -->\r\n",
       "<g id=\"edge1\" class=\"edge\"><title>Z&#45;&gt;M</title>\r\n",
       "<path fill=\"none\" stroke=\"black\" d=\"M23.7517,-215.888C21.9542,-205.542 19.9053,-192.063 19,-180 17.8026,-164.045 17.8026,-159.955 19,-144 19.6366,-135.518 20.8384,-126.336 22.1208,-118.036\"/>\r\n",
       "<polygon fill=\"black\" stroke=\"black\" points=\"25.5836,-118.547 23.7517,-108.112 18.6763,-117.412 25.5836,-118.547\"/>\r\n",
       "</g>\r\n",
       "<!-- X -->\r\n",
       "<g id=\"node3\" class=\"node\"><title>X</title>\r\n",
       "<ellipse fill=\"none\" stroke=\"black\" cx=\"55\" cy=\"-162\" rx=\"27\" ry=\"18\"/>\r\n",
       "<text text-anchor=\"middle\" x=\"55\" y=\"-158.3\" font-family=\"Times New Roman,serif\" font-size=\"14.00\">X</text>\r\n",
       "</g>\r\n",
       "<!-- Z&#45;&gt;X -->\r\n",
       "<g id=\"edge2\" class=\"edge\"><title>Z&#45;&gt;X</title>\r\n",
       "<path fill=\"none\" stroke=\"black\" d=\"M33.6356,-216.411C36.9134,-208.216 40.9442,-198.14 44.6181,-188.955\"/>\r\n",
       "<polygon fill=\"black\" stroke=\"black\" points=\"47.9477,-190.055 48.412,-179.47 41.4484,-187.455 47.9477,-190.055\"/>\r\n",
       "</g>\r\n",
       "<!-- X&#45;&gt;M -->\r\n",
       "<g id=\"edge4\" class=\"edge\"><title>X&#45;&gt;M</title>\r\n",
       "<path fill=\"none\" stroke=\"black\" d=\"M48.3644,-144.411C45.0866,-136.216 41.0558,-126.14 37.3819,-116.955\"/>\r\n",
       "<polygon fill=\"black\" stroke=\"black\" points=\"40.5516,-115.455 33.588,-107.47 34.0523,-118.055 40.5516,-115.455\"/>\r\n",
       "</g>\r\n",
       "</g>\r\n",
       "</svg>\r\n"
      ],
      "text/plain": [
       "<graphviz.dot.Digraph at 0x2192dc388b0>"
      ]
     },
     "execution_count": 12,
     "metadata": {},
     "output_type": "execute_result"
    }
   ],
   "source": [
    "sprinkler = CausalGraphicalModel(nodes=[\"Z\",\"Y\",\"M\",\"X\"],\n",
    "                                 edges=[(\"Z\",\"M\"),\n",
    "                                        (\"Z\",\"X\"),\n",
    "                                        (\"X\",\"M\"),\n",
    "                                        (\"M\",\"Y\")]\n",
    "                                )\n",
    "sprinkler.draw()"
   ]
  },
  {
   "cell_type": "code",
   "execution_count": 13,
   "metadata": {},
   "outputs": [],
   "source": [
    "# Set Seed\n",
    "# to make the results replicable (generating random numbers)\n",
    "np.random.seed(1234567)     # set MC seed\n",
    "\n",
    "n = 1000                # sample size\n",
    "Z = np.random.normal(0, 1, 1000).reshape((1000, 1)) # generate Z\n",
    "X = 0.5*Z + np.random.normal(0, 1, 1000).reshape((1000, 1))\n",
    "M = 1.5*Z + 0.5*X + np.random.normal(0, 1, 1000).reshape((1000, 1))\n",
    "Y = 2*M + np.random.normal(0, 1, 1000).reshape((1000, 1)) #Efecto marginal de X en Y es 2.\n",
    "\n",
    "# Create dataframe\n",
    "D = np.hstack((Z, X, M, Y))\n",
    "data = pd.DataFrame(D, columns = [\"Z\", \"X\", \"M\", \"Y\"])"
   ]
  },
  {
   "cell_type": "code",
   "execution_count": 14,
   "metadata": {},
   "outputs": [
    {
     "name": "stdout",
     "output_type": "stream",
     "text": [
      "\n",
      "============================================\n",
      "                  Y I       Y II     Y III  \n",
      "--------------------------------------------\n",
      "Intercept      0.1157    -0.0021   0.0055   \n",
      "               (0.1097)  (0.0702)  (0.0315) \n",
      "M                                  1.9401***\n",
      "                                   (0.0309) \n",
      "R-squared      0.3044    0.7158    0.9428   \n",
      "R-squared Adj. 0.3037    0.7152    0.9426   \n",
      "X              2.0805*** 0.9661*** -0.0210  \n",
      "               (0.0995)  (0.0701)  (0.0352) \n",
      "Z                        3.0039*** 0.1246** \n",
      "                         (0.0791)  (0.0580) \n",
      "============================================\n",
      "Standard errors in parentheses.\n",
      "* p<.1, ** p<.05, ***p<.01\n"
     ]
    }
   ],
   "source": [
    "# Regressions\n",
    "no_control = \"Y ~ X\"           #Wrong, not controlling for confounder\n",
    "using_control = \"Y ~ X + Z\"      #classical\n",
    "using_m = \"Y ~ X + Z + M\"      #Wrong, adding M will yield the direct effect of M on Y,but we are interested in the effect of X. \n",
    "\n",
    "no_control = smf.ols(no_control , data=data).fit()\n",
    "using_control = smf.ols(using_control , data=data).fit()\n",
    "using_m = smf.ols(using_m,data=data).fit() \n",
    "\n",
    "# Summary results\n",
    "dfoutput = summary_col([no_control,using_control,using_m],stars=True)\n",
    "print(dfoutput)"
   ]
  },
  {
   "cell_type": "markdown",
   "metadata": {},
   "source": [
    "### Model 5"
   ]
  },
  {
   "cell_type": "code",
   "execution_count": 15,
   "metadata": {},
   "outputs": [
    {
     "data": {
      "image/svg+xml": [
       "<?xml version=\"1.0\" encoding=\"UTF-8\" standalone=\"no\"?>\r\n",
       "<!DOCTYPE svg PUBLIC \"-//W3C//DTD SVG 1.1//EN\"\r\n",
       " \"http://www.w3.org/Graphics/SVG/1.1/DTD/svg11.dtd\">\r\n",
       "<!-- Generated by graphviz version 2.38.0 (20140413.2041)\r\n",
       " -->\r\n",
       "<!-- Title: %3 Pages: 1 -->\r\n",
       "<svg width=\"90pt\" height=\"300pt\"\r\n",
       " viewBox=\"0.00 0.00 90.00 299.60\" xmlns=\"http://www.w3.org/2000/svg\" xmlns:xlink=\"http://www.w3.org/1999/xlink\">\r\n",
       "<g id=\"graph0\" class=\"graph\" transform=\"scale(1 1) rotate(0) translate(4 295.6)\">\r\n",
       "<title>%3</title>\r\n",
       "<polygon fill=\"white\" stroke=\"none\" points=\"-4,4 -4,-295.6 86,-295.6 86,4 -4,4\"/>\r\n",
       "<!-- M -->\r\n",
       "<g id=\"node1\" class=\"node\"><title>M</title>\r\n",
       "<ellipse fill=\"none\" stroke=\"black\" cx=\"27\" cy=\"-90\" rx=\"27\" ry=\"18\"/>\r\n",
       "<text text-anchor=\"middle\" x=\"27\" y=\"-86.3\" font-family=\"Times New Roman,serif\" font-size=\"14.00\">M</text>\r\n",
       "</g>\r\n",
       "<!-- Y -->\r\n",
       "<g id=\"node4\" class=\"node\"><title>Y</title>\r\n",
       "<ellipse fill=\"none\" stroke=\"black\" cx=\"27\" cy=\"-18\" rx=\"27\" ry=\"18\"/>\r\n",
       "<text text-anchor=\"middle\" x=\"27\" y=\"-14.3\" font-family=\"Times New Roman,serif\" font-size=\"14.00\">Y</text>\r\n",
       "</g>\r\n",
       "<!-- M&#45;&gt;Y -->\r\n",
       "<g id=\"edge2\" class=\"edge\"><title>M&#45;&gt;Y</title>\r\n",
       "<path fill=\"none\" stroke=\"black\" d=\"M27,-71.6966C27,-63.9827 27,-54.7125 27,-46.1124\"/>\r\n",
       "<polygon fill=\"black\" stroke=\"black\" points=\"30.5001,-46.1043 27,-36.1043 23.5001,-46.1044 30.5001,-46.1043\"/>\r\n",
       "</g>\r\n",
       "<!-- Z -->\r\n",
       "<g id=\"node2\" class=\"node\"><title>Z</title>\r\n",
       "<ellipse fill=\"none\" stroke=\"black\" cx=\"55\" cy=\"-234\" rx=\"27\" ry=\"18\"/>\r\n",
       "<text text-anchor=\"middle\" x=\"55\" y=\"-230.3\" font-family=\"Times New Roman,serif\" font-size=\"14.00\">Z</text>\r\n",
       "</g>\r\n",
       "<!-- X -->\r\n",
       "<g id=\"node3\" class=\"node\"><title>X</title>\r\n",
       "<ellipse fill=\"none\" stroke=\"black\" cx=\"55\" cy=\"-162\" rx=\"27\" ry=\"18\"/>\r\n",
       "<text text-anchor=\"middle\" x=\"55\" y=\"-158.3\" font-family=\"Times New Roman,serif\" font-size=\"14.00\">X</text>\r\n",
       "</g>\r\n",
       "<!-- Z&#45;&gt;X -->\r\n",
       "<g id=\"edge1\" class=\"edge\"><title>Z&#45;&gt;X</title>\r\n",
       "<path fill=\"none\" stroke=\"black\" d=\"M55,-215.697C55,-207.983 55,-198.712 55,-190.112\"/>\r\n",
       "<polygon fill=\"black\" stroke=\"black\" points=\"58.5001,-190.104 55,-180.104 51.5001,-190.104 58.5001,-190.104\"/>\r\n",
       "</g>\r\n",
       "<!-- X&#45;&gt;M -->\r\n",
       "<g id=\"edge3\" class=\"edge\"><title>X&#45;&gt;M</title>\r\n",
       "<path fill=\"none\" stroke=\"black\" d=\"M48.3644,-144.411C45.0866,-136.216 41.0558,-126.14 37.3819,-116.955\"/>\r\n",
       "<polygon fill=\"black\" stroke=\"black\" points=\"40.5516,-115.455 33.588,-107.47 34.0523,-118.055 40.5516,-115.455\"/>\r\n",
       "</g>\r\n",
       "<!-- Unobserved_0 -->\r\n",
       "<g id=\"node5\" class=\"node\"><title>Unobserved_0</title>\r\n",
       "<ellipse fill=\"black\" stroke=\"black\" cx=\"27\" cy=\"-289.8\" rx=\"1.8\" ry=\"1.8\"/>\r\n",
       "</g>\r\n",
       "<!-- Unobserved_0&#45;&gt;M -->\r\n",
       "<g id=\"edge5\" class=\"edge\"><title>Unobserved_0&#45;&gt;M</title>\r\n",
       "<path fill=\"none\" stroke=\"black\" stroke-dasharray=\"5,2\" d=\"M26.7296,-287.901C25.5161,-283.815 20.5645,-266.562 19,-252 13.8723,-204.275 15.4079,-191.865 19,-144 19.6366,-135.518 20.8384,-126.336 22.1208,-118.036\"/>\r\n",
       "<polygon fill=\"black\" stroke=\"black\" points=\"25.5836,-118.547 23.7517,-108.112 18.6763,-117.412 25.5836,-118.547\"/>\r\n",
       "</g>\r\n",
       "<!-- Unobserved_0&#45;&gt;Z -->\r\n",
       "<g id=\"edge4\" class=\"edge\"><title>Unobserved_0&#45;&gt;Z</title>\r\n",
       "<path fill=\"none\" stroke=\"black\" stroke-dasharray=\"5,2\" d=\"M27.486,-287.866C29.2799,-284.419 35.7477,-271.992 41.9617,-260.052\"/>\r\n",
       "<polygon fill=\"black\" stroke=\"black\" points=\"45.0705,-261.66 46.5825,-251.174 38.8611,-258.428 45.0705,-261.66\"/>\r\n",
       "</g>\r\n",
       "</g>\r\n",
       "</svg>\r\n"
      ],
      "text/plain": [
       "<graphviz.dot.Digraph at 0x2192dc38940>"
      ]
     },
     "execution_count": 15,
     "metadata": {},
     "output_type": "execute_result"
    }
   ],
   "source": [
    "sprinkler = CausalGraphicalModel(nodes=[\"Z\",\"Y\",\"M\",\"X\"],\n",
    "                                 edges=[(\"Z\",\"X\"),\n",
    "                                        (\"X\",\"M\"),\n",
    "                                        (\"M\",\"Y\")],\n",
    "                                 latent_edges=[(\"Z\",\"M\")]\n",
    "                                )\n",
    "sprinkler.draw()"
   ]
  },
  {
   "cell_type": "code",
   "execution_count": 16,
   "metadata": {},
   "outputs": [],
   "source": [
    "# Set Seed\n",
    "# to make the results replicable (generating random numbers)\n",
    "np.random.seed(123456)     # set MC seed\n",
    "\n",
    "n = 1000                # sample size\n",
    "U = np.random.normal(0, 1, 1000).reshape((1000, 1))\n",
    "Z = 2*U + np.random.normal(0, 1, 1000).reshape((1000, 1)) # generate Z\n",
    "X = 0.5*Z + np.random.normal(0, 1, 1000).reshape((1000, 1))\n",
    "M = 1.5*U + 0.5*X + np.random.normal(0, 1, 1000).reshape((1000, 1))\n",
    "Y = 2*M + np.random.normal(0, 1, 1000).reshape((1000, 1)) #Efecto marginal de X en Y es 2.\n",
    "\n",
    "# Create dataframe\n",
    "D = np.hstack((U, Z, X, M, Y))\n",
    "data = pd.DataFrame(D, columns = [\"U\",\"Z\", \"X\", \"M\", \"Y\"])"
   ]
  },
  {
   "cell_type": "code",
   "execution_count": 17,
   "metadata": {},
   "outputs": [
    {
     "name": "stdout",
     "output_type": "stream",
     "text": [
      "\n",
      "============================================\n",
      "                  Y I       Y II     Y III  \n",
      "--------------------------------------------\n",
      "Intercept      -0.0537   -0.0092   -0.0235  \n",
      "               (0.0989)  (0.0814)  (0.0311) \n",
      "M                                  1.9635***\n",
      "                                   (0.0257) \n",
      "R-squared      0.5721    0.7104    0.9578   \n",
      "R-squared Adj. 0.5716    0.7098    0.9577   \n",
      "X              2.3556*** 1.0333*** 0.0182   \n",
      "               (0.0645)  (0.0805)  (0.0335) \n",
      "Z                        1.1562*** 0.0174   \n",
      "                         (0.0530)  (0.0251) \n",
      "============================================\n",
      "Standard errors in parentheses.\n",
      "* p<.1, ** p<.05, ***p<.01\n"
     ]
    }
   ],
   "source": [
    "# Regressions\n",
    "no_control = \"Y ~ X\"           #Wrong, not controlling for confounder\n",
    "using_control = \"Y ~ X + Z\"      #classical\n",
    "using_m = \"Y ~ X + Z + M\"      #Wrong, adding M will yield the direct effect of M on Y,but we are interested in the effect of X. \n",
    "\n",
    "no_control = smf.ols(no_control , data=data).fit()\n",
    "using_control = smf.ols(using_control , data=data).fit()\n",
    "using_m = smf.ols(using_m,data=data).fit() \n",
    "\n",
    "# Summary results\n",
    "dfoutput = summary_col([no_control,using_control,using_m],stars=True)\n",
    "print(dfoutput)"
   ]
  },
  {
   "cell_type": "markdown",
   "metadata": {},
   "source": [
    "The real marginal effect of X on Y is 1. Including Z on the regression will block the backdoor path from X to Y due to the unobservable U. Besides, including the mediator M  will be wrong, as we try to estimate the ACE of X on Y."
   ]
  },
  {
   "cell_type": "markdown",
   "metadata": {},
   "source": [
    "### Model 6"
   ]
  },
  {
   "cell_type": "markdown",
   "metadata": {},
   "source": [
    "As in the other models, controlling for Z will block the backdoor path from U to Y, produncing an unbiased estimator of the marginal effect of X on Y."
   ]
  },
  {
   "cell_type": "code",
   "execution_count": 3,
   "metadata": {},
   "outputs": [
    {
     "data": {
      "image/svg+xml": [
       "<?xml version=\"1.0\" encoding=\"UTF-8\" standalone=\"no\"?>\r\n",
       "<!DOCTYPE svg PUBLIC \"-//W3C//DTD SVG 1.1//EN\"\r\n",
       " \"http://www.w3.org/Graphics/SVG/1.1/DTD/svg11.dtd\">\r\n",
       "<!-- Generated by graphviz version 2.38.0 (20140413.2041)\r\n",
       " -->\r\n",
       "<!-- Title: %3 Pages: 1 -->\r\n",
       "<svg width=\"134pt\" height=\"228pt\"\r\n",
       " viewBox=\"0.00 0.00 134.00 227.60\" xmlns=\"http://www.w3.org/2000/svg\" xmlns:xlink=\"http://www.w3.org/1999/xlink\">\r\n",
       "<g id=\"graph0\" class=\"graph\" transform=\"scale(1 1) rotate(0) translate(4 223.6)\">\r\n",
       "<title>%3</title>\r\n",
       "<polygon fill=\"white\" stroke=\"none\" points=\"-4,4 -4,-223.6 130,-223.6 130,4 -4,4\"/>\r\n",
       "<!-- Y -->\r\n",
       "<g id=\"node1\" class=\"node\"><title>Y</title>\r\n",
       "<ellipse fill=\"none\" stroke=\"black\" cx=\"63\" cy=\"-18\" rx=\"27\" ry=\"18\"/>\r\n",
       "<text text-anchor=\"middle\" x=\"63\" y=\"-14.3\" font-family=\"Times New Roman,serif\" font-size=\"14.00\">Y</text>\r\n",
       "</g>\r\n",
       "<!-- Z -->\r\n",
       "<g id=\"node2\" class=\"node\"><title>Z</title>\r\n",
       "<ellipse fill=\"none\" stroke=\"black\" cx=\"27\" cy=\"-162\" rx=\"27\" ry=\"18\"/>\r\n",
       "<text text-anchor=\"middle\" x=\"27\" y=\"-158.3\" font-family=\"Times New Roman,serif\" font-size=\"14.00\">Z</text>\r\n",
       "</g>\r\n",
       "<!-- M -->\r\n",
       "<g id=\"node4\" class=\"node\"><title>M</title>\r\n",
       "<ellipse fill=\"none\" stroke=\"black\" cx=\"63\" cy=\"-90\" rx=\"27\" ry=\"18\"/>\r\n",
       "<text text-anchor=\"middle\" x=\"63\" y=\"-86.3\" font-family=\"Times New Roman,serif\" font-size=\"14.00\">M</text>\r\n",
       "</g>\r\n",
       "<!-- Z&#45;&gt;M -->\r\n",
       "<g id=\"edge1\" class=\"edge\"><title>Z&#45;&gt;M</title>\r\n",
       "<path fill=\"none\" stroke=\"black\" d=\"M35.3496,-144.765C39.7115,-136.283 45.1469,-125.714 50.0413,-116.197\"/>\r\n",
       "<polygon fill=\"black\" stroke=\"black\" points=\"53.2346,-117.641 54.6957,-107.147 47.0096,-114.439 53.2346,-117.641\"/>\r\n",
       "</g>\r\n",
       "<!-- X -->\r\n",
       "<g id=\"node3\" class=\"node\"><title>X</title>\r\n",
       "<ellipse fill=\"none\" stroke=\"black\" cx=\"99\" cy=\"-162\" rx=\"27\" ry=\"18\"/>\r\n",
       "<text text-anchor=\"middle\" x=\"99\" y=\"-158.3\" font-family=\"Times New Roman,serif\" font-size=\"14.00\">X</text>\r\n",
       "</g>\r\n",
       "<!-- X&#45;&gt;M -->\r\n",
       "<g id=\"edge3\" class=\"edge\"><title>X&#45;&gt;M</title>\r\n",
       "<path fill=\"none\" stroke=\"black\" d=\"M90.6504,-144.765C86.2885,-136.283 80.8531,-125.714 75.9587,-116.197\"/>\r\n",
       "<polygon fill=\"black\" stroke=\"black\" points=\"78.9904,-114.439 71.3043,-107.147 72.7654,-117.641 78.9904,-114.439\"/>\r\n",
       "</g>\r\n",
       "<!-- M&#45;&gt;Y -->\r\n",
       "<g id=\"edge2\" class=\"edge\"><title>M&#45;&gt;Y</title>\r\n",
       "<path fill=\"none\" stroke=\"black\" d=\"M63,-71.6966C63,-63.9827 63,-54.7125 63,-46.1124\"/>\r\n",
       "<polygon fill=\"black\" stroke=\"black\" points=\"66.5001,-46.1043 63,-36.1043 59.5001,-46.1044 66.5001,-46.1043\"/>\r\n",
       "</g>\r\n",
       "<!-- Unobserved_0 -->\r\n",
       "<g id=\"node5\" class=\"node\"><title>Unobserved_0</title>\r\n",
       "<ellipse fill=\"black\" stroke=\"black\" cx=\"63\" cy=\"-217.8\" rx=\"1.8\" ry=\"1.8\"/>\r\n",
       "</g>\r\n",
       "<!-- Unobserved_0&#45;&gt;Z -->\r\n",
       "<g id=\"edge5\" class=\"edge\"><title>Unobserved_0&#45;&gt;Z</title>\r\n",
       "<path fill=\"none\" stroke=\"black\" stroke-dasharray=\"5,2\" d=\"M62.3752,-215.866C60.016,-212.341 51.37,-199.42 43.2168,-187.235\"/>\r\n",
       "<polygon fill=\"black\" stroke=\"black\" points=\"45.9342,-185.003 37.4641,-178.638 40.1165,-188.895 45.9342,-185.003\"/>\r\n",
       "</g>\r\n",
       "<!-- Unobserved_0&#45;&gt;X -->\r\n",
       "<g id=\"edge4\" class=\"edge\"><title>Unobserved_0&#45;&gt;X</title>\r\n",
       "<path fill=\"none\" stroke=\"black\" stroke-dasharray=\"5,2\" d=\"M63.6248,-215.866C65.984,-212.341 74.63,-199.42 82.7832,-187.235\"/>\r\n",
       "<polygon fill=\"black\" stroke=\"black\" points=\"85.8835,-188.895 88.5359,-178.638 80.0658,-185.003 85.8835,-188.895\"/>\r\n",
       "</g>\r\n",
       "</g>\r\n",
       "</svg>\r\n"
      ],
      "text/plain": [
       "<graphviz.dot.Digraph at 0x1ea3f9e8a30>"
      ]
     },
     "execution_count": 3,
     "metadata": {},
     "output_type": "execute_result"
    }
   ],
   "source": [
    "sprinkler = CausalGraphicalModel(nodes=[\"Z\",\"Y\",\"M\",\"X\"],\n",
    "                                 edges=[(\"Z\",\"M\"),\n",
    "                                        (\"X\",\"M\"),\n",
    "                                        (\"M\",\"Y\")],\n",
    "                                 latent_edges=[(\"X\",\"Z\")]\n",
    "                                )\n",
    "sprinkler.draw()"
   ]
  },
  {
   "cell_type": "code",
   "execution_count": 19,
   "metadata": {},
   "outputs": [],
   "source": [
    "# Set Seed\n",
    "# to make the results replicable (generating random numbers)\n",
    "np.random.seed(123456)     # set MC seed\n",
    "\n",
    "n = 1000                # sample size\n",
    "U = np.random.normal(0, 1, 1000).reshape((1000, 1))\n",
    "Z = 2*U + np.random.normal(0, 1, 1000).reshape((1000, 1)) # generate Z\n",
    "X = 0.5*U + np.random.normal(0, 1, 1000).reshape((1000, 1))\n",
    "M = 1.5*Z + 0.5*X + np.random.normal(0, 1, 1000).reshape((1000, 1))\n",
    "Y = 2*M + np.random.normal(0, 1, 1000).reshape((1000, 1)) #Efecto marginal de X en Y es 2.\n",
    "\n",
    "# Create dataframe\n",
    "D = np.hstack((U, Z, X, M, Y))\n",
    "data = pd.DataFrame(D, columns = [\"U\",\"Z\", \"X\", \"M\", \"Y\"])"
   ]
  },
  {
   "cell_type": "code",
   "execution_count": 20,
   "metadata": {},
   "outputs": [
    {
     "name": "stdout",
     "output_type": "stream",
     "text": [
      "\n",
      "============================================\n",
      "                  Y I       Y II     Y III  \n",
      "--------------------------------------------\n",
      "Intercept      -0.1546   0.0332    -0.0226  \n",
      "               (0.2119)  (0.0702)  (0.0311) \n",
      "M                                  1.9587***\n",
      "                                   (0.0307) \n",
      "R-squared      0.2545    0.9184    0.9840   \n",
      "R-squared Adj. 0.2537    0.9183    0.9839   \n",
      "X              3.4382*** 0.9892*** 0.0165   \n",
      "               (0.1863)  (0.0674)  (0.0335) \n",
      "Z                        2.9616*** 0.0579   \n",
      "                         (0.0329)  (0.0477) \n",
      "============================================\n",
      "Standard errors in parentheses.\n",
      "* p<.1, ** p<.05, ***p<.01\n"
     ]
    }
   ],
   "source": [
    "# Regressions\n",
    "no_control = \"Y ~ X\"           #Wrong, not controlling for confounder\n",
    "using_control = \"Y ~ X + Z\"      #classical\n",
    "using_m = \"Y ~ X + Z + M\"      #Wrong, adding M will yield the direct effect of M on Y,but we are interested in the effect of X. \n",
    "\n",
    "no_control = smf.ols(no_control , data=data).fit()\n",
    "using_control = smf.ols(using_control , data=data).fit()\n",
    "using_m = smf.ols(using_m,data=data).fit() \n",
    "\n",
    "# Summary results\n",
    "dfoutput = summary_col([no_control,using_control,using_m],stars=True)\n",
    "print(dfoutput)"
   ]
  },
  {
   "cell_type": "markdown",
   "metadata": {},
   "source": [
    "The real marginal effect of X on Y is 1. Including Z on the regression will block the backdoor path from Z to Y due to the unobservable U. Besides, including the mediator M  will be wrong, as we try to estimate the ACE of X on Y."
   ]
  },
  {
   "cell_type": "markdown",
   "metadata": {},
   "source": [
    "## <font color='blue'>Model 7 - Bad Control (M-bias)</font>"
   ]
  },
  {
   "cell_type": "markdown",
   "metadata": {},
   "source": [
    "### Case 1"
   ]
  },
  {
   "cell_type": "markdown",
   "metadata": {},
   "source": [
    "Now consider the following DAC. We should observe that Z is correlated with X,Y , as it shares common unobservable confounders. Besides, Z is a pre-treatment variable. Nevertheless, including Z in the regression of X on Y would induce bias by opening the backdoor path $ X \\leftarrow U1 \\rightarrow Z \\leftarrow U2 \\rightarrow Y$ "
   ]
  },
  {
   "cell_type": "code",
   "execution_count": 21,
   "metadata": {},
   "outputs": [
    {
     "data": {
      "image/svg+xml": [
       "<?xml version=\"1.0\" encoding=\"UTF-8\" standalone=\"no\"?>\r\n",
       "<!DOCTYPE svg PUBLIC \"-//W3C//DTD SVG 1.1//EN\"\r\n",
       " \"http://www.w3.org/Graphics/SVG/1.1/DTD/svg11.dtd\">\r\n",
       "<!-- Generated by graphviz version 2.38.0 (20140413.2041)\r\n",
       " -->\r\n",
       "<!-- Title: %3 Pages: 1 -->\r\n",
       "<svg width=\"146pt\" height=\"156pt\"\r\n",
       " viewBox=\"0.00 0.00 146.48 155.60\" xmlns=\"http://www.w3.org/2000/svg\" xmlns:xlink=\"http://www.w3.org/1999/xlink\">\r\n",
       "<g id=\"graph0\" class=\"graph\" transform=\"scale(1 1) rotate(0) translate(4 151.6)\">\r\n",
       "<title>%3</title>\r\n",
       "<polygon fill=\"white\" stroke=\"none\" points=\"-4,4 -4,-151.6 142.477,-151.6 142.477,4 -4,4\"/>\r\n",
       "<!-- Z -->\r\n",
       "<g id=\"node1\" class=\"node\"><title>Z</title>\r\n",
       "<ellipse fill=\"none\" stroke=\"black\" cx=\"99\" cy=\"-90\" rx=\"27\" ry=\"18\"/>\r\n",
       "<text text-anchor=\"middle\" x=\"99\" y=\"-86.3\" font-family=\"Times New Roman,serif\" font-size=\"14.00\">Z</text>\r\n",
       "</g>\r\n",
       "<!-- X -->\r\n",
       "<g id=\"node2\" class=\"node\"><title>X</title>\r\n",
       "<ellipse fill=\"none\" stroke=\"black\" cx=\"27\" cy=\"-90\" rx=\"27\" ry=\"18\"/>\r\n",
       "<text text-anchor=\"middle\" x=\"27\" y=\"-86.3\" font-family=\"Times New Roman,serif\" font-size=\"14.00\">X</text>\r\n",
       "</g>\r\n",
       "<!-- Y -->\r\n",
       "<g id=\"node3\" class=\"node\"><title>Y</title>\r\n",
       "<ellipse fill=\"none\" stroke=\"black\" cx=\"90\" cy=\"-18\" rx=\"27\" ry=\"18\"/>\r\n",
       "<text text-anchor=\"middle\" x=\"90\" y=\"-14.3\" font-family=\"Times New Roman,serif\" font-size=\"14.00\">Y</text>\r\n",
       "</g>\r\n",
       "<!-- X&#45;&gt;Y -->\r\n",
       "<g id=\"edge1\" class=\"edge\"><title>X&#45;&gt;Y</title>\r\n",
       "<path fill=\"none\" stroke=\"black\" d=\"M40.3607,-74.1548C48.8803,-64.6885 60.0854,-52.2384 69.6935,-41.5628\"/>\r\n",
       "<polygon fill=\"black\" stroke=\"black\" points=\"72.5704,-43.5982 76.6586,-33.8238 67.3674,-38.9154 72.5704,-43.5982\"/>\r\n",
       "</g>\r\n",
       "<!-- Unobserved_0 -->\r\n",
       "<g id=\"node4\" class=\"node\"><title>Unobserved_0</title>\r\n",
       "<ellipse fill=\"black\" stroke=\"black\" cx=\"52\" cy=\"-145.8\" rx=\"1.8\" ry=\"1.8\"/>\r\n",
       "</g>\r\n",
       "<!-- Unobserved_0&#45;&gt;Z -->\r\n",
       "<g id=\"edge3\" class=\"edge\"><title>Unobserved_0&#45;&gt;Z</title>\r\n",
       "<path fill=\"none\" stroke=\"black\" stroke-dasharray=\"5,2\" d=\"M52.8158,-143.866C56.046,-140.169 68.3046,-126.136 79.3805,-113.458\"/>\r\n",
       "<polygon fill=\"black\" stroke=\"black\" points=\"82.0893,-115.677 86.0326,-105.844 76.8176,-111.072 82.0893,-115.677\"/>\r\n",
       "</g>\r\n",
       "<!-- Unobserved_0&#45;&gt;X -->\r\n",
       "<g id=\"edge2\" class=\"edge\"><title>Unobserved_0&#45;&gt;X</title>\r\n",
       "<path fill=\"none\" stroke=\"black\" stroke-dasharray=\"5,2\" d=\"M51.5661,-143.866C49.9903,-140.475 44.3754,-128.392 38.911,-116.632\"/>\r\n",
       "<polygon fill=\"black\" stroke=\"black\" points=\"42.0291,-115.037 34.6409,-107.443 35.681,-117.987 42.0291,-115.037\"/>\r\n",
       "</g>\r\n",
       "<!-- Unobserved_1 -->\r\n",
       "<g id=\"node5\" class=\"node\"><title>Unobserved_1</title>\r\n",
       "<ellipse fill=\"black\" stroke=\"black\" cx=\"126\" cy=\"-145.8\" rx=\"1.8\" ry=\"1.8\"/>\r\n",
       "</g>\r\n",
       "<!-- Unobserved_1&#45;&gt;Z -->\r\n",
       "<g id=\"edge4\" class=\"edge\"><title>Unobserved_1&#45;&gt;Z</title>\r\n",
       "<path fill=\"none\" stroke=\"black\" stroke-dasharray=\"5,2\" d=\"M125.531,-143.866C123.818,-140.453 117.687,-128.235 111.749,-116.403\"/>\r\n",
       "<polygon fill=\"black\" stroke=\"black\" points=\"114.731,-114.541 107.117,-107.174 108.474,-117.681 114.731,-114.541\"/>\r\n",
       "</g>\r\n",
       "<!-- Unobserved_1&#45;&gt;Y -->\r\n",
       "<g id=\"edge5\" class=\"edge\"><title>Unobserved_1&#45;&gt;Y</title>\r\n",
       "<path fill=\"none\" stroke=\"black\" stroke-dasharray=\"5,2\" d=\"M126.491,-143.732C129.518,-136.99 145.186,-99.7341 135,-72 130.558,-59.9063 121.998,-48.684 113.526,-39.7087\"/>\r\n",
       "<polygon fill=\"black\" stroke=\"black\" points=\"115.768,-37.0026 106.208,-32.4344 110.833,-41.9669 115.768,-37.0026\"/>\r\n",
       "</g>\r\n",
       "</g>\r\n",
       "</svg>\r\n"
      ],
      "text/plain": [
       "<graphviz.dot.Digraph at 0x2192e581910>"
      ]
     },
     "execution_count": 21,
     "metadata": {},
     "output_type": "execute_result"
    }
   ],
   "source": [
    "sprinkler = CausalGraphicalModel(nodes=[\"Z\",\"Y\",\"X\"],\n",
    "                                 edges=[(\"X\",\"Y\")],\n",
    "                                 latent_edges=[(\"X\",\"Z\"),(\"Z\",\"Y\")]\n",
    "                                )\n",
    "sprinkler.draw()"
   ]
  },
  {
   "cell_type": "code",
   "execution_count": 22,
   "metadata": {},
   "outputs": [],
   "source": [
    "# Set Seed\n",
    "# to make the results replicable (generating random numbers)\n",
    "np.random.seed(12345676)     # set MC seed\n",
    "\n",
    "n = 1000                # sample size\n",
    "U_1 = np.random.normal(0, 1, 1000).reshape((1000, 1))\n",
    "U_2 = np.random.normal(0, 1, 1000).reshape((1000, 1))\n",
    "\n",
    "Z = 0.5*U_1 + 0.5*U_2 + np.random.normal(0, 1, 1000).reshape((1000, 1)) # generate Z\n",
    "X = 2*U_1 + np.random.normal(0, 1, 1000).reshape((1000, 1))\n",
    "Y = X + 2*U_2 + np.random.normal(0, 1, 1000).reshape((1000, 1))\n",
    "\n",
    "# Create dataframe\n",
    "D = np.hstack((U_1,U_2, Z, X, Y))\n",
    "data = pd.DataFrame(D, columns = [\"U_1\", \"U_2\", \"Z\", \"X\", \"Y\"])"
   ]
  },
  {
   "cell_type": "code",
   "execution_count": 23,
   "metadata": {
    "scrolled": true
   },
   "outputs": [
    {
     "name": "stdout",
     "output_type": "stream",
     "text": [
      "\n",
      "==================================\n",
      "                  Y I       Y II  \n",
      "----------------------------------\n",
      "Intercept      0.0238    0.0124   \n",
      "               (0.0705)  (0.0645) \n",
      "R-squared      0.5196    0.5986   \n",
      "R-squared Adj. 0.5191    0.5978   \n",
      "X              1.0315*** 0.8690***\n",
      "               (0.0314)  (0.0310) \n",
      "Z                        0.7654***\n",
      "                         (0.0546) \n",
      "==================================\n",
      "Standard errors in parentheses.\n",
      "* p<.1, ** p<.05, ***p<.01\n"
     ]
    }
   ],
   "source": [
    "# Regressions\n",
    "no_control = \"Y ~ X\"          \n",
    "using_control = \"Y ~ X + Z\"      #classical\n",
    "\n",
    "no_control = smf.ols(no_control , data=data).fit()\n",
    "using_control = smf.ols(using_control , data=data).fit()\n",
    "\n",
    "# Summary results\n",
    "dfoutput = summary_col([no_control,using_control],stars=True)\n",
    "print(dfoutput)"
   ]
  },
  {
   "cell_type": "markdown",
   "metadata": {},
   "source": [
    "### Case 2. Controlling or not for Z is equally bad"
   ]
  },
  {
   "cell_type": "markdown",
   "metadata": {},
   "source": [
    "Similarly, now consider the following DAC. We should observe that Z is correlated with X,Y , as it shares common unobservable confounders. Besides, Z is a pre-treatment variable, and now has a direct effect on Y. While including Z in the regression of X on Y now closes the backdoor path formed by $ X\\leftarrow U1 \\rightarrow Z \\rightarrow Y$, it opens the other backdoor path formed by $ X \\leftarrow U1 \\rightarrow Z \\leftarrow U2 \\rightarrow Y$ . In neither case we would get a unbiased estimator."
   ]
  },
  {
   "cell_type": "code",
   "execution_count": 24,
   "metadata": {},
   "outputs": [
    {
     "data": {
      "image/svg+xml": [
       "<?xml version=\"1.0\" encoding=\"UTF-8\" standalone=\"no\"?>\r\n",
       "<!DOCTYPE svg PUBLIC \"-//W3C//DTD SVG 1.1//EN\"\r\n",
       " \"http://www.w3.org/Graphics/SVG/1.1/DTD/svg11.dtd\">\r\n",
       "<!-- Generated by graphviz version 2.38.0 (20140413.2041)\r\n",
       " -->\r\n",
       "<!-- Title: %3 Pages: 1 -->\r\n",
       "<svg width=\"146pt\" height=\"156pt\"\r\n",
       " viewBox=\"0.00 0.00 145.90 155.60\" xmlns=\"http://www.w3.org/2000/svg\" xmlns:xlink=\"http://www.w3.org/1999/xlink\">\r\n",
       "<g id=\"graph0\" class=\"graph\" transform=\"scale(1 1) rotate(0) translate(4 151.6)\">\r\n",
       "<title>%3</title>\r\n",
       "<polygon fill=\"white\" stroke=\"none\" points=\"-4,4 -4,-151.6 141.896,-151.6 141.896,4 -4,4\"/>\r\n",
       "<!-- Z -->\r\n",
       "<g id=\"node1\" class=\"node\"><title>Z</title>\r\n",
       "<ellipse fill=\"none\" stroke=\"black\" cx=\"99\" cy=\"-90\" rx=\"27\" ry=\"18\"/>\r\n",
       "<text text-anchor=\"middle\" x=\"99\" y=\"-86.3\" font-family=\"Times New Roman,serif\" font-size=\"14.00\">Z</text>\r\n",
       "</g>\r\n",
       "<!-- Y -->\r\n",
       "<g id=\"node3\" class=\"node\"><title>Y</title>\r\n",
       "<ellipse fill=\"none\" stroke=\"black\" cx=\"99\" cy=\"-18\" rx=\"27\" ry=\"18\"/>\r\n",
       "<text text-anchor=\"middle\" x=\"99\" y=\"-14.3\" font-family=\"Times New Roman,serif\" font-size=\"14.00\">Y</text>\r\n",
       "</g>\r\n",
       "<!-- Z&#45;&gt;Y -->\r\n",
       "<g id=\"edge1\" class=\"edge\"><title>Z&#45;&gt;Y</title>\r\n",
       "<path fill=\"none\" stroke=\"black\" d=\"M99,-71.6966C99,-63.9827 99,-54.7125 99,-46.1124\"/>\r\n",
       "<polygon fill=\"black\" stroke=\"black\" points=\"102.5,-46.1043 99,-36.1043 95.5001,-46.1044 102.5,-46.1043\"/>\r\n",
       "</g>\r\n",
       "<!-- X -->\r\n",
       "<g id=\"node2\" class=\"node\"><title>X</title>\r\n",
       "<ellipse fill=\"none\" stroke=\"black\" cx=\"27\" cy=\"-90\" rx=\"27\" ry=\"18\"/>\r\n",
       "<text text-anchor=\"middle\" x=\"27\" y=\"-86.3\" font-family=\"Times New Roman,serif\" font-size=\"14.00\">X</text>\r\n",
       "</g>\r\n",
       "<!-- X&#45;&gt;Y -->\r\n",
       "<g id=\"edge2\" class=\"edge\"><title>X&#45;&gt;Y</title>\r\n",
       "<path fill=\"none\" stroke=\"black\" d=\"M41.5703,-74.8345C51.7499,-64.9376 65.5239,-51.5462 77.0306,-40.3591\"/>\r\n",
       "<polygon fill=\"black\" stroke=\"black\" points=\"79.4741,-42.865 84.2043,-33.3847 74.5945,-37.8461 79.4741,-42.865\"/>\r\n",
       "</g>\r\n",
       "<!-- Unobserved_0 -->\r\n",
       "<g id=\"node4\" class=\"node\"><title>Unobserved_0</title>\r\n",
       "<ellipse fill=\"black\" stroke=\"black\" cx=\"52\" cy=\"-145.8\" rx=\"1.8\" ry=\"1.8\"/>\r\n",
       "</g>\r\n",
       "<!-- Unobserved_0&#45;&gt;Z -->\r\n",
       "<g id=\"edge4\" class=\"edge\"><title>Unobserved_0&#45;&gt;Z</title>\r\n",
       "<path fill=\"none\" stroke=\"black\" stroke-dasharray=\"5,2\" d=\"M52.8158,-143.866C56.046,-140.169 68.3046,-126.136 79.3805,-113.458\"/>\r\n",
       "<polygon fill=\"black\" stroke=\"black\" points=\"82.0893,-115.677 86.0326,-105.844 76.8176,-111.072 82.0893,-115.677\"/>\r\n",
       "</g>\r\n",
       "<!-- Unobserved_0&#45;&gt;X -->\r\n",
       "<g id=\"edge3\" class=\"edge\"><title>Unobserved_0&#45;&gt;X</title>\r\n",
       "<path fill=\"none\" stroke=\"black\" stroke-dasharray=\"5,2\" d=\"M51.5661,-143.866C49.9903,-140.475 44.3754,-128.392 38.911,-116.632\"/>\r\n",
       "<polygon fill=\"black\" stroke=\"black\" points=\"42.0291,-115.037 34.6409,-107.443 35.681,-117.987 42.0291,-115.037\"/>\r\n",
       "</g>\r\n",
       "<!-- Unobserved_1 -->\r\n",
       "<g id=\"node5\" class=\"node\"><title>Unobserved_1</title>\r\n",
       "<ellipse fill=\"black\" stroke=\"black\" cx=\"126\" cy=\"-145.8\" rx=\"1.8\" ry=\"1.8\"/>\r\n",
       "</g>\r\n",
       "<!-- Unobserved_1&#45;&gt;Z -->\r\n",
       "<g id=\"edge5\" class=\"edge\"><title>Unobserved_1&#45;&gt;Z</title>\r\n",
       "<path fill=\"none\" stroke=\"black\" stroke-dasharray=\"5,2\" d=\"M125.531,-143.866C123.818,-140.453 117.687,-128.235 111.749,-116.403\"/>\r\n",
       "<polygon fill=\"black\" stroke=\"black\" points=\"114.731,-114.541 107.117,-107.174 108.474,-117.681 114.731,-114.541\"/>\r\n",
       "</g>\r\n",
       "<!-- Unobserved_1&#45;&gt;Y -->\r\n",
       "<g id=\"edge6\" class=\"edge\"><title>Unobserved_1&#45;&gt;Y</title>\r\n",
       "<path fill=\"none\" stroke=\"black\" stroke-dasharray=\"5,2\" d=\"M126.451,-143.745C129.237,-137.085 143.684,-100.24 135,-72 131.714,-61.3149 125.46,-50.851 119.075,-42.0814\"/>\r\n",
       "<polygon fill=\"black\" stroke=\"black\" points=\"121.646,-39.6861 112.75,-33.9312 116.116,-43.9774 121.646,-39.6861\"/>\r\n",
       "</g>\r\n",
       "</g>\r\n",
       "</svg>\r\n"
      ],
      "text/plain": [
       "<graphviz.dot.Digraph at 0x2192e57d670>"
      ]
     },
     "execution_count": 24,
     "metadata": {},
     "output_type": "execute_result"
    }
   ],
   "source": [
    "sprinkler = CausalGraphicalModel(nodes=[\"Z\",\"Y\",\"X\"],\n",
    "                                 edges=[(\"X\",\"Y\"),(\"Z\",\"Y\")],\n",
    "                                 latent_edges=[(\"X\",\"Z\"),(\"Z\",\"Y\")]\n",
    "                                )\n",
    "sprinkler.draw()"
   ]
  },
  {
   "cell_type": "code",
   "execution_count": 25,
   "metadata": {},
   "outputs": [],
   "source": [
    "# Set Seed\n",
    "# to make the results replicable (generating random numbers)\n",
    "np.random.seed(12345676)     # set MC seed\n",
    "\n",
    "n = 1000                # sample size\n",
    "U_1 = np.random.normal(0, 1, 1000).reshape((1000, 1))\n",
    "U_2 = np.random.normal(0, 1, 1000).reshape((1000, 1))\n",
    "\n",
    "Z = 0.5*U_1 + 0.5*U_2 + np.random.normal(0, 1, 1000).reshape((1000, 1)) # generate Z\n",
    "X = 2*U_2 + np.random.normal(0, 1, 1000).reshape((1000, 1))\n",
    "Y = X + 2*U_1 + 2*Z + np.random.normal(0, 1, 1000).reshape((1000, 1))\n",
    "\n",
    "# Create dataframe\n",
    "D = np.hstack((U_1,U_2, Z, X, Y))\n",
    "data = pd.DataFrame(D, columns = [\"U_1\", \"U_2\", \"Z\", \"X\", \"Y\"])"
   ]
  },
  {
   "cell_type": "code",
   "execution_count": 26,
   "metadata": {
    "scrolled": true
   },
   "outputs": [
    {
     "name": "stdout",
     "output_type": "stream",
     "text": [
      "\n",
      "==================================\n",
      "                  Y I       Y II  \n",
      "----------------------------------\n",
      "Intercept      0.2723**  0.1436** \n",
      "               (0.1203)  (0.0641) \n",
      "R-squared      0.4331    0.8393   \n",
      "R-squared Adj. 0.4325    0.8390   \n",
      "X              1.5003*** 0.8921***\n",
      "               (0.0543)  (0.0314) \n",
      "Z                        2.7404***\n",
      "                         (0.0546) \n",
      "==================================\n",
      "Standard errors in parentheses.\n",
      "* p<.1, ** p<.05, ***p<.01\n"
     ]
    }
   ],
   "source": [
    "# Regressions\n",
    "no_control = \"Y ~ X\"          \n",
    "using_control = \"Y ~ X + Z\"      #classical\n",
    "\n",
    "no_control = smf.ols(no_control , data=data).fit()\n",
    "using_control = smf.ols(using_control , data=data).fit()\n",
    "\n",
    "# Summary results\n",
    "dfoutput = summary_col([no_control,using_control],stars=True)\n",
    "print(dfoutput)"
   ]
  },
  {
   "cell_type": "markdown",
   "metadata": {},
   "source": [
    "## <font color='blue'>Model 8 - Neutral Control (possibly good for precision)</font>"
   ]
  },
  {
   "cell_type": "markdown",
   "metadata": {},
   "source": [
    "Here, Z is not a confounder nor a collider. Hence, if we want to estimate the marginal effect of X on Y using a regression of the form \"Y ~ X\", our estimator would be unbiased. However, studies show (Hahn 2004, White and Lu 2011, Henckel et al. 2019) that including Z helps to improve the precision of the ACE estimator (reduce variance)."
   ]
  },
  {
   "cell_type": "code",
   "execution_count": 27,
   "metadata": {},
   "outputs": [
    {
     "data": {
      "image/svg+xml": [
       "<?xml version=\"1.0\" encoding=\"UTF-8\" standalone=\"no\"?>\r\n",
       "<!DOCTYPE svg PUBLIC \"-//W3C//DTD SVG 1.1//EN\"\r\n",
       " \"http://www.w3.org/Graphics/SVG/1.1/DTD/svg11.dtd\">\r\n",
       "<!-- Generated by graphviz version 2.38.0 (20140413.2041)\r\n",
       " -->\r\n",
       "<!-- Title: %3 Pages: 1 -->\r\n",
       "<svg width=\"134pt\" height=\"116pt\"\r\n",
       " viewBox=\"0.00 0.00 134.00 116.00\" xmlns=\"http://www.w3.org/2000/svg\" xmlns:xlink=\"http://www.w3.org/1999/xlink\">\r\n",
       "<g id=\"graph0\" class=\"graph\" transform=\"scale(1 1) rotate(0) translate(4 112)\">\r\n",
       "<title>%3</title>\r\n",
       "<polygon fill=\"white\" stroke=\"none\" points=\"-4,4 -4,-112 130,-112 130,4 -4,4\"/>\r\n",
       "<!-- Z -->\r\n",
       "<g id=\"node1\" class=\"node\"><title>Z</title>\r\n",
       "<ellipse fill=\"none\" stroke=\"black\" cx=\"27\" cy=\"-90\" rx=\"27\" ry=\"18\"/>\r\n",
       "<text text-anchor=\"middle\" x=\"27\" y=\"-86.3\" font-family=\"Times New Roman,serif\" font-size=\"14.00\">Z</text>\r\n",
       "</g>\r\n",
       "<!-- Y -->\r\n",
       "<g id=\"node3\" class=\"node\"><title>Y</title>\r\n",
       "<ellipse fill=\"none\" stroke=\"black\" cx=\"63\" cy=\"-18\" rx=\"27\" ry=\"18\"/>\r\n",
       "<text text-anchor=\"middle\" x=\"63\" y=\"-14.3\" font-family=\"Times New Roman,serif\" font-size=\"14.00\">Y</text>\r\n",
       "</g>\r\n",
       "<!-- Z&#45;&gt;Y -->\r\n",
       "<g id=\"edge1\" class=\"edge\"><title>Z&#45;&gt;Y</title>\r\n",
       "<path fill=\"none\" stroke=\"black\" d=\"M35.3496,-72.7646C39.7115,-64.2831 45.1469,-53.7144 50.0413,-44.1974\"/>\r\n",
       "<polygon fill=\"black\" stroke=\"black\" points=\"53.2346,-45.6409 54.6957,-35.1473 47.0096,-42.4395 53.2346,-45.6409\"/>\r\n",
       "</g>\r\n",
       "<!-- X -->\r\n",
       "<g id=\"node2\" class=\"node\"><title>X</title>\r\n",
       "<ellipse fill=\"none\" stroke=\"black\" cx=\"99\" cy=\"-90\" rx=\"27\" ry=\"18\"/>\r\n",
       "<text text-anchor=\"middle\" x=\"99\" y=\"-86.3\" font-family=\"Times New Roman,serif\" font-size=\"14.00\">X</text>\r\n",
       "</g>\r\n",
       "<!-- X&#45;&gt;Y -->\r\n",
       "<g id=\"edge2\" class=\"edge\"><title>X&#45;&gt;Y</title>\r\n",
       "<path fill=\"none\" stroke=\"black\" d=\"M90.6504,-72.7646C86.2885,-64.2831 80.8531,-53.7144 75.9587,-44.1974\"/>\r\n",
       "<polygon fill=\"black\" stroke=\"black\" points=\"78.9904,-42.4395 71.3043,-35.1473 72.7654,-45.6409 78.9904,-42.4395\"/>\r\n",
       "</g>\r\n",
       "</g>\r\n",
       "</svg>\r\n"
      ],
      "text/plain": [
       "<graphviz.dot.Digraph at 0x2192e58af40>"
      ]
     },
     "execution_count": 27,
     "metadata": {},
     "output_type": "execute_result"
    }
   ],
   "source": [
    "sprinkler = CausalGraphicalModel(nodes=[\"Z\",\"Y\",\"X\"],\n",
    "                                 edges=[(\"Z\",\"Y\"),(\"X\",\"Y\")])\n",
    "sprinkler.draw()"
   ]
  },
  {
   "cell_type": "code",
   "execution_count": 28,
   "metadata": {},
   "outputs": [],
   "source": [
    "# Set Seed\n",
    "# to make the results replicable (generating random numbers)\n",
    "np.random.seed(12345676)     # set MC seed\n",
    "\n",
    "n = 1000                # sample size\n",
    "\n",
    "Z = np.random.normal(0, 1, 1000).reshape((1000, 1))\n",
    "X = np.random.normal(0, 1, 1000).reshape((1000, 1))\n",
    "Y = X + 2*Z + np.random.normal(0, 1, 1000).reshape((1000, 1))\n",
    "\n",
    "# Create dataframe\n",
    "D = np.hstack((Z, X, Y))\n",
    "data = pd.DataFrame(D, columns = [\"Z\", \"X\", \"Y\"])"
   ]
  },
  {
   "cell_type": "code",
   "execution_count": 29,
   "metadata": {},
   "outputs": [
    {
     "name": "stdout",
     "output_type": "stream",
     "text": [
      "\n",
      "==================================\n",
      "                  Y I       Y II  \n",
      "----------------------------------\n",
      "Intercept      0.1404**  0.0001   \n",
      "               (0.0713)  (0.0327) \n",
      "R-squared      0.1950    0.8312   \n",
      "R-squared Adj. 0.1942    0.8309   \n",
      "X              1.1088*** 1.0192***\n",
      "               (0.0713)  (0.0327) \n",
      "Z                        2.0158***\n",
      "                         (0.0329) \n",
      "==================================\n",
      "Standard errors in parentheses.\n",
      "* p<.1, ** p<.05, ***p<.01\n"
     ]
    }
   ],
   "source": [
    "# Regressions\n",
    "no_control = \"Y ~ X\"          \n",
    "using_control = \"Y ~ X + Z\"      #classical\n",
    "\n",
    "no_control = smf.ols(no_control , data=data).fit()\n",
    "using_control = smf.ols(using_control , data=data).fit()\n",
    "\n",
    "# Summary results\n",
    "dfoutput = summary_col([no_control,using_control],stars=True)\n",
    "print(dfoutput)"
   ]
  },
  {
   "cell_type": "markdown",
   "metadata": {},
   "source": [
    "## <font color='blue'>Model 9 - Neutral Control (possibly bad for precision)</font>"
   ]
  },
  {
   "cell_type": "markdown",
   "metadata": {},
   "source": [
    "As in model 8, Z is a neutral control, in the sense that including it or not does not affect the bias/unbiasedness of the marginal effect of X. However, controlling for Z will indeed reduce precision in the estimation of this parameter."
   ]
  },
  {
   "cell_type": "code",
   "execution_count": 30,
   "metadata": {
    "scrolled": true
   },
   "outputs": [
    {
     "data": {
      "image/svg+xml": [
       "<?xml version=\"1.0\" encoding=\"UTF-8\" standalone=\"no\"?>\r\n",
       "<!DOCTYPE svg PUBLIC \"-//W3C//DTD SVG 1.1//EN\"\r\n",
       " \"http://www.w3.org/Graphics/SVG/1.1/DTD/svg11.dtd\">\r\n",
       "<!-- Generated by graphviz version 2.38.0 (20140413.2041)\r\n",
       " -->\r\n",
       "<!-- Title: %3 Pages: 1 -->\r\n",
       "<svg width=\"62pt\" height=\"188pt\"\r\n",
       " viewBox=\"0.00 0.00 62.00 188.00\" xmlns=\"http://www.w3.org/2000/svg\" xmlns:xlink=\"http://www.w3.org/1999/xlink\">\r\n",
       "<g id=\"graph0\" class=\"graph\" transform=\"scale(1 1) rotate(0) translate(4 184)\">\r\n",
       "<title>%3</title>\r\n",
       "<polygon fill=\"white\" stroke=\"none\" points=\"-4,4 -4,-184 58,-184 58,4 -4,4\"/>\r\n",
       "<!-- Z -->\r\n",
       "<g id=\"node1\" class=\"node\"><title>Z</title>\r\n",
       "<ellipse fill=\"none\" stroke=\"black\" cx=\"27\" cy=\"-162\" rx=\"27\" ry=\"18\"/>\r\n",
       "<text text-anchor=\"middle\" x=\"27\" y=\"-158.3\" font-family=\"Times New Roman,serif\" font-size=\"14.00\">Z</text>\r\n",
       "</g>\r\n",
       "<!-- X -->\r\n",
       "<g id=\"node2\" class=\"node\"><title>X</title>\r\n",
       "<ellipse fill=\"none\" stroke=\"black\" cx=\"27\" cy=\"-90\" rx=\"27\" ry=\"18\"/>\r\n",
       "<text text-anchor=\"middle\" x=\"27\" y=\"-86.3\" font-family=\"Times New Roman,serif\" font-size=\"14.00\">X</text>\r\n",
       "</g>\r\n",
       "<!-- Z&#45;&gt;X -->\r\n",
       "<g id=\"edge1\" class=\"edge\"><title>Z&#45;&gt;X</title>\r\n",
       "<path fill=\"none\" stroke=\"black\" d=\"M27,-143.697C27,-135.983 27,-126.712 27,-118.112\"/>\r\n",
       "<polygon fill=\"black\" stroke=\"black\" points=\"30.5001,-118.104 27,-108.104 23.5001,-118.104 30.5001,-118.104\"/>\r\n",
       "</g>\r\n",
       "<!-- Y -->\r\n",
       "<g id=\"node3\" class=\"node\"><title>Y</title>\r\n",
       "<ellipse fill=\"none\" stroke=\"black\" cx=\"27\" cy=\"-18\" rx=\"27\" ry=\"18\"/>\r\n",
       "<text text-anchor=\"middle\" x=\"27\" y=\"-14.3\" font-family=\"Times New Roman,serif\" font-size=\"14.00\">Y</text>\r\n",
       "</g>\r\n",
       "<!-- X&#45;&gt;Y -->\r\n",
       "<g id=\"edge2\" class=\"edge\"><title>X&#45;&gt;Y</title>\r\n",
       "<path fill=\"none\" stroke=\"black\" d=\"M27,-71.6966C27,-63.9827 27,-54.7125 27,-46.1124\"/>\r\n",
       "<polygon fill=\"black\" stroke=\"black\" points=\"30.5001,-46.1043 27,-36.1043 23.5001,-46.1044 30.5001,-46.1043\"/>\r\n",
       "</g>\r\n",
       "</g>\r\n",
       "</svg>\r\n"
      ],
      "text/plain": [
       "<graphviz.dot.Digraph at 0x2192302a430>"
      ]
     },
     "execution_count": 30,
     "metadata": {},
     "output_type": "execute_result"
    }
   ],
   "source": [
    "sprinkler = CausalGraphicalModel(nodes=[\"Z\",\"Y\",\"X\"],\n",
    "                                 edges=[(\"Z\",\"X\"),(\"X\",\"Y\")])\n",
    "sprinkler.draw()"
   ]
  },
  {
   "cell_type": "code",
   "execution_count": 31,
   "metadata": {},
   "outputs": [],
   "source": [
    "# Set Seed\n",
    "# to make the results replicable (generating random numbers)\n",
    "np.random.seed(12345676)     # set MC seed\n",
    "\n",
    "n = 1000                # sample size\n",
    "\n",
    "Z = np.random.normal(0, 1, 1000).reshape((1000, 1))\n",
    "X = 2*Z + np.random.normal(0, 1, 1000).reshape((1000, 1))\n",
    "Y = X + np.random.normal(0, 1, 1000).reshape((1000, 1))\n",
    "\n",
    "# Create dataframe\n",
    "D = np.hstack((Z, X, Y))\n",
    "data = pd.DataFrame(D, columns = [\"Z\", \"X\", \"Y\"])"
   ]
  },
  {
   "cell_type": "code",
   "execution_count": 32,
   "metadata": {},
   "outputs": [
    {
     "name": "stdout",
     "output_type": "stream",
     "text": [
      "\n",
      "==================================\n",
      "                  Y I       Y II  \n",
      "----------------------------------\n",
      "Intercept      -0.0002   0.0001   \n",
      "               (0.0327)  (0.0327) \n",
      "R-squared      0.8312    0.8312   \n",
      "R-squared Adj. 0.8311    0.8309   \n",
      "X              1.0103*** 1.0192***\n",
      "               (0.0144)  (0.0327) \n",
      "Z                        -0.0226  \n",
      "                         (0.0745) \n",
      "==================================\n",
      "Standard errors in parentheses.\n",
      "* p<.1, ** p<.05, ***p<.01\n"
     ]
    }
   ],
   "source": [
    "# Regressions\n",
    "no_control = \"Y ~ X\"          \n",
    "using_control = \"Y ~ X + Z\"      #classical\n",
    "\n",
    "no_control = smf.ols(no_control , data=data).fit()\n",
    "using_control = smf.ols(using_control , data=data).fit()\n",
    "\n",
    "# Summary results\n",
    "dfoutput = summary_col([no_control,using_control],stars=True)\n",
    "print(dfoutput)"
   ]
  },
  {
   "cell_type": "markdown",
   "metadata": {},
   "source": [
    "As we can see, Model I, which only includes X as the regressor, has a lower standard deviation on the coefficient for X."
   ]
  },
  {
   "cell_type": "markdown",
   "metadata": {},
   "source": [
    "## <font color='blue'>Model 10 - Bad Control (bias amplification)</font>"
   ]
  },
  {
   "cell_type": "markdown",
   "metadata": {},
   "source": [
    "In this model, although Z is a pre-treatment variable, controlling for it would confound the effect of X on Y, due to the phenomenon called \"bias amplification\"."
   ]
  },
  {
   "cell_type": "code",
   "execution_count": 33,
   "metadata": {
    "scrolled": true
   },
   "outputs": [
    {
     "data": {
      "image/svg+xml": [
       "<?xml version=\"1.0\" encoding=\"UTF-8\" standalone=\"no\"?>\r\n",
       "<!DOCTYPE svg PUBLIC \"-//W3C//DTD SVG 1.1//EN\"\r\n",
       " \"http://www.w3.org/Graphics/SVG/1.1/DTD/svg11.dtd\">\r\n",
       "<!-- Generated by graphviz version 2.38.0 (20140413.2041)\r\n",
       " -->\r\n",
       "<!-- Title: %3 Pages: 1 -->\r\n",
       "<svg width=\"89pt\" height=\"188pt\"\r\n",
       " viewBox=\"0.00 0.00 89.00 188.00\" xmlns=\"http://www.w3.org/2000/svg\" xmlns:xlink=\"http://www.w3.org/1999/xlink\">\r\n",
       "<g id=\"graph0\" class=\"graph\" transform=\"scale(1 1) rotate(0) translate(4 184)\">\r\n",
       "<title>%3</title>\r\n",
       "<polygon fill=\"white\" stroke=\"none\" points=\"-4,4 -4,-184 85,-184 85,4 -4,4\"/>\r\n",
       "<!-- Z -->\r\n",
       "<g id=\"node1\" class=\"node\"><title>Z</title>\r\n",
       "<ellipse fill=\"none\" stroke=\"black\" cx=\"27\" cy=\"-162\" rx=\"27\" ry=\"18\"/>\r\n",
       "<text text-anchor=\"middle\" x=\"27\" y=\"-158.3\" font-family=\"Times New Roman,serif\" font-size=\"14.00\">Z</text>\r\n",
       "</g>\r\n",
       "<!-- X -->\r\n",
       "<g id=\"node2\" class=\"node\"><title>X</title>\r\n",
       "<ellipse fill=\"none\" stroke=\"black\" cx=\"27\" cy=\"-90\" rx=\"27\" ry=\"18\"/>\r\n",
       "<text text-anchor=\"middle\" x=\"27\" y=\"-86.3\" font-family=\"Times New Roman,serif\" font-size=\"14.00\">X</text>\r\n",
       "</g>\r\n",
       "<!-- Z&#45;&gt;X -->\r\n",
       "<g id=\"edge1\" class=\"edge\"><title>Z&#45;&gt;X</title>\r\n",
       "<path fill=\"none\" stroke=\"black\" d=\"M27,-143.697C27,-135.983 27,-126.712 27,-118.112\"/>\r\n",
       "<polygon fill=\"black\" stroke=\"black\" points=\"30.5001,-118.104 27,-108.104 23.5001,-118.104 30.5001,-118.104\"/>\r\n",
       "</g>\r\n",
       "<!-- Y -->\r\n",
       "<g id=\"node3\" class=\"node\"><title>Y</title>\r\n",
       "<ellipse fill=\"none\" stroke=\"black\" cx=\"54\" cy=\"-18\" rx=\"27\" ry=\"18\"/>\r\n",
       "<text text-anchor=\"middle\" x=\"54\" y=\"-14.3\" font-family=\"Times New Roman,serif\" font-size=\"14.00\">Y</text>\r\n",
       "</g>\r\n",
       "<!-- X&#45;&gt;Y -->\r\n",
       "<g id=\"edge2\" class=\"edge\"><title>X&#45;&gt;Y</title>\r\n",
       "<path fill=\"none\" stroke=\"black\" d=\"M33.3986,-72.411C36.5136,-64.3352 40.3337,-54.4312 43.8346,-45.3547\"/>\r\n",
       "<polygon fill=\"black\" stroke=\"black\" points=\"47.1265,-46.5458 47.4597,-35.9562 40.5955,-44.0267 47.1265,-46.5458\"/>\r\n",
       "</g>\r\n",
       "<!-- Unobserved_0 -->\r\n",
       "<g id=\"node4\" class=\"node\"><title>Unobserved_0</title>\r\n",
       "<ellipse fill=\"black\" stroke=\"black\" cx=\"78\" cy=\"-162\" rx=\"1.8\" ry=\"1.8\"/>\r\n",
       "</g>\r\n",
       "<!-- Unobserved_0&#45;&gt;X -->\r\n",
       "<g id=\"edge3\" class=\"edge\"><title>Unobserved_0&#45;&gt;X</title>\r\n",
       "<path fill=\"none\" stroke=\"black\" stroke-dasharray=\"5,2\" d=\"M77.4272,-160.214C74.1733,-155.748 57.6912,-133.125 44.4429,-114.941\"/>\r\n",
       "<polygon fill=\"black\" stroke=\"black\" points=\"46.9886,-112.492 38.2711,-106.47 41.3309,-116.614 46.9886,-112.492\"/>\r\n",
       "</g>\r\n",
       "<!-- Unobserved_0&#45;&gt;Y -->\r\n",
       "<g id=\"edge4\" class=\"edge\"><title>Unobserved_0&#45;&gt;Y</title>\r\n",
       "<path fill=\"none\" stroke=\"black\" stroke-dasharray=\"5,2\" d=\"M77.8526,-160.123C76.7116,-153.334 69.1684,-108.461 63,-72 61.577,-63.5885 60.0228,-54.4268 58.6124,-46.1231\"/>\r\n",
       "<polygon fill=\"black\" stroke=\"black\" points=\"62.0495,-45.4572 56.9237,-36.1849 55.1485,-46.6299 62.0495,-45.4572\"/>\r\n",
       "</g>\r\n",
       "</g>\r\n",
       "</svg>\r\n"
      ],
      "text/plain": [
       "<graphviz.dot.Digraph at 0x2192e567370>"
      ]
     },
     "execution_count": 33,
     "metadata": {},
     "output_type": "execute_result"
    }
   ],
   "source": [
    "sprinkler = CausalGraphicalModel(nodes=[\"Z\",\"Y\",\"X\"],\n",
    "                                 edges=[(\"Z\",\"X\"),(\"X\",\"Y\")],\n",
    "                                 latent_edges=[(\"X\",\"Y\")])\n",
    "sprinkler.draw()"
   ]
  },
  {
   "cell_type": "code",
   "execution_count": 34,
   "metadata": {},
   "outputs": [],
   "source": [
    "# Set Seed\n",
    "# to make the results replicable (generating random numbers)\n",
    "np.random.seed(12345676)     # set MC seed\n",
    "\n",
    "n = 1000                # sample size\n",
    "U = np.random.normal(0, 1, 1000).reshape((1000, 1))\n",
    "Z = np.random.normal(0, 1, 1000).reshape((1000, 1)) # generate Z\n",
    "X = 0.5*Z + 2*U + np.random.normal(0, 1, 1000).reshape((1000, 1))\n",
    "Y = X + 3*U + np.random.normal(0, 1, 1000).reshape((1000, 1))\n",
    "\n",
    "# Create dataframe\n",
    "D = np.hstack((U, Z, X, Y))\n",
    "data = pd.DataFrame(D, columns = [\"U\", \"Z\", \"X\", \"Y\"])"
   ]
  },
  {
   "cell_type": "code",
   "execution_count": 35,
   "metadata": {},
   "outputs": [
    {
     "name": "stdout",
     "output_type": "stream",
     "text": [
      "\n",
      "===================================\n",
      "                  Y I       Y II   \n",
      "-----------------------------------\n",
      "Intercept      0.0028    -0.0095   \n",
      "               (0.0569)  (0.0538)  \n",
      "R-squared      0.8835    0.8960    \n",
      "R-squared Adj. 0.8833    0.8958    \n",
      "X              2.1183*** 2.1866*** \n",
      "               (0.0244)  (0.0238)  \n",
      "Z                        -0.6111***\n",
      "                         (0.0556)  \n",
      "===================================\n",
      "Standard errors in parentheses.\n",
      "* p<.1, ** p<.05, ***p<.01\n"
     ]
    }
   ],
   "source": [
    "# Regressions\n",
    "no_control = \"Y ~ X\"          \n",
    "using_control = \"Y ~ X + Z\"      #classical\n",
    "\n",
    "no_control = smf.ols(no_control , data=data).fit()\n",
    "using_control = smf.ols(using_control , data=data).fit()\n",
    "\n",
    "# Summary results\n",
    "dfoutput = summary_col([no_control,using_control],stars=True)\n",
    "print(dfoutput)"
   ]
  },
  {
   "cell_type": "markdown",
   "metadata": {},
   "source": [
    "We can notice that Model II amplifies the existing bias, produced because we are lefting open the backdoor path $X \\leftarrow U \\rightarrow Y$."
   ]
  },
  {
   "cell_type": "markdown",
   "metadata": {},
   "source": [
    "## <font color='blue'>Models 11 and 12 - Bad Controls (overcontrol bias)</font>"
   ]
  },
  {
   "cell_type": "markdown",
   "metadata": {},
   "source": [
    "### Model 11"
   ]
  },
  {
   "cell_type": "markdown",
   "metadata": {},
   "source": [
    "This model looks similar to model 9, the difference being on that here Z is **affected by** X, and not viceversa. Hence, to estimate the effect of X on Y, it won't be neccesary to include Z. In fact, conditioning on Z will block the effect we want to estimate."
   ]
  },
  {
   "cell_type": "code",
   "execution_count": 36,
   "metadata": {
    "scrolled": false
   },
   "outputs": [
    {
     "data": {
      "image/svg+xml": [
       "<?xml version=\"1.0\" encoding=\"UTF-8\" standalone=\"no\"?>\r\n",
       "<!DOCTYPE svg PUBLIC \"-//W3C//DTD SVG 1.1//EN\"\r\n",
       " \"http://www.w3.org/Graphics/SVG/1.1/DTD/svg11.dtd\">\r\n",
       "<!-- Generated by graphviz version 2.38.0 (20140413.2041)\r\n",
       " -->\r\n",
       "<!-- Title: %3 Pages: 1 -->\r\n",
       "<svg width=\"62pt\" height=\"188pt\"\r\n",
       " viewBox=\"0.00 0.00 62.00 188.00\" xmlns=\"http://www.w3.org/2000/svg\" xmlns:xlink=\"http://www.w3.org/1999/xlink\">\r\n",
       "<g id=\"graph0\" class=\"graph\" transform=\"scale(1 1) rotate(0) translate(4 184)\">\r\n",
       "<title>%3</title>\r\n",
       "<polygon fill=\"white\" stroke=\"none\" points=\"-4,4 -4,-184 58,-184 58,4 -4,4\"/>\r\n",
       "<!-- Z -->\r\n",
       "<g id=\"node1\" class=\"node\"><title>Z</title>\r\n",
       "<ellipse fill=\"none\" stroke=\"black\" cx=\"27\" cy=\"-90\" rx=\"27\" ry=\"18\"/>\r\n",
       "<text text-anchor=\"middle\" x=\"27\" y=\"-86.3\" font-family=\"Times New Roman,serif\" font-size=\"14.00\">Z</text>\r\n",
       "</g>\r\n",
       "<!-- Y -->\r\n",
       "<g id=\"node3\" class=\"node\"><title>Y</title>\r\n",
       "<ellipse fill=\"none\" stroke=\"black\" cx=\"27\" cy=\"-18\" rx=\"27\" ry=\"18\"/>\r\n",
       "<text text-anchor=\"middle\" x=\"27\" y=\"-14.3\" font-family=\"Times New Roman,serif\" font-size=\"14.00\">Y</text>\r\n",
       "</g>\r\n",
       "<!-- Z&#45;&gt;Y -->\r\n",
       "<g id=\"edge1\" class=\"edge\"><title>Z&#45;&gt;Y</title>\r\n",
       "<path fill=\"none\" stroke=\"black\" d=\"M27,-71.6966C27,-63.9827 27,-54.7125 27,-46.1124\"/>\r\n",
       "<polygon fill=\"black\" stroke=\"black\" points=\"30.5001,-46.1043 27,-36.1043 23.5001,-46.1044 30.5001,-46.1043\"/>\r\n",
       "</g>\r\n",
       "<!-- X -->\r\n",
       "<g id=\"node2\" class=\"node\"><title>X</title>\r\n",
       "<ellipse fill=\"none\" stroke=\"black\" cx=\"27\" cy=\"-162\" rx=\"27\" ry=\"18\"/>\r\n",
       "<text text-anchor=\"middle\" x=\"27\" y=\"-158.3\" font-family=\"Times New Roman,serif\" font-size=\"14.00\">X</text>\r\n",
       "</g>\r\n",
       "<!-- X&#45;&gt;Z -->\r\n",
       "<g id=\"edge2\" class=\"edge\"><title>X&#45;&gt;Z</title>\r\n",
       "<path fill=\"none\" stroke=\"black\" d=\"M27,-143.697C27,-135.983 27,-126.712 27,-118.112\"/>\r\n",
       "<polygon fill=\"black\" stroke=\"black\" points=\"30.5001,-118.104 27,-108.104 23.5001,-118.104 30.5001,-118.104\"/>\r\n",
       "</g>\r\n",
       "</g>\r\n",
       "</svg>\r\n"
      ],
      "text/plain": [
       "<graphviz.dot.Digraph at 0x2192dc09fa0>"
      ]
     },
     "execution_count": 36,
     "metadata": {},
     "output_type": "execute_result"
    }
   ],
   "source": [
    "sprinkler = CausalGraphicalModel(nodes=[\"Z\",\"Y\",\"X\"],\n",
    "                                 edges=[(\"X\",\"Z\"),(\"Z\",\"Y\")])\n",
    "sprinkler.draw()"
   ]
  },
  {
   "cell_type": "code",
   "execution_count": 37,
   "metadata": {},
   "outputs": [],
   "source": [
    "# Set Seed\n",
    "# to make the results replicable (generating random numbers)\n",
    "np.random.seed(1234567)     # set MC seed\n",
    "\n",
    "n = 1000                # sample size\n",
    "X = np.random.normal(0, 1, 1000).reshape((1000, 1)) # generate Z\n",
    "Z = 0.5*X + np.random.normal(0, 1, 1000).reshape((1000, 1))\n",
    "Y = 2*Z + np.random.normal(0, 1, 1000).reshape((1000, 1))\n",
    "\n",
    "# Create dataframe\n",
    "D = np.hstack((Z, X, Y))\n",
    "data = pd.DataFrame(D, columns = [\"Z\", \"X\", \"Y\"])"
   ]
  },
  {
   "cell_type": "code",
   "execution_count": 38,
   "metadata": {},
   "outputs": [
    {
     "name": "stdout",
     "output_type": "stream",
     "text": [
      "\n",
      "==================================\n",
      "                  Y I       Y II  \n",
      "----------------------------------\n",
      "Intercept      -0.0368   -0.0039  \n",
      "               (0.0714)  (0.0323) \n",
      "R-squared      0.1403    0.8239   \n",
      "R-squared Adj. 0.1395    0.8236   \n",
      "X              0.9325*** -0.0159  \n",
      "               (0.0731)  (0.0364) \n",
      "Z                        2.0088***\n",
      "                         (0.0323) \n",
      "==================================\n",
      "Standard errors in parentheses.\n",
      "* p<.1, ** p<.05, ***p<.01\n"
     ]
    }
   ],
   "source": [
    "# Regressions\n",
    "no_control = \"Y ~ X\"          \n",
    "using_control = \"Y ~ X + Z\"      #classical\n",
    "\n",
    "no_control = smf.ols(no_control , data=data).fit()\n",
    "using_control = smf.ols(using_control , data=data).fit()\n",
    "\n",
    "# Summary results\n",
    "dfoutput = summary_col([no_control,using_control],stars=True)\n",
    "print(dfoutput)"
   ]
  },
  {
   "cell_type": "markdown",
   "metadata": {},
   "source": [
    "Including the mediator Z on the regression would not only be unnecessary, but will also bias the causal effect of X on Y."
   ]
  },
  {
   "cell_type": "markdown",
   "metadata": {},
   "source": [
    "### Model 12"
   ]
  },
  {
   "cell_type": "markdown",
   "metadata": {},
   "source": [
    "Similar to model 11, although Z is not a mediator between X and Y, controlling for it is equivalent to partially controlling for M, hence incurring in the \"overcontrol bias\"."
   ]
  },
  {
   "cell_type": "code",
   "execution_count": 39,
   "metadata": {
    "scrolled": true
   },
   "outputs": [
    {
     "data": {
      "image/svg+xml": [
       "<?xml version=\"1.0\" encoding=\"UTF-8\" standalone=\"no\"?>\r\n",
       "<!DOCTYPE svg PUBLIC \"-//W3C//DTD SVG 1.1//EN\"\r\n",
       " \"http://www.w3.org/Graphics/SVG/1.1/DTD/svg11.dtd\">\r\n",
       "<!-- Generated by graphviz version 2.38.0 (20140413.2041)\r\n",
       " -->\r\n",
       "<!-- Title: %3 Pages: 1 -->\r\n",
       "<svg width=\"134pt\" height=\"188pt\"\r\n",
       " viewBox=\"0.00 0.00 134.00 188.00\" xmlns=\"http://www.w3.org/2000/svg\" xmlns:xlink=\"http://www.w3.org/1999/xlink\">\r\n",
       "<g id=\"graph0\" class=\"graph\" transform=\"scale(1 1) rotate(0) translate(4 184)\">\r\n",
       "<title>%3</title>\r\n",
       "<polygon fill=\"white\" stroke=\"none\" points=\"-4,4 -4,-184 130,-184 130,4 -4,4\"/>\r\n",
       "<!-- Z -->\r\n",
       "<g id=\"node1\" class=\"node\"><title>Z</title>\r\n",
       "<ellipse fill=\"none\" stroke=\"black\" cx=\"27\" cy=\"-18\" rx=\"27\" ry=\"18\"/>\r\n",
       "<text text-anchor=\"middle\" x=\"27\" y=\"-14.3\" font-family=\"Times New Roman,serif\" font-size=\"14.00\">Z</text>\r\n",
       "</g>\r\n",
       "<!-- X -->\r\n",
       "<g id=\"node2\" class=\"node\"><title>X</title>\r\n",
       "<ellipse fill=\"none\" stroke=\"black\" cx=\"63\" cy=\"-162\" rx=\"27\" ry=\"18\"/>\r\n",
       "<text text-anchor=\"middle\" x=\"63\" y=\"-158.3\" font-family=\"Times New Roman,serif\" font-size=\"14.00\">X</text>\r\n",
       "</g>\r\n",
       "<!-- M -->\r\n",
       "<g id=\"node3\" class=\"node\"><title>M</title>\r\n",
       "<ellipse fill=\"none\" stroke=\"black\" cx=\"63\" cy=\"-90\" rx=\"27\" ry=\"18\"/>\r\n",
       "<text text-anchor=\"middle\" x=\"63\" y=\"-86.3\" font-family=\"Times New Roman,serif\" font-size=\"14.00\">M</text>\r\n",
       "</g>\r\n",
       "<!-- X&#45;&gt;M -->\r\n",
       "<g id=\"edge3\" class=\"edge\"><title>X&#45;&gt;M</title>\r\n",
       "<path fill=\"none\" stroke=\"black\" d=\"M63,-143.697C63,-135.983 63,-126.712 63,-118.112\"/>\r\n",
       "<polygon fill=\"black\" stroke=\"black\" points=\"66.5001,-118.104 63,-108.104 59.5001,-118.104 66.5001,-118.104\"/>\r\n",
       "</g>\r\n",
       "<!-- M&#45;&gt;Z -->\r\n",
       "<g id=\"edge1\" class=\"edge\"><title>M&#45;&gt;Z</title>\r\n",
       "<path fill=\"none\" stroke=\"black\" d=\"M54.6504,-72.7646C50.2885,-64.2831 44.8531,-53.7144 39.9587,-44.1974\"/>\r\n",
       "<polygon fill=\"black\" stroke=\"black\" points=\"42.9904,-42.4395 35.3043,-35.1473 36.7654,-45.6409 42.9904,-42.4395\"/>\r\n",
       "</g>\r\n",
       "<!-- Y -->\r\n",
       "<g id=\"node4\" class=\"node\"><title>Y</title>\r\n",
       "<ellipse fill=\"none\" stroke=\"black\" cx=\"99\" cy=\"-18\" rx=\"27\" ry=\"18\"/>\r\n",
       "<text text-anchor=\"middle\" x=\"99\" y=\"-14.3\" font-family=\"Times New Roman,serif\" font-size=\"14.00\">Y</text>\r\n",
       "</g>\r\n",
       "<!-- M&#45;&gt;Y -->\r\n",
       "<g id=\"edge2\" class=\"edge\"><title>M&#45;&gt;Y</title>\r\n",
       "<path fill=\"none\" stroke=\"black\" d=\"M71.3496,-72.7646C75.7115,-64.2831 81.1469,-53.7144 86.0413,-44.1974\"/>\r\n",
       "<polygon fill=\"black\" stroke=\"black\" points=\"89.2346,-45.6409 90.6957,-35.1473 83.0096,-42.4395 89.2346,-45.6409\"/>\r\n",
       "</g>\r\n",
       "</g>\r\n",
       "</svg>\r\n"
      ],
      "text/plain": [
       "<graphviz.dot.Digraph at 0x2192e57d550>"
      ]
     },
     "execution_count": 39,
     "metadata": {},
     "output_type": "execute_result"
    }
   ],
   "source": [
    "sprinkler = CausalGraphicalModel(nodes=[\"M\",\"Z\",\"Y\",\"X\"],\n",
    "                                 edges=[(\"X\",\"M\"),(\"M\",\"Z\"),(\"M\",\"Y\")])\n",
    "sprinkler.draw()"
   ]
  },
  {
   "cell_type": "code",
   "execution_count": 40,
   "metadata": {},
   "outputs": [],
   "source": [
    "# Set Seed\n",
    "# to make the results replicable (generating random numbers)\n",
    "np.random.seed(1234567)     # set MC seed\n",
    "\n",
    "n = 1000                # sample size\n",
    "X = np.random.normal(0, 1, 1000).reshape((1000, 1)) # generate X\n",
    "M = 4*X + np.random.normal(0, 1, 1000).reshape((1000, 1))\n",
    "Z = 0.5*M + np.random.normal(0, 1, 1000).reshape((1000, 1))\n",
    "Y = 0.25*M + np.random.normal(0, 1, 1000).reshape((1000, 1))\n",
    "\n",
    "# Create dataframe\n",
    "D = np.hstack((M,Z, X, Y))\n",
    "data = pd.DataFrame(D, columns = [\"M\",\"Z\", \"X\", \"Y\"])"
   ]
  },
  {
   "cell_type": "code",
   "execution_count": 41,
   "metadata": {},
   "outputs": [
    {
     "name": "stdout",
     "output_type": "stream",
     "text": [
      "\n",
      "==================================\n",
      "                  Y I       Y II  \n",
      "----------------------------------\n",
      "Intercept      0.0025    0.0029   \n",
      "               (0.0322)  (0.0322) \n",
      "R-squared      0.4828    0.4834   \n",
      "R-squared Adj. 0.4823    0.4823   \n",
      "X              1.0044*** 0.9455***\n",
      "               (0.0329)  (0.0646) \n",
      "Z                        0.0298   \n",
      "                         (0.0282) \n",
      "==================================\n",
      "Standard errors in parentheses.\n",
      "* p<.1, ** p<.05, ***p<.01\n"
     ]
    }
   ],
   "source": [
    "# Regressions\n",
    "no_control = \"Y ~ X\"          \n",
    "using_control = \"Y ~ X + Z\"      #classical\n",
    "\n",
    "no_control = smf.ols(no_control , data=data).fit()\n",
    "using_control = smf.ols(using_control , data=data).fit()\n",
    "\n",
    "# Summary results\n",
    "dfoutput = summary_col([no_control,using_control],stars=True)\n",
    "print(dfoutput)"
   ]
  },
  {
   "cell_type": "markdown",
   "metadata": {},
   "source": [
    "Including Z will bias our estimation of the effect of X on Y due to the overcontrol bias."
   ]
  },
  {
   "cell_type": "markdown",
   "metadata": {},
   "source": [
    "## <font color='blue'>Model 13 - Neutral Control (probably good for precision)</font>"
   ]
  },
  {
   "cell_type": "markdown",
   "metadata": {},
   "source": [
    "Consider a somewhat similar model as before, the difference being now that z **affects** M, and not viceversa. As Z is not a confounder nor a collider, its inclusion can only affect variance. In fact, as in model 8, the inclusion of Z will help to improve the precision of the ACE estimator."
   ]
  },
  {
   "cell_type": "code",
   "execution_count": 42,
   "metadata": {
    "scrolled": false
   },
   "outputs": [
    {
     "data": {
      "image/svg+xml": [
       "<?xml version=\"1.0\" encoding=\"UTF-8\" standalone=\"no\"?>\r\n",
       "<!DOCTYPE svg PUBLIC \"-//W3C//DTD SVG 1.1//EN\"\r\n",
       " \"http://www.w3.org/Graphics/SVG/1.1/DTD/svg11.dtd\">\r\n",
       "<!-- Generated by graphviz version 2.38.0 (20140413.2041)\r\n",
       " -->\r\n",
       "<!-- Title: %3 Pages: 1 -->\r\n",
       "<svg width=\"134pt\" height=\"188pt\"\r\n",
       " viewBox=\"0.00 0.00 134.00 188.00\" xmlns=\"http://www.w3.org/2000/svg\" xmlns:xlink=\"http://www.w3.org/1999/xlink\">\r\n",
       "<g id=\"graph0\" class=\"graph\" transform=\"scale(1 1) rotate(0) translate(4 184)\">\r\n",
       "<title>%3</title>\r\n",
       "<polygon fill=\"white\" stroke=\"none\" points=\"-4,4 -4,-184 130,-184 130,4 -4,4\"/>\r\n",
       "<!-- Z -->\r\n",
       "<g id=\"node1\" class=\"node\"><title>Z</title>\r\n",
       "<ellipse fill=\"none\" stroke=\"black\" cx=\"27\" cy=\"-162\" rx=\"27\" ry=\"18\"/>\r\n",
       "<text text-anchor=\"middle\" x=\"27\" y=\"-158.3\" font-family=\"Times New Roman,serif\" font-size=\"14.00\">Z</text>\r\n",
       "</g>\r\n",
       "<!-- M -->\r\n",
       "<g id=\"node3\" class=\"node\"><title>M</title>\r\n",
       "<ellipse fill=\"none\" stroke=\"black\" cx=\"63\" cy=\"-90\" rx=\"27\" ry=\"18\"/>\r\n",
       "<text text-anchor=\"middle\" x=\"63\" y=\"-86.3\" font-family=\"Times New Roman,serif\" font-size=\"14.00\">M</text>\r\n",
       "</g>\r\n",
       "<!-- Z&#45;&gt;M -->\r\n",
       "<g id=\"edge2\" class=\"edge\"><title>Z&#45;&gt;M</title>\r\n",
       "<path fill=\"none\" stroke=\"black\" d=\"M35.3496,-144.765C39.7115,-136.283 45.1469,-125.714 50.0413,-116.197\"/>\r\n",
       "<polygon fill=\"black\" stroke=\"black\" points=\"53.2346,-117.641 54.6957,-107.147 47.0096,-114.439 53.2346,-117.641\"/>\r\n",
       "</g>\r\n",
       "<!-- X -->\r\n",
       "<g id=\"node2\" class=\"node\"><title>X</title>\r\n",
       "<ellipse fill=\"none\" stroke=\"black\" cx=\"99\" cy=\"-162\" rx=\"27\" ry=\"18\"/>\r\n",
       "<text text-anchor=\"middle\" x=\"99\" y=\"-158.3\" font-family=\"Times New Roman,serif\" font-size=\"14.00\">X</text>\r\n",
       "</g>\r\n",
       "<!-- X&#45;&gt;M -->\r\n",
       "<g id=\"edge3\" class=\"edge\"><title>X&#45;&gt;M</title>\r\n",
       "<path fill=\"none\" stroke=\"black\" d=\"M90.6504,-144.765C86.2885,-136.283 80.8531,-125.714 75.9587,-116.197\"/>\r\n",
       "<polygon fill=\"black\" stroke=\"black\" points=\"78.9904,-114.439 71.3043,-107.147 72.7654,-117.641 78.9904,-114.439\"/>\r\n",
       "</g>\r\n",
       "<!-- Y -->\r\n",
       "<g id=\"node4\" class=\"node\"><title>Y</title>\r\n",
       "<ellipse fill=\"none\" stroke=\"black\" cx=\"63\" cy=\"-18\" rx=\"27\" ry=\"18\"/>\r\n",
       "<text text-anchor=\"middle\" x=\"63\" y=\"-14.3\" font-family=\"Times New Roman,serif\" font-size=\"14.00\">Y</text>\r\n",
       "</g>\r\n",
       "<!-- M&#45;&gt;Y -->\r\n",
       "<g id=\"edge1\" class=\"edge\"><title>M&#45;&gt;Y</title>\r\n",
       "<path fill=\"none\" stroke=\"black\" d=\"M63,-71.6966C63,-63.9827 63,-54.7125 63,-46.1124\"/>\r\n",
       "<polygon fill=\"black\" stroke=\"black\" points=\"66.5001,-46.1043 63,-36.1043 59.5001,-46.1044 66.5001,-46.1043\"/>\r\n",
       "</g>\r\n",
       "</g>\r\n",
       "</svg>\r\n"
      ],
      "text/plain": [
       "<graphviz.dot.Digraph at 0x2192dc09a00>"
      ]
     },
     "execution_count": 42,
     "metadata": {},
     "output_type": "execute_result"
    }
   ],
   "source": [
    "sprinkler = CausalGraphicalModel(nodes=[\"M\",\"Z\",\"Y\",\"X\"],\n",
    "                                 edges=[(\"X\",\"M\"),(\"Z\",\"M\"),(\"M\",\"Y\")])\n",
    "sprinkler.draw()"
   ]
  },
  {
   "cell_type": "code",
   "execution_count": 43,
   "metadata": {},
   "outputs": [],
   "source": [
    "# Set Seed\n",
    "# to make the results replicable (generating random numbers)\n",
    "np.random.seed(1234567)     # set MC seed\n",
    "\n",
    "n = 1000                # sample size\n",
    "X = np.random.normal(0, 1, 1000).reshape((1000, 1)) # generate X\n",
    "Z = np.random.normal(0, 1, 1000).reshape((1000, 1))\n",
    "M = 2*X + 3*Z + np.random.normal(0, 1, 1000).reshape((1000, 1))\n",
    "Y = 0.5*M + np.random.normal(0, 1, 1000).reshape((1000, 1))\n",
    "\n",
    "# Create dataframe\n",
    "D = np.hstack((M,Z, X, Y))\n",
    "data = pd.DataFrame(D, columns = [\"M\",\"Z\", \"X\", \"Y\"])"
   ]
  },
  {
   "cell_type": "code",
   "execution_count": 44,
   "metadata": {
    "scrolled": true
   },
   "outputs": [
    {
     "name": "stdout",
     "output_type": "stream",
     "text": [
      "\n",
      "==================================\n",
      "                  Y I       Y II  \n",
      "----------------------------------\n",
      "Intercept      -0.0200   0.0038   \n",
      "               (0.0576)  (0.0346) \n",
      "R-squared      0.2115    0.7161   \n",
      "R-squared Adj. 0.2107    0.7155   \n",
      "X              0.9636*** 1.0041***\n",
      "               (0.0589)  (0.0354) \n",
      "Z                        1.4529***\n",
      "                         (0.0345) \n",
      "==================================\n",
      "Standard errors in parentheses.\n",
      "* p<.1, ** p<.05, ***p<.01\n"
     ]
    }
   ],
   "source": [
    "# Regressions\n",
    "no_control = \"Y ~ X\"          \n",
    "using_control = \"Y ~ X + Z\"      #classical\n",
    "\n",
    "no_control = smf.ols(no_control , data=data).fit()\n",
    "using_control = smf.ols(using_control , data=data).fit()\n",
    "\n",
    "# Summary results\n",
    "dfoutput = summary_col([no_control,using_control],stars=True)\n",
    "print(dfoutput)"
   ]
  },
  {
   "cell_type": "markdown",
   "metadata": {},
   "source": [
    "And this example proves it."
   ]
  },
  {
   "cell_type": "markdown",
   "metadata": {},
   "source": [
    "## <font color='blue'>Models 14 and 15 - Neutral Control (probably helpful in the case of selection bias)</font>"
   ]
  },
  {
   "cell_type": "markdown",
   "metadata": {},
   "source": [
    "### Model 14"
   ]
  },
  {
   "cell_type": "markdown",
   "metadata": {},
   "source": [
    "Now notice that controlling for Z won't open any backdoor path between X and Y, hence Z is neutral in terms of increasing bias. However, controlling for Z does reduce the variation of X, and will therefore reduce precision in the estimation of the causal effect of X on Y."
   ]
  },
  {
   "cell_type": "code",
   "execution_count": 45,
   "metadata": {
    "scrolled": true
   },
   "outputs": [
    {
     "data": {
      "image/svg+xml": [
       "<?xml version=\"1.0\" encoding=\"UTF-8\" standalone=\"no\"?>\r\n",
       "<!DOCTYPE svg PUBLIC \"-//W3C//DTD SVG 1.1//EN\"\r\n",
       " \"http://www.w3.org/Graphics/SVG/1.1/DTD/svg11.dtd\">\r\n",
       "<!-- Generated by graphviz version 2.38.0 (20140413.2041)\r\n",
       " -->\r\n",
       "<!-- Title: %3 Pages: 1 -->\r\n",
       "<svg width=\"134pt\" height=\"116pt\"\r\n",
       " viewBox=\"0.00 0.00 134.00 116.00\" xmlns=\"http://www.w3.org/2000/svg\" xmlns:xlink=\"http://www.w3.org/1999/xlink\">\r\n",
       "<g id=\"graph0\" class=\"graph\" transform=\"scale(1 1) rotate(0) translate(4 112)\">\r\n",
       "<title>%3</title>\r\n",
       "<polygon fill=\"white\" stroke=\"none\" points=\"-4,4 -4,-112 130,-112 130,4 -4,4\"/>\r\n",
       "<!-- Z -->\r\n",
       "<g id=\"node1\" class=\"node\"><title>Z</title>\r\n",
       "<ellipse fill=\"none\" stroke=\"black\" cx=\"27\" cy=\"-18\" rx=\"27\" ry=\"18\"/>\r\n",
       "<text text-anchor=\"middle\" x=\"27\" y=\"-14.3\" font-family=\"Times New Roman,serif\" font-size=\"14.00\">Z</text>\r\n",
       "</g>\r\n",
       "<!-- X -->\r\n",
       "<g id=\"node2\" class=\"node\"><title>X</title>\r\n",
       "<ellipse fill=\"none\" stroke=\"black\" cx=\"63\" cy=\"-90\" rx=\"27\" ry=\"18\"/>\r\n",
       "<text text-anchor=\"middle\" x=\"63\" y=\"-86.3\" font-family=\"Times New Roman,serif\" font-size=\"14.00\">X</text>\r\n",
       "</g>\r\n",
       "<!-- X&#45;&gt;Z -->\r\n",
       "<g id=\"edge1\" class=\"edge\"><title>X&#45;&gt;Z</title>\r\n",
       "<path fill=\"none\" stroke=\"black\" d=\"M54.6504,-72.7646C50.2885,-64.2831 44.8531,-53.7144 39.9587,-44.1974\"/>\r\n",
       "<polygon fill=\"black\" stroke=\"black\" points=\"42.9904,-42.4395 35.3043,-35.1473 36.7654,-45.6409 42.9904,-42.4395\"/>\r\n",
       "</g>\r\n",
       "<!-- Y -->\r\n",
       "<g id=\"node3\" class=\"node\"><title>Y</title>\r\n",
       "<ellipse fill=\"none\" stroke=\"black\" cx=\"99\" cy=\"-18\" rx=\"27\" ry=\"18\"/>\r\n",
       "<text text-anchor=\"middle\" x=\"99\" y=\"-14.3\" font-family=\"Times New Roman,serif\" font-size=\"14.00\">Y</text>\r\n",
       "</g>\r\n",
       "<!-- X&#45;&gt;Y -->\r\n",
       "<g id=\"edge2\" class=\"edge\"><title>X&#45;&gt;Y</title>\r\n",
       "<path fill=\"none\" stroke=\"black\" d=\"M71.3496,-72.7646C75.7115,-64.2831 81.1469,-53.7144 86.0413,-44.1974\"/>\r\n",
       "<polygon fill=\"black\" stroke=\"black\" points=\"89.2346,-45.6409 90.6957,-35.1473 83.0096,-42.4395 89.2346,-45.6409\"/>\r\n",
       "</g>\r\n",
       "</g>\r\n",
       "</svg>\r\n"
      ],
      "text/plain": [
       "<graphviz.dot.Digraph at 0x2192e58aa30>"
      ]
     },
     "execution_count": 45,
     "metadata": {},
     "output_type": "execute_result"
    }
   ],
   "source": [
    "sprinkler = CausalGraphicalModel(nodes=[\"Z\",\"Y\",\"X\"],\n",
    "                                 edges=[(\"X\",\"Z\"),(\"X\",\"Y\")])\n",
    "sprinkler.draw()"
   ]
  },
  {
   "cell_type": "code",
   "execution_count": 46,
   "metadata": {},
   "outputs": [],
   "source": [
    "# Set Seed\n",
    "# to make the results replicable (generating random numbers)\n",
    "np.random.seed(1234567)     # set MC seed\n",
    "\n",
    "n = 1000                # sample size\n",
    "X = np.random.normal(0, 1, 1000).reshape((1000, 1)) # generate X\n",
    "Z = 2*X + np.random.normal(0, 1, 1000).reshape((1000, 1))\n",
    "Y = X + np.random.normal(0, 1, 1000).reshape((1000, 1))\n",
    "\n",
    "# Create dataframe\n",
    "D = np.hstack((Z, X, Y))\n",
    "data = pd.DataFrame(D, columns = [\"Z\", \"X\", \"Y\"])"
   ]
  },
  {
   "cell_type": "code",
   "execution_count": 47,
   "metadata": {
    "scrolled": true
   },
   "outputs": [
    {
     "name": "stdout",
     "output_type": "stream",
     "text": [
      "\n",
      "==================================\n",
      "                  Y I       Y II  \n",
      "----------------------------------\n",
      "Intercept      -0.0041   -0.0039  \n",
      "               (0.0323)  (0.0323) \n",
      "R-squared      0.4723    0.4723   \n",
      "R-squared Adj. 0.4718    0.4713   \n",
      "X              0.9883*** 0.9710***\n",
      "               (0.0331)  (0.0718) \n",
      "Z                        0.0088   \n",
      "                         (0.0323) \n",
      "==================================\n",
      "Standard errors in parentheses.\n",
      "* p<.1, ** p<.05, ***p<.01\n"
     ]
    }
   ],
   "source": [
    "# Regressions\n",
    "no_control = \"Y ~ X\"          \n",
    "using_control = \"Y ~ X + Z\"      #classical\n",
    "\n",
    "no_control = smf.ols(no_control , data=data).fit()\n",
    "using_control = smf.ols(using_control , data=data).fit()\n",
    "\n",
    "# Summary results\n",
    "dfoutput = summary_col([no_control,using_control],stars=True)\n",
    "print(dfoutput)"
   ]
  },
  {
   "cell_type": "markdown",
   "metadata": {},
   "source": [
    "We can see that including the covariate Z does affect the variability of X, hence amplifying variance in model II."
   ]
  },
  {
   "cell_type": "markdown",
   "metadata": {},
   "source": [
    "### Model 15"
   ]
  },
  {
   "cell_type": "markdown",
   "metadata": {},
   "source": [
    "Now consider a variation of Model 14. In this case, Z is still nor a collider or confounder of X on Y, hence being neutral on bias. However, we have a colliding path on W, and by controlling for Z we can block it."
   ]
  },
  {
   "cell_type": "code",
   "execution_count": 48,
   "metadata": {
    "scrolled": false
   },
   "outputs": [
    {
     "data": {
      "image/svg+xml": [
       "<?xml version=\"1.0\" encoding=\"UTF-8\" standalone=\"no\"?>\r\n",
       "<!DOCTYPE svg PUBLIC \"-//W3C//DTD SVG 1.1//EN\"\r\n",
       " \"http://www.w3.org/Graphics/SVG/1.1/DTD/svg11.dtd\">\r\n",
       "<!-- Generated by graphviz version 2.38.0 (20140413.2041)\r\n",
       " -->\r\n",
       "<!-- Title: %3 Pages: 1 -->\r\n",
       "<svg width=\"149pt\" height=\"188pt\"\r\n",
       " viewBox=\"0.00 0.00 148.59 188.00\" xmlns=\"http://www.w3.org/2000/svg\" xmlns:xlink=\"http://www.w3.org/1999/xlink\">\r\n",
       "<g id=\"graph0\" class=\"graph\" transform=\"scale(1 1) rotate(0) translate(4 184)\">\r\n",
       "<title>%3</title>\r\n",
       "<polygon fill=\"white\" stroke=\"none\" points=\"-4,4 -4,-184 144.588,-184 144.588,4 -4,4\"/>\r\n",
       "<!-- Z -->\r\n",
       "<g id=\"node1\" class=\"node\"><title>Z</title>\r\n",
       "<ellipse fill=\"none\" stroke=\"black\" cx=\"113.588\" cy=\"-90\" rx=\"27\" ry=\"18\"/>\r\n",
       "<text text-anchor=\"middle\" x=\"113.588\" y=\"-86.3\" font-family=\"Times New Roman,serif\" font-size=\"14.00\">Z</text>\r\n",
       "</g>\r\n",
       "<!-- W -->\r\n",
       "<g id=\"node4\" class=\"node\"><title>W</title>\r\n",
       "<ellipse fill=\"none\" stroke=\"black\" cx=\"49.588\" cy=\"-18\" rx=\"27\" ry=\"18\"/>\r\n",
       "<text text-anchor=\"middle\" x=\"49.588\" y=\"-14.3\" font-family=\"Times New Roman,serif\" font-size=\"14.00\">W</text>\r\n",
       "</g>\r\n",
       "<!-- Z&#45;&gt;W -->\r\n",
       "<g id=\"edge1\" class=\"edge\"><title>Z&#45;&gt;W</title>\r\n",
       "<path fill=\"none\" stroke=\"black\" d=\"M100.015,-74.1548C91.2755,-64.5957 79.7539,-51.994 69.9302,-41.2493\"/>\r\n",
       "<polygon fill=\"black\" stroke=\"black\" points=\"72.472,-38.8424 63.1412,-33.8238 67.3058,-43.5658 72.472,-38.8424\"/>\r\n",
       "</g>\r\n",
       "<!-- X -->\r\n",
       "<g id=\"node2\" class=\"node\"><title>X</title>\r\n",
       "<ellipse fill=\"none\" stroke=\"black\" cx=\"77.588\" cy=\"-162\" rx=\"27\" ry=\"18\"/>\r\n",
       "<text text-anchor=\"middle\" x=\"77.588\" y=\"-158.3\" font-family=\"Times New Roman,serif\" font-size=\"14.00\">X</text>\r\n",
       "</g>\r\n",
       "<!-- X&#45;&gt;Z -->\r\n",
       "<g id=\"edge2\" class=\"edge\"><title>X&#45;&gt;Z</title>\r\n",
       "<path fill=\"none\" stroke=\"black\" d=\"M85.9376,-144.765C90.2995,-136.283 95.7349,-125.714 100.629,-116.197\"/>\r\n",
       "<polygon fill=\"black\" stroke=\"black\" points=\"103.823,-117.641 105.284,-107.147 97.5976,-114.439 103.823,-117.641\"/>\r\n",
       "</g>\r\n",
       "<!-- Y -->\r\n",
       "<g id=\"node3\" class=\"node\"><title>Y</title>\r\n",
       "<ellipse fill=\"none\" stroke=\"black\" cx=\"41.588\" cy=\"-90\" rx=\"27\" ry=\"18\"/>\r\n",
       "<text text-anchor=\"middle\" x=\"41.588\" y=\"-86.3\" font-family=\"Times New Roman,serif\" font-size=\"14.00\">Y</text>\r\n",
       "</g>\r\n",
       "<!-- X&#45;&gt;Y -->\r\n",
       "<g id=\"edge3\" class=\"edge\"><title>X&#45;&gt;Y</title>\r\n",
       "<path fill=\"none\" stroke=\"black\" d=\"M69.2384,-144.765C64.8765,-136.283 59.4411,-125.714 54.5467,-116.197\"/>\r\n",
       "<polygon fill=\"black\" stroke=\"black\" points=\"57.5784,-114.439 49.8923,-107.147 51.3533,-117.641 57.5784,-114.439\"/>\r\n",
       "</g>\r\n",
       "<!-- Unobserved_0 -->\r\n",
       "<g id=\"node5\" class=\"node\"><title>Unobserved_0</title>\r\n",
       "<ellipse fill=\"black\" stroke=\"black\" cx=\"8.58798\" cy=\"-162\" rx=\"1.8\" ry=\"1.8\"/>\r\n",
       "</g>\r\n",
       "<!-- Unobserved_0&#45;&gt;Y -->\r\n",
       "<g id=\"edge5\" class=\"edge\"><title>Unobserved_0&#45;&gt;Y</title>\r\n",
       "<path fill=\"none\" stroke=\"black\" stroke-dasharray=\"5,2\" d=\"M8.95858,-160.214C10.99,-155.905 20.9886,-134.696 29.3886,-116.877\"/>\r\n",
       "<polygon fill=\"black\" stroke=\"black\" points=\"32.7317,-117.994 33.8301,-107.456 26.4,-115.009 32.7317,-117.994\"/>\r\n",
       "</g>\r\n",
       "<!-- Unobserved_0&#45;&gt;W -->\r\n",
       "<g id=\"edge4\" class=\"edge\"><title>Unobserved_0&#45;&gt;W</title>\r\n",
       "<path fill=\"none\" stroke=\"black\" stroke-dasharray=\"5,2\" d=\"M8.30906,-160.084C6.20178,-152.999 -6.80089,-106.318 5.58798,-72 9.85933,-60.168 18.0491,-49.1113 26.216,-40.1904\"/>\r\n",
       "<polygon fill=\"black\" stroke=\"black\" points=\"28.8146,-42.5388 33.2881,-32.9347 23.8018,-37.6528 28.8146,-42.5388\"/>\r\n",
       "</g>\r\n",
       "</g>\r\n",
       "</svg>\r\n"
      ],
      "text/plain": [
       "<graphviz.dot.Digraph at 0x2192e58a9a0>"
      ]
     },
     "execution_count": 48,
     "metadata": {},
     "output_type": "execute_result"
    }
   ],
   "source": [
    "sprinkler = CausalGraphicalModel(nodes=[\"Z\",\"Y\",\"X\",\"W\"],\n",
    "                                 edges=[(\"X\",\"Z\"),(\"Z\",\"W\"),(\"X\",\"Y\")],\n",
    "                                 latent_edges=[(\"W\",\"Y\")])\n",
    "sprinkler.draw()"
   ]
  },
  {
   "cell_type": "code",
   "execution_count": 66,
   "metadata": {},
   "outputs": [],
   "source": [
    "# Set Seed\n",
    "# to make the results replicable (generating random numbers)\n",
    "np.random.seed(1234567)     # set MC seed\n",
    "\n",
    "n = 1000                # sample size\n",
    "U = np.random.normal(0, 1, 1000).reshape((1000, 1)) # generate U\n",
    "X = np.random.normal(0, 1, 1000).reshape((1000, 1)) # generate X\n",
    "Z = 2*X + np.random.normal(0, 1, 1000).reshape((1000, 1))\n",
    "W = Z + 2*U  + np.random.normal(0, 1, 1000).reshape((1000, 1))\n",
    "Y = X + U + np.random.normal(0, 1, 1000).reshape((1000, 1))\n",
    "\n",
    "# Create dataframe\n",
    "D = np.hstack((Z, X, Y, W , U))\n",
    "data = pd.DataFrame(D, columns = [\"Z\", \"X\", \"Y\",\"W\",\"U\"])"
   ]
  },
  {
   "cell_type": "code",
   "execution_count": 67,
   "metadata": {
    "scrolled": true
   },
   "outputs": [
    {
     "name": "stdout",
     "output_type": "stream",
     "text": [
      "\n",
      "==================================\n",
      "                  Y I       Y II  \n",
      "----------------------------------\n",
      "Intercept      0.0182    0.0182   \n",
      "               (0.0438)  (0.0438) \n",
      "R-squared      0.3250    0.3250   \n",
      "R-squared Adj. 0.3244    0.3237   \n",
      "X              0.9591*** 0.9483***\n",
      "               (0.0437)  (0.0967) \n",
      "Z                        0.0054   \n",
      "                         (0.0429) \n",
      "==================================\n",
      "Standard errors in parentheses.\n",
      "* p<.1, ** p<.05, ***p<.01\n"
     ]
    }
   ],
   "source": [
    "# Regressions\n",
    "no_control = \"Y ~ X\"          \n",
    "using_control = \"Y ~ X + Z\"      #classical\n",
    "\n",
    "no_control = smf.ols(no_control , data=data).fit()\n",
    "using_control = smf.ols(using_control , data=data).fit()\n",
    "\n",
    "# Summary results\n",
    "dfoutput = summary_col([no_control,using_control],stars=True)\n",
    "print(dfoutput)"
   ]
  },
  {
   "cell_type": "markdown",
   "metadata": {},
   "source": [
    "We can see that including the covariate Z does affect the variability of X, hence amplifying variance in model II."
   ]
  },
  {
   "cell_type": "markdown",
   "metadata": {},
   "source": [
    "## <font color='blue'>Models 16 and 17 - Bad Controls (selection bias)</font>"
   ]
  },
  {
   "cell_type": "markdown",
   "metadata": {},
   "source": [
    "In models 16 and 17, notice that Z acts as a collider (it is affected or caused by the treatment and the unobservable, and does not affect any variable). Hence, inclusion of Z would bias the estimation of the effect of X on Y."
   ]
  },
  {
   "cell_type": "markdown",
   "metadata": {},
   "source": [
    "### Model 16"
   ]
  },
  {
   "cell_type": "code",
   "execution_count": 51,
   "metadata": {
    "scrolled": true
   },
   "outputs": [
    {
     "data": {
      "image/svg+xml": [
       "<?xml version=\"1.0\" encoding=\"UTF-8\" standalone=\"no\"?>\r\n",
       "<!DOCTYPE svg PUBLIC \"-//W3C//DTD SVG 1.1//EN\"\r\n",
       " \"http://www.w3.org/Graphics/SVG/1.1/DTD/svg11.dtd\">\r\n",
       "<!-- Generated by graphviz version 2.38.0 (20140413.2041)\r\n",
       " -->\r\n",
       "<!-- Title: %3 Pages: 1 -->\r\n",
       "<svg width=\"134pt\" height=\"116pt\"\r\n",
       " viewBox=\"0.00 0.00 134.00 116.00\" xmlns=\"http://www.w3.org/2000/svg\" xmlns:xlink=\"http://www.w3.org/1999/xlink\">\r\n",
       "<g id=\"graph0\" class=\"graph\" transform=\"scale(1 1) rotate(0) translate(4 112)\">\r\n",
       "<title>%3</title>\r\n",
       "<polygon fill=\"white\" stroke=\"none\" points=\"-4,4 -4,-112 130,-112 130,4 -4,4\"/>\r\n",
       "<!-- Z -->\r\n",
       "<g id=\"node1\" class=\"node\"><title>Z</title>\r\n",
       "<ellipse fill=\"none\" stroke=\"black\" cx=\"27\" cy=\"-18\" rx=\"27\" ry=\"18\"/>\r\n",
       "<text text-anchor=\"middle\" x=\"27\" y=\"-14.3\" font-family=\"Times New Roman,serif\" font-size=\"14.00\">Z</text>\r\n",
       "</g>\r\n",
       "<!-- X -->\r\n",
       "<g id=\"node2\" class=\"node\"><title>X</title>\r\n",
       "<ellipse fill=\"none\" stroke=\"black\" cx=\"33\" cy=\"-90\" rx=\"27\" ry=\"18\"/>\r\n",
       "<text text-anchor=\"middle\" x=\"33\" y=\"-86.3\" font-family=\"Times New Roman,serif\" font-size=\"14.00\">X</text>\r\n",
       "</g>\r\n",
       "<!-- X&#45;&gt;Z -->\r\n",
       "<g id=\"edge1\" class=\"edge\"><title>X&#45;&gt;Z</title>\r\n",
       "<path fill=\"none\" stroke=\"black\" d=\"M31.5169,-71.6966C30.8557,-63.9827 30.0611,-54.7125 29.3239,-46.1124\"/>\r\n",
       "<polygon fill=\"black\" stroke=\"black\" points=\"32.8074,-45.7689 28.4661,-36.1043 25.833,-46.3667 32.8074,-45.7689\"/>\r\n",
       "</g>\r\n",
       "<!-- Y -->\r\n",
       "<g id=\"node3\" class=\"node\"><title>Y</title>\r\n",
       "<ellipse fill=\"none\" stroke=\"black\" cx=\"99\" cy=\"-18\" rx=\"27\" ry=\"18\"/>\r\n",
       "<text text-anchor=\"middle\" x=\"99\" y=\"-14.3\" font-family=\"Times New Roman,serif\" font-size=\"14.00\">Y</text>\r\n",
       "</g>\r\n",
       "<!-- X&#45;&gt;Y -->\r\n",
       "<g id=\"edge2\" class=\"edge\"><title>X&#45;&gt;Y</title>\r\n",
       "<path fill=\"none\" stroke=\"black\" d=\"M46.9969,-74.1548C56.0097,-64.5957 67.8914,-51.994 78.0221,-41.2493\"/>\r\n",
       "<polygon fill=\"black\" stroke=\"black\" points=\"80.7097,-43.5008 85.0233,-33.8238 75.6165,-38.6987 80.7097,-43.5008\"/>\r\n",
       "</g>\r\n",
       "<!-- Unobserved_0 -->\r\n",
       "<g id=\"node4\" class=\"node\"><title>Unobserved_0</title>\r\n",
       "<ellipse fill=\"black\" stroke=\"black\" cx=\"92\" cy=\"-90\" rx=\"1.8\" ry=\"1.8\"/>\r\n",
       "</g>\r\n",
       "<!-- Unobserved_0&#45;&gt;Z -->\r\n",
       "<g id=\"edge3\" class=\"edge\"><title>Unobserved_0&#45;&gt;Z</title>\r\n",
       "<path fill=\"none\" stroke=\"black\" stroke-dasharray=\"5,2\" d=\"M91.27,-88.2139C86.9986,-83.6139 64.8427,-59.7537 47.7256,-41.3198\"/>\r\n",
       "<polygon fill=\"black\" stroke=\"black\" points=\"50.1343,-38.7702 40.765,-33.8238 45.0047,-43.5334 50.1343,-38.7702\"/>\r\n",
       "</g>\r\n",
       "<!-- Unobserved_0&#45;&gt;Y -->\r\n",
       "<g id=\"edge4\" class=\"edge\"><title>Unobserved_0&#45;&gt;Y</title>\r\n",
       "<path fill=\"none\" stroke=\"black\" stroke-dasharray=\"5,2\" d=\"M92.099,-88.0105C92.5586,-83.4142 94.5356,-63.6439 96.2564,-46.4357\"/>\r\n",
       "<polygon fill=\"black\" stroke=\"black\" points=\"99.7664,-46.5094 97.2789,-36.2108 92.8012,-45.8129 99.7664,-46.5094\"/>\r\n",
       "</g>\r\n",
       "</g>\r\n",
       "</svg>\r\n"
      ],
      "text/plain": [
       "<graphviz.dot.Digraph at 0x2192e58acd0>"
      ]
     },
     "execution_count": 51,
     "metadata": {},
     "output_type": "execute_result"
    }
   ],
   "source": [
    "sprinkler = CausalGraphicalModel(nodes=[\"Z\",\"Y\",\"X\"],\n",
    "                                 edges=[(\"X\",\"Z\"),(\"X\",\"Y\")],\n",
    "                                 latent_edges=[(\"Z\",\"Y\")])\n",
    "sprinkler.draw()"
   ]
  },
  {
   "cell_type": "code",
   "execution_count": 52,
   "metadata": {},
   "outputs": [],
   "source": [
    "# Set Seed\n",
    "# to make the results replicable (generating random numbers)\n",
    "np.random.seed(123456)     # set MC seed\n",
    "\n",
    "n = 1000                # sample size\n",
    "U = np.random.normal(0, 1, 1000).reshape((1000, 1)) # generate U\n",
    "X = np.random.normal(0, 1, 1000).reshape((1000, 1)) # generate X\n",
    "Z = 2*X + U + np.random.normal(0, 1, 1000).reshape((1000, 1))\n",
    "Y = X + 1.5*U + np.random.normal(0, 1, 1000).reshape((1000, 1))\n",
    "\n",
    "# Create dataframe\n",
    "D = np.hstack((Z, X, Y, U))\n",
    "data = pd.DataFrame(D, columns = [\"Z\", \"X\", \"Y\",\"U\"])"
   ]
  },
  {
   "cell_type": "code",
   "execution_count": 53,
   "metadata": {
    "scrolled": true
   },
   "outputs": [
    {
     "name": "stdout",
     "output_type": "stream",
     "text": [
      "\n",
      "===================================\n",
      "                  Y I       Y II   \n",
      "-----------------------------------\n",
      "Intercept      -0.0394   -0.0080   \n",
      "               (0.0579)  (0.0464)  \n",
      "R-squared      0.2374    0.5102    \n",
      "R-squared Adj. 0.2367    0.5092    \n",
      "X              1.0203*** -0.4771***\n",
      "               (0.0579)  (0.0787)  \n",
      "Z                        0.7527*** \n",
      "                         (0.0319)  \n",
      "===================================\n",
      "Standard errors in parentheses.\n",
      "* p<.1, ** p<.05, ***p<.01\n"
     ]
    }
   ],
   "source": [
    "# Regressions\n",
    "no_control = \"Y ~ X\"          \n",
    "using_control = \"Y ~ X + Z\"      #classical\n",
    "\n",
    "no_control = smf.ols(no_control , data=data).fit()\n",
    "using_control = smf.ols(using_control , data=data).fit()\n",
    "\n",
    "# Summary results\n",
    "dfoutput = summary_col([no_control,using_control],stars=True)\n",
    "print(dfoutput)"
   ]
  },
  {
   "cell_type": "markdown",
   "metadata": {},
   "source": [
    "### Model 17"
   ]
  },
  {
   "cell_type": "code",
   "execution_count": 54,
   "metadata": {
    "scrolled": true
   },
   "outputs": [
    {
     "data": {
      "image/svg+xml": [
       "<?xml version=\"1.0\" encoding=\"UTF-8\" standalone=\"no\"?>\r\n",
       "<!DOCTYPE svg PUBLIC \"-//W3C//DTD SVG 1.1//EN\"\r\n",
       " \"http://www.w3.org/Graphics/SVG/1.1/DTD/svg11.dtd\">\r\n",
       "<!-- Generated by graphviz version 2.38.0 (20140413.2041)\r\n",
       " -->\r\n",
       "<!-- Title: %3 Pages: 1 -->\r\n",
       "<svg width=\"90pt\" height=\"188pt\"\r\n",
       " viewBox=\"0.00 0.00 90.00 188.00\" xmlns=\"http://www.w3.org/2000/svg\" xmlns:xlink=\"http://www.w3.org/1999/xlink\">\r\n",
       "<g id=\"graph0\" class=\"graph\" transform=\"scale(1 1) rotate(0) translate(4 184)\">\r\n",
       "<title>%3</title>\r\n",
       "<polygon fill=\"white\" stroke=\"none\" points=\"-4,4 -4,-184 86,-184 86,4 -4,4\"/>\r\n",
       "<!-- Z -->\r\n",
       "<g id=\"node1\" class=\"node\"><title>Z</title>\r\n",
       "<ellipse fill=\"none\" stroke=\"black\" cx=\"27\" cy=\"-18\" rx=\"27\" ry=\"18\"/>\r\n",
       "<text text-anchor=\"middle\" x=\"27\" y=\"-14.3\" font-family=\"Times New Roman,serif\" font-size=\"14.00\">Z</text>\r\n",
       "</g>\r\n",
       "<!-- X -->\r\n",
       "<g id=\"node2\" class=\"node\"><title>X</title>\r\n",
       "<ellipse fill=\"none\" stroke=\"black\" cx=\"27\" cy=\"-162\" rx=\"27\" ry=\"18\"/>\r\n",
       "<text text-anchor=\"middle\" x=\"27\" y=\"-158.3\" font-family=\"Times New Roman,serif\" font-size=\"14.00\">X</text>\r\n",
       "</g>\r\n",
       "<!-- X&#45;&gt;Z -->\r\n",
       "<g id=\"edge2\" class=\"edge\"><title>X&#45;&gt;Z</title>\r\n",
       "<path fill=\"none\" stroke=\"black\" d=\"M23.7517,-143.888C21.9542,-133.542 19.9053,-120.063 19,-108 17.8026,-92.0449 17.8026,-87.9551 19,-72 19.6366,-63.5179 20.8384,-54.3361 22.1208,-46.0356\"/>\r\n",
       "<polygon fill=\"black\" stroke=\"black\" points=\"25.5836,-46.5472 23.7517,-36.1119 18.6763,-45.412 25.5836,-46.5472\"/>\r\n",
       "</g>\r\n",
       "<!-- Y -->\r\n",
       "<g id=\"node3\" class=\"node\"><title>Y</title>\r\n",
       "<ellipse fill=\"none\" stroke=\"black\" cx=\"55\" cy=\"-90\" rx=\"27\" ry=\"18\"/>\r\n",
       "<text text-anchor=\"middle\" x=\"55\" y=\"-86.3\" font-family=\"Times New Roman,serif\" font-size=\"14.00\">Y</text>\r\n",
       "</g>\r\n",
       "<!-- X&#45;&gt;Y -->\r\n",
       "<g id=\"edge3\" class=\"edge\"><title>X&#45;&gt;Y</title>\r\n",
       "<path fill=\"none\" stroke=\"black\" d=\"M33.6356,-144.411C36.9134,-136.216 40.9442,-126.14 44.6181,-116.955\"/>\r\n",
       "<polygon fill=\"black\" stroke=\"black\" points=\"47.9477,-118.055 48.412,-107.47 41.4484,-115.455 47.9477,-118.055\"/>\r\n",
       "</g>\r\n",
       "<!-- Y&#45;&gt;Z -->\r\n",
       "<g id=\"edge1\" class=\"edge\"><title>Y&#45;&gt;Z</title>\r\n",
       "<path fill=\"none\" stroke=\"black\" d=\"M48.3644,-72.411C45.0866,-64.2164 41.0558,-54.1395 37.3819,-44.9548\"/>\r\n",
       "<polygon fill=\"black\" stroke=\"black\" points=\"40.5516,-43.4548 33.588,-35.4699 34.0523,-46.0546 40.5516,-43.4548\"/>\r\n",
       "</g>\r\n",
       "</g>\r\n",
       "</svg>\r\n"
      ],
      "text/plain": [
       "<graphviz.dot.Digraph at 0x2192dc1fdf0>"
      ]
     },
     "execution_count": 54,
     "metadata": {},
     "output_type": "execute_result"
    }
   ],
   "source": [
    "sprinkler = CausalGraphicalModel(nodes=[\"Z\",\"Y\",\"X\"],\n",
    "                                 edges=[(\"X\",\"Z\"),(\"X\",\"Y\"),(\"Y\",\"Z\")],\n",
    "                                 )\n",
    "sprinkler.draw()"
   ]
  },
  {
   "cell_type": "code",
   "execution_count": 55,
   "metadata": {},
   "outputs": [],
   "source": [
    "# Set Seed\n",
    "# to make the results replicable (generating random numbers)\n",
    "np.random.seed(123456)     # set MC seed\n",
    "\n",
    "n = 1000                # sample size\n",
    "X = np.random.normal(0, 1, 1000).reshape((1000, 1)) # generate X\n",
    "Y = X + np.random.normal(0, 1, 1000).reshape((1000, 1))\n",
    "Z = 2*X + 0.5*Y + np.random.normal(0, 1, 1000).reshape((1000, 1))\n",
    "\n",
    "\n",
    "# Create dataframe\n",
    "D = np.hstack((Z, X, Y))\n",
    "data = pd.DataFrame(D, columns = [\"Z\", \"X\", \"Y\"])"
   ]
  },
  {
   "cell_type": "code",
   "execution_count": 56,
   "metadata": {
    "scrolled": true
   },
   "outputs": [
    {
     "name": "stdout",
     "output_type": "stream",
     "text": [
      "\n",
      "==================================\n",
      "                  Y I       Y II  \n",
      "----------------------------------\n",
      "Intercept      0.0139    0.0097   \n",
      "               (0.0317)  (0.0287) \n",
      "R-squared      0.5302    0.6137   \n",
      "R-squared Adj. 0.5297    0.6129   \n",
      "X              1.0179*** 0.0677   \n",
      "               (0.0303)  (0.0703) \n",
      "Z                        0.3786***\n",
      "                         (0.0258) \n",
      "==================================\n",
      "Standard errors in parentheses.\n",
      "* p<.1, ** p<.05, ***p<.01\n"
     ]
    }
   ],
   "source": [
    "# Regressions\n",
    "no_control = \"Y ~ X\"          \n",
    "using_control = \"Y ~ X + Z\"      #classical\n",
    "\n",
    "no_control = smf.ols(no_control , data=data).fit()\n",
    "using_control = smf.ols(using_control , data=data).fit()\n",
    "\n",
    "# Summary results\n",
    "dfoutput = summary_col([no_control,using_control],stars=True)\n",
    "print(dfoutput)"
   ]
  },
  {
   "cell_type": "markdown",
   "metadata": {},
   "source": [
    "## <font color='blue'>Model 18 - Bad Controls (case-control bias)</font>"
   ]
  },
  {
   "cell_type": "markdown",
   "metadata": {},
   "source": [
    "In this model, Z is not a mediator (it isn't somewhere in the middle of the pathway from X to Y), it is not a collider either, since it is not a direct cause of X. Nevertheless, including Z would bias the estimation of the causal effect of X on Y, because is a **descendant of a collider**. "
   ]
  },
  {
   "cell_type": "code",
   "execution_count": 57,
   "metadata": {
    "scrolled": false
   },
   "outputs": [
    {
     "data": {
      "image/svg+xml": [
       "<?xml version=\"1.0\" encoding=\"UTF-8\" standalone=\"no\"?>\r\n",
       "<!DOCTYPE svg PUBLIC \"-//W3C//DTD SVG 1.1//EN\"\r\n",
       " \"http://www.w3.org/Graphics/SVG/1.1/DTD/svg11.dtd\">\r\n",
       "<!-- Generated by graphviz version 2.38.0 (20140413.2041)\r\n",
       " -->\r\n",
       "<!-- Title: %3 Pages: 1 -->\r\n",
       "<svg width=\"62pt\" height=\"188pt\"\r\n",
       " viewBox=\"0.00 0.00 62.00 188.00\" xmlns=\"http://www.w3.org/2000/svg\" xmlns:xlink=\"http://www.w3.org/1999/xlink\">\r\n",
       "<g id=\"graph0\" class=\"graph\" transform=\"scale(1 1) rotate(0) translate(4 184)\">\r\n",
       "<title>%3</title>\r\n",
       "<polygon fill=\"white\" stroke=\"none\" points=\"-4,4 -4,-184 58,-184 58,4 -4,4\"/>\r\n",
       "<!-- Z -->\r\n",
       "<g id=\"node1\" class=\"node\"><title>Z</title>\r\n",
       "<ellipse fill=\"none\" stroke=\"black\" cx=\"27\" cy=\"-18\" rx=\"27\" ry=\"18\"/>\r\n",
       "<text text-anchor=\"middle\" x=\"27\" y=\"-14.3\" font-family=\"Times New Roman,serif\" font-size=\"14.00\">Z</text>\r\n",
       "</g>\r\n",
       "<!-- X -->\r\n",
       "<g id=\"node2\" class=\"node\"><title>X</title>\r\n",
       "<ellipse fill=\"none\" stroke=\"black\" cx=\"27\" cy=\"-162\" rx=\"27\" ry=\"18\"/>\r\n",
       "<text text-anchor=\"middle\" x=\"27\" y=\"-158.3\" font-family=\"Times New Roman,serif\" font-size=\"14.00\">X</text>\r\n",
       "</g>\r\n",
       "<!-- Y -->\r\n",
       "<g id=\"node3\" class=\"node\"><title>Y</title>\r\n",
       "<ellipse fill=\"none\" stroke=\"black\" cx=\"27\" cy=\"-90\" rx=\"27\" ry=\"18\"/>\r\n",
       "<text text-anchor=\"middle\" x=\"27\" y=\"-86.3\" font-family=\"Times New Roman,serif\" font-size=\"14.00\">Y</text>\r\n",
       "</g>\r\n",
       "<!-- X&#45;&gt;Y -->\r\n",
       "<g id=\"edge2\" class=\"edge\"><title>X&#45;&gt;Y</title>\r\n",
       "<path fill=\"none\" stroke=\"black\" d=\"M27,-143.697C27,-135.983 27,-126.712 27,-118.112\"/>\r\n",
       "<polygon fill=\"black\" stroke=\"black\" points=\"30.5001,-118.104 27,-108.104 23.5001,-118.104 30.5001,-118.104\"/>\r\n",
       "</g>\r\n",
       "<!-- Y&#45;&gt;Z -->\r\n",
       "<g id=\"edge1\" class=\"edge\"><title>Y&#45;&gt;Z</title>\r\n",
       "<path fill=\"none\" stroke=\"black\" d=\"M27,-71.6966C27,-63.9827 27,-54.7125 27,-46.1124\"/>\r\n",
       "<polygon fill=\"black\" stroke=\"black\" points=\"30.5001,-46.1043 27,-36.1043 23.5001,-46.1044 30.5001,-46.1043\"/>\r\n",
       "</g>\r\n",
       "</g>\r\n",
       "</svg>\r\n"
      ],
      "text/plain": [
       "<graphviz.dot.Digraph at 0x2192e58ae80>"
      ]
     },
     "execution_count": 57,
     "metadata": {},
     "output_type": "execute_result"
    }
   ],
   "source": [
    "sprinkler = CausalGraphicalModel(nodes=[\"Z\",\"Y\",\"X\"],\n",
    "                                 edges=[(\"X\",\"Y\"),(\"Y\",\"Z\")],\n",
    "                                 )\n",
    "sprinkler.draw()"
   ]
  },
  {
   "cell_type": "code",
   "execution_count": 58,
   "metadata": {},
   "outputs": [],
   "source": [
    "# Set Seed\n",
    "# to make the results replicable (generating random numbers)\n",
    "np.random.seed(123456)     # set MC seed\n",
    "\n",
    "n = 1000                # sample size\n",
    "X = np.random.normal(0, 1, 1000).reshape((1000, 1)) # generate X\n",
    "Y = X + np.random.normal(0, 1, 1000).reshape((1000, 1))\n",
    "Z = 3*Y + np.random.normal(0, 1, 1000).reshape((1000, 1))\n",
    "\n",
    "\n",
    "# Create dataframe\n",
    "D = np.hstack((Z, X, Y))\n",
    "data = pd.DataFrame(D, columns = [\"Z\", \"X\", \"Y\"])"
   ]
  },
  {
   "cell_type": "code",
   "execution_count": 59,
   "metadata": {
    "scrolled": true
   },
   "outputs": [
    {
     "name": "stdout",
     "output_type": "stream",
     "text": [
      "\n",
      "==================================\n",
      "                  Y I       Y II  \n",
      "----------------------------------\n",
      "Intercept      0.0139    0.0001   \n",
      "               (0.0317)  (0.0102) \n",
      "R-squared      0.5302    0.9513   \n",
      "R-squared Adj. 0.5297    0.9512   \n",
      "X              1.0179*** 0.0960***\n",
      "               (0.0303)  (0.0139) \n",
      "Z                        0.3018***\n",
      "                         (0.0033) \n",
      "==================================\n",
      "Standard errors in parentheses.\n",
      "* p<.1, ** p<.05, ***p<.01\n"
     ]
    }
   ],
   "source": [
    "# Regressions\n",
    "no_control = \"Y ~ X\"          \n",
    "using_control = \"Y ~ X + Z\"      #classical\n",
    "\n",
    "no_control = smf.ols(no_control , data=data).fit()\n",
    "using_control = smf.ols(using_control , data=data).fit()\n",
    "\n",
    "# Summary results\n",
    "dfoutput = summary_col([no_control,using_control],stars=True)\n",
    "print(dfoutput)"
   ]
  }
 ],
 "metadata": {
  "@webio": {
   "lastCommId": null,
   "lastKernelId": null
  },
  "kernelspec": {
   "display_name": "Python 3 (ipykernel)",
   "language": "python",
   "name": "python3"
  },
  "language_info": {
   "codemirror_mode": {
    "name": "ipython",
    "version": 3
   },
   "file_extension": ".py",
   "mimetype": "text/x-python",
   "name": "python",
   "nbconvert_exporter": "python",
   "pygments_lexer": "ipython3",
   "version": "3.10.4"
  }
 },
 "nbformat": 4,
 "nbformat_minor": 4
}
