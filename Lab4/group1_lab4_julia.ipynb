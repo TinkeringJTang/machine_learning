{
 "cells": [
  {
   "cell_type": "markdown",
   "metadata": {},
   "source": [
    "# <span style=\"color:blue\">Orthogonal Learning</span>"
   ]
  },
  {
   "cell_type": "markdown",
   "metadata": {},
   "source": [
    "## Simulation Design 1"
   ]
  },
  {
   "cell_type": "code",
   "execution_count": null,
   "metadata": {},
   "outputs": [],
   "source": [
    "include(\"GitHub/ECO224/Labs/Julia_Notebooks/hdmjl/hdmjl.jl\")"
   ]
  },
  {
   "cell_type": "code",
   "execution_count": 71,
   "metadata": {},
   "outputs": [],
   "source": [
    "using Random\n",
    "using DataFrames\n",
    "using PlotlyJS"
   ]
  },
  {
   "cell_type": "markdown",
   "metadata": {},
   "source": [
    "## B = 50"
   ]
  },
  {
   "cell_type": "code",
   "execution_count": 243,
   "metadata": {},
   "outputs": [],
   "source": [
    "# Set seed\n",
    "Random.seed!(23)\n",
    "B = 50\n",
    "Naive_50 = zeros(B)\n",
    "Orthogonal_50 = zeros(B);"
   ]
  },
  {
   "cell_type": "code",
   "execution_count": 244,
   "metadata": {
    "scrolled": true
   },
   "outputs": [],
   "source": [
    "for i in 1:B\n",
    "    n = 100\n",
    "    p = 100\n",
    "    beta =  reshape(( 1 ./ (1:p).^ 2 ),p,1)\n",
    "    gamma = reshape(( 1 ./ (1:p).^ 2 ),p,1)\n",
    "\n",
    "    # mean = 0\n",
    "    sd = 1\n",
    "    X = randn(( n, p ))\n",
    "\n",
    "    D = ( X * gamma ) + reshape(randn(n),n, 1)/4 \n",
    "\n",
    "    # DGP \n",
    "    Y = 5 .*D + ( X * beta ) + reshape(randn( n ), n, 1 )\n",
    "\n",
    "    D = DataFrame(D,:auto)\n",
    "    rename!(D,:x1 => :D)\n",
    "    X = DataFrame(X,:auto)\n",
    "    Y =  DataFrame(Y,:auto)\n",
    "    rename!(Y,:x1 => :Y)\n",
    "\n",
    "    DX = hcat( D , X)\n",
    "    YD = hcat( Y , D)\n",
    "\n",
    "    r_lasso_estimation = rlasso_arg( DX , Y , nothing, true, true, true, false, false, \n",
    "                        nothing, 1.1, nothing, 5000, 15, 10^(-5), -Inf, true, Inf, true ) # Regress main equation by lasso\n",
    "    coef_array = rlasso(r_lasso_estimation)[\"beta\"][2:end,2] #Extract array of covariates X, sometimes all items wont be zero.\n",
    "    SX_IDs  = findall(x-> x != 0,coef_array) # Find THE POSITION OF all non-zero covariates in COEF_ARRAY\n",
    "\n",
    "    # In case all X coefficients are zero, then regress Y on D\n",
    "    if sum(SX_IDs) == 0 \n",
    "        reg = lm( term(:Y) ~ term(:D), YD )\n",
    "        Naive_50[i] = GLM.coeftable(reg).cols[1,1][2]\n",
    "\n",
    "    # Otherwise, regress Y on X and D (but only in the selected coefficients)\n",
    "    elseif sum( SX_IDs ) > 0\n",
    "        df = hcat(Y, D, X[:, SX_IDs ],makeunique=true ) \n",
    "        reg = lm( term(:Y) ~ sum(term.(names(df[!, Not([\"Y\"])]))),df )\n",
    "        Naive_50[ i ] = GLM.coeftable(reg).cols[1,1][2]\n",
    "    end\n",
    "    # In both cases we save D coefficient\n",
    "\n",
    "    # Regress residuals. \n",
    "    regY = rlasso_arg( X , Y , nothing, false, true, true, false, false, \n",
    "                        nothing, 1.1, nothing, 5000, 15, 10^(-5), -Inf, true, Inf, true ) # No post lasso\n",
    "    resY = rlasso(regY)[\"residuals\"]\n",
    "\n",
    "    regD = rlasso_arg( X , D , nothing, false, true, true, false, false, \n",
    "                        nothing, 1.1, nothing, 5000, 15, 10^(-5), -Inf, true, Inf, true ) # No post lasso\n",
    "    resD = rlasso(regD)[\"residuals\"]\n",
    "\n",
    "    eYeD = DataFrame(hcat( resY , resD),:auto)\n",
    "    rename!(eYeD,:x1 => :resY)\n",
    "    rename!(eYeD,:x2 => :resD)\n",
    "\n",
    "    res_reg= lm( @formula(resY ~ 0 + resD), eYeD)\n",
    "    Orthogonal_50[ i ] = GLM.coeftable(res_reg).cols[1][1]\n",
    "        \n",
    "end"
   ]
  },
  {
   "cell_type": "code",
   "execution_count": 255,
   "metadata": {
    "scrolled": false
   },
   "outputs": [
    {
     "data": {
      "application/vnd.plotly.v1+json": {
       "config": {
        "editable": false,
        "responsive": true,
        "scrollZoom": true,
        "showLink": false,
        "staticPlot": false
       },
       "data": [
        {
         "name": "Orthogonal",
         "nbinsx": 10,
         "type": "histogram",
         "x": [
          5.107568511046905,
          4.810213554825182,
          5.11407796786827,
          4.554206317456867,
          4.5368260948277666,
          4.016281581637555,
          4.4162323295889045,
          4.725310608452311,
          4.778511855634736,
          4.7740676775359026,
          4.326375455956674,
          4.337062693905456,
          4.662805533982922,
          4.579316457615695,
          4.403883892093606,
          4.913189197914348,
          4.162426852795552,
          5.212909276683741,
          4.9499866193590325,
          4.370675186321016,
          5.395696841921928,
          4.472005051071693,
          4.747743553007606,
          5.098312978105215,
          4.522514767093861,
          4.7369359606247485,
          4.659630731872146,
          4.963631817096158,
          4.257449019031438,
          4.925103832223292,
          4.881918728895795,
          4.962303303627427,
          3.7975693285800496,
          4.711783002335397,
          4.744128661633187,
          4.471951599525308,
          4.949542755285857,
          4.905192621155221,
          4.746828769010738,
          4.62412217845303,
          5.2201006210551535,
          4.495785433488641,
          5.593136288600802,
          4.335669672884047,
          4.928138836379012,
          4.55410970890571,
          4.742999129859509,
          4.652954414097198,
          4.6278343117728244,
          4.18471911930801
         ],
         "xaxis": "x",
         "yaxis": "y"
        },
        {
         "name": "Naive",
         "nbinsx": 10,
         "type": "histogram",
         "x": [
          4.567070150014072,
          4.730359576015885,
          4.839376694184348,
          4.526594264172206,
          4.791957626870241,
          4.819116763890307,
          4.530066035704268,
          4.711568184653146,
          4.689132884288875,
          4.908377828201319,
          4.578575871982487,
          4.22026869229555,
          4.98510521784622,
          4.350284350334943,
          4.995387818735469,
          4.591095163220315,
          4.619150324714862,
          4.477694929220629,
          4.343574795339128,
          4.462083679071092,
          5.123642111382798,
          4.534947358185479,
          4.2172225036226,
          4.513845739258639,
          4.277853554256551,
          4.632095226698355,
          4.807605721124742,
          5.053073417504627,
          4.34907675864391,
          4.483470400693118,
          4.625735543792541,
          4.471951145967757,
          4.340836857464183,
          5.021355422397427,
          4.415689284968005,
          4.1711087599884085,
          4.157942581300622,
          4.692012390337107,
          4.218232790809028,
          4.968597479325352,
          4.7985491744862845,
          4.455885322218423,
          4.640721083163408,
          4.229502749181458,
          4.67210870663118,
          4.630498974070358,
          4.887487463662591,
          4.834535208124073,
          4.653833492176141,
          4.234045405378721
         ],
         "xaxis": "x2",
         "yaxis": "y2"
        }
       ],
       "frames": [],
       "layout": {
        "annotations": [],
        "margin": {
         "b": 50,
         "l": 50,
         "r": 50,
         "t": 60
        },
        "template": {
         "data": {
          "bar": [
           {
            "error_x": {
             "color": "#2a3f5f"
            },
            "error_y": {
             "color": "#2a3f5f"
            },
            "marker": {
             "line": {
              "color": "#E5ECF6",
              "width": 0.5
             }
            },
            "type": "bar"
           }
          ],
          "barpolar": [
           {
            "marker": {
             "line": {
              "color": "#E5ECF6",
              "width": 0.5
             }
            },
            "type": "barpolar"
           }
          ],
          "carpet": [
           {
            "aaxis": {
             "endlinecolor": "#2a3f5f",
             "gridcolor": "white",
             "linecolor": "white",
             "minorgridcolor": "white",
             "startlinecolor": "#2a3f5f"
            },
            "baxis": {
             "endlinecolor": "#2a3f5f",
             "gridcolor": "white",
             "linecolor": "white",
             "minorgridcolor": "white",
             "startlinecolor": "#2a3f5f"
            },
            "type": "carpet"
           }
          ],
          "choropleth": [
           {
            "colorbar": {
             "outlinewidth": 0,
             "ticks": ""
            },
            "type": "choropleth"
           }
          ],
          "contour": [
           {
            "colorbar": {
             "outlinewidth": 0,
             "ticks": ""
            },
            "colorscale": [
             [
              0,
              "#0d0887"
             ],
             [
              0.1111111111111111,
              "#46039f"
             ],
             [
              0.2222222222222222,
              "#7201a8"
             ],
             [
              0.3333333333333333,
              "#9c179e"
             ],
             [
              0.4444444444444444,
              "#bd3786"
             ],
             [
              0.5555555555555556,
              "#d8576b"
             ],
             [
              0.6666666666666666,
              "#ed7953"
             ],
             [
              0.7777777777777778,
              "#fb9f3a"
             ],
             [
              0.8888888888888888,
              "#fdca26"
             ],
             [
              1,
              "#f0f921"
             ]
            ],
            "type": "contour"
           }
          ],
          "contourcarpet": [
           {
            "colorbar": {
             "outlinewidth": 0,
             "ticks": ""
            },
            "type": "contourcarpet"
           }
          ],
          "heatmap": [
           {
            "colorbar": {
             "outlinewidth": 0,
             "ticks": ""
            },
            "colorscale": [
             [
              0,
              "#0d0887"
             ],
             [
              0.1111111111111111,
              "#46039f"
             ],
             [
              0.2222222222222222,
              "#7201a8"
             ],
             [
              0.3333333333333333,
              "#9c179e"
             ],
             [
              0.4444444444444444,
              "#bd3786"
             ],
             [
              0.5555555555555556,
              "#d8576b"
             ],
             [
              0.6666666666666666,
              "#ed7953"
             ],
             [
              0.7777777777777778,
              "#fb9f3a"
             ],
             [
              0.8888888888888888,
              "#fdca26"
             ],
             [
              1,
              "#f0f921"
             ]
            ],
            "type": "heatmap"
           }
          ],
          "heatmapgl": [
           {
            "colorbar": {
             "outlinewidth": 0,
             "ticks": ""
            },
            "colorscale": [
             [
              0,
              "#0d0887"
             ],
             [
              0.1111111111111111,
              "#46039f"
             ],
             [
              0.2222222222222222,
              "#7201a8"
             ],
             [
              0.3333333333333333,
              "#9c179e"
             ],
             [
              0.4444444444444444,
              "#bd3786"
             ],
             [
              0.5555555555555556,
              "#d8576b"
             ],
             [
              0.6666666666666666,
              "#ed7953"
             ],
             [
              0.7777777777777778,
              "#fb9f3a"
             ],
             [
              0.8888888888888888,
              "#fdca26"
             ],
             [
              1,
              "#f0f921"
             ]
            ],
            "type": "heatmapgl"
           }
          ],
          "histogram": [
           {
            "marker": {
             "colorbar": {
              "outlinewidth": 0,
              "ticks": ""
             }
            },
            "type": "histogram"
           }
          ],
          "histogram2d": [
           {
            "colorbar": {
             "outlinewidth": 0,
             "ticks": ""
            },
            "colorscale": [
             [
              0,
              "#0d0887"
             ],
             [
              0.1111111111111111,
              "#46039f"
             ],
             [
              0.2222222222222222,
              "#7201a8"
             ],
             [
              0.3333333333333333,
              "#9c179e"
             ],
             [
              0.4444444444444444,
              "#bd3786"
             ],
             [
              0.5555555555555556,
              "#d8576b"
             ],
             [
              0.6666666666666666,
              "#ed7953"
             ],
             [
              0.7777777777777778,
              "#fb9f3a"
             ],
             [
              0.8888888888888888,
              "#fdca26"
             ],
             [
              1,
              "#f0f921"
             ]
            ],
            "type": "histogram2d"
           }
          ],
          "histogram2dcontour": [
           {
            "colorbar": {
             "outlinewidth": 0,
             "ticks": ""
            },
            "colorscale": [
             [
              0,
              "#0d0887"
             ],
             [
              0.1111111111111111,
              "#46039f"
             ],
             [
              0.2222222222222222,
              "#7201a8"
             ],
             [
              0.3333333333333333,
              "#9c179e"
             ],
             [
              0.4444444444444444,
              "#bd3786"
             ],
             [
              0.5555555555555556,
              "#d8576b"
             ],
             [
              0.6666666666666666,
              "#ed7953"
             ],
             [
              0.7777777777777778,
              "#fb9f3a"
             ],
             [
              0.8888888888888888,
              "#fdca26"
             ],
             [
              1,
              "#f0f921"
             ]
            ],
            "type": "histogram2dcontour"
           }
          ],
          "mesh3d": [
           {
            "colorbar": {
             "outlinewidth": 0,
             "ticks": ""
            },
            "type": "mesh3d"
           }
          ],
          "parcoords": [
           {
            "line": {
             "colorbar": {
              "outlinewidth": 0,
              "ticks": ""
             }
            },
            "type": "parcoords"
           }
          ],
          "pie": [
           {
            "automargin": true,
            "type": "pie"
           }
          ],
          "scatter": [
           {
            "marker": {
             "colorbar": {
              "outlinewidth": 0,
              "ticks": ""
             }
            },
            "type": "scatter"
           }
          ],
          "scatter3d": [
           {
            "line": {
             "colorbar": {
              "outlinewidth": 0,
              "ticks": ""
             }
            },
            "marker": {
             "colorbar": {
              "outlinewidth": 0,
              "ticks": ""
             }
            },
            "type": "scatter3d"
           }
          ],
          "scattercarpet": [
           {
            "marker": {
             "colorbar": {
              "outlinewidth": 0,
              "ticks": ""
             }
            },
            "type": "scattercarpet"
           }
          ],
          "scattergeo": [
           {
            "marker": {
             "colorbar": {
              "outlinewidth": 0,
              "ticks": ""
             }
            },
            "type": "scattergeo"
           }
          ],
          "scattergl": [
           {
            "marker": {
             "colorbar": {
              "outlinewidth": 0,
              "ticks": ""
             }
            },
            "type": "scattergl"
           }
          ],
          "scattermapbox": [
           {
            "marker": {
             "colorbar": {
              "outlinewidth": 0,
              "ticks": ""
             }
            },
            "type": "scattermapbox"
           }
          ],
          "scatterpolar": [
           {
            "marker": {
             "colorbar": {
              "outlinewidth": 0,
              "ticks": ""
             }
            },
            "type": "scatterpolar"
           }
          ],
          "scatterpolargl": [
           {
            "marker": {
             "colorbar": {
              "outlinewidth": 0,
              "ticks": ""
             }
            },
            "type": "scatterpolargl"
           }
          ],
          "scatterternary": [
           {
            "marker": {
             "colorbar": {
              "outlinewidth": 0,
              "ticks": ""
             }
            },
            "type": "scatterternary"
           }
          ],
          "surface": [
           {
            "colorbar": {
             "outlinewidth": 0,
             "ticks": ""
            },
            "colorscale": [
             [
              0,
              "#0d0887"
             ],
             [
              0.1111111111111111,
              "#46039f"
             ],
             [
              0.2222222222222222,
              "#7201a8"
             ],
             [
              0.3333333333333333,
              "#9c179e"
             ],
             [
              0.4444444444444444,
              "#bd3786"
             ],
             [
              0.5555555555555556,
              "#d8576b"
             ],
             [
              0.6666666666666666,
              "#ed7953"
             ],
             [
              0.7777777777777778,
              "#fb9f3a"
             ],
             [
              0.8888888888888888,
              "#fdca26"
             ],
             [
              1,
              "#f0f921"
             ]
            ],
            "type": "surface"
           }
          ],
          "table": [
           {
            "cells": {
             "fill": {
              "color": "#EBF0F8"
             },
             "line": {
              "color": "white"
             }
            },
            "header": {
             "fill": {
              "color": "#C8D4E3"
             },
             "line": {
              "color": "white"
             }
            },
            "type": "table"
           }
          ]
         },
         "layout": {
          "annotationdefaults": {
           "arrowcolor": "#2a3f5f",
           "arrowhead": 0,
           "arrowwidth": 1
          },
          "autotypenumbers": "strict",
          "coloraxis": {
           "colorbar": {
            "outlinewidth": 0,
            "ticks": ""
           }
          },
          "colorscale": {
           "diverging": [
            [
             0,
             "#8e0152"
            ],
            [
             0.1,
             "#c51b7d"
            ],
            [
             0.2,
             "#de77ae"
            ],
            [
             0.3,
             "#f1b6da"
            ],
            [
             0.4,
             "#fde0ef"
            ],
            [
             0.5,
             "#f7f7f7"
            ],
            [
             0.6,
             "#e6f5d0"
            ],
            [
             0.7,
             "#b8e186"
            ],
            [
             0.8,
             "#7fbc41"
            ],
            [
             0.9,
             "#4d9221"
            ],
            [
             1,
             "#276419"
            ]
           ],
           "sequential": [
            [
             0,
             "#0d0887"
            ],
            [
             0.1111111111111111,
             "#46039f"
            ],
            [
             0.2222222222222222,
             "#7201a8"
            ],
            [
             0.3333333333333333,
             "#9c179e"
            ],
            [
             0.4444444444444444,
             "#bd3786"
            ],
            [
             0.5555555555555556,
             "#d8576b"
            ],
            [
             0.6666666666666666,
             "#ed7953"
            ],
            [
             0.7777777777777778,
             "#fb9f3a"
            ],
            [
             0.8888888888888888,
             "#fdca26"
            ],
            [
             1,
             "#f0f921"
            ]
           ],
           "sequentialminus": [
            [
             0,
             "#0d0887"
            ],
            [
             0.1111111111111111,
             "#46039f"
            ],
            [
             0.2222222222222222,
             "#7201a8"
            ],
            [
             0.3333333333333333,
             "#9c179e"
            ],
            [
             0.4444444444444444,
             "#bd3786"
            ],
            [
             0.5555555555555556,
             "#d8576b"
            ],
            [
             0.6666666666666666,
             "#ed7953"
            ],
            [
             0.7777777777777778,
             "#fb9f3a"
            ],
            [
             0.8888888888888888,
             "#fdca26"
            ],
            [
             1,
             "#f0f921"
            ]
           ]
          },
          "colorway": [
           "#636efa",
           "#EF553B",
           "#00cc96",
           "#ab63fa",
           "#FFA15A",
           "#19d3f3",
           "#FF6692",
           "#B6E880",
           "#FF97FF",
           "#FECB52"
          ],
          "font": {
           "color": "#2a3f5f"
          },
          "geo": {
           "bgcolor": "white",
           "lakecolor": "white",
           "landcolor": "#E5ECF6",
           "showlakes": true,
           "showland": true,
           "subunitcolor": "white"
          },
          "hoverlabel": {
           "align": "left"
          },
          "hovermode": "closest",
          "mapbox": {
           "style": "light"
          },
          "paper_bgcolor": "white",
          "plot_bgcolor": "#E5ECF6",
          "polar": {
           "angularaxis": {
            "gridcolor": "white",
            "linecolor": "white",
            "ticks": ""
           },
           "bgcolor": "#E5ECF6",
           "radialaxis": {
            "gridcolor": "white",
            "linecolor": "white",
            "ticks": ""
           }
          },
          "scene": {
           "xaxis": {
            "backgroundcolor": "#E5ECF6",
            "gridcolor": "white",
            "gridwidth": 2,
            "linecolor": "white",
            "showbackground": true,
            "ticks": "",
            "zerolinecolor": "white"
           },
           "yaxis": {
            "backgroundcolor": "#E5ECF6",
            "gridcolor": "white",
            "gridwidth": 2,
            "linecolor": "white",
            "showbackground": true,
            "ticks": "",
            "zerolinecolor": "white"
           },
           "zaxis": {
            "backgroundcolor": "#E5ECF6",
            "gridcolor": "white",
            "gridwidth": 2,
            "linecolor": "white",
            "showbackground": true,
            "ticks": "",
            "zerolinecolor": "white"
           }
          },
          "shapedefaults": {
           "line": {
            "color": "#2a3f5f"
           }
          },
          "ternary": {
           "aaxis": {
            "gridcolor": "white",
            "linecolor": "white",
            "ticks": ""
           },
           "baxis": {
            "gridcolor": "white",
            "linecolor": "white",
            "ticks": ""
           },
           "bgcolor": "#E5ECF6",
           "caxis": {
            "gridcolor": "white",
            "linecolor": "white",
            "ticks": ""
           }
          },
          "title": {
           "x": 0.05
          },
          "xaxis": {
           "automargin": true,
           "gridcolor": "white",
           "linecolor": "white",
           "ticks": "",
           "title": {
            "standoff": 15
           },
           "zerolinecolor": "white",
           "zerolinewidth": 2
          },
          "yaxis": {
           "automargin": true,
           "gridcolor": "white",
           "linecolor": "white",
           "ticks": "",
           "title": {
            "standoff": 15
           },
           "zerolinecolor": "white",
           "zerolinewidth": 2
          }
         }
        },
        "xaxis": {
         "anchor": "y",
         "domain": [
          0,
          0.45
         ]
        },
        "xaxis2": {
         "anchor": "y2",
         "domain": [
          0.55,
          1
         ]
        },
        "yaxis": {
         "anchor": "x",
         "domain": [
          0,
          1
         ]
        },
        "yaxis2": {
         "anchor": "x2",
         "domain": [
          0,
          1
         ]
        }
       }
      },
      "text/html": [
       "<div\n",
       "    class=\"webio-mountpoint\"\n",
       "    data-webio-mountpoint=\"458262138516503939\"\n",
       ">\n",
       "    <script>\n",
       "    (function(){\n",
       "    // Some integrations (namely, IJulia/Jupyter) use an alternate render pathway than\n",
       "    // just putting the html on the page. If WebIO isn't defined, then it's pretty likely\n",
       "    // that we're in one of those situations and the integration just isn't installed\n",
       "    // correctly.\n",
       "    if (typeof window.WebIO === \"undefined\") {\n",
       "        document\n",
       "            .querySelector('[data-webio-mountpoint=\"458262138516503939\"]')\n",
       "            .innerHTML = (\n",
       "                '<div style=\"padding: 1em; background-color: #f8d6da; border: 1px solid #f5c6cb; font-weight: bold;\">' +\n",
       "                '<p><strong>WebIO not detected.</strong></p>' +\n",
       "                '<p>Please read ' +\n",
       "                '<a href=\"https://juliagizmos.github.io/WebIO.jl/latest/troubleshooting/not-detected/\" target=\"_blank\">the troubleshooting guide</a> ' +\n",
       "                'for more information on how to resolve this issue.</p>' +\n",
       "                '<p><a href=\"https://juliagizmos.github.io/WebIO.jl/latest/troubleshooting/not-detected/\" target=\"_blank\">https://juliagizmos.github.io/WebIO.jl/latest/troubleshooting/not-detected/</a></p>' +\n",
       "                '</div>'\n",
       "            );\n",
       "        return;\n",
       "    }\n",
       "    WebIO.mount(\n",
       "        document.querySelector('[data-webio-mountpoint=\"458262138516503939\"]'),\n",
       "        {\"props\":{},\"nodeType\":\"Scope\",\"type\":\"node\",\"instanceArgs\":{\"imports\":{\"data\":[{\"name\":\"Plotly\",\"type\":\"js\",\"url\":\"\\/assetserver\\/4861d8d94a0e0c978a829bbb7ecb4a82568c2192-plotly.min.js\"},{\"name\":null,\"type\":\"js\",\"url\":\"\\/assetserver\\/000f7c658f0d87642576025e48ddde58b908ff32-plotly_webio.bundle.js\"}],\"type\":\"async_block\"},\"id\":\"4141289331107736784\",\"handlers\":{\"_toImage\":[\"(function (options){return this.Plotly.toImage(this.plotElem,options).then((function (data){return WebIO.setval({\\\"name\\\":\\\"image\\\",\\\"scope\\\":\\\"4141289331107736784\\\",\\\"id\\\":\\\"8420363051200022595\\\",\\\"type\\\":\\\"observable\\\"},data)}))})\"],\"__get_gd_contents\":[\"(function (prop){prop==\\\"data\\\" ? (WebIO.setval({\\\"name\\\":\\\"__gd_contents\\\",\\\"scope\\\":\\\"4141289331107736784\\\",\\\"id\\\":\\\"10670082529803584223\\\",\\\"type\\\":\\\"observable\\\"},this.plotElem.data)) : undefined; return prop==\\\"layout\\\" ? (WebIO.setval({\\\"name\\\":\\\"__gd_contents\\\",\\\"scope\\\":\\\"4141289331107736784\\\",\\\"id\\\":\\\"10670082529803584223\\\",\\\"type\\\":\\\"observable\\\"},this.plotElem.layout)) : undefined})\"],\"_downloadImage\":[\"(function (options){return this.Plotly.downloadImage(this.plotElem,options)})\"],\"_commands\":[\"(function (args){var fn=args.shift(); var elem=this.plotElem; var Plotly=this.Plotly; args.unshift(elem); return Plotly[fn].apply(this,args)})\"]},\"systemjs_options\":null,\"mount_callbacks\":[\"function () {\\n    var handler = ((function (Plotly,PlotlyWebIO){PlotlyWebIO.init(WebIO); var gd=this.dom.querySelector(\\\"#plot-131a4bf2-591a-4e6f-a3ec-6ee93a79f9f4\\\"); this.plotElem=gd; this.Plotly=Plotly; (window.Blink!==undefined) ? (gd.style.width=\\\"100%\\\", gd.style.height=\\\"100vh\\\", gd.style.marginLeft=\\\"0%\\\", gd.style.marginTop=\\\"0vh\\\") : undefined; window.onresize=(function (){return Plotly.Plots.resize(gd)}); Plotly.newPlot(gd,[],{\\\"xaxis\\\":{\\\"domain\\\":[0.0,0.45],\\\"anchor\\\":\\\"y\\\"},\\\"xaxis2\\\":{\\\"domain\\\":[0.55,1.0],\\\"anchor\\\":\\\"y2\\\"},\\\"template\\\":{\\\"layout\\\":{\\\"coloraxis\\\":{\\\"colorbar\\\":{\\\"ticks\\\":\\\"\\\",\\\"outlinewidth\\\":0}},\\\"xaxis\\\":{\\\"gridcolor\\\":\\\"white\\\",\\\"zerolinewidth\\\":2,\\\"title\\\":{\\\"standoff\\\":15},\\\"ticks\\\":\\\"\\\",\\\"zerolinecolor\\\":\\\"white\\\",\\\"automargin\\\":true,\\\"linecolor\\\":\\\"white\\\"},\\\"hovermode\\\":\\\"closest\\\",\\\"paper_bgcolor\\\":\\\"white\\\",\\\"geo\\\":{\\\"showlakes\\\":true,\\\"showland\\\":true,\\\"landcolor\\\":\\\"#E5ECF6\\\",\\\"bgcolor\\\":\\\"white\\\",\\\"subunitcolor\\\":\\\"white\\\",\\\"lakecolor\\\":\\\"white\\\"},\\\"colorscale\\\":{\\\"sequential\\\":[[0.0,\\\"#0d0887\\\"],[0.1111111111111111,\\\"#46039f\\\"],[0.2222222222222222,\\\"#7201a8\\\"],[0.3333333333333333,\\\"#9c179e\\\"],[0.4444444444444444,\\\"#bd3786\\\"],[0.5555555555555556,\\\"#d8576b\\\"],[0.6666666666666666,\\\"#ed7953\\\"],[0.7777777777777778,\\\"#fb9f3a\\\"],[0.8888888888888888,\\\"#fdca26\\\"],[1.0,\\\"#f0f921\\\"]],\\\"diverging\\\":[[0,\\\"#8e0152\\\"],[0.1,\\\"#c51b7d\\\"],[0.2,\\\"#de77ae\\\"],[0.3,\\\"#f1b6da\\\"],[0.4,\\\"#fde0ef\\\"],[0.5,\\\"#f7f7f7\\\"],[0.6,\\\"#e6f5d0\\\"],[0.7,\\\"#b8e186\\\"],[0.8,\\\"#7fbc41\\\"],[0.9,\\\"#4d9221\\\"],[1,\\\"#276419\\\"]],\\\"sequentialminus\\\":[[0.0,\\\"#0d0887\\\"],[0.1111111111111111,\\\"#46039f\\\"],[0.2222222222222222,\\\"#7201a8\\\"],[0.3333333333333333,\\\"#9c179e\\\"],[0.4444444444444444,\\\"#bd3786\\\"],[0.5555555555555556,\\\"#d8576b\\\"],[0.6666666666666666,\\\"#ed7953\\\"],[0.7777777777777778,\\\"#fb9f3a\\\"],[0.8888888888888888,\\\"#fdca26\\\"],[1.0,\\\"#f0f921\\\"]]},\\\"yaxis\\\":{\\\"gridcolor\\\":\\\"white\\\",\\\"zerolinewidth\\\":2,\\\"title\\\":{\\\"standoff\\\":15},\\\"ticks\\\":\\\"\\\",\\\"zerolinecolor\\\":\\\"white\\\",\\\"automargin\\\":true,\\\"linecolor\\\":\\\"white\\\"},\\\"shapedefaults\\\":{\\\"line\\\":{\\\"color\\\":\\\"#2a3f5f\\\"}},\\\"hoverlabel\\\":{\\\"align\\\":\\\"left\\\"},\\\"mapbox\\\":{\\\"style\\\":\\\"light\\\"},\\\"polar\\\":{\\\"angularaxis\\\":{\\\"gridcolor\\\":\\\"white\\\",\\\"ticks\\\":\\\"\\\",\\\"linecolor\\\":\\\"white\\\"},\\\"bgcolor\\\":\\\"#E5ECF6\\\",\\\"radialaxis\\\":{\\\"gridcolor\\\":\\\"white\\\",\\\"ticks\\\":\\\"\\\",\\\"linecolor\\\":\\\"white\\\"}},\\\"autotypenumbers\\\":\\\"strict\\\",\\\"font\\\":{\\\"color\\\":\\\"#2a3f5f\\\"},\\\"ternary\\\":{\\\"baxis\\\":{\\\"gridcolor\\\":\\\"white\\\",\\\"ticks\\\":\\\"\\\",\\\"linecolor\\\":\\\"white\\\"},\\\"bgcolor\\\":\\\"#E5ECF6\\\",\\\"caxis\\\":{\\\"gridcolor\\\":\\\"white\\\",\\\"ticks\\\":\\\"\\\",\\\"linecolor\\\":\\\"white\\\"},\\\"aaxis\\\":{\\\"gridcolor\\\":\\\"white\\\",\\\"ticks\\\":\\\"\\\",\\\"linecolor\\\":\\\"white\\\"}},\\\"annotationdefaults\\\":{\\\"arrowhead\\\":0,\\\"arrowwidth\\\":1,\\\"arrowcolor\\\":\\\"#2a3f5f\\\"},\\\"plot_bgcolor\\\":\\\"#E5ECF6\\\",\\\"title\\\":{\\\"x\\\":0.05},\\\"scene\\\":{\\\"xaxis\\\":{\\\"gridcolor\\\":\\\"white\\\",\\\"gridwidth\\\":2,\\\"backgroundcolor\\\":\\\"#E5ECF6\\\",\\\"ticks\\\":\\\"\\\",\\\"showbackground\\\":true,\\\"zerolinecolor\\\":\\\"white\\\",\\\"linecolor\\\":\\\"white\\\"},\\\"zaxis\\\":{\\\"gridcolor\\\":\\\"white\\\",\\\"gridwidth\\\":2,\\\"backgroundcolor\\\":\\\"#E5ECF6\\\",\\\"ticks\\\":\\\"\\\",\\\"showbackground\\\":true,\\\"zerolinecolor\\\":\\\"white\\\",\\\"linecolor\\\":\\\"white\\\"},\\\"yaxis\\\":{\\\"gridcolor\\\":\\\"white\\\",\\\"gridwidth\\\":2,\\\"backgroundcolor\\\":\\\"#E5ECF6\\\",\\\"ticks\\\":\\\"\\\",\\\"showbackground\\\":true,\\\"zerolinecolor\\\":\\\"white\\\",\\\"linecolor\\\":\\\"white\\\"}},\\\"colorway\\\":[\\\"#636efa\\\",\\\"#EF553B\\\",\\\"#00cc96\\\",\\\"#ab63fa\\\",\\\"#FFA15A\\\",\\\"#19d3f3\\\",\\\"#FF6692\\\",\\\"#B6E880\\\",\\\"#FF97FF\\\",\\\"#FECB52\\\"]},\\\"data\\\":{\\\"barpolar\\\":[{\\\"type\\\":\\\"barpolar\\\",\\\"marker\\\":{\\\"line\\\":{\\\"color\\\":\\\"#E5ECF6\\\",\\\"width\\\":0.5}}}],\\\"carpet\\\":[{\\\"aaxis\\\":{\\\"gridcolor\\\":\\\"white\\\",\\\"endlinecolor\\\":\\\"#2a3f5f\\\",\\\"minorgridcolor\\\":\\\"white\\\",\\\"startlinecolor\\\":\\\"#2a3f5f\\\",\\\"linecolor\\\":\\\"white\\\"},\\\"type\\\":\\\"carpet\\\",\\\"baxis\\\":{\\\"gridcolor\\\":\\\"white\\\",\\\"endlinecolor\\\":\\\"#2a3f5f\\\",\\\"minorgridcolor\\\":\\\"white\\\",\\\"startlinecolor\\\":\\\"#2a3f5f\\\",\\\"linecolor\\\":\\\"white\\\"}}],\\\"scatterpolar\\\":[{\\\"type\\\":\\\"scatterpolar\\\",\\\"marker\\\":{\\\"colorbar\\\":{\\\"ticks\\\":\\\"\\\",\\\"outlinewidth\\\":0}}}],\\\"parcoords\\\":[{\\\"line\\\":{\\\"colorbar\\\":{\\\"ticks\\\":\\\"\\\",\\\"outlinewidth\\\":0}},\\\"type\\\":\\\"parcoords\\\"}],\\\"scatter\\\":[{\\\"type\\\":\\\"scatter\\\",\\\"marker\\\":{\\\"colorbar\\\":{\\\"ticks\\\":\\\"\\\",\\\"outlinewidth\\\":0}}}],\\\"histogram2dcontour\\\":[{\\\"colorbar\\\":{\\\"ticks\\\":\\\"\\\",\\\"outlinewidth\\\":0},\\\"type\\\":\\\"histogram2dcontour\\\",\\\"colorscale\\\":[[0.0,\\\"#0d0887\\\"],[0.1111111111111111,\\\"#46039f\\\"],[0.2222222222222222,\\\"#7201a8\\\"],[0.3333333333333333,\\\"#9c179e\\\"],[0.4444444444444444,\\\"#bd3786\\\"],[0.5555555555555556,\\\"#d8576b\\\"],[0.6666666666666666,\\\"#ed7953\\\"],[0.7777777777777778,\\\"#fb9f3a\\\"],[0.8888888888888888,\\\"#fdca26\\\"],[1.0,\\\"#f0f921\\\"]]}],\\\"contour\\\":[{\\\"colorbar\\\":{\\\"ticks\\\":\\\"\\\",\\\"outlinewidth\\\":0},\\\"type\\\":\\\"contour\\\",\\\"colorscale\\\":[[0.0,\\\"#0d0887\\\"],[0.1111111111111111,\\\"#46039f\\\"],[0.2222222222222222,\\\"#7201a8\\\"],[0.3333333333333333,\\\"#9c179e\\\"],[0.4444444444444444,\\\"#bd3786\\\"],[0.5555555555555556,\\\"#d8576b\\\"],[0.6666666666666666,\\\"#ed7953\\\"],[0.7777777777777778,\\\"#fb9f3a\\\"],[0.8888888888888888,\\\"#fdca26\\\"],[1.0,\\\"#f0f921\\\"]]}],\\\"scattercarpet\\\":[{\\\"type\\\":\\\"scattercarpet\\\",\\\"marker\\\":{\\\"colorbar\\\":{\\\"ticks\\\":\\\"\\\",\\\"outlinewidth\\\":0}}}],\\\"mesh3d\\\":[{\\\"colorbar\\\":{\\\"ticks\\\":\\\"\\\",\\\"outlinewidth\\\":0},\\\"type\\\":\\\"mesh3d\\\"}],\\\"surface\\\":[{\\\"colorbar\\\":{\\\"ticks\\\":\\\"\\\",\\\"outlinewidth\\\":0},\\\"type\\\":\\\"surface\\\",\\\"colorscale\\\":[[0.0,\\\"#0d0887\\\"],[0.1111111111111111,\\\"#46039f\\\"],[0.2222222222222222,\\\"#7201a8\\\"],[0.3333333333333333,\\\"#9c179e\\\"],[0.4444444444444444,\\\"#bd3786\\\"],[0.5555555555555556,\\\"#d8576b\\\"],[0.6666666666666666,\\\"#ed7953\\\"],[0.7777777777777778,\\\"#fb9f3a\\\"],[0.8888888888888888,\\\"#fdca26\\\"],[1.0,\\\"#f0f921\\\"]]}],\\\"scattermapbox\\\":[{\\\"type\\\":\\\"scattermapbox\\\",\\\"marker\\\":{\\\"colorbar\\\":{\\\"ticks\\\":\\\"\\\",\\\"outlinewidth\\\":0}}}],\\\"scattergeo\\\":[{\\\"type\\\":\\\"scattergeo\\\",\\\"marker\\\":{\\\"colorbar\\\":{\\\"ticks\\\":\\\"\\\",\\\"outlinewidth\\\":0}}}],\\\"histogram\\\":[{\\\"type\\\":\\\"histogram\\\",\\\"marker\\\":{\\\"colorbar\\\":{\\\"ticks\\\":\\\"\\\",\\\"outlinewidth\\\":0}}}],\\\"pie\\\":[{\\\"type\\\":\\\"pie\\\",\\\"automargin\\\":true}],\\\"choropleth\\\":[{\\\"colorbar\\\":{\\\"ticks\\\":\\\"\\\",\\\"outlinewidth\\\":0},\\\"type\\\":\\\"choropleth\\\"}],\\\"heatmapgl\\\":[{\\\"colorbar\\\":{\\\"ticks\\\":\\\"\\\",\\\"outlinewidth\\\":0},\\\"type\\\":\\\"heatmapgl\\\",\\\"colorscale\\\":[[0.0,\\\"#0d0887\\\"],[0.1111111111111111,\\\"#46039f\\\"],[0.2222222222222222,\\\"#7201a8\\\"],[0.3333333333333333,\\\"#9c179e\\\"],[0.4444444444444444,\\\"#bd3786\\\"],[0.5555555555555556,\\\"#d8576b\\\"],[0.6666666666666666,\\\"#ed7953\\\"],[0.7777777777777778,\\\"#fb9f3a\\\"],[0.8888888888888888,\\\"#fdca26\\\"],[1.0,\\\"#f0f921\\\"]]}],\\\"bar\\\":[{\\\"type\\\":\\\"bar\\\",\\\"error_y\\\":{\\\"color\\\":\\\"#2a3f5f\\\"},\\\"error_x\\\":{\\\"color\\\":\\\"#2a3f5f\\\"},\\\"marker\\\":{\\\"line\\\":{\\\"color\\\":\\\"#E5ECF6\\\",\\\"width\\\":0.5}}}],\\\"heatmap\\\":[{\\\"colorbar\\\":{\\\"ticks\\\":\\\"\\\",\\\"outlinewidth\\\":0},\\\"type\\\":\\\"heatmap\\\",\\\"colorscale\\\":[[0.0,\\\"#0d0887\\\"],[0.1111111111111111,\\\"#46039f\\\"],[0.2222222222222222,\\\"#7201a8\\\"],[0.3333333333333333,\\\"#9c179e\\\"],[0.4444444444444444,\\\"#bd3786\\\"],[0.5555555555555556,\\\"#d8576b\\\"],[0.6666666666666666,\\\"#ed7953\\\"],[0.7777777777777778,\\\"#fb9f3a\\\"],[0.8888888888888888,\\\"#fdca26\\\"],[1.0,\\\"#f0f921\\\"]]}],\\\"contourcarpet\\\":[{\\\"colorbar\\\":{\\\"ticks\\\":\\\"\\\",\\\"outlinewidth\\\":0},\\\"type\\\":\\\"contourcarpet\\\"}],\\\"table\\\":[{\\\"type\\\":\\\"table\\\",\\\"header\\\":{\\\"line\\\":{\\\"color\\\":\\\"white\\\"},\\\"fill\\\":{\\\"color\\\":\\\"#C8D4E3\\\"}},\\\"cells\\\":{\\\"line\\\":{\\\"color\\\":\\\"white\\\"},\\\"fill\\\":{\\\"color\\\":\\\"#EBF0F8\\\"}}}],\\\"scatter3d\\\":[{\\\"line\\\":{\\\"colorbar\\\":{\\\"ticks\\\":\\\"\\\",\\\"outlinewidth\\\":0}},\\\"type\\\":\\\"scatter3d\\\",\\\"marker\\\":{\\\"colorbar\\\":{\\\"ticks\\\":\\\"\\\",\\\"outlinewidth\\\":0}}}],\\\"scattergl\\\":[{\\\"type\\\":\\\"scattergl\\\",\\\"marker\\\":{\\\"colorbar\\\":{\\\"ticks\\\":\\\"\\\",\\\"outlinewidth\\\":0}}}],\\\"histogram2d\\\":[{\\\"colorbar\\\":{\\\"ticks\\\":\\\"\\\",\\\"outlinewidth\\\":0},\\\"type\\\":\\\"histogram2d\\\",\\\"colorscale\\\":[[0.0,\\\"#0d0887\\\"],[0.1111111111111111,\\\"#46039f\\\"],[0.2222222222222222,\\\"#7201a8\\\"],[0.3333333333333333,\\\"#9c179e\\\"],[0.4444444444444444,\\\"#bd3786\\\"],[0.5555555555555556,\\\"#d8576b\\\"],[0.6666666666666666,\\\"#ed7953\\\"],[0.7777777777777778,\\\"#fb9f3a\\\"],[0.8888888888888888,\\\"#fdca26\\\"],[1.0,\\\"#f0f921\\\"]]}],\\\"scatterternary\\\":[{\\\"type\\\":\\\"scatterternary\\\",\\\"marker\\\":{\\\"colorbar\\\":{\\\"ticks\\\":\\\"\\\",\\\"outlinewidth\\\":0}}}],\\\"scatterpolargl\\\":[{\\\"type\\\":\\\"scatterpolargl\\\",\\\"marker\\\":{\\\"colorbar\\\":{\\\"ticks\\\":\\\"\\\",\\\"outlinewidth\\\":0}}}]}},\\\"annotations\\\":[],\\\"margin\\\":{\\\"l\\\":50,\\\"b\\\":50,\\\"r\\\":50,\\\"t\\\":60},\\\"yaxis\\\":{\\\"domain\\\":[0.0,1.0],\\\"anchor\\\":\\\"x\\\"},\\\"yaxis2\\\":{\\\"domain\\\":[0.0,1.0],\\\"anchor\\\":\\\"x2\\\"}},{\\\"showLink\\\":false,\\\"editable\\\":false,\\\"responsive\\\":true,\\\"staticPlot\\\":false,\\\"scrollZoom\\\":true}); gd.on(\\\"plotly_hover\\\",(function (data){var filtered_data=WebIO.PlotlyCommands.filterEventData(gd,data,\\\"hover\\\"); return !(filtered_data.isnil) ? (WebIO.setval({\\\"name\\\":\\\"hover\\\",\\\"scope\\\":\\\"4141289331107736784\\\",\\\"id\\\":\\\"12801325638287013124\\\",\\\"type\\\":\\\"observable\\\"},filtered_data.out)) : undefined})); gd.on(\\\"plotly_unhover\\\",(function (){return WebIO.setval({\\\"name\\\":\\\"hover\\\",\\\"scope\\\":\\\"4141289331107736784\\\",\\\"id\\\":\\\"12801325638287013124\\\",\\\"type\\\":\\\"observable\\\"},{})})); gd.on(\\\"plotly_selected\\\",(function (data){var filtered_data=WebIO.PlotlyCommands.filterEventData(gd,data,\\\"selected\\\"); return !(filtered_data.isnil) ? (WebIO.setval({\\\"name\\\":\\\"selected\\\",\\\"scope\\\":\\\"4141289331107736784\\\",\\\"id\\\":\\\"9006495047924765087\\\",\\\"type\\\":\\\"observable\\\"},filtered_data.out)) : undefined})); gd.on(\\\"plotly_deselect\\\",(function (){return WebIO.setval({\\\"name\\\":\\\"selected\\\",\\\"scope\\\":\\\"4141289331107736784\\\",\\\"id\\\":\\\"9006495047924765087\\\",\\\"type\\\":\\\"observable\\\"},{})})); gd.on(\\\"plotly_relayout\\\",(function (data){var filtered_data=WebIO.PlotlyCommands.filterEventData(gd,data,\\\"relayout\\\"); return !(filtered_data.isnil) ? (WebIO.setval({\\\"name\\\":\\\"relayout\\\",\\\"scope\\\":\\\"4141289331107736784\\\",\\\"id\\\":\\\"6507059859161034876\\\",\\\"type\\\":\\\"observable\\\"},filtered_data.out)) : undefined})); return gd.on(\\\"plotly_click\\\",(function (data){var filtered_data=WebIO.PlotlyCommands.filterEventData(gd,data,\\\"click\\\"); return !(filtered_data.isnil) ? (WebIO.setval({\\\"name\\\":\\\"click\\\",\\\"scope\\\":\\\"4141289331107736784\\\",\\\"id\\\":\\\"10321999428430460374\\\",\\\"type\\\":\\\"observable\\\"},filtered_data.out)) : undefined}))}));\\n    (WebIO.importBlock({\\\"data\\\":[{\\\"name\\\":\\\"Plotly\\\",\\\"type\\\":\\\"js\\\",\\\"url\\\":\\\"\\/assetserver\\/4861d8d94a0e0c978a829bbb7ecb4a82568c2192-plotly.min.js\\\"},{\\\"name\\\":null,\\\"type\\\":\\\"js\\\",\\\"url\\\":\\\"\\/assetserver\\/000f7c658f0d87642576025e48ddde58b908ff32-plotly_webio.bundle.js\\\"}],\\\"type\\\":\\\"async_block\\\"})).then((imports) => handler.apply(this, imports));\\n}\\n\"],\"observables\":{\"_toImage\":{\"sync\":false,\"id\":\"12030693831546433737\",\"value\":{}},\"hover\":{\"sync\":false,\"id\":\"12801325638287013124\",\"value\":{}},\"selected\":{\"sync\":false,\"id\":\"9006495047924765087\",\"value\":{}},\"__gd_contents\":{\"sync\":false,\"id\":\"10670082529803584223\",\"value\":{}},\"click\":{\"sync\":false,\"id\":\"10321999428430460374\",\"value\":{}},\"image\":{\"sync\":true,\"id\":\"8420363051200022595\",\"value\":\"\"},\"__get_gd_contents\":{\"sync\":false,\"id\":\"14278661964219791771\",\"value\":\"\"},\"_downloadImage\":{\"sync\":false,\"id\":\"12612291418693790894\",\"value\":{}},\"relayout\":{\"sync\":false,\"id\":\"6507059859161034876\",\"value\":{}},\"_commands\":{\"sync\":false,\"id\":\"13957308647660350196\",\"value\":[\"react\",[{\"xaxis\":\"x\",\"type\":\"histogram\",\"name\":\"Orthogonal\",\"yaxis\":\"y\",\"nbinsx\":10,\"x\":[5.107568511046905,4.810213554825182,5.11407796786827,4.554206317456867,4.5368260948277666,4.016281581637555,4.4162323295889045,4.725310608452311,4.778511855634736,4.7740676775359026,4.326375455956674,4.337062693905456,4.662805533982922,4.579316457615695,4.403883892093606,4.913189197914348,4.162426852795552,5.212909276683741,4.9499866193590325,4.370675186321016,5.395696841921928,4.472005051071693,4.747743553007606,5.098312978105215,4.522514767093861,4.7369359606247485,4.659630731872146,4.963631817096158,4.257449019031438,4.925103832223292,4.881918728895795,4.962303303627427,3.7975693285800496,4.711783002335397,4.744128661633187,4.471951599525308,4.949542755285857,4.905192621155221,4.746828769010738,4.62412217845303,5.2201006210551535,4.495785433488641,5.593136288600802,4.335669672884047,4.928138836379012,4.55410970890571,4.742999129859509,4.652954414097198,4.6278343117728244,4.18471911930801]},{\"xaxis\":\"x2\",\"type\":\"histogram\",\"name\":\"Naive\",\"yaxis\":\"y2\",\"nbinsx\":10,\"x\":[4.567070150014072,4.730359576015885,4.839376694184348,4.526594264172206,4.791957626870241,4.819116763890307,4.530066035704268,4.711568184653146,4.689132884288875,4.908377828201319,4.578575871982487,4.22026869229555,4.98510521784622,4.350284350334943,4.995387818735469,4.591095163220315,4.619150324714862,4.477694929220629,4.343574795339128,4.462083679071092,5.123642111382798,4.534947358185479,4.2172225036226,4.513845739258639,4.277853554256551,4.632095226698355,4.807605721124742,5.053073417504627,4.34907675864391,4.483470400693118,4.625735543792541,4.471951145967757,4.340836857464183,5.021355422397427,4.415689284968005,4.1711087599884085,4.157942581300622,4.692012390337107,4.218232790809028,4.968597479325352,4.7985491744862845,4.455885322218423,4.640721083163408,4.229502749181458,4.67210870663118,4.630498974070358,4.887487463662591,4.834535208124073,4.653833492176141,4.234045405378721]}],{\"xaxis\":{\"domain\":[0.0,0.45],\"anchor\":\"y\"},\"xaxis2\":{\"domain\":[0.55,1.0],\"anchor\":\"y2\"},\"template\":{\"data\":{\"scatterpolargl\":[{\"type\":\"scatterpolargl\",\"marker\":{\"colorbar\":{\"ticks\":\"\",\"outlinewidth\":0}}}],\"carpet\":[{\"baxis\":{\"gridcolor\":\"white\",\"endlinecolor\":\"#2a3f5f\",\"minorgridcolor\":\"white\",\"startlinecolor\":\"#2a3f5f\",\"linecolor\":\"white\"},\"type\":\"carpet\",\"aaxis\":{\"gridcolor\":\"white\",\"endlinecolor\":\"#2a3f5f\",\"minorgridcolor\":\"white\",\"startlinecolor\":\"#2a3f5f\",\"linecolor\":\"white\"}}],\"scatterpolar\":[{\"type\":\"scatterpolar\",\"marker\":{\"colorbar\":{\"ticks\":\"\",\"outlinewidth\":0}}}],\"parcoords\":[{\"line\":{\"colorbar\":{\"ticks\":\"\",\"outlinewidth\":0}},\"type\":\"parcoords\"}],\"scatter\":[{\"type\":\"scatter\",\"marker\":{\"colorbar\":{\"ticks\":\"\",\"outlinewidth\":0}}}],\"histogram2dcontour\":[{\"colorbar\":{\"ticks\":\"\",\"outlinewidth\":0},\"type\":\"histogram2dcontour\",\"colorscale\":[[0.0,\"#0d0887\"],[0.1111111111111111,\"#46039f\"],[0.2222222222222222,\"#7201a8\"],[0.3333333333333333,\"#9c179e\"],[0.4444444444444444,\"#bd3786\"],[0.5555555555555556,\"#d8576b\"],[0.6666666666666666,\"#ed7953\"],[0.7777777777777778,\"#fb9f3a\"],[0.8888888888888888,\"#fdca26\"],[1.0,\"#f0f921\"]]}],\"contour\":[{\"colorbar\":{\"ticks\":\"\",\"outlinewidth\":0},\"type\":\"contour\",\"colorscale\":[[0.0,\"#0d0887\"],[0.1111111111111111,\"#46039f\"],[0.2222222222222222,\"#7201a8\"],[0.3333333333333333,\"#9c179e\"],[0.4444444444444444,\"#bd3786\"],[0.5555555555555556,\"#d8576b\"],[0.6666666666666666,\"#ed7953\"],[0.7777777777777778,\"#fb9f3a\"],[0.8888888888888888,\"#fdca26\"],[1.0,\"#f0f921\"]]}],\"scattercarpet\":[{\"type\":\"scattercarpet\",\"marker\":{\"colorbar\":{\"ticks\":\"\",\"outlinewidth\":0}}}],\"mesh3d\":[{\"colorbar\":{\"ticks\":\"\",\"outlinewidth\":0},\"type\":\"mesh3d\"}],\"surface\":[{\"colorbar\":{\"ticks\":\"\",\"outlinewidth\":0},\"type\":\"surface\",\"colorscale\":[[0.0,\"#0d0887\"],[0.1111111111111111,\"#46039f\"],[0.2222222222222222,\"#7201a8\"],[0.3333333333333333,\"#9c179e\"],[0.4444444444444444,\"#bd3786\"],[0.5555555555555556,\"#d8576b\"],[0.6666666666666666,\"#ed7953\"],[0.7777777777777778,\"#fb9f3a\"],[0.8888888888888888,\"#fdca26\"],[1.0,\"#f0f921\"]]}],\"scattermapbox\":[{\"type\":\"scattermapbox\",\"marker\":{\"colorbar\":{\"ticks\":\"\",\"outlinewidth\":0}}}],\"scattergeo\":[{\"type\":\"scattergeo\",\"marker\":{\"colorbar\":{\"ticks\":\"\",\"outlinewidth\":0}}}],\"histogram\":[{\"type\":\"histogram\",\"marker\":{\"colorbar\":{\"ticks\":\"\",\"outlinewidth\":0}}}],\"pie\":[{\"type\":\"pie\",\"automargin\":true}],\"choropleth\":[{\"colorbar\":{\"ticks\":\"\",\"outlinewidth\":0},\"type\":\"choropleth\"}],\"heatmapgl\":[{\"colorbar\":{\"ticks\":\"\",\"outlinewidth\":0},\"type\":\"heatmapgl\",\"colorscale\":[[0.0,\"#0d0887\"],[0.1111111111111111,\"#46039f\"],[0.2222222222222222,\"#7201a8\"],[0.3333333333333333,\"#9c179e\"],[0.4444444444444444,\"#bd3786\"],[0.5555555555555556,\"#d8576b\"],[0.6666666666666666,\"#ed7953\"],[0.7777777777777778,\"#fb9f3a\"],[0.8888888888888888,\"#fdca26\"],[1.0,\"#f0f921\"]]}],\"bar\":[{\"type\":\"bar\",\"error_y\":{\"color\":\"#2a3f5f\"},\"error_x\":{\"color\":\"#2a3f5f\"},\"marker\":{\"line\":{\"color\":\"#E5ECF6\",\"width\":0.5}}}],\"heatmap\":[{\"colorbar\":{\"ticks\":\"\",\"outlinewidth\":0},\"type\":\"heatmap\",\"colorscale\":[[0.0,\"#0d0887\"],[0.1111111111111111,\"#46039f\"],[0.2222222222222222,\"#7201a8\"],[0.3333333333333333,\"#9c179e\"],[0.4444444444444444,\"#bd3786\"],[0.5555555555555556,\"#d8576b\"],[0.6666666666666666,\"#ed7953\"],[0.7777777777777778,\"#fb9f3a\"],[0.8888888888888888,\"#fdca26\"],[1.0,\"#f0f921\"]]}],\"contourcarpet\":[{\"colorbar\":{\"ticks\":\"\",\"outlinewidth\":0},\"type\":\"contourcarpet\"}],\"table\":[{\"type\":\"table\",\"header\":{\"line\":{\"color\":\"white\"},\"fill\":{\"color\":\"#C8D4E3\"}},\"cells\":{\"line\":{\"color\":\"white\"},\"fill\":{\"color\":\"#EBF0F8\"}}}],\"scatter3d\":[{\"line\":{\"colorbar\":{\"ticks\":\"\",\"outlinewidth\":0}},\"type\":\"scatter3d\",\"marker\":{\"colorbar\":{\"ticks\":\"\",\"outlinewidth\":0}}}],\"scattergl\":[{\"type\":\"scattergl\",\"marker\":{\"colorbar\":{\"ticks\":\"\",\"outlinewidth\":0}}}],\"histogram2d\":[{\"colorbar\":{\"ticks\":\"\",\"outlinewidth\":0},\"type\":\"histogram2d\",\"colorscale\":[[0.0,\"#0d0887\"],[0.1111111111111111,\"#46039f\"],[0.2222222222222222,\"#7201a8\"],[0.3333333333333333,\"#9c179e\"],[0.4444444444444444,\"#bd3786\"],[0.5555555555555556,\"#d8576b\"],[0.6666666666666666,\"#ed7953\"],[0.7777777777777778,\"#fb9f3a\"],[0.8888888888888888,\"#fdca26\"],[1.0,\"#f0f921\"]]}],\"scatterternary\":[{\"type\":\"scatterternary\",\"marker\":{\"colorbar\":{\"ticks\":\"\",\"outlinewidth\":0}}}],\"barpolar\":[{\"type\":\"barpolar\",\"marker\":{\"line\":{\"color\":\"#E5ECF6\",\"width\":0.5}}}]},\"layout\":{\"xaxis\":{\"gridcolor\":\"white\",\"zerolinewidth\":2,\"title\":{\"standoff\":15},\"ticks\":\"\",\"zerolinecolor\":\"white\",\"automargin\":true,\"linecolor\":\"white\"},\"hovermode\":\"closest\",\"paper_bgcolor\":\"white\",\"geo\":{\"showlakes\":true,\"showland\":true,\"landcolor\":\"#E5ECF6\",\"bgcolor\":\"white\",\"subunitcolor\":\"white\",\"lakecolor\":\"white\"},\"colorscale\":{\"sequential\":[[0.0,\"#0d0887\"],[0.1111111111111111,\"#46039f\"],[0.2222222222222222,\"#7201a8\"],[0.3333333333333333,\"#9c179e\"],[0.4444444444444444,\"#bd3786\"],[0.5555555555555556,\"#d8576b\"],[0.6666666666666666,\"#ed7953\"],[0.7777777777777778,\"#fb9f3a\"],[0.8888888888888888,\"#fdca26\"],[1.0,\"#f0f921\"]],\"diverging\":[[0,\"#8e0152\"],[0.1,\"#c51b7d\"],[0.2,\"#de77ae\"],[0.3,\"#f1b6da\"],[0.4,\"#fde0ef\"],[0.5,\"#f7f7f7\"],[0.6,\"#e6f5d0\"],[0.7,\"#b8e186\"],[0.8,\"#7fbc41\"],[0.9,\"#4d9221\"],[1,\"#276419\"]],\"sequentialminus\":[[0.0,\"#0d0887\"],[0.1111111111111111,\"#46039f\"],[0.2222222222222222,\"#7201a8\"],[0.3333333333333333,\"#9c179e\"],[0.4444444444444444,\"#bd3786\"],[0.5555555555555556,\"#d8576b\"],[0.6666666666666666,\"#ed7953\"],[0.7777777777777778,\"#fb9f3a\"],[0.8888888888888888,\"#fdca26\"],[1.0,\"#f0f921\"]]},\"yaxis\":{\"gridcolor\":\"white\",\"zerolinewidth\":2,\"title\":{\"standoff\":15},\"ticks\":\"\",\"zerolinecolor\":\"white\",\"automargin\":true,\"linecolor\":\"white\"},\"shapedefaults\":{\"line\":{\"color\":\"#2a3f5f\"}},\"font\":{\"color\":\"#2a3f5f\"},\"annotationdefaults\":{\"arrowhead\":0,\"arrowwidth\":1,\"arrowcolor\":\"#2a3f5f\"},\"plot_bgcolor\":\"#E5ECF6\",\"title\":{\"x\":0.05},\"coloraxis\":{\"colorbar\":{\"ticks\":\"\",\"outlinewidth\":0}},\"hoverlabel\":{\"align\":\"left\"},\"mapbox\":{\"style\":\"light\"},\"polar\":{\"angularaxis\":{\"gridcolor\":\"white\",\"ticks\":\"\",\"linecolor\":\"white\"},\"bgcolor\":\"#E5ECF6\",\"radialaxis\":{\"gridcolor\":\"white\",\"ticks\":\"\",\"linecolor\":\"white\"}},\"autotypenumbers\":\"strict\",\"ternary\":{\"aaxis\":{\"gridcolor\":\"white\",\"ticks\":\"\",\"linecolor\":\"white\"},\"bgcolor\":\"#E5ECF6\",\"caxis\":{\"gridcolor\":\"white\",\"ticks\":\"\",\"linecolor\":\"white\"},\"baxis\":{\"gridcolor\":\"white\",\"ticks\":\"\",\"linecolor\":\"white\"}},\"scene\":{\"xaxis\":{\"gridcolor\":\"white\",\"gridwidth\":2,\"backgroundcolor\":\"#E5ECF6\",\"ticks\":\"\",\"showbackground\":true,\"zerolinecolor\":\"white\",\"linecolor\":\"white\"},\"zaxis\":{\"gridcolor\":\"white\",\"gridwidth\":2,\"backgroundcolor\":\"#E5ECF6\",\"ticks\":\"\",\"showbackground\":true,\"zerolinecolor\":\"white\",\"linecolor\":\"white\"},\"yaxis\":{\"gridcolor\":\"white\",\"gridwidth\":2,\"backgroundcolor\":\"#E5ECF6\",\"ticks\":\"\",\"showbackground\":true,\"zerolinecolor\":\"white\",\"linecolor\":\"white\"}},\"colorway\":[\"#636efa\",\"#EF553B\",\"#00cc96\",\"#ab63fa\",\"#FFA15A\",\"#19d3f3\",\"#FF6692\",\"#B6E880\",\"#FF97FF\",\"#FECB52\"]}},\"annotations\":[],\"margin\":{\"l\":50,\"b\":50,\"r\":50,\"t\":60},\"yaxis\":{\"domain\":[0.0,1.0],\"anchor\":\"x\"},\"yaxis2\":{\"domain\":[0.0,1.0],\"anchor\":\"x2\"}}]}}},\"children\":[{\"props\":{\"id\":\"plot-131a4bf2-591a-4e6f-a3ec-6ee93a79f9f4\"},\"nodeType\":\"DOM\",\"type\":\"node\",\"instanceArgs\":{\"namespace\":\"html\",\"tag\":\"div\"},\"children\":[]}]},\n",
       "        window,\n",
       "    );\n",
       "    })()\n",
       "    </script>\n",
       "</div>\n"
      ],
      "text/plain": [
       "data: [\n",
       "  \"histogram with fields name, nbinsx, type, x, xaxis, and yaxis\",\n",
       "  \"histogram with fields name, nbinsx, type, x, xaxis, and yaxis\"\n",
       "]\n",
       "\n",
       "layout: \"layout with fields annotations, margin, template, xaxis, xaxis2, yaxis, and yaxis2\"\n",
       "\n"
      ]
     },
     "execution_count": 255,
     "metadata": {},
     "output_type": "execute_result"
    }
   ],
   "source": [
    "p = make_subplots(rows=1, cols=2)\n",
    "add_trace!(p, PlotlyJS.histogram(x=Orthogonal_50.-1, nbinsx=10,name=\"Orthogonal\"), row=1, col=1)\n",
    "add_trace!(p, PlotlyJS.histogram(x=Naive_50.-1, nbinsx=10,name=\"Naive\"), row=1, col=2)\n",
    "p"
   ]
  },
  {
   "cell_type": "markdown",
   "metadata": {},
   "source": [
    "## B = 100"
   ]
  },
  {
   "cell_type": "code",
   "execution_count": 248,
   "metadata": {},
   "outputs": [],
   "source": [
    "# Set seed\n",
    "Random.seed!(23)\n",
    "B = 100\n",
    "Naive_100 = zeros(B)\n",
    "Orthogonal_100 = zeros(B);"
   ]
  },
  {
   "cell_type": "code",
   "execution_count": 249,
   "metadata": {},
   "outputs": [],
   "source": [
    "for i in 1:B\n",
    "    n = 100\n",
    "    p = 100\n",
    "    beta =  reshape(( 1 ./ (1:p).^ 2 ),p,1)\n",
    "    gamma = reshape(( 1 ./ (1:p).^ 2 ),p,1)\n",
    "\n",
    "    # mean = 0\n",
    "    sd = 1\n",
    "    X = randn(( n, p ))\n",
    "\n",
    "    D = ( X * gamma ) + reshape(randn(n),n, 1)/4 \n",
    "\n",
    "    # DGP \n",
    "    Y = 5 .*D + ( X * beta ) + reshape(randn( n ), n, 1 )\n",
    "\n",
    "    D = DataFrame(D,:auto)\n",
    "    rename!(D,:x1 => :D)\n",
    "    X = DataFrame(X,:auto)\n",
    "    Y =  DataFrame(Y,:auto)\n",
    "    rename!(Y,:x1 => :Y)\n",
    "\n",
    "    DX = hcat( D , X)\n",
    "    YD = hcat( Y , D)\n",
    "\n",
    "    r_lasso_estimation = rlasso_arg( DX , Y , nothing, true, true, true, false, false, \n",
    "                        nothing, 1.1, nothing, 5000, 15, 10^(-5), -Inf, true, Inf, true ) # Regress main equation by lasso\n",
    "    coef_array = rlasso(r_lasso_estimation)[\"beta\"][2:end,2] #Extract array of covariates X, sometimes all items wont be zero.\n",
    "    SX_IDs  = findall(x-> x != 0,coef_array) # Find THE POSITION OF all non-zero covariates in COEF_ARRAY\n",
    "\n",
    "    # In case all X coefficients are zero, then regress Y on D\n",
    "    if sum(SX_IDs) == 0 \n",
    "        reg = lm( term(:Y) ~ term(:D), YD )\n",
    "        Naive_100[i] = GLM.coeftable(reg).cols[1,1][2]\n",
    "\n",
    "    # Otherwise, regress Y on X and D (but only in the selected coefficients)\n",
    "    elseif sum( SX_IDs ) > 0\n",
    "        df = hcat(Y, D, X[:, SX_IDs ],makeunique=true ) \n",
    "        reg = lm( term(:Y) ~ sum(term.(names(df[!, Not([\"Y\"])]))),df )\n",
    "        Naive_100[ i ] = GLM.coeftable(reg).cols[1,1][2]\n",
    "    end\n",
    "    # In both cases we save D coefficient\n",
    "\n",
    "    # Regress residuals. \n",
    "    regY = rlasso_arg( X , Y , nothing, false, true, true, false, false, \n",
    "                        nothing, 1.1, nothing, 5000, 15, 10^(-5), -Inf, true, Inf, true ) # No post lasso\n",
    "    resY = rlasso(regY)[\"residuals\"]\n",
    "\n",
    "    regD = rlasso_arg( X , D , nothing, false, true, true, false, false, \n",
    "                        nothing, 1.1, nothing, 5000, 15, 10^(-5), -Inf, true, Inf, true ) # No post lasso\n",
    "    resD = rlasso(regD)[\"residuals\"]\n",
    "\n",
    "    eYeD = DataFrame(hcat( resY , resD),:auto)\n",
    "    rename!(eYeD,:x1 => :resY)\n",
    "    rename!(eYeD,:x2 => :resD)\n",
    "\n",
    "    res_reg= lm( @formula(resY ~ 0 + resD), eYeD)\n",
    "    Orthogonal_100[ i ] = GLM.coeftable(res_reg).cols[1][1]\n",
    "        \n",
    "end"
   ]
  },
  {
   "cell_type": "code",
   "execution_count": 250,
   "metadata": {
    "scrolled": false
   },
   "outputs": [
    {
     "data": {
      "application/vnd.plotly.v1+json": {
       "config": {
        "editable": false,
        "responsive": true,
        "scrollZoom": true,
        "showLink": false,
        "staticPlot": false
       },
       "data": [
        {
         "name": "Orthogonal",
         "nbinsx": 20,
         "type": "histogram",
         "x": [
          6.107568511046905,
          5.810213554825182,
          6.11407796786827,
          5.554206317456867,
          5.5368260948277666,
          5.016281581637555,
          5.4162323295889045,
          5.725310608452311,
          5.778511855634736,
          5.7740676775359026,
          5.326375455956674,
          5.337062693905456,
          5.662805533982922,
          5.579316457615695,
          5.403883892093606,
          5.913189197914348,
          5.162426852795552,
          6.212909276683741,
          5.9499866193590325,
          5.370675186321016,
          6.395696841921928,
          5.472005051071693,
          5.747743553007606,
          6.098312978105215,
          5.522514767093861,
          5.7369359606247485,
          5.659630731872146,
          5.963631817096158,
          5.257449019031438,
          5.925103832223292,
          5.881918728895795,
          5.962303303627427,
          4.79756932858005,
          5.711783002335397,
          5.744128661633187,
          5.471951599525308,
          5.949542755285857,
          5.905192621155221,
          5.746828769010738,
          5.62412217845303,
          6.2201006210551535,
          5.495785433488641,
          6.593136288600802,
          5.335669672884047,
          5.928138836379012,
          5.55410970890571,
          5.742999129859509,
          5.652954414097198,
          5.6278343117728244,
          5.18471911930801,
          5.133478341840125,
          5.3745220859848715,
          6.027488271477537,
          5.696482642430767,
          6.296961482792941,
          6.08670989003735,
          5.309940313323095,
          5.5204656155967,
          5.839459160021923,
          5.520267333058224,
          5.66985814644686,
          5.704062679531273,
          5.958271682707537,
          5.654384139180436,
          5.336353924526711,
          6.150551369124435,
          5.868162448428416,
          5.4248780214111605,
          6.083093779691831,
          5.804877398170861,
          5.808498849226867,
          6.009615984007755,
          5.168203066022025,
          5.650386565059926,
          5.5342671643981545,
          5.8840370361673795,
          5.28894152100136,
          5.764965801698481,
          5.193528200333666,
          5.488369605443419,
          5.246698797000923,
          5.26511018241329,
          6.495025024811229,
          5.392654830091594,
          5.963695021475677,
          5.393364868870279,
          5.360221681156103,
          6.077832484972342,
          6.07332434165851,
          6.068372781330571,
          5.785435075275903,
          6.568924913603803,
          5.888109144996454,
          5.412854518462783,
          6.677184566184484,
          5.376298274700554,
          5.941669072027346,
          5.775626856389758,
          5.4260128979570705,
          6.200401251154278
         ],
         "xaxis": "x",
         "yaxis": "y"
        },
        {
         "name": "Naive",
         "nbinsx": 20,
         "type": "histogram",
         "x": [
          5.567070150014072,
          5.730359576015885,
          5.839376694184348,
          5.526594264172206,
          5.791957626870241,
          5.819116763890307,
          5.530066035704268,
          5.711568184653146,
          5.689132884288875,
          5.908377828201319,
          5.578575871982487,
          5.22026869229555,
          5.98510521784622,
          5.350284350334943,
          5.995387818735469,
          5.591095163220315,
          5.619150324714862,
          5.477694929220629,
          5.343574795339128,
          5.462083679071092,
          6.123642111382798,
          5.534947358185479,
          5.2172225036226,
          5.513845739258639,
          5.277853554256551,
          5.632095226698355,
          5.807605721124742,
          6.053073417504627,
          5.34907675864391,
          5.483470400693118,
          5.625735543792541,
          5.471951145967757,
          5.340836857464183,
          6.021355422397427,
          5.415689284968005,
          5.1711087599884085,
          5.157942581300622,
          5.692012390337107,
          5.218232790809028,
          5.968597479325352,
          5.7985491744862845,
          5.455885322218423,
          5.640721083163408,
          5.229502749181458,
          5.67210870663118,
          5.630498974070358,
          5.887487463662591,
          5.834535208124073,
          5.653833492176141,
          5.234045405378721,
          5.018359394098107,
          5.40474352052405,
          5.692566441647851,
          5.630251799413699,
          5.677751819869687,
          5.853376309202167,
          5.278092563932473,
          5.471514126763407,
          5.845515447147241,
          5.475785271472894,
          5.543917293886057,
          5.340867658445492,
          5.664547597992231,
          5.925353093367543,
          5.233821362661974,
          5.8420275614273285,
          5.3723522063136695,
          5.21027544722544,
          5.75052362105005,
          5.831820140030925,
          5.49976152168285,
          5.579553935526484,
          5.4598594942983585,
          5.440672549816444,
          5.485522048060428,
          5.832818395897455,
          5.614747258662229,
          5.7065348208743245,
          5.590290099541028,
          5.434523778773087,
          5.501433025719203,
          5.281232324061369,
          5.7171393493773515,
          5.60083980402685,
          5.424746536867222,
          5.634465589817956,
          5.5135856873631495,
          5.903436653277442,
          5.805037622231597,
          5.609854816698936,
          5.640911395133303,
          5.906554742921648,
          5.778892292055508,
          5.4095738788209635,
          6.072129125146587,
          5.564054534367636,
          5.9681864215255,
          5.346027253989025,
          5.330779726882273,
          5.863645201451791
         ],
         "xaxis": "x2",
         "yaxis": "y2"
        }
       ],
       "frames": [],
       "layout": {
        "annotations": [],
        "margin": {
         "b": 50,
         "l": 50,
         "r": 50,
         "t": 60
        },
        "template": {
         "data": {
          "bar": [
           {
            "error_x": {
             "color": "#2a3f5f"
            },
            "error_y": {
             "color": "#2a3f5f"
            },
            "marker": {
             "line": {
              "color": "#E5ECF6",
              "width": 0.5
             }
            },
            "type": "bar"
           }
          ],
          "barpolar": [
           {
            "marker": {
             "line": {
              "color": "#E5ECF6",
              "width": 0.5
             }
            },
            "type": "barpolar"
           }
          ],
          "carpet": [
           {
            "aaxis": {
             "endlinecolor": "#2a3f5f",
             "gridcolor": "white",
             "linecolor": "white",
             "minorgridcolor": "white",
             "startlinecolor": "#2a3f5f"
            },
            "baxis": {
             "endlinecolor": "#2a3f5f",
             "gridcolor": "white",
             "linecolor": "white",
             "minorgridcolor": "white",
             "startlinecolor": "#2a3f5f"
            },
            "type": "carpet"
           }
          ],
          "choropleth": [
           {
            "colorbar": {
             "outlinewidth": 0,
             "ticks": ""
            },
            "type": "choropleth"
           }
          ],
          "contour": [
           {
            "colorbar": {
             "outlinewidth": 0,
             "ticks": ""
            },
            "colorscale": [
             [
              0,
              "#0d0887"
             ],
             [
              0.1111111111111111,
              "#46039f"
             ],
             [
              0.2222222222222222,
              "#7201a8"
             ],
             [
              0.3333333333333333,
              "#9c179e"
             ],
             [
              0.4444444444444444,
              "#bd3786"
             ],
             [
              0.5555555555555556,
              "#d8576b"
             ],
             [
              0.6666666666666666,
              "#ed7953"
             ],
             [
              0.7777777777777778,
              "#fb9f3a"
             ],
             [
              0.8888888888888888,
              "#fdca26"
             ],
             [
              1,
              "#f0f921"
             ]
            ],
            "type": "contour"
           }
          ],
          "contourcarpet": [
           {
            "colorbar": {
             "outlinewidth": 0,
             "ticks": ""
            },
            "type": "contourcarpet"
           }
          ],
          "heatmap": [
           {
            "colorbar": {
             "outlinewidth": 0,
             "ticks": ""
            },
            "colorscale": [
             [
              0,
              "#0d0887"
             ],
             [
              0.1111111111111111,
              "#46039f"
             ],
             [
              0.2222222222222222,
              "#7201a8"
             ],
             [
              0.3333333333333333,
              "#9c179e"
             ],
             [
              0.4444444444444444,
              "#bd3786"
             ],
             [
              0.5555555555555556,
              "#d8576b"
             ],
             [
              0.6666666666666666,
              "#ed7953"
             ],
             [
              0.7777777777777778,
              "#fb9f3a"
             ],
             [
              0.8888888888888888,
              "#fdca26"
             ],
             [
              1,
              "#f0f921"
             ]
            ],
            "type": "heatmap"
           }
          ],
          "heatmapgl": [
           {
            "colorbar": {
             "outlinewidth": 0,
             "ticks": ""
            },
            "colorscale": [
             [
              0,
              "#0d0887"
             ],
             [
              0.1111111111111111,
              "#46039f"
             ],
             [
              0.2222222222222222,
              "#7201a8"
             ],
             [
              0.3333333333333333,
              "#9c179e"
             ],
             [
              0.4444444444444444,
              "#bd3786"
             ],
             [
              0.5555555555555556,
              "#d8576b"
             ],
             [
              0.6666666666666666,
              "#ed7953"
             ],
             [
              0.7777777777777778,
              "#fb9f3a"
             ],
             [
              0.8888888888888888,
              "#fdca26"
             ],
             [
              1,
              "#f0f921"
             ]
            ],
            "type": "heatmapgl"
           }
          ],
          "histogram": [
           {
            "marker": {
             "colorbar": {
              "outlinewidth": 0,
              "ticks": ""
             }
            },
            "type": "histogram"
           }
          ],
          "histogram2d": [
           {
            "colorbar": {
             "outlinewidth": 0,
             "ticks": ""
            },
            "colorscale": [
             [
              0,
              "#0d0887"
             ],
             [
              0.1111111111111111,
              "#46039f"
             ],
             [
              0.2222222222222222,
              "#7201a8"
             ],
             [
              0.3333333333333333,
              "#9c179e"
             ],
             [
              0.4444444444444444,
              "#bd3786"
             ],
             [
              0.5555555555555556,
              "#d8576b"
             ],
             [
              0.6666666666666666,
              "#ed7953"
             ],
             [
              0.7777777777777778,
              "#fb9f3a"
             ],
             [
              0.8888888888888888,
              "#fdca26"
             ],
             [
              1,
              "#f0f921"
             ]
            ],
            "type": "histogram2d"
           }
          ],
          "histogram2dcontour": [
           {
            "colorbar": {
             "outlinewidth": 0,
             "ticks": ""
            },
            "colorscale": [
             [
              0,
              "#0d0887"
             ],
             [
              0.1111111111111111,
              "#46039f"
             ],
             [
              0.2222222222222222,
              "#7201a8"
             ],
             [
              0.3333333333333333,
              "#9c179e"
             ],
             [
              0.4444444444444444,
              "#bd3786"
             ],
             [
              0.5555555555555556,
              "#d8576b"
             ],
             [
              0.6666666666666666,
              "#ed7953"
             ],
             [
              0.7777777777777778,
              "#fb9f3a"
             ],
             [
              0.8888888888888888,
              "#fdca26"
             ],
             [
              1,
              "#f0f921"
             ]
            ],
            "type": "histogram2dcontour"
           }
          ],
          "mesh3d": [
           {
            "colorbar": {
             "outlinewidth": 0,
             "ticks": ""
            },
            "type": "mesh3d"
           }
          ],
          "parcoords": [
           {
            "line": {
             "colorbar": {
              "outlinewidth": 0,
              "ticks": ""
             }
            },
            "type": "parcoords"
           }
          ],
          "pie": [
           {
            "automargin": true,
            "type": "pie"
           }
          ],
          "scatter": [
           {
            "marker": {
             "colorbar": {
              "outlinewidth": 0,
              "ticks": ""
             }
            },
            "type": "scatter"
           }
          ],
          "scatter3d": [
           {
            "line": {
             "colorbar": {
              "outlinewidth": 0,
              "ticks": ""
             }
            },
            "marker": {
             "colorbar": {
              "outlinewidth": 0,
              "ticks": ""
             }
            },
            "type": "scatter3d"
           }
          ],
          "scattercarpet": [
           {
            "marker": {
             "colorbar": {
              "outlinewidth": 0,
              "ticks": ""
             }
            },
            "type": "scattercarpet"
           }
          ],
          "scattergeo": [
           {
            "marker": {
             "colorbar": {
              "outlinewidth": 0,
              "ticks": ""
             }
            },
            "type": "scattergeo"
           }
          ],
          "scattergl": [
           {
            "marker": {
             "colorbar": {
              "outlinewidth": 0,
              "ticks": ""
             }
            },
            "type": "scattergl"
           }
          ],
          "scattermapbox": [
           {
            "marker": {
             "colorbar": {
              "outlinewidth": 0,
              "ticks": ""
             }
            },
            "type": "scattermapbox"
           }
          ],
          "scatterpolar": [
           {
            "marker": {
             "colorbar": {
              "outlinewidth": 0,
              "ticks": ""
             }
            },
            "type": "scatterpolar"
           }
          ],
          "scatterpolargl": [
           {
            "marker": {
             "colorbar": {
              "outlinewidth": 0,
              "ticks": ""
             }
            },
            "type": "scatterpolargl"
           }
          ],
          "scatterternary": [
           {
            "marker": {
             "colorbar": {
              "outlinewidth": 0,
              "ticks": ""
             }
            },
            "type": "scatterternary"
           }
          ],
          "surface": [
           {
            "colorbar": {
             "outlinewidth": 0,
             "ticks": ""
            },
            "colorscale": [
             [
              0,
              "#0d0887"
             ],
             [
              0.1111111111111111,
              "#46039f"
             ],
             [
              0.2222222222222222,
              "#7201a8"
             ],
             [
              0.3333333333333333,
              "#9c179e"
             ],
             [
              0.4444444444444444,
              "#bd3786"
             ],
             [
              0.5555555555555556,
              "#d8576b"
             ],
             [
              0.6666666666666666,
              "#ed7953"
             ],
             [
              0.7777777777777778,
              "#fb9f3a"
             ],
             [
              0.8888888888888888,
              "#fdca26"
             ],
             [
              1,
              "#f0f921"
             ]
            ],
            "type": "surface"
           }
          ],
          "table": [
           {
            "cells": {
             "fill": {
              "color": "#EBF0F8"
             },
             "line": {
              "color": "white"
             }
            },
            "header": {
             "fill": {
              "color": "#C8D4E3"
             },
             "line": {
              "color": "white"
             }
            },
            "type": "table"
           }
          ]
         },
         "layout": {
          "annotationdefaults": {
           "arrowcolor": "#2a3f5f",
           "arrowhead": 0,
           "arrowwidth": 1
          },
          "autotypenumbers": "strict",
          "coloraxis": {
           "colorbar": {
            "outlinewidth": 0,
            "ticks": ""
           }
          },
          "colorscale": {
           "diverging": [
            [
             0,
             "#8e0152"
            ],
            [
             0.1,
             "#c51b7d"
            ],
            [
             0.2,
             "#de77ae"
            ],
            [
             0.3,
             "#f1b6da"
            ],
            [
             0.4,
             "#fde0ef"
            ],
            [
             0.5,
             "#f7f7f7"
            ],
            [
             0.6,
             "#e6f5d0"
            ],
            [
             0.7,
             "#b8e186"
            ],
            [
             0.8,
             "#7fbc41"
            ],
            [
             0.9,
             "#4d9221"
            ],
            [
             1,
             "#276419"
            ]
           ],
           "sequential": [
            [
             0,
             "#0d0887"
            ],
            [
             0.1111111111111111,
             "#46039f"
            ],
            [
             0.2222222222222222,
             "#7201a8"
            ],
            [
             0.3333333333333333,
             "#9c179e"
            ],
            [
             0.4444444444444444,
             "#bd3786"
            ],
            [
             0.5555555555555556,
             "#d8576b"
            ],
            [
             0.6666666666666666,
             "#ed7953"
            ],
            [
             0.7777777777777778,
             "#fb9f3a"
            ],
            [
             0.8888888888888888,
             "#fdca26"
            ],
            [
             1,
             "#f0f921"
            ]
           ],
           "sequentialminus": [
            [
             0,
             "#0d0887"
            ],
            [
             0.1111111111111111,
             "#46039f"
            ],
            [
             0.2222222222222222,
             "#7201a8"
            ],
            [
             0.3333333333333333,
             "#9c179e"
            ],
            [
             0.4444444444444444,
             "#bd3786"
            ],
            [
             0.5555555555555556,
             "#d8576b"
            ],
            [
             0.6666666666666666,
             "#ed7953"
            ],
            [
             0.7777777777777778,
             "#fb9f3a"
            ],
            [
             0.8888888888888888,
             "#fdca26"
            ],
            [
             1,
             "#f0f921"
            ]
           ]
          },
          "colorway": [
           "#636efa",
           "#EF553B",
           "#00cc96",
           "#ab63fa",
           "#FFA15A",
           "#19d3f3",
           "#FF6692",
           "#B6E880",
           "#FF97FF",
           "#FECB52"
          ],
          "font": {
           "color": "#2a3f5f"
          },
          "geo": {
           "bgcolor": "white",
           "lakecolor": "white",
           "landcolor": "#E5ECF6",
           "showlakes": true,
           "showland": true,
           "subunitcolor": "white"
          },
          "hoverlabel": {
           "align": "left"
          },
          "hovermode": "closest",
          "mapbox": {
           "style": "light"
          },
          "paper_bgcolor": "white",
          "plot_bgcolor": "#E5ECF6",
          "polar": {
           "angularaxis": {
            "gridcolor": "white",
            "linecolor": "white",
            "ticks": ""
           },
           "bgcolor": "#E5ECF6",
           "radialaxis": {
            "gridcolor": "white",
            "linecolor": "white",
            "ticks": ""
           }
          },
          "scene": {
           "xaxis": {
            "backgroundcolor": "#E5ECF6",
            "gridcolor": "white",
            "gridwidth": 2,
            "linecolor": "white",
            "showbackground": true,
            "ticks": "",
            "zerolinecolor": "white"
           },
           "yaxis": {
            "backgroundcolor": "#E5ECF6",
            "gridcolor": "white",
            "gridwidth": 2,
            "linecolor": "white",
            "showbackground": true,
            "ticks": "",
            "zerolinecolor": "white"
           },
           "zaxis": {
            "backgroundcolor": "#E5ECF6",
            "gridcolor": "white",
            "gridwidth": 2,
            "linecolor": "white",
            "showbackground": true,
            "ticks": "",
            "zerolinecolor": "white"
           }
          },
          "shapedefaults": {
           "line": {
            "color": "#2a3f5f"
           }
          },
          "ternary": {
           "aaxis": {
            "gridcolor": "white",
            "linecolor": "white",
            "ticks": ""
           },
           "baxis": {
            "gridcolor": "white",
            "linecolor": "white",
            "ticks": ""
           },
           "bgcolor": "#E5ECF6",
           "caxis": {
            "gridcolor": "white",
            "linecolor": "white",
            "ticks": ""
           }
          },
          "title": {
           "x": 0.05
          },
          "xaxis": {
           "automargin": true,
           "gridcolor": "white",
           "linecolor": "white",
           "ticks": "",
           "title": {
            "standoff": 15
           },
           "zerolinecolor": "white",
           "zerolinewidth": 2
          },
          "yaxis": {
           "automargin": true,
           "gridcolor": "white",
           "linecolor": "white",
           "ticks": "",
           "title": {
            "standoff": 15
           },
           "zerolinecolor": "white",
           "zerolinewidth": 2
          }
         }
        },
        "xaxis": {
         "anchor": "y",
         "domain": [
          0,
          0.45
         ]
        },
        "xaxis2": {
         "anchor": "y2",
         "domain": [
          0.55,
          1
         ]
        },
        "yaxis": {
         "anchor": "x",
         "domain": [
          0,
          1
         ]
        },
        "yaxis2": {
         "anchor": "x2",
         "domain": [
          0,
          1
         ]
        }
       }
      },
      "text/html": [
       "<div\n",
       "    class=\"webio-mountpoint\"\n",
       "    data-webio-mountpoint=\"14098793923802139708\"\n",
       ">\n",
       "    <script>\n",
       "    (function(){\n",
       "    // Some integrations (namely, IJulia/Jupyter) use an alternate render pathway than\n",
       "    // just putting the html on the page. If WebIO isn't defined, then it's pretty likely\n",
       "    // that we're in one of those situations and the integration just isn't installed\n",
       "    // correctly.\n",
       "    if (typeof window.WebIO === \"undefined\") {\n",
       "        document\n",
       "            .querySelector('[data-webio-mountpoint=\"14098793923802139708\"]')\n",
       "            .innerHTML = (\n",
       "                '<div style=\"padding: 1em; background-color: #f8d6da; border: 1px solid #f5c6cb; font-weight: bold;\">' +\n",
       "                '<p><strong>WebIO not detected.</strong></p>' +\n",
       "                '<p>Please read ' +\n",
       "                '<a href=\"https://juliagizmos.github.io/WebIO.jl/latest/troubleshooting/not-detected/\" target=\"_blank\">the troubleshooting guide</a> ' +\n",
       "                'for more information on how to resolve this issue.</p>' +\n",
       "                '<p><a href=\"https://juliagizmos.github.io/WebIO.jl/latest/troubleshooting/not-detected/\" target=\"_blank\">https://juliagizmos.github.io/WebIO.jl/latest/troubleshooting/not-detected/</a></p>' +\n",
       "                '</div>'\n",
       "            );\n",
       "        return;\n",
       "    }\n",
       "    WebIO.mount(\n",
       "        document.querySelector('[data-webio-mountpoint=\"14098793923802139708\"]'),\n",
       "        {\"props\":{},\"nodeType\":\"Scope\",\"type\":\"node\",\"instanceArgs\":{\"imports\":{\"data\":[{\"name\":\"Plotly\",\"type\":\"js\",\"url\":\"\\/assetserver\\/4861d8d94a0e0c978a829bbb7ecb4a82568c2192-plotly.min.js\"},{\"name\":null,\"type\":\"js\",\"url\":\"\\/assetserver\\/000f7c658f0d87642576025e48ddde58b908ff32-plotly_webio.bundle.js\"}],\"type\":\"async_block\"},\"id\":\"7762690100082977540\",\"handlers\":{\"_toImage\":[\"(function (options){return this.Plotly.toImage(this.plotElem,options).then((function (data){return WebIO.setval({\\\"name\\\":\\\"image\\\",\\\"scope\\\":\\\"7762690100082977540\\\",\\\"id\\\":\\\"16088456096853849754\\\",\\\"type\\\":\\\"observable\\\"},data)}))})\"],\"__get_gd_contents\":[\"(function (prop){prop==\\\"data\\\" ? (WebIO.setval({\\\"name\\\":\\\"__gd_contents\\\",\\\"scope\\\":\\\"7762690100082977540\\\",\\\"id\\\":\\\"5699681964002920744\\\",\\\"type\\\":\\\"observable\\\"},this.plotElem.data)) : undefined; return prop==\\\"layout\\\" ? (WebIO.setval({\\\"name\\\":\\\"__gd_contents\\\",\\\"scope\\\":\\\"7762690100082977540\\\",\\\"id\\\":\\\"5699681964002920744\\\",\\\"type\\\":\\\"observable\\\"},this.plotElem.layout)) : undefined})\"],\"_downloadImage\":[\"(function (options){return this.Plotly.downloadImage(this.plotElem,options)})\"],\"_commands\":[\"(function (args){var fn=args.shift(); var elem=this.plotElem; var Plotly=this.Plotly; args.unshift(elem); return Plotly[fn].apply(this,args)})\"]},\"systemjs_options\":null,\"mount_callbacks\":[\"function () {\\n    var handler = ((function (Plotly,PlotlyWebIO){PlotlyWebIO.init(WebIO); var gd=this.dom.querySelector(\\\"#plot-9265a50b-249a-4078-ba41-484f84b15c4f\\\"); this.plotElem=gd; this.Plotly=Plotly; (window.Blink!==undefined) ? (gd.style.width=\\\"100%\\\", gd.style.height=\\\"100vh\\\", gd.style.marginLeft=\\\"0%\\\", gd.style.marginTop=\\\"0vh\\\") : undefined; window.onresize=(function (){return Plotly.Plots.resize(gd)}); Plotly.newPlot(gd,[],{\\\"xaxis\\\":{\\\"domain\\\":[0.0,0.45],\\\"anchor\\\":\\\"y\\\"},\\\"xaxis2\\\":{\\\"domain\\\":[0.55,1.0],\\\"anchor\\\":\\\"y2\\\"},\\\"template\\\":{\\\"layout\\\":{\\\"coloraxis\\\":{\\\"colorbar\\\":{\\\"ticks\\\":\\\"\\\",\\\"outlinewidth\\\":0}},\\\"xaxis\\\":{\\\"gridcolor\\\":\\\"white\\\",\\\"zerolinewidth\\\":2,\\\"title\\\":{\\\"standoff\\\":15},\\\"ticks\\\":\\\"\\\",\\\"zerolinecolor\\\":\\\"white\\\",\\\"automargin\\\":true,\\\"linecolor\\\":\\\"white\\\"},\\\"hovermode\\\":\\\"closest\\\",\\\"paper_bgcolor\\\":\\\"white\\\",\\\"geo\\\":{\\\"showlakes\\\":true,\\\"showland\\\":true,\\\"landcolor\\\":\\\"#E5ECF6\\\",\\\"bgcolor\\\":\\\"white\\\",\\\"subunitcolor\\\":\\\"white\\\",\\\"lakecolor\\\":\\\"white\\\"},\\\"colorscale\\\":{\\\"sequential\\\":[[0.0,\\\"#0d0887\\\"],[0.1111111111111111,\\\"#46039f\\\"],[0.2222222222222222,\\\"#7201a8\\\"],[0.3333333333333333,\\\"#9c179e\\\"],[0.4444444444444444,\\\"#bd3786\\\"],[0.5555555555555556,\\\"#d8576b\\\"],[0.6666666666666666,\\\"#ed7953\\\"],[0.7777777777777778,\\\"#fb9f3a\\\"],[0.8888888888888888,\\\"#fdca26\\\"],[1.0,\\\"#f0f921\\\"]],\\\"diverging\\\":[[0,\\\"#8e0152\\\"],[0.1,\\\"#c51b7d\\\"],[0.2,\\\"#de77ae\\\"],[0.3,\\\"#f1b6da\\\"],[0.4,\\\"#fde0ef\\\"],[0.5,\\\"#f7f7f7\\\"],[0.6,\\\"#e6f5d0\\\"],[0.7,\\\"#b8e186\\\"],[0.8,\\\"#7fbc41\\\"],[0.9,\\\"#4d9221\\\"],[1,\\\"#276419\\\"]],\\\"sequentialminus\\\":[[0.0,\\\"#0d0887\\\"],[0.1111111111111111,\\\"#46039f\\\"],[0.2222222222222222,\\\"#7201a8\\\"],[0.3333333333333333,\\\"#9c179e\\\"],[0.4444444444444444,\\\"#bd3786\\\"],[0.5555555555555556,\\\"#d8576b\\\"],[0.6666666666666666,\\\"#ed7953\\\"],[0.7777777777777778,\\\"#fb9f3a\\\"],[0.8888888888888888,\\\"#fdca26\\\"],[1.0,\\\"#f0f921\\\"]]},\\\"yaxis\\\":{\\\"gridcolor\\\":\\\"white\\\",\\\"zerolinewidth\\\":2,\\\"title\\\":{\\\"standoff\\\":15},\\\"ticks\\\":\\\"\\\",\\\"zerolinecolor\\\":\\\"white\\\",\\\"automargin\\\":true,\\\"linecolor\\\":\\\"white\\\"},\\\"shapedefaults\\\":{\\\"line\\\":{\\\"color\\\":\\\"#2a3f5f\\\"}},\\\"hoverlabel\\\":{\\\"align\\\":\\\"left\\\"},\\\"mapbox\\\":{\\\"style\\\":\\\"light\\\"},\\\"polar\\\":{\\\"angularaxis\\\":{\\\"gridcolor\\\":\\\"white\\\",\\\"ticks\\\":\\\"\\\",\\\"linecolor\\\":\\\"white\\\"},\\\"bgcolor\\\":\\\"#E5ECF6\\\",\\\"radialaxis\\\":{\\\"gridcolor\\\":\\\"white\\\",\\\"ticks\\\":\\\"\\\",\\\"linecolor\\\":\\\"white\\\"}},\\\"autotypenumbers\\\":\\\"strict\\\",\\\"font\\\":{\\\"color\\\":\\\"#2a3f5f\\\"},\\\"ternary\\\":{\\\"baxis\\\":{\\\"gridcolor\\\":\\\"white\\\",\\\"ticks\\\":\\\"\\\",\\\"linecolor\\\":\\\"white\\\"},\\\"bgcolor\\\":\\\"#E5ECF6\\\",\\\"caxis\\\":{\\\"gridcolor\\\":\\\"white\\\",\\\"ticks\\\":\\\"\\\",\\\"linecolor\\\":\\\"white\\\"},\\\"aaxis\\\":{\\\"gridcolor\\\":\\\"white\\\",\\\"ticks\\\":\\\"\\\",\\\"linecolor\\\":\\\"white\\\"}},\\\"annotationdefaults\\\":{\\\"arrowhead\\\":0,\\\"arrowwidth\\\":1,\\\"arrowcolor\\\":\\\"#2a3f5f\\\"},\\\"plot_bgcolor\\\":\\\"#E5ECF6\\\",\\\"title\\\":{\\\"x\\\":0.05},\\\"scene\\\":{\\\"xaxis\\\":{\\\"gridcolor\\\":\\\"white\\\",\\\"gridwidth\\\":2,\\\"backgroundcolor\\\":\\\"#E5ECF6\\\",\\\"ticks\\\":\\\"\\\",\\\"showbackground\\\":true,\\\"zerolinecolor\\\":\\\"white\\\",\\\"linecolor\\\":\\\"white\\\"},\\\"zaxis\\\":{\\\"gridcolor\\\":\\\"white\\\",\\\"gridwidth\\\":2,\\\"backgroundcolor\\\":\\\"#E5ECF6\\\",\\\"ticks\\\":\\\"\\\",\\\"showbackground\\\":true,\\\"zerolinecolor\\\":\\\"white\\\",\\\"linecolor\\\":\\\"white\\\"},\\\"yaxis\\\":{\\\"gridcolor\\\":\\\"white\\\",\\\"gridwidth\\\":2,\\\"backgroundcolor\\\":\\\"#E5ECF6\\\",\\\"ticks\\\":\\\"\\\",\\\"showbackground\\\":true,\\\"zerolinecolor\\\":\\\"white\\\",\\\"linecolor\\\":\\\"white\\\"}},\\\"colorway\\\":[\\\"#636efa\\\",\\\"#EF553B\\\",\\\"#00cc96\\\",\\\"#ab63fa\\\",\\\"#FFA15A\\\",\\\"#19d3f3\\\",\\\"#FF6692\\\",\\\"#B6E880\\\",\\\"#FF97FF\\\",\\\"#FECB52\\\"]},\\\"data\\\":{\\\"barpolar\\\":[{\\\"type\\\":\\\"barpolar\\\",\\\"marker\\\":{\\\"line\\\":{\\\"color\\\":\\\"#E5ECF6\\\",\\\"width\\\":0.5}}}],\\\"carpet\\\":[{\\\"aaxis\\\":{\\\"gridcolor\\\":\\\"white\\\",\\\"endlinecolor\\\":\\\"#2a3f5f\\\",\\\"minorgridcolor\\\":\\\"white\\\",\\\"startlinecolor\\\":\\\"#2a3f5f\\\",\\\"linecolor\\\":\\\"white\\\"},\\\"type\\\":\\\"carpet\\\",\\\"baxis\\\":{\\\"gridcolor\\\":\\\"white\\\",\\\"endlinecolor\\\":\\\"#2a3f5f\\\",\\\"minorgridcolor\\\":\\\"white\\\",\\\"startlinecolor\\\":\\\"#2a3f5f\\\",\\\"linecolor\\\":\\\"white\\\"}}],\\\"scatterpolar\\\":[{\\\"type\\\":\\\"scatterpolar\\\",\\\"marker\\\":{\\\"colorbar\\\":{\\\"ticks\\\":\\\"\\\",\\\"outlinewidth\\\":0}}}],\\\"parcoords\\\":[{\\\"line\\\":{\\\"colorbar\\\":{\\\"ticks\\\":\\\"\\\",\\\"outlinewidth\\\":0}},\\\"type\\\":\\\"parcoords\\\"}],\\\"scatter\\\":[{\\\"type\\\":\\\"scatter\\\",\\\"marker\\\":{\\\"colorbar\\\":{\\\"ticks\\\":\\\"\\\",\\\"outlinewidth\\\":0}}}],\\\"histogram2dcontour\\\":[{\\\"colorbar\\\":{\\\"ticks\\\":\\\"\\\",\\\"outlinewidth\\\":0},\\\"type\\\":\\\"histogram2dcontour\\\",\\\"colorscale\\\":[[0.0,\\\"#0d0887\\\"],[0.1111111111111111,\\\"#46039f\\\"],[0.2222222222222222,\\\"#7201a8\\\"],[0.3333333333333333,\\\"#9c179e\\\"],[0.4444444444444444,\\\"#bd3786\\\"],[0.5555555555555556,\\\"#d8576b\\\"],[0.6666666666666666,\\\"#ed7953\\\"],[0.7777777777777778,\\\"#fb9f3a\\\"],[0.8888888888888888,\\\"#fdca26\\\"],[1.0,\\\"#f0f921\\\"]]}],\\\"contour\\\":[{\\\"colorbar\\\":{\\\"ticks\\\":\\\"\\\",\\\"outlinewidth\\\":0},\\\"type\\\":\\\"contour\\\",\\\"colorscale\\\":[[0.0,\\\"#0d0887\\\"],[0.1111111111111111,\\\"#46039f\\\"],[0.2222222222222222,\\\"#7201a8\\\"],[0.3333333333333333,\\\"#9c179e\\\"],[0.4444444444444444,\\\"#bd3786\\\"],[0.5555555555555556,\\\"#d8576b\\\"],[0.6666666666666666,\\\"#ed7953\\\"],[0.7777777777777778,\\\"#fb9f3a\\\"],[0.8888888888888888,\\\"#fdca26\\\"],[1.0,\\\"#f0f921\\\"]]}],\\\"scattercarpet\\\":[{\\\"type\\\":\\\"scattercarpet\\\",\\\"marker\\\":{\\\"colorbar\\\":{\\\"ticks\\\":\\\"\\\",\\\"outlinewidth\\\":0}}}],\\\"mesh3d\\\":[{\\\"colorbar\\\":{\\\"ticks\\\":\\\"\\\",\\\"outlinewidth\\\":0},\\\"type\\\":\\\"mesh3d\\\"}],\\\"surface\\\":[{\\\"colorbar\\\":{\\\"ticks\\\":\\\"\\\",\\\"outlinewidth\\\":0},\\\"type\\\":\\\"surface\\\",\\\"colorscale\\\":[[0.0,\\\"#0d0887\\\"],[0.1111111111111111,\\\"#46039f\\\"],[0.2222222222222222,\\\"#7201a8\\\"],[0.3333333333333333,\\\"#9c179e\\\"],[0.4444444444444444,\\\"#bd3786\\\"],[0.5555555555555556,\\\"#d8576b\\\"],[0.6666666666666666,\\\"#ed7953\\\"],[0.7777777777777778,\\\"#fb9f3a\\\"],[0.8888888888888888,\\\"#fdca26\\\"],[1.0,\\\"#f0f921\\\"]]}],\\\"scattermapbox\\\":[{\\\"type\\\":\\\"scattermapbox\\\",\\\"marker\\\":{\\\"colorbar\\\":{\\\"ticks\\\":\\\"\\\",\\\"outlinewidth\\\":0}}}],\\\"scattergeo\\\":[{\\\"type\\\":\\\"scattergeo\\\",\\\"marker\\\":{\\\"colorbar\\\":{\\\"ticks\\\":\\\"\\\",\\\"outlinewidth\\\":0}}}],\\\"histogram\\\":[{\\\"type\\\":\\\"histogram\\\",\\\"marker\\\":{\\\"colorbar\\\":{\\\"ticks\\\":\\\"\\\",\\\"outlinewidth\\\":0}}}],\\\"pie\\\":[{\\\"type\\\":\\\"pie\\\",\\\"automargin\\\":true}],\\\"choropleth\\\":[{\\\"colorbar\\\":{\\\"ticks\\\":\\\"\\\",\\\"outlinewidth\\\":0},\\\"type\\\":\\\"choropleth\\\"}],\\\"heatmapgl\\\":[{\\\"colorbar\\\":{\\\"ticks\\\":\\\"\\\",\\\"outlinewidth\\\":0},\\\"type\\\":\\\"heatmapgl\\\",\\\"colorscale\\\":[[0.0,\\\"#0d0887\\\"],[0.1111111111111111,\\\"#46039f\\\"],[0.2222222222222222,\\\"#7201a8\\\"],[0.3333333333333333,\\\"#9c179e\\\"],[0.4444444444444444,\\\"#bd3786\\\"],[0.5555555555555556,\\\"#d8576b\\\"],[0.6666666666666666,\\\"#ed7953\\\"],[0.7777777777777778,\\\"#fb9f3a\\\"],[0.8888888888888888,\\\"#fdca26\\\"],[1.0,\\\"#f0f921\\\"]]}],\\\"bar\\\":[{\\\"type\\\":\\\"bar\\\",\\\"error_y\\\":{\\\"color\\\":\\\"#2a3f5f\\\"},\\\"error_x\\\":{\\\"color\\\":\\\"#2a3f5f\\\"},\\\"marker\\\":{\\\"line\\\":{\\\"color\\\":\\\"#E5ECF6\\\",\\\"width\\\":0.5}}}],\\\"heatmap\\\":[{\\\"colorbar\\\":{\\\"ticks\\\":\\\"\\\",\\\"outlinewidth\\\":0},\\\"type\\\":\\\"heatmap\\\",\\\"colorscale\\\":[[0.0,\\\"#0d0887\\\"],[0.1111111111111111,\\\"#46039f\\\"],[0.2222222222222222,\\\"#7201a8\\\"],[0.3333333333333333,\\\"#9c179e\\\"],[0.4444444444444444,\\\"#bd3786\\\"],[0.5555555555555556,\\\"#d8576b\\\"],[0.6666666666666666,\\\"#ed7953\\\"],[0.7777777777777778,\\\"#fb9f3a\\\"],[0.8888888888888888,\\\"#fdca26\\\"],[1.0,\\\"#f0f921\\\"]]}],\\\"contourcarpet\\\":[{\\\"colorbar\\\":{\\\"ticks\\\":\\\"\\\",\\\"outlinewidth\\\":0},\\\"type\\\":\\\"contourcarpet\\\"}],\\\"table\\\":[{\\\"type\\\":\\\"table\\\",\\\"header\\\":{\\\"line\\\":{\\\"color\\\":\\\"white\\\"},\\\"fill\\\":{\\\"color\\\":\\\"#C8D4E3\\\"}},\\\"cells\\\":{\\\"line\\\":{\\\"color\\\":\\\"white\\\"},\\\"fill\\\":{\\\"color\\\":\\\"#EBF0F8\\\"}}}],\\\"scatter3d\\\":[{\\\"line\\\":{\\\"colorbar\\\":{\\\"ticks\\\":\\\"\\\",\\\"outlinewidth\\\":0}},\\\"type\\\":\\\"scatter3d\\\",\\\"marker\\\":{\\\"colorbar\\\":{\\\"ticks\\\":\\\"\\\",\\\"outlinewidth\\\":0}}}],\\\"scattergl\\\":[{\\\"type\\\":\\\"scattergl\\\",\\\"marker\\\":{\\\"colorbar\\\":{\\\"ticks\\\":\\\"\\\",\\\"outlinewidth\\\":0}}}],\\\"histogram2d\\\":[{\\\"colorbar\\\":{\\\"ticks\\\":\\\"\\\",\\\"outlinewidth\\\":0},\\\"type\\\":\\\"histogram2d\\\",\\\"colorscale\\\":[[0.0,\\\"#0d0887\\\"],[0.1111111111111111,\\\"#46039f\\\"],[0.2222222222222222,\\\"#7201a8\\\"],[0.3333333333333333,\\\"#9c179e\\\"],[0.4444444444444444,\\\"#bd3786\\\"],[0.5555555555555556,\\\"#d8576b\\\"],[0.6666666666666666,\\\"#ed7953\\\"],[0.7777777777777778,\\\"#fb9f3a\\\"],[0.8888888888888888,\\\"#fdca26\\\"],[1.0,\\\"#f0f921\\\"]]}],\\\"scatterternary\\\":[{\\\"type\\\":\\\"scatterternary\\\",\\\"marker\\\":{\\\"colorbar\\\":{\\\"ticks\\\":\\\"\\\",\\\"outlinewidth\\\":0}}}],\\\"scatterpolargl\\\":[{\\\"type\\\":\\\"scatterpolargl\\\",\\\"marker\\\":{\\\"colorbar\\\":{\\\"ticks\\\":\\\"\\\",\\\"outlinewidth\\\":0}}}]}},\\\"annotations\\\":[],\\\"margin\\\":{\\\"l\\\":50,\\\"b\\\":50,\\\"r\\\":50,\\\"t\\\":60},\\\"yaxis\\\":{\\\"domain\\\":[0.0,1.0],\\\"anchor\\\":\\\"x\\\"},\\\"yaxis2\\\":{\\\"domain\\\":[0.0,1.0],\\\"anchor\\\":\\\"x2\\\"}},{\\\"showLink\\\":false,\\\"editable\\\":false,\\\"responsive\\\":true,\\\"staticPlot\\\":false,\\\"scrollZoom\\\":true}); gd.on(\\\"plotly_hover\\\",(function (data){var filtered_data=WebIO.PlotlyCommands.filterEventData(gd,data,\\\"hover\\\"); return !(filtered_data.isnil) ? (WebIO.setval({\\\"name\\\":\\\"hover\\\",\\\"scope\\\":\\\"7762690100082977540\\\",\\\"id\\\":\\\"11421614404738458333\\\",\\\"type\\\":\\\"observable\\\"},filtered_data.out)) : undefined})); gd.on(\\\"plotly_unhover\\\",(function (){return WebIO.setval({\\\"name\\\":\\\"hover\\\",\\\"scope\\\":\\\"7762690100082977540\\\",\\\"id\\\":\\\"11421614404738458333\\\",\\\"type\\\":\\\"observable\\\"},{})})); gd.on(\\\"plotly_selected\\\",(function (data){var filtered_data=WebIO.PlotlyCommands.filterEventData(gd,data,\\\"selected\\\"); return !(filtered_data.isnil) ? (WebIO.setval({\\\"name\\\":\\\"selected\\\",\\\"scope\\\":\\\"7762690100082977540\\\",\\\"id\\\":\\\"12544315377512142233\\\",\\\"type\\\":\\\"observable\\\"},filtered_data.out)) : undefined})); gd.on(\\\"plotly_deselect\\\",(function (){return WebIO.setval({\\\"name\\\":\\\"selected\\\",\\\"scope\\\":\\\"7762690100082977540\\\",\\\"id\\\":\\\"12544315377512142233\\\",\\\"type\\\":\\\"observable\\\"},{})})); gd.on(\\\"plotly_relayout\\\",(function (data){var filtered_data=WebIO.PlotlyCommands.filterEventData(gd,data,\\\"relayout\\\"); return !(filtered_data.isnil) ? (WebIO.setval({\\\"name\\\":\\\"relayout\\\",\\\"scope\\\":\\\"7762690100082977540\\\",\\\"id\\\":\\\"249306497200393785\\\",\\\"type\\\":\\\"observable\\\"},filtered_data.out)) : undefined})); return gd.on(\\\"plotly_click\\\",(function (data){var filtered_data=WebIO.PlotlyCommands.filterEventData(gd,data,\\\"click\\\"); return !(filtered_data.isnil) ? (WebIO.setval({\\\"name\\\":\\\"click\\\",\\\"scope\\\":\\\"7762690100082977540\\\",\\\"id\\\":\\\"13399239003409969537\\\",\\\"type\\\":\\\"observable\\\"},filtered_data.out)) : undefined}))}));\\n    (WebIO.importBlock({\\\"data\\\":[{\\\"name\\\":\\\"Plotly\\\",\\\"type\\\":\\\"js\\\",\\\"url\\\":\\\"\\/assetserver\\/4861d8d94a0e0c978a829bbb7ecb4a82568c2192-plotly.min.js\\\"},{\\\"name\\\":null,\\\"type\\\":\\\"js\\\",\\\"url\\\":\\\"\\/assetserver\\/000f7c658f0d87642576025e48ddde58b908ff32-plotly_webio.bundle.js\\\"}],\\\"type\\\":\\\"async_block\\\"})).then((imports) => handler.apply(this, imports));\\n}\\n\"],\"observables\":{\"_toImage\":{\"sync\":false,\"id\":\"16391292458624402276\",\"value\":{}},\"hover\":{\"sync\":false,\"id\":\"11421614404738458333\",\"value\":{}},\"selected\":{\"sync\":false,\"id\":\"12544315377512142233\",\"value\":{}},\"__gd_contents\":{\"sync\":false,\"id\":\"5699681964002920744\",\"value\":{}},\"click\":{\"sync\":false,\"id\":\"13399239003409969537\",\"value\":{}},\"image\":{\"sync\":true,\"id\":\"16088456096853849754\",\"value\":\"\"},\"__get_gd_contents\":{\"sync\":false,\"id\":\"9422782374240752893\",\"value\":\"\"},\"_downloadImage\":{\"sync\":false,\"id\":\"1574572797208401720\",\"value\":{}},\"relayout\":{\"sync\":false,\"id\":\"249306497200393785\",\"value\":{}},\"_commands\":{\"sync\":false,\"id\":\"13855248512653268260\",\"value\":[\"react\",[{\"xaxis\":\"x\",\"type\":\"histogram\",\"name\":\"Orthogonal\",\"yaxis\":\"y\",\"nbinsx\":20,\"x\":[6.107568511046905,5.810213554825182,6.11407796786827,5.554206317456867,5.5368260948277666,5.016281581637555,5.4162323295889045,5.725310608452311,5.778511855634736,5.7740676775359026,5.326375455956674,5.337062693905456,5.662805533982922,5.579316457615695,5.403883892093606,5.913189197914348,5.162426852795552,6.212909276683741,5.9499866193590325,5.370675186321016,6.395696841921928,5.472005051071693,5.747743553007606,6.098312978105215,5.522514767093861,5.7369359606247485,5.659630731872146,5.963631817096158,5.257449019031438,5.925103832223292,5.881918728895795,5.962303303627427,4.79756932858005,5.711783002335397,5.744128661633187,5.471951599525308,5.949542755285857,5.905192621155221,5.746828769010738,5.62412217845303,6.2201006210551535,5.495785433488641,6.593136288600802,5.335669672884047,5.928138836379012,5.55410970890571,5.742999129859509,5.652954414097198,5.6278343117728244,5.18471911930801,5.133478341840125,5.3745220859848715,6.027488271477537,5.696482642430767,6.296961482792941,6.08670989003735,5.309940313323095,5.5204656155967,5.839459160021923,5.520267333058224,5.66985814644686,5.704062679531273,5.958271682707537,5.654384139180436,5.336353924526711,6.150551369124435,5.868162448428416,5.4248780214111605,6.083093779691831,5.804877398170861,5.808498849226867,6.009615984007755,5.168203066022025,5.650386565059926,5.5342671643981545,5.8840370361673795,5.28894152100136,5.764965801698481,5.193528200333666,5.488369605443419,5.246698797000923,5.26511018241329,6.495025024811229,5.392654830091594,5.963695021475677,5.393364868870279,5.360221681156103,6.077832484972342,6.07332434165851,6.068372781330571,5.785435075275903,6.568924913603803,5.888109144996454,5.412854518462783,6.677184566184484,5.376298274700554,5.941669072027346,5.775626856389758,5.4260128979570705,6.200401251154278]},{\"xaxis\":\"x2\",\"type\":\"histogram\",\"name\":\"Naive\",\"yaxis\":\"y2\",\"nbinsx\":20,\"x\":[5.567070150014072,5.730359576015885,5.839376694184348,5.526594264172206,5.791957626870241,5.819116763890307,5.530066035704268,5.711568184653146,5.689132884288875,5.908377828201319,5.578575871982487,5.22026869229555,5.98510521784622,5.350284350334943,5.995387818735469,5.591095163220315,5.619150324714862,5.477694929220629,5.343574795339128,5.462083679071092,6.123642111382798,5.534947358185479,5.2172225036226,5.513845739258639,5.277853554256551,5.632095226698355,5.807605721124742,6.053073417504627,5.34907675864391,5.483470400693118,5.625735543792541,5.471951145967757,5.340836857464183,6.021355422397427,5.415689284968005,5.1711087599884085,5.157942581300622,5.692012390337107,5.218232790809028,5.968597479325352,5.7985491744862845,5.455885322218423,5.640721083163408,5.229502749181458,5.67210870663118,5.630498974070358,5.887487463662591,5.834535208124073,5.653833492176141,5.234045405378721,5.018359394098107,5.40474352052405,5.692566441647851,5.630251799413699,5.677751819869687,5.853376309202167,5.278092563932473,5.471514126763407,5.845515447147241,5.475785271472894,5.543917293886057,5.340867658445492,5.664547597992231,5.925353093367543,5.233821362661974,5.8420275614273285,5.3723522063136695,5.21027544722544,5.75052362105005,5.831820140030925,5.49976152168285,5.579553935526484,5.4598594942983585,5.440672549816444,5.485522048060428,5.832818395897455,5.614747258662229,5.7065348208743245,5.590290099541028,5.434523778773087,5.501433025719203,5.281232324061369,5.7171393493773515,5.60083980402685,5.424746536867222,5.634465589817956,5.5135856873631495,5.903436653277442,5.805037622231597,5.609854816698936,5.640911395133303,5.906554742921648,5.778892292055508,5.4095738788209635,6.072129125146587,5.564054534367636,5.9681864215255,5.346027253989025,5.330779726882273,5.863645201451791]}],{\"xaxis\":{\"domain\":[0.0,0.45],\"anchor\":\"y\"},\"xaxis2\":{\"domain\":[0.55,1.0],\"anchor\":\"y2\"},\"template\":{\"data\":{\"scatterpolargl\":[{\"type\":\"scatterpolargl\",\"marker\":{\"colorbar\":{\"ticks\":\"\",\"outlinewidth\":0}}}],\"carpet\":[{\"baxis\":{\"gridcolor\":\"white\",\"endlinecolor\":\"#2a3f5f\",\"minorgridcolor\":\"white\",\"startlinecolor\":\"#2a3f5f\",\"linecolor\":\"white\"},\"type\":\"carpet\",\"aaxis\":{\"gridcolor\":\"white\",\"endlinecolor\":\"#2a3f5f\",\"minorgridcolor\":\"white\",\"startlinecolor\":\"#2a3f5f\",\"linecolor\":\"white\"}}],\"scatterpolar\":[{\"type\":\"scatterpolar\",\"marker\":{\"colorbar\":{\"ticks\":\"\",\"outlinewidth\":0}}}],\"parcoords\":[{\"line\":{\"colorbar\":{\"ticks\":\"\",\"outlinewidth\":0}},\"type\":\"parcoords\"}],\"scatter\":[{\"type\":\"scatter\",\"marker\":{\"colorbar\":{\"ticks\":\"\",\"outlinewidth\":0}}}],\"histogram2dcontour\":[{\"colorbar\":{\"ticks\":\"\",\"outlinewidth\":0},\"type\":\"histogram2dcontour\",\"colorscale\":[[0.0,\"#0d0887\"],[0.1111111111111111,\"#46039f\"],[0.2222222222222222,\"#7201a8\"],[0.3333333333333333,\"#9c179e\"],[0.4444444444444444,\"#bd3786\"],[0.5555555555555556,\"#d8576b\"],[0.6666666666666666,\"#ed7953\"],[0.7777777777777778,\"#fb9f3a\"],[0.8888888888888888,\"#fdca26\"],[1.0,\"#f0f921\"]]}],\"contour\":[{\"colorbar\":{\"ticks\":\"\",\"outlinewidth\":0},\"type\":\"contour\",\"colorscale\":[[0.0,\"#0d0887\"],[0.1111111111111111,\"#46039f\"],[0.2222222222222222,\"#7201a8\"],[0.3333333333333333,\"#9c179e\"],[0.4444444444444444,\"#bd3786\"],[0.5555555555555556,\"#d8576b\"],[0.6666666666666666,\"#ed7953\"],[0.7777777777777778,\"#fb9f3a\"],[0.8888888888888888,\"#fdca26\"],[1.0,\"#f0f921\"]]}],\"scattercarpet\":[{\"type\":\"scattercarpet\",\"marker\":{\"colorbar\":{\"ticks\":\"\",\"outlinewidth\":0}}}],\"mesh3d\":[{\"colorbar\":{\"ticks\":\"\",\"outlinewidth\":0},\"type\":\"mesh3d\"}],\"surface\":[{\"colorbar\":{\"ticks\":\"\",\"outlinewidth\":0},\"type\":\"surface\",\"colorscale\":[[0.0,\"#0d0887\"],[0.1111111111111111,\"#46039f\"],[0.2222222222222222,\"#7201a8\"],[0.3333333333333333,\"#9c179e\"],[0.4444444444444444,\"#bd3786\"],[0.5555555555555556,\"#d8576b\"],[0.6666666666666666,\"#ed7953\"],[0.7777777777777778,\"#fb9f3a\"],[0.8888888888888888,\"#fdca26\"],[1.0,\"#f0f921\"]]}],\"scattermapbox\":[{\"type\":\"scattermapbox\",\"marker\":{\"colorbar\":{\"ticks\":\"\",\"outlinewidth\":0}}}],\"scattergeo\":[{\"type\":\"scattergeo\",\"marker\":{\"colorbar\":{\"ticks\":\"\",\"outlinewidth\":0}}}],\"histogram\":[{\"type\":\"histogram\",\"marker\":{\"colorbar\":{\"ticks\":\"\",\"outlinewidth\":0}}}],\"pie\":[{\"type\":\"pie\",\"automargin\":true}],\"choropleth\":[{\"colorbar\":{\"ticks\":\"\",\"outlinewidth\":0},\"type\":\"choropleth\"}],\"heatmapgl\":[{\"colorbar\":{\"ticks\":\"\",\"outlinewidth\":0},\"type\":\"heatmapgl\",\"colorscale\":[[0.0,\"#0d0887\"],[0.1111111111111111,\"#46039f\"],[0.2222222222222222,\"#7201a8\"],[0.3333333333333333,\"#9c179e\"],[0.4444444444444444,\"#bd3786\"],[0.5555555555555556,\"#d8576b\"],[0.6666666666666666,\"#ed7953\"],[0.7777777777777778,\"#fb9f3a\"],[0.8888888888888888,\"#fdca26\"],[1.0,\"#f0f921\"]]}],\"bar\":[{\"type\":\"bar\",\"error_y\":{\"color\":\"#2a3f5f\"},\"error_x\":{\"color\":\"#2a3f5f\"},\"marker\":{\"line\":{\"color\":\"#E5ECF6\",\"width\":0.5}}}],\"heatmap\":[{\"colorbar\":{\"ticks\":\"\",\"outlinewidth\":0},\"type\":\"heatmap\",\"colorscale\":[[0.0,\"#0d0887\"],[0.1111111111111111,\"#46039f\"],[0.2222222222222222,\"#7201a8\"],[0.3333333333333333,\"#9c179e\"],[0.4444444444444444,\"#bd3786\"],[0.5555555555555556,\"#d8576b\"],[0.6666666666666666,\"#ed7953\"],[0.7777777777777778,\"#fb9f3a\"],[0.8888888888888888,\"#fdca26\"],[1.0,\"#f0f921\"]]}],\"contourcarpet\":[{\"colorbar\":{\"ticks\":\"\",\"outlinewidth\":0},\"type\":\"contourcarpet\"}],\"table\":[{\"type\":\"table\",\"header\":{\"line\":{\"color\":\"white\"},\"fill\":{\"color\":\"#C8D4E3\"}},\"cells\":{\"line\":{\"color\":\"white\"},\"fill\":{\"color\":\"#EBF0F8\"}}}],\"scatter3d\":[{\"line\":{\"colorbar\":{\"ticks\":\"\",\"outlinewidth\":0}},\"type\":\"scatter3d\",\"marker\":{\"colorbar\":{\"ticks\":\"\",\"outlinewidth\":0}}}],\"scattergl\":[{\"type\":\"scattergl\",\"marker\":{\"colorbar\":{\"ticks\":\"\",\"outlinewidth\":0}}}],\"histogram2d\":[{\"colorbar\":{\"ticks\":\"\",\"outlinewidth\":0},\"type\":\"histogram2d\",\"colorscale\":[[0.0,\"#0d0887\"],[0.1111111111111111,\"#46039f\"],[0.2222222222222222,\"#7201a8\"],[0.3333333333333333,\"#9c179e\"],[0.4444444444444444,\"#bd3786\"],[0.5555555555555556,\"#d8576b\"],[0.6666666666666666,\"#ed7953\"],[0.7777777777777778,\"#fb9f3a\"],[0.8888888888888888,\"#fdca26\"],[1.0,\"#f0f921\"]]}],\"scatterternary\":[{\"type\":\"scatterternary\",\"marker\":{\"colorbar\":{\"ticks\":\"\",\"outlinewidth\":0}}}],\"barpolar\":[{\"type\":\"barpolar\",\"marker\":{\"line\":{\"color\":\"#E5ECF6\",\"width\":0.5}}}]},\"layout\":{\"xaxis\":{\"gridcolor\":\"white\",\"zerolinewidth\":2,\"title\":{\"standoff\":15},\"ticks\":\"\",\"zerolinecolor\":\"white\",\"automargin\":true,\"linecolor\":\"white\"},\"hovermode\":\"closest\",\"paper_bgcolor\":\"white\",\"geo\":{\"showlakes\":true,\"showland\":true,\"landcolor\":\"#E5ECF6\",\"bgcolor\":\"white\",\"subunitcolor\":\"white\",\"lakecolor\":\"white\"},\"colorscale\":{\"sequential\":[[0.0,\"#0d0887\"],[0.1111111111111111,\"#46039f\"],[0.2222222222222222,\"#7201a8\"],[0.3333333333333333,\"#9c179e\"],[0.4444444444444444,\"#bd3786\"],[0.5555555555555556,\"#d8576b\"],[0.6666666666666666,\"#ed7953\"],[0.7777777777777778,\"#fb9f3a\"],[0.8888888888888888,\"#fdca26\"],[1.0,\"#f0f921\"]],\"diverging\":[[0,\"#8e0152\"],[0.1,\"#c51b7d\"],[0.2,\"#de77ae\"],[0.3,\"#f1b6da\"],[0.4,\"#fde0ef\"],[0.5,\"#f7f7f7\"],[0.6,\"#e6f5d0\"],[0.7,\"#b8e186\"],[0.8,\"#7fbc41\"],[0.9,\"#4d9221\"],[1,\"#276419\"]],\"sequentialminus\":[[0.0,\"#0d0887\"],[0.1111111111111111,\"#46039f\"],[0.2222222222222222,\"#7201a8\"],[0.3333333333333333,\"#9c179e\"],[0.4444444444444444,\"#bd3786\"],[0.5555555555555556,\"#d8576b\"],[0.6666666666666666,\"#ed7953\"],[0.7777777777777778,\"#fb9f3a\"],[0.8888888888888888,\"#fdca26\"],[1.0,\"#f0f921\"]]},\"yaxis\":{\"gridcolor\":\"white\",\"zerolinewidth\":2,\"title\":{\"standoff\":15},\"ticks\":\"\",\"zerolinecolor\":\"white\",\"automargin\":true,\"linecolor\":\"white\"},\"shapedefaults\":{\"line\":{\"color\":\"#2a3f5f\"}},\"font\":{\"color\":\"#2a3f5f\"},\"annotationdefaults\":{\"arrowhead\":0,\"arrowwidth\":1,\"arrowcolor\":\"#2a3f5f\"},\"plot_bgcolor\":\"#E5ECF6\",\"title\":{\"x\":0.05},\"coloraxis\":{\"colorbar\":{\"ticks\":\"\",\"outlinewidth\":0}},\"hoverlabel\":{\"align\":\"left\"},\"mapbox\":{\"style\":\"light\"},\"polar\":{\"angularaxis\":{\"gridcolor\":\"white\",\"ticks\":\"\",\"linecolor\":\"white\"},\"bgcolor\":\"#E5ECF6\",\"radialaxis\":{\"gridcolor\":\"white\",\"ticks\":\"\",\"linecolor\":\"white\"}},\"autotypenumbers\":\"strict\",\"ternary\":{\"aaxis\":{\"gridcolor\":\"white\",\"ticks\":\"\",\"linecolor\":\"white\"},\"bgcolor\":\"#E5ECF6\",\"caxis\":{\"gridcolor\":\"white\",\"ticks\":\"\",\"linecolor\":\"white\"},\"baxis\":{\"gridcolor\":\"white\",\"ticks\":\"\",\"linecolor\":\"white\"}},\"scene\":{\"xaxis\":{\"gridcolor\":\"white\",\"gridwidth\":2,\"backgroundcolor\":\"#E5ECF6\",\"ticks\":\"\",\"showbackground\":true,\"zerolinecolor\":\"white\",\"linecolor\":\"white\"},\"zaxis\":{\"gridcolor\":\"white\",\"gridwidth\":2,\"backgroundcolor\":\"#E5ECF6\",\"ticks\":\"\",\"showbackground\":true,\"zerolinecolor\":\"white\",\"linecolor\":\"white\"},\"yaxis\":{\"gridcolor\":\"white\",\"gridwidth\":2,\"backgroundcolor\":\"#E5ECF6\",\"ticks\":\"\",\"showbackground\":true,\"zerolinecolor\":\"white\",\"linecolor\":\"white\"}},\"colorway\":[\"#636efa\",\"#EF553B\",\"#00cc96\",\"#ab63fa\",\"#FFA15A\",\"#19d3f3\",\"#FF6692\",\"#B6E880\",\"#FF97FF\",\"#FECB52\"]}},\"annotations\":[],\"margin\":{\"l\":50,\"b\":50,\"r\":50,\"t\":60},\"yaxis\":{\"domain\":[0.0,1.0],\"anchor\":\"x\"},\"yaxis2\":{\"domain\":[0.0,1.0],\"anchor\":\"x2\"}}]}}},\"children\":[{\"props\":{\"id\":\"plot-9265a50b-249a-4078-ba41-484f84b15c4f\"},\"nodeType\":\"DOM\",\"type\":\"node\",\"instanceArgs\":{\"namespace\":\"html\",\"tag\":\"div\"},\"children\":[]}]},\n",
       "        window,\n",
       "    );\n",
       "    })()\n",
       "    </script>\n",
       "</div>\n"
      ],
      "text/plain": [
       "data: [\n",
       "  \"histogram with fields name, nbinsx, type, x, xaxis, and yaxis\",\n",
       "  \"histogram with fields name, nbinsx, type, x, xaxis, and yaxis\"\n",
       "]\n",
       "\n",
       "layout: \"layout with fields annotations, margin, template, xaxis, xaxis2, yaxis, and yaxis2\"\n",
       "\n"
      ]
     },
     "execution_count": 250,
     "metadata": {},
     "output_type": "execute_result"
    }
   ],
   "source": [
    "p = make_subplots(rows=1, cols=2)\n",
    "add_trace!(p, PlotlyJS.histogram(x=Orthogonal_100-1, nbinsx=20,name=\"Orthogonal\"), row=1, col=1)\n",
    "add_trace!(p, PlotlyJS.histogram(x=Naive_100-1, nbinsx=20,name=\"Naive\"), row=1, col=2)\n",
    "p"
   ]
  },
  {
   "cell_type": "markdown",
   "metadata": {},
   "source": [
    "## B = 1000"
   ]
  },
  {
   "cell_type": "code",
   "execution_count": 251,
   "metadata": {},
   "outputs": [],
   "source": [
    "# Set seed\n",
    "Random.seed!(23)\n",
    "B = 1000\n",
    "Naive_1000 = zeros(B)\n",
    "Orthogonal_1000 = zeros(B);"
   ]
  },
  {
   "cell_type": "code",
   "execution_count": 252,
   "metadata": {},
   "outputs": [],
   "source": [
    "for i in 1:B\n",
    "    n = 100\n",
    "    p = 100\n",
    "    beta =  reshape(( 1 ./ (1:p).^ 2 ),p,1)\n",
    "    gamma = reshape(( 1 ./ (1:p).^ 2 ),p,1)\n",
    "\n",
    "    # mean = 0\n",
    "    sd = 1\n",
    "    X = randn(( n, p ))\n",
    "\n",
    "    D = ( X * gamma ) + reshape(randn(n),n, 1)/4 \n",
    "\n",
    "    # DGP \n",
    "    Y = 5 .*D + ( X * beta ) + reshape(randn( n ), n, 1 )\n",
    "\n",
    "    D = DataFrame(D,:auto)\n",
    "    rename!(D,:x1 => :D)\n",
    "    X = DataFrame(X,:auto)\n",
    "    Y =  DataFrame(Y,:auto)\n",
    "    rename!(Y,:x1 => :Y)\n",
    "\n",
    "    DX = hcat( D , X)\n",
    "    YD = hcat( Y , D)\n",
    "\n",
    "    r_lasso_estimation = rlasso_arg( DX , Y , nothing, true, true, true, false, false, \n",
    "                        nothing, 1.1, nothing, 5000, 15, 10^(-5), -Inf, true, Inf, true ) # Regress main equation by lasso\n",
    "    coef_array = rlasso(r_lasso_estimation)[\"beta\"][2:end,2] #Extract array of covariates X, sometimes all items wont be zero.\n",
    "    SX_IDs  = findall(x-> x != 0,coef_array) # Find THE POSITION OF all non-zero covariates in COEF_ARRAY\n",
    "\n",
    "    # In case all X coefficients are zero, then regress Y on D\n",
    "    if sum(SX_IDs) == 0 \n",
    "        reg = lm( term(:Y) ~ term(:D), YD )\n",
    "        Naive_1000[i] = GLM.coeftable(reg).cols[1,1][2]\n",
    "\n",
    "    # Otherwise, regress Y on X and D (but only in the selected coefficients)\n",
    "    elseif sum( SX_IDs ) > 0\n",
    "        df = hcat(Y, D, X[:, SX_IDs ],makeunique=true ) \n",
    "        reg = lm( term(:Y) ~ sum(term.(names(df[!, Not([\"Y\"])]))),df )\n",
    "        Naive_1000[ i ] = GLM.coeftable(reg).cols[1,1][2]\n",
    "    end\n",
    "    # In both cases we save D coefficient\n",
    "\n",
    "    # Regress residuals. \n",
    "    regY = rlasso_arg( X , Y , nothing, false, true, true, false, false, \n",
    "                        nothing, 1.1, nothing, 5000, 15, 10^(-5), -Inf, true, Inf, true ) # No post lasso\n",
    "    resY = rlasso(regY)[\"residuals\"]\n",
    "\n",
    "    regD = rlasso_arg( X , D , nothing, false, true, true, false, false, \n",
    "                        nothing, 1.1, nothing, 5000, 15, 10^(-5), -Inf, true, Inf, true ) # No post lasso\n",
    "    resD = rlasso(regD)[\"residuals\"]\n",
    "\n",
    "    eYeD = DataFrame(hcat( resY , resD),:auto)\n",
    "    rename!(eYeD,:x1 => :resY)\n",
    "    rename!(eYeD,:x2 => :resD)\n",
    "\n",
    "    res_reg= lm( @formula(resY ~ 0 + resD), eYeD)\n",
    "    Orthogonal_1000[ i ] = GLM.coeftable(res_reg).cols[1][1]\n",
    "        \n",
    "end"
   ]
  },
  {
   "cell_type": "code",
   "execution_count": null,
   "metadata": {},
   "outputs": [],
   "source": [
    "mean()"
   ]
  },
  {
   "cell_type": "code",
   "execution_count": 253,
   "metadata": {},
   "outputs": [
    {
     "data": {
      "application/vnd.plotly.v1+json": {
       "config": {
        "editable": false,
        "responsive": true,
        "scrollZoom": true,
        "showLink": false,
        "staticPlot": false
       },
       "data": [
        {
         "name": "Orthogonal",
         "nbinsx": 100,
         "type": "histogram",
         "x": [
          6.107568511046905,
          5.810213554825182,
          6.11407796786827,
          5.554206317456867,
          5.5368260948277666,
          5.016281581637555,
          5.4162323295889045,
          5.725310608452311,
          5.778511855634736,
          5.7740676775359026,
          5.326375455956674,
          5.337062693905456,
          5.662805533982922,
          5.579316457615695,
          5.403883892093606,
          5.913189197914348,
          5.162426852795552,
          6.212909276683741,
          5.9499866193590325,
          5.370675186321016,
          6.395696841921928,
          5.472005051071693,
          5.747743553007606,
          6.098312978105215,
          5.522514767093861,
          5.7369359606247485,
          5.659630731872146,
          5.963631817096158,
          5.257449019031438,
          5.925103832223292,
          5.881918728895795,
          5.962303303627427,
          4.79756932858005,
          5.711783002335397,
          5.744128661633187,
          5.471951599525308,
          5.949542755285857,
          5.905192621155221,
          5.746828769010738,
          5.62412217845303,
          6.2201006210551535,
          5.495785433488641,
          6.593136288600802,
          5.335669672884047,
          5.928138836379012,
          5.55410970890571,
          5.742999129859509,
          5.652954414097198,
          5.6278343117728244,
          5.18471911930801,
          5.133478341840125,
          5.3745220859848715,
          6.027488271477537,
          5.696482642430767,
          6.296961482792941,
          6.08670989003735,
          5.309940313323095,
          5.5204656155967,
          5.839459160021923,
          5.520267333058224,
          5.66985814644686,
          5.704062679531273,
          5.958271682707537,
          5.654384139180436,
          5.336353924526711,
          6.150551369124435,
          5.868162448428416,
          5.4248780214111605,
          6.083093779691831,
          5.804877398170861,
          5.808498849226867,
          6.009615984007755,
          5.168203066022025,
          5.650386565059926,
          5.5342671643981545,
          5.8840370361673795,
          5.28894152100136,
          5.764965801698481,
          5.193528200333666,
          5.488369605443419,
          5.246698797000923,
          5.26511018241329,
          6.495025024811229,
          5.392654830091594,
          5.963695021475677,
          5.393364868870279,
          5.360221681156103,
          6.077832484972342,
          6.07332434165851,
          6.068372781330571,
          5.785435075275903,
          6.568924913603803,
          5.888109144996454,
          5.412854518462783,
          6.677184566184484,
          5.376298274700554,
          5.941669072027346,
          5.775626856389758,
          5.4260128979570705,
          6.200401251154278,
          5.560980595053972,
          5.951322220971703,
          5.4700507249716,
          5.771512405102399,
          5.72913215491304,
          5.7361732725514445,
          5.2056211528061205,
          5.414672566414323,
          5.4815501541150065,
          5.464757865627631,
          5.347612091034036,
          4.93699802627384,
          5.861901860828499,
          6.339574672925144,
          5.139322976442046,
          6.084549769429847,
          6.007941263321227,
          6.270623467969601,
          5.358612450447029,
          5.334477541339169,
          5.582071088342316,
          5.496380650913539,
          6.052175599911031,
          5.187415054124397,
          5.845343550485119,
          5.772463995246903,
          5.918969938302781,
          5.449279300276697,
          5.63622671135069,
          5.827890567816103,
          5.422082847085847,
          6.125289517657239,
          5.900633666608992,
          5.8511163403506155,
          6.060756438183098,
          5.690226038302118,
          5.720567021879225,
          5.7430871519807205,
          5.673258167799817,
          5.642152757849405,
          5.558637459810531,
          5.810466755154956,
          6.167543807843761,
          5.386695264504059,
          5.797453100240223,
          5.198918134933828,
          6.11735011757151,
          5.508416767683799,
          5.698865820983134,
          5.881674444230245,
          5.590813953940776,
          5.575618718447207,
          6.02327578475475,
          4.8859287030961545,
          5.634390624079471,
          5.906014383101035,
          5.317256732342661,
          5.722147276511858,
          5.53443126527019,
          5.290719103036517,
          4.829803238488437,
          5.818312169710063,
          6.103149136002748,
          5.6276906539988385,
          6.1680099194895615,
          5.912745247359617,
          5.856621792288281,
          5.359950845154576,
          5.100111306700768,
          5.672254181869683,
          6.748599519638995,
          5.056472320925706,
          5.741277141016333,
          6.45686204587979,
          6.520042447123946,
          5.799292494205488,
          5.31814438831497,
          5.142375985645563,
          5.924311964094346,
          5.9522141816474194,
          5.7317004105854,
          5.8265772515555785,
          5.490867097229053,
          5.884944875336908,
          6.090919087122443,
          6.427085890633342,
          6.061799268586556,
          5.795639156535582,
          5.93122467733949,
          6.20659298936716,
          6.2417136257199965,
          5.867639273512921,
          4.755065163581526,
          5.193025871893581,
          6.008692148492039,
          6.011476243085637,
          5.64231107212913,
          5.184881888553302,
          6.09565236832357,
          5.644261716827655,
          6.0713096648119835,
          7.008805661719319,
          4.903722789112909,
          6.107077772759225,
          5.877575646984767,
          6.0811354895204515,
          5.297566702664569,
          5.304132778475264,
          6.0581449523227064,
          5.325605820380032,
          5.3497249682490144,
          5.806774807248395,
          6.45678483879297,
          5.51938801343806,
          5.382735204420733,
          5.450332733298995,
          5.187083294040771,
          5.512100145645249,
          6.4095163093096845,
          5.978051291614209,
          5.49259480446522,
          5.630417750351423,
          5.986727543328434,
          5.999461895182157,
          5.710762084871745,
          6.164071560930661,
          5.877831197156771,
          5.164393441723835,
          5.69523921955908,
          6.2524644686055435,
          6.109388929757842,
          5.580778825067641,
          5.509243844433659,
          6.541889628007959,
          6.530973726419488,
          5.524514555781543,
          5.961522279619064,
          5.678221080275197,
          5.262923269598195,
          5.417564483776286,
          5.6007785502216665,
          5.694138101501311,
          5.259698869925735,
          6.20366819582993,
          5.345751064871103,
          5.689700286239909,
          5.547752561901228,
          6.06475436172099,
          5.555899793572918,
          5.558632567334663,
          5.043299017668125,
          5.429503129115457,
          6.049987348736283,
          5.860523293370428,
          5.296995000854609,
          5.79307467698569,
          6.076274543471935,
          6.076204627544584,
          5.315382628807577,
          5.392529190623105,
          5.613269803434617,
          6.040024437441193,
          5.5180574503441955,
          5.141272513479832,
          5.518844596204041,
          6.045450950318228,
          5.679771611989975,
          5.475253495369178,
          5.654184791382703,
          6.916062394253931,
          6.461577902120566,
          6.123517982896698,
          5.498405705132376,
          5.7321435808319485,
          5.345685308018633,
          6.765685410439044,
          5.612474811517067,
          5.969159688707534,
          5.713833928196467,
          6.1332259070577475,
          5.568443763817454,
          5.482768815028698,
          6.581689333014717,
          5.23474853053907,
          4.962263400329823,
          4.669367741428423,
          6.2721817258819055,
          5.085309989633146,
          5.74813262694913,
          5.69268744506386,
          6.460211138822818,
          5.153235015867389,
          5.898500089843504,
          5.658808712314883,
          5.548725302083384,
          6.175227066463035,
          5.906154193756551,
          5.177475526525687,
          5.19211622432548,
          5.797717361690097,
          5.988591536646364,
          5.5861803275944295,
          5.558253408451754,
          5.543927345385821,
          5.781234372007495,
          5.482387112422447,
          5.410131695009661,
          5.7024106992988965,
          6.043520812939188,
          5.7776008584069825,
          5.614571223105431,
          5.731414405828373,
          5.387083561741643,
          5.446570001210292,
          5.508113423745297,
          5.976836717890405,
          5.806970378496764,
          6.155820912288359,
          6.422413330789537,
          5.6249094135944,
          5.791318633534832,
          5.361755593578842,
          5.4421658026259525,
          5.672887811597817,
          5.438592850194256,
          6.126941212068643,
          5.8120936096314475,
          6.102078474157441,
          5.7251729835397915,
          5.5813803527931505,
          6.125976663137116,
          5.509536366094047,
          6.000275805420531,
          5.217656173454716,
          6.107115742882528,
          5.8301061438628095,
          5.3164921634627005,
          6.240753912856652,
          4.955202030229825,
          5.757446825544461,
          6.057556205314745,
          5.688344522026288,
          5.503069778902809,
          5.829579380002383,
          5.7888211416422735,
          5.471483476616392,
          5.41203456682905,
          5.3727256593534705,
          5.716411273705662,
          5.67872132412138,
          5.874395323712856,
          5.314507809670971,
          5.368188553907451,
          5.765323935033712,
          5.3913466600347615,
          6.524046913319985,
          5.778018444358185,
          5.323945734867199,
          6.432881656759396,
          6.218046803117787,
          5.619925410365436,
          5.833672950951028,
          5.682182510370938,
          5.3156056513985,
          5.946292179652828,
          6.08436708192913,
          6.056459887128635,
          5.302323816226455,
          6.240287244511541,
          6.014304024681786,
          5.559919333637521,
          6.005740393597572,
          5.722075190109525,
          5.4253135651156486,
          6.273439580674439,
          6.09475924423053,
          5.86010730198425,
          5.7983856469595905,
          4.739854551181505,
          5.538858118612009,
          4.974570198924403,
          5.819998148687086,
          5.163134385640344,
          5.624495268896525,
          5.629925221589591,
          5.640830592477176,
          5.394560271778085,
          6.164303585018635,
          5.812823501081109,
          6.209569833866644,
          6.106155757650527,
          6.314067111148989,
          5.574183824932828,
          5.709601081159504,
          5.707167599817791,
          5.386038706396614,
          5.655211303291315,
          5.552477445634812,
          5.356766352617561,
          5.453568073111348,
          6.058040358619122,
          5.99360580061112,
          6.232308352868817,
          6.716678360903331,
          4.974356856441043,
          5.883741436763513,
          5.754467059665623,
          5.460895675632773,
          5.724382975541346,
          5.923542885331048,
          5.372566785009904,
          5.405437542159376,
          5.125638201371187,
          5.784573264861598,
          5.512923928752491,
          5.368693769239273,
          5.703700700519383,
          5.297615258545384,
          6.086957541968941,
          5.88123628837459,
          5.805848264838678,
          5.897806299177975,
          6.52382814071302,
          5.587871834916659,
          5.423908836366173,
          5.238215669417969,
          5.635182217988209,
          6.216836459629114,
          5.8321620148997395,
          6.081866112576794,
          5.698136400640835,
          5.915732243562646,
          5.849780861371889,
          5.314663113734348,
          5.446364326916182,
          5.679552590643088,
          6.5673711570099025,
          5.801615388928557,
          5.500383253990185,
          5.740617696339916,
          5.138033983914952,
          5.720975675341126,
          5.567185848489078,
          5.553455361261943,
          5.528570215254164,
          6.582312916103325,
          4.981028239146297,
          5.751752669596453,
          5.572615873256266,
          6.172208329480789,
          6.491141967779967,
          5.322725952008928,
          6.431291754691763,
          5.62622349435072,
          5.574760958462519,
          5.458660577782386,
          5.030771726737154,
          6.247430764107554,
          6.249548805258312,
          5.393729028392903,
          6.286936908987922,
          5.622950058202315,
          5.461567978323133,
          6.122621652613671,
          5.263987976705324,
          5.635904781067299,
          5.361706880758039,
          5.70368177857254,
          5.386849807555269,
          6.054093079478124,
          5.597551177812741,
          6.089046967454315,
          5.786982232032199,
          5.07420754830986,
          6.286322391811313,
          5.260752728109159,
          5.929151049338911,
          5.324847998627858,
          5.917905600422398,
          5.571901347169145,
          5.956600590909769,
          5.207771904586365,
          5.774358877241991,
          5.972250363136424,
          5.292784371359824,
          5.668744090661565,
          4.890221656278715,
          5.167221536571763,
          6.025083838632521,
          6.339683109681167,
          5.527623661357297,
          5.1978725333524824,
          5.638317580351045,
          6.373725739613006,
          5.471251949721102,
          5.718211655580553,
          5.064611882505276,
          6.138929199722163,
          5.804433133362743,
          5.165756592396923,
          6.151950833768637,
          5.739999393159636,
          5.375416617971274,
          5.078349381034918,
          6.366414299594279,
          6.137860106556483,
          6.215767864164291,
          6.263780514220313,
          6.026432725079998,
          4.990048636660518,
          5.814022038295333,
          5.14788017135308,
          5.691075829758535,
          5.404201676766732,
          5.510669010611435,
          5.85955961464926,
          4.647448912827727,
          5.607967904306502,
          5.340201255141174,
          5.841618764719202,
          5.93513695997998,
          5.4370268431637205,
          5.154277885589167,
          5.503696276857688,
          5.569956248346811,
          5.625791317978774,
          5.06894456690343,
          5.6197174009050865,
          5.705693111395938,
          5.689395586600133,
          5.312678957910025,
          5.918277822971636,
          6.242293894628155,
          5.108373218773574,
          5.723385547256374,
          5.361311250304198,
          4.915341315929742,
          5.868207388399135,
          6.3628494767677575,
          5.415265026699285,
          5.612542533693852,
          6.768535360574567,
          6.7276027647285535,
          5.623132927460857,
          5.891914549791491,
          5.936077983754045,
          6.080244591869497,
          5.956721091885497,
          5.691993329735401,
          5.000031132652638,
          5.85077795465725,
          5.998998104814011,
          6.215138375798019,
          5.821083770930465,
          5.251428172691124,
          5.297835553178878,
          5.701759810489034,
          6.0044708578498875,
          6.052689502968753,
          5.672501596372798,
          5.847886813007921,
          5.9877737158184345,
          6.129413057375112,
          5.486539294351605,
          6.838287667249502,
          6.133352318016795,
          6.937212718664181,
          5.70577601724731,
          5.3292095853806405,
          5.938690688568692,
          5.532543501731862,
          5.9142248675548466,
          5.892761889786396,
          5.3566383972341525,
          5.793605672825187,
          5.613242154846922,
          5.5993987317287885,
          5.662854138746266,
          5.973862497157568,
          4.825768664786389,
          5.424205946722846,
          5.559093893723148,
          5.871795413240727,
          5.697235803831269,
          6.483489460861043,
          5.482581438549369,
          5.392329718875658,
          5.355230495574424,
          4.976454006284994,
          5.697340277353722,
          5.719780432942379,
          5.776391374869373,
          6.49219530407358,
          6.329683458122619,
          5.555208781901352,
          5.76826287423125,
          5.692596152573779,
          5.463021157024137,
          6.022881688810045,
          5.918239093117618,
          5.575746202303747,
          5.249698091427487,
          5.506654304032596,
          5.861668932054178,
          5.56515416461898,
          5.7235689861361205,
          5.962095348108621,
          5.92560192050325,
          5.720147615925716,
          6.56079566457058,
          5.652957285790534,
          5.893120839265849,
          5.463669392296137,
          5.6195415005211755,
          5.2348339890026825,
          5.787250494453587,
          6.253771186450869,
          5.616571268875094,
          5.183433878495448,
          5.506186605655691,
          5.639300148371706,
          5.925204139008253,
          5.772443060436712,
          5.55423631724294,
          5.385764154024337,
          5.43939769897937,
          6.077516928203126,
          5.985890742295231,
          5.917940336102536,
          5.911118200801313,
          6.501785610143124,
          5.98029761887292,
          5.595440735078974,
          5.937679456839811,
          6.157844629744207,
          5.404665396843739,
          5.666180960281378,
          5.4172334458086535,
          5.31326983215903,
          5.493904872469831,
          4.818678906306636,
          5.64329479723223,
          5.699968128320934,
          6.326466283967149,
          5.9182554187029055,
          5.534603074927688,
          6.198260176056579,
          5.991609158075365,
          6.158214602539315,
          5.648645200745957,
          6.547686943524618,
          5.24733986754062,
          5.419594688075518,
          5.561964449945743,
          6.581742559101752,
          5.136404090094551,
          5.771741335993104,
          6.321765747944664,
          5.544097313186268,
          6.5068631816995035,
          5.811892772485282,
          5.942613355705237,
          5.128404094513622,
          5.013652633706198,
          6.749582782990043,
          5.906591004719509,
          6.092970641974128,
          5.9047681894777675,
          5.616890259984873,
          5.402378150874617,
          4.9328823405389555,
          6.061207182489485,
          6.172458128442292,
          5.672922675340171,
          5.359869910377608,
          5.9175162652723925,
          6.304895729616463,
          6.438793014350966,
          5.671916493861412,
          6.135357767547289,
          5.920474768473695,
          5.595685924455984,
          5.780894286176111,
          5.979438224652342,
          5.694083211571075,
          6.146805734067907,
          5.276520170690887,
          5.646297119377111,
          5.406203545077736,
          5.200055634507831,
          5.913439318633996,
          5.447538144795712,
          5.281234793411853,
          5.939364860603275,
          4.817760457818891,
          5.144078065875964,
          5.687608119432422,
          5.8144110691228565,
          4.697800024773641,
          5.691347763111618,
          5.828977146169927,
          5.411197471864421,
          6.136031081536431,
          5.618539854710581,
          5.462242378932786,
          5.295098760813482,
          5.112615724424245,
          5.189718061348512,
          5.510979345458499,
          5.933524704202853,
          5.6335693288019595,
          5.860451313910437,
          5.2649998199674535,
          5.668189243446841,
          5.908987730100047,
          5.167695894518751,
          6.026108005203097,
          5.937548678129077,
          5.471740017009577,
          5.8125923067615455,
          6.183358419179119,
          5.416660775032864,
          5.771791054859164,
          5.584348513643582,
          5.967974370778129,
          5.739544156091232,
          5.425962888266124,
          5.594044519363994,
          5.098223964994568,
          5.728171749356035,
          5.250897633572829,
          5.499974735087473,
          5.705501182575867,
          5.457136940364669,
          5.938618299715609,
          6.07447077943375,
          5.507245118245533,
          5.676262440958566,
          5.8773856182643085,
          5.603491210575292,
          5.003866073676048,
          5.379871779485407,
          5.009241550637674,
          4.643527155588711,
          6.428906059304762,
          5.293190671128995,
          5.553630762831707,
          6.027126692454174,
          6.432948813133604,
          5.779754067764928,
          5.702382144881458,
          5.862494675351083,
          6.1685088774727515,
          5.526056530821341,
          6.156419339476297,
          5.610228934805615,
          5.480177611174441,
          5.765754527777423,
          5.589481936383155,
          5.646934274942038,
          5.644983890757577,
          5.508018107300211,
          6.204731590751948,
          5.997516712729119,
          5.45521628874842,
          5.773583335866846,
          5.219173034337424,
          6.009848289345296,
          5.391773349594456,
          5.893448134937139,
          5.8444159029532186,
          5.48161846417894,
          5.602693698716853,
          5.461708533039133,
          5.691931460281238,
          5.334313481712092,
          5.9210273428592535,
          6.199232698462275,
          5.552063163368817,
          5.828345178404909,
          5.357063637485321,
          5.556842635124869,
          5.8257349682134345,
          6.833204099346386,
          5.242207771147106,
          6.026856889633993,
          5.253548246564228,
          5.742026965515795,
          6.059200371922403,
          6.083199330474841,
          5.439960575634047,
          5.8501052987449915,
          5.60526393849131,
          5.360275156701837,
          6.098847383659353,
          5.792184470450347,
          6.424538338971912,
          5.9632690151125045,
          5.346506842832041,
          5.911363349641353,
          6.181133745311441,
          6.2827577032386435,
          6.038396865484382,
          6.077393106883032,
          5.463860016150818,
          5.62201016320985,
          4.937156647056499,
          6.164472148368459,
          5.576996980100309,
          5.691691785562946,
          5.509510597296381,
          5.610876361570845,
          5.284167276069246,
          6.305153485972165,
          5.738250798132164,
          5.912688491335621,
          5.828712310902039,
          6.172417110339685,
          5.89063599511137,
          5.650262455010687,
          5.707454959906116,
          5.650478420663317,
          5.967760331969377,
          5.656987697247468,
          5.421967512039171,
          4.807613715822955,
          5.845806633588685,
          5.883098404521338,
          5.922802533276231,
          5.344333429038969,
          5.578902418374763,
          5.574103487138735,
          5.514112561663024,
          5.572418418321254,
          5.2466011936532695,
          6.191727501648537,
          5.644074151830491,
          6.446262288981877,
          5.634476348819848,
          4.906755498619261,
          5.617461185279613,
          5.593223985702923,
          6.276430295507606,
          4.785804373866625,
          6.199947251165672,
          5.527854155790103,
          5.56578449047172,
          5.446844993490998,
          5.2225230426037355,
          5.786308238779723,
          5.603713051808063,
          5.543619554958937,
          5.388165459475279,
          5.713853137954298,
          5.567684293197052,
          6.034064976544296,
          6.235276512662194,
          5.309009108476079,
          5.391431335315145,
          6.145408129240899,
          5.009709779170392,
          5.454830339967098,
          5.317771086774559,
          5.399073884823768,
          5.37664588752933,
          6.0340399435202405,
          5.276606050850764,
          5.7091219074264785,
          5.454918761658693,
          5.769226531695258,
          5.987503869627085,
          5.8779041979776006,
          6.384741260341633,
          5.472705675416533,
          6.805116184465018,
          5.774894855263142,
          5.866438950407226,
          4.8473266689800845,
          6.327266022699685,
          5.157908561586395,
          5.427327451403998,
          5.344297034004325,
          5.7802355333677875,
          6.037943016882991,
          5.408509525254669,
          5.531352027269427,
          5.354871394711246,
          6.183948008103319,
          6.196905452853103,
          4.920396117739437,
          5.93712568070003,
          5.792074998196028,
          5.4548352862419565,
          6.26788830628009,
          5.498772728831185,
          6.0760210201202245,
          4.838307075639791,
          6.188927280897449,
          5.42350308329486,
          5.251907145369522,
          5.665913421096558,
          5.877924200300387,
          5.170840769552901,
          6.098358715867055,
          5.725651622914011,
          5.4311998515350615,
          6.300060419320693,
          6.225524566752695,
          5.463944222507338,
          5.59086670329384,
          4.9751628657397635,
          5.5817701915636455,
          5.933486051239015,
          5.369521611587609,
          5.5349085502921955,
          5.510256662665764,
          6.216603331070624,
          5.824595691145739,
          6.424192315583989,
          5.782876992276397,
          6.148139484359597,
          5.603637069544528,
          5.839020762901778,
          5.967395528506784,
          5.191000302363208,
          5.616773695228021,
          5.6596968999464154,
          5.538165011423799,
          6.351221223537572,
          4.8436908176862685,
          6.478463921469317,
          5.695992554975106,
          5.7275092509461745,
          5.5889592435039495,
          5.968754027946534,
          5.329118193326182,
          5.339060865551261,
          6.142709366147785,
          5.385573147551207,
          5.475401991494888,
          5.306219576662042,
          5.613493747087662,
          5.615526023329008,
          6.55443322659059,
          4.973666628885515,
          6.282845730598809,
          5.838349361009109,
          6.032192943384084,
          4.594676627881973,
          5.693742124174299,
          5.826684927786318,
          4.952480613821895,
          6.331041182340038,
          5.766835198351603,
          5.843497186659468,
          6.016580660276869,
          5.714414594518818,
          5.119122469544969,
          5.555359362129122,
          6.080277981204781,
          5.414033785093096,
          6.55941972439373,
          5.991320501472386,
          6.148492766548511,
          5.451725900868549,
          5.924592642346776,
          6.195288773348549,
          5.249953558371335,
          6.448018388437209,
          5.574062004339356,
          5.7037090289102474,
          5.8325419058109285,
          5.848909592404562,
          6.002244894459869,
          5.426286893074057,
          5.731505625205914,
          5.574855764714837,
          5.855653509972971,
          6.440605209046225,
          5.9794630914818825,
          5.124872242428869,
          5.760213935359739,
          5.19039154578817,
          5.789648817691169,
          5.901312185884385,
          6.009435582284144,
          5.601023223676154,
          5.9667839894632415,
          5.848192577945305,
          5.7789711910428565,
          5.947834357407088,
          5.927119590168196,
          6.112374282261037,
          5.656604499078229,
          5.744839050638044,
          5.936441678105058,
          5.769432412197074,
          5.837394768850084,
          5.446954077977332,
          5.53332438381309
         ],
         "xaxis": "x",
         "yaxis": "y"
        },
        {
         "name": "Naive",
         "nbinsx": 100,
         "type": "histogram",
         "x": [
          5.567070150014072,
          5.730359576015885,
          5.839376694184348,
          5.526594264172206,
          5.791957626870241,
          5.819116763890307,
          5.530066035704268,
          5.711568184653146,
          5.689132884288875,
          5.908377828201319,
          5.578575871982487,
          5.22026869229555,
          5.98510521784622,
          5.350284350334943,
          5.995387818735469,
          5.591095163220315,
          5.619150324714862,
          5.477694929220629,
          5.343574795339128,
          5.462083679071092,
          6.123642111382798,
          5.534947358185479,
          5.2172225036226,
          5.513845739258639,
          5.277853554256551,
          5.632095226698355,
          5.807605721124742,
          6.053073417504627,
          5.34907675864391,
          5.483470400693118,
          5.625735543792541,
          5.471951145967757,
          5.340836857464183,
          6.021355422397427,
          5.415689284968005,
          5.1711087599884085,
          5.157942581300622,
          5.692012390337107,
          5.218232790809028,
          5.968597479325352,
          5.7985491744862845,
          5.455885322218423,
          5.640721083163408,
          5.229502749181458,
          5.67210870663118,
          5.630498974070358,
          5.887487463662591,
          5.834535208124073,
          5.653833492176141,
          5.234045405378721,
          5.018359394098107,
          5.40474352052405,
          5.692566441647851,
          5.630251799413699,
          5.677751819869687,
          5.853376309202167,
          5.278092563932473,
          5.471514126763407,
          5.845515447147241,
          5.475785271472894,
          5.543917293886057,
          5.340867658445492,
          5.664547597992231,
          5.925353093367543,
          5.233821362661974,
          5.8420275614273285,
          5.3723522063136695,
          5.21027544722544,
          5.75052362105005,
          5.831820140030925,
          5.49976152168285,
          5.579553935526484,
          5.4598594942983585,
          5.440672549816444,
          5.485522048060428,
          5.832818395897455,
          5.614747258662229,
          5.7065348208743245,
          5.590290099541028,
          5.434523778773087,
          5.501433025719203,
          5.281232324061369,
          5.7171393493773515,
          5.60083980402685,
          5.424746536867222,
          5.634465589817956,
          5.5135856873631495,
          5.903436653277442,
          5.805037622231597,
          5.609854816698936,
          5.640911395133303,
          5.906554742921648,
          5.778892292055508,
          5.4095738788209635,
          6.072129125146587,
          5.564054534367636,
          5.9681864215255,
          5.346027253989025,
          5.330779726882273,
          5.863645201451791,
          5.7558419847259055,
          5.8057102519065875,
          5.8204665634946124,
          6.03202876786618,
          5.547300014389042,
          5.315487330036162,
          5.508317376404149,
          5.2527592141020065,
          5.543274845974443,
          5.288599403531077,
          5.66867939974897,
          4.996822873713603,
          5.693776050188034,
          6.034207055762686,
          5.337470407049953,
          5.7413197793931925,
          5.543071158436243,
          5.883690000012494,
          5.567388509167342,
          5.443238905523181,
          5.606859355978559,
          5.422814787903338,
          5.918066160146861,
          5.685084791900242,
          5.6169417921994915,
          5.944473361996459,
          5.976647849443105,
          5.443189853683778,
          5.515393191024854,
          5.531368447346506,
          5.147178839672826,
          5.9006710597349175,
          5.954285308370078,
          5.663242906823531,
          5.686028585082911,
          5.363844739492312,
          5.681695644650746,
          5.780102509671987,
          5.3527229709818425,
          5.44915348048943,
          5.518046748336447,
          5.503918598200289,
          5.455770232207572,
          5.697969247094222,
          5.86484684508638,
          5.424920992489945,
          5.932424498353978,
          5.621872250788523,
          5.485777216790666,
          5.825044564179014,
          5.885113986630144,
          5.421588331769363,
          5.545294901761978,
          5.102512791559266,
          5.336281161634313,
          5.91704385444687,
          5.177271254239087,
          5.55615858167916,
          5.062940526890871,
          5.660375608932124,
          5.17376133331576,
          5.9162217035424245,
          5.918786152639204,
          5.378646727298211,
          5.5808808754739525,
          5.842826535188341,
          5.702717691469818,
          5.332051514570292,
          5.460083014222991,
          5.206460651754896,
          5.784104803749841,
          5.363653160334915,
          5.306185077228635,
          5.883306906419397,
          5.891706164049224,
          6.064761795865138,
          5.80018040425409,
          5.070489751268099,
          5.994690376782715,
          5.648547865793625,
          5.917013393778027,
          5.507639336726587,
          5.461542556198016,
          5.620822532037549,
          5.924971125473554,
          6.102186575073237,
          6.0051061060294115,
          6.126022162110766,
          5.659142107034133,
          6.067641815882411,
          5.589351704045609,
          5.775399174663043,
          5.440154162378093,
          5.4004863467393225,
          5.595248927988308,
          5.998257813641355,
          5.154313348802301,
          5.393502408788339,
          5.812799146779998,
          5.374491335390971,
          5.917605349852461,
          6.068610451841225,
          4.688624466866894,
          5.6631935736333485,
          5.388383708898463,
          5.357437090886361,
          5.038260067160095,
          5.413582431627356,
          5.948196231478636,
          5.0195872657453835,
          5.2194260414134925,
          5.362867736482803,
          5.826747715770841,
          5.268300075277376,
          5.590006246922847,
          5.48752397327398,
          5.4564904234424825,
          5.667793790749871,
          5.504630052611508,
          5.921528893003178,
          5.436621951429699,
          6.0530418282365925,
          5.887854821015893,
          6.093686771811401,
          5.518671575522129,
          5.720651464767902,
          5.630562817521724,
          5.318467987044608,
          5.5314302238743815,
          5.54934098556709,
          5.920352139030517,
          5.403665515231962,
          5.676819238591969,
          5.972244448237794,
          5.862417241823254,
          5.377404659622739,
          5.432845281777085,
          5.872841751716034,
          5.0861930511221285,
          5.192409633571481,
          5.5520031637276075,
          5.587668438203692,
          5.496811246739636,
          5.897998585420514,
          5.538771153368967,
          5.673220982566994,
          5.014879313445258,
          5.702189362812374,
          5.925180334890397,
          5.3666647060380495,
          5.31030310704293,
          6.099123191257627,
          5.608971128513352,
          5.088564315177977,
          5.88765587146958,
          5.691867549790758,
          5.801124038959504,
          6.049494011968419,
          5.461118236155958,
          5.495335993555671,
          5.566672404141777,
          5.620899142643473,
          5.459921345983985,
          5.624814188891331,
          5.9200241350180205,
          5.673665797634879,
          5.229808613309295,
          5.51521019371346,
          5.357061638391618,
          5.805134926865899,
          5.722205778711909,
          5.66537023793082,
          5.650366677318304,
          5.342059195102475,
          5.022558104674736,
          5.34709188867952,
          5.511164068302334,
          5.180688865737258,
          5.340369572817136,
          5.698764420866619,
          4.8059305369580665,
          5.52771910821005,
          5.927667717935981,
          5.066098976959084,
          5.385107667960465,
          5.216913917351057,
          5.860009809640383,
          5.113694508140167,
          5.890622967899944,
          5.6228441185598115,
          5.828498274889568,
          5.284643038458523,
          5.679854945459039,
          5.46207943208642,
          5.27073402139487,
          5.840501566138973,
          5.680026716800973,
          5.101620158760889,
          5.3432627435002145,
          5.484223363654043,
          5.650665703095622,
          5.474238008339254,
          5.051830899910982,
          5.451692739048352,
          5.616907791154199,
          5.4244508282835735,
          5.205177632621621,
          5.877541285785824,
          5.9918974039391655,
          5.4332762331105275,
          5.208775885551599,
          5.576446275617416,
          5.309139436154267,
          5.523086091463324,
          5.294026152753491,
          5.8681580247962115,
          5.437548672623813,
          5.844148061006838,
          5.907008525614825,
          5.179221941958558,
          5.0664807187605945,
          5.4096569864781,
          5.124331122735739,
          5.740797729711547,
          5.0609970978117,
          5.512663542945579,
          6.053517189866712,
          5.517195920263422,
          5.179747695322129,
          5.594967867302606,
          5.568221842103036,
          5.462479176122419,
          5.5640863337075,
          5.119524126634132,
          6.053273763660598,
          5.966227960830222,
          5.083842437041614,
          5.690703678947011,
          5.949071390731061,
          5.444580625511958,
          6.002240671553677,
          5.589422468349388,
          4.994350749929577,
          5.533837672387043,
          5.471149127886653,
          5.206974595747079,
          5.698496408391176,
          5.546180196715212,
          5.6698202800721,
          5.976533638037478,
          5.48605781583341,
          5.275643585827757,
          5.342853844362395,
          5.721109915133225,
          5.4656659234833365,
          5.980700381017263,
          5.5827355757436505,
          5.160781674904435,
          5.688828464331678,
          5.940421901569868,
          5.53730649140762,
          5.508126936578258,
          5.7122031449567,
          5.4442920417670875,
          6.0519907384762215,
          5.535462733800497,
          5.95059919976345,
          4.901801526872264,
          5.5706918836375685,
          5.902133200507333,
          5.9311576028727115,
          5.905820156879095,
          5.856785388301333,
          5.21346044501562,
          5.758587592818691,
          5.929213363393004,
          5.91602541092798,
          5.754135873434785,
          5.662846922162389,
          5.989730533282167,
          4.684790647847665,
          5.577535711150558,
          5.2335595463457665,
          5.425329811092127,
          5.713901643649196,
          5.418038722542225,
          5.142280150192485,
          5.537657259395081,
          5.859446053151986,
          5.812384720207799,
          5.82871592959371,
          5.970693660629885,
          5.701160765274265,
          5.861252374809292,
          5.545866275313137,
          5.461234235956239,
          5.316296222361175,
          5.645262108482893,
          5.4434894126355005,
          5.28467764904897,
          5.910043682416607,
          5.633140404215544,
          6.059741264716615,
          5.719626859462058,
          5.252425184207765,
          5.563590339090602,
          5.362562701260844,
          5.8995944887763825,
          5.449340083405892,
          5.5233737643121765,
          5.375226408863703,
          5.248570185721842,
          4.922968428275071,
          5.454232069769781,
          5.561899759846825,
          5.6698874280661,
          5.9152089710826905,
          5.4213035448309155,
          5.821980463973827,
          5.613131061214603,
          5.70147784734493,
          5.896336359653277,
          5.699151955423635,
          5.22597335679248,
          5.000174630565263,
          5.309972889396475,
          5.887524586053414,
          5.853036603019771,
          5.7675021624637,
          5.987294458029225,
          5.942569619386238,
          5.941129064508249,
          5.918454819989517,
          5.2552950757458,
          5.503585837229174,
          5.845459026950417,
          5.901373234284739,
          5.475688343004284,
          5.303260003658139,
          5.549774504566244,
          5.302814371919882,
          5.741682655409587,
          5.305451602984315,
          5.413492429379699,
          5.639769767197973,
          6.00131938687281,
          5.632249353913412,
          5.752250414920217,
          5.923144718958741,
          5.805110174005504,
          5.581091471591007,
          5.167708472975376,
          6.0335546893750225,
          5.656472702155176,
          5.499419716518005,
          5.307471242066822,
          5.370794472581004,
          5.938883853921571,
          5.602742965100987,
          5.383782989091806,
          6.027806569948152,
          5.841783666289592,
          5.607844978054892,
          5.4868771539920145,
          5.453051577807413,
          5.71937469831337,
          5.142101598082298,
          5.608099607769256,
          5.437258108223121,
          6.052876209710807,
          5.286913434796852,
          6.0212973234159595,
          5.901196421604848,
          5.058239293797817,
          5.964244093831562,
          5.152233393481937,
          5.924944405149903,
          4.4277202933131425,
          6.013178200862375,
          5.215178735655984,
          5.428995260304583,
          5.407496097355117,
          5.838785135941859,
          5.6239078208696665,
          5.219915782420306,
          5.650339124588839,
          5.358344493756032,
          5.369976737163096,
          5.871257714442415,
          6.031022526337267,
          5.094501201293361,
          5.644688623673992,
          5.7095754648489745,
          5.535723729029188,
          5.18772376509248,
          5.944084773852005,
          5.164308626484992,
          5.585532685638043,
          5.961249047305334,
          5.156690673900121,
          5.596702686409595,
          5.121308277406924,
          5.513623903298263,
          5.119951192340471,
          5.924431074596507,
          6.0485449944723335,
          5.630972514944282,
          5.616182624206772,
          5.555848033974998,
          5.069969872858093,
          5.635081310946308,
          5.371606014302213,
          5.312162453848986,
          5.299083388659682,
          5.782829324546895,
          5.766097385472401,
          4.597737304131193,
          5.240270648373098,
          5.344846392950786,
          5.5628635513454,
          5.470719202442125,
          5.918876879512408,
          5.2051712786364,
          5.270561955172955,
          6.007423298018683,
          5.987264345929738,
          5.177467445637208,
          5.930678915549139,
          5.235943839860067,
          5.5798403204472,
          5.452062284575813,
          5.572292221405976,
          5.699024693934286,
          5.4787974580292795,
          5.978612763291509,
          5.184392034727409,
          5.294398207248825,
          5.487599536879887,
          6.029563634404531,
          5.541408300072668,
          5.849759757841414,
          5.5532260149712975,
          6.0438627445369075,
          5.233926388820797,
          5.281638248399299,
          5.694202066858222,
          6.063715965198304,
          5.713407402719846,
          5.892445562690373,
          5.153435067491496,
          5.599007239235674,
          5.316529346931457,
          5.788466182779076,
          5.781952008610113,
          5.1816821238370405,
          5.246722496135208,
          5.395114808501945,
          5.585167521844913,
          5.9068318965314015,
          5.487983713012243,
          5.351134267136043,
          5.623485077938041,
          5.872339035388408,
          5.457813568049086,
          6.072027673088326,
          5.494847140268915,
          5.75741248853876,
          5.19098560357987,
          5.844884879333203,
          5.955993491451034,
          5.604186584207618,
          5.9490685543149375,
          5.673073738185116,
          5.854830918744769,
          5.317714714153103,
          5.551939693121082,
          5.450733230043546,
          5.413798036415016,
          5.662964694421842,
          5.828210874168415,
          5.39105020746467,
          5.477537408333691,
          5.5748002317265275,
          5.869991837385363,
          5.966837661035975,
          5.767191804095536,
          5.368044314350369,
          5.106380097173617,
          5.199647277179423,
          5.3422599851882575,
          5.55537186974672,
          5.500113837758149,
          6.030731888659537,
          5.209550656408546,
          5.524250214784986,
          5.830974739329753,
          5.889840917971259,
          5.433106583082413,
          5.7828498463176246,
          5.277004083927154,
          5.6932751299595,
          5.470663462028862,
          5.854770703672714,
          5.629133595766384,
          5.583104636932852,
          5.590973306493972,
          5.813138352928252,
          5.364638553847935,
          5.504985270870209,
          5.758397371084954,
          5.187602947422727,
          5.964776946874876,
          5.708819756452926,
          5.560967301236826,
          5.448670046739836,
          5.706639520644838,
          5.96736710394741,
          5.598937525757199,
          5.732472523150084,
          5.438313986022692,
          5.929025460567645,
          5.855191645110394,
          5.646643923773119,
          5.33336681021256,
          5.0441569980427,
          5.420439863126791,
          5.677932599673765,
          5.994119778139631,
          5.969817988386774,
          5.569076354524736,
          5.888159063334995,
          5.742976795874317,
          5.529684555669648,
          5.550437222534838,
          5.937669992399483,
          5.350531406525597,
          6.016040515767988,
          5.555462359881623,
          5.515151532023165,
          5.293285692669379,
          5.497183418568656,
          5.614826130569916,
          5.546837584523177,
          6.149448961113248,
          5.85674770762469,
          5.481720933101615,
          5.684615348792255,
          6.143075756040911,
          5.81669280158191,
          5.4122645020897515,
          5.565827443644533,
          5.517790410693567,
          5.160686852536025,
          5.490445313190984,
          5.604500837170593,
          5.550775454420388,
          5.884939896895143,
          6.061964528706511,
          5.614503929587428,
          5.949095761459625,
          5.5084329693672265,
          5.848572808606508,
          5.746986206375498,
          5.241412101364038,
          5.7476600167883305,
          5.958894849363785,
          6.089694702477365,
          5.916306591310887,
          5.109808475560485,
          5.36844779514806,
          5.011840034725132,
          5.833541118370605,
          5.676418633884372,
          5.880739381281003,
          5.366207850285453,
          5.415478169661169,
          5.914578029992437,
          6.0450064285313045,
          5.729481029956239,
          5.812547946530612,
          5.5195358742210425,
          5.552207583555731,
          5.047025194606008,
          5.929301811591906,
          5.304024198382022,
          5.892806366914227,
          5.254681794324329,
          5.529674515424012,
          5.202529789343226,
          5.5647307445052165,
          5.146367416733297,
          5.30085509111698,
          5.21640984108749,
          5.491355010422767,
          4.767423558077882,
          5.616033262962367,
          5.6034996464757105,
          5.893499053172556,
          5.4041495718581185,
          5.395456930346431,
          6.012178050739751,
          5.582849711303519,
          5.305178364664439,
          5.582922992744461,
          5.418901898573839,
          5.652397556557497,
          5.393268711612009,
          5.082952253278935,
          5.470186520638957,
          6.031186815880384,
          5.888789056584633,
          5.3891740813122775,
          5.001678223407083,
          5.551145265315573,
          5.742526333545814,
          5.252777045344087,
          5.923288255472845,
          5.2896362371766505,
          5.2707837667004425,
          5.456824832001419,
          5.72354230194454,
          5.259541251308122,
          5.2238629987219065,
          5.341826288627686,
          5.766271710521877,
          5.650622273642476,
          5.525853337110076,
          5.358440085389765,
          5.188572537710974,
          5.243117428578594,
          5.247278834834521,
          5.8408159014487016,
          5.167085328668712,
          5.634958135826395,
          5.410698928770809,
          5.544231428025519,
          5.288601501452513,
          5.431641779433119,
          6.005370048670128,
          5.403319956603325,
          5.43044765392294,
          5.306285681400756,
          5.173450826441317,
          5.215538610797203,
          5.645878492367364,
          5.46025697595484,
          5.491655876196374,
          6.0366637431761125,
          5.9733012599279,
          5.162933835341369,
          5.883758469367988,
          5.912562570380068,
          6.025233638705851,
          5.890687759724407,
          6.002698967469069,
          5.4610872583507994,
          5.431535554514504,
          5.625166770678561,
          5.611600204341614,
          5.344744367693691,
          5.452921455854929,
          5.606187686847196,
          5.8082952355725475,
          5.612640099042878,
          5.431207012693456,
          5.089278423082893,
          5.066388301488185,
          5.647046379348164,
          5.202464697212114,
          5.981108769781677,
          5.704926731055848,
          5.648056897082352,
          5.821840957275018,
          5.534782512357354,
          5.469747527922668,
          5.699493613450513,
          5.654546452690977,
          5.884910919863804,
          5.353745167006006,
          5.829036029231216,
          5.303230423807953,
          6.0078555953183645,
          5.980512392339676,
          5.974379808553276,
          5.4861640112652115,
          6.130184934172927,
          4.663490687679217,
          5.999122927816706,
          5.869581916153936,
          5.50288224535742,
          5.391749476201517,
          5.678688023194322,
          5.459329538597347,
          5.531481694010023,
          5.677729328579305,
          5.940120813448737,
          5.578621459914394,
          5.304555792059693,
          5.581200278855349,
          5.261649515481563,
          5.881356014555318,
          6.025450744305908,
          5.648724802208286,
          5.857083501774568,
          5.32236716943245,
          5.420482722737555,
          4.9087522230758625,
          5.982555589758369,
          5.787821039344044,
          5.837680782509265,
          5.567048123393621,
          5.55427195767012,
          5.407946494455581,
          5.792931535404641,
          5.646644670142723,
          5.544653269396724,
          5.340475988997718,
          5.9924370246023955,
          5.715455151521037,
          5.35788618359154,
          5.851009522157883,
          5.4421451318944545,
          5.53349710961632,
          5.481463028766314,
          5.415844438694012,
          4.7738214527711555,
          5.372242916418743,
          5.8034243447200895,
          5.732004447001517,
          5.269127429352359,
          5.207435910039105,
          5.668498763885195,
          5.321261131549591,
          5.214159169304337,
          5.1212582991921245,
          5.605671816710723,
          5.323891620107517,
          6.055246106336877,
          5.436400281486065,
          4.8611218293465495,
          5.816282323698226,
          5.374518618331777,
          5.825436820582897,
          5.322801022489195,
          5.9918299434817675,
          5.691694742475618,
          5.44802791628174,
          5.169559631013819,
          5.345175248180566,
          5.862924142892192,
          5.861099877356444,
          5.279986058937885,
          5.609893965020526,
          5.4557164088177075,
          5.087510875421437,
          6.005091458666897,
          5.521075005363658,
          5.28780904247646,
          4.818243118888714,
          5.859905789736311,
          5.0935895426164395,
          5.30474830098581,
          5.378223317564708,
          5.703320960466014,
          5.410978078417491,
          5.914997344809719,
          4.72422902421857,
          5.556069293980857,
          5.30790771317661,
          6.029674988047908,
          5.298251169634979,
          5.42157013481426,
          6.016145546690832,
          5.5097836322562666,
          6.012353348578165,
          5.938042637430372,
          5.758417183105124,
          5.475179736064511,
          5.856245325335481,
          5.238789548161728,
          5.607937836229163,
          5.902452146251685,
          5.488446065681844,
          5.697501636926791,
          5.501449931630019,
          5.74183008510005,
          5.585274588801624,
          5.98429984917705,
          5.71158587838997,
          5.15946149955367,
          5.99121910673128,
          5.6418114817831535,
          5.743932294474912,
          5.792530619528119,
          5.441568381570732,
          5.9924067949225535,
          5.09464417344849,
          5.60971954179895,
          5.185832149276602,
          5.24819334989361,
          5.391634933099855,
          5.711470908509955,
          5.39258073176213,
          6.0704243001056835,
          5.581936502041553,
          5.558025001464061,
          5.925868716223439,
          5.535693785593459,
          5.451992500760613,
          5.363892893134155,
          4.97553234550085,
          5.678757399765788,
          5.545581920783672,
          5.315554993939142,
          5.456474258748678,
          5.538382781536858,
          5.884429903471919,
          5.471881368767554,
          5.954038781684558,
          5.701115226704059,
          5.832128529693478,
          5.680214463795725,
          5.8371067982188185,
          5.684514771883743,
          5.357514564656505,
          5.950573496961758,
          5.551739190866882,
          5.709353534645204,
          5.950799135342434,
          5.23028578715612,
          5.452490974749535,
          5.399734379277403,
          5.719066495121953,
          5.5022481315423795,
          5.269826269848668,
          5.069349924018491,
          5.0845832992689886,
          5.918436536372479,
          5.388901843028402,
          5.642187787174352,
          5.243491231081901,
          5.556553087894056,
          5.5767975688541105,
          5.748549296706369,
          4.561877326129172,
          5.969877810468729,
          4.941706650966469,
          5.685170185902747,
          4.1198881650322265,
          5.80745049190983,
          5.619107129008966,
          5.046045080475388,
          5.823629798652712,
          5.476946698756828,
          5.369049661119067,
          5.560409899988686,
          5.6229209168482495,
          5.019789711328814,
          5.396345659159946,
          5.262821568898487,
          5.252724537429109,
          5.933501742710276,
          5.546865278575565,
          5.870165770683356,
          5.311120363314871,
          5.675596914017764,
          5.48700082442009,
          5.333249555970161,
          5.912268880998196,
          5.327509509579054,
          5.738940232553882,
          5.756497254550439,
          5.605828182312496,
          5.98961335951683,
          5.489316631032293,
          5.411244812701448,
          5.2818919931157335,
          5.934397289715051,
          5.990129666004669,
          5.694105152133368,
          6.105684836667203,
          5.526967010075907,
          5.386579793267429,
          5.788113186255052,
          6.081482295463293,
          5.555175306852296,
          5.787375602203049,
          5.419348006074844,
          5.394992387995514,
          5.729482354869233,
          5.678026053140568,
          5.868374367874713,
          5.550981309811376,
          5.641516141134047,
          5.7520655272405445,
          5.968486465453448,
          5.5772152380598135,
          5.448085640510588,
          5.061054740626596,
          5.949471103669698
         ],
         "xaxis": "x2",
         "yaxis": "y2"
        }
       ],
       "frames": [],
       "layout": {
        "annotations": [],
        "margin": {
         "b": 50,
         "l": 50,
         "r": 50,
         "t": 60
        },
        "template": {
         "data": {
          "bar": [
           {
            "error_x": {
             "color": "#2a3f5f"
            },
            "error_y": {
             "color": "#2a3f5f"
            },
            "marker": {
             "line": {
              "color": "#E5ECF6",
              "width": 0.5
             }
            },
            "type": "bar"
           }
          ],
          "barpolar": [
           {
            "marker": {
             "line": {
              "color": "#E5ECF6",
              "width": 0.5
             }
            },
            "type": "barpolar"
           }
          ],
          "carpet": [
           {
            "aaxis": {
             "endlinecolor": "#2a3f5f",
             "gridcolor": "white",
             "linecolor": "white",
             "minorgridcolor": "white",
             "startlinecolor": "#2a3f5f"
            },
            "baxis": {
             "endlinecolor": "#2a3f5f",
             "gridcolor": "white",
             "linecolor": "white",
             "minorgridcolor": "white",
             "startlinecolor": "#2a3f5f"
            },
            "type": "carpet"
           }
          ],
          "choropleth": [
           {
            "colorbar": {
             "outlinewidth": 0,
             "ticks": ""
            },
            "type": "choropleth"
           }
          ],
          "contour": [
           {
            "colorbar": {
             "outlinewidth": 0,
             "ticks": ""
            },
            "colorscale": [
             [
              0,
              "#0d0887"
             ],
             [
              0.1111111111111111,
              "#46039f"
             ],
             [
              0.2222222222222222,
              "#7201a8"
             ],
             [
              0.3333333333333333,
              "#9c179e"
             ],
             [
              0.4444444444444444,
              "#bd3786"
             ],
             [
              0.5555555555555556,
              "#d8576b"
             ],
             [
              0.6666666666666666,
              "#ed7953"
             ],
             [
              0.7777777777777778,
              "#fb9f3a"
             ],
             [
              0.8888888888888888,
              "#fdca26"
             ],
             [
              1,
              "#f0f921"
             ]
            ],
            "type": "contour"
           }
          ],
          "contourcarpet": [
           {
            "colorbar": {
             "outlinewidth": 0,
             "ticks": ""
            },
            "type": "contourcarpet"
           }
          ],
          "heatmap": [
           {
            "colorbar": {
             "outlinewidth": 0,
             "ticks": ""
            },
            "colorscale": [
             [
              0,
              "#0d0887"
             ],
             [
              0.1111111111111111,
              "#46039f"
             ],
             [
              0.2222222222222222,
              "#7201a8"
             ],
             [
              0.3333333333333333,
              "#9c179e"
             ],
             [
              0.4444444444444444,
              "#bd3786"
             ],
             [
              0.5555555555555556,
              "#d8576b"
             ],
             [
              0.6666666666666666,
              "#ed7953"
             ],
             [
              0.7777777777777778,
              "#fb9f3a"
             ],
             [
              0.8888888888888888,
              "#fdca26"
             ],
             [
              1,
              "#f0f921"
             ]
            ],
            "type": "heatmap"
           }
          ],
          "heatmapgl": [
           {
            "colorbar": {
             "outlinewidth": 0,
             "ticks": ""
            },
            "colorscale": [
             [
              0,
              "#0d0887"
             ],
             [
              0.1111111111111111,
              "#46039f"
             ],
             [
              0.2222222222222222,
              "#7201a8"
             ],
             [
              0.3333333333333333,
              "#9c179e"
             ],
             [
              0.4444444444444444,
              "#bd3786"
             ],
             [
              0.5555555555555556,
              "#d8576b"
             ],
             [
              0.6666666666666666,
              "#ed7953"
             ],
             [
              0.7777777777777778,
              "#fb9f3a"
             ],
             [
              0.8888888888888888,
              "#fdca26"
             ],
             [
              1,
              "#f0f921"
             ]
            ],
            "type": "heatmapgl"
           }
          ],
          "histogram": [
           {
            "marker": {
             "colorbar": {
              "outlinewidth": 0,
              "ticks": ""
             }
            },
            "type": "histogram"
           }
          ],
          "histogram2d": [
           {
            "colorbar": {
             "outlinewidth": 0,
             "ticks": ""
            },
            "colorscale": [
             [
              0,
              "#0d0887"
             ],
             [
              0.1111111111111111,
              "#46039f"
             ],
             [
              0.2222222222222222,
              "#7201a8"
             ],
             [
              0.3333333333333333,
              "#9c179e"
             ],
             [
              0.4444444444444444,
              "#bd3786"
             ],
             [
              0.5555555555555556,
              "#d8576b"
             ],
             [
              0.6666666666666666,
              "#ed7953"
             ],
             [
              0.7777777777777778,
              "#fb9f3a"
             ],
             [
              0.8888888888888888,
              "#fdca26"
             ],
             [
              1,
              "#f0f921"
             ]
            ],
            "type": "histogram2d"
           }
          ],
          "histogram2dcontour": [
           {
            "colorbar": {
             "outlinewidth": 0,
             "ticks": ""
            },
            "colorscale": [
             [
              0,
              "#0d0887"
             ],
             [
              0.1111111111111111,
              "#46039f"
             ],
             [
              0.2222222222222222,
              "#7201a8"
             ],
             [
              0.3333333333333333,
              "#9c179e"
             ],
             [
              0.4444444444444444,
              "#bd3786"
             ],
             [
              0.5555555555555556,
              "#d8576b"
             ],
             [
              0.6666666666666666,
              "#ed7953"
             ],
             [
              0.7777777777777778,
              "#fb9f3a"
             ],
             [
              0.8888888888888888,
              "#fdca26"
             ],
             [
              1,
              "#f0f921"
             ]
            ],
            "type": "histogram2dcontour"
           }
          ],
          "mesh3d": [
           {
            "colorbar": {
             "outlinewidth": 0,
             "ticks": ""
            },
            "type": "mesh3d"
           }
          ],
          "parcoords": [
           {
            "line": {
             "colorbar": {
              "outlinewidth": 0,
              "ticks": ""
             }
            },
            "type": "parcoords"
           }
          ],
          "pie": [
           {
            "automargin": true,
            "type": "pie"
           }
          ],
          "scatter": [
           {
            "marker": {
             "colorbar": {
              "outlinewidth": 0,
              "ticks": ""
             }
            },
            "type": "scatter"
           }
          ],
          "scatter3d": [
           {
            "line": {
             "colorbar": {
              "outlinewidth": 0,
              "ticks": ""
             }
            },
            "marker": {
             "colorbar": {
              "outlinewidth": 0,
              "ticks": ""
             }
            },
            "type": "scatter3d"
           }
          ],
          "scattercarpet": [
           {
            "marker": {
             "colorbar": {
              "outlinewidth": 0,
              "ticks": ""
             }
            },
            "type": "scattercarpet"
           }
          ],
          "scattergeo": [
           {
            "marker": {
             "colorbar": {
              "outlinewidth": 0,
              "ticks": ""
             }
            },
            "type": "scattergeo"
           }
          ],
          "scattergl": [
           {
            "marker": {
             "colorbar": {
              "outlinewidth": 0,
              "ticks": ""
             }
            },
            "type": "scattergl"
           }
          ],
          "scattermapbox": [
           {
            "marker": {
             "colorbar": {
              "outlinewidth": 0,
              "ticks": ""
             }
            },
            "type": "scattermapbox"
           }
          ],
          "scatterpolar": [
           {
            "marker": {
             "colorbar": {
              "outlinewidth": 0,
              "ticks": ""
             }
            },
            "type": "scatterpolar"
           }
          ],
          "scatterpolargl": [
           {
            "marker": {
             "colorbar": {
              "outlinewidth": 0,
              "ticks": ""
             }
            },
            "type": "scatterpolargl"
           }
          ],
          "scatterternary": [
           {
            "marker": {
             "colorbar": {
              "outlinewidth": 0,
              "ticks": ""
             }
            },
            "type": "scatterternary"
           }
          ],
          "surface": [
           {
            "colorbar": {
             "outlinewidth": 0,
             "ticks": ""
            },
            "colorscale": [
             [
              0,
              "#0d0887"
             ],
             [
              0.1111111111111111,
              "#46039f"
             ],
             [
              0.2222222222222222,
              "#7201a8"
             ],
             [
              0.3333333333333333,
              "#9c179e"
             ],
             [
              0.4444444444444444,
              "#bd3786"
             ],
             [
              0.5555555555555556,
              "#d8576b"
             ],
             [
              0.6666666666666666,
              "#ed7953"
             ],
             [
              0.7777777777777778,
              "#fb9f3a"
             ],
             [
              0.8888888888888888,
              "#fdca26"
             ],
             [
              1,
              "#f0f921"
             ]
            ],
            "type": "surface"
           }
          ],
          "table": [
           {
            "cells": {
             "fill": {
              "color": "#EBF0F8"
             },
             "line": {
              "color": "white"
             }
            },
            "header": {
             "fill": {
              "color": "#C8D4E3"
             },
             "line": {
              "color": "white"
             }
            },
            "type": "table"
           }
          ]
         },
         "layout": {
          "annotationdefaults": {
           "arrowcolor": "#2a3f5f",
           "arrowhead": 0,
           "arrowwidth": 1
          },
          "autotypenumbers": "strict",
          "coloraxis": {
           "colorbar": {
            "outlinewidth": 0,
            "ticks": ""
           }
          },
          "colorscale": {
           "diverging": [
            [
             0,
             "#8e0152"
            ],
            [
             0.1,
             "#c51b7d"
            ],
            [
             0.2,
             "#de77ae"
            ],
            [
             0.3,
             "#f1b6da"
            ],
            [
             0.4,
             "#fde0ef"
            ],
            [
             0.5,
             "#f7f7f7"
            ],
            [
             0.6,
             "#e6f5d0"
            ],
            [
             0.7,
             "#b8e186"
            ],
            [
             0.8,
             "#7fbc41"
            ],
            [
             0.9,
             "#4d9221"
            ],
            [
             1,
             "#276419"
            ]
           ],
           "sequential": [
            [
             0,
             "#0d0887"
            ],
            [
             0.1111111111111111,
             "#46039f"
            ],
            [
             0.2222222222222222,
             "#7201a8"
            ],
            [
             0.3333333333333333,
             "#9c179e"
            ],
            [
             0.4444444444444444,
             "#bd3786"
            ],
            [
             0.5555555555555556,
             "#d8576b"
            ],
            [
             0.6666666666666666,
             "#ed7953"
            ],
            [
             0.7777777777777778,
             "#fb9f3a"
            ],
            [
             0.8888888888888888,
             "#fdca26"
            ],
            [
             1,
             "#f0f921"
            ]
           ],
           "sequentialminus": [
            [
             0,
             "#0d0887"
            ],
            [
             0.1111111111111111,
             "#46039f"
            ],
            [
             0.2222222222222222,
             "#7201a8"
            ],
            [
             0.3333333333333333,
             "#9c179e"
            ],
            [
             0.4444444444444444,
             "#bd3786"
            ],
            [
             0.5555555555555556,
             "#d8576b"
            ],
            [
             0.6666666666666666,
             "#ed7953"
            ],
            [
             0.7777777777777778,
             "#fb9f3a"
            ],
            [
             0.8888888888888888,
             "#fdca26"
            ],
            [
             1,
             "#f0f921"
            ]
           ]
          },
          "colorway": [
           "#636efa",
           "#EF553B",
           "#00cc96",
           "#ab63fa",
           "#FFA15A",
           "#19d3f3",
           "#FF6692",
           "#B6E880",
           "#FF97FF",
           "#FECB52"
          ],
          "font": {
           "color": "#2a3f5f"
          },
          "geo": {
           "bgcolor": "white",
           "lakecolor": "white",
           "landcolor": "#E5ECF6",
           "showlakes": true,
           "showland": true,
           "subunitcolor": "white"
          },
          "hoverlabel": {
           "align": "left"
          },
          "hovermode": "closest",
          "mapbox": {
           "style": "light"
          },
          "paper_bgcolor": "white",
          "plot_bgcolor": "#E5ECF6",
          "polar": {
           "angularaxis": {
            "gridcolor": "white",
            "linecolor": "white",
            "ticks": ""
           },
           "bgcolor": "#E5ECF6",
           "radialaxis": {
            "gridcolor": "white",
            "linecolor": "white",
            "ticks": ""
           }
          },
          "scene": {
           "xaxis": {
            "backgroundcolor": "#E5ECF6",
            "gridcolor": "white",
            "gridwidth": 2,
            "linecolor": "white",
            "showbackground": true,
            "ticks": "",
            "zerolinecolor": "white"
           },
           "yaxis": {
            "backgroundcolor": "#E5ECF6",
            "gridcolor": "white",
            "gridwidth": 2,
            "linecolor": "white",
            "showbackground": true,
            "ticks": "",
            "zerolinecolor": "white"
           },
           "zaxis": {
            "backgroundcolor": "#E5ECF6",
            "gridcolor": "white",
            "gridwidth": 2,
            "linecolor": "white",
            "showbackground": true,
            "ticks": "",
            "zerolinecolor": "white"
           }
          },
          "shapedefaults": {
           "line": {
            "color": "#2a3f5f"
           }
          },
          "ternary": {
           "aaxis": {
            "gridcolor": "white",
            "linecolor": "white",
            "ticks": ""
           },
           "baxis": {
            "gridcolor": "white",
            "linecolor": "white",
            "ticks": ""
           },
           "bgcolor": "#E5ECF6",
           "caxis": {
            "gridcolor": "white",
            "linecolor": "white",
            "ticks": ""
           }
          },
          "title": {
           "x": 0.05
          },
          "xaxis": {
           "automargin": true,
           "gridcolor": "white",
           "linecolor": "white",
           "ticks": "",
           "title": {
            "standoff": 15
           },
           "zerolinecolor": "white",
           "zerolinewidth": 2
          },
          "yaxis": {
           "automargin": true,
           "gridcolor": "white",
           "linecolor": "white",
           "ticks": "",
           "title": {
            "standoff": 15
           },
           "zerolinecolor": "white",
           "zerolinewidth": 2
          }
         }
        },
        "xaxis": {
         "anchor": "y",
         "domain": [
          0,
          0.45
         ]
        },
        "xaxis2": {
         "anchor": "y2",
         "domain": [
          0.55,
          1
         ]
        },
        "yaxis": {
         "anchor": "x",
         "domain": [
          0,
          1
         ]
        },
        "yaxis2": {
         "anchor": "x2",
         "domain": [
          0,
          1
         ]
        }
       }
      },
      "text/html": [
       "<div\n",
       "    class=\"webio-mountpoint\"\n",
       "    data-webio-mountpoint=\"9705798936032594171\"\n",
       ">\n",
       "    <script>\n",
       "    (function(){\n",
       "    // Some integrations (namely, IJulia/Jupyter) use an alternate render pathway than\n",
       "    // just putting the html on the page. If WebIO isn't defined, then it's pretty likely\n",
       "    // that we're in one of those situations and the integration just isn't installed\n",
       "    // correctly.\n",
       "    if (typeof window.WebIO === \"undefined\") {\n",
       "        document\n",
       "            .querySelector('[data-webio-mountpoint=\"9705798936032594171\"]')\n",
       "            .innerHTML = (\n",
       "                '<div style=\"padding: 1em; background-color: #f8d6da; border: 1px solid #f5c6cb; font-weight: bold;\">' +\n",
       "                '<p><strong>WebIO not detected.</strong></p>' +\n",
       "                '<p>Please read ' +\n",
       "                '<a href=\"https://juliagizmos.github.io/WebIO.jl/latest/troubleshooting/not-detected/\" target=\"_blank\">the troubleshooting guide</a> ' +\n",
       "                'for more information on how to resolve this issue.</p>' +\n",
       "                '<p><a href=\"https://juliagizmos.github.io/WebIO.jl/latest/troubleshooting/not-detected/\" target=\"_blank\">https://juliagizmos.github.io/WebIO.jl/latest/troubleshooting/not-detected/</a></p>' +\n",
       "                '</div>'\n",
       "            );\n",
       "        return;\n",
       "    }\n",
       "    WebIO.mount(\n",
       "        document.querySelector('[data-webio-mountpoint=\"9705798936032594171\"]'),\n",
       "        {\"props\":{},\"nodeType\":\"Scope\",\"type\":\"node\",\"instanceArgs\":{\"imports\":{\"data\":[{\"name\":\"Plotly\",\"type\":\"js\",\"url\":\"\\/assetserver\\/4861d8d94a0e0c978a829bbb7ecb4a82568c2192-plotly.min.js\"},{\"name\":null,\"type\":\"js\",\"url\":\"\\/assetserver\\/000f7c658f0d87642576025e48ddde58b908ff32-plotly_webio.bundle.js\"}],\"type\":\"async_block\"},\"id\":\"6202817998296778707\",\"handlers\":{\"_toImage\":[\"(function (options){return this.Plotly.toImage(this.plotElem,options).then((function (data){return WebIO.setval({\\\"name\\\":\\\"image\\\",\\\"scope\\\":\\\"6202817998296778707\\\",\\\"id\\\":\\\"18038088752949369506\\\",\\\"type\\\":\\\"observable\\\"},data)}))})\"],\"__get_gd_contents\":[\"(function (prop){prop==\\\"data\\\" ? (WebIO.setval({\\\"name\\\":\\\"__gd_contents\\\",\\\"scope\\\":\\\"6202817998296778707\\\",\\\"id\\\":\\\"5638669818918660026\\\",\\\"type\\\":\\\"observable\\\"},this.plotElem.data)) : undefined; return prop==\\\"layout\\\" ? (WebIO.setval({\\\"name\\\":\\\"__gd_contents\\\",\\\"scope\\\":\\\"6202817998296778707\\\",\\\"id\\\":\\\"5638669818918660026\\\",\\\"type\\\":\\\"observable\\\"},this.plotElem.layout)) : undefined})\"],\"_downloadImage\":[\"(function (options){return this.Plotly.downloadImage(this.plotElem,options)})\"],\"_commands\":[\"(function (args){var fn=args.shift(); var elem=this.plotElem; var Plotly=this.Plotly; args.unshift(elem); return Plotly[fn].apply(this,args)})\"]},\"systemjs_options\":null,\"mount_callbacks\":[\"function () {\\n    var handler = ((function (Plotly,PlotlyWebIO){PlotlyWebIO.init(WebIO); var gd=this.dom.querySelector(\\\"#plot-6f8ae6d6-e57b-421a-94dd-a49572672b89\\\"); this.plotElem=gd; this.Plotly=Plotly; (window.Blink!==undefined) ? (gd.style.width=\\\"100%\\\", gd.style.height=\\\"100vh\\\", gd.style.marginLeft=\\\"0%\\\", gd.style.marginTop=\\\"0vh\\\") : undefined; window.onresize=(function (){return Plotly.Plots.resize(gd)}); Plotly.newPlot(gd,[],{\\\"xaxis\\\":{\\\"domain\\\":[0.0,0.45],\\\"anchor\\\":\\\"y\\\"},\\\"xaxis2\\\":{\\\"domain\\\":[0.55,1.0],\\\"anchor\\\":\\\"y2\\\"},\\\"template\\\":{\\\"layout\\\":{\\\"coloraxis\\\":{\\\"colorbar\\\":{\\\"ticks\\\":\\\"\\\",\\\"outlinewidth\\\":0}},\\\"xaxis\\\":{\\\"gridcolor\\\":\\\"white\\\",\\\"zerolinewidth\\\":2,\\\"title\\\":{\\\"standoff\\\":15},\\\"ticks\\\":\\\"\\\",\\\"zerolinecolor\\\":\\\"white\\\",\\\"automargin\\\":true,\\\"linecolor\\\":\\\"white\\\"},\\\"hovermode\\\":\\\"closest\\\",\\\"paper_bgcolor\\\":\\\"white\\\",\\\"geo\\\":{\\\"showlakes\\\":true,\\\"showland\\\":true,\\\"landcolor\\\":\\\"#E5ECF6\\\",\\\"bgcolor\\\":\\\"white\\\",\\\"subunitcolor\\\":\\\"white\\\",\\\"lakecolor\\\":\\\"white\\\"},\\\"colorscale\\\":{\\\"sequential\\\":[[0.0,\\\"#0d0887\\\"],[0.1111111111111111,\\\"#46039f\\\"],[0.2222222222222222,\\\"#7201a8\\\"],[0.3333333333333333,\\\"#9c179e\\\"],[0.4444444444444444,\\\"#bd3786\\\"],[0.5555555555555556,\\\"#d8576b\\\"],[0.6666666666666666,\\\"#ed7953\\\"],[0.7777777777777778,\\\"#fb9f3a\\\"],[0.8888888888888888,\\\"#fdca26\\\"],[1.0,\\\"#f0f921\\\"]],\\\"diverging\\\":[[0,\\\"#8e0152\\\"],[0.1,\\\"#c51b7d\\\"],[0.2,\\\"#de77ae\\\"],[0.3,\\\"#f1b6da\\\"],[0.4,\\\"#fde0ef\\\"],[0.5,\\\"#f7f7f7\\\"],[0.6,\\\"#e6f5d0\\\"],[0.7,\\\"#b8e186\\\"],[0.8,\\\"#7fbc41\\\"],[0.9,\\\"#4d9221\\\"],[1,\\\"#276419\\\"]],\\\"sequentialminus\\\":[[0.0,\\\"#0d0887\\\"],[0.1111111111111111,\\\"#46039f\\\"],[0.2222222222222222,\\\"#7201a8\\\"],[0.3333333333333333,\\\"#9c179e\\\"],[0.4444444444444444,\\\"#bd3786\\\"],[0.5555555555555556,\\\"#d8576b\\\"],[0.6666666666666666,\\\"#ed7953\\\"],[0.7777777777777778,\\\"#fb9f3a\\\"],[0.8888888888888888,\\\"#fdca26\\\"],[1.0,\\\"#f0f921\\\"]]},\\\"yaxis\\\":{\\\"gridcolor\\\":\\\"white\\\",\\\"zerolinewidth\\\":2,\\\"title\\\":{\\\"standoff\\\":15},\\\"ticks\\\":\\\"\\\",\\\"zerolinecolor\\\":\\\"white\\\",\\\"automargin\\\":true,\\\"linecolor\\\":\\\"white\\\"},\\\"shapedefaults\\\":{\\\"line\\\":{\\\"color\\\":\\\"#2a3f5f\\\"}},\\\"hoverlabel\\\":{\\\"align\\\":\\\"left\\\"},\\\"mapbox\\\":{\\\"style\\\":\\\"light\\\"},\\\"polar\\\":{\\\"angularaxis\\\":{\\\"gridcolor\\\":\\\"white\\\",\\\"ticks\\\":\\\"\\\",\\\"linecolor\\\":\\\"white\\\"},\\\"bgcolor\\\":\\\"#E5ECF6\\\",\\\"radialaxis\\\":{\\\"gridcolor\\\":\\\"white\\\",\\\"ticks\\\":\\\"\\\",\\\"linecolor\\\":\\\"white\\\"}},\\\"autotypenumbers\\\":\\\"strict\\\",\\\"font\\\":{\\\"color\\\":\\\"#2a3f5f\\\"},\\\"ternary\\\":{\\\"baxis\\\":{\\\"gridcolor\\\":\\\"white\\\",\\\"ticks\\\":\\\"\\\",\\\"linecolor\\\":\\\"white\\\"},\\\"bgcolor\\\":\\\"#E5ECF6\\\",\\\"caxis\\\":{\\\"gridcolor\\\":\\\"white\\\",\\\"ticks\\\":\\\"\\\",\\\"linecolor\\\":\\\"white\\\"},\\\"aaxis\\\":{\\\"gridcolor\\\":\\\"white\\\",\\\"ticks\\\":\\\"\\\",\\\"linecolor\\\":\\\"white\\\"}},\\\"annotationdefaults\\\":{\\\"arrowhead\\\":0,\\\"arrowwidth\\\":1,\\\"arrowcolor\\\":\\\"#2a3f5f\\\"},\\\"plot_bgcolor\\\":\\\"#E5ECF6\\\",\\\"title\\\":{\\\"x\\\":0.05},\\\"scene\\\":{\\\"xaxis\\\":{\\\"gridcolor\\\":\\\"white\\\",\\\"gridwidth\\\":2,\\\"backgroundcolor\\\":\\\"#E5ECF6\\\",\\\"ticks\\\":\\\"\\\",\\\"showbackground\\\":true,\\\"zerolinecolor\\\":\\\"white\\\",\\\"linecolor\\\":\\\"white\\\"},\\\"zaxis\\\":{\\\"gridcolor\\\":\\\"white\\\",\\\"gridwidth\\\":2,\\\"backgroundcolor\\\":\\\"#E5ECF6\\\",\\\"ticks\\\":\\\"\\\",\\\"showbackground\\\":true,\\\"zerolinecolor\\\":\\\"white\\\",\\\"linecolor\\\":\\\"white\\\"},\\\"yaxis\\\":{\\\"gridcolor\\\":\\\"white\\\",\\\"gridwidth\\\":2,\\\"backgroundcolor\\\":\\\"#E5ECF6\\\",\\\"ticks\\\":\\\"\\\",\\\"showbackground\\\":true,\\\"zerolinecolor\\\":\\\"white\\\",\\\"linecolor\\\":\\\"white\\\"}},\\\"colorway\\\":[\\\"#636efa\\\",\\\"#EF553B\\\",\\\"#00cc96\\\",\\\"#ab63fa\\\",\\\"#FFA15A\\\",\\\"#19d3f3\\\",\\\"#FF6692\\\",\\\"#B6E880\\\",\\\"#FF97FF\\\",\\\"#FECB52\\\"]},\\\"data\\\":{\\\"barpolar\\\":[{\\\"type\\\":\\\"barpolar\\\",\\\"marker\\\":{\\\"line\\\":{\\\"color\\\":\\\"#E5ECF6\\\",\\\"width\\\":0.5}}}],\\\"carpet\\\":[{\\\"aaxis\\\":{\\\"gridcolor\\\":\\\"white\\\",\\\"endlinecolor\\\":\\\"#2a3f5f\\\",\\\"minorgridcolor\\\":\\\"white\\\",\\\"startlinecolor\\\":\\\"#2a3f5f\\\",\\\"linecolor\\\":\\\"white\\\"},\\\"type\\\":\\\"carpet\\\",\\\"baxis\\\":{\\\"gridcolor\\\":\\\"white\\\",\\\"endlinecolor\\\":\\\"#2a3f5f\\\",\\\"minorgridcolor\\\":\\\"white\\\",\\\"startlinecolor\\\":\\\"#2a3f5f\\\",\\\"linecolor\\\":\\\"white\\\"}}],\\\"scatterpolar\\\":[{\\\"type\\\":\\\"scatterpolar\\\",\\\"marker\\\":{\\\"colorbar\\\":{\\\"ticks\\\":\\\"\\\",\\\"outlinewidth\\\":0}}}],\\\"parcoords\\\":[{\\\"line\\\":{\\\"colorbar\\\":{\\\"ticks\\\":\\\"\\\",\\\"outlinewidth\\\":0}},\\\"type\\\":\\\"parcoords\\\"}],\\\"scatter\\\":[{\\\"type\\\":\\\"scatter\\\",\\\"marker\\\":{\\\"colorbar\\\":{\\\"ticks\\\":\\\"\\\",\\\"outlinewidth\\\":0}}}],\\\"histogram2dcontour\\\":[{\\\"colorbar\\\":{\\\"ticks\\\":\\\"\\\",\\\"outlinewidth\\\":0},\\\"type\\\":\\\"histogram2dcontour\\\",\\\"colorscale\\\":[[0.0,\\\"#0d0887\\\"],[0.1111111111111111,\\\"#46039f\\\"],[0.2222222222222222,\\\"#7201a8\\\"],[0.3333333333333333,\\\"#9c179e\\\"],[0.4444444444444444,\\\"#bd3786\\\"],[0.5555555555555556,\\\"#d8576b\\\"],[0.6666666666666666,\\\"#ed7953\\\"],[0.7777777777777778,\\\"#fb9f3a\\\"],[0.8888888888888888,\\\"#fdca26\\\"],[1.0,\\\"#f0f921\\\"]]}],\\\"contour\\\":[{\\\"colorbar\\\":{\\\"ticks\\\":\\\"\\\",\\\"outlinewidth\\\":0},\\\"type\\\":\\\"contour\\\",\\\"colorscale\\\":[[0.0,\\\"#0d0887\\\"],[0.1111111111111111,\\\"#46039f\\\"],[0.2222222222222222,\\\"#7201a8\\\"],[0.3333333333333333,\\\"#9c179e\\\"],[0.4444444444444444,\\\"#bd3786\\\"],[0.5555555555555556,\\\"#d8576b\\\"],[0.6666666666666666,\\\"#ed7953\\\"],[0.7777777777777778,\\\"#fb9f3a\\\"],[0.8888888888888888,\\\"#fdca26\\\"],[1.0,\\\"#f0f921\\\"]]}],\\\"scattercarpet\\\":[{\\\"type\\\":\\\"scattercarpet\\\",\\\"marker\\\":{\\\"colorbar\\\":{\\\"ticks\\\":\\\"\\\",\\\"outlinewidth\\\":0}}}],\\\"mesh3d\\\":[{\\\"colorbar\\\":{\\\"ticks\\\":\\\"\\\",\\\"outlinewidth\\\":0},\\\"type\\\":\\\"mesh3d\\\"}],\\\"surface\\\":[{\\\"colorbar\\\":{\\\"ticks\\\":\\\"\\\",\\\"outlinewidth\\\":0},\\\"type\\\":\\\"surface\\\",\\\"colorscale\\\":[[0.0,\\\"#0d0887\\\"],[0.1111111111111111,\\\"#46039f\\\"],[0.2222222222222222,\\\"#7201a8\\\"],[0.3333333333333333,\\\"#9c179e\\\"],[0.4444444444444444,\\\"#bd3786\\\"],[0.5555555555555556,\\\"#d8576b\\\"],[0.6666666666666666,\\\"#ed7953\\\"],[0.7777777777777778,\\\"#fb9f3a\\\"],[0.8888888888888888,\\\"#fdca26\\\"],[1.0,\\\"#f0f921\\\"]]}],\\\"scattermapbox\\\":[{\\\"type\\\":\\\"scattermapbox\\\",\\\"marker\\\":{\\\"colorbar\\\":{\\\"ticks\\\":\\\"\\\",\\\"outlinewidth\\\":0}}}],\\\"scattergeo\\\":[{\\\"type\\\":\\\"scattergeo\\\",\\\"marker\\\":{\\\"colorbar\\\":{\\\"ticks\\\":\\\"\\\",\\\"outlinewidth\\\":0}}}],\\\"histogram\\\":[{\\\"type\\\":\\\"histogram\\\",\\\"marker\\\":{\\\"colorbar\\\":{\\\"ticks\\\":\\\"\\\",\\\"outlinewidth\\\":0}}}],\\\"pie\\\":[{\\\"type\\\":\\\"pie\\\",\\\"automargin\\\":true}],\\\"choropleth\\\":[{\\\"colorbar\\\":{\\\"ticks\\\":\\\"\\\",\\\"outlinewidth\\\":0},\\\"type\\\":\\\"choropleth\\\"}],\\\"heatmapgl\\\":[{\\\"colorbar\\\":{\\\"ticks\\\":\\\"\\\",\\\"outlinewidth\\\":0},\\\"type\\\":\\\"heatmapgl\\\",\\\"colorscale\\\":[[0.0,\\\"#0d0887\\\"],[0.1111111111111111,\\\"#46039f\\\"],[0.2222222222222222,\\\"#7201a8\\\"],[0.3333333333333333,\\\"#9c179e\\\"],[0.4444444444444444,\\\"#bd3786\\\"],[0.5555555555555556,\\\"#d8576b\\\"],[0.6666666666666666,\\\"#ed7953\\\"],[0.7777777777777778,\\\"#fb9f3a\\\"],[0.8888888888888888,\\\"#fdca26\\\"],[1.0,\\\"#f0f921\\\"]]}],\\\"bar\\\":[{\\\"type\\\":\\\"bar\\\",\\\"error_y\\\":{\\\"color\\\":\\\"#2a3f5f\\\"},\\\"error_x\\\":{\\\"color\\\":\\\"#2a3f5f\\\"},\\\"marker\\\":{\\\"line\\\":{\\\"color\\\":\\\"#E5ECF6\\\",\\\"width\\\":0.5}}}],\\\"heatmap\\\":[{\\\"colorbar\\\":{\\\"ticks\\\":\\\"\\\",\\\"outlinewidth\\\":0},\\\"type\\\":\\\"heatmap\\\",\\\"colorscale\\\":[[0.0,\\\"#0d0887\\\"],[0.1111111111111111,\\\"#46039f\\\"],[0.2222222222222222,\\\"#7201a8\\\"],[0.3333333333333333,\\\"#9c179e\\\"],[0.4444444444444444,\\\"#bd3786\\\"],[0.5555555555555556,\\\"#d8576b\\\"],[0.6666666666666666,\\\"#ed7953\\\"],[0.7777777777777778,\\\"#fb9f3a\\\"],[0.8888888888888888,\\\"#fdca26\\\"],[1.0,\\\"#f0f921\\\"]]}],\\\"contourcarpet\\\":[{\\\"colorbar\\\":{\\\"ticks\\\":\\\"\\\",\\\"outlinewidth\\\":0},\\\"type\\\":\\\"contourcarpet\\\"}],\\\"table\\\":[{\\\"type\\\":\\\"table\\\",\\\"header\\\":{\\\"line\\\":{\\\"color\\\":\\\"white\\\"},\\\"fill\\\":{\\\"color\\\":\\\"#C8D4E3\\\"}},\\\"cells\\\":{\\\"line\\\":{\\\"color\\\":\\\"white\\\"},\\\"fill\\\":{\\\"color\\\":\\\"#EBF0F8\\\"}}}],\\\"scatter3d\\\":[{\\\"line\\\":{\\\"colorbar\\\":{\\\"ticks\\\":\\\"\\\",\\\"outlinewidth\\\":0}},\\\"type\\\":\\\"scatter3d\\\",\\\"marker\\\":{\\\"colorbar\\\":{\\\"ticks\\\":\\\"\\\",\\\"outlinewidth\\\":0}}}],\\\"scattergl\\\":[{\\\"type\\\":\\\"scattergl\\\",\\\"marker\\\":{\\\"colorbar\\\":{\\\"ticks\\\":\\\"\\\",\\\"outlinewidth\\\":0}}}],\\\"histogram2d\\\":[{\\\"colorbar\\\":{\\\"ticks\\\":\\\"\\\",\\\"outlinewidth\\\":0},\\\"type\\\":\\\"histogram2d\\\",\\\"colorscale\\\":[[0.0,\\\"#0d0887\\\"],[0.1111111111111111,\\\"#46039f\\\"],[0.2222222222222222,\\\"#7201a8\\\"],[0.3333333333333333,\\\"#9c179e\\\"],[0.4444444444444444,\\\"#bd3786\\\"],[0.5555555555555556,\\\"#d8576b\\\"],[0.6666666666666666,\\\"#ed7953\\\"],[0.7777777777777778,\\\"#fb9f3a\\\"],[0.8888888888888888,\\\"#fdca26\\\"],[1.0,\\\"#f0f921\\\"]]}],\\\"scatterternary\\\":[{\\\"type\\\":\\\"scatterternary\\\",\\\"marker\\\":{\\\"colorbar\\\":{\\\"ticks\\\":\\\"\\\",\\\"outlinewidth\\\":0}}}],\\\"scatterpolargl\\\":[{\\\"type\\\":\\\"scatterpolargl\\\",\\\"marker\\\":{\\\"colorbar\\\":{\\\"ticks\\\":\\\"\\\",\\\"outlinewidth\\\":0}}}]}},\\\"annotations\\\":[],\\\"margin\\\":{\\\"l\\\":50,\\\"b\\\":50,\\\"r\\\":50,\\\"t\\\":60},\\\"yaxis\\\":{\\\"domain\\\":[0.0,1.0],\\\"anchor\\\":\\\"x\\\"},\\\"yaxis2\\\":{\\\"domain\\\":[0.0,1.0],\\\"anchor\\\":\\\"x2\\\"}},{\\\"showLink\\\":false,\\\"editable\\\":false,\\\"responsive\\\":true,\\\"staticPlot\\\":false,\\\"scrollZoom\\\":true}); gd.on(\\\"plotly_hover\\\",(function (data){var filtered_data=WebIO.PlotlyCommands.filterEventData(gd,data,\\\"hover\\\"); return !(filtered_data.isnil) ? (WebIO.setval({\\\"name\\\":\\\"hover\\\",\\\"scope\\\":\\\"6202817998296778707\\\",\\\"id\\\":\\\"11258817124591366278\\\",\\\"type\\\":\\\"observable\\\"},filtered_data.out)) : undefined})); gd.on(\\\"plotly_unhover\\\",(function (){return WebIO.setval({\\\"name\\\":\\\"hover\\\",\\\"scope\\\":\\\"6202817998296778707\\\",\\\"id\\\":\\\"11258817124591366278\\\",\\\"type\\\":\\\"observable\\\"},{})})); gd.on(\\\"plotly_selected\\\",(function (data){var filtered_data=WebIO.PlotlyCommands.filterEventData(gd,data,\\\"selected\\\"); return !(filtered_data.isnil) ? (WebIO.setval({\\\"name\\\":\\\"selected\\\",\\\"scope\\\":\\\"6202817998296778707\\\",\\\"id\\\":\\\"7023185993814143750\\\",\\\"type\\\":\\\"observable\\\"},filtered_data.out)) : undefined})); gd.on(\\\"plotly_deselect\\\",(function (){return WebIO.setval({\\\"name\\\":\\\"selected\\\",\\\"scope\\\":\\\"6202817998296778707\\\",\\\"id\\\":\\\"7023185993814143750\\\",\\\"type\\\":\\\"observable\\\"},{})})); gd.on(\\\"plotly_relayout\\\",(function (data){var filtered_data=WebIO.PlotlyCommands.filterEventData(gd,data,\\\"relayout\\\"); return !(filtered_data.isnil) ? (WebIO.setval({\\\"name\\\":\\\"relayout\\\",\\\"scope\\\":\\\"6202817998296778707\\\",\\\"id\\\":\\\"6715635486674730317\\\",\\\"type\\\":\\\"observable\\\"},filtered_data.out)) : undefined})); return gd.on(\\\"plotly_click\\\",(function (data){var filtered_data=WebIO.PlotlyCommands.filterEventData(gd,data,\\\"click\\\"); return !(filtered_data.isnil) ? (WebIO.setval({\\\"name\\\":\\\"click\\\",\\\"scope\\\":\\\"6202817998296778707\\\",\\\"id\\\":\\\"10436594056850586010\\\",\\\"type\\\":\\\"observable\\\"},filtered_data.out)) : undefined}))}));\\n    (WebIO.importBlock({\\\"data\\\":[{\\\"name\\\":\\\"Plotly\\\",\\\"type\\\":\\\"js\\\",\\\"url\\\":\\\"\\/assetserver\\/4861d8d94a0e0c978a829bbb7ecb4a82568c2192-plotly.min.js\\\"},{\\\"name\\\":null,\\\"type\\\":\\\"js\\\",\\\"url\\\":\\\"\\/assetserver\\/000f7c658f0d87642576025e48ddde58b908ff32-plotly_webio.bundle.js\\\"}],\\\"type\\\":\\\"async_block\\\"})).then((imports) => handler.apply(this, imports));\\n}\\n\"],\"observables\":{\"_toImage\":{\"sync\":false,\"id\":\"9994190518675886205\",\"value\":{}},\"hover\":{\"sync\":false,\"id\":\"11258817124591366278\",\"value\":{}},\"selected\":{\"sync\":false,\"id\":\"7023185993814143750\",\"value\":{}},\"__gd_contents\":{\"sync\":false,\"id\":\"5638669818918660026\",\"value\":{}},\"click\":{\"sync\":false,\"id\":\"10436594056850586010\",\"value\":{}},\"image\":{\"sync\":true,\"id\":\"18038088752949369506\",\"value\":\"\"},\"__get_gd_contents\":{\"sync\":false,\"id\":\"17681315777386191647\",\"value\":\"\"},\"_downloadImage\":{\"sync\":false,\"id\":\"3768965387530003918\",\"value\":{}},\"relayout\":{\"sync\":false,\"id\":\"6715635486674730317\",\"value\":{}},\"_commands\":{\"sync\":false,\"id\":\"7292523895582904068\",\"value\":[\"react\",[{\"xaxis\":\"x\",\"type\":\"histogram\",\"name\":\"Orthogonal\",\"yaxis\":\"y\",\"nbinsx\":100,\"x\":[6.107568511046905,5.810213554825182,6.11407796786827,5.554206317456867,5.5368260948277666,5.016281581637555,5.4162323295889045,5.725310608452311,5.778511855634736,5.7740676775359026,5.326375455956674,5.337062693905456,5.662805533982922,5.579316457615695,5.403883892093606,5.913189197914348,5.162426852795552,6.212909276683741,5.9499866193590325,5.370675186321016,6.395696841921928,5.472005051071693,5.747743553007606,6.098312978105215,5.522514767093861,5.7369359606247485,5.659630731872146,5.963631817096158,5.257449019031438,5.925103832223292,5.881918728895795,5.962303303627427,4.79756932858005,5.711783002335397,5.744128661633187,5.471951599525308,5.949542755285857,5.905192621155221,5.746828769010738,5.62412217845303,6.2201006210551535,5.495785433488641,6.593136288600802,5.335669672884047,5.928138836379012,5.55410970890571,5.742999129859509,5.652954414097198,5.6278343117728244,5.18471911930801,5.133478341840125,5.3745220859848715,6.027488271477537,5.696482642430767,6.296961482792941,6.08670989003735,5.309940313323095,5.5204656155967,5.839459160021923,5.520267333058224,5.66985814644686,5.704062679531273,5.958271682707537,5.654384139180436,5.336353924526711,6.150551369124435,5.868162448428416,5.4248780214111605,6.083093779691831,5.804877398170861,5.808498849226867,6.009615984007755,5.168203066022025,5.650386565059926,5.5342671643981545,5.8840370361673795,5.28894152100136,5.764965801698481,5.193528200333666,5.488369605443419,5.246698797000923,5.26511018241329,6.495025024811229,5.392654830091594,5.963695021475677,5.393364868870279,5.360221681156103,6.077832484972342,6.07332434165851,6.068372781330571,5.785435075275903,6.568924913603803,5.888109144996454,5.412854518462783,6.677184566184484,5.376298274700554,5.941669072027346,5.775626856389758,5.4260128979570705,6.200401251154278,5.560980595053972,5.951322220971703,5.4700507249716,5.771512405102399,5.72913215491304,5.7361732725514445,5.2056211528061205,5.414672566414323,5.4815501541150065,5.464757865627631,5.347612091034036,4.93699802627384,5.861901860828499,6.339574672925144,5.139322976442046,6.084549769429847,6.007941263321227,6.270623467969601,5.358612450447029,5.334477541339169,5.582071088342316,5.496380650913539,6.052175599911031,5.187415054124397,5.845343550485119,5.772463995246903,5.918969938302781,5.449279300276697,5.63622671135069,5.827890567816103,5.422082847085847,6.125289517657239,5.900633666608992,5.8511163403506155,6.060756438183098,5.690226038302118,5.720567021879225,5.7430871519807205,5.673258167799817,5.642152757849405,5.558637459810531,5.810466755154956,6.167543807843761,5.386695264504059,5.797453100240223,5.198918134933828,6.11735011757151,5.508416767683799,5.698865820983134,5.881674444230245,5.590813953940776,5.575618718447207,6.02327578475475,4.8859287030961545,5.634390624079471,5.906014383101035,5.317256732342661,5.722147276511858,5.53443126527019,5.290719103036517,4.829803238488437,5.818312169710063,6.103149136002748,5.6276906539988385,6.1680099194895615,5.912745247359617,5.856621792288281,5.359950845154576,5.100111306700768,5.672254181869683,6.748599519638995,5.056472320925706,5.741277141016333,6.45686204587979,6.520042447123946,5.799292494205488,5.31814438831497,5.142375985645563,5.924311964094346,5.9522141816474194,5.7317004105854,5.8265772515555785,5.490867097229053,5.884944875336908,6.090919087122443,6.427085890633342,6.061799268586556,5.795639156535582,5.93122467733949,6.20659298936716,6.2417136257199965,5.867639273512921,4.755065163581526,5.193025871893581,6.008692148492039,6.011476243085637,5.64231107212913,5.184881888553302,6.09565236832357,5.644261716827655,6.0713096648119835,7.008805661719319,4.903722789112909,6.107077772759225,5.877575646984767,6.0811354895204515,5.297566702664569,5.304132778475264,6.0581449523227064,5.325605820380032,5.3497249682490144,5.806774807248395,6.45678483879297,5.51938801343806,5.382735204420733,5.450332733298995,5.187083294040771,5.512100145645249,6.4095163093096845,5.978051291614209,5.49259480446522,5.630417750351423,5.986727543328434,5.999461895182157,5.710762084871745,6.164071560930661,5.877831197156771,5.164393441723835,5.69523921955908,6.2524644686055435,6.109388929757842,5.580778825067641,5.509243844433659,6.541889628007959,6.530973726419488,5.524514555781543,5.961522279619064,5.678221080275197,5.262923269598195,5.417564483776286,5.6007785502216665,5.694138101501311,5.259698869925735,6.20366819582993,5.345751064871103,5.689700286239909,5.547752561901228,6.06475436172099,5.555899793572918,5.558632567334663,5.043299017668125,5.429503129115457,6.049987348736283,5.860523293370428,5.296995000854609,5.79307467698569,6.076274543471935,6.076204627544584,5.315382628807577,5.392529190623105,5.613269803434617,6.040024437441193,5.5180574503441955,5.141272513479832,5.518844596204041,6.045450950318228,5.679771611989975,5.475253495369178,5.654184791382703,6.916062394253931,6.461577902120566,6.123517982896698,5.498405705132376,5.7321435808319485,5.345685308018633,6.765685410439044,5.612474811517067,5.969159688707534,5.713833928196467,6.1332259070577475,5.568443763817454,5.482768815028698,6.581689333014717,5.23474853053907,4.962263400329823,4.669367741428423,6.2721817258819055,5.085309989633146,5.74813262694913,5.69268744506386,6.460211138822818,5.153235015867389,5.898500089843504,5.658808712314883,5.548725302083384,6.175227066463035,5.906154193756551,5.177475526525687,5.19211622432548,5.797717361690097,5.988591536646364,5.5861803275944295,5.558253408451754,5.543927345385821,5.781234372007495,5.482387112422447,5.410131695009661,5.7024106992988965,6.043520812939188,5.7776008584069825,5.614571223105431,5.731414405828373,5.387083561741643,5.446570001210292,5.508113423745297,5.976836717890405,5.806970378496764,6.155820912288359,6.422413330789537,5.6249094135944,5.791318633534832,5.361755593578842,5.4421658026259525,5.672887811597817,5.438592850194256,6.126941212068643,5.8120936096314475,6.102078474157441,5.7251729835397915,5.5813803527931505,6.125976663137116,5.509536366094047,6.000275805420531,5.217656173454716,6.107115742882528,5.8301061438628095,5.3164921634627005,6.240753912856652,4.955202030229825,5.757446825544461,6.057556205314745,5.688344522026288,5.503069778902809,5.829579380002383,5.7888211416422735,5.471483476616392,5.41203456682905,5.3727256593534705,5.716411273705662,5.67872132412138,5.874395323712856,5.314507809670971,5.368188553907451,5.765323935033712,5.3913466600347615,6.524046913319985,5.778018444358185,5.323945734867199,6.432881656759396,6.218046803117787,5.619925410365436,5.833672950951028,5.682182510370938,5.3156056513985,5.946292179652828,6.08436708192913,6.056459887128635,5.302323816226455,6.240287244511541,6.014304024681786,5.559919333637521,6.005740393597572,5.722075190109525,5.4253135651156486,6.273439580674439,6.09475924423053,5.86010730198425,5.7983856469595905,4.739854551181505,5.538858118612009,4.974570198924403,5.819998148687086,5.163134385640344,5.624495268896525,5.629925221589591,5.640830592477176,5.394560271778085,6.164303585018635,5.812823501081109,6.209569833866644,6.106155757650527,6.314067111148989,5.574183824932828,5.709601081159504,5.707167599817791,5.386038706396614,5.655211303291315,5.552477445634812,5.356766352617561,5.453568073111348,6.058040358619122,5.99360580061112,6.232308352868817,6.716678360903331,4.974356856441043,5.883741436763513,5.754467059665623,5.460895675632773,5.724382975541346,5.923542885331048,5.372566785009904,5.405437542159376,5.125638201371187,5.784573264861598,5.512923928752491,5.368693769239273,5.703700700519383,5.297615258545384,6.086957541968941,5.88123628837459,5.805848264838678,5.897806299177975,6.52382814071302,5.587871834916659,5.423908836366173,5.238215669417969,5.635182217988209,6.216836459629114,5.8321620148997395,6.081866112576794,5.698136400640835,5.915732243562646,5.849780861371889,5.314663113734348,5.446364326916182,5.679552590643088,6.5673711570099025,5.801615388928557,5.500383253990185,5.740617696339916,5.138033983914952,5.720975675341126,5.567185848489078,5.553455361261943,5.528570215254164,6.582312916103325,4.981028239146297,5.751752669596453,5.572615873256266,6.172208329480789,6.491141967779967,5.322725952008928,6.431291754691763,5.62622349435072,5.574760958462519,5.458660577782386,5.030771726737154,6.247430764107554,6.249548805258312,5.393729028392903,6.286936908987922,5.622950058202315,5.461567978323133,6.122621652613671,5.263987976705324,5.635904781067299,5.361706880758039,5.70368177857254,5.386849807555269,6.054093079478124,5.597551177812741,6.089046967454315,5.786982232032199,5.07420754830986,6.286322391811313,5.260752728109159,5.929151049338911,5.324847998627858,5.917905600422398,5.571901347169145,5.956600590909769,5.207771904586365,5.774358877241991,5.972250363136424,5.292784371359824,5.668744090661565,4.890221656278715,5.167221536571763,6.025083838632521,6.339683109681167,5.527623661357297,5.1978725333524824,5.638317580351045,6.373725739613006,5.471251949721102,5.718211655580553,5.064611882505276,6.138929199722163,5.804433133362743,5.165756592396923,6.151950833768637,5.739999393159636,5.375416617971274,5.078349381034918,6.366414299594279,6.137860106556483,6.215767864164291,6.263780514220313,6.026432725079998,4.990048636660518,5.814022038295333,5.14788017135308,5.691075829758535,5.404201676766732,5.510669010611435,5.85955961464926,4.647448912827727,5.607967904306502,5.340201255141174,5.841618764719202,5.93513695997998,5.4370268431637205,5.154277885589167,5.503696276857688,5.569956248346811,5.625791317978774,5.06894456690343,5.6197174009050865,5.705693111395938,5.689395586600133,5.312678957910025,5.918277822971636,6.242293894628155,5.108373218773574,5.723385547256374,5.361311250304198,4.915341315929742,5.868207388399135,6.3628494767677575,5.415265026699285,5.612542533693852,6.768535360574567,6.7276027647285535,5.623132927460857,5.891914549791491,5.936077983754045,6.080244591869497,5.956721091885497,5.691993329735401,5.000031132652638,5.85077795465725,5.998998104814011,6.215138375798019,5.821083770930465,5.251428172691124,5.297835553178878,5.701759810489034,6.0044708578498875,6.052689502968753,5.672501596372798,5.847886813007921,5.9877737158184345,6.129413057375112,5.486539294351605,6.838287667249502,6.133352318016795,6.937212718664181,5.70577601724731,5.3292095853806405,5.938690688568692,5.532543501731862,5.9142248675548466,5.892761889786396,5.3566383972341525,5.793605672825187,5.613242154846922,5.5993987317287885,5.662854138746266,5.973862497157568,4.825768664786389,5.424205946722846,5.559093893723148,5.871795413240727,5.697235803831269,6.483489460861043,5.482581438549369,5.392329718875658,5.355230495574424,4.976454006284994,5.697340277353722,5.719780432942379,5.776391374869373,6.49219530407358,6.329683458122619,5.555208781901352,5.76826287423125,5.692596152573779,5.463021157024137,6.022881688810045,5.918239093117618,5.575746202303747,5.249698091427487,5.506654304032596,5.861668932054178,5.56515416461898,5.7235689861361205,5.962095348108621,5.92560192050325,5.720147615925716,6.56079566457058,5.652957285790534,5.893120839265849,5.463669392296137,5.6195415005211755,5.2348339890026825,5.787250494453587,6.253771186450869,5.616571268875094,5.183433878495448,5.506186605655691,5.639300148371706,5.925204139008253,5.772443060436712,5.55423631724294,5.385764154024337,5.43939769897937,6.077516928203126,5.985890742295231,5.917940336102536,5.911118200801313,6.501785610143124,5.98029761887292,5.595440735078974,5.937679456839811,6.157844629744207,5.404665396843739,5.666180960281378,5.4172334458086535,5.31326983215903,5.493904872469831,4.818678906306636,5.64329479723223,5.699968128320934,6.326466283967149,5.9182554187029055,5.534603074927688,6.198260176056579,5.991609158075365,6.158214602539315,5.648645200745957,6.547686943524618,5.24733986754062,5.419594688075518,5.561964449945743,6.581742559101752,5.136404090094551,5.771741335993104,6.321765747944664,5.544097313186268,6.5068631816995035,5.811892772485282,5.942613355705237,5.128404094513622,5.013652633706198,6.749582782990043,5.906591004719509,6.092970641974128,5.9047681894777675,5.616890259984873,5.402378150874617,4.9328823405389555,6.061207182489485,6.172458128442292,5.672922675340171,5.359869910377608,5.9175162652723925,6.304895729616463,6.438793014350966,5.671916493861412,6.135357767547289,5.920474768473695,5.595685924455984,5.780894286176111,5.979438224652342,5.694083211571075,6.146805734067907,5.276520170690887,5.646297119377111,5.406203545077736,5.200055634507831,5.913439318633996,5.447538144795712,5.281234793411853,5.939364860603275,4.817760457818891,5.144078065875964,5.687608119432422,5.8144110691228565,4.697800024773641,5.691347763111618,5.828977146169927,5.411197471864421,6.136031081536431,5.618539854710581,5.462242378932786,5.295098760813482,5.112615724424245,5.189718061348512,5.510979345458499,5.933524704202853,5.6335693288019595,5.860451313910437,5.2649998199674535,5.668189243446841,5.908987730100047,5.167695894518751,6.026108005203097,5.937548678129077,5.471740017009577,5.8125923067615455,6.183358419179119,5.416660775032864,5.771791054859164,5.584348513643582,5.967974370778129,5.739544156091232,5.425962888266124,5.594044519363994,5.098223964994568,5.728171749356035,5.250897633572829,5.499974735087473,5.705501182575867,5.457136940364669,5.938618299715609,6.07447077943375,5.507245118245533,5.676262440958566,5.8773856182643085,5.603491210575292,5.003866073676048,5.379871779485407,5.009241550637674,4.643527155588711,6.428906059304762,5.293190671128995,5.553630762831707,6.027126692454174,6.432948813133604,5.779754067764928,5.702382144881458,5.862494675351083,6.1685088774727515,5.526056530821341,6.156419339476297,5.610228934805615,5.480177611174441,5.765754527777423,5.589481936383155,5.646934274942038,5.644983890757577,5.508018107300211,6.204731590751948,5.997516712729119,5.45521628874842,5.773583335866846,5.219173034337424,6.009848289345296,5.391773349594456,5.893448134937139,5.8444159029532186,5.48161846417894,5.602693698716853,5.461708533039133,5.691931460281238,5.334313481712092,5.9210273428592535,6.199232698462275,5.552063163368817,5.828345178404909,5.357063637485321,5.556842635124869,5.8257349682134345,6.833204099346386,5.242207771147106,6.026856889633993,5.253548246564228,5.742026965515795,6.059200371922403,6.083199330474841,5.439960575634047,5.8501052987449915,5.60526393849131,5.360275156701837,6.098847383659353,5.792184470450347,6.424538338971912,5.9632690151125045,5.346506842832041,5.911363349641353,6.181133745311441,6.2827577032386435,6.038396865484382,6.077393106883032,5.463860016150818,5.62201016320985,4.937156647056499,6.164472148368459,5.576996980100309,5.691691785562946,5.509510597296381,5.610876361570845,5.284167276069246,6.305153485972165,5.738250798132164,5.912688491335621,5.828712310902039,6.172417110339685,5.89063599511137,5.650262455010687,5.707454959906116,5.650478420663317,5.967760331969377,5.656987697247468,5.421967512039171,4.807613715822955,5.845806633588685,5.883098404521338,5.922802533276231,5.344333429038969,5.578902418374763,5.574103487138735,5.514112561663024,5.572418418321254,5.2466011936532695,6.191727501648537,5.644074151830491,6.446262288981877,5.634476348819848,4.906755498619261,5.617461185279613,5.593223985702923,6.276430295507606,4.785804373866625,6.199947251165672,5.527854155790103,5.56578449047172,5.446844993490998,5.2225230426037355,5.786308238779723,5.603713051808063,5.543619554958937,5.388165459475279,5.713853137954298,5.567684293197052,6.034064976544296,6.235276512662194,5.309009108476079,5.391431335315145,6.145408129240899,5.009709779170392,5.454830339967098,5.317771086774559,5.399073884823768,5.37664588752933,6.0340399435202405,5.276606050850764,5.7091219074264785,5.454918761658693,5.769226531695258,5.987503869627085,5.8779041979776006,6.384741260341633,5.472705675416533,6.805116184465018,5.774894855263142,5.866438950407226,4.8473266689800845,6.327266022699685,5.157908561586395,5.427327451403998,5.344297034004325,5.7802355333677875,6.037943016882991,5.408509525254669,5.531352027269427,5.354871394711246,6.183948008103319,6.196905452853103,4.920396117739437,5.93712568070003,5.792074998196028,5.4548352862419565,6.26788830628009,5.498772728831185,6.0760210201202245,4.838307075639791,6.188927280897449,5.42350308329486,5.251907145369522,5.665913421096558,5.877924200300387,5.170840769552901,6.098358715867055,5.725651622914011,5.4311998515350615,6.300060419320693,6.225524566752695,5.463944222507338,5.59086670329384,4.9751628657397635,5.5817701915636455,5.933486051239015,5.369521611587609,5.5349085502921955,5.510256662665764,6.216603331070624,5.824595691145739,6.424192315583989,5.782876992276397,6.148139484359597,5.603637069544528,5.839020762901778,5.967395528506784,5.191000302363208,5.616773695228021,5.6596968999464154,5.538165011423799,6.351221223537572,4.8436908176862685,6.478463921469317,5.695992554975106,5.7275092509461745,5.5889592435039495,5.968754027946534,5.329118193326182,5.339060865551261,6.142709366147785,5.385573147551207,5.475401991494888,5.306219576662042,5.613493747087662,5.615526023329008,6.55443322659059,4.973666628885515,6.282845730598809,5.838349361009109,6.032192943384084,4.594676627881973,5.693742124174299,5.826684927786318,4.952480613821895,6.331041182340038,5.766835198351603,5.843497186659468,6.016580660276869,5.714414594518818,5.119122469544969,5.555359362129122,6.080277981204781,5.414033785093096,6.55941972439373,5.991320501472386,6.148492766548511,5.451725900868549,5.924592642346776,6.195288773348549,5.249953558371335,6.448018388437209,5.574062004339356,5.7037090289102474,5.8325419058109285,5.848909592404562,6.002244894459869,5.426286893074057,5.731505625205914,5.574855764714837,5.855653509972971,6.440605209046225,5.9794630914818825,5.124872242428869,5.760213935359739,5.19039154578817,5.789648817691169,5.901312185884385,6.009435582284144,5.601023223676154,5.9667839894632415,5.848192577945305,5.7789711910428565,5.947834357407088,5.927119590168196,6.112374282261037,5.656604499078229,5.744839050638044,5.936441678105058,5.769432412197074,5.837394768850084,5.446954077977332,5.53332438381309]},{\"xaxis\":\"x2\",\"type\":\"histogram\",\"name\":\"Naive\",\"yaxis\":\"y2\",\"nbinsx\":100,\"x\":[5.567070150014072,5.730359576015885,5.839376694184348,5.526594264172206,5.791957626870241,5.819116763890307,5.530066035704268,5.711568184653146,5.689132884288875,5.908377828201319,5.578575871982487,5.22026869229555,5.98510521784622,5.350284350334943,5.995387818735469,5.591095163220315,5.619150324714862,5.477694929220629,5.343574795339128,5.462083679071092,6.123642111382798,5.534947358185479,5.2172225036226,5.513845739258639,5.277853554256551,5.632095226698355,5.807605721124742,6.053073417504627,5.34907675864391,5.483470400693118,5.625735543792541,5.471951145967757,5.340836857464183,6.021355422397427,5.415689284968005,5.1711087599884085,5.157942581300622,5.692012390337107,5.218232790809028,5.968597479325352,5.7985491744862845,5.455885322218423,5.640721083163408,5.229502749181458,5.67210870663118,5.630498974070358,5.887487463662591,5.834535208124073,5.653833492176141,5.234045405378721,5.018359394098107,5.40474352052405,5.692566441647851,5.630251799413699,5.677751819869687,5.853376309202167,5.278092563932473,5.471514126763407,5.845515447147241,5.475785271472894,5.543917293886057,5.340867658445492,5.664547597992231,5.925353093367543,5.233821362661974,5.8420275614273285,5.3723522063136695,5.21027544722544,5.75052362105005,5.831820140030925,5.49976152168285,5.579553935526484,5.4598594942983585,5.440672549816444,5.485522048060428,5.832818395897455,5.614747258662229,5.7065348208743245,5.590290099541028,5.434523778773087,5.501433025719203,5.281232324061369,5.7171393493773515,5.60083980402685,5.424746536867222,5.634465589817956,5.5135856873631495,5.903436653277442,5.805037622231597,5.609854816698936,5.640911395133303,5.906554742921648,5.778892292055508,5.4095738788209635,6.072129125146587,5.564054534367636,5.9681864215255,5.346027253989025,5.330779726882273,5.863645201451791,5.7558419847259055,5.8057102519065875,5.8204665634946124,6.03202876786618,5.547300014389042,5.315487330036162,5.508317376404149,5.2527592141020065,5.543274845974443,5.288599403531077,5.66867939974897,4.996822873713603,5.693776050188034,6.034207055762686,5.337470407049953,5.7413197793931925,5.543071158436243,5.883690000012494,5.567388509167342,5.443238905523181,5.606859355978559,5.422814787903338,5.918066160146861,5.685084791900242,5.6169417921994915,5.944473361996459,5.976647849443105,5.443189853683778,5.515393191024854,5.531368447346506,5.147178839672826,5.9006710597349175,5.954285308370078,5.663242906823531,5.686028585082911,5.363844739492312,5.681695644650746,5.780102509671987,5.3527229709818425,5.44915348048943,5.518046748336447,5.503918598200289,5.455770232207572,5.697969247094222,5.86484684508638,5.424920992489945,5.932424498353978,5.621872250788523,5.485777216790666,5.825044564179014,5.885113986630144,5.421588331769363,5.545294901761978,5.102512791559266,5.336281161634313,5.91704385444687,5.177271254239087,5.55615858167916,5.062940526890871,5.660375608932124,5.17376133331576,5.9162217035424245,5.918786152639204,5.378646727298211,5.5808808754739525,5.842826535188341,5.702717691469818,5.332051514570292,5.460083014222991,5.206460651754896,5.784104803749841,5.363653160334915,5.306185077228635,5.883306906419397,5.891706164049224,6.064761795865138,5.80018040425409,5.070489751268099,5.994690376782715,5.648547865793625,5.917013393778027,5.507639336726587,5.461542556198016,5.620822532037549,5.924971125473554,6.102186575073237,6.0051061060294115,6.126022162110766,5.659142107034133,6.067641815882411,5.589351704045609,5.775399174663043,5.440154162378093,5.4004863467393225,5.595248927988308,5.998257813641355,5.154313348802301,5.393502408788339,5.812799146779998,5.374491335390971,5.917605349852461,6.068610451841225,4.688624466866894,5.6631935736333485,5.388383708898463,5.357437090886361,5.038260067160095,5.413582431627356,5.948196231478636,5.0195872657453835,5.2194260414134925,5.362867736482803,5.826747715770841,5.268300075277376,5.590006246922847,5.48752397327398,5.4564904234424825,5.667793790749871,5.504630052611508,5.921528893003178,5.436621951429699,6.0530418282365925,5.887854821015893,6.093686771811401,5.518671575522129,5.720651464767902,5.630562817521724,5.318467987044608,5.5314302238743815,5.54934098556709,5.920352139030517,5.403665515231962,5.676819238591969,5.972244448237794,5.862417241823254,5.377404659622739,5.432845281777085,5.872841751716034,5.0861930511221285,5.192409633571481,5.5520031637276075,5.587668438203692,5.496811246739636,5.897998585420514,5.538771153368967,5.673220982566994,5.014879313445258,5.702189362812374,5.925180334890397,5.3666647060380495,5.31030310704293,6.099123191257627,5.608971128513352,5.088564315177977,5.88765587146958,5.691867549790758,5.801124038959504,6.049494011968419,5.461118236155958,5.495335993555671,5.566672404141777,5.620899142643473,5.459921345983985,5.624814188891331,5.9200241350180205,5.673665797634879,5.229808613309295,5.51521019371346,5.357061638391618,5.805134926865899,5.722205778711909,5.66537023793082,5.650366677318304,5.342059195102475,5.022558104674736,5.34709188867952,5.511164068302334,5.180688865737258,5.340369572817136,5.698764420866619,4.8059305369580665,5.52771910821005,5.927667717935981,5.066098976959084,5.385107667960465,5.216913917351057,5.860009809640383,5.113694508140167,5.890622967899944,5.6228441185598115,5.828498274889568,5.284643038458523,5.679854945459039,5.46207943208642,5.27073402139487,5.840501566138973,5.680026716800973,5.101620158760889,5.3432627435002145,5.484223363654043,5.650665703095622,5.474238008339254,5.051830899910982,5.451692739048352,5.616907791154199,5.4244508282835735,5.205177632621621,5.877541285785824,5.9918974039391655,5.4332762331105275,5.208775885551599,5.576446275617416,5.309139436154267,5.523086091463324,5.294026152753491,5.8681580247962115,5.437548672623813,5.844148061006838,5.907008525614825,5.179221941958558,5.0664807187605945,5.4096569864781,5.124331122735739,5.740797729711547,5.0609970978117,5.512663542945579,6.053517189866712,5.517195920263422,5.179747695322129,5.594967867302606,5.568221842103036,5.462479176122419,5.5640863337075,5.119524126634132,6.053273763660598,5.966227960830222,5.083842437041614,5.690703678947011,5.949071390731061,5.444580625511958,6.002240671553677,5.589422468349388,4.994350749929577,5.533837672387043,5.471149127886653,5.206974595747079,5.698496408391176,5.546180196715212,5.6698202800721,5.976533638037478,5.48605781583341,5.275643585827757,5.342853844362395,5.721109915133225,5.4656659234833365,5.980700381017263,5.5827355757436505,5.160781674904435,5.688828464331678,5.940421901569868,5.53730649140762,5.508126936578258,5.7122031449567,5.4442920417670875,6.0519907384762215,5.535462733800497,5.95059919976345,4.901801526872264,5.5706918836375685,5.902133200507333,5.9311576028727115,5.905820156879095,5.856785388301333,5.21346044501562,5.758587592818691,5.929213363393004,5.91602541092798,5.754135873434785,5.662846922162389,5.989730533282167,4.684790647847665,5.577535711150558,5.2335595463457665,5.425329811092127,5.713901643649196,5.418038722542225,5.142280150192485,5.537657259395081,5.859446053151986,5.812384720207799,5.82871592959371,5.970693660629885,5.701160765274265,5.861252374809292,5.545866275313137,5.461234235956239,5.316296222361175,5.645262108482893,5.4434894126355005,5.28467764904897,5.910043682416607,5.633140404215544,6.059741264716615,5.719626859462058,5.252425184207765,5.563590339090602,5.362562701260844,5.8995944887763825,5.449340083405892,5.5233737643121765,5.375226408863703,5.248570185721842,4.922968428275071,5.454232069769781,5.561899759846825,5.6698874280661,5.9152089710826905,5.4213035448309155,5.821980463973827,5.613131061214603,5.70147784734493,5.896336359653277,5.699151955423635,5.22597335679248,5.000174630565263,5.309972889396475,5.887524586053414,5.853036603019771,5.7675021624637,5.987294458029225,5.942569619386238,5.941129064508249,5.918454819989517,5.2552950757458,5.503585837229174,5.845459026950417,5.901373234284739,5.475688343004284,5.303260003658139,5.549774504566244,5.302814371919882,5.741682655409587,5.305451602984315,5.413492429379699,5.639769767197973,6.00131938687281,5.632249353913412,5.752250414920217,5.923144718958741,5.805110174005504,5.581091471591007,5.167708472975376,6.0335546893750225,5.656472702155176,5.499419716518005,5.307471242066822,5.370794472581004,5.938883853921571,5.602742965100987,5.383782989091806,6.027806569948152,5.841783666289592,5.607844978054892,5.4868771539920145,5.453051577807413,5.71937469831337,5.142101598082298,5.608099607769256,5.437258108223121,6.052876209710807,5.286913434796852,6.0212973234159595,5.901196421604848,5.058239293797817,5.964244093831562,5.152233393481937,5.924944405149903,4.4277202933131425,6.013178200862375,5.215178735655984,5.428995260304583,5.407496097355117,5.838785135941859,5.6239078208696665,5.219915782420306,5.650339124588839,5.358344493756032,5.369976737163096,5.871257714442415,6.031022526337267,5.094501201293361,5.644688623673992,5.7095754648489745,5.535723729029188,5.18772376509248,5.944084773852005,5.164308626484992,5.585532685638043,5.961249047305334,5.156690673900121,5.596702686409595,5.121308277406924,5.513623903298263,5.119951192340471,5.924431074596507,6.0485449944723335,5.630972514944282,5.616182624206772,5.555848033974998,5.069969872858093,5.635081310946308,5.371606014302213,5.312162453848986,5.299083388659682,5.782829324546895,5.766097385472401,4.597737304131193,5.240270648373098,5.344846392950786,5.5628635513454,5.470719202442125,5.918876879512408,5.2051712786364,5.270561955172955,6.007423298018683,5.987264345929738,5.177467445637208,5.930678915549139,5.235943839860067,5.5798403204472,5.452062284575813,5.572292221405976,5.699024693934286,5.4787974580292795,5.978612763291509,5.184392034727409,5.294398207248825,5.487599536879887,6.029563634404531,5.541408300072668,5.849759757841414,5.5532260149712975,6.0438627445369075,5.233926388820797,5.281638248399299,5.694202066858222,6.063715965198304,5.713407402719846,5.892445562690373,5.153435067491496,5.599007239235674,5.316529346931457,5.788466182779076,5.781952008610113,5.1816821238370405,5.246722496135208,5.395114808501945,5.585167521844913,5.9068318965314015,5.487983713012243,5.351134267136043,5.623485077938041,5.872339035388408,5.457813568049086,6.072027673088326,5.494847140268915,5.75741248853876,5.19098560357987,5.844884879333203,5.955993491451034,5.604186584207618,5.9490685543149375,5.673073738185116,5.854830918744769,5.317714714153103,5.551939693121082,5.450733230043546,5.413798036415016,5.662964694421842,5.828210874168415,5.39105020746467,5.477537408333691,5.5748002317265275,5.869991837385363,5.966837661035975,5.767191804095536,5.368044314350369,5.106380097173617,5.199647277179423,5.3422599851882575,5.55537186974672,5.500113837758149,6.030731888659537,5.209550656408546,5.524250214784986,5.830974739329753,5.889840917971259,5.433106583082413,5.7828498463176246,5.277004083927154,5.6932751299595,5.470663462028862,5.854770703672714,5.629133595766384,5.583104636932852,5.590973306493972,5.813138352928252,5.364638553847935,5.504985270870209,5.758397371084954,5.187602947422727,5.964776946874876,5.708819756452926,5.560967301236826,5.448670046739836,5.706639520644838,5.96736710394741,5.598937525757199,5.732472523150084,5.438313986022692,5.929025460567645,5.855191645110394,5.646643923773119,5.33336681021256,5.0441569980427,5.420439863126791,5.677932599673765,5.994119778139631,5.969817988386774,5.569076354524736,5.888159063334995,5.742976795874317,5.529684555669648,5.550437222534838,5.937669992399483,5.350531406525597,6.016040515767988,5.555462359881623,5.515151532023165,5.293285692669379,5.497183418568656,5.614826130569916,5.546837584523177,6.149448961113248,5.85674770762469,5.481720933101615,5.684615348792255,6.143075756040911,5.81669280158191,5.4122645020897515,5.565827443644533,5.517790410693567,5.160686852536025,5.490445313190984,5.604500837170593,5.550775454420388,5.884939896895143,6.061964528706511,5.614503929587428,5.949095761459625,5.5084329693672265,5.848572808606508,5.746986206375498,5.241412101364038,5.7476600167883305,5.958894849363785,6.089694702477365,5.916306591310887,5.109808475560485,5.36844779514806,5.011840034725132,5.833541118370605,5.676418633884372,5.880739381281003,5.366207850285453,5.415478169661169,5.914578029992437,6.0450064285313045,5.729481029956239,5.812547946530612,5.5195358742210425,5.552207583555731,5.047025194606008,5.929301811591906,5.304024198382022,5.892806366914227,5.254681794324329,5.529674515424012,5.202529789343226,5.5647307445052165,5.146367416733297,5.30085509111698,5.21640984108749,5.491355010422767,4.767423558077882,5.616033262962367,5.6034996464757105,5.893499053172556,5.4041495718581185,5.395456930346431,6.012178050739751,5.582849711303519,5.305178364664439,5.582922992744461,5.418901898573839,5.652397556557497,5.393268711612009,5.082952253278935,5.470186520638957,6.031186815880384,5.888789056584633,5.3891740813122775,5.001678223407083,5.551145265315573,5.742526333545814,5.252777045344087,5.923288255472845,5.2896362371766505,5.2707837667004425,5.456824832001419,5.72354230194454,5.259541251308122,5.2238629987219065,5.341826288627686,5.766271710521877,5.650622273642476,5.525853337110076,5.358440085389765,5.188572537710974,5.243117428578594,5.247278834834521,5.8408159014487016,5.167085328668712,5.634958135826395,5.410698928770809,5.544231428025519,5.288601501452513,5.431641779433119,6.005370048670128,5.403319956603325,5.43044765392294,5.306285681400756,5.173450826441317,5.215538610797203,5.645878492367364,5.46025697595484,5.491655876196374,6.0366637431761125,5.9733012599279,5.162933835341369,5.883758469367988,5.912562570380068,6.025233638705851,5.890687759724407,6.002698967469069,5.4610872583507994,5.431535554514504,5.625166770678561,5.611600204341614,5.344744367693691,5.452921455854929,5.606187686847196,5.8082952355725475,5.612640099042878,5.431207012693456,5.089278423082893,5.066388301488185,5.647046379348164,5.202464697212114,5.981108769781677,5.704926731055848,5.648056897082352,5.821840957275018,5.534782512357354,5.469747527922668,5.699493613450513,5.654546452690977,5.884910919863804,5.353745167006006,5.829036029231216,5.303230423807953,6.0078555953183645,5.980512392339676,5.974379808553276,5.4861640112652115,6.130184934172927,4.663490687679217,5.999122927816706,5.869581916153936,5.50288224535742,5.391749476201517,5.678688023194322,5.459329538597347,5.531481694010023,5.677729328579305,5.940120813448737,5.578621459914394,5.304555792059693,5.581200278855349,5.261649515481563,5.881356014555318,6.025450744305908,5.648724802208286,5.857083501774568,5.32236716943245,5.420482722737555,4.9087522230758625,5.982555589758369,5.787821039344044,5.837680782509265,5.567048123393621,5.55427195767012,5.407946494455581,5.792931535404641,5.646644670142723,5.544653269396724,5.340475988997718,5.9924370246023955,5.715455151521037,5.35788618359154,5.851009522157883,5.4421451318944545,5.53349710961632,5.481463028766314,5.415844438694012,4.7738214527711555,5.372242916418743,5.8034243447200895,5.732004447001517,5.269127429352359,5.207435910039105,5.668498763885195,5.321261131549591,5.214159169304337,5.1212582991921245,5.605671816710723,5.323891620107517,6.055246106336877,5.436400281486065,4.8611218293465495,5.816282323698226,5.374518618331777,5.825436820582897,5.322801022489195,5.9918299434817675,5.691694742475618,5.44802791628174,5.169559631013819,5.345175248180566,5.862924142892192,5.861099877356444,5.279986058937885,5.609893965020526,5.4557164088177075,5.087510875421437,6.005091458666897,5.521075005363658,5.28780904247646,4.818243118888714,5.859905789736311,5.0935895426164395,5.30474830098581,5.378223317564708,5.703320960466014,5.410978078417491,5.914997344809719,4.72422902421857,5.556069293980857,5.30790771317661,6.029674988047908,5.298251169634979,5.42157013481426,6.016145546690832,5.5097836322562666,6.012353348578165,5.938042637430372,5.758417183105124,5.475179736064511,5.856245325335481,5.238789548161728,5.607937836229163,5.902452146251685,5.488446065681844,5.697501636926791,5.501449931630019,5.74183008510005,5.585274588801624,5.98429984917705,5.71158587838997,5.15946149955367,5.99121910673128,5.6418114817831535,5.743932294474912,5.792530619528119,5.441568381570732,5.9924067949225535,5.09464417344849,5.60971954179895,5.185832149276602,5.24819334989361,5.391634933099855,5.711470908509955,5.39258073176213,6.0704243001056835,5.581936502041553,5.558025001464061,5.925868716223439,5.535693785593459,5.451992500760613,5.363892893134155,4.97553234550085,5.678757399765788,5.545581920783672,5.315554993939142,5.456474258748678,5.538382781536858,5.884429903471919,5.471881368767554,5.954038781684558,5.701115226704059,5.832128529693478,5.680214463795725,5.8371067982188185,5.684514771883743,5.357514564656505,5.950573496961758,5.551739190866882,5.709353534645204,5.950799135342434,5.23028578715612,5.452490974749535,5.399734379277403,5.719066495121953,5.5022481315423795,5.269826269848668,5.069349924018491,5.0845832992689886,5.918436536372479,5.388901843028402,5.642187787174352,5.243491231081901,5.556553087894056,5.5767975688541105,5.748549296706369,4.561877326129172,5.969877810468729,4.941706650966469,5.685170185902747,4.1198881650322265,5.80745049190983,5.619107129008966,5.046045080475388,5.823629798652712,5.476946698756828,5.369049661119067,5.560409899988686,5.6229209168482495,5.019789711328814,5.396345659159946,5.262821568898487,5.252724537429109,5.933501742710276,5.546865278575565,5.870165770683356,5.311120363314871,5.675596914017764,5.48700082442009,5.333249555970161,5.912268880998196,5.327509509579054,5.738940232553882,5.756497254550439,5.605828182312496,5.98961335951683,5.489316631032293,5.411244812701448,5.2818919931157335,5.934397289715051,5.990129666004669,5.694105152133368,6.105684836667203,5.526967010075907,5.386579793267429,5.788113186255052,6.081482295463293,5.555175306852296,5.787375602203049,5.419348006074844,5.394992387995514,5.729482354869233,5.678026053140568,5.868374367874713,5.550981309811376,5.641516141134047,5.7520655272405445,5.968486465453448,5.5772152380598135,5.448085640510588,5.061054740626596,5.949471103669698]}],{\"xaxis\":{\"domain\":[0.0,0.45],\"anchor\":\"y\"},\"xaxis2\":{\"domain\":[0.55,1.0],\"anchor\":\"y2\"},\"template\":{\"data\":{\"scatterpolargl\":[{\"type\":\"scatterpolargl\",\"marker\":{\"colorbar\":{\"ticks\":\"\",\"outlinewidth\":0}}}],\"carpet\":[{\"baxis\":{\"gridcolor\":\"white\",\"endlinecolor\":\"#2a3f5f\",\"minorgridcolor\":\"white\",\"startlinecolor\":\"#2a3f5f\",\"linecolor\":\"white\"},\"type\":\"carpet\",\"aaxis\":{\"gridcolor\":\"white\",\"endlinecolor\":\"#2a3f5f\",\"minorgridcolor\":\"white\",\"startlinecolor\":\"#2a3f5f\",\"linecolor\":\"white\"}}],\"scatterpolar\":[{\"type\":\"scatterpolar\",\"marker\":{\"colorbar\":{\"ticks\":\"\",\"outlinewidth\":0}}}],\"parcoords\":[{\"line\":{\"colorbar\":{\"ticks\":\"\",\"outlinewidth\":0}},\"type\":\"parcoords\"}],\"scatter\":[{\"type\":\"scatter\",\"marker\":{\"colorbar\":{\"ticks\":\"\",\"outlinewidth\":0}}}],\"histogram2dcontour\":[{\"colorbar\":{\"ticks\":\"\",\"outlinewidth\":0},\"type\":\"histogram2dcontour\",\"colorscale\":[[0.0,\"#0d0887\"],[0.1111111111111111,\"#46039f\"],[0.2222222222222222,\"#7201a8\"],[0.3333333333333333,\"#9c179e\"],[0.4444444444444444,\"#bd3786\"],[0.5555555555555556,\"#d8576b\"],[0.6666666666666666,\"#ed7953\"],[0.7777777777777778,\"#fb9f3a\"],[0.8888888888888888,\"#fdca26\"],[1.0,\"#f0f921\"]]}],\"contour\":[{\"colorbar\":{\"ticks\":\"\",\"outlinewidth\":0},\"type\":\"contour\",\"colorscale\":[[0.0,\"#0d0887\"],[0.1111111111111111,\"#46039f\"],[0.2222222222222222,\"#7201a8\"],[0.3333333333333333,\"#9c179e\"],[0.4444444444444444,\"#bd3786\"],[0.5555555555555556,\"#d8576b\"],[0.6666666666666666,\"#ed7953\"],[0.7777777777777778,\"#fb9f3a\"],[0.8888888888888888,\"#fdca26\"],[1.0,\"#f0f921\"]]}],\"scattercarpet\":[{\"type\":\"scattercarpet\",\"marker\":{\"colorbar\":{\"ticks\":\"\",\"outlinewidth\":0}}}],\"mesh3d\":[{\"colorbar\":{\"ticks\":\"\",\"outlinewidth\":0},\"type\":\"mesh3d\"}],\"surface\":[{\"colorbar\":{\"ticks\":\"\",\"outlinewidth\":0},\"type\":\"surface\",\"colorscale\":[[0.0,\"#0d0887\"],[0.1111111111111111,\"#46039f\"],[0.2222222222222222,\"#7201a8\"],[0.3333333333333333,\"#9c179e\"],[0.4444444444444444,\"#bd3786\"],[0.5555555555555556,\"#d8576b\"],[0.6666666666666666,\"#ed7953\"],[0.7777777777777778,\"#fb9f3a\"],[0.8888888888888888,\"#fdca26\"],[1.0,\"#f0f921\"]]}],\"scattermapbox\":[{\"type\":\"scattermapbox\",\"marker\":{\"colorbar\":{\"ticks\":\"\",\"outlinewidth\":0}}}],\"scattergeo\":[{\"type\":\"scattergeo\",\"marker\":{\"colorbar\":{\"ticks\":\"\",\"outlinewidth\":0}}}],\"histogram\":[{\"type\":\"histogram\",\"marker\":{\"colorbar\":{\"ticks\":\"\",\"outlinewidth\":0}}}],\"pie\":[{\"type\":\"pie\",\"automargin\":true}],\"choropleth\":[{\"colorbar\":{\"ticks\":\"\",\"outlinewidth\":0},\"type\":\"choropleth\"}],\"heatmapgl\":[{\"colorbar\":{\"ticks\":\"\",\"outlinewidth\":0},\"type\":\"heatmapgl\",\"colorscale\":[[0.0,\"#0d0887\"],[0.1111111111111111,\"#46039f\"],[0.2222222222222222,\"#7201a8\"],[0.3333333333333333,\"#9c179e\"],[0.4444444444444444,\"#bd3786\"],[0.5555555555555556,\"#d8576b\"],[0.6666666666666666,\"#ed7953\"],[0.7777777777777778,\"#fb9f3a\"],[0.8888888888888888,\"#fdca26\"],[1.0,\"#f0f921\"]]}],\"bar\":[{\"type\":\"bar\",\"error_y\":{\"color\":\"#2a3f5f\"},\"error_x\":{\"color\":\"#2a3f5f\"},\"marker\":{\"line\":{\"color\":\"#E5ECF6\",\"width\":0.5}}}],\"heatmap\":[{\"colorbar\":{\"ticks\":\"\",\"outlinewidth\":0},\"type\":\"heatmap\",\"colorscale\":[[0.0,\"#0d0887\"],[0.1111111111111111,\"#46039f\"],[0.2222222222222222,\"#7201a8\"],[0.3333333333333333,\"#9c179e\"],[0.4444444444444444,\"#bd3786\"],[0.5555555555555556,\"#d8576b\"],[0.6666666666666666,\"#ed7953\"],[0.7777777777777778,\"#fb9f3a\"],[0.8888888888888888,\"#fdca26\"],[1.0,\"#f0f921\"]]}],\"contourcarpet\":[{\"colorbar\":{\"ticks\":\"\",\"outlinewidth\":0},\"type\":\"contourcarpet\"}],\"table\":[{\"type\":\"table\",\"header\":{\"line\":{\"color\":\"white\"},\"fill\":{\"color\":\"#C8D4E3\"}},\"cells\":{\"line\":{\"color\":\"white\"},\"fill\":{\"color\":\"#EBF0F8\"}}}],\"scatter3d\":[{\"line\":{\"colorbar\":{\"ticks\":\"\",\"outlinewidth\":0}},\"type\":\"scatter3d\",\"marker\":{\"colorbar\":{\"ticks\":\"\",\"outlinewidth\":0}}}],\"scattergl\":[{\"type\":\"scattergl\",\"marker\":{\"colorbar\":{\"ticks\":\"\",\"outlinewidth\":0}}}],\"histogram2d\":[{\"colorbar\":{\"ticks\":\"\",\"outlinewidth\":0},\"type\":\"histogram2d\",\"colorscale\":[[0.0,\"#0d0887\"],[0.1111111111111111,\"#46039f\"],[0.2222222222222222,\"#7201a8\"],[0.3333333333333333,\"#9c179e\"],[0.4444444444444444,\"#bd3786\"],[0.5555555555555556,\"#d8576b\"],[0.6666666666666666,\"#ed7953\"],[0.7777777777777778,\"#fb9f3a\"],[0.8888888888888888,\"#fdca26\"],[1.0,\"#f0f921\"]]}],\"scatterternary\":[{\"type\":\"scatterternary\",\"marker\":{\"colorbar\":{\"ticks\":\"\",\"outlinewidth\":0}}}],\"barpolar\":[{\"type\":\"barpolar\",\"marker\":{\"line\":{\"color\":\"#E5ECF6\",\"width\":0.5}}}]},\"layout\":{\"xaxis\":{\"gridcolor\":\"white\",\"zerolinewidth\":2,\"title\":{\"standoff\":15},\"ticks\":\"\",\"zerolinecolor\":\"white\",\"automargin\":true,\"linecolor\":\"white\"},\"hovermode\":\"closest\",\"paper_bgcolor\":\"white\",\"geo\":{\"showlakes\":true,\"showland\":true,\"landcolor\":\"#E5ECF6\",\"bgcolor\":\"white\",\"subunitcolor\":\"white\",\"lakecolor\":\"white\"},\"colorscale\":{\"sequential\":[[0.0,\"#0d0887\"],[0.1111111111111111,\"#46039f\"],[0.2222222222222222,\"#7201a8\"],[0.3333333333333333,\"#9c179e\"],[0.4444444444444444,\"#bd3786\"],[0.5555555555555556,\"#d8576b\"],[0.6666666666666666,\"#ed7953\"],[0.7777777777777778,\"#fb9f3a\"],[0.8888888888888888,\"#fdca26\"],[1.0,\"#f0f921\"]],\"diverging\":[[0,\"#8e0152\"],[0.1,\"#c51b7d\"],[0.2,\"#de77ae\"],[0.3,\"#f1b6da\"],[0.4,\"#fde0ef\"],[0.5,\"#f7f7f7\"],[0.6,\"#e6f5d0\"],[0.7,\"#b8e186\"],[0.8,\"#7fbc41\"],[0.9,\"#4d9221\"],[1,\"#276419\"]],\"sequentialminus\":[[0.0,\"#0d0887\"],[0.1111111111111111,\"#46039f\"],[0.2222222222222222,\"#7201a8\"],[0.3333333333333333,\"#9c179e\"],[0.4444444444444444,\"#bd3786\"],[0.5555555555555556,\"#d8576b\"],[0.6666666666666666,\"#ed7953\"],[0.7777777777777778,\"#fb9f3a\"],[0.8888888888888888,\"#fdca26\"],[1.0,\"#f0f921\"]]},\"yaxis\":{\"gridcolor\":\"white\",\"zerolinewidth\":2,\"title\":{\"standoff\":15},\"ticks\":\"\",\"zerolinecolor\":\"white\",\"automargin\":true,\"linecolor\":\"white\"},\"shapedefaults\":{\"line\":{\"color\":\"#2a3f5f\"}},\"font\":{\"color\":\"#2a3f5f\"},\"annotationdefaults\":{\"arrowhead\":0,\"arrowwidth\":1,\"arrowcolor\":\"#2a3f5f\"},\"plot_bgcolor\":\"#E5ECF6\",\"title\":{\"x\":0.05},\"coloraxis\":{\"colorbar\":{\"ticks\":\"\",\"outlinewidth\":0}},\"hoverlabel\":{\"align\":\"left\"},\"mapbox\":{\"style\":\"light\"},\"polar\":{\"angularaxis\":{\"gridcolor\":\"white\",\"ticks\":\"\",\"linecolor\":\"white\"},\"bgcolor\":\"#E5ECF6\",\"radialaxis\":{\"gridcolor\":\"white\",\"ticks\":\"\",\"linecolor\":\"white\"}},\"autotypenumbers\":\"strict\",\"ternary\":{\"aaxis\":{\"gridcolor\":\"white\",\"ticks\":\"\",\"linecolor\":\"white\"},\"bgcolor\":\"#E5ECF6\",\"caxis\":{\"gridcolor\":\"white\",\"ticks\":\"\",\"linecolor\":\"white\"},\"baxis\":{\"gridcolor\":\"white\",\"ticks\":\"\",\"linecolor\":\"white\"}},\"scene\":{\"xaxis\":{\"gridcolor\":\"white\",\"gridwidth\":2,\"backgroundcolor\":\"#E5ECF6\",\"ticks\":\"\",\"showbackground\":true,\"zerolinecolor\":\"white\",\"linecolor\":\"white\"},\"zaxis\":{\"gridcolor\":\"white\",\"gridwidth\":2,\"backgroundcolor\":\"#E5ECF6\",\"ticks\":\"\",\"showbackground\":true,\"zerolinecolor\":\"white\",\"linecolor\":\"white\"},\"yaxis\":{\"gridcolor\":\"white\",\"gridwidth\":2,\"backgroundcolor\":\"#E5ECF6\",\"ticks\":\"\",\"showbackground\":true,\"zerolinecolor\":\"white\",\"linecolor\":\"white\"}},\"colorway\":[\"#636efa\",\"#EF553B\",\"#00cc96\",\"#ab63fa\",\"#FFA15A\",\"#19d3f3\",\"#FF6692\",\"#B6E880\",\"#FF97FF\",\"#FECB52\"]}},\"annotations\":[],\"margin\":{\"l\":50,\"b\":50,\"r\":50,\"t\":60},\"yaxis\":{\"domain\":[0.0,1.0],\"anchor\":\"x\"},\"yaxis2\":{\"domain\":[0.0,1.0],\"anchor\":\"x2\"}}]}}},\"children\":[{\"props\":{\"id\":\"plot-6f8ae6d6-e57b-421a-94dd-a49572672b89\"},\"nodeType\":\"DOM\",\"type\":\"node\",\"instanceArgs\":{\"namespace\":\"html\",\"tag\":\"div\"},\"children\":[]}]},\n",
       "        window,\n",
       "    );\n",
       "    })()\n",
       "    </script>\n",
       "</div>\n"
      ],
      "text/plain": [
       "data: [\n",
       "  \"histogram with fields name, nbinsx, type, x, xaxis, and yaxis\",\n",
       "  \"histogram with fields name, nbinsx, type, x, xaxis, and yaxis\"\n",
       "]\n",
       "\n",
       "layout: \"layout with fields annotations, margin, template, xaxis, xaxis2, yaxis, and yaxis2\"\n",
       "\n"
      ]
     },
     "execution_count": 253,
     "metadata": {},
     "output_type": "execute_result"
    }
   ],
   "source": [
    "p = make_subplots(rows=1, cols=2)\n",
    "add_trace!(p, PlotlyJS.histogram(x=Orthogonal_1000-1, nbinsx=100,name=\"Orthogonal\"), row=1, col=1)\n",
    "add_trace!(p, PlotlyJS.histogram(x=Naive_1000-1, nbinsx=100,name=\"Naive\"), row=1, col=2)\n",
    "p"
   ]
  },
  {
   "cell_type": "markdown",
   "metadata": {},
   "source": [
    "* Explain what you observe in the distribution of the histograms. Where the orthogonal and Naive should be centered?\n",
    "\n",
    "In the histograms, it is observed that as the number of simulations increases the distribution of the histograms approaches a normal distribution. Both orthogonal and Naive should be centered on the real value of the estimation. However, the naive estimate is biased, thus the naive distribution couldn't be centered on the real value.\n",
    "* Why does this happen? Give an econometric explanation of this\n",
    "\n",
    "This happens because as the sample size grows, the distribution centers around the mean. Likewise, by the central limit theorem if a random sample is large enough, the distribution of the mean follows a normal distribution.\n",
    "\n"
   ]
  },
  {
   "cell_type": "code",
   "execution_count": null,
   "metadata": {},
   "outputs": [],
   "source": []
  },
  {
   "cell_type": "markdown",
   "metadata": {},
   "source": [
    "# <span style=\"color:blue\">Application: Heterogeneous Effect of Gender on Wage Using Double Lasso</span> "
   ]
  },
  {
   "cell_type": "markdown",
   "metadata": {},
   "source": [
    "We use US census data from the year 2012 to analyse the effect of gender and interaction effects of other variables with gender on wage jointly. The dependent variable is the logarithm of the wage, the target variable is female (in combination with other variables). All other variables denote some other socio-economic characteristics, e.g. marital status, education, and experience. For a detailed description of the variables we refer to the help page.\n",
    "\n",
    "This analysis allows a closer look how discrimination according to gender is related to other socio-economic variables."
   ]
  },
  {
   "cell_type": "code",
   "execution_count": null,
   "metadata": {
    "scrolled": true
   },
   "outputs": [],
   "source": [
    "using Pkg, RData, LinearAlgebra, GLM, DataFrames, Statistics, Random, Distributions, \n",
    "DataStructures, NamedArrays, PrettyTables, StatsModels, Combinatorics\n",
    "\n",
    "import CodecBzip2"
   ]
  },
  {
   "cell_type": "code",
   "execution_count": null,
   "metadata": {},
   "outputs": [],
   "source": [
    "# Importing .Rdata file\n",

   ]
  },
  {
   "cell_type": "code",
   "execution_count": null,
   "metadata": {},
   "outputs": [],
   "source": [
    "keys(cps2012)   # get information from key"
   ]
  },
  {
   "cell_type": "code",
   "execution_count": null,
   "metadata": {},
   "outputs": [],
   "source": [
    "cps2012 = cps2012[\"data\"]\n",
    "\n",
    "names(cps2012)"
   ]
  },
  {
   "cell_type": "code",
   "execution_count": null,
   "metadata": {},
   "outputs": [],
   "source": [
    "# couples variables combinations \n",
    "    combinations_upto(x, n) = Iterators.flatten(combinations(x, i) for i in 1:n)\n",
    "\n",
    "    # combinations without same couple\n",
    "    expand_exp(args, deg::ConstantTerm) =\n",
    "        tuple(((&)(terms...) for terms in combinations_upto(args, deg.n))...)\n",
    "\n",
    "    StatsModels.apply_schema(t::FunctionTerm{typeof(^)}, sch::StatsModels.Schema, ctx::Type) =\n",
    "        apply_schema.(expand_exp(t.args_parsed...), Ref(sch), ctx)"
   ]
  },
  {
   "cell_type": "code",
   "execution_count": null,
   "metadata": {},
   "outputs": [],
   "source": [
    "# Basic model \n",
    "\n",
    "\n",
    "reg = @formula(lnw ~ -1 + female + female&(widowed + divorced + separated + nevermarried +\n",
    "hsd08 + hsd911 + hsg + cg + ad + mw + so + we + exp1 + exp2 + exp3) + (widowed +\n",
    "divorced + separated + nevermarried + hsd08 + hsd911 + hsg + cg + ad + mw + so +\n",
    "we + exp1 + exp2 + exp3)^2 )\n",
    "\n",
    "\n",
    "formula_basic = apply_schema(reg, schema(reg, cps2012))"
   ]
  },
  {
   "cell_type": "code",
   "execution_count": null,
   "metadata": {},
   "outputs": [],
   "source": [
    "formula_basic"
   ]
  },
  {
   "cell_type": "code",
   "execution_count": null,
   "metadata": {},
   "outputs": [],
   "source": [
    "coefnames(formula_basic)"
   ]
  },
  {
   "cell_type": "code",
   "execution_count": null,
   "metadata": {},
   "outputs": [],
   "source": [
    "Y = select(cps2012,:lnw)  # uptcome variable\n",
    "control = coefnames(formula_basic)[2]  # regresors control \n",
    "names_col = Symbol.(control)  # string to Symbol to create varaible's name"
   ]
  },
  {
   "cell_type": "code",
   "execution_count": null,
   "metadata": {},
   "outputs": [],
   "source": [
    "X = StatsModels.modelmatrix(formula_basic,cps2012)"
   ]
  },
  {
   "cell_type": "code",
   "execution_count": null,
   "metadata": {},
   "outputs": [],
   "source": [
    "X = DataFrame(X, names_col)"
   ]
  },
  {
   "cell_type": "code",
   "execution_count": null,
   "metadata": {},
   "outputs": [],
   "source": [
    "# Function to get index of constant columns   \n",
    "\n",
    "cons_column = []\n",
    "\n",
    "\n",
    "for i in 1:size(X,2)\n",
    "    if var(X[!,i]) == 0\n",
    "        append!(cons_column  , i)      \n",
    "    end       \n",
    "end"
   ]
  },
  {
   "cell_type": "code",
   "execution_count": null,
   "metadata": {},
   "outputs": [],
   "source": [
    "# Drop constant columns \n",
    "\n",
    "names(X)[cons_column]\n",
    "select!(X, Not(names(X)[cons_column]))"
   ]
  },
  {
   "cell_type": "code",
   "execution_count": null,
   "metadata": {},
   "outputs": [],
   "source": [
    "# demean function\n",
    "function desv_mean(a)\n",
    "    a = Matrix(a)   # dataframe to matrix \n",
    "    A = mean(a, dims = 1)\n",
    "    M = zeros(Float64, size(X,1), size(X,2))\n",
    "    \n",
    "    for i in 1:size(a,2)\n",
    "          M[:,i] = a[:,i] .- A[i]\n",
    "    end\n",
    "    \n",
    "    return M\n",
    "end    \n",
    "\n",
    "\n",
    "# Matrix Model & demean\n",
    "\n",
    "X = DataFrame(desv_mean(X), names(X)) # Dataframe and names"
   ]
  },
  {
   "cell_type": "code",
   "execution_count": null,
   "metadata": {},
   "outputs": [],
   "source": [
    "# index to get columns that contains female\n",
    "\n",
    "index = []\n",
    "\n",
    "for i in 1:size(X,2)  \n",
    "        if contains( names(X)[i] , \"female\")\n",
    "            append!(index, i)\n",
    "        end  \n",
    "end"
   ]
  },
  {
   "cell_type": "code",
   "execution_count": null,
   "metadata": {},
   "outputs": [],
   "source": [
    "# Control variables \n",
    "W = select(X, Not(names(X)[index]));"
   ]
  },
  {
   "cell_type": "markdown",
   "metadata": {},
   "source": [
    "## HDM package"
   ]
  },
  {
   "cell_type": "code",
   "execution_count": null,
   "metadata": {},
   "outputs": [],
   "source": [
    "table = NamedArray(zeros(16, 2))\n",
    "\n",
    "j = 0\n",
    "\n",
    "D_resid = zeros(size(X)[1],length(index))\n",
    "D_resid = DataFrame(D_resid,:auto)\n",
    "Y_resid = zeros(size(X)[1],length(index))\n",
    "Y_resid = DataFrame(Y_resid,:auto)\n",
    "\n",
    "for i in 1:length(index)\n",
    "\n",
    "    j = j + 1\n",
    "\n",
    "    #first step\n",
    "    D = select(X, names(X)[index[i]])\n",
    "\n",
    "    D_reg_0  = rlasso_arg( W, D, nothing, true, true, true, false, false, \n",
    "                        nothing, 1.1, nothing, 5000, 15, 10^(-5), -Inf, true, Inf, true )\n",
    "\n",
    "    D_resid[!,j] = rlasso(D_reg_0)[\"residuals\"]\n",
    "\n",
    "    #second step\n",
    "    Y_reg_0  = rlasso_arg( W, Y, nothing, true, true, true, false, false, \n",
    "                        nothing, 1.1, nothing, 5000, 15, 10^(-5), -Inf, true, Inf, true )\n",
    "\n",
    "    Y_resid[!,j] = rlasso(Y_reg_0)[\"residuals\"]\n",
    "\n",
    "    # third step\n",
    "    eYeD = DataFrame(hcat(Y_resid[!,j],D_resid[!,j]),:auto)\n",
    "    rename!(eYeD,:x1 => :resY)\n",
    "    rename!(eYeD,:x2 => :resD)\n",
    "    \n",
    "    res_reg= lm( @formula(resY ~ resD), eYeD)\n",
    "    \n",
    "    table[j,1] = GLM.coeftable(res_reg).cols[5][1]\n",
    "    table[j,2] = GLM.coeftable(res_reg).cols[6][1]\n",
    "\n",
    "    \n",
    "end"
   ]
  },
  {
   "cell_type": "markdown",
   "metadata": {},
   "source": [
    "# <span style=\"color:blue\">Double Lasso - Testing the Convergence Hypothesis </span> "
   ]
  },
  {
   "cell_type": "markdown",
   "metadata": {},
   "source": [
    "### 1.Explain what is the Double Lasso Approach in a markdown cell. Use equations for a better explanation."
   ]
  },
  {
   "cell_type": "markdown",
   "metadata": {},
   "source": [
    "The Double Lasso approach is an estimation procedure to measure the effect of a variable of interest with respect to a dependent variable, in a context where we have a large number of covariates (probably higher than the sample size). It consists in running two lasso regressions in a partialling-out procedure, while selecting the most appropriate covariates in each step; specifically, the covariates that best predict the dependent variable and/or the independent variable. Lets consider the following model:\n",
    "\n",
    "$$Y = \\beta_1 D + \\beta_2^{'}W + \\epsilon $$\n",
    "\n",
    "The Double Lasso procedure starts in running a Lasso Regression of D on W. That is:\n",
    "\n",
    "$$D = \\gamma_{DW}^{'}W + \\epsilon_1 $$\n",
    "\n",
    "And the estimator is given by:\n",
    "\n",
    "$$\\widehat{\\gamma_{DW}} = argmin \\sum(D - \\gamma W_i)^2 + \\lambda_1 \\sum \\hat{\\psi}|\\gamma_j| $$\n",
    "\n",
    "Then, we run a Lasso Regression of Y on W.\n",
    "\n",
    "$$Y = \\gamma_{YW}^{'}W + \\epsilon_2 $$\n",
    "\n",
    "And the estimator is given by:\n",
    "\n",
    "$$\\widehat{\\gamma_{YW}} = argmin \\sum(Y - \\gamma W_i)^2 + \\lambda_2 \\sum \\hat{\\psi}|\\gamma_j| $$\n",
    "\n",
    "Where $\\lambda_1$,$\\lambda_2$ are hyperparameters chosen by some estimation techniques (such as Cross Validation).\n",
    "\n",
    "Finally, to estimate the effect of D on Y we only need to make an OLS regression between $\\tilde{Y}$ $\\tilde{D}$ without intercept:\n",
    "\n",
    "$$\\tilde{Y} =  \\beta_1\\tilde{D} + \\xi $$"
   ]
  },
  {
   "cell_type": "markdown",
   "metadata": {},
   "source": [
    "## Introduction"
   ]
  },
  {
   "cell_type": "markdown",
   "metadata": {},
   "source": [
    "We provide an additional empirical example of partialling-out with Lasso to estimate the regression coefficient $\\beta$ in the high-dimensional linear regression model:\n",
    "\n",
    "$$ Y = \\beta_1 D + \\beta_2^{'}W + \\epsilon $$\n",
    "\n",
    "Specifically, we are interested in how the rates at which economies of different countries grow ($Y$) are related to the initial wealth levels in each country ($D$) controlling for country's institutional, educational, and other similar characteristics ($W$).\n",
    "\n",
    "The relationship is captured by $\\beta_1$, the speed of convergence/divergence, which measures the speed at which poor countries catch up ($\\beta_1$<0) or fall behind ($\\beta_2$>0) rich countries, after controlling for $W$ . Our inference question here is: do poor countries grow faster than rich countries, controlling for educational and other characteristics? In other words, is the speed of convergence negative: $\\beta_1$<0? This is the Convergence Hypothesis predicted by the Solow Growth Model. This is a structural economic model. Under some strong assumptions, that we won't state here, the predictive exercise we are doing here can be given causal interpretation.\n",
    "\n",
    "The outcome $Y$ is the realized annual growth rate of a country's wealth (Gross Domestic Product per capita). The target regressor ($D$) is the initial level of the country's wealth. The target parameter $\\beta_1$ is the speed of convergence, which measures the speed at which poor countries catch up with rich countries. The controls ($W$) include measures of education levels, quality of institutions, trade openness, and political stability in the country."
   ]
  },
  {
   "cell_type": "markdown",
   "metadata": {},
   "source": [
    "## Data analysis"
   ]
  },
  {
   "cell_type": "markdown",
   "metadata": {},
   "source": [
    "We consider the data set GrowthData which is included in the package hdm. First, let us load the data set to get familiar with the data."
   ]
  },
  {
   "cell_type": "code",
   "execution_count": null,
   "metadata": {},
   "outputs": [],
   "source": [
    "# import Pkg\n",
    "# Pkg.add(\"RData\")\n",
    "# Pkg.add(\"CodecBzip2\")\n",
    "# Pkg.add(\"DataStructures\")\n",
    "# Pkg.add(\"NamedArrays\")\n",
    "# Pkg.add(\"PrettyTables\")\n",
    "# Pkg.add(\"Lasso\")"
   ]
  },
  {
   "cell_type": "code",
   "execution_count": 17,
   "metadata": {},
   "outputs": [],
   "source": [
    "using RData, LinearAlgebra, GLM, DataFrames, Statistics, Random, Distributions, DataStructures, NamedArrays, PrettyTables\n",
    "import CodecBzip2"
   ]
  },
  {
   "cell_type": "code",
   "execution_count": 18,
   "metadata": {},
   "outputs": [],
   "source": [
    "include(\"GitHub/ECO224/Labs/Julia_Notebooks/hdmjl/hdmjl.jl\")"
   ]
  },
  {
   "cell_type": "code",
   "execution_count": 19,
   "metadata": {},
   "outputs": [
    {
     "data": {
      "text/plain": [
       "Dict{String, Any} with 1 entry:\n",
       "  \"GrowthData\" => \u001b[1m90×63 DataFrame\u001b[0m…"
      ]
     },
     "execution_count": 19,
     "metadata": {},
     "output_type": "execute_result"
    }
   ],
   "source": [
    "# Importing .Rdata file\n",
    "growth_read = load(\"GitHub/ECO224/data/GrowthData.RData\")"
   ]
  },
  {
   "cell_type": "code",
   "execution_count": 20,
   "metadata": {},
   "outputs": [
    {
     "data": {
      "text/plain": [
       "true"
      ]
     },
     "execution_count": 20,
     "metadata": {},
     "output_type": "execute_result"
    }
   ],
   "source": [
    "# Since growth_read is a dictionary, we check if there is a key called \"GrowthData\", the one we need for our analyze\n",
    "haskey(growth_read, \"GrowthData\")"
   ]
  },
  {
   "cell_type": "code",
   "execution_count": 21,
   "metadata": {},
   "outputs": [
    {
     "data": {
      "text/plain": [
       "63-element Vector{String}:\n",
       " \"Outcome\"\n",
       " \"intercept\"\n",
       " \"gdpsh465\"\n",
       " \"bmp1l\"\n",
       " \"freeop\"\n",
       " \"freetar\"\n",
       " \"h65\"\n",
       " \"hm65\"\n",
       " \"hf65\"\n",
       " \"p65\"\n",
       " \"pm65\"\n",
       " \"pf65\"\n",
       " \"s65\"\n",
       " ⋮\n",
       " \"secc65\"\n",
       " \"seccm65\"\n",
       " \"seccf65\"\n",
       " \"syr65\"\n",
       " \"syrm65\"\n",
       " \"syrf65\"\n",
       " \"teapri65\"\n",
       " \"teasec65\"\n",
       " \"ex1\"\n",
       " \"im1\"\n",
       " \"xr65\"\n",
       " \"tot1\""
      ]
     },
     "execution_count": 21,
     "metadata": {},
     "output_type": "execute_result"
    }
   ],
   "source": [
    "# Now we save that dataframe with a new name\n",
    "growth = growth_read[\"GrowthData\"]\n",
    "names(growth)"
   ]
  },
  {
   "cell_type": "markdown",
   "metadata": {},
   "source": [
    "We determine the type and the dimension of our data set."
   ]
  },
  {
   "cell_type": "code",
   "execution_count": 22,
   "metadata": {},
   "outputs": [
    {
     "data": {
      "text/plain": [
       "(DataFrame, (90, 63))"
      ]
     },
     "execution_count": 22,
     "metadata": {},
     "output_type": "execute_result"
    }
   ],
   "source": [
    "typeof(growth), size(growth)"
   ]
  },
  {
   "cell_type": "markdown",
   "metadata": {},
   "source": [
    "The sample contains $90$ countries and $63$ controls. Thus $p \\approx 60$, $n=90$ and $p/n$ is not small. We expect the least squares method to provide a poor estimate of $\\beta_1$. We expect the method based on partialling-out with Lasso to provide a high quality estimate of $\\beta_1$.\n",
    "\n",
    "To check this hypothesis, we analyze the relation between the output variable $Y$ and the other country's characteristics by running a linear regression in the first step."
   ]
  },
  {
   "cell_type": "code",
   "execution_count": 23,
   "metadata": {},
   "outputs": [],
   "source": [
    "y = growth[!, \"Outcome\"]\n",
    "y = DataFrame([y], [:y]);"
   ]
  },
  {
   "cell_type": "code",
   "execution_count": 24,
   "metadata": {},
   "outputs": [],
   "source": [
    "X = select(growth, Not([\"Outcome\"]));"
   ]
  },
  {
   "cell_type": "code",
   "execution_count": 25,
   "metadata": {},
   "outputs": [],
   "source": [
    "data = [y X];"
   ]
  },
  {
   "cell_type": "markdown",
   "metadata": {},
   "source": [
    "## Testing the convergence hypothesis with OLS"
   ]
  },
  {
   "cell_type": "code",
   "execution_count": 26,
   "metadata": {},
   "outputs": [
    {
     "data": {
      "text/plain": [
       "StatsModels.TableRegressionModel{LinearModel{GLM.LmResp{Vector{Float64}}, GLM.DensePredChol{Float64, Cholesky{Float64, Matrix{Float64}}}}, Matrix{Float64}}\n",
       "\n",
       "y ~ 1 + gdpsh465 + bmp1l + freeop + freetar + h65 + hm65 + hf65 + p65 + pm65 + pf65 + s65 + sm65 + sf65 + fert65 + mort65 + lifee065 + gpop1 + fert1 + mort1 + invsh41 + geetot1 + geerec1 + gde1 + govwb1 + govsh41 + gvxdxe41 + high65 + highm65 + highf65 + highc65 + highcm65 + highcf65 + human65 + humanm65 + humanf65 + hyr65 + hyrm65 + hyrf65 + no65 + nom65 + nof65 + pinstab1 + pop65 + worker65 + pop1565 + pop6565 + sec65 + secm65 + secf65 + secc65 + seccm65 + seccf65 + syr65 + syrm65 + syrf65 + teapri65 + teasec65 + ex1 + im1 + xr65 + tot1\n",
       "\n",
       "Coefficients:\n",
       "─────────────────────────────────────────────────────────────────────────────────────\n",
       "                    Coef.    Std. Error      t  Pr(>|t|)      Lower 95%     Upper 95%\n",
       "─────────────────────────────────────────────────────────────────────────────────────\n",
       "(Intercept)   0.247161      0.784502      0.32    0.7551   -1.35982        1.85414\n",
       "gdpsh465     -0.00937799    0.0298877    -0.31    0.7560   -0.0706002      0.0518442\n",
       "bmp1l        -0.0688627     0.0325307    -2.12    0.0433   -0.135499      -0.00222666\n",
       "freeop        0.080069      0.207864      0.39    0.7030   -0.345721       0.505859\n",
       "freetar      -0.488963      0.418163     -1.17    0.2521   -1.34553        0.367605\n",
       "h65          -2.3621        0.857292     -2.76    0.0102   -4.11818       -0.606016\n",
       "hm65          0.707143      0.523145      1.35    0.1873   -0.364471       1.77876\n",
       "hf65          1.69345       0.503189      3.37    0.0022    0.662713       2.72418\n",
       "p65           0.265527      0.164294      1.62    0.1173   -0.0710144      0.602068\n",
       "pm65          0.136953      0.151217      0.91    0.3728   -0.172802       0.446708\n",
       "pf65         -0.331267      0.165123     -2.01    0.0546   -0.669506       0.00697217\n",
       "s65           0.0390793     0.185522      0.21    0.8347   -0.340946       0.419105\n",
       "sm65         -0.0306685     0.116794     -0.26    0.7948   -0.26991        0.208573\n",
       "sf65         -0.179917      0.118099     -1.52    0.1389   -0.421832       0.0619974\n",
       "fert65        0.00688083    0.0270514     0.25    0.8011   -0.0485315      0.0622932\n",
       "mort65       -0.233455      0.817422     -0.29    0.7773   -1.90787        1.44096\n",
       "lifee065     -0.0149145     0.193336     -0.08    0.9391   -0.410944       0.381116\n",
       "gpop1         0.970185      1.81221       0.54    0.5966   -2.74196        4.68233\n",
       "fert1         0.00883819    0.0350415     0.25    0.8027   -0.062941       0.0806174\n",
       "mort1         0.0665629     0.68481       0.10    0.9233   -1.33621        1.46933\n",
       "invsh41       0.0744611     0.108447      0.69    0.4980   -0.147682       0.296605\n",
       "geetot1      -0.715105      1.68014      -0.43    0.6736   -4.15671        2.7265\n",
       "geerec1       0.630005      2.44738       0.26    0.7987   -4.38322        5.64323\n",
       "gde1         -0.443575      1.67121      -0.27    0.7926   -3.86689        2.97974\n",
       "govwb1        0.337452      0.437987      0.77    0.4475   -0.559723       1.23463\n",
       "govsh41       0.463175      1.92544       0.24    0.8117   -3.4809         4.40725\n",
       "gvxdxe41     -0.793382      2.0594       -0.39    0.7030   -5.01187        3.4251\n",
       "high65       -0.752484      0.905722     -0.83    0.4131   -2.60777        1.1028\n",
       "highm65      -0.390262      0.681249     -0.57    0.5713   -1.78574        1.00521\n",
       "highf65      -0.417749      0.56149      -0.74    0.4631   -1.56791        0.732412\n",
       "highc65      -2.21579       1.48081      -1.50    0.1458   -5.24909        0.817506\n",
       "highcm65      0.279718      0.658239      0.42    0.6741   -1.06862        1.62806\n",
       "highcf65      0.392077      0.766025      0.51    0.6128   -1.17705        1.96121\n",
       "human65       2.33727       3.30727       0.71    0.4856   -4.43736        9.1119\n",
       "humanm65     -1.20925       1.61852      -0.75    0.4612   -4.52463        2.10613\n",
       "humanf65     -1.10395       1.68469      -0.66    0.5176   -4.55489        2.34699\n",
       "hyr65        54.9139       23.8873        2.30    0.0292    5.98298      103.845\n",
       "hyrm65       12.935        23.1714        0.56    0.5811  -34.5295        60.3996\n",
       "hyrf65        9.09258      17.6696        0.51    0.6109  -27.1019        45.2871\n",
       "no65          0.0372099     0.131973      0.28    0.7801   -0.233125       0.307545\n",
       "nom65        -0.0211977     0.0649598    -0.33    0.7466   -0.154262       0.111866\n",
       "nof65        -0.0168578     0.0670026    -0.25    0.8032   -0.154106       0.120391\n",
       "pinstab1     -0.0499711     0.0309208    -1.62    0.1173   -0.11331        0.0133673\n",
       "pop65         1.0318e-7     1.31795e-7    0.78    0.4403   -1.6679e-7      3.7315e-7\n",
       "worker65      0.034079      0.156191      0.22    0.8289   -0.285864       0.354022\n",
       "pop1565      -0.465535      0.471334     -0.99    0.3318   -1.43102        0.499949\n",
       "pop6565      -1.35745       0.634942     -2.14    0.0414   -2.65807       -0.0568295\n",
       "sec65        -0.0108928     0.307662     -0.04    0.9720   -0.641109       0.619324\n",
       "secm65        0.00334366    0.151192      0.02    0.9825   -0.30636        0.313047\n",
       "secf65       -0.00230433    0.157972     -0.01    0.9885   -0.325894       0.321286\n",
       "secc65       -0.491528      0.729041     -0.67    0.5057   -1.9849         1.00184\n",
       "seccm65       0.259602      0.355653      0.73    0.4715   -0.468921       0.988124\n",
       "seccf65       0.220652      0.373333      0.59    0.5592   -0.544086       0.985391\n",
       "syr65        -0.755581      7.97676      -0.09    0.9252  -17.0952        15.5841\n",
       "syrm65        0.310901      3.89673       0.08    0.9370   -7.67119        8.29299\n",
       "syrf65        0.759281      4.11063       0.18    0.8548   -7.66097        9.17953\n",
       "teapri65      3.95452e-5    0.000770041   0.05    0.9594   -0.00153781     0.0016169\n",
       "teasec65      0.000249667   0.00117123    0.21    0.8327   -0.00214949     0.00264882\n",
       "ex1          -0.580408      0.241847     -2.40    0.0233   -1.07581       -0.0850066\n",
       "im1           0.591445      0.250298      2.36    0.0253    0.0787333      1.10416\n",
       "xr65         -0.000103777   5.41676e-5   -1.92    0.0656   -0.000214734    7.18049e-6\n",
       "tot1         -0.127901      0.112595     -1.14    0.2656   -0.358542       0.102739\n",
       "─────────────────────────────────────────────────────────────────────────────────────"
      ]
     },
     "execution_count": 26,
     "metadata": {},
     "output_type": "execute_result"
    }
   ],
   "source": [
    "# OLS regression\n",
    "reg_ols  = lm(term(:y) ~ sum(term.(names(data[!, Not([\"y\", \"intercept\"])]))), data, dropcollinear=false)"
   ]
  },
  {
   "cell_type": "code",
   "execution_count": 27,
   "metadata": {},
   "outputs": [
    {
     "data": {
      "text/plain": [
       "0.051844243495141024"
      ]
     },
     "execution_count": 27,
     "metadata": {},
     "output_type": "execute_result"
    }
   ],
   "source": [
    "# output: estimated regression coefficient corresponding to the target regressor\n",
    "est_ols = coef(reg_ols)[2]\n",
    "\n",
    "# output: std. error\n",
    "std_ols = stderror(reg_ols)[2]\n",
    "\n",
    "# output: 95% confidence interval\n",
    "lower_ci = coeftable(reg_ols).cols[5][2]\n",
    "upper_ci = coeftable(reg_ols).cols[6][2]"
   ]
  },
  {
   "cell_type": "code",
   "execution_count": 28,
   "metadata": {},
   "outputs": [
    {
     "data": {
      "text/plain": [
       "-0.009377988608969047"
      ]
     },
     "execution_count": 28,
     "metadata": {},
     "output_type": "execute_result"
    }
   ],
   "source": [
    "est_ols"
   ]
  },
  {
   "cell_type": "markdown",
   "metadata": {},
   "source": [
    "## Testing the convergence hypothesis with Double LASSO using cross Validation"
   ]
  },
  {
   "cell_type": "code",
   "execution_count": 29,
   "metadata": {
    "scrolled": true
   },
   "outputs": [
    {
     "name": "stderr",
     "output_type": "stream",
     "text": [
      "WARNING: using Lasso.coeftable in module Main conflicts with an existing identifier.\n",
      "WARNING: using GLMNet.coef in module Main conflicts with an existing identifier.\n",
      "WARNING: using GLMNet.predict in module Main conflicts with an existing identifier.\n"
     ]
    }
   ],
   "source": [
    "using Lasso, GLM,GLMNet"
   ]
  },
  {
   "cell_type": "code",
   "execution_count": 64,
   "metadata": {},
   "outputs": [
    {
     "data": {
      "text/plain": [
       "Least Squares GLMNet Cross Validation\n",
       "10 models for 61 predictors in 10 folds\n",
       "Best λ 0.002 (mean loss 0.002, std 0.000)"
      ]
     },
     "execution_count": 64,
     "metadata": {},
     "output_type": "execute_result"
    }
   ],
   "source": [
    "cv = glmnetcv(Matrix(data[!, Not([\"y\", \"intercept\"])]),data[:,1],nlambda=10)"
   ]
  },
  {
   "cell_type": "code",
   "execution_count": 65,
   "metadata": {},
   "outputs": [
    {
     "data": {
      "text/plain": [
       "10-element Vector{Float64}:\n",
       " 0.018719675287324024\n",
       " 0.006727502482957092\n",
       " 0.0024177390346530755\n",
       " 0.0008688903578250032\n",
       " 0.00031226300402995884\n",
       " 0.00011222150505835455\n",
       " 4.033031782514347e-5\n",
       " 1.4493964726558394e-5\n",
       " 5.208860847700785e-6\n",
       " 1.8719675287324037e-6"
      ]
     },
     "execution_count": 65,
     "metadata": {},
     "output_type": "execute_result"
    }
   ],
   "source": [
    "cv.path.lambda"
   ]
  },
  {
   "cell_type": "code",
   "execution_count": 66,
   "metadata": {},
   "outputs": [
    {
     "data": {
      "text/plain": [
       "0.017144955413263913"
      ]
     },
     "execution_count": 66,
     "metadata": {},
     "output_type": "execute_result"
    }
   ],
   "source": [
    "lasso_model = fit(LassoModel, term(:y) ~  sum(term.(names(data[!, Not([\"y\", \"intercept\",\"gdpsh465\"])]))), data;λ=cv.path.lambda)\n",
    "r_Y = residuals(lasso_model)\n",
    "r_Y = DataFrame([r_Y], [:r_Y])\n",
    "\n",
    "# Part. out d\n",
    "\n",
    "lasso_model = fit(LassoModel, term(:gdpsh465) ~  sum(term.(names(data[!, Not([\"y\", \"intercept\",\"gdpsh465\"])]))), data;λ=cv.path.lambda)\n",
    "r_D = residuals(lasso_model)\n",
    "r_D = DataFrame([r_D], [:r_D])\n",
    "\n",
    "# ols \n",
    "data_aux = [r_Y r_D]\n",
    "fm_1 = @formula(r_Y ~ r_D+0)\n",
    "partial_lasso_fit = lm(fm_1, data_aux)\n",
    "betacv = coef(partial_lasso_fit)[1]\n",
    "stdcv= stderror(partial_lasso_fit)[1]"
   ]
  },
  {
   "cell_type": "markdown",
   "metadata": {},
   "source": [
    "## Double Lasso using theoretical Lambda (hdmjl.jl)"
   ]
  },
  {
   "cell_type": "code",
   "execution_count": 67,
   "metadata": {},
   "outputs": [],
   "source": [
    "include(\"GitHub/ECO224/Labs/Julia_Notebooks/hdmjl/hdmjl.jl\")"
   ]
  },
  {
   "cell_type": "code",
   "execution_count": 68,
   "metadata": {
    "scrolled": true
   },
   "outputs": [
    {
     "data": {
      "text/plain": [
       "0.013857843099282952"
      ]
     },
     "execution_count": 68,
     "metadata": {},
     "output_type": "execute_result"
    }
   ],
   "source": [
    "D_reg_0 = rlasso_arg( data[!,4:end], data[!,3:3], nothing, true, true, true, false, false, \n",
    "                    nothing, 1.1, nothing, 5000, 15, 10^(-5), -Inf, true, Inf, true )\n",
    "D_resid = rlasso(D_reg_0)[\"residuals\"]\n",
    "\n",
    "Y_reg_0  = rlasso_arg( data[!,4:end], data[!,1:1], nothing, true, true, true, false, false, \n",
    "                    nothing, 1.1, nothing, 5000, 15, 10^(-5), -Inf, true, Inf, true )\n",
    "Y_resid = rlasso(Y_reg_0)[\"residuals\"]\n",
    "\n",
    "D_resid = reshape(D_resid, length(D_resid), 1)\n",
    "Lasso_ira = lm(D_resid, Y_resid)\n",
    "coefhdmjl = coef(Lasso_ira)[1]\n",
    "stdhdmjl = stderror(Lasso_ira)[1]"
   ]
  },
  {
   "cell_type": "code",
   "execution_count": 69,
   "metadata": {},
   "outputs": [
    {
     "data": {
      "text/plain": [
       "3-element Vector{String}:\n",
       " \"OLS\"\n",
       " \"Cross Validation\"\n",
       " \"HDMJL\""
      ]
     },
     "execution_count": 69,
     "metadata": {},
     "output_type": "execute_result"
    }
   ],
   "source": [
    "coeff = [est_ols,betacv,coefhdmjl]\n",
    "std = [std_ols,stdcv,stdhdmjl]\n",
    "labels = [\"OLS\",\"Cross Validation\",\"HDMJL\"]"
   ]
  },
  {
   "cell_type": "code",
   "execution_count": 47,
   "metadata": {},
   "outputs": [],
   "source": [
    "using Plots"
   ]
  },
  {
   "cell_type": "code",
   "execution_count": 70,
   "metadata": {
    "scrolled": false
   },
   "outputs": [
    {
     "data": {
      "image/svg+xml": [
       "<?xml version=\"1.0\" encoding=\"utf-8\"?>\n",
       "<svg xmlns=\"http://www.w3.org/2000/svg\" xmlns:xlink=\"http://www.w3.org/1999/xlink\" width=\"600\" height=\"400\" viewBox=\"0 0 2400 1600\">\n",
       "<defs>\n",
       "  <clipPath id=\"clip800\">\n",
       "    <rect x=\"0\" y=\"0\" width=\"2400\" height=\"1600\"/>\n",
       "  </clipPath>\n",
       "</defs>\n",
       "<path clip-path=\"url(#clip800)\" d=\"\n",
       "M0 1600 L2400 1600 L2400 0 L0 0  Z\n",
       "  \" fill=\"#ffffff\" fill-rule=\"evenodd\" fill-opacity=\"1\"/>\n",
       "<defs>\n",
       "  <clipPath id=\"clip801\">\n",
       "    <rect x=\"480\" y=\"0\" width=\"1681\" height=\"1600\"/>\n",
       "  </clipPath>\n",
       "</defs>\n",
       "<path clip-path=\"url(#clip800)\" d=\"\n",
       "M224.584 1486.45 L2352.76 1486.45 L2352.76 123.472 L224.584 123.472  Z\n",
       "  \" fill=\"#ffffff\" fill-rule=\"evenodd\" fill-opacity=\"1\"/>\n",
       "<defs>\n",
       "  <clipPath id=\"clip802\">\n",
       "    <rect x=\"224\" y=\"123\" width=\"2129\" height=\"1364\"/>\n",
       "  </clipPath>\n",
       "</defs>\n",
       "<polyline clip-path=\"url(#clip802)\" style=\"stroke:#000000; stroke-linecap:butt; stroke-linejoin:round; stroke-width:2; stroke-opacity:0.1; fill:none\" points=\"\n",
       "  284.815,1486.45 284.815,123.472 \n",
       "  \"/>\n",
       "<polyline clip-path=\"url(#clip802)\" style=\"stroke:#000000; stroke-linecap:butt; stroke-linejoin:round; stroke-width:2; stroke-opacity:0.1; fill:none\" points=\"\n",
       "  1288.67,1486.45 1288.67,123.472 \n",
       "  \"/>\n",
       "<polyline clip-path=\"url(#clip802)\" style=\"stroke:#000000; stroke-linecap:butt; stroke-linejoin:round; stroke-width:2; stroke-opacity:0.1; fill:none\" points=\"\n",
       "  2292.52,1486.45 2292.52,123.472 \n",
       "  \"/>\n",
       "<polyline clip-path=\"url(#clip800)\" style=\"stroke:#000000; stroke-linecap:butt; stroke-linejoin:round; stroke-width:4; stroke-opacity:1; fill:none\" points=\"\n",
       "  224.584,1486.45 2352.76,1486.45 \n",
       "  \"/>\n",
       "<polyline clip-path=\"url(#clip800)\" style=\"stroke:#000000; stroke-linecap:butt; stroke-linejoin:round; stroke-width:4; stroke-opacity:1; fill:none\" points=\"\n",
       "  284.815,1486.45 284.815,1467.55 \n",
       "  \"/>\n",
       "<polyline clip-path=\"url(#clip800)\" style=\"stroke:#000000; stroke-linecap:butt; stroke-linejoin:round; stroke-width:4; stroke-opacity:1; fill:none\" points=\"\n",
       "  1288.67,1486.45 1288.67,1467.55 \n",
       "  \"/>\n",
       "<polyline clip-path=\"url(#clip800)\" style=\"stroke:#000000; stroke-linecap:butt; stroke-linejoin:round; stroke-width:4; stroke-opacity:1; fill:none\" points=\"\n",
       "  2292.52,1486.45 2292.52,1467.55 \n",
       "  \"/>\n",
       "<path clip-path=\"url(#clip800)\" d=\"M256.575 1517.46 Q251.482 1517.46 248.473 1521.26 Q245.487 1525.05 245.487 1531.6 Q245.487 1538.13 248.473 1541.93 Q251.482 1545.72 256.575 1545.72 Q261.667 1545.72 264.63 1541.93 Q267.616 1538.13 267.616 1531.6 Q267.616 1525.05 264.63 1521.26 Q261.667 1517.46 256.575 1517.46 M256.575 1513.66 Q263.843 1513.66 268.195 1518.55 Q272.547 1523.41 272.547 1531.6 Q272.547 1539.77 268.195 1544.66 Q263.843 1549.52 256.575 1549.52 Q249.283 1549.52 244.908 1544.66 Q240.556 1539.8 240.556 1531.6 Q240.556 1523.41 244.908 1518.55 Q249.283 1513.66 256.575 1513.66 Z\" fill=\"#000000\" fill-rule=\"evenodd\" fill-opacity=\"1\" /><path clip-path=\"url(#clip800)\" d=\"M279.862 1514.29 L284.537 1514.29 L284.537 1544.91 L301.366 1544.91 L301.366 1548.85 L279.862 1548.85 L279.862 1514.29 Z\" fill=\"#000000\" fill-rule=\"evenodd\" fill-opacity=\"1\" /><path clip-path=\"url(#clip800)\" d=\"M326.991 1515.42 L326.991 1519.98 Q324.329 1518.71 321.968 1518.08 Q319.607 1517.46 317.408 1517.46 Q313.588 1517.46 311.505 1518.94 Q309.445 1520.42 309.445 1523.15 Q309.445 1525.45 310.81 1526.63 Q312.199 1527.78 316.042 1528.5 L318.866 1529.08 Q324.097 1530.07 326.574 1532.6 Q329.074 1535.1 329.074 1539.31 Q329.074 1544.33 325.695 1546.93 Q322.338 1549.52 315.834 1549.52 Q313.38 1549.52 310.602 1548.96 Q307.848 1548.41 304.885 1547.32 L304.885 1542.51 Q307.732 1544.1 310.463 1544.91 Q313.195 1545.72 315.834 1545.72 Q319.838 1545.72 322.014 1544.15 Q324.19 1542.57 324.19 1539.66 Q324.19 1537.11 322.616 1535.68 Q321.065 1534.24 317.5 1533.52 L314.653 1532.97 Q309.422 1531.93 307.084 1529.7 Q304.746 1527.48 304.746 1523.52 Q304.746 1518.94 307.963 1516.3 Q311.204 1513.66 316.875 1513.66 Q319.306 1513.66 321.829 1514.1 Q324.352 1514.54 326.991 1515.42 Z\" fill=\"#000000\" fill-rule=\"evenodd\" fill-opacity=\"1\" /><path clip-path=\"url(#clip800)\" d=\"M1130.33 1516.95 L1130.33 1521.88 Q1127.96 1519.68 1125.28 1518.59 Q1122.62 1517.51 1119.61 1517.51 Q1113.68 1517.51 1110.53 1521.14 Q1107.39 1524.75 1107.39 1531.6 Q1107.39 1538.43 1110.53 1542.07 Q1113.68 1545.68 1119.61 1545.68 Q1122.62 1545.68 1125.28 1544.59 Q1127.96 1543.5 1130.33 1541.3 L1130.33 1546.19 Q1127.87 1547.85 1125.12 1548.69 Q1122.39 1549.52 1119.33 1549.52 Q1111.48 1549.52 1106.97 1544.73 Q1102.46 1539.91 1102.46 1531.6 Q1102.46 1523.27 1106.97 1518.48 Q1111.48 1513.66 1119.33 1513.66 Q1122.43 1513.66 1125.16 1514.5 Q1127.92 1515.31 1130.33 1516.95 Z\" fill=\"#000000\" fill-rule=\"evenodd\" fill-opacity=\"1\" /><path clip-path=\"url(#clip800)\" d=\"M1152.39 1526.9 Q1151.67 1526.49 1150.81 1526.3 Q1149.98 1526.09 1148.96 1526.09 Q1145.35 1526.09 1143.4 1528.45 Q1141.48 1530.79 1141.48 1535.19 L1141.48 1548.85 L1137.2 1548.85 L1137.2 1522.92 L1141.48 1522.92 L1141.48 1526.95 Q1142.83 1524.59 1144.98 1523.45 Q1147.13 1522.3 1150.21 1522.3 Q1150.65 1522.3 1151.18 1522.37 Q1151.71 1522.41 1152.36 1522.53 L1152.39 1526.9 Z\" fill=\"#000000\" fill-rule=\"evenodd\" fill-opacity=\"1\" /><path clip-path=\"url(#clip800)\" d=\"M1165.86 1525.91 Q1162.43 1525.91 1160.44 1528.59 Q1158.45 1531.26 1158.45 1535.91 Q1158.45 1540.56 1160.42 1543.25 Q1162.41 1545.91 1165.86 1545.91 Q1169.26 1545.91 1171.25 1543.22 Q1173.24 1540.54 1173.24 1535.91 Q1173.24 1531.3 1171.25 1528.62 Q1169.26 1525.91 1165.86 1525.91 M1165.86 1522.3 Q1171.41 1522.3 1174.58 1525.91 Q1177.76 1529.52 1177.76 1535.91 Q1177.76 1542.27 1174.58 1545.91 Q1171.41 1549.52 1165.86 1549.52 Q1160.28 1549.52 1157.11 1545.91 Q1153.96 1542.27 1153.96 1535.91 Q1153.96 1529.52 1157.11 1525.91 Q1160.28 1522.3 1165.86 1522.3 Z\" fill=\"#000000\" fill-rule=\"evenodd\" fill-opacity=\"1\" /><path clip-path=\"url(#clip800)\" d=\"M1201.34 1523.69 L1201.34 1527.71 Q1199.54 1526.79 1197.59 1526.32 Q1195.65 1525.86 1193.57 1525.86 Q1190.4 1525.86 1188.8 1526.83 Q1187.22 1527.81 1187.22 1529.75 Q1187.22 1531.23 1188.36 1532.09 Q1189.49 1532.92 1192.92 1533.69 L1194.38 1534.01 Q1198.91 1534.98 1200.81 1536.76 Q1202.73 1538.52 1202.73 1541.7 Q1202.73 1545.31 1199.86 1547.41 Q1197.02 1549.52 1192.02 1549.52 Q1189.93 1549.52 1187.66 1549.1 Q1185.42 1548.71 1182.92 1547.9 L1182.92 1543.5 Q1185.28 1544.73 1187.57 1545.35 Q1189.86 1545.95 1192.11 1545.95 Q1195.12 1545.95 1196.74 1544.94 Q1198.36 1543.89 1198.36 1542.02 Q1198.36 1540.28 1197.18 1539.36 Q1196.02 1538.43 1192.06 1537.57 L1190.58 1537.23 Q1186.62 1536.39 1184.86 1534.68 Q1183.1 1532.95 1183.1 1529.94 Q1183.1 1526.28 1185.7 1524.29 Q1188.29 1522.3 1193.06 1522.3 Q1195.42 1522.3 1197.5 1522.64 Q1199.58 1522.99 1201.34 1523.69 Z\" fill=\"#000000\" fill-rule=\"evenodd\" fill-opacity=\"1\" /><path clip-path=\"url(#clip800)\" d=\"M1226.04 1523.69 L1226.04 1527.71 Q1224.24 1526.79 1222.29 1526.32 Q1220.35 1525.86 1218.27 1525.86 Q1215.09 1525.86 1213.5 1526.83 Q1211.92 1527.81 1211.92 1529.75 Q1211.92 1531.23 1213.06 1532.09 Q1214.19 1532.92 1217.62 1533.69 L1219.08 1534.01 Q1223.61 1534.98 1225.51 1536.76 Q1227.43 1538.52 1227.43 1541.7 Q1227.43 1545.31 1224.56 1547.41 Q1221.71 1549.52 1216.71 1549.52 Q1214.63 1549.52 1212.36 1549.1 Q1210.12 1548.71 1207.62 1547.9 L1207.62 1543.5 Q1209.98 1544.73 1212.27 1545.35 Q1214.56 1545.95 1216.81 1545.95 Q1219.82 1545.95 1221.44 1544.94 Q1223.06 1543.89 1223.06 1542.02 Q1223.06 1540.28 1221.88 1539.36 Q1220.72 1538.43 1216.76 1537.57 L1215.28 1537.23 Q1211.32 1536.39 1209.56 1534.68 Q1207.8 1532.95 1207.8 1529.94 Q1207.8 1526.28 1210.39 1524.29 Q1212.99 1522.3 1217.76 1522.3 Q1220.12 1522.3 1222.2 1522.64 Q1224.28 1522.99 1226.04 1523.69 Z\" fill=\"#000000\" fill-rule=\"evenodd\" fill-opacity=\"1\" /><path clip-path=\"url(#clip800)\" d=\"M1258.38 1548.85 L1245.19 1514.29 L1250.07 1514.29 L1261.02 1543.38 L1271.99 1514.29 L1276.85 1514.29 L1263.68 1548.85 L1258.38 1548.85 Z\" fill=\"#000000\" fill-rule=\"evenodd\" fill-opacity=\"1\" /><path clip-path=\"url(#clip800)\" d=\"M1289.82 1535.82 Q1284.65 1535.82 1282.66 1537 Q1280.67 1538.18 1280.67 1541.02 Q1280.67 1543.29 1282.15 1544.63 Q1283.66 1545.95 1286.23 1545.95 Q1289.77 1545.95 1291.9 1543.45 Q1294.05 1540.93 1294.05 1536.76 L1294.05 1535.82 L1289.82 1535.82 M1298.31 1534.06 L1298.31 1548.85 L1294.05 1548.85 L1294.05 1544.91 Q1292.59 1547.27 1290.42 1548.41 Q1288.24 1549.52 1285.09 1549.52 Q1281.11 1549.52 1278.75 1547.3 Q1276.41 1545.05 1276.41 1541.3 Q1276.41 1536.93 1279.33 1534.7 Q1282.27 1532.48 1288.08 1532.48 L1294.05 1532.48 L1294.05 1532.07 Q1294.05 1529.13 1292.11 1527.53 Q1290.19 1525.91 1286.69 1525.91 Q1284.47 1525.91 1282.36 1526.44 Q1280.26 1526.97 1278.31 1528.04 L1278.31 1524.1 Q1280.65 1523.2 1282.85 1522.76 Q1285.05 1522.3 1287.13 1522.3 Q1292.76 1522.3 1295.53 1525.21 Q1298.31 1528.13 1298.31 1534.06 Z\" fill=\"#000000\" fill-rule=\"evenodd\" fill-opacity=\"1\" /><path clip-path=\"url(#clip800)\" d=\"M1307.08 1512.83 L1311.34 1512.83 L1311.34 1548.85 L1307.08 1548.85 L1307.08 1512.83 Z\" fill=\"#000000\" fill-rule=\"evenodd\" fill-opacity=\"1\" /><path clip-path=\"url(#clip800)\" d=\"M1320.26 1522.92 L1324.51 1522.92 L1324.51 1548.85 L1320.26 1548.85 L1320.26 1522.92 M1320.26 1512.83 L1324.51 1512.83 L1324.51 1518.22 L1320.26 1518.22 L1320.26 1512.83 Z\" fill=\"#000000\" fill-rule=\"evenodd\" fill-opacity=\"1\" /><path clip-path=\"url(#clip800)\" d=\"M1350.49 1526.86 L1350.49 1512.83 L1354.75 1512.83 L1354.75 1548.85 L1350.49 1548.85 L1350.49 1544.96 Q1349.14 1547.27 1347.08 1548.41 Q1345.05 1549.52 1342.18 1549.52 Q1337.48 1549.52 1334.51 1545.77 Q1331.57 1542.02 1331.57 1535.91 Q1331.57 1529.8 1334.51 1526.05 Q1337.48 1522.3 1342.18 1522.3 Q1345.05 1522.3 1347.08 1523.43 Q1349.14 1524.54 1350.49 1526.86 M1335.97 1535.91 Q1335.97 1540.61 1337.89 1543.29 Q1339.84 1545.95 1343.22 1545.95 Q1346.6 1545.95 1348.54 1543.29 Q1350.49 1540.61 1350.49 1535.91 Q1350.49 1531.21 1348.54 1528.55 Q1346.6 1525.86 1343.22 1525.86 Q1339.84 1525.86 1337.89 1528.55 Q1335.97 1531.21 1335.97 1535.91 Z\" fill=\"#000000\" fill-rule=\"evenodd\" fill-opacity=\"1\" /><path clip-path=\"url(#clip800)\" d=\"M1375.3 1535.82 Q1370.14 1535.82 1368.15 1537 Q1366.16 1538.18 1366.16 1541.02 Q1366.16 1543.29 1367.64 1544.63 Q1369.14 1545.95 1371.71 1545.95 Q1375.26 1545.95 1377.38 1543.45 Q1379.54 1540.93 1379.54 1536.76 L1379.54 1535.82 L1375.3 1535.82 M1383.8 1534.06 L1383.8 1548.85 L1379.54 1548.85 L1379.54 1544.91 Q1378.08 1547.27 1375.9 1548.41 Q1373.73 1549.52 1370.58 1549.52 Q1366.6 1549.52 1364.24 1547.3 Q1361.9 1545.05 1361.9 1541.3 Q1361.9 1536.93 1364.82 1534.7 Q1367.76 1532.48 1373.57 1532.48 L1379.54 1532.48 L1379.54 1532.07 Q1379.54 1529.13 1377.59 1527.53 Q1375.67 1525.91 1372.18 1525.91 Q1369.95 1525.91 1367.85 1526.44 Q1365.74 1526.97 1363.8 1528.04 L1363.8 1524.1 Q1366.13 1523.2 1368.33 1522.76 Q1370.53 1522.3 1372.62 1522.3 Q1378.24 1522.3 1381.02 1525.21 Q1383.8 1528.13 1383.8 1534.06 Z\" fill=\"#000000\" fill-rule=\"evenodd\" fill-opacity=\"1\" /><path clip-path=\"url(#clip800)\" d=\"M1396.78 1515.56 L1396.78 1522.92 L1405.56 1522.92 L1405.56 1526.23 L1396.78 1526.23 L1396.78 1540.31 Q1396.78 1543.48 1397.64 1544.38 Q1398.52 1545.28 1401.18 1545.28 L1405.56 1545.28 L1405.56 1548.85 L1401.18 1548.85 Q1396.25 1548.85 1394.38 1547.02 Q1392.5 1545.17 1392.5 1540.31 L1392.5 1526.23 L1389.38 1526.23 L1389.38 1522.92 L1392.5 1522.92 L1392.5 1515.56 L1396.78 1515.56 Z\" fill=\"#000000\" fill-rule=\"evenodd\" fill-opacity=\"1\" /><path clip-path=\"url(#clip800)\" d=\"M1411.16 1522.92 L1415.42 1522.92 L1415.42 1548.85 L1411.16 1548.85 L1411.16 1522.92 M1411.16 1512.83 L1415.42 1512.83 L1415.42 1518.22 L1411.16 1518.22 L1411.16 1512.83 Z\" fill=\"#000000\" fill-rule=\"evenodd\" fill-opacity=\"1\" /><path clip-path=\"url(#clip800)\" d=\"M1434.38 1525.91 Q1430.95 1525.91 1428.96 1528.59 Q1426.97 1531.26 1426.97 1535.91 Q1426.97 1540.56 1428.94 1543.25 Q1430.93 1545.91 1434.38 1545.91 Q1437.78 1545.91 1439.77 1543.22 Q1441.76 1540.54 1441.76 1535.91 Q1441.76 1531.3 1439.77 1528.62 Q1437.78 1525.91 1434.38 1525.91 M1434.38 1522.3 Q1439.93 1522.3 1443.1 1525.91 Q1446.27 1529.52 1446.27 1535.91 Q1446.27 1542.27 1443.1 1545.91 Q1439.93 1549.52 1434.38 1549.52 Q1428.8 1549.52 1425.63 1545.91 Q1422.48 1542.27 1422.48 1535.91 Q1422.48 1529.52 1425.63 1525.91 Q1428.8 1522.3 1434.38 1522.3 Z\" fill=\"#000000\" fill-rule=\"evenodd\" fill-opacity=\"1\" /><path clip-path=\"url(#clip800)\" d=\"M1474.88 1533.2 L1474.88 1548.85 L1470.62 1548.85 L1470.62 1533.34 Q1470.62 1529.66 1469.19 1527.83 Q1467.75 1526 1464.88 1526 Q1461.44 1526 1459.44 1528.2 Q1457.45 1530.4 1457.45 1534.2 L1457.45 1548.85 L1453.17 1548.85 L1453.17 1522.92 L1457.45 1522.92 L1457.45 1526.95 Q1458.98 1524.61 1461.04 1523.45 Q1463.13 1522.3 1465.83 1522.3 Q1470.3 1522.3 1472.59 1525.07 Q1474.88 1527.83 1474.88 1533.2 Z\" fill=\"#000000\" fill-rule=\"evenodd\" fill-opacity=\"1\" /><path clip-path=\"url(#clip800)\" d=\"M2218.25 1514.29 L2222.93 1514.29 L2222.93 1528.45 L2239.92 1528.45 L2239.92 1514.29 L2244.6 1514.29 L2244.6 1548.85 L2239.92 1548.85 L2239.92 1532.39 L2222.93 1532.39 L2222.93 1548.85 L2218.25 1548.85 L2218.25 1514.29 Z\" fill=\"#000000\" fill-rule=\"evenodd\" fill-opacity=\"1\" /><path clip-path=\"url(#clip800)\" d=\"M2258.58 1518.13 L2258.58 1545.01 L2264.23 1545.01 Q2271.38 1545.01 2274.69 1541.76 Q2278.02 1538.52 2278.02 1531.53 Q2278.02 1524.59 2274.69 1521.37 Q2271.38 1518.13 2264.23 1518.13 L2258.58 1518.13 M2253.9 1514.29 L2263.51 1514.29 Q2273.55 1514.29 2278.25 1518.48 Q2282.95 1522.64 2282.95 1531.53 Q2282.95 1540.47 2278.23 1544.66 Q2273.51 1548.85 2263.51 1548.85 L2253.9 1548.85 L2253.9 1514.29 Z\" fill=\"#000000\" fill-rule=\"evenodd\" fill-opacity=\"1\" /><path clip-path=\"url(#clip800)\" d=\"M2290.41 1514.29 L2297.37 1514.29 L2306.19 1537.81 L2315.06 1514.29 L2322.03 1514.29 L2322.03 1548.85 L2317.47 1548.85 L2317.47 1518.5 L2308.55 1542.2 L2303.86 1542.2 L2294.94 1518.5 L2294.94 1548.85 L2290.41 1548.85 L2290.41 1514.29 Z\" fill=\"#000000\" fill-rule=\"evenodd\" fill-opacity=\"1\" /><path clip-path=\"url(#clip800)\" d=\"M2331.31 1514.29 L2335.99 1514.29 L2335.99 1546.44 Q2335.99 1552.69 2333.6 1555.51 Q2331.24 1558.34 2325.99 1558.34 L2324.2 1558.34 L2324.2 1554.4 L2325.66 1554.4 Q2328.76 1554.4 2330.04 1552.67 Q2331.31 1550.93 2331.31 1546.44 L2331.31 1514.29 Z\" fill=\"#000000\" fill-rule=\"evenodd\" fill-opacity=\"1\" /><path clip-path=\"url(#clip800)\" d=\"M2345.29 1514.29 L2349.97 1514.29 L2349.97 1544.91 L2366.8 1544.91 L2366.8 1548.85 L2345.29 1548.85 L2345.29 1514.29 Z\" fill=\"#000000\" fill-rule=\"evenodd\" fill-opacity=\"1\" /><polyline clip-path=\"url(#clip802)\" style=\"stroke:#000000; stroke-linecap:butt; stroke-linejoin:round; stroke-width:2; stroke-opacity:0.1; fill:none\" points=\"\n",
       "  224.584,1341.61 2352.76,1341.61 \n",
       "  \"/>\n",
       "<polyline clip-path=\"url(#clip802)\" style=\"stroke:#000000; stroke-linecap:butt; stroke-linejoin:round; stroke-width:2; stroke-opacity:0.1; fill:none\" points=\"\n",
       "  224.584,1159.02 2352.76,1159.02 \n",
       "  \"/>\n",
       "<polyline clip-path=\"url(#clip802)\" style=\"stroke:#000000; stroke-linecap:butt; stroke-linejoin:round; stroke-width:2; stroke-opacity:0.1; fill:none\" points=\"\n",
       "  224.584,976.424 2352.76,976.424 \n",
       "  \"/>\n",
       "<polyline clip-path=\"url(#clip802)\" style=\"stroke:#000000; stroke-linecap:butt; stroke-linejoin:round; stroke-width:2; stroke-opacity:0.1; fill:none\" points=\"\n",
       "  224.584,793.832 2352.76,793.832 \n",
       "  \"/>\n",
       "<polyline clip-path=\"url(#clip802)\" style=\"stroke:#000000; stroke-linecap:butt; stroke-linejoin:round; stroke-width:2; stroke-opacity:0.1; fill:none\" points=\"\n",
       "  224.584,611.241 2352.76,611.241 \n",
       "  \"/>\n",
       "<polyline clip-path=\"url(#clip802)\" style=\"stroke:#000000; stroke-linecap:butt; stroke-linejoin:round; stroke-width:2; stroke-opacity:0.1; fill:none\" points=\"\n",
       "  224.584,428.649 2352.76,428.649 \n",
       "  \"/>\n",
       "<polyline clip-path=\"url(#clip802)\" style=\"stroke:#000000; stroke-linecap:butt; stroke-linejoin:round; stroke-width:2; stroke-opacity:0.1; fill:none\" points=\"\n",
       "  224.584,246.057 2352.76,246.057 \n",
       "  \"/>\n",
       "<polyline clip-path=\"url(#clip800)\" style=\"stroke:#000000; stroke-linecap:butt; stroke-linejoin:round; stroke-width:4; stroke-opacity:1; fill:none\" points=\"\n",
       "  224.584,1486.45 224.584,123.472 \n",
       "  \"/>\n",
       "<polyline clip-path=\"url(#clip800)\" style=\"stroke:#000000; stroke-linecap:butt; stroke-linejoin:round; stroke-width:4; stroke-opacity:1; fill:none\" points=\"\n",
       "  224.584,1341.61 243.482,1341.61 \n",
       "  \"/>\n",
       "<polyline clip-path=\"url(#clip800)\" style=\"stroke:#000000; stroke-linecap:butt; stroke-linejoin:round; stroke-width:4; stroke-opacity:1; fill:none\" points=\"\n",
       "  224.584,1159.02 243.482,1159.02 \n",
       "  \"/>\n",
       "<polyline clip-path=\"url(#clip800)\" style=\"stroke:#000000; stroke-linecap:butt; stroke-linejoin:round; stroke-width:4; stroke-opacity:1; fill:none\" points=\"\n",
       "  224.584,976.424 243.482,976.424 \n",
       "  \"/>\n",
       "<polyline clip-path=\"url(#clip800)\" style=\"stroke:#000000; stroke-linecap:butt; stroke-linejoin:round; stroke-width:4; stroke-opacity:1; fill:none\" points=\"\n",
       "  224.584,793.832 243.482,793.832 \n",
       "  \"/>\n",
       "<polyline clip-path=\"url(#clip800)\" style=\"stroke:#000000; stroke-linecap:butt; stroke-linejoin:round; stroke-width:4; stroke-opacity:1; fill:none\" points=\"\n",
       "  224.584,611.241 243.482,611.241 \n",
       "  \"/>\n",
       "<polyline clip-path=\"url(#clip800)\" style=\"stroke:#000000; stroke-linecap:butt; stroke-linejoin:round; stroke-width:4; stroke-opacity:1; fill:none\" points=\"\n",
       "  224.584,428.649 243.482,428.649 \n",
       "  \"/>\n",
       "<polyline clip-path=\"url(#clip800)\" style=\"stroke:#000000; stroke-linecap:butt; stroke-linejoin:round; stroke-width:4; stroke-opacity:1; fill:none\" points=\"\n",
       "  224.584,246.057 243.482,246.057 \n",
       "  \"/>\n",
       "<path clip-path=\"url(#clip800)\" d=\"M51.5708 1342.06 L81.2466 1342.06 L81.2466 1345.99 L51.5708 1345.99 L51.5708 1342.06 Z\" fill=\"#000000\" fill-rule=\"evenodd\" fill-opacity=\"1\" /><path clip-path=\"url(#clip800)\" d=\"M101.339 1327.41 Q97.728 1327.41 95.8993 1330.97 Q94.0937 1334.51 94.0937 1341.64 Q94.0937 1348.75 95.8993 1352.31 Q97.728 1355.86 101.339 1355.86 Q104.973 1355.86 106.779 1352.31 Q108.608 1348.75 108.608 1341.64 Q108.608 1334.51 106.779 1330.97 Q104.973 1327.41 101.339 1327.41 M101.339 1323.7 Q107.149 1323.7 110.205 1328.31 Q113.283 1332.89 113.283 1341.64 Q113.283 1350.37 110.205 1354.98 Q107.149 1359.56 101.339 1359.56 Q95.5289 1359.56 92.4502 1354.98 Q89.3947 1350.37 89.3947 1341.64 Q89.3947 1332.89 92.4502 1328.31 Q95.5289 1323.7 101.339 1323.7 Z\" fill=\"#000000\" fill-rule=\"evenodd\" fill-opacity=\"1\" /><path clip-path=\"url(#clip800)\" d=\"M121.501 1353.01 L126.385 1353.01 L126.385 1358.89 L121.501 1358.89 L121.501 1353.01 Z\" fill=\"#000000\" fill-rule=\"evenodd\" fill-opacity=\"1\" /><path clip-path=\"url(#clip800)\" d=\"M146.57 1327.41 Q142.959 1327.41 141.131 1330.97 Q139.325 1334.51 139.325 1341.64 Q139.325 1348.75 141.131 1352.31 Q142.959 1355.86 146.57 1355.86 Q150.205 1355.86 152.01 1352.31 Q153.839 1348.75 153.839 1341.64 Q153.839 1334.51 152.01 1330.97 Q150.205 1327.41 146.57 1327.41 M146.57 1323.7 Q152.38 1323.7 155.436 1328.31 Q158.515 1332.89 158.515 1341.64 Q158.515 1350.37 155.436 1354.98 Q152.38 1359.56 146.57 1359.56 Q140.76 1359.56 137.681 1354.98 Q134.626 1350.37 134.626 1341.64 Q134.626 1332.89 137.681 1328.31 Q140.76 1323.7 146.57 1323.7 Z\" fill=\"#000000\" fill-rule=\"evenodd\" fill-opacity=\"1\" /><path clip-path=\"url(#clip800)\" d=\"M176.732 1342.48 Q173.399 1342.48 171.478 1344.26 Q169.579 1346.04 169.579 1349.17 Q169.579 1352.29 171.478 1354.07 Q173.399 1355.86 176.732 1355.86 Q180.066 1355.86 181.987 1354.07 Q183.908 1352.27 183.908 1349.17 Q183.908 1346.04 181.987 1344.26 Q180.089 1342.48 176.732 1342.48 M172.056 1340.49 Q169.047 1339.74 167.357 1337.68 Q165.691 1335.62 165.691 1332.66 Q165.691 1328.52 168.63 1326.11 Q171.593 1323.7 176.732 1323.7 Q181.894 1323.7 184.834 1326.11 Q187.774 1328.52 187.774 1332.66 Q187.774 1335.62 186.084 1337.68 Q184.417 1339.74 181.431 1340.49 Q184.811 1341.27 186.686 1343.56 Q188.584 1345.86 188.584 1349.17 Q188.584 1354.19 185.505 1356.87 Q182.45 1359.56 176.732 1359.56 Q171.015 1359.56 167.936 1356.87 Q164.88 1354.19 164.88 1349.17 Q164.88 1345.86 166.779 1343.56 Q168.677 1341.27 172.056 1340.49 M170.343 1333.1 Q170.343 1335.79 172.01 1337.29 Q173.7 1338.8 176.732 1338.8 Q179.741 1338.8 181.431 1337.29 Q183.144 1335.79 183.144 1333.1 Q183.144 1330.42 181.431 1328.91 Q179.741 1327.41 176.732 1327.41 Q173.7 1327.41 172.01 1328.91 Q170.343 1330.42 170.343 1333.1 Z\" fill=\"#000000\" fill-rule=\"evenodd\" fill-opacity=\"1\" /><path clip-path=\"url(#clip800)\" d=\"M51.3162 1159.47 L80.992 1159.47 L80.992 1163.4 L51.3162 1163.4 L51.3162 1159.47 Z\" fill=\"#000000\" fill-rule=\"evenodd\" fill-opacity=\"1\" /><path clip-path=\"url(#clip800)\" d=\"M101.084 1144.81 Q97.4734 1144.81 95.6447 1148.38 Q93.8391 1151.92 93.8391 1159.05 Q93.8391 1166.16 95.6447 1169.72 Q97.4734 1173.26 101.084 1173.26 Q104.719 1173.26 106.524 1169.72 Q108.353 1166.16 108.353 1159.05 Q108.353 1151.92 106.524 1148.38 Q104.719 1144.81 101.084 1144.81 M101.084 1141.11 Q106.895 1141.11 109.95 1145.72 Q113.029 1150.3 113.029 1159.05 Q113.029 1167.78 109.95 1172.38 Q106.895 1176.97 101.084 1176.97 Q95.2743 1176.97 92.1956 1172.38 Q89.1401 1167.78 89.1401 1159.05 Q89.1401 1150.3 92.1956 1145.72 Q95.2743 1141.11 101.084 1141.11 Z\" fill=\"#000000\" fill-rule=\"evenodd\" fill-opacity=\"1\" /><path clip-path=\"url(#clip800)\" d=\"M121.246 1170.42 L126.131 1170.42 L126.131 1176.3 L121.246 1176.3 L121.246 1170.42 Z\" fill=\"#000000\" fill-rule=\"evenodd\" fill-opacity=\"1\" /><path clip-path=\"url(#clip800)\" d=\"M146.316 1144.81 Q142.705 1144.81 140.876 1148.38 Q139.07 1151.92 139.07 1159.05 Q139.07 1166.16 140.876 1169.72 Q142.705 1173.26 146.316 1173.26 Q149.95 1173.26 151.755 1169.72 Q153.584 1166.16 153.584 1159.05 Q153.584 1151.92 151.755 1148.38 Q149.95 1144.81 146.316 1144.81 M146.316 1141.11 Q152.126 1141.11 155.181 1145.72 Q158.26 1150.3 158.26 1159.05 Q158.26 1167.78 155.181 1172.38 Q152.126 1176.97 146.316 1176.97 Q140.506 1176.97 137.427 1172.38 Q134.371 1167.78 134.371 1159.05 Q134.371 1150.3 137.427 1145.72 Q140.506 1141.11 146.316 1141.11 Z\" fill=\"#000000\" fill-rule=\"evenodd\" fill-opacity=\"1\" /><path clip-path=\"url(#clip800)\" d=\"M177.056 1157.15 Q173.908 1157.15 172.056 1159.31 Q170.228 1161.46 170.228 1165.21 Q170.228 1168.94 172.056 1171.11 Q173.908 1173.26 177.056 1173.26 Q180.204 1173.26 182.033 1171.11 Q183.885 1168.94 183.885 1165.21 Q183.885 1161.46 182.033 1159.31 Q180.204 1157.15 177.056 1157.15 M186.339 1142.5 L186.339 1146.76 Q184.579 1145.93 182.774 1145.49 Q180.991 1145.05 179.232 1145.05 Q174.603 1145.05 172.149 1148.17 Q169.718 1151.3 169.371 1157.62 Q170.737 1155.6 172.797 1154.54 Q174.857 1153.45 177.334 1153.45 Q182.542 1153.45 185.552 1156.62 Q188.584 1159.77 188.584 1165.21 Q188.584 1170.53 185.436 1173.75 Q182.288 1176.97 177.056 1176.97 Q171.061 1176.97 167.89 1172.38 Q164.718 1167.78 164.718 1159.05 Q164.718 1150.86 168.607 1146 Q172.496 1141.11 179.047 1141.11 Q180.806 1141.11 182.589 1141.46 Q184.394 1141.81 186.339 1142.5 Z\" fill=\"#000000\" fill-rule=\"evenodd\" fill-opacity=\"1\" /><path clip-path=\"url(#clip800)\" d=\"M50.9921 976.876 L80.6679 976.876 L80.6679 980.811 L50.9921 980.811 L50.9921 976.876 Z\" fill=\"#000000\" fill-rule=\"evenodd\" fill-opacity=\"1\" /><path clip-path=\"url(#clip800)\" d=\"M100.76 962.223 Q97.1493 962.223 95.3206 965.788 Q93.515 969.329 93.515 976.459 Q93.515 983.565 95.3206 987.13 Q97.1493 990.672 100.76 990.672 Q104.395 990.672 106.2 987.13 Q108.029 983.565 108.029 976.459 Q108.029 969.329 106.2 965.788 Q104.395 962.223 100.76 962.223 M100.76 958.519 Q106.571 958.519 109.626 963.126 Q112.705 967.709 112.705 976.459 Q112.705 985.186 109.626 989.792 Q106.571 994.376 100.76 994.376 Q94.9502 994.376 91.8715 989.792 Q88.816 985.186 88.816 976.459 Q88.816 967.709 91.8715 963.126 Q94.9502 958.519 100.76 958.519 Z\" fill=\"#000000\" fill-rule=\"evenodd\" fill-opacity=\"1\" /><path clip-path=\"url(#clip800)\" d=\"M120.922 987.825 L125.807 987.825 L125.807 993.704 L120.922 993.704 L120.922 987.825 Z\" fill=\"#000000\" fill-rule=\"evenodd\" fill-opacity=\"1\" /><path clip-path=\"url(#clip800)\" d=\"M145.992 962.223 Q142.381 962.223 140.552 965.788 Q138.746 969.329 138.746 976.459 Q138.746 983.565 140.552 987.13 Q142.381 990.672 145.992 990.672 Q149.626 990.672 151.431 987.13 Q153.26 983.565 153.26 976.459 Q153.26 969.329 151.431 965.788 Q149.626 962.223 145.992 962.223 M145.992 958.519 Q151.802 958.519 154.857 963.126 Q157.936 967.709 157.936 976.459 Q157.936 985.186 154.857 989.792 Q151.802 994.376 145.992 994.376 Q140.181 994.376 137.103 989.792 Q134.047 985.186 134.047 976.459 Q134.047 967.709 137.103 963.126 Q140.181 958.519 145.992 958.519 Z\" fill=\"#000000\" fill-rule=\"evenodd\" fill-opacity=\"1\" /><path clip-path=\"url(#clip800)\" d=\"M179.001 963.218 L167.195 981.667 L179.001 981.667 L179.001 963.218 M177.774 959.144 L183.653 959.144 L183.653 981.667 L188.584 981.667 L188.584 985.556 L183.653 985.556 L183.653 993.704 L179.001 993.704 L179.001 985.556 L163.399 985.556 L163.399 981.042 L177.774 959.144 Z\" fill=\"#000000\" fill-rule=\"evenodd\" fill-opacity=\"1\" /><path clip-path=\"url(#clip800)\" d=\"M53.0754 794.284 L82.7512 794.284 L82.7512 798.219 L53.0754 798.219 L53.0754 794.284 Z\" fill=\"#000000\" fill-rule=\"evenodd\" fill-opacity=\"1\" /><path clip-path=\"url(#clip800)\" d=\"M102.844 779.631 Q99.2326 779.631 97.4039 783.196 Q95.5984 786.738 95.5984 793.867 Q95.5984 800.974 97.4039 804.538 Q99.2326 808.08 102.844 808.08 Q106.478 808.08 108.283 804.538 Q110.112 800.974 110.112 793.867 Q110.112 786.738 108.283 783.196 Q106.478 779.631 102.844 779.631 M102.844 775.927 Q108.654 775.927 111.709 780.534 Q114.788 785.117 114.788 793.867 Q114.788 802.594 111.709 807.2 Q108.654 811.784 102.844 811.784 Q97.0335 811.784 93.9549 807.2 Q90.8993 802.594 90.8993 793.867 Q90.8993 785.117 93.9549 780.534 Q97.0335 775.927 102.844 775.927 Z\" fill=\"#000000\" fill-rule=\"evenodd\" fill-opacity=\"1\" /><path clip-path=\"url(#clip800)\" d=\"M123.006 805.233 L127.89 805.233 L127.89 811.112 L123.006 811.112 L123.006 805.233 Z\" fill=\"#000000\" fill-rule=\"evenodd\" fill-opacity=\"1\" /><path clip-path=\"url(#clip800)\" d=\"M148.075 779.631 Q144.464 779.631 142.635 783.196 Q140.83 786.738 140.83 793.867 Q140.83 800.974 142.635 804.538 Q144.464 808.08 148.075 808.08 Q151.709 808.08 153.515 804.538 Q155.343 800.974 155.343 793.867 Q155.343 786.738 153.515 783.196 Q151.709 779.631 148.075 779.631 M148.075 775.927 Q153.885 775.927 156.941 780.534 Q160.019 785.117 160.019 793.867 Q160.019 802.594 156.941 807.2 Q153.885 811.784 148.075 811.784 Q142.265 811.784 139.186 807.2 Q136.131 802.594 136.131 793.867 Q136.131 785.117 139.186 780.534 Q142.265 775.927 148.075 775.927 Z\" fill=\"#000000\" fill-rule=\"evenodd\" fill-opacity=\"1\" /><path clip-path=\"url(#clip800)\" d=\"M172.265 807.177 L188.584 807.177 L188.584 811.112 L166.64 811.112 L166.64 807.177 Q169.302 804.423 173.885 799.793 Q178.491 795.14 179.672 793.798 Q181.917 791.275 182.797 789.538 Q183.7 787.779 183.7 786.089 Q183.7 783.335 181.755 781.599 Q179.834 779.863 176.732 779.863 Q174.533 779.863 172.079 780.627 Q169.649 781.39 166.871 782.941 L166.871 778.219 Q169.695 777.085 172.149 776.506 Q174.603 775.927 176.64 775.927 Q182.01 775.927 185.204 778.613 Q188.399 781.298 188.399 785.789 Q188.399 787.918 187.589 789.839 Q186.802 791.738 184.695 794.33 Q184.116 795.001 181.015 798.219 Q177.913 801.413 172.265 807.177 Z\" fill=\"#000000\" fill-rule=\"evenodd\" fill-opacity=\"1\" /><path clip-path=\"url(#clip800)\" d=\"M101.246 597.039 Q97.6354 597.039 95.8067 600.604 Q94.0012 604.146 94.0012 611.275 Q94.0012 618.382 95.8067 621.947 Q97.6354 625.488 101.246 625.488 Q104.881 625.488 106.686 621.947 Q108.515 618.382 108.515 611.275 Q108.515 604.146 106.686 600.604 Q104.881 597.039 101.246 597.039 M101.246 593.336 Q107.057 593.336 110.112 597.942 Q113.191 602.525 113.191 611.275 Q113.191 620.002 110.112 624.609 Q107.057 629.192 101.246 629.192 Q95.4363 629.192 92.3576 624.609 Q89.3021 620.002 89.3021 611.275 Q89.3021 602.525 92.3576 597.942 Q95.4363 593.336 101.246 593.336 Z\" fill=\"#000000\" fill-rule=\"evenodd\" fill-opacity=\"1\" /><path clip-path=\"url(#clip800)\" d=\"M121.408 622.641 L126.293 622.641 L126.293 628.521 L121.408 628.521 L121.408 622.641 Z\" fill=\"#000000\" fill-rule=\"evenodd\" fill-opacity=\"1\" /><path clip-path=\"url(#clip800)\" d=\"M146.478 597.039 Q142.867 597.039 141.038 600.604 Q139.232 604.146 139.232 611.275 Q139.232 618.382 141.038 621.947 Q142.867 625.488 146.478 625.488 Q150.112 625.488 151.918 621.947 Q153.746 618.382 153.746 611.275 Q153.746 604.146 151.918 600.604 Q150.112 597.039 146.478 597.039 M146.478 593.336 Q152.288 593.336 155.343 597.942 Q158.422 602.525 158.422 611.275 Q158.422 620.002 155.343 624.609 Q152.288 629.192 146.478 629.192 Q140.668 629.192 137.589 624.609 Q134.533 620.002 134.533 611.275 Q134.533 602.525 137.589 597.942 Q140.668 593.336 146.478 593.336 Z\" fill=\"#000000\" fill-rule=\"evenodd\" fill-opacity=\"1\" /><path clip-path=\"url(#clip800)\" d=\"M176.64 597.039 Q173.029 597.039 171.2 600.604 Q169.394 604.146 169.394 611.275 Q169.394 618.382 171.2 621.947 Q173.029 625.488 176.64 625.488 Q180.274 625.488 182.079 621.947 Q183.908 618.382 183.908 611.275 Q183.908 604.146 182.079 600.604 Q180.274 597.039 176.64 597.039 M176.64 593.336 Q182.45 593.336 185.505 597.942 Q188.584 602.525 188.584 611.275 Q188.584 620.002 185.505 624.609 Q182.45 629.192 176.64 629.192 Q170.829 629.192 167.751 624.609 Q164.695 620.002 164.695 611.275 Q164.695 602.525 167.751 597.942 Q170.829 593.336 176.64 593.336 Z\" fill=\"#000000\" fill-rule=\"evenodd\" fill-opacity=\"1\" /><path clip-path=\"url(#clip800)\" d=\"M102.844 414.448 Q99.2326 414.448 97.4039 418.012 Q95.5984 421.554 95.5984 428.684 Q95.5984 435.79 97.4039 439.355 Q99.2326 442.896 102.844 442.896 Q106.478 442.896 108.283 439.355 Q110.112 435.79 110.112 428.684 Q110.112 421.554 108.283 418.012 Q106.478 414.448 102.844 414.448 M102.844 410.744 Q108.654 410.744 111.709 415.35 Q114.788 419.934 114.788 428.684 Q114.788 437.41 111.709 442.017 Q108.654 446.6 102.844 446.6 Q97.0335 446.6 93.9549 442.017 Q90.8993 437.41 90.8993 428.684 Q90.8993 419.934 93.9549 415.35 Q97.0335 410.744 102.844 410.744 Z\" fill=\"#000000\" fill-rule=\"evenodd\" fill-opacity=\"1\" /><path clip-path=\"url(#clip800)\" d=\"M123.006 440.049 L127.89 440.049 L127.89 445.929 L123.006 445.929 L123.006 440.049 Z\" fill=\"#000000\" fill-rule=\"evenodd\" fill-opacity=\"1\" /><path clip-path=\"url(#clip800)\" d=\"M148.075 414.448 Q144.464 414.448 142.635 418.012 Q140.83 421.554 140.83 428.684 Q140.83 435.79 142.635 439.355 Q144.464 442.896 148.075 442.896 Q151.709 442.896 153.515 439.355 Q155.343 435.79 155.343 428.684 Q155.343 421.554 153.515 418.012 Q151.709 414.448 148.075 414.448 M148.075 410.744 Q153.885 410.744 156.941 415.35 Q160.019 419.934 160.019 428.684 Q160.019 437.41 156.941 442.017 Q153.885 446.6 148.075 446.6 Q142.265 446.6 139.186 442.017 Q136.131 437.41 136.131 428.684 Q136.131 419.934 139.186 415.35 Q142.265 410.744 148.075 410.744 Z\" fill=\"#000000\" fill-rule=\"evenodd\" fill-opacity=\"1\" /><path clip-path=\"url(#clip800)\" d=\"M172.265 441.994 L188.584 441.994 L188.584 445.929 L166.64 445.929 L166.64 441.994 Q169.302 439.239 173.885 434.609 Q178.491 429.957 179.672 428.614 Q181.917 426.091 182.797 424.355 Q183.7 422.596 183.7 420.906 Q183.7 418.151 181.755 416.415 Q179.834 414.679 176.732 414.679 Q174.533 414.679 172.079 415.443 Q169.649 416.207 166.871 417.758 L166.871 413.035 Q169.695 411.901 172.149 411.323 Q174.603 410.744 176.64 410.744 Q182.01 410.744 185.204 413.429 Q188.399 416.114 188.399 420.605 Q188.399 422.734 187.589 424.656 Q186.802 426.554 184.695 429.146 Q184.116 429.818 181.015 433.035 Q177.913 436.23 172.265 441.994 Z\" fill=\"#000000\" fill-rule=\"evenodd\" fill-opacity=\"1\" /><path clip-path=\"url(#clip800)\" d=\"M100.76 231.856 Q97.1493 231.856 95.3206 235.42 Q93.515 238.962 93.515 246.092 Q93.515 253.198 95.3206 256.763 Q97.1493 260.305 100.76 260.305 Q104.395 260.305 106.2 256.763 Q108.029 253.198 108.029 246.092 Q108.029 238.962 106.2 235.42 Q104.395 231.856 100.76 231.856 M100.76 228.152 Q106.571 228.152 109.626 232.758 Q112.705 237.342 112.705 246.092 Q112.705 254.819 109.626 259.425 Q106.571 264.008 100.76 264.008 Q94.9502 264.008 91.8715 259.425 Q88.816 254.819 88.816 246.092 Q88.816 237.342 91.8715 232.758 Q94.9502 228.152 100.76 228.152 Z\" fill=\"#000000\" fill-rule=\"evenodd\" fill-opacity=\"1\" /><path clip-path=\"url(#clip800)\" d=\"M120.922 257.457 L125.807 257.457 L125.807 263.337 L120.922 263.337 L120.922 257.457 Z\" fill=\"#000000\" fill-rule=\"evenodd\" fill-opacity=\"1\" /><path clip-path=\"url(#clip800)\" d=\"M145.992 231.856 Q142.381 231.856 140.552 235.42 Q138.746 238.962 138.746 246.092 Q138.746 253.198 140.552 256.763 Q142.381 260.305 145.992 260.305 Q149.626 260.305 151.431 256.763 Q153.26 253.198 153.26 246.092 Q153.26 238.962 151.431 235.42 Q149.626 231.856 145.992 231.856 M145.992 228.152 Q151.802 228.152 154.857 232.758 Q157.936 237.342 157.936 246.092 Q157.936 254.819 154.857 259.425 Q151.802 264.008 145.992 264.008 Q140.181 264.008 137.103 259.425 Q134.047 254.819 134.047 246.092 Q134.047 237.342 137.103 232.758 Q140.181 228.152 145.992 228.152 Z\" fill=\"#000000\" fill-rule=\"evenodd\" fill-opacity=\"1\" /><path clip-path=\"url(#clip800)\" d=\"M179.001 232.851 L167.195 251.3 L179.001 251.3 L179.001 232.851 M177.774 228.777 L183.653 228.777 L183.653 251.3 L188.584 251.3 L188.584 255.189 L183.653 255.189 L183.653 263.337 L179.001 263.337 L179.001 255.189 L163.399 255.189 L163.399 250.675 L177.774 228.777 Z\" fill=\"#000000\" fill-rule=\"evenodd\" fill-opacity=\"1\" /><path clip-path=\"url(#clip800)\" d=\"M1025.08 16.7545 L1025.08 25.383 Q1020.95 21.5346 1016.25 19.6307 Q1011.59 17.7268 1006.32 17.7268 Q995.952 17.7268 990.442 24.0867 Q984.933 30.4061 984.933 42.3968 Q984.933 54.3469 990.442 60.7069 Q995.952 67.0263 1006.32 67.0263 Q1011.59 67.0263 1016.25 65.1223 Q1020.95 63.2184 1025.08 59.3701 L1025.08 67.9175 Q1020.78 70.8341 1015.96 72.2924 Q1011.18 73.7508 1005.84 73.7508 Q992.103 73.7508 984.204 65.3654 Q976.305 56.9395 976.305 42.3968 Q976.305 27.8135 984.204 19.4281 Q992.103 11.0023 1005.84 11.0023 Q1011.26 11.0023 1016.04 12.4606 Q1020.86 13.8784 1025.08 16.7545 Z\" fill=\"#000000\" fill-rule=\"evenodd\" fill-opacity=\"1\" /><path clip-path=\"url(#clip800)\" d=\"M1054.97 32.4315 Q1048.98 32.4315 1045.49 37.1306 Q1042.01 41.7891 1042.01 49.9314 Q1042.01 58.0738 1045.45 62.7728 Q1048.94 67.4314 1054.97 67.4314 Q1060.93 67.4314 1064.41 62.7323 Q1067.9 58.0333 1067.9 49.9314 Q1067.9 41.8701 1064.41 37.1711 Q1060.93 32.4315 1054.97 32.4315 M1054.97 26.1121 Q1064.7 26.1121 1070.25 32.4315 Q1075.79 38.7509 1075.79 49.9314 Q1075.79 61.0714 1070.25 67.4314 Q1064.7 73.7508 1054.97 73.7508 Q1045.21 73.7508 1039.66 67.4314 Q1034.15 61.0714 1034.15 49.9314 Q1034.15 38.7509 1039.66 32.4315 Q1045.21 26.1121 1054.97 26.1121 Z\" fill=\"#000000\" fill-rule=\"evenodd\" fill-opacity=\"1\" /><path clip-path=\"url(#clip800)\" d=\"M1126.96 48.0275 L1126.96 51.6733 L1092.69 51.6733 Q1093.17 59.3701 1097.31 63.421 Q1101.48 67.4314 1108.89 67.4314 Q1113.18 67.4314 1117.2 66.3781 Q1121.25 65.3249 1125.22 63.2184 L1125.22 70.267 Q1121.21 71.9684 1116.99 72.8596 Q1112.78 73.7508 1108.45 73.7508 Q1097.59 73.7508 1091.23 67.4314 Q1084.91 61.1119 1084.91 50.3365 Q1084.91 39.1965 1090.9 32.6746 Q1096.94 26.1121 1107.15 26.1121 Q1116.3 26.1121 1121.61 32.0264 Q1126.96 37.9003 1126.96 48.0275 M1119.5 45.84 Q1119.42 39.7232 1116.06 36.0774 Q1112.74 32.4315 1107.23 32.4315 Q1100.99 32.4315 1097.22 35.9558 Q1093.5 39.4801 1092.93 45.8805 L1119.5 45.84 Z\" fill=\"#000000\" fill-rule=\"evenodd\" fill-opacity=\"1\" /><path clip-path=\"url(#clip800)\" d=\"M1162.16 9.54393 L1162.16 15.7418 L1155.03 15.7418 Q1151.02 15.7418 1149.44 17.3622 Q1147.9 18.9825 1147.9 23.1955 L1147.9 27.2059 L1160.18 27.2059 L1160.18 32.9987 L1147.9 32.9987 L1147.9 72.576 L1140.41 72.576 L1140.41 32.9987 L1133.28 32.9987 L1133.28 27.2059 L1140.41 27.2059 L1140.41 24.0462 Q1140.41 16.471 1143.93 13.0277 Q1147.46 9.54393 1155.11 9.54393 L1162.16 9.54393 Z\" fill=\"#000000\" fill-rule=\"evenodd\" fill-opacity=\"1\" /><path clip-path=\"url(#clip800)\" d=\"M1191.37 9.54393 L1191.37 15.7418 L1184.24 15.7418 Q1180.23 15.7418 1178.65 17.3622 Q1177.11 18.9825 1177.11 23.1955 L1177.11 27.2059 L1189.38 27.2059 L1189.38 32.9987 L1177.11 32.9987 L1177.11 72.576 L1169.61 72.576 L1169.61 32.9987 L1162.48 32.9987 L1162.48 27.2059 L1169.61 27.2059 L1169.61 24.0462 Q1169.61 16.471 1173.14 13.0277 Q1176.66 9.54393 1184.32 9.54393 L1191.37 9.54393 Z\" fill=\"#000000\" fill-rule=\"evenodd\" fill-opacity=\"1\" /><path clip-path=\"url(#clip800)\" d=\"M1197.61 27.2059 L1205.06 27.2059 L1205.06 72.576 L1197.61 72.576 L1197.61 27.2059 M1197.61 9.54393 L1205.06 9.54393 L1205.06 18.9825 L1197.61 18.9825 L1197.61 9.54393 Z\" fill=\"#000000\" fill-rule=\"evenodd\" fill-opacity=\"1\" /><path clip-path=\"url(#clip800)\" d=\"M1253.31 28.9478 L1253.31 35.9153 Q1250.15 34.1734 1246.95 33.3227 Q1243.79 32.4315 1240.55 32.4315 Q1233.29 32.4315 1229.28 37.0496 Q1225.27 41.6271 1225.27 49.9314 Q1225.27 58.2358 1229.28 62.8538 Q1233.29 67.4314 1240.55 67.4314 Q1243.79 67.4314 1246.95 66.5807 Q1250.15 65.6895 1253.31 63.9476 L1253.31 70.8341 Q1250.19 72.2924 1246.82 73.0216 Q1243.5 73.7508 1239.74 73.7508 Q1229.49 73.7508 1223.45 67.3098 Q1217.41 60.8689 1217.41 49.9314 Q1217.41 38.832 1223.49 32.472 Q1229.61 26.1121 1240.22 26.1121 Q1243.66 26.1121 1246.95 26.8413 Q1250.23 27.5299 1253.31 28.9478 Z\" fill=\"#000000\" fill-rule=\"evenodd\" fill-opacity=\"1\" /><path clip-path=\"url(#clip800)\" d=\"M1266.27 27.2059 L1273.72 27.2059 L1273.72 72.576 L1266.27 72.576 L1266.27 27.2059 M1266.27 9.54393 L1273.72 9.54393 L1273.72 18.9825 L1266.27 18.9825 L1266.27 9.54393 Z\" fill=\"#000000\" fill-rule=\"evenodd\" fill-opacity=\"1\" /><path clip-path=\"url(#clip800)\" d=\"M1328.13 48.0275 L1328.13 51.6733 L1293.86 51.6733 Q1294.34 59.3701 1298.47 63.421 Q1302.65 67.4314 1310.06 67.4314 Q1314.35 67.4314 1318.36 66.3781 Q1322.41 65.3249 1326.38 63.2184 L1326.38 70.267 Q1322.37 71.9684 1318.16 72.8596 Q1313.95 73.7508 1309.61 73.7508 Q1298.76 73.7508 1292.4 67.4314 Q1286.08 61.1119 1286.08 50.3365 Q1286.08 39.1965 1292.07 32.6746 Q1298.11 26.1121 1308.32 26.1121 Q1317.47 26.1121 1322.78 32.0264 Q1328.13 37.9003 1328.13 48.0275 M1320.67 45.84 Q1320.59 39.7232 1317.23 36.0774 Q1313.91 32.4315 1308.4 32.4315 Q1302.16 32.4315 1298.39 35.9558 Q1294.67 39.4801 1294.1 45.8805 L1320.67 45.84 Z\" fill=\"#000000\" fill-rule=\"evenodd\" fill-opacity=\"1\" /><path clip-path=\"url(#clip800)\" d=\"M1378.07 45.1919 L1378.07 72.576 L1370.62 72.576 L1370.62 45.4349 Q1370.62 38.994 1368.11 35.7938 Q1365.6 32.5936 1360.57 32.5936 Q1354.54 32.5936 1351.05 36.4419 Q1347.57 40.2903 1347.57 46.9338 L1347.57 72.576 L1340.08 72.576 L1340.08 27.2059 L1347.57 27.2059 L1347.57 34.2544 Q1350.24 30.163 1353.85 28.1376 Q1357.49 26.1121 1362.23 26.1121 Q1370.05 26.1121 1374.06 30.9732 Q1378.07 35.7938 1378.07 45.1919 Z\" fill=\"#000000\" fill-rule=\"evenodd\" fill-opacity=\"1\" /><path clip-path=\"url(#clip800)\" d=\"M1400.31 14.324 L1400.31 27.2059 L1415.67 27.2059 L1415.67 32.9987 L1400.31 32.9987 L1400.31 57.6282 Q1400.31 63.1779 1401.81 64.7578 Q1403.35 66.3376 1408.01 66.3376 L1415.67 66.3376 L1415.67 72.576 L1408.01 72.576 Q1399.38 72.576 1396.1 69.3758 Q1392.82 66.1351 1392.82 57.6282 L1392.82 32.9987 L1387.35 32.9987 L1387.35 27.2059 L1392.82 27.2059 L1392.82 14.324 L1400.31 14.324 Z\" fill=\"#000000\" fill-rule=\"evenodd\" fill-opacity=\"1\" /><path clip-path=\"url(#clip800)\" d=\"M1459.05 65.7705 L1459.05 89.8329 L1451.56 89.8329 L1451.56 27.2059 L1459.05 27.2059 L1459.05 34.0924 Q1461.4 30.0415 1464.97 28.0971 Q1468.57 26.1121 1473.55 26.1121 Q1481.82 26.1121 1486.96 32.6746 Q1492.15 39.2371 1492.15 49.9314 Q1492.15 60.6258 1486.96 67.1883 Q1481.82 73.7508 1473.55 73.7508 Q1468.57 73.7508 1464.97 71.8063 Q1461.4 69.8214 1459.05 65.7705 M1484.41 49.9314 Q1484.41 41.7081 1481.01 37.0496 Q1477.64 32.3505 1471.73 32.3505 Q1465.82 32.3505 1462.41 37.0496 Q1459.05 41.7081 1459.05 49.9314 Q1459.05 58.1548 1462.41 62.8538 Q1465.82 67.5124 1471.73 67.5124 Q1477.64 67.5124 1481.01 62.8538 Q1484.41 58.1548 1484.41 49.9314 Z\" fill=\"#000000\" fill-rule=\"evenodd\" fill-opacity=\"1\" /><path clip-path=\"url(#clip800)\" d=\"M1504.5 9.54393 L1511.96 9.54393 L1511.96 72.576 L1504.5 72.576 L1504.5 9.54393 Z\" fill=\"#000000\" fill-rule=\"evenodd\" fill-opacity=\"1\" /><path clip-path=\"url(#clip800)\" d=\"M1545.13 32.4315 Q1539.14 32.4315 1535.65 37.1306 Q1532.17 41.7891 1532.17 49.9314 Q1532.17 58.0738 1535.61 62.7728 Q1539.1 67.4314 1545.13 67.4314 Q1551.09 67.4314 1554.57 62.7323 Q1558.06 58.0333 1558.06 49.9314 Q1558.06 41.8701 1554.57 37.1711 Q1551.09 32.4315 1545.13 32.4315 M1545.13 26.1121 Q1554.85 26.1121 1560.4 32.4315 Q1565.95 38.7509 1565.95 49.9314 Q1565.95 61.0714 1560.4 67.4314 Q1554.85 73.7508 1545.13 73.7508 Q1535.37 73.7508 1529.82 67.4314 Q1524.31 61.0714 1524.31 49.9314 Q1524.31 38.7509 1529.82 32.4315 Q1535.37 26.1121 1545.13 26.1121 Z\" fill=\"#000000\" fill-rule=\"evenodd\" fill-opacity=\"1\" /><path clip-path=\"url(#clip800)\" d=\"M1585.68 14.324 L1585.68 27.2059 L1601.04 27.2059 L1601.04 32.9987 L1585.68 32.9987 L1585.68 57.6282 Q1585.68 63.1779 1587.18 64.7578 Q1588.72 66.3376 1593.38 66.3376 L1601.04 66.3376 L1601.04 72.576 L1593.38 72.576 Q1584.75 72.576 1581.47 69.3758 Q1578.19 66.1351 1578.19 57.6282 L1578.19 32.9987 L1572.72 32.9987 L1572.72 27.2059 L1578.19 27.2059 L1578.19 14.324 L1585.68 14.324 Z\" fill=\"#000000\" fill-rule=\"evenodd\" fill-opacity=\"1\" /><polyline clip-path=\"url(#clip802)\" style=\"stroke:#000000; stroke-linecap:butt; stroke-linejoin:round; stroke-width:4; stroke-opacity:1; fill:none\" points=\"\n",
       "  284.815,1231.67 284.815,162.047 \n",
       "  \"/>\n",
       "<polyline clip-path=\"url(#clip802)\" style=\"stroke:#000000; stroke-linecap:butt; stroke-linejoin:round; stroke-width:4; stroke-opacity:1; fill:none\" points=\"\n",
       "  1288.67,1447.87 1288.67,834.289 \n",
       "  \"/>\n",
       "<polyline clip-path=\"url(#clip802)\" style=\"stroke:#000000; stroke-linecap:butt; stroke-linejoin:round; stroke-width:4; stroke-opacity:1; fill:none\" points=\"\n",
       "  2292.52,1313.97 2292.52,818.027 \n",
       "  \"/>\n",
       "<line clip-path=\"url(#clip802)\" x1=\"300.815\" y1=\"1231.67\" x2=\"268.815\" y2=\"1231.67\" style=\"stroke:#000000; stroke-width:3.2; stroke-opacity:1\"/>\n",
       "<line clip-path=\"url(#clip802)\" x1=\"300.815\" y1=\"162.047\" x2=\"268.815\" y2=\"162.047\" style=\"stroke:#000000; stroke-width:3.2; stroke-opacity:1\"/>\n",
       "<line clip-path=\"url(#clip802)\" x1=\"1304.67\" y1=\"1447.87\" x2=\"1272.67\" y2=\"1447.87\" style=\"stroke:#000000; stroke-width:3.2; stroke-opacity:1\"/>\n",
       "<line clip-path=\"url(#clip802)\" x1=\"1304.67\" y1=\"834.289\" x2=\"1272.67\" y2=\"834.289\" style=\"stroke:#000000; stroke-width:3.2; stroke-opacity:1\"/>\n",
       "<line clip-path=\"url(#clip802)\" x1=\"2308.52\" y1=\"1313.97\" x2=\"2276.52\" y2=\"1313.97\" style=\"stroke:#000000; stroke-width:3.2; stroke-opacity:1\"/>\n",
       "<line clip-path=\"url(#clip802)\" x1=\"2308.52\" y1=\"818.027\" x2=\"2276.52\" y2=\"818.027\" style=\"stroke:#000000; stroke-width:3.2; stroke-opacity:1\"/>\n",
       "<circle clip-path=\"url(#clip802)\" cx=\"284.815\" cy=\"696.858\" r=\"14\" fill=\"#009af9\" fill-rule=\"evenodd\" fill-opacity=\"1\" stroke=\"#000000\" stroke-opacity=\"1\" stroke-width=\"3.2\"/>\n",
       "<circle clip-path=\"url(#clip802)\" cx=\"1288.67\" cy=\"1141.08\" r=\"14\" fill=\"#009af9\" fill-rule=\"evenodd\" fill-opacity=\"1\" stroke=\"#000000\" stroke-opacity=\"1\" stroke-width=\"3.2\"/>\n",
       "<circle clip-path=\"url(#clip802)\" cx=\"2292.52\" cy=\"1066\" r=\"14\" fill=\"#009af9\" fill-rule=\"evenodd\" fill-opacity=\"1\" stroke=\"#000000\" stroke-opacity=\"1\" stroke-width=\"3.2\"/>\n",
       "</svg>\n"
      ]
     },
     "execution_count": 70,
     "metadata": {},
     "output_type": "execute_result"
    }
   ],
   "source": [
    "Plots.scatter(labels, coeff, legend = false, yerror = 1.96 .* std, title = \"Coefficient plot\")"
   ]
  },
  {
   "cell_type": "markdown",
   "metadata": {},
   "source": [
    "# <span style=\"color:blue\">Neyman Orthogonality Proof</span> "
   ]
  },
  {
   "cell_type": "markdown",
   "metadata": {},
   "source": [
    "Suppose that we have the following model:\n",
    "\n",
    "$$ Y = \\alpha D + \\beta^{'} W + \\epsilon$$\n",
    "\n",
    "And we make a partialling out procedure:\n",
    "\n",
    "$$\\tilde{Y} = Y - \\gamma_{YW} W $$\n",
    "\n",
    "$$\\tilde{D} = D - \\gamma_{DW} W$$\n",
    "\n",
    "$$\\tilde{Y} = \\alpha \\tilde{D} + \\epsilon$$\n",
    "\n",
    "Note that as $\\alpha$ is a function of $\\tilde{D} , \\tilde{Y}$ it will also be a function of $\\gamma_{YW} , \\gamma_{DW}$. In other words:\n",
    "\n",
    "$$\\eta^0 = (\\gamma_{YW} , \\gamma_{DW})$$\n",
    "\n",
    "$$\\alpha = \\alpha (\\eta^0)$$\n",
    "\n",
    "However, we may only be able to estimate these parameters to a certain degree of precision. \n",
    "\n",
    "$$\\eta = (\\eta_1,\\eta_2) = (\\widehat{\\gamma_{YW}} , \\widehat{\\gamma_{DW}})$$\n",
    "\n",
    "$$\\alpha = \\alpha (\\eta)$$\n",
    "\n",
    "In this regard, the main idea of double Lasso is that $\\alpha$ is locally insensitive (i.e. first-order insensitive) to perturbations on the nuisance parameters ($\\eta$) around their true values. That is:\n",
    "\n",
    "$$\\frac{\\partial \\alpha(\\eta^0)}{\\partial \\eta} = 0$$\n",
    "\n",
    "To prove this, consider the following identity, which is true under the assumptions from the Classical Linear Regression Model:\n",
    "\n",
    "$$ M (a,\\eta) = E \\left[\\left(\\tilde{Y}(\\eta_1)-a\\tilde{D}(\\eta_2)\\right)\\tilde{D}(\\eta_2)\\right] = 0$$\n",
    "\n",
    "**By the implicit function theorem** this last expression turns to\n",
    "\n",
    "$$ \\frac{\\partial M(\\alpha, \\eta^0)}{\\partial a} da + \\frac{\\partial M(\\alpha, \\eta^0)}{\\partial \\eta} d\\eta= 0$$\n",
    "\n",
    "$$\\frac{da}{d\\eta} = - \\frac{\\frac{\\partial M(\\alpha, \\eta^0)}{\\partial \\eta}}{\\frac{\\partial M(\\alpha, \\eta^0)}{\\partial a}}$$\n",
    "\n",
    "If we examine the numerator, it is possible to make explicit the partial derivative\n",
    "\n",
    "$$\\frac{\\partial M(\\alpha, \\eta^0)}{\\partial \\eta} = \\frac{\\partial M(\\alpha, \\eta^0)}{\\partial \\eta_1} + \\frac{\\partial M(\\alpha, \\eta^0)}{\\partial \\eta_2} $$\n",
    "\n",
    "$$\\frac{\\partial M(\\alpha, \\eta^0)}{\\partial \\eta} = E\\left[-W \\tilde{D}(\\eta_2)\\right] + E\\left[-W \\tilde{Y}(\\eta_1) + 2a\\left(W \\tilde{D}(\\eta_2)\\right)\\right] $$\n",
    "\n",
    "$$\\frac{\\partial M(\\alpha, \\eta^0)}{\\partial \\eta} = -E\\left[W (D - \\gamma_{DW} W)\\right] -E\\left[W(Y - \\gamma_{YW}W)\\right] + 2\\alpha E\\left[W(D-\\gamma_{DW}W)\\right]$$\n",
    "\n",
    "$$\\frac{\\partial M(\\alpha, \\eta^0)}{\\partial \\eta} = -E\\left[WD - W\\gamma_{DW} W)\\right] -E\\left[WY - W\\gamma_{YW}W)\\right] + 2\\alpha E\\left[WD-W\\gamma_{DW}W)\\right]$$\n",
    "\n",
    "Now recall that:\n",
    "\n",
    "$$\\gamma_{DW} = (W'W)^{-1}W'D$$\n",
    "\n",
    "$$\\gamma_{YW} = (W'W)^{-1}W'Y$$\n",
    "\n",
    "Then:\n",
    "\n",
    "$$\\frac{\\partial M(\\alpha, \\eta^0)}{\\partial \\eta} = -E\\left[WD - W \\left[(W'W)^{-1}W'D\\right] W)\\right] -E\\left[WY - W\\left[(W'W)^{-1}W'Y\\right]W)\\right] + 2\\alpha E\\left[WD-W\\left[(W'W)^{-1}W'D\\right]W)\\right]$$\n",
    "\n",
    "$$\\frac{\\partial M(\\alpha, \\eta^0)}{\\partial \\eta} = -E\\left[WD - WD\\right] -E\\left[WY - WY\\right] + 2\\alpha E\\left[WD-WD\\right] $$ \n",
    "\n",
    "$$\\frac{\\partial M(\\alpha, \\eta^0)}{\\partial \\eta} = 0 $$\n",
    "\n",
    "\n",
    "\n",
    "\n",
    "\n",
    "\n",
    "\n",
    "\n",
    "\n"
   ]
  },
  {
   "cell_type": "markdown",
   "metadata": {},
   "source": [
    "We have the following linear regression:\n",
    "\n",
    "$$Y = \\alpha D + \\beta W' + \\epsilon$$\n",
    "\n",
    "Where: $\\alpha$ is the target paramter, $\\gamma_{DW}'$ is the estimator of lasso regression D on W and $\\gamma_{YW}'$ is the estimator of lasso regression Y on W. On the other hand, $\\tilde{Y}$ and $\\tilde{D}$ are residuals from the estimation:\n",
    "\n",
    "$$\\tilde{Y} = Y-\\gamma_{YW}'W$$\n",
    "\n",
    "$$\\tilde{D} = D- \\gamma_{DW}'W$$\n",
    "\n",
    "Then, we get the vector $\\eta^{0}$ with true values:\n",
    "$$\\eta^{0} = (\\gamma_{DW}',\\gamma_{YW}')'$$\n",
    "\n",
    "In this case, $\\alpha$ is a function of $\\eta$, so $\\alpha=\\alpha(\\eta)$ and $\\eta=(\\eta_{1}',\\eta_{2}')$\n",
    "\n",
    "We want to demonstrate that, in first orden, $\\alpha$ is insensitive to local perturbations around the true value $\\eta^{0}$.\n",
    "\n",
    "$$D = \\dfrac {\\partial \\alpha(\\eta^{0})}{\\partial \\eta}=0$$\n",
    "\n",
    "Let's propose:\n",
    "$$\\tilde{Y} = a \\tilde{D} + \\mu$$\n",
    "\n",
    "where $\\alpha=\\arg\\min_{a \\in \\mathbb R}E(\\tilde{Y}-a\\tilde{D})^2$. $\\alpha$ is the true value of $a$, since $a=\\alpha$ solves the equation:\n",
    "\n",
    "$$E(\\tilde{Y}-a\\tilde{D})\\tilde{D}=0$$\n",
    "\n",
    "Based on the following condition (equation number 1):\n",
    "\n",
    "$$M(a,\\eta)=E[(\\tilde{Y}(\\eta_{1})-a\\tilde{D}(\\eta_{2}))\\tilde{D}(\\eta_{2})]$$\n",
    "\n",
    "Where: $\\tilde{Y}(\\eta_{1})=Y-\\eta_{1}'W$ and $\\tilde{D}(\\eta_{2})=D-\\eta_{2}'W$.\n",
    "\n",
    "Corresponding to the true values $\\eta=\\eta^{0}$:\n",
    "\n",
    "$$\\tilde{Y}=Y-\\gamma_{YW}'W ; \\tilde{D}=D-\\gamma_{DW}'W$$\n",
    "\n",
    "By the implicit function theorem:\n",
    "\n",
    "$$\\dfrac {\\partial a}{\\partial \\eta}=-\\partial_{a}M(\\alpha,\\eta^{0})^{-1}\\partial_{\\eta}M(\\alpha,\\eta^{0})$$\n",
    "\n",
    "Remember that we want to demonstrate $\\dfrac {\\partial \\alpha(\\eta^{0})}{\\partial \\eta}=0$\n",
    "\n",
    "As we observe, the first component $\\partial_{a}M(\\alpha,\\eta^{0})$ can not be zero, so to get what we want, $\\partial_{\\eta}M(\\alpha,\\eta^{0})$ must be zero.\n",
    "\n",
    "The second componet is:\n",
    "\n",
    "$$\\dfrac {\\partial M(\\alpha,\\eta^{0})}{\\partial \\eta}=\\dfrac {\\partial M(\\alpha,\\eta^{0})}{\\partial \\eta_{1}}+\\dfrac {\\partial M(\\alpha,\\eta^{0})}{\\partial \\eta_{2}}$$\n",
    "\n",
    "Solving:\n",
    "\n",
    "$$\\dfrac {\\partial M(\\alpha,\\eta^{0})}{\\partial \\eta_{1}}=E[\\dfrac {\\partial \\tilde{Y}(\\eta_{1})}{\\partial \\eta_{1}}\\tilde{D}] $$\n",
    "\n",
    "As we know: $\\tilde{Y} = Y-\\eta_{1}'W$\n",
    "\n",
    "$$\\dfrac {\\partial \\tilde{Y}}{\\partial \\eta_{1}}=-W $$\n",
    "\n",
    "Then:\n",
    "\n",
    "$$\\dfrac {\\partial M(\\alpha,\\eta^{0})}{\\partial \\eta_{1}}=E[-W\\tilde{D}]=0$$\n",
    "\n",
    "Now:\n",
    "\n",
    "$$\\dfrac {\\partial M(\\alpha,\\eta^{0})}{\\partial \\eta_{2}}=E[(-a\\dfrac {\\partial \\tilde{D}(\\eta_{2})}{\\partial \\eta_{2}})\\tilde{D} + \\dfrac {\\partial \\tilde{D}(\\eta_{2})}{\\partial \\eta_{2}}(\\tilde{Y}-a\\tilde{D})] $$\n",
    "\n",
    "As we know: $\\tilde{D} = D-\\eta_{2}'W$\n",
    "\n",
    "$$\\dfrac {\\partial \\tilde{D}}{\\partial \\eta_{2}}=-W $$\n",
    "\n",
    "Then:\n",
    "\n",
    "$$\\dfrac {\\partial M(\\alpha,\\eta^{0})}{\\partial \\eta_{2}}=E[-a(-W)\\tilde{D}+(-W)(\\tilde{Y}-a\\tilde{D})] $$\n",
    "\n",
    "$$\\dfrac {\\partial M(\\alpha,\\eta^{0})}{\\partial \\eta_{2}}=-E(W\\tilde{Y})+2E(\\alpha W\\tilde{D})=0 $$\n",
    "\n",
    "Thus, we have shown that is true that $\\dfrac {\\partial M}{\\partial \\eta_{1}}=0$ and $\\dfrac {\\partial M}{\\partial \\eta_{2}}=0$. It means that $\\dfrac {\\partial \\alpha(\\eta^{0})}{\\partial \\eta}=0$."
   ]
  },
  {
   "cell_type": "code",
   "execution_count": null,
   "metadata": {},
   "outputs": [],
   "source": []
  },
  {
   "cell_type": "code",
   "execution_count": null,
   "metadata": {},
   "outputs": [],
   "source": []
  },
  {
   "cell_type": "code",
   "execution_count": null,
   "metadata": {},
   "outputs": [],
   "source": []
  }
 ],
 "metadata": {
  "@webio": {
   "lastCommId": "e4f97ada3f934c7c83e2728ed0bf78d4",
   "lastKernelId": "7cd6ef20-5d80-46e9-b014-7359a041f383"
  },
  "kernelspec": {
   "display_name": "Julia 1.6.6",
   "language": "julia",
   "name": "julia-1.6"
  },
  "language_info": {
   "file_extension": ".jl",
   "mimetype": "application/julia",
   "name": "julia",
   "version": "1.6.6"
  }
 },
 "nbformat": 4,
 "nbformat_minor": 4
}
