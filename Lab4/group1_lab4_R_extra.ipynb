{
 "cells": [
  {
   "cell_type": "markdown",
   "id": "3686ad67",
   "metadata": {},
   "source": [
    "## Workgroup 4: extra\n",
    "#### Group: 1\n",
    "#### Members:\n",
    "- Juan José Tang\n",
    "- Ursula Cotrina\n",
    "- Victoria Olivera"
   ]
  },
  {
   "cell_type": "code",
   "execution_count": 1,
   "id": "3e74a2cd",
   "metadata": {},
   "outputs": [
    {
     "name": "stderr",
     "output_type": "stream",
     "text": [
      "Warning message:\n",
      "\"package 'lmtest' was built under R version 3.6.3\"Loading required package: zoo\n",
      "\n",
      "Attaching package: 'zoo'\n",
      "\n",
      "The following objects are masked from 'package:base':\n",
      "\n",
      "    as.Date, as.Date.numeric\n",
      "\n",
      "Warning message:\n",
      "\"package 'glmnet' was built under R version 3.6.3\"Loading required package: Matrix\n",
      "Loaded glmnet 4.1-1\n"
     ]
    }
   ],
   "source": [
    "#install.packages( \"glmnet\" )\n",
    "#install.packages( \"lmtest\" )\n",
    "#install.packages( \"sandwich\" )\n",
    "#install.packages(\"tidyverse\")\n",
    "#install.packages(\"cli\")\n",
    "#install.packages(\"haven\")\n",
    "#install.packages(\"estimatr\")\n",
    "#install.packages(\"stargazer\")\n",
    "library(lmtest)\n",
    "library(sandwich)\n",
    "library(glmnet)"
   ]
  },
  {
   "cell_type": "code",
   "execution_count": 2,
   "id": "00e18b11",
   "metadata": {},
   "outputs": [
    {
     "name": "stderr",
     "output_type": "stream",
     "text": [
      "Warning message:\n",
      "\"package 'haven' was built under R version 3.6.3\"Warning message:\n",
      "\"package 'tidyverse' was built under R version 3.6.3\""
     ]
    },
    {
     "ename": "ERROR",
     "evalue": "Error: package or namespace load failed for 'tidyverse' in loadNamespace(j <- i[[1L]], c(lib.loc, .libPaths()), versionCheck = vI[[j]]):\n namespace 'broom' 0.5.2 is being loaded, but >= 0.7.6 is required\n",
     "output_type": "error",
     "traceback": [
      "Error: package or namespace load failed for 'tidyverse' in loadNamespace(j <- i[[1L]], c(lib.loc, .libPaths()), versionCheck = vI[[j]]):\n namespace 'broom' 0.5.2 is being loaded, but >= 0.7.6 is required\nTraceback:\n",
      "1. library(tidyverse)",
      "2. tryCatch({\n .     attr(package, \"LibPath\") <- which.lib.loc\n .     ns <- loadNamespace(package, lib.loc)\n .     env <- attachNamespace(ns, pos = pos, deps, exclude, include.only)\n . }, error = function(e) {\n .     P <- if (!is.null(cc <- conditionCall(e))) \n .         paste(\" in\", deparse(cc)[1L])\n .     else \"\"\n .     msg <- gettextf(\"package or namespace load failed for %s%s:\\n %s\", \n .         sQuote(package), P, conditionMessage(e))\n .     if (logical.return) \n .         message(paste(\"Error:\", msg), domain = NA)\n .     else stop(msg, call. = FALSE, domain = NA)\n . })",
      "3. tryCatchList(expr, classes, parentenv, handlers)",
      "4. tryCatchOne(expr, names, parentenv, handlers[[1L]])",
      "5. value[[3L]](cond)",
      "6. stop(msg, call. = FALSE, domain = NA)"
     ]
    }
   ],
   "source": [
    "library(haven)\n",
    "library(tidyverse)\n",
    "library(estimatr)\n",
    "library(stargazer)\n",
    "library(cli)\n"
   ]
  },
  {
   "cell_type": "markdown",
   "id": "a0dff94a",
   "metadata": {},
   "source": [
    "## Good and Bad Controls"
   ]
  },
  {
   "cell_type": "code",
   "execution_count": 3,
   "id": "31b2b1e5",
   "metadata": {},
   "outputs": [
    {
     "name": "stderr",
     "output_type": "stream",
     "text": [
      "Warning message:\n",
      "\"package 'dagitty' was built under R version 3.6.3\"This is lavaan 0.6-11\n",
      "lavaan is FREE software! Please report any bugs.\n"
     ]
    }
   ],
   "source": [
    "#install.packages(\"dagitty\")\n",
    "#install.packages(\"lavaan\")\n",
    "library(dagitty)\n",
    "library(lavaan)"
   ]
  },
  {
   "cell_type": "code",
   "execution_count": 4,
   "id": "8e706b84",
   "metadata": {},
   "outputs": [
    {
     "name": "stderr",
     "output_type": "stream",
     "text": [
      "Warning message:\n",
      "\"package 'tibble' was built under R version 3.6.3\""
     ]
    }
   ],
   "source": [
    "#install.packages(\"tibble\")\n",
    "library(tibble)"
   ]
  },
  {
   "cell_type": "markdown",
   "id": "c62b426e",
   "metadata": {},
   "source": [
    "### Model 1 :  Good Controls (blocking back-door paths)\n"
   ]
  },
  {
   "cell_type": "markdown",
   "id": "b6ceee66",
   "metadata": {},
   "source": [
    "In this model, the variable Z acts as a confounder of X and Y. In this regard, if we want to estimate the effects of X on Y that are not caused by changes in Z, we **must** control for Z. In this short example we introduce this reasoning in a Directed Acyclical Graph."
   ]
  },
  {
   "cell_type": "code",
   "execution_count": 23,
   "id": "274d845b",
   "metadata": {},
   "outputs": [
    {
     "data": {
      "image/png": "[encoded data removed]",
      "text/plain": [
       "plot without title"
      ]
     },
     "metadata": {},
     "output_type": "display_data"
    }
   ],
   "source": [
    "g <- dagitty(\"dag {\n",
    "    X <- Z -> Y\n",
    "    X -> Y\n",
    "}\")\n",
    "coordinates(g) <- list(\n",
    "    x=c(X=1,Z=1.5,Y=2),\n",
    "    y=c(X=1,Z=0,Y=1) )\n",
    "\n",
    "plot(g)\n"
   ]
  },
  {
   "cell_type": "code",
   "execution_count": 24,
   "id": "bbbbe812",
   "metadata": {},
   "outputs": [],
   "source": [
    "# Generating random numbers\n",
    "set.seed(1)\n",
    "n <- 1000   \n",
    "Z <- rnorm(1000)\n",
    "X <- 4*Z + rnorm(1000)\n",
    "Y <- X + 3*Z + rnorm(1000)\n",
    "\n",
    "# Create a dataframe\n",
    "d <- data.frame(X=X,Y=Y,Z=Z)"
   ]
  },
  {
   "cell_type": "code",
   "execution_count": 13,
   "id": "40cc3db2",
   "metadata": {},
   "outputs": [],
   "source": [
    "library(\"stargazer\")"
   ]
  },
  {
   "cell_type": "code",
   "execution_count": 26,
   "id": "5364fdf7",
   "metadata": {},
   "outputs": [
    {
     "name": "stdout",
     "output_type": "stream",
     "text": [
      "\n",
      "===========================================================================\n",
      "                                      Dependent variable:                  \n",
      "                    -------------------------------------------------------\n",
      "                                               Y                           \n",
      "                             NoControl                 UsingControl        \n",
      "                                (1)                         (2)            \n",
      "---------------------------------------------------------------------------\n",
      "X                            1.717***                    1.022***          \n",
      "                              (0.009)                     (0.031)          \n",
      "                                                                           \n",
      "Z                                                        2.961***          \n",
      "                                                          (0.130)          \n",
      "                                                                           \n",
      "Constant                       0.025                       0.016           \n",
      "                              (0.040)                     (0.033)          \n",
      "                                                                           \n",
      "---------------------------------------------------------------------------\n",
      "Observations                   1,000                       1,000           \n",
      "R2                             0.971                       0.981           \n",
      "Adjusted R2                    0.971                       0.981           \n",
      "Residual Std. Error      1.272 (df = 998)            1.031 (df = 997)      \n",
      "F Statistic         33,286.210*** (df = 1; 998) 25,604.630*** (df = 2; 997)\n",
      "===========================================================================\n",
      "Note:                                           *p<0.1; **p<0.05; ***p<0.01\n"
     ]
    }
   ],
   "source": [
    "# Regressions\n",
    "lm_1 <- lm(Y ~ X, d)\n",
    "lm_2 <- lm(Y ~ X + Z, d)\n",
    "stargazer(lm_1, lm_2, \n",
    "          type = \"text\", \n",
    "          column.labels = c(\"NoControl\", \"UsingControl\")\n",
    ")"
   ]
  },
  {
   "cell_type": "markdown",
   "id": "7ea34303",
   "metadata": {},
   "source": [
    "We can see that, although the real marginal effect of X on Y is 1, if we do not control for Z, we get a biased estimator, due to a spurious correlation."
   ]
  },
  {
   "cell_type": "markdown",
   "id": "bed0e853",
   "metadata": {},
   "source": [
    "### Model 2:  Good Controls (blocking back-door paths)\n"
   ]
  },
  {
   "cell_type": "markdown",
   "id": "ad21597f",
   "metadata": {},
   "source": [
    "Now let's think of a similar case, but this time the *confounder* is a non-observable variable. Nevertheless, controlling for Z blocks the backdoor path from this unobservable to X, leading to a unbiased estimator for the marginal effect of X on Y."
   ]
  },
  {
   "cell_type": "code",
   "execution_count": 27,
   "id": "4e72cd5c",
   "metadata": {},
   "outputs": [
    {
     "data": {
      "image/png": "[encoded data removed]",
      "text/plain": [
       "plot without title"
      ]
     },
     "metadata": {},
     "output_type": "display_data"
    }
   ],
   "source": [
    "g <- dagitty(\"dag {\n",
    "    X <- Z <- U -> Y\n",
    "    X -> Y\n",
    "}\")\n",
    "coordinates(g) <- list(\n",
    "    x=c(X=1,Z=2,U=3,Y=4),\n",
    "    y=c(X=2,Z=1,U=0,Y=2) )\n",
    "\n",
    "plot(g)\n"
   ]
  },
  {
   "cell_type": "code",
   "execution_count": 28,
   "id": "cb7ab1ed",
   "metadata": {},
   "outputs": [],
   "source": [
    "set.seed(1)\n",
    "n <- 1000   \n",
    "U <- rnorm(1000)\n",
    "Z <- 2*U + rnorm(1000)\n",
    "X <- 4*Z + rnorm(1000)\n",
    "Y <- X + 3*U + rnorm(1000)\n",
    "\n",
    "# Create a dataframe\n",
    "d <- tibble(X=X,Y=Y,Z=Z,U=U)"
   ]
  },
  {
   "cell_type": "code",
   "execution_count": 29,
   "id": "0d5b0776",
   "metadata": {},
   "outputs": [
    {
     "name": "stdout",
     "output_type": "stream",
     "text": [
      "\n",
      "===========================================================================\n",
      "                                      Dependent variable:                  \n",
      "                    -------------------------------------------------------\n",
      "                                               Y                           \n",
      "                             NoControl                 UsingControl        \n",
      "                                (1)                         (2)            \n",
      "---------------------------------------------------------------------------\n",
      "X                            1.297***                    1.012***          \n",
      "                              (0.006)                     (0.053)          \n",
      "                                                                           \n",
      "Z                                                        1.158***          \n",
      "                                                          (0.216)          \n",
      "                                                                           \n",
      "Constant                       0.024                       0.029           \n",
      "                              (0.056)                     (0.055)          \n",
      "                                                                           \n",
      "---------------------------------------------------------------------------\n",
      "Observations                   1,000                       1,000           \n",
      "R2                             0.980                       0.980           \n",
      "Adjusted R2                    0.980                       0.980           \n",
      "Residual Std. Error      1.758 (df = 998)            1.734 (df = 997)      \n",
      "F Statistic         48,031.140*** (df = 1; 998) 24,699.570*** (df = 2; 997)\n",
      "===========================================================================\n",
      "Note:                                           *p<0.1; **p<0.05; ***p<0.01\n"
     ]
    }
   ],
   "source": [
    "lm_1 <- lm(Y ~ X, d)\n",
    "lm_2 <- lm(Y ~ X + Z, d)\n",
    "stargazer(lm_1, lm_2, \n",
    "          type = \"text\", \n",
    "          column.labels = c(\"NoControl\", \"UsingControl\")\n",
    "          )"
   ]
  },
  {
   "cell_type": "markdown",
   "id": "94269386",
   "metadata": {},
   "source": [
    "We can see that, although the real marginal effect of X on Y is 1, if we do not control for Z, we get a biased estimator, due to a spurious correlation."
   ]
  },
  {
   "cell_type": "markdown",
   "id": "835089a3",
   "metadata": {},
   "source": [
    "### Model 3:  Good Controls (blocking back-door paths)\n"
   ]
  },
  {
   "cell_type": "markdown",
   "id": "8bf049c1",
   "metadata": {},
   "source": [
    "A final example of a good control is presented in the figure below. Here, as before, we have an unobservable confounder, which affects both X and Z. In this case, although Z does not have an influence on X,controlling for Z would block the backdoor path from the unobserved to Z and Y."
   ]
  },
  {
   "cell_type": "code",
   "execution_count": 30,
   "id": "d48bf9bd",
   "metadata": {},
   "outputs": [
    {
     "data": {
      "image/png": "[encoded data removed]",
      "text/plain": [
       "plot without title"
      ]
     },
     "metadata": {},
     "output_type": "display_data"
    }
   ],
   "source": [
    "g <- dagitty(\"dag {\n",
    "    X <- U -> Z -> Y \n",
    "    X -> Y\n",
    "}\")\n",
    "coordinates(g) <- list(\n",
    "    x=c(X=1,Z=3,U=2,Y=4),\n",
    "    y=c(X=2,Z=1,U=0,Y=2) )\n",
    "\n",
    "plot(g)\n"
   ]
  },
  {
   "cell_type": "code",
   "execution_count": 31,
   "id": "4092b130",
   "metadata": {},
   "outputs": [],
   "source": [
    "set.seed(1)\n",
    "n <- 1000   \n",
    "U <- rnorm(1000)\n",
    "Z <- 2*U + rnorm(1000)\n",
    "X <- 4*U + rnorm(1000)\n",
    "Y <- X + 3*Z + rnorm(1000)\n",
    "\n",
    "# Create a dataframe\n",
    "d <- data.frame(X=X,Y=Y,Z=Z,U=U)"
   ]
  },
  {
   "cell_type": "code",
   "execution_count": 33,
   "id": "bb6f5599",
   "metadata": {},
   "outputs": [
    {
     "name": "stdout",
     "output_type": "stream",
     "text": [
      "\n",
      "==========================================================================\n",
      "                                     Dependent variable:                  \n",
      "                    ------------------------------------------------------\n",
      "                                              Y                           \n",
      "                            NoControl                 UsingControl        \n",
      "                               (1)                         (2)            \n",
      "--------------------------------------------------------------------------\n",
      "X                            2.412***                   1.001***          \n",
      "                             (0.026)                     (0.015)          \n",
      "                                                                          \n",
      "Z                                                       3.011***          \n",
      "                                                         (0.029)          \n",
      "                                                                          \n",
      "Constant                      -0.058                      0.017           \n",
      "                             (0.114)                     (0.033)          \n",
      "                                                                          \n",
      "--------------------------------------------------------------------------\n",
      "Observations                  1,000                       1,000           \n",
      "R2                            0.894                       0.991           \n",
      "Adjusted R2                   0.893                       0.991           \n",
      "Residual Std. Error      3.595 (df = 998)           1.039 (df = 997)      \n",
      "F Statistic         8,373.656*** (df = 1; 998) 55,559.970*** (df = 2; 997)\n",
      "==========================================================================\n",
      "Note:                                          *p<0.1; **p<0.05; ***p<0.01\n"
     ]
    }
   ],
   "source": [
    "lm_1 <- lm(Y ~ X, d)\n",
    "lm_2 <- lm(Y ~ X + Z, d)\n",
    "stargazer(lm_1, lm_2, \n",
    "          type = \"text\", \n",
    "          column.labels = c(\"NoControl\", \"UsingControl\")\n",
    "          )"
   ]
  },
  {
   "cell_type": "markdown",
   "id": "a5bee42e",
   "metadata": {},
   "source": [
    "We can see that, although the real marginal effect of X on Y is 1, if we do not control for Z, we get a biased estimator, due to a spurious correlation."
   ]
  },
  {
   "cell_type": "markdown",
   "id": "e3205388",
   "metadata": {},
   "source": [
    "### Model 4: Good Controls (blocking back-door paths)"
   ]
  },
  {
   "cell_type": "code",
   "execution_count": 41,
   "id": "e49cb91d",
   "metadata": {},
   "outputs": [
    {
     "data": {
      "image/png": "[encoded data removed]",
      "text/plain": [
       "plot without title"
      ]
     },
     "metadata": {},
     "output_type": "display_data"
    }
   ],
   "source": [
    "g <- dagitty(\"dag {\n",
    "    X <- Z -> M -> Y \n",
    "    X -> M\n",
    "}\")\n",
    "coordinates(g) <- list(\n",
    "    x=c(X=1,Z=1.5,M=2,Y=3),\n",
    "    y=c(X=1,Z=0,M=1,Y=1) )\n",
    "\n",
    "plot(g)\n"
   ]
  },
  {
   "cell_type": "code",
   "execution_count": 42,
   "id": "c771760a",
   "metadata": {},
   "outputs": [],
   "source": [
    "set.seed(1)\n",
    "n <- 1000   \n",
    "Z <- rnorm(1000)\n",
    "X <- 2*Z + rnorm(1000)\n",
    "M <- X + 8*Z + rnorm(1000)\n",
    "Y <- M + rnorm(1000)\n",
    "\n",
    "# Create a dataframe\n",
    "d <- data.frame(X=X,Y=Y,Z=Z,M=M)"
   ]
  },
  {
   "cell_type": "code",
   "execution_count": 45,
   "id": "5029b995",
   "metadata": {},
   "outputs": [
    {
     "name": "stdout",
     "output_type": "stream",
     "text": [
      "\n",
      "======================================================================================================\n",
      "                                                   Dependent variable:                                \n",
      "                    ----------------------------------------------------------------------------------\n",
      "                                                            Y                                         \n",
      "                            NoControl                 UsingControl             ThreatsConfounding     \n",
      "                               (1)                         (2)                         (3)            \n",
      "------------------------------------------------------------------------------------------------------\n",
      "X                            4.224***                   1.037***                      0.006           \n",
      "                             (0.054)                     (0.045)                     (0.045)          \n",
      "                                                                                                      \n",
      "Z                                                       7.998***                     -0.081           \n",
      "                                                         (0.100)                     (0.265)          \n",
      "                                                                                                      \n",
      "M                                                                                   1.009***          \n",
      "                                                                                     (0.032)          \n",
      "                                                                                                      \n",
      "Constant                      0.066                       0.033                       0.017           \n",
      "                             (0.126)                     (0.047)                     (0.033)          \n",
      "                                                                                                      \n",
      "------------------------------------------------------------------------------------------------------\n",
      "Observations                  1,000                       1,000                       1,000           \n",
      "R2                            0.858                       0.981                       0.990           \n",
      "Adjusted R2                   0.858                       0.981                       0.990           \n",
      "Residual Std. Error      3.989 (df = 998)           1.470 (df = 997)            1.040 (df = 996)      \n",
      "F Statistic         6,042.009*** (df = 1; 998) 25,407.450*** (df = 2; 997) 34,205.840*** (df = 3; 996)\n",
      "======================================================================================================\n",
      "Note:                                                                      *p<0.1; **p<0.05; ***p<0.01\n"
     ]
    }
   ],
   "source": [
    "lm_1 <- lm(Y ~ X, d)\n",
    "lm_2 <- lm(Y ~ X + Z, d)\n",
    "lm_3 <- lm(Y ~ X + Z + M, d) #Threats of confounding\n",
    "stargazer(lm_1, lm_2, lm_3,\n",
    "          type = \"text\", \n",
    "          column.labels = c(\"NoControl\", \"UsingControl\", \"ThreatsConfounding\")\n",
    "          )"
   ]
  },
  {
   "cell_type": "markdown",
   "id": "f3fcffb8",
   "metadata": {},
   "source": [
    "### Model 5: Good Controls (blocking back-door paths)"
   ]
  },
  {
   "cell_type": "code",
   "execution_count": 47,
   "id": "2c4c8d09",
   "metadata": {},
   "outputs": [
    {
     "data": {
      "image/png": "[encoded data removed]",
      "text/plain": [
       "plot without title"
      ]
     },
     "metadata": {},
     "output_type": "display_data"
    }
   ],
   "source": [
    "g <- dagitty(\"dag {\n",
    "    Z <- U -> M -> Y \n",
    "    Z -> X -> M\n",
    "}\")\n",
    "coordinates(g) <- list(\n",
    "    x=c(X=1,Z=1.25,U=1.5,M=2,Y=3),\n",
    "    y=c(X=1,Z=0.5,U=0,M=1,Y=1) )\n",
    "\n",
    "plot(g)"
   ]
  },
  {
   "cell_type": "code",
   "execution_count": 48,
   "id": "dc109133",
   "metadata": {},
   "outputs": [],
   "source": [
    "set.seed(1)\n",
    "n <- 1000  \n",
    "U <- rnorm(1000)\n",
    "Z <- 3*U + rnorm(1000)\n",
    "X <- 2*Z + rnorm(1000)\n",
    "M <- X + 5*U + rnorm(1000)\n",
    "Y <- M + rnorm(1000)\n",
    "\n",
    "# Create a dataframe\n",
    "d <- data.frame(X=X,Y=Y,Z=Z,M=M, U=U)"
   ]
  },
  {
   "cell_type": "code",
   "execution_count": 49,
   "id": "fcc89af1",
   "metadata": {},
   "outputs": [
    {
     "name": "stdout",
     "output_type": "stream",
     "text": [
      "\n",
      "=======================================================================================================\n",
      "                                                    Dependent variable:                                \n",
      "                    -----------------------------------------------------------------------------------\n",
      "                                                             Y                                         \n",
      "                             NoControl                 UsingControl             ThreatsConfounding     \n",
      "                                (1)                         (2)                         (3)            \n",
      "-------------------------------------------------------------------------------------------------------\n",
      "X                            1.722***                    0.930***                     -0.062*          \n",
      "                              (0.011)                     (0.066)                     (0.034)          \n",
      "                                                                                                       \n",
      "Z                                                        1.635***                     0.145**          \n",
      "                                                          (0.135)                     (0.067)          \n",
      "                                                                                                       \n",
      "M                                                                                    0.991***          \n",
      "                                                                                      (0.016)          \n",
      "                                                                                                       \n",
      "Constant                       0.001                       0.016                      -0.019           \n",
      "                              (0.073)                     (0.068)                     (0.031)          \n",
      "                                                                                                       \n",
      "-------------------------------------------------------------------------------------------------------\n",
      "Observations                   1,000                       1,000                       1,000           \n",
      "R2                             0.961                       0.966                       0.993           \n",
      "Adjusted R2                    0.961                       0.966                       0.993           \n",
      "Residual Std. Error      2.311 (df = 998)            2.159 (df = 997)            0.988 (df = 996)      \n",
      "F Statistic         24,877.280*** (df = 1; 998) 14,316.180*** (df = 2; 997) 46,886.160*** (df = 3; 996)\n",
      "=======================================================================================================\n",
      "Note:                                                                       *p<0.1; **p<0.05; ***p<0.01\n"
     ]
    }
   ],
   "source": [
    "lm_1 <- lm(Y ~ X, d)\n",
    "lm_2 <- lm(Y ~ X + Z, d)\n",
    "lm_3 <- lm(Y ~ X + Z + M, d) #Threats of confounding\n",
    "stargazer(lm_1, lm_2, lm_3,\n",
    "          type = \"text\", \n",
    "          column.labels = c(\"NoControl\", \"UsingControl\", \"ThreatsConfounding\")\n",
    "          )"
   ]
  },
  {
   "cell_type": "markdown",
   "id": "19dac1eb",
   "metadata": {},
   "source": [
    "### Model 6: Good Controls (blocking back-door paths)"
   ]
  },
  {
   "cell_type": "code",
   "execution_count": 50,
   "id": "973f0780",
   "metadata": {},
   "outputs": [
    {
     "data": {
      "image/png": "[encoded data removed]",
      "text/plain": [
       "plot without title"
      ]
     },
     "metadata": {},
     "output_type": "display_data"
    }
   ],
   "source": [
    "g <- dagitty(\"dag {\n",
    "    X <- U -> Z -> M -> Y\n",
    "    X -> M\n",
    "}\")\n",
    "coordinates(g) <- list(\n",
    "    x=c(X=1,Z=1.5,U=1.25,M=2,Y=3),\n",
    "    y=c(X=1,Z=0.5,U=0,M=1,Y=1) )\n",
    "\n",
    "plot(g)"
   ]
  },
  {
   "cell_type": "code",
   "execution_count": 51,
   "id": "1be52470",
   "metadata": {},
   "outputs": [],
   "source": [
    "set.seed(1)\n",
    "n <- 1000  \n",
    "U <- rnorm(1000)\n",
    "Z <- 4*U + rnorm(1000)\n",
    "X <- 2*U + rnorm(1000)\n",
    "M <- X + Z + rnorm(1000)\n",
    "Y <- M + rnorm(1000)\n",
    "\n",
    "# Create a dataframe\n",
    "d <- data.frame(X=X,Y=Y,Z=Z,M=M, U=U)"
   ]
  },
  {
   "cell_type": "code",
   "execution_count": 52,
   "id": "852ed645",
   "metadata": {
    "scrolled": true
   },
   "outputs": [
    {
     "name": "stdout",
     "output_type": "stream",
     "text": [
      "\n",
      "=====================================================================================================\n",
      "                                                   Dependent variable:                               \n",
      "                    ---------------------------------------------------------------------------------\n",
      "                                                            Y                                        \n",
      "                            NoControl                 UsingControl            ThreatsConfounding     \n",
      "                               (1)                        (2)                         (3)            \n",
      "-----------------------------------------------------------------------------------------------------\n",
      "X                            2.570***                   0.939***                    -0.067*          \n",
      "                             (0.034)                    (0.040)                     (0.041)          \n",
      "                                                                                                     \n",
      "Z                                                       1.028***                     0.020           \n",
      "                                                        (0.022)                     (0.034)          \n",
      "                                                                                                     \n",
      "M                                                                                  1.003***          \n",
      "                                                                                    (0.030)          \n",
      "                                                                                                     \n",
      "Constant                      -0.054                     -0.002                     -0.019           \n",
      "                             (0.081)                    (0.045)                     (0.031)          \n",
      "                                                                                                     \n",
      "-----------------------------------------------------------------------------------------------------\n",
      "Observations                  1,000                      1,000                       1,000           \n",
      "R2                            0.848                      0.952                       0.978           \n",
      "Adjusted R2                   0.848                      0.952                       0.977           \n",
      "Residual Std. Error      2.567 (df = 998)           1.435 (df = 997)           0.988 (df = 996)      \n",
      "F Statistic         5,563.850*** (df = 1; 998) 9,993.720*** (df = 2; 997) 14,447.790*** (df = 3; 996)\n",
      "=====================================================================================================\n",
      "Note:                                                                     *p<0.1; **p<0.05; ***p<0.01\n"
     ]
    }
   ],
   "source": [
    "lm_1 <- lm(Y ~ X, d)\n",
    "lm_2 <- lm(Y ~ X + Z, d)\n",
    "lm_3 <- lm(Y ~ X + Z + M, d) #Threats of confounding\n",
    "stargazer(lm_1, lm_2, lm_3,\n",
    "          type = \"text\", \n",
    "          column.labels = c(\"NoControl\", \"UsingControl\", \"ThreatsConfounding\")\n",
    "          )"
   ]
  },
  {
   "cell_type": "markdown",
   "id": "1e91d9e5",
   "metadata": {},
   "source": [
    "Relying the last three models, when thinking about possible threats of confounding, modelers need to keep in mind\n",
    "that common causes of X and any mediator (between X and Y ) also confound the effect of X on Y . Therefore, Models 4, 5 and 6 are analogous to Models 1, 2 and 3 and controlling for\n",
    "Z blocks the back-door path from X to Y and produces an unbiased estimation."
   ]
  },
  {
   "cell_type": "markdown",
   "id": "8f5f6284",
   "metadata": {},
   "source": [
    "### Model 7:  Bad Control (M-bias)"
   ]
  },
  {
   "cell_type": "markdown",
   "id": "f86e1a3f",
   "metadata": {},
   "source": [
    "Now consider the following DAC. We should observe that Z is correlated with X,Y , as it shares common unobservable confounders. Besides, Z is a pre-treatment variable. Nevertheless, including Z in the regression of X on Y would induce bias by opening the backdoor path $ X \\leftarrow U1 \\rightarrow Z \\leftarrow U2 \\rightarrow Y$ "
   ]
  },
  {
   "cell_type": "code",
   "execution_count": 53,
   "id": "1bff8074",
   "metadata": {},
   "outputs": [
    {
     "data": {
      "image/png": "[encoded data removed]",
      "text/plain": [
       "plot without title"
      ]
     },
     "metadata": {},
     "output_type": "display_data"
    }
   ],
   "source": [
    "g <- dagitty(\"dag {\n",
    "    X <- U1 -> Z <- U2 -> Y\n",
    "    X -> Y\n",
    "}\")\n",
    "coordinates(g) <- list(\n",
    "    x=c(X=1,U1=1,Z=2,U2=3,Y=3),\n",
    "    y=c(X=1,U1=0,Z=0,U2=0,Y=1) )\n",
    "\n",
    "plot(g)"
   ]
  },
  {
   "cell_type": "code",
   "execution_count": 54,
   "id": "8e44d822",
   "metadata": {},
   "outputs": [],
   "source": [
    "set.seed(1)\n",
    "n <- 1000  \n",
    "U1 <- rnorm(1000)\n",
    "U2 <- rnorm(1000)\n",
    "Z <- 0.5*U1 + 0.3*U2 + rnorm(1000)\n",
    "X <- 2*U1 + rnorm(1000)\n",
    "Y <- X + 7*U2 + rnorm(1000)\n",
    "\n",
    "# Create a dataframe\n",
    "d <- data.frame(X=X,Y=Y,Z=Z,U1=U1, U2=U2)"
   ]
  },
  {
   "cell_type": "code",
   "execution_count": 55,
   "id": "b535bb8c",
   "metadata": {},
   "outputs": [
    {
     "name": "stdout",
     "output_type": "stream",
     "text": [
      "\n",
      "=====================================================================\n",
      "                                   Dependent variable:               \n",
      "                    -------------------------------------------------\n",
      "                                            Y                        \n",
      "                           NoControl               UsingControl      \n",
      "                              (1)                      (2)           \n",
      "---------------------------------------------------------------------\n",
      "X                           1.025***                 0.604***        \n",
      "                            (0.100)                  (0.105)         \n",
      "                                                                     \n",
      "Z                                                    1.904***        \n",
      "                                                     (0.201)         \n",
      "                                                                     \n",
      "Constant                     -0.134                   -0.145         \n",
      "                            (0.233)                  (0.223)         \n",
      "                                                                     \n",
      "---------------------------------------------------------------------\n",
      "Observations                 1,000                    1,000          \n",
      "R2                           0.096                    0.170          \n",
      "Adjusted R2                  0.095                    0.169          \n",
      "Residual Std. Error     7.360 (df = 998)         7.054 (df = 997)    \n",
      "F Statistic         105.904*** (df = 1; 998) 102.383*** (df = 2; 997)\n",
      "=====================================================================\n",
      "Note:                                     *p<0.1; **p<0.05; ***p<0.01\n"
     ]
    }
   ],
   "source": [
    "lm_1 <- lm(Y ~ X, d)\n",
    "lm_2 <- lm(Y ~ X + Z, d)\n",
    "stargazer(lm_1, lm_2, \n",
    "          type = \"text\", \n",
    "          column.labels = c(\"NoControl\", \"UsingControl\")\n",
    "          )"
   ]
  },
  {
   "cell_type": "markdown",
   "id": "0cdb7dfa",
   "metadata": {},
   "source": [
    "### Variation of Model 7"
   ]
  },
  {
   "cell_type": "markdown",
   "id": "055cf447",
   "metadata": {},
   "source": [
    "Similarly, now consider the following DAC. We should observe that Z is correlated with X,Y , as it shares common unobservable confounders. Besides, Z is a pre-treatment variable, and now has a direct effect on Y. While including Z in the regression of X on Y now closes the backdoor path formed by $ X\\leftarrow U1 \\rightarrow Z \\rightarrow Y$, it opens the other backdoor path formed by $ X \\leftarrow U1 \\rightarrow Z \\leftarrow U2 \\rightarrow Y$ . In neither case we would get a unbiased estimator."
   ]
  },
  {
   "cell_type": "code",
   "execution_count": 56,
   "id": "09757233",
   "metadata": {},
   "outputs": [
    {
     "data": {
      "image/png": "[encoded data removed]",
      "text/plain": [
       "plot without title"
      ]
     },
     "metadata": {},
     "output_type": "display_data"
    }
   ],
   "source": [
    "g <- dagitty(\"dag {\n",
    "    X <- U1 -> Z <- U2 -> Y\n",
    "    X -> Y\n",
    "    Z -> Y\n",
    "}\")\n",
    "coordinates(g) <- list(\n",
    "    x=c(X=1,U1=1,Z=2,U2=3,Y=3),\n",
    "    y=c(X=1,U1=0,Z=0,U2=0,Y=1) )\n",
    "\n",
    "plot(g)"
   ]
  },
  {
   "cell_type": "code",
   "execution_count": 57,
   "id": "cd390b52",
   "metadata": {},
   "outputs": [],
   "source": [
    "set.seed(1)\n",
    "n <- 1000  \n",
    "U1 <- rnorm(1000)\n",
    "U2 <- rnorm(1000)\n",
    "Z <- 0.5*U1 + 0.3*U2 + rnorm(1000)\n",
    "X <- 2*U1 + rnorm(1000)\n",
    "Y <- X + Z + 7*U2 + rnorm(1000)\n",
    "\n",
    "# Create a dataframe\n",
    "d <- data.frame(X=X,Y=Y,Z=Z,U1=U1, U2=U2)"
   ]
  },
  {
   "cell_type": "code",
   "execution_count": 58,
   "id": "bfc48f2f",
   "metadata": {},
   "outputs": [
    {
     "name": "stdout",
     "output_type": "stream",
     "text": [
      "\n",
      "=====================================================================\n",
      "                                   Dependent variable:               \n",
      "                    -------------------------------------------------\n",
      "                                            Y                        \n",
      "                           NoControl               UsingControl      \n",
      "                              (1)                      (2)           \n",
      "---------------------------------------------------------------------\n",
      "X                           1.247***                 0.604***        \n",
      "                            (0.105)                  (0.105)         \n",
      "                                                                     \n",
      "Z                                                    2.904***        \n",
      "                                                     (0.201)         \n",
      "                                                                     \n",
      "Constant                     -0.128                   -0.145         \n",
      "                            (0.245)                  (0.223)         \n",
      "                                                                     \n",
      "---------------------------------------------------------------------\n",
      "Observations                 1,000                    1,000          \n",
      "R2                           0.124                    0.275          \n",
      "Adjusted R2                  0.123                    0.274          \n",
      "Residual Std. Error     7.751 (df = 998)         7.054 (df = 997)    \n",
      "F Statistic         141.163*** (df = 1; 998) 189.319*** (df = 2; 997)\n",
      "=====================================================================\n",
      "Note:                                     *p<0.1; **p<0.05; ***p<0.01\n"
     ]
    }
   ],
   "source": [
    "lm_1 <- lm(Y ~ X, d)\n",
    "lm_2 <- lm(Y ~ X + Z, d)\n",
    "stargazer(lm_1, lm_2, \n",
    "          type = \"text\", \n",
    "          column.labels = c(\"NoControl\", \"UsingControl\")\n",
    "          )"
   ]
  },
  {
   "cell_type": "markdown",
   "id": "22adc5df",
   "metadata": {},
   "source": [
    "### Model 8: Neutral Control (possibly good for precision)"
   ]
  },
  {
   "cell_type": "markdown",
   "id": "ac956565",
   "metadata": {},
   "source": [
    "Here, Z is not a confounder nor a collider. Hence, if we want to estimate the marginal effect of X on Y using a regression of the form \"Y ~ X\", our estimator would be unbiased. However, studies show (Hahn 2004, White and Lu 2011, Henckel et al. 2019) that including Z helps to improve the precision of the ACE estimator (reduce variance)."
   ]
  },
  {
   "cell_type": "code",
   "execution_count": 59,
   "id": "9c6cfef6",
   "metadata": {},
   "outputs": [
    {
     "data": {
      "image/png": "[encoded data removed]",
      "text/plain": [
       "plot without title"
      ]
     },
     "metadata": {},
     "output_type": "display_data"
    }
   ],
   "source": [
    "g <- dagitty(\"dag {\n",
    "    X -> Y <-Z\n",
    "}\")\n",
    "coordinates(g) <- list(\n",
    "    x=c(X=1,Y=2,Z=3),\n",
    "    y=c(X=1,Y=1,Z=0) )\n",
    "\n",
    "plot(g)"
   ]
  },
  {
   "cell_type": "code",
   "execution_count": 60,
   "id": "aeaeda99",
   "metadata": {},
   "outputs": [],
   "source": [
    "set.seed(1)\n",
    "n <- 1000  \n",
    "Z <- rnorm(1000)\n",
    "X <- rnorm(1000)\n",
    "Y <- X + 7*Z + rnorm(1000)\n",
    "\n",
    "# Create a dataframe\n",
    "d <- data.frame(X=X,Y=Y,Z=Z)"
   ]
  },
  {
   "cell_type": "code",
   "execution_count": 61,
   "id": "33eac891",
   "metadata": {},
   "outputs": [
    {
     "name": "stdout",
     "output_type": "stream",
     "text": [
      "\n",
      "=======================================================================\n",
      "                                    Dependent variable:                \n",
      "                    ---------------------------------------------------\n",
      "                                             Y                         \n",
      "                           NoControl               UsingControl        \n",
      "                              (1)                       (2)            \n",
      "-----------------------------------------------------------------------\n",
      "X                          1.067***                  1.022***          \n",
      "                            (0.224)                   (0.031)          \n",
      "                                                                       \n",
      "Z                                                    7.049***          \n",
      "                                                      (0.032)          \n",
      "                                                                       \n",
      "Constant                    -0.065                     0.016           \n",
      "                            (0.233)                   (0.033)          \n",
      "                                                                       \n",
      "-----------------------------------------------------------------------\n",
      "Observations                 1,000                     1,000           \n",
      "R2                           0.022                     0.981           \n",
      "Adjusted R2                  0.021                     0.981           \n",
      "Residual Std. Error    7.371 (df = 998)          1.031 (df = 997)      \n",
      "F Statistic         22.637*** (df = 1; 998) 25,604.630*** (df = 2; 997)\n",
      "=======================================================================\n",
      "Note:                                       *p<0.1; **p<0.05; ***p<0.01\n"
     ]
    }
   ],
   "source": [
    "lm_1 <- lm(Y ~ X, d)\n",
    "lm_2 <- lm(Y ~ X + Z, d)\n",
    "stargazer(lm_1, lm_2, \n",
    "          type = \"text\", \n",
    "          column.labels = c(\"NoControl\", \"UsingControl\")\n",
    "          )"
   ]
  },
  {
   "cell_type": "markdown",
   "id": "146eb47a",
   "metadata": {},
   "source": [
    "### Model 9: Neutral Control (possibly bad for precision)\n"
   ]
  },
  {
   "cell_type": "markdown",
   "id": "8c703a4e",
   "metadata": {},
   "source": [
    "As in model 8, Z is a neutral control, in the sense that including it or not does not affect the bias/unbiasedness of the marginal effect of X. However, controlling for Z will indeed reduce precision in the estimation of this parameter."
   ]
  },
  {
   "cell_type": "code",
   "execution_count": 62,
   "id": "47c46ff1",
   "metadata": {},
   "outputs": [
    {
     "data": {
      "image/png": "[encoded data removed]",
      "text/plain": [
       "plot without title"
      ]
     },
     "metadata": {},
     "output_type": "display_data"
    }
   ],
   "source": [
    "g <- dagitty(\"dag {\n",
    "    Z -> X -> Y\n",
    "}\")\n",
    "coordinates(g) <- list(\n",
    "    x=c(X=2,Y=3,Z=1),\n",
    "    y=c(X=1,Y=1,Z=0) )\n",
    "\n",
    "plot(g)"
   ]
  },
  {
   "cell_type": "code",
   "execution_count": 63,
   "id": "e0a622f1",
   "metadata": {},
   "outputs": [],
   "source": [
    "set.seed(1)\n",
    "n <- 1000  \n",
    "Z <- rnorm(1000)\n",
    "X <- 4.5*Z + rnorm(1000)\n",
    "Y <- X + rnorm(1000)\n",
    "\n",
    "# Create a dataframe\n",
    "d <- data.frame(X=X,Y=Y,Z=Z)"
   ]
  },
  {
   "cell_type": "code",
   "execution_count": 64,
   "id": "5dc80a21",
   "metadata": {},
   "outputs": [
    {
     "name": "stdout",
     "output_type": "stream",
     "text": [
      "\n",
      "===========================================================================\n",
      "                                      Dependent variable:                  \n",
      "                    -------------------------------------------------------\n",
      "                                               Y                           \n",
      "                             NoControl                 UsingControl        \n",
      "                                (1)                         (2)            \n",
      "---------------------------------------------------------------------------\n",
      "X                            1.011***                    1.022***          \n",
      "                              (0.007)                     (0.031)          \n",
      "                                                                           \n",
      "Z                                                         -0.050           \n",
      "                                                          (0.145)          \n",
      "                                                                           \n",
      "Constant                       0.016                       0.016           \n",
      "                              (0.033)                     (0.033)          \n",
      "                                                                           \n",
      "---------------------------------------------------------------------------\n",
      "Observations                   1,000                       1,000           \n",
      "R2                             0.957                       0.957           \n",
      "Adjusted R2                    0.957                       0.956           \n",
      "Residual Std. Error      1.030 (df = 998)            1.031 (df = 997)      \n",
      "F Statistic         21,987.600*** (df = 1; 998) 10,984.160*** (df = 2; 997)\n",
      "===========================================================================\n",
      "Note:                                           *p<0.1; **p<0.05; ***p<0.01\n"
     ]
    }
   ],
   "source": [
    "lm_1 <- lm(Y ~ X, d)\n",
    "lm_2 <- lm(Y ~ X + Z, d)\n",
    "stargazer(lm_1, lm_2, \n",
    "          type = \"text\", \n",
    "          column.labels = c(\"NoControl\", \"UsingControl\")\n",
    "          )"
   ]
  },
  {
   "cell_type": "markdown",
   "id": "4c5fcd17",
   "metadata": {},
   "source": [
    "### Model 10: Bad Control (bias amplification)"
   ]
  },
  {
   "cell_type": "markdown",
   "id": "e1ffe816",
   "metadata": {},
   "source": [
    "In this model, although Z is a pre-treatment variable, controlling for it would confound the effect of X on Y, due to the phenomenon called \"bias amplification\"."
   ]
  },
  {
   "cell_type": "code",
   "execution_count": 68,
   "id": "1a61f481",
   "metadata": {},
   "outputs": [
    {
     "data": {
      "image/png": "[encoded data removed]",
      "text/plain": [
       "plot without title"
      ]
     },
     "metadata": {},
     "output_type": "display_data"
    }
   ],
   "source": [
    "g <- dagitty(\"dag {\n",
    "    Z -> X <- U -> Y\n",
    "    X -> Y\n",
    "}\")\n",
    "coordinates(g) <- list(\n",
    "    x=c(Z=0.5,X=1,U=1.5,Y=2),\n",
    "    y=c(Z=0,X=1,U=0.5,Y=1) )\n",
    "\n",
    "plot(g)"
   ]
  },
  {
   "cell_type": "code",
   "execution_count": 69,
   "id": "ff6708b1",
   "metadata": {},
   "outputs": [],
   "source": [
    "set.seed(1)\n",
    "n <- 1000  \n",
    "Z <- rnorm(1000)\n",
    "U <- rnorm(1000)\n",
    "X <- 4.5*Z + 6*U + rnorm(1000)\n",
    "Y <- X + 3*U + rnorm(1000)\n",
    "\n",
    "# Create a dataframe\n",
    "d <- data.frame(X=X,Y=Y,Z=Z, U=U)"
   ]
  },
  {
   "cell_type": "code",
   "execution_count": 70,
   "id": "537d8133",
   "metadata": {},
   "outputs": [
    {
     "name": "stdout",
     "output_type": "stream",
     "text": [
      "\n",
      "===========================================================================\n",
      "                                      Dependent variable:                  \n",
      "                    -------------------------------------------------------\n",
      "                                               Y                           \n",
      "                             NoControl                 UsingControl        \n",
      "                                (1)                         (2)            \n",
      "---------------------------------------------------------------------------\n",
      "X                            1.316***                    1.488***          \n",
      "                              (0.009)                     (0.006)          \n",
      "                                                                           \n",
      "Z                                                        -2.195***         \n",
      "                                                          (0.044)          \n",
      "                                                                           \n",
      "Constant                       0.011                       0.008           \n",
      "                              (0.068)                     (0.036)          \n",
      "                                                                           \n",
      "---------------------------------------------------------------------------\n",
      "Observations                   1,000                       1,000           \n",
      "R2                             0.959                       0.988           \n",
      "Adjusted R2                    0.959                       0.988           \n",
      "Residual Std. Error      2.154 (df = 998)            1.153 (df = 997)      \n",
      "F Statistic         23,426.520*** (df = 1; 998) 42,117.360*** (df = 2; 997)\n",
      "===========================================================================\n",
      "Note:                                           *p<0.1; **p<0.05; ***p<0.01\n"
     ]
    }
   ],
   "source": [
    "lm_1 <- lm(Y ~ X, d)\n",
    "lm_2 <- lm(Y ~ X + Z, d)\n",
    "stargazer(lm_1, lm_2, \n",
    "          type = \"text\", \n",
    "          column.labels = c(\"NoControl\", \"UsingControl\")\n",
    "          )"
   ]
  },
  {
   "cell_type": "markdown",
   "id": "11b05451",
   "metadata": {},
   "source": [
    "We can notice that Model II amplifies the existing bias, produced because we are lefting open the backdoor path $X \\leftarrow U \\rightarrow Y$."
   ]
  },
  {
   "cell_type": "markdown",
   "id": "e57b5c47",
   "metadata": {},
   "source": [
    "### Model 11: Bad Control (overcontrol vias)"
   ]
  },
  {
   "cell_type": "markdown",
   "id": "2833b484",
   "metadata": {},
   "source": [
    "This model looks similar to model 9, the difference being on that here Z is **affected by** X, and not viceversa. Hence, to estimate the effect of X on Y, it won't be neccesary to include Z. In fact, conditioning on Z will block the effect we want to estimate."
   ]
  },
  {
   "cell_type": "code",
   "execution_count": 71,
   "id": "2c25b499",
   "metadata": {},
   "outputs": [
    {
     "data": {
      "image/png": "[encoded data removed]",
      "text/plain": [
       "plot without title"
      ]
     },
     "metadata": {},
     "output_type": "display_data"
    }
   ],
   "source": [
    "g <- dagitty(\"dag {\n",
    "    X -> Z -> Y \n",
    "}\")\n",
    "coordinates(g) <- list(\n",
    "    x=c(X=1,Z=2,Y=3),\n",
    "    y=c(X=0,Z=0,Y=0) )\n",
    "\n",
    "plot(g)"
   ]
  },
  {
   "cell_type": "code",
   "execution_count": 72,
   "id": "5bb33110",
   "metadata": {},
   "outputs": [],
   "source": [
    "set.seed(1)\n",
    "n <- 1000  \n",
    "X <- rnorm(1000)\n",
    "Z <- X + rnorm(1000)\n",
    "Y <- Z + rnorm(1000)\n",
    "\n",
    "# Create a dataframe\n",
    "d <- data.frame(X=X,Y=Y,Z=Z)"
   ]
  },
  {
   "cell_type": "code",
   "execution_count": 73,
   "id": "f54257a5",
   "metadata": {
    "scrolled": true
   },
   "outputs": [
    {
     "name": "stdout",
     "output_type": "stream",
     "text": [
      "\n",
      "=======================================================================\n",
      "                                    Dependent variable:                \n",
      "                    ---------------------------------------------------\n",
      "                                             Y                         \n",
      "                           NoControl                UsingControl       \n",
      "                              (1)                       (2)            \n",
      "-----------------------------------------------------------------------\n",
      "X                           1.056***                   0.027           \n",
      "                            (0.045)                   (0.045)          \n",
      "                                                                       \n",
      "Z                                                     1.022***         \n",
      "                                                      (0.031)          \n",
      "                                                                       \n",
      "Constant                    -0.0003                    0.016           \n",
      "                            (0.047)                   (0.033)          \n",
      "                                                                       \n",
      "-----------------------------------------------------------------------\n",
      "Observations                 1,000                     1,000           \n",
      "R2                           0.353                     0.687           \n",
      "Adjusted R2                  0.352                     0.686           \n",
      "Residual Std. Error     1.481 (df = 998)          1.031 (df = 997)     \n",
      "F Statistic         543.961*** (df = 1; 998) 1,092.484*** (df = 2; 997)\n",
      "=======================================================================\n",
      "Note:                                       *p<0.1; **p<0.05; ***p<0.01\n"
     ]
    }
   ],
   "source": [
    "lm_1 <- lm(Y ~ X, d)\n",
    "lm_2 <- lm(Y ~ X + Z, d)\n",
    "stargazer(lm_1, lm_2, \n",
    "          type = \"text\", \n",
    "          column.labels = c(\"NoControl\", \"UsingControl\")\n",
    "          )"
   ]
  },
  {
   "cell_type": "markdown",
   "id": "fe005746",
   "metadata": {},
   "source": [
    "Including the mediator Z on the regression would not only be unnecessary, but will also bias the causal effect of X on Y."
   ]
  },
  {
   "cell_type": "markdown",
   "id": "46da99b1",
   "metadata": {},
   "source": [
    "### Model 12: Bad Controls (overcontrolbias)"
   ]
  },
  {
   "cell_type": "markdown",
   "id": "56f865c3",
   "metadata": {},
   "source": [
    "Similar to model 11, although Z is not a mediator between X and Y, controlling for it is equivalent to partially controlling for M, hence incurring in the \"overcontrol bias\"."
   ]
  },
  {
   "cell_type": "code",
   "execution_count": 75,
   "id": "838810c9",
   "metadata": {},
   "outputs": [
    {
     "data": {
      "image/png": "[encoded data removed]",
      "text/plain": [
       "plot without title"
      ]
     },
     "metadata": {},
     "output_type": "display_data"
    }
   ],
   "source": [
    "g <- dagitty(\"dag {\n",
    "    X -> M -> Y \n",
    "    M -> Z\n",
    "}\")\n",
    "coordinates(g) <- list(\n",
    "    x=c(X=1,Z=2,Y=3, M=2),\n",
    "    y=c(X=0,Z=0.5,Y=0, M=0) )\n",
    "\n",
    "plot(g)"
   ]
  },
  {
   "cell_type": "code",
   "execution_count": 76,
   "id": "03191a33",
   "metadata": {},
   "outputs": [],
   "source": [
    "set.seed(1)\n",
    "n <- 1000  \n",
    "X <- rnorm(1000)\n",
    "M <- X + rnorm(1000)\n",
    "Z <- 5*M + rnorm(1000)\n",
    "Y <- M + rnorm(1000)\n",
    "\n",
    "# Create a dataframe\n",
    "d <- data.frame(X=X,Y=Y,Z=Z, M=M)"
   ]
  },
  {
   "cell_type": "code",
   "execution_count": 77,
   "id": "4f4b40ac",
   "metadata": {},
   "outputs": [
    {
     "name": "stdout",
     "output_type": "stream",
     "text": [
      "\n",
      "=====================================================================\n",
      "                                   Dependent variable:               \n",
      "                    -------------------------------------------------\n",
      "                                            Y                        \n",
      "                           NoControl               UsingControl      \n",
      "                              (1)                      (2)           \n",
      "---------------------------------------------------------------------\n",
      "X                           1.030***                  0.039          \n",
      "                            (0.045)                  (0.045)         \n",
      "                                                                     \n",
      "Z                                                    0.195***        \n",
      "                                                     (0.006)         \n",
      "                                                                     \n",
      "Constant                     0.001                    0.013          \n",
      "                            (0.047)                  (0.033)         \n",
      "                                                                     \n",
      "---------------------------------------------------------------------\n",
      "Observations                 1,000                    1,000          \n",
      "R2                           0.341                    0.665          \n",
      "Adjusted R2                  0.341                    0.664          \n",
      "Residual Std. Error     1.482 (df = 998)         1.057 (df = 997)    \n",
      "F Statistic         517.099*** (df = 1; 998) 988.829*** (df = 2; 997)\n",
      "=====================================================================\n",
      "Note:                                     *p<0.1; **p<0.05; ***p<0.01\n"
     ]
    }
   ],
   "source": [
    "lm_1 <- lm(Y ~ X, d)\n",
    "lm_2 <- lm(Y ~ X + Z, d)\n",
    "stargazer(lm_1, lm_2, \n",
    "          type = \"text\", \n",
    "          column.labels = c(\"NoControl\", \"UsingControl\")\n",
    "          )"
   ]
  },
  {
   "cell_type": "markdown",
   "id": "b9629df7",
   "metadata": {},
   "source": [
    "Including Z will bias our estimation of the effect of X on Y due to the overcontrol bias."
   ]
  },
  {
   "cell_type": "markdown",
   "id": "96b33cf0",
   "metadata": {},
   "source": [
    "### Variation of Model 11: Total vs direct effects"
   ]
  },
  {
   "cell_type": "markdown",
   "id": "0be25968",
   "metadata": {},
   "source": [
    "Consider a variation of Model 11 with an unobserved confounder of Z and Y , denoted by U."
   ]
  },
  {
   "cell_type": "code",
   "execution_count": 78,
   "id": "9c38a9df",
   "metadata": {},
   "outputs": [
    {
     "data": {
      "image/png": "[encoded data removed]",
      "text/plain": [
       "plot without title"
      ]
     },
     "metadata": {},
     "output_type": "display_data"
    }
   ],
   "source": [
    "g <- dagitty(\"dag {\n",
    "    X -> Z <- U -> Y \n",
    "    Z -> Y\n",
    "}\")\n",
    "coordinates(g) <- list(\n",
    "    x=c(X=1,Z=2,U=2.5,Y=3),\n",
    "    y=c(X=1,Z=1,U=0,Y=1) )\n",
    "\n",
    "plot(g)"
   ]
  },
  {
   "cell_type": "code",
   "execution_count": 80,
   "id": "ef784174",
   "metadata": {},
   "outputs": [],
   "source": [
    "set.seed(1)\n",
    "n <- 1000  \n",
    "X <- rnorm(1000)\n",
    "U <- rnorm(1000)\n",
    "Z <- X + 4*U + rnorm(1000)\n",
    "Y <- Z + 3*U + rnorm(1000)\n",
    "\n",
    "# Create a dataframe\n",
    "d <- data.frame(X=X,Y=Y,Z=Z,U=U)"
   ]
  },
  {
   "cell_type": "code",
   "execution_count": 81,
   "id": "d7a83fd9",
   "metadata": {},
   "outputs": [
    {
     "name": "stdout",
     "output_type": "stream",
     "text": [
      "\n",
      "=======================================================================\n",
      "                                    Dependent variable:                \n",
      "                    ---------------------------------------------------\n",
      "                                             Y                         \n",
      "                           NoControl               UsingControl        \n",
      "                              (1)                       (2)            \n",
      "-----------------------------------------------------------------------\n",
      "X                          1.118***                  -0.718***         \n",
      "                            (0.228)                   (0.040)          \n",
      "                                                                       \n",
      "Z                                                    1.707***          \n",
      "                                                      (0.009)          \n",
      "                                                                       \n",
      "Constant                    -0.080                     0.003           \n",
      "                            (0.236)                   (0.040)          \n",
      "                                                                       \n",
      "-----------------------------------------------------------------------\n",
      "Observations                 1,000                     1,000           \n",
      "R2                           0.023                     0.972           \n",
      "Adjusted R2                  0.022                     0.971           \n",
      "Residual Std. Error    7.468 (df = 998)          1.276 (df = 997)      \n",
      "F Statistic         23.969*** (df = 1; 998) 16,995.940*** (df = 2; 997)\n",
      "=======================================================================\n",
      "Note:                                       *p<0.1; **p<0.05; ***p<0.01\n"
     ]
    }
   ],
   "source": [
    "lm_1 <- lm(Y ~ X, d)\n",
    "lm_2 <- lm(Y ~ X + Z, d)\n",
    "stargazer(lm_1, lm_2, \n",
    "          type = \"text\", \n",
    "          column.labels = c(\"NoControl\", \"UsingControl\")\n",
    "          )"
   ]
  },
  {
   "cell_type": "markdown",
   "id": "c85c8f90",
   "metadata": {},
   "source": [
    "First notice that U does not confound the effect of X on Y , and thus our ACE estimate remains unbiased as it were in Model 11, so long as we do not adjust for Z. On the other hand, here adjusting for Z now opens the colliding path X → Z ← U → Y , thus biasing the CDE estimate."
   ]
  },
  {
   "cell_type": "markdown",
   "id": "9e4ce64c",
   "metadata": {},
   "source": [
    "### Model 13: Neutral Control (possibly good for precision)\n"
   ]
  },
  {
   "cell_type": "markdown",
   "id": "362f82e6",
   "metadata": {},
   "source": [
    "Model 13 might seem similar to Model 12, and one may think that adjusting for Z would bias the effect estimate, by restricting variations of the mediator M. However, the key difference here is that Z is a cause, not an effect, of the mediator (and, consequently, also a cause of Y )."
   ]
  },
  {
   "cell_type": "code",
   "execution_count": 82,
   "id": "745eb297",
   "metadata": {},
   "outputs": [
    {
     "data": {
      "image/png": "[encoded data removed]",
      "text/plain": [
       "plot without title"
      ]
     },
     "metadata": {},
     "output_type": "display_data"
    }
   ],
   "source": [
    "g <- dagitty(\"dag {\n",
    "    X -> M -> Y\n",
    "    Z -> M\n",
    "}\")\n",
    "coordinates(g) <- list(\n",
    "    x=c(X=1,M=2,Y=3,Z=2),\n",
    "    y=c(X=1,M=1,Y=1,Z=0) )\n",
    "\n",
    "plot(g)"
   ]
  },
  {
   "cell_type": "code",
   "execution_count": 83,
   "id": "2d3dea27",
   "metadata": {},
   "outputs": [],
   "source": [
    "set.seed(1)\n",
    "n <- 1000  \n",
    "Z <- rnorm(1000)\n",
    "X <- rnorm(1000)\n",
    "M <- X + 4*Z + rnorm(1000)\n",
    "Y <- M + rnorm(1000)\n",
    "\n",
    "# Create a dataframe\n",
    "d <- data.frame(X=X,Y=Y,Z=Z,M=M)"
   ]
  },
  {
   "cell_type": "code",
   "execution_count": 84,
   "id": "7226a0f9",
   "metadata": {},
   "outputs": [
    {
     "name": "stdout",
     "output_type": "stream",
     "text": [
      "\n",
      "======================================================================\n",
      "                                   Dependent variable:                \n",
      "                    --------------------------------------------------\n",
      "                                            Y                         \n",
      "                           NoControl               UsingControl       \n",
      "                              (1)                      (2)            \n",
      "----------------------------------------------------------------------\n",
      "X                          1.063***                  1.037***         \n",
      "                            (0.136)                  (0.045)          \n",
      "                                                                      \n",
      "Z                                                    4.073***         \n",
      "                                                     (0.045)          \n",
      "                                                                      \n",
      "Constant                    -0.014                    0.033           \n",
      "                            (0.141)                  (0.047)          \n",
      "                                                                      \n",
      "----------------------------------------------------------------------\n",
      "Observations                 1,000                    1,000           \n",
      "R2                           0.058                    0.898           \n",
      "Adjusted R2                  0.057                    0.898           \n",
      "Residual Std. Error    4.465 (df = 998)          1.470 (df = 997)     \n",
      "F Statistic         61.265*** (df = 1; 998) 4,386.419*** (df = 2; 997)\n",
      "======================================================================\n",
      "Note:                                      *p<0.1; **p<0.05; ***p<0.01\n"
     ]
    }
   ],
   "source": [
    "lm_1 <- lm(Y ~ X, d)\n",
    "lm_2 <- lm(Y ~ X + Z, d)\n",
    "stargazer(lm_1, lm_2, \n",
    "          type = \"text\", \n",
    "          column.labels = c(\"NoControl\", \"UsingControl\")\n",
    "          )"
   ]
  },
  {
   "cell_type": "markdown",
   "id": "88ed9d8b",
   "metadata": {},
   "source": [
    "Model 13 is analogous to Model 8, and so controlling for Z will be neutral in terms of bias and may increase the precision of the estimation."
   ]
  },
  {
   "cell_type": "markdown",
   "id": "84036eab",
   "metadata": {},
   "source": [
    "### Model 14: Neutral Controls (possibly helpful in the case of selection bias)"
   ]
  },
  {
   "cell_type": "markdown",
   "id": "5e65057c",
   "metadata": {},
   "source": [
    "* Contrary to folklore, not all “post-treatment” variables are inherently bad controls. In Model 14  controlling for Z does not open any confounding paths between X and Y. Thus, Z is neutral in terms of bias.\n",
    "* Controlling for Z does reduce the variation of the treatment variable X and so may hurt the precision of the ACE estimate in finite samples."
   ]
  },
  {
   "cell_type": "code",
   "execution_count": 91,
   "id": "8aa0a7a4",
   "metadata": {},
   "outputs": [
    {
     "data": {
      "image/png": "[encoded data removed]",
      "text/plain": [
       "plot without title"
      ]
     },
     "metadata": {},
     "output_type": "display_data"
    }
   ],
   "source": [
    "g <- dagitty(\"dag {\n",
    "    Z <- X -> Y\n",
    "}\")\n",
    "coordinates(g) <- list(\n",
    "    x=c(X=1,Z=2,Y=3),\n",
    "    y=c(X=0,Z=1,Y=0) )\n",
    "\n",
    "plot(g)"
   ]
  },
  {
   "cell_type": "code",
   "execution_count": 92,
   "id": "579d5410",
   "metadata": {},
   "outputs": [],
   "source": [
    "set.seed(1)\n",
    "n <- 1000  \n",
    "X <- rnorm(1000)\n",
    "Z <- 2*X + rnorm(1000)\n",
    "Y <- X + rnorm(1000)\n",
    "\n",
    "# Create a dataframe\n",
    "d <- data.frame(X=X,Y=Y,Z=Z)"
   ]
  },
  {
   "cell_type": "code",
   "execution_count": 93,
   "id": "5b8eab1b",
   "metadata": {},
   "outputs": [
    {
     "name": "stdout",
     "output_type": "stream",
     "text": [
      "\n",
      "=======================================================================\n",
      "                                    Dependent variable:                \n",
      "                    ---------------------------------------------------\n",
      "                                             Y                         \n",
      "                            NoControl                UsingControl      \n",
      "                               (1)                       (2)           \n",
      "-----------------------------------------------------------------------\n",
      "X                            1.049***                  1.005***        \n",
      "                             (0.031)                   (0.070)         \n",
      "                                                                       \n",
      "Z                                                       0.022          \n",
      "                                                       (0.031)         \n",
      "                                                                       \n",
      "Constant                      0.016                     0.016          \n",
      "                             (0.033)                   (0.033)         \n",
      "                                                                       \n",
      "-----------------------------------------------------------------------\n",
      "Observations                  1,000                     1,000          \n",
      "R2                            0.526                     0.527          \n",
      "Adjusted R2                   0.526                     0.526          \n",
      "Residual Std. Error      1.030 (df = 998)          1.031 (df = 997)    \n",
      "F Statistic         1,109.435*** (df = 1; 998) 554.682*** (df = 2; 997)\n",
      "=======================================================================\n",
      "Note:                                       *p<0.1; **p<0.05; ***p<0.01\n"
     ]
    }
   ],
   "source": [
    "lm_1 <- lm(Y ~ X, d)\n",
    "lm_2 <- lm(Y ~ X + Z, d)\n",
    "stargazer(lm_1, lm_2, \n",
    "          type = \"text\", \n",
    "          column.labels = c(\"NoControl\", \"UsingControl\")\n",
    "          )"
   ]
  },
  {
   "cell_type": "markdown",
   "id": "ac1ebe71",
   "metadata": {},
   "source": [
    "In this case, controlling for Z reduce the variation of X, but doesn't reduce precision in the estimation of the causal effect of X on Y."
   ]
  },
  {
   "cell_type": "markdown",
   "id": "f53c411c",
   "metadata": {},
   "source": [
    "### Model 15: Neutral Controls (possibly helpful in the case of selection bias)\n"
   ]
  },
  {
   "cell_type": "markdown",
   "id": "4cbc8ca9",
   "metadata": {},
   "source": [
    "Now consider a variation of Model 14. In this case, Z is still nor a collider or confounder of X on Y, hence being neutral on bias. However, we have a colliding path on W, and by controlling for Z we can block it."
   ]
  },
  {
   "cell_type": "code",
   "execution_count": 96,
   "id": "72ee50bb",
   "metadata": {},
   "outputs": [
    {
     "data": {
      "image/png": "[encoded data removed]",
      "text/plain": [
       "plot without title"
      ]
     },
     "metadata": {},
     "output_type": "display_data"
    }
   ],
   "source": [
    "g <- dagitty(\"dag {\n",
    "    X -> Z -> W <- U -> Y\n",
    "    X -> Y\n",
    "}\")\n",
    "coordinates(g) <- list(\n",
    "    x=c(X=1,Z=1.5,W=2,U=2,Y=3),\n",
    "    y=c(X=1,Z=1.5,W=2,U=0,Y=1) )\n",
    "\n",
    "plot(g)"
   ]
  },
  {
   "cell_type": "code",
   "execution_count": 97,
   "id": "46c1d932",
   "metadata": {},
   "outputs": [],
   "source": [
    "set.seed(1)\n",
    "n <- 1000  \n",
    "U <- rnorm(1000)\n",
    "X <- rnorm(1000)\n",
    "Z <- 2*X + rnorm(1000)\n",
    "W <- 3*Z + 5*U + rnorm(1000)\n",
    "Y <- X + 4*U + rnorm(1000)\n",
    "\n",
    "# Create a dataframe\n",
    "d <- data.frame(X=X,Y=Y,Z=Z, W=W, U=U)"
   ]
  },
  {
   "cell_type": "code",
   "execution_count": 98,
   "id": "d9230962",
   "metadata": {},
   "outputs": [
    {
     "name": "stdout",
     "output_type": "stream",
     "text": [
      "\n",
      "===================================================================\n",
      "                                  Dependent variable:              \n",
      "                    -----------------------------------------------\n",
      "                                           Y                       \n",
      "                           NoControl             UsingControl      \n",
      "                              (1)                     (2)          \n",
      "-------------------------------------------------------------------\n",
      "X                          1.035***                0.781***        \n",
      "                            (0.128)                 (0.292)        \n",
      "                                                                   \n",
      "Z                                                    0.126         \n",
      "                                                    (0.130)        \n",
      "                                                                   \n",
      "Constant                    -0.066                  -0.068         \n",
      "                            (0.134)                 (0.134)        \n",
      "                                                                   \n",
      "-------------------------------------------------------------------\n",
      "Observations                 1,000                   1,000         \n",
      "R2                           0.061                   0.062         \n",
      "Adjusted R2                  0.060                   0.060         \n",
      "Residual Std. Error    4.221 (df = 998)        4.221 (df = 997)    \n",
      "F Statistic         64.904*** (df = 1; 998) 32.919*** (df = 2; 997)\n",
      "===================================================================\n",
      "Note:                                   *p<0.1; **p<0.05; ***p<0.01\n"
     ]
    }
   ],
   "source": [
    "lm_1 <- lm(Y ~ X, d)\n",
    "lm_2 <- lm(Y ~ X + Z, d)\n",
    "stargazer(lm_1, lm_2, \n",
    "          type = \"text\", \n",
    "          column.labels = c(\"NoControl\", \"UsingControl\")\n",
    "          )"
   ]
  },
  {
   "cell_type": "markdown",
   "id": "3670feaa",
   "metadata": {},
   "source": [
    "In this case, controlling for Z does reduce the variation of X, and will therefore reduce precision in the estimation of the causal effect of X on Y."
   ]
  },
  {
   "cell_type": "markdown",
   "id": "accecc31",
   "metadata": {},
   "source": [
    "### Model 16: Bad Controls (selection bias)"
   ]
  },
  {
   "cell_type": "markdown",
   "id": "c6b3145b",
   "metadata": {},
   "source": [
    "Contrary to Models 14 and 15, here controlling for Z is no longer harmless, and induces what is classically known as “selection bias” or “collider stratification bias.” "
   ]
  },
  {
   "cell_type": "code",
   "execution_count": 101,
   "id": "eccceabd",
   "metadata": {},
   "outputs": [
    {
     "data": {
      "image/png": "[encoded data removed]",
      "text/plain": [
       "plot without title"
      ]
     },
     "metadata": {},
     "output_type": "display_data"
    }
   ],
   "source": [
    "g <- dagitty(\"dag {\n",
    "    X -> Z <- U -> Y\n",
    "    X -> Y\n",
    "}\")\n",
    "coordinates(g) <- list(\n",
    "    x=c(X=1,U=2,Z=2,Y=3),\n",
    "    y=c(X=1,U=0,Z=2,Y=1) )\n",
    "\n",
    "plot(g)"
   ]
  },
  {
   "cell_type": "code",
   "execution_count": 102,
   "id": "c4bb1e6c",
   "metadata": {},
   "outputs": [],
   "source": [
    "set.seed(1)\n",
    "n <- 1000  \n",
    "U <- rnorm(1000)\n",
    "X <- rnorm(1000)\n",
    "Z <- 2*X + 2.5*U + rnorm(1000)\n",
    "Y <- X + 4*U + rnorm(1000)\n",
    "\n",
    "# Create a dataframe\n",
    "d <- data.frame(X=X,Y=Y,Z=Z, U=U)"
   ]
  },
  {
   "cell_type": "code",
   "execution_count": 103,
   "id": "5ab61d58",
   "metadata": {},
   "outputs": [
    {
     "name": "stdout",
     "output_type": "stream",
     "text": [
      "\n",
      "======================================================================\n",
      "                                   Dependent variable:                \n",
      "                    --------------------------------------------------\n",
      "                                            Y                         \n",
      "                           NoControl               UsingControl       \n",
      "                              (1)                      (2)            \n",
      "----------------------------------------------------------------------\n",
      "X                          1.041***                 -1.753***         \n",
      "                            (0.131)                  (0.070)          \n",
      "                                                                      \n",
      "Z                                                    1.371***         \n",
      "                                                     (0.020)          \n",
      "                                                                      \n",
      "Constant                    -0.029                    -0.011          \n",
      "                            (0.136)                  (0.058)          \n",
      "                                                                      \n",
      "----------------------------------------------------------------------\n",
      "Observations                 1,000                    1,000           \n",
      "R2                           0.060                    0.829           \n",
      "Adjusted R2                  0.059                    0.829           \n",
      "Residual Std. Error    4.293 (df = 998)          1.830 (df = 997)     \n",
      "F Statistic         63.518*** (df = 1; 998) 2,422.428*** (df = 2; 997)\n",
      "======================================================================\n",
      "Note:                                      *p<0.1; **p<0.05; ***p<0.01\n"
     ]
    }
   ],
   "source": [
    "lm_1 <- lm(Y ~ X, d)\n",
    "lm_2 <- lm(Y ~ X + Z, d)\n",
    "stargazer(lm_1, lm_2, \n",
    "          type = \"text\", \n",
    "          column.labels = c(\"NoControl\", \"UsingControl\")\n",
    "          )"
   ]
  },
  {
   "cell_type": "markdown",
   "id": "7cc5970d",
   "metadata": {},
   "source": [
    "Adjusting for Z in Model 16 opens the colliding path X → Z ← U → Y and so biases the estimation."
   ]
  },
  {
   "cell_type": "markdown",
   "id": "94787413",
   "metadata": {},
   "source": [
    "### Model 17:  Bad Controls (selection bias)"
   ]
  },
  {
   "cell_type": "markdown",
   "id": "c73e8f94",
   "metadata": {},
   "source": [
    "Here we have other case that we denominated \"selection bias\"."
   ]
  },
  {
   "cell_type": "code",
   "execution_count": 105,
   "id": "305bf715",
   "metadata": {},
   "outputs": [
    {
     "data": {
      "image/png": "[encoded data removed]",
      "text/plain": [
       "plot without title"
      ]
     },
     "metadata": {},
     "output_type": "display_data"
    }
   ],
   "source": [
    "g <- dagitty(\"dag {\n",
    "    Z <- X -> Y -> Z\n",
    "    X -> Z\n",
    "    \n",
    "}\")\n",
    "coordinates(g) <- list(\n",
    "    x=c(X=1,Z=2,Y=3),\n",
    "    y=c(X=0,Y=0,Z=1) )\n",
    "\n",
    "plot(g)"
   ]
  },
  {
   "cell_type": "code",
   "execution_count": 106,
   "id": "2d40f876",
   "metadata": {},
   "outputs": [],
   "source": [
    "set.seed(1)\n",
    "n <- 1000  \n",
    "X <- rnorm(1000)\n",
    "Y <- X + rnorm(1000)\n",
    "Z <- 2*X + 2.5*Y + rnorm(1000)\n",
    "\n",
    "# Create a dataframe\n",
    "d <- data.frame(X=X,Y=Y,Z=Z)"
   ]
  },
  {
   "cell_type": "code",
   "execution_count": 107,
   "id": "6c50f5fc",
   "metadata": {},
   "outputs": [
    {
     "name": "stdout",
     "output_type": "stream",
     "text": [
      "\n",
      "=========================================================================\n",
      "                                     Dependent variable:                 \n",
      "                    -----------------------------------------------------\n",
      "                                              Y                          \n",
      "                            NoControl                 UsingControl       \n",
      "                               (1)                        (2)            \n",
      "-------------------------------------------------------------------------\n",
      "X                            1.006***                  -0.562***         \n",
      "                             (0.032)                    (0.023)          \n",
      "                                                                         \n",
      "Z                                                       0.344***         \n",
      "                                                        (0.004)          \n",
      "                                                                         \n",
      "Constant                      -0.016                     -0.008          \n",
      "                             (0.033)                    (0.012)          \n",
      "                                                                         \n",
      "-------------------------------------------------------------------------\n",
      "Observations                  1,000                      1,000           \n",
      "R2                            0.501                      0.933           \n",
      "Adjusted R2                   0.500                      0.933           \n",
      "Residual Std. Error      1.040 (df = 998)           0.380 (df = 997)     \n",
      "F Statistic         1,001.098*** (df = 1; 998) 6,979.903*** (df = 2; 997)\n",
      "=========================================================================\n",
      "Note:                                         *p<0.1; **p<0.05; ***p<0.01\n"
     ]
    }
   ],
   "source": [
    "lm_1 <- lm(Y ~ X, d)\n",
    "lm_2 <- lm(Y ~ X + Z, d)\n",
    "stargazer(lm_1, lm_2, \n",
    "          type = \"text\", \n",
    "          column.labels = c(\"NoControl\", \"UsingControl\")\n",
    "          )"
   ]
  },
  {
   "cell_type": "markdown",
   "id": "8ee8c754",
   "metadata": {},
   "source": [
    "### Model 18: Bad Control (case-control bias)\n"
   ]
  },
  {
   "cell_type": "markdown",
   "id": "29996ce1",
   "metadata": {},
   "source": [
    "In our last example, Z is not in the causal pathway from X to Y , Z is not a direct cause of X, and Z is connected to Y . Thus, one might surmise that, as in Model 8, controlling for Z is harmless for identification, and perhaps beneficial for finite sample efficiency."
   ]
  },
  {
   "cell_type": "code",
   "execution_count": 108,
   "id": "e6c5dd5d",
   "metadata": {},
   "outputs": [
    {
     "data": {
      "image/png": "[encoded data removed]",
      "text/plain": [
       "plot without title"
      ]
     },
     "metadata": {},
     "output_type": "display_data"
    }
   ],
   "source": [
    "g <- dagitty(\"dag {\n",
    "    X -> Y -> Z  \n",
    "}\")\n",
    "coordinates(g) <- list(\n",
    "    x=c(X=1,Z=2,Y=3),\n",
    "    y=c(X=0,Y=0,Z=1) )\n",
    "\n",
    "plot(g)"
   ]
  },
  {
   "cell_type": "code",
   "execution_count": 109,
   "id": "42485623",
   "metadata": {},
   "outputs": [],
   "source": [
    "set.seed(1)\n",
    "n <- 1000  \n",
    "X <- rnorm(1000)\n",
    "Y <- X + rnorm(1000)\n",
    "Z <- 2.5*Y + rnorm(1000)\n",
    "\n",
    "# Create a dataframe\n",
    "d <- data.frame(X=X,Y=Y,Z=Z)"
   ]
  },
  {
   "cell_type": "code",
   "execution_count": 110,
   "id": "a4f76dcc",
   "metadata": {
    "scrolled": true
   },
   "outputs": [
    {
     "name": "stdout",
     "output_type": "stream",
     "text": [
      "\n",
      "=========================================================================\n",
      "                                     Dependent variable:                 \n",
      "                    -----------------------------------------------------\n",
      "                                              Y                          \n",
      "                            NoControl                 UsingControl       \n",
      "                               (1)                        (2)            \n",
      "-------------------------------------------------------------------------\n",
      "X                            1.006***                   0.125***         \n",
      "                             (0.032)                    (0.016)          \n",
      "                                                                         \n",
      "Z                                                       0.344***         \n",
      "                                                        (0.004)          \n",
      "                                                                         \n",
      "Constant                      -0.016                     -0.008          \n",
      "                             (0.033)                    (0.012)          \n",
      "                                                                         \n",
      "-------------------------------------------------------------------------\n",
      "Observations                  1,000                      1,000           \n",
      "R2                            0.501                      0.933           \n",
      "Adjusted R2                   0.500                      0.933           \n",
      "Residual Std. Error      1.040 (df = 998)           0.380 (df = 997)     \n",
      "F Statistic         1,001.098*** (df = 1; 998) 6,979.903*** (df = 2; 997)\n",
      "=========================================================================\n",
      "Note:                                         *p<0.1; **p<0.05; ***p<0.01\n"
     ]
    }
   ],
   "source": [
    "lm_1 <- lm(Y ~ X, d)\n",
    "lm_2 <- lm(Y ~ X + Z, d)\n",
    "stargazer(lm_1, lm_2, \n",
    "          type = \"text\", \n",
    "          column.labels = c(\"NoControl\", \"UsingControl\")\n",
    "          )"
   ]
  },
  {
   "cell_type": "markdown",
   "id": "d0c23b9c",
   "metadata": {},
   "source": [
    "However, controlling for the effects of the outcome Y will induce bias in the estimate of the ACE, even without the direct arrow X → Z, thus making Z a “bad control.” This happens because Z is in fact a descendant of a collider: the outcome Y itself."
   ]
  }
 ],
 "metadata": {
  "kernelspec": {
   "display_name": "R",
   "language": "R",
   "name": "ir"
  },
  "language_info": {
   "codemirror_mode": "r",
   "file_extension": ".r",
   "mimetype": "text/x-r-source",
   "name": "R",
   "pygments_lexer": "r",
   "version": "3.6.1"
  }
 },
 "nbformat": 4,
 "nbformat_minor": 5
}
