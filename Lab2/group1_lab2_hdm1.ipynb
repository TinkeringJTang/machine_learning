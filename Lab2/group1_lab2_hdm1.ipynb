{
 "cells": [
  {
   "cell_type": "markdown",
   "id": "74733de1",
   "metadata": {},
   "source": [
    "## Workgroup 2 extra\n",
    "#### Group: 1\n",
    "#### Members:\n",
    "- Juan José Tang\n",
    "- Ursula Contrina\n",
    "- Victoria Olivera"
   ]
  },
  {
   "cell_type": "code",
   "execution_count": 13,
   "id": "4a41261a",
   "metadata": {
    "scrolled": false
   },
   "outputs": [
    {
     "name": "stderr",
     "output_type": "stream",
     "text": [
      "\u001b[32m\u001b[1m   Resolving\u001b[22m\u001b[39m package versions...\n",
      "\u001b[32m\u001b[1m  No Changes\u001b[22m\u001b[39m to `C:\\Users\\JARVIS\\.julia\\environments\\v1.6\\Project.toml`\n",
      "\u001b[32m\u001b[1m  No Changes\u001b[22m\u001b[39m to `C:\\Users\\JARVIS\\.julia\\environments\\v1.6\\Manifest.toml`\n",
      "\u001b[32m\u001b[1m   Resolving\u001b[22m\u001b[39m package versions...\n",
      "\u001b[32m\u001b[1m  No Changes\u001b[22m\u001b[39m to `C:\\Users\\JARVIS\\.julia\\environments\\v1.6\\Project.toml`\n",
      "\u001b[32m\u001b[1m  No Changes\u001b[22m\u001b[39m to `C:\\Users\\JARVIS\\.julia\\environments\\v1.6\\Manifest.toml`\n",
      "\u001b[32m\u001b[1m   Resolving\u001b[22m\u001b[39m package versions...\n",
      "\u001b[32m\u001b[1m   Installed\u001b[22m\u001b[39m Libgpg_error_jll ───────────── v1.42.0+0\n",
      "\u001b[32m\u001b[1m   Installed\u001b[22m\u001b[39m Xorg_libxcb_jll ────────────── v1.13.0+3\n",
      "\u001b[32m\u001b[1m   Installed\u001b[22m\u001b[39m Gettext_jll ────────────────── v0.21.0+0\n",
      "\u001b[32m\u001b[1m   Installed\u001b[22m\u001b[39m Unzip ──────────────────────── v0.1.2\n",
      "\u001b[32m\u001b[1m   Installed\u001b[22m\u001b[39m StructArrays ───────────────── v0.6.5\n",
      "\u001b[32m\u001b[1m   Installed\u001b[22m\u001b[39m FriBidi_jll ────────────────── v1.0.10+0\n",
      "\u001b[32m\u001b[1m   Installed\u001b[22m\u001b[39m Xorg_libXdmcp_jll ──────────── v1.1.3+4\n",
      "\u001b[32m\u001b[1m   Installed\u001b[22m\u001b[39m FFMPEG ─────────────────────── v0.4.1\n",
      "\u001b[32m\u001b[1m   Installed\u001b[22m\u001b[39m RelocatableFolders ─────────── v0.1.3\n",
      "\u001b[32m\u001b[1m   Installed\u001b[22m\u001b[39m PlotThemes ─────────────────── v3.0.0\n",
      "\u001b[32m\u001b[1m   Installed\u001b[22m\u001b[39m Xorg_xtrans_jll ────────────── v1.4.0+3\n",
      "\u001b[32m\u001b[1m   Installed\u001b[22m\u001b[39m Libgcrypt_jll ──────────────── v1.8.7+0\n",
      "\u001b[32m\u001b[1m   Installed\u001b[22m\u001b[39m Scratch ────────────────────── v1.1.0\n",
      "\u001b[32m\u001b[1m   Installed\u001b[22m\u001b[39m Plots ──────────────────────── v1.27.6\n",
      "\u001b[32m\u001b[1m   Installed\u001b[22m\u001b[39m x265_jll ───────────────────── v3.5.0+0\n",
      "\u001b[32m\u001b[1m   Installed\u001b[22m\u001b[39m Xorg_xkbcomp_jll ───────────── v1.4.2+4\n",
      "\u001b[32m\u001b[1m   Installed\u001b[22m\u001b[39m Ogg_jll ────────────────────── v1.3.5+1\n",
      "\u001b[32m\u001b[1m   Installed\u001b[22m\u001b[39m Xorg_libxkbfile_jll ────────── v1.1.0+4\n",
      "\u001b[32m\u001b[1m   Installed\u001b[22m\u001b[39m Xorg_xcb_util_renderutil_jll ─ v0.3.9+1\n",
      "\u001b[32m\u001b[1m   Installed\u001b[22m\u001b[39m LZO_jll ────────────────────── v2.10.1+0\n",
      "\u001b[32m\u001b[1m   Installed\u001b[22m\u001b[39m FreeType2_jll ──────────────── v2.10.4+0\n",
      "\u001b[32m\u001b[1m   Installed\u001b[22m\u001b[39m Fontconfig_jll ─────────────── v2.13.93+0\n",
      "\u001b[32m\u001b[1m   Installed\u001b[22m\u001b[39m LAME_jll ───────────────────── v3.100.1+0\n",
      "\u001b[32m\u001b[1m   Installed\u001b[22m\u001b[39m Xorg_libX11_jll ────────────── v1.6.9+4\n",
      "\u001b[32m\u001b[1m   Installed\u001b[22m\u001b[39m LERC_jll ───────────────────── v3.0.0+1\n",
      "\u001b[32m\u001b[1m   Installed\u001b[22m\u001b[39m FFMPEG_jll ─────────────────── v4.4.0+0\n",
      "\u001b[32m\u001b[1m   Installed\u001b[22m\u001b[39m Libtiff_jll ────────────────── v4.3.0+1\n",
      "\u001b[32m\u001b[1m   Installed\u001b[22m\u001b[39m libpng_jll ─────────────────── v1.6.38+0\n",
      "\u001b[32m\u001b[1m   Installed\u001b[22m\u001b[39m RecipesPipeline ────────────── v0.5.2\n",
      "\u001b[32m\u001b[1m   Installed\u001b[22m\u001b[39m Graphite2_jll ──────────────── v1.3.14+0\n",
      "\u001b[32m\u001b[1m   Installed\u001b[22m\u001b[39m Wayland_jll ────────────────── v1.19.0+0\n",
      "\u001b[32m\u001b[1m   Installed\u001b[22m\u001b[39m Pixman_jll ─────────────────── v0.40.1+0\n",
      "\u001b[32m\u001b[1m   Installed\u001b[22m\u001b[39m Xorg_libXinerama_jll ───────── v1.1.4+4\n",
      "\u001b[32m\u001b[1m   Installed\u001b[22m\u001b[39m Xorg_libXcursor_jll ────────── v1.2.0+4\n",
      "\u001b[32m\u001b[1m   Installed\u001b[22m\u001b[39m Xorg_xcb_util_jll ──────────── v0.4.0+1\n",
      "\u001b[32m\u001b[1m   Installed\u001b[22m\u001b[39m Opus_jll ───────────────────── v1.3.2+0\n",
      "\u001b[32m\u001b[1m   Installed\u001b[22m\u001b[39m Xorg_libXi_jll ─────────────── v1.7.10+4\n",
      "\u001b[32m\u001b[1m   Installed\u001b[22m\u001b[39m GeometryBasics ─────────────── v0.4.2\n",
      "\u001b[32m\u001b[1m   Installed\u001b[22m\u001b[39m Latexify ───────────────────── v0.15.14\n",
      "\u001b[32m\u001b[1m   Installed\u001b[22m\u001b[39m Libffi_jll ─────────────────── v3.2.2+1\n",
      "\u001b[32m\u001b[1m   Installed\u001b[22m\u001b[39m Qt5Base_jll ────────────────── v5.15.3+1\n",
      "\u001b[32m\u001b[1m   Installed\u001b[22m\u001b[39m Xorg_libXext_jll ───────────── v1.3.4+4\n",
      "\u001b[32m\u001b[1m   Installed\u001b[22m\u001b[39m Libmount_jll ───────────────── v2.35.0+0\n",
      "\u001b[32m\u001b[1m   Installed\u001b[22m\u001b[39m Xorg_xcb_util_image_jll ────── v0.4.0+1\n",
      "\u001b[32m\u001b[1m   Installed\u001b[22m\u001b[39m GLFW_jll ───────────────────── v3.3.6+0\n",
      "\u001b[32m\u001b[1m   Installed\u001b[22m\u001b[39m Wayland_protocols_jll ──────── v1.25.0+0\n",
      "\u001b[32m\u001b[1m   Installed\u001b[22m\u001b[39m JpegTurbo_jll ──────────────── v2.1.2+0\n",
      "\u001b[32m\u001b[1m   Installed\u001b[22m\u001b[39m Xorg_libXrandr_jll ─────────── v1.5.2+4\n",
      "\u001b[32m\u001b[1m   Installed\u001b[22m\u001b[39m Xorg_xcb_util_wm_jll ───────── v0.4.1+1\n",
      "\u001b[32m\u001b[1m   Installed\u001b[22m\u001b[39m Xorg_xcb_util_keysyms_jll ──── v0.4.0+1\n",
      "\u001b[32m\u001b[1m   Installed\u001b[22m\u001b[39m Xorg_libpthread_stubs_jll ──── v0.1.0+3\n",
      "\u001b[32m\u001b[1m   Installed\u001b[22m\u001b[39m Xorg_xkeyboard_config_jll ──── v2.27.0+4\n",
      "\u001b[32m\u001b[1m   Installed\u001b[22m\u001b[39m UnicodeFun ─────────────────── v0.4.1\n",
      "\u001b[32m\u001b[1m   Installed\u001b[22m\u001b[39m Cairo_jll ──────────────────── v1.16.1+1\n",
      "\u001b[32m\u001b[1m   Installed\u001b[22m\u001b[39m xkbcommon_jll ──────────────── v0.9.1+5\n",
      "\u001b[32m\u001b[1m   Installed\u001b[22m\u001b[39m OpenSSL_jll ────────────────── v1.1.14+0\n",
      "\u001b[32m\u001b[1m   Installed\u001b[22m\u001b[39m libass_jll ─────────────────── v0.15.1+0\n",
      "\u001b[32m\u001b[1m   Installed\u001b[22m\u001b[39m PlotUtils ──────────────────── v1.2.0\n",
      "\u001b[32m\u001b[1m   Installed\u001b[22m\u001b[39m Xorg_libXau_jll ────────────── v1.0.9+4\n",
      "\u001b[32m\u001b[1m   Installed\u001b[22m\u001b[39m PCRE_jll ───────────────────── v8.44.0+0\n",
      "\u001b[32m\u001b[1m   Installed\u001b[22m\u001b[39m Expat_jll ──────────────────── v2.4.8+0\n",
      "\u001b[32m\u001b[1m   Installed\u001b[22m\u001b[39m libfdk_aac_jll ─────────────── v2.0.2+0\n",
      "\u001b[32m\u001b[1m   Installed\u001b[22m\u001b[39m x264_jll ───────────────────── v2021.5.5+0\n",
      "\u001b[32m\u001b[1m   Installed\u001b[22m\u001b[39m Xorg_libXfixes_jll ─────────── v5.0.3+4\n",
      "\u001b[32m\u001b[1m   Installed\u001b[22m\u001b[39m EarCut_jll ─────────────────── v2.2.3+0\n",
      "\u001b[32m\u001b[1m   Installed\u001b[22m\u001b[39m Libglvnd_jll ───────────────── v1.3.0+3\n",
      "\u001b[32m\u001b[1m   Installed\u001b[22m\u001b[39m HarfBuzz_jll ───────────────── v2.8.1+1\n",
      "\u001b[32m\u001b[1m   Installed\u001b[22m\u001b[39m GR_jll ─────────────────────── v0.64.2+0\n",
      "\u001b[32m\u001b[1m   Installed\u001b[22m\u001b[39m LaTeXStrings ───────────────── v1.3.0\n",
      "\u001b[32m\u001b[1m   Installed\u001b[22m\u001b[39m Xorg_libXrender_jll ────────── v0.9.10+4\n",
      "\u001b[32m\u001b[1m   Installed\u001b[22m\u001b[39m Glib_jll ───────────────────── v2.68.3+2\n",
      "\u001b[32m\u001b[1m   Installed\u001b[22m\u001b[39m Libuuid_jll ────────────────── v2.36.0+0\n",
      "\u001b[32m\u001b[1m   Installed\u001b[22m\u001b[39m XSLT_jll ───────────────────── v1.1.34+0\n",
      "\u001b[32m\u001b[1m   Installed\u001b[22m\u001b[39m libvorbis_jll ──────────────── v1.3.7+1\n",
      "\u001b[32m\u001b[1m   Installed\u001b[22m\u001b[39m ColorSchemes ───────────────── v3.17.1\n",
      "\u001b[32m\u001b[1m   Installed\u001b[22m\u001b[39m GR ─────────────────────────── v0.64.2\n",
      "\u001b[32m\u001b[1m    Updating\u001b[22m\u001b[39m `C:\\Users\\JARVIS\\.julia\\environments\\v1.6\\Project.toml`\n",
      " \u001b[90m [91a5bcdd] \u001b[39m\u001b[92m+ Plots v1.27.6\u001b[39m\n",
      "\u001b[32m\u001b[1m    Updating\u001b[22m\u001b[39m `C:\\Users\\JARVIS\\.julia\\environments\\v1.6\\Manifest.toml`\n",
      " \u001b[90m [35d6a980] \u001b[39m\u001b[92m+ ColorSchemes v3.17.1\u001b[39m\n",
      " \u001b[90m [c87230d0] \u001b[39m\u001b[92m+ FFMPEG v0.4.1\u001b[39m\n",
      " \u001b[90m [28b8d3ca] \u001b[39m\u001b[92m+ GR v0.64.2\u001b[39m\n",
      " \u001b[90m [5c1252a2] \u001b[39m\u001b[92m+ GeometryBasics v0.4.2\u001b[39m\n",
      " \u001b[90m [b964fa9f] \u001b[39m\u001b[92m+ LaTeXStrings v1.3.0\u001b[39m\n",
      " \u001b[90m [23fbe1c1] \u001b[39m\u001b[92m+ Latexify v0.15.14\u001b[39m\n",
      " \u001b[90m [77ba4419] \u001b[39m\u001b[92m+ NaNMath v1.0.0\u001b[39m\n",
      " \u001b[90m [ccf2f8ad] \u001b[39m\u001b[92m+ PlotThemes v3.0.0\u001b[39m\n",
      " \u001b[90m [995b91a9] \u001b[39m\u001b[92m+ PlotUtils v1.2.0\u001b[39m\n",
      " \u001b[90m [91a5bcdd] \u001b[39m\u001b[92m+ Plots v1.27.6\u001b[39m\n",
      " \u001b[90m [01d81517] \u001b[39m\u001b[92m+ RecipesPipeline v0.5.2\u001b[39m\n",
      " \u001b[90m [05181044] \u001b[39m\u001b[92m+ RelocatableFolders v0.1.3\u001b[39m\n",
      " \u001b[90m [6c6a2e73] \u001b[39m\u001b[92m+ Scratch v1.1.0\u001b[39m\n",
      " \u001b[90m [09ab397b] \u001b[39m\u001b[92m+ StructArrays v0.6.5\u001b[39m\n",
      " \u001b[90m [1cfade01] \u001b[39m\u001b[92m+ UnicodeFun v0.4.1\u001b[39m\n",
      " \u001b[90m [41fe7b60] \u001b[39m\u001b[92m+ Unzip v0.1.2\u001b[39m\n",
      " \u001b[90m [83423d85] \u001b[39m\u001b[92m+ Cairo_jll v1.16.1+1\u001b[39m\n",
      " \u001b[90m [5ae413db] \u001b[39m\u001b[92m+ EarCut_jll v2.2.3+0\u001b[39m\n",
      " \u001b[90m [2e619515] \u001b[39m\u001b[92m+ Expat_jll v2.4.8+0\u001b[39m\n",
      " \u001b[90m [b22a6f82] \u001b[39m\u001b[92m+ FFMPEG_jll v4.4.0+0\u001b[39m\n",
      " \u001b[90m [a3f928ae] \u001b[39m\u001b[92m+ Fontconfig_jll v2.13.93+0\u001b[39m\n",
      " \u001b[90m [d7e528f0] \u001b[39m\u001b[92m+ FreeType2_jll v2.10.4+0\u001b[39m\n",
      " \u001b[90m [559328eb] \u001b[39m\u001b[92m+ FriBidi_jll v1.0.10+0\u001b[39m\n",
      " \u001b[90m [0656b61e] \u001b[39m\u001b[92m+ GLFW_jll v3.3.6+0\u001b[39m\n",
      " \u001b[90m [d2c73de3] \u001b[39m\u001b[92m+ GR_jll v0.64.2+0\u001b[39m\n",
      " \u001b[90m [78b55507] \u001b[39m\u001b[92m+ Gettext_jll v0.21.0+0\u001b[39m\n",
      " \u001b[90m [7746bdde] \u001b[39m\u001b[92m+ Glib_jll v2.68.3+2\u001b[39m\n",
      " \u001b[90m [3b182d85] \u001b[39m\u001b[92m+ Graphite2_jll v1.3.14+0\u001b[39m\n",
      " \u001b[90m [2e76f6c2] \u001b[39m\u001b[92m+ HarfBuzz_jll v2.8.1+1\u001b[39m\n",
      " \u001b[90m [aacddb02] \u001b[39m\u001b[92m+ JpegTurbo_jll v2.1.2+0\u001b[39m\n",
      " \u001b[90m [c1c5ebd0] \u001b[39m\u001b[92m+ LAME_jll v3.100.1+0\u001b[39m\n",
      " \u001b[90m [88015f11] \u001b[39m\u001b[92m+ LERC_jll v3.0.0+1\u001b[39m\n",
      " \u001b[90m [dd4b983a] \u001b[39m\u001b[92m+ LZO_jll v2.10.1+0\u001b[39m\n",
      " \u001b[90m [e9f186c6] \u001b[39m\u001b[92m+ Libffi_jll v3.2.2+1\u001b[39m\n",
      " \u001b[90m [d4300ac3] \u001b[39m\u001b[92m+ Libgcrypt_jll v1.8.7+0\u001b[39m\n",
      " \u001b[90m [7e76a0d4] \u001b[39m\u001b[92m+ Libglvnd_jll v1.3.0+3\u001b[39m\n",
      " \u001b[90m [7add5ba3] \u001b[39m\u001b[92m+ Libgpg_error_jll v1.42.0+0\u001b[39m\n"
     ]
    },
    {
     "name": "stderr",
     "output_type": "stream",
     "text": [
      " \u001b[90m [4b2f31a3] \u001b[39m\u001b[92m+ Libmount_jll v2.35.0+0\u001b[39m\n",
      " \u001b[90m [89763e89] \u001b[39m\u001b[92m+ Libtiff_jll v4.3.0+1\u001b[39m\n",
      " \u001b[90m [38a345b3] \u001b[39m\u001b[92m+ Libuuid_jll v2.36.0+0\u001b[39m\n",
      " \u001b[90m [e7412a2a] \u001b[39m\u001b[92m+ Ogg_jll v1.3.5+1\u001b[39m\n",
      " \u001b[90m [458c3c95] \u001b[39m\u001b[92m+ OpenSSL_jll v1.1.14+0\u001b[39m\n",
      " \u001b[90m [91d4177d] \u001b[39m\u001b[92m+ Opus_jll v1.3.2+0\u001b[39m\n",
      " \u001b[90m [2f80f16e] \u001b[39m\u001b[92m+ PCRE_jll v8.44.0+0\u001b[39m\n",
      " \u001b[90m [30392449] \u001b[39m\u001b[92m+ Pixman_jll v0.40.1+0\u001b[39m\n",
      " \u001b[90m [ea2cea3b] \u001b[39m\u001b[92m+ Qt5Base_jll v5.15.3+1\u001b[39m\n",
      " \u001b[90m [a2964d1f] \u001b[39m\u001b[92m+ Wayland_jll v1.19.0+0\u001b[39m\n",
      " \u001b[90m [2381bf8a] \u001b[39m\u001b[92m+ Wayland_protocols_jll v1.25.0+0\u001b[39m\n",
      " \u001b[90m [aed1982a] \u001b[39m\u001b[92m+ XSLT_jll v1.1.34+0\u001b[39m\n",
      " \u001b[90m [4f6342f7] \u001b[39m\u001b[92m+ Xorg_libX11_jll v1.6.9+4\u001b[39m\n",
      " \u001b[90m [0c0b7dd1] \u001b[39m\u001b[92m+ Xorg_libXau_jll v1.0.9+4\u001b[39m\n",
      " \u001b[90m [935fb764] \u001b[39m\u001b[92m+ Xorg_libXcursor_jll v1.2.0+4\u001b[39m\n",
      " \u001b[90m [a3789734] \u001b[39m\u001b[92m+ Xorg_libXdmcp_jll v1.1.3+4\u001b[39m\n",
      " \u001b[90m [1082639a] \u001b[39m\u001b[92m+ Xorg_libXext_jll v1.3.4+4\u001b[39m\n",
      " \u001b[90m [d091e8ba] \u001b[39m\u001b[92m+ Xorg_libXfixes_jll v5.0.3+4\u001b[39m\n",
      " \u001b[90m [a51aa0fd] \u001b[39m\u001b[92m+ Xorg_libXi_jll v1.7.10+4\u001b[39m\n",
      " \u001b[90m [d1454406] \u001b[39m\u001b[92m+ Xorg_libXinerama_jll v1.1.4+4\u001b[39m\n",
      " \u001b[90m [ec84b674] \u001b[39m\u001b[92m+ Xorg_libXrandr_jll v1.5.2+4\u001b[39m\n",
      " \u001b[90m [ea2f1a96] \u001b[39m\u001b[92m+ Xorg_libXrender_jll v0.9.10+4\u001b[39m\n",
      " \u001b[90m [14d82f49] \u001b[39m\u001b[92m+ Xorg_libpthread_stubs_jll v0.1.0+3\u001b[39m\n",
      " \u001b[90m [c7cfdc94] \u001b[39m\u001b[92m+ Xorg_libxcb_jll v1.13.0+3\u001b[39m\n",
      " \u001b[90m [cc61e674] \u001b[39m\u001b[92m+ Xorg_libxkbfile_jll v1.1.0+4\u001b[39m\n",
      " \u001b[90m [12413925] \u001b[39m\u001b[92m+ Xorg_xcb_util_image_jll v0.4.0+1\u001b[39m\n",
      " \u001b[90m [2def613f] \u001b[39m\u001b[92m+ Xorg_xcb_util_jll v0.4.0+1\u001b[39m\n",
      " \u001b[90m [975044d2] \u001b[39m\u001b[92m+ Xorg_xcb_util_keysyms_jll v0.4.0+1\u001b[39m\n",
      " \u001b[90m [0d47668e] \u001b[39m\u001b[92m+ Xorg_xcb_util_renderutil_jll v0.3.9+1\u001b[39m\n",
      " \u001b[90m [c22f9ab0] \u001b[39m\u001b[92m+ Xorg_xcb_util_wm_jll v0.4.1+1\u001b[39m\n",
      " \u001b[90m [35661453] \u001b[39m\u001b[92m+ Xorg_xkbcomp_jll v1.4.2+4\u001b[39m\n",
      " \u001b[90m [33bec58e] \u001b[39m\u001b[92m+ Xorg_xkeyboard_config_jll v2.27.0+4\u001b[39m\n",
      " \u001b[90m [c5fb5394] \u001b[39m\u001b[92m+ Xorg_xtrans_jll v1.4.0+3\u001b[39m\n",
      " \u001b[90m [0ac62f75] \u001b[39m\u001b[92m+ libass_jll v0.15.1+0\u001b[39m\n",
      " \u001b[90m [f638f0a6] \u001b[39m\u001b[92m+ libfdk_aac_jll v2.0.2+0\u001b[39m\n",
      " \u001b[90m [b53b4c65] \u001b[39m\u001b[92m+ libpng_jll v1.6.38+0\u001b[39m\n",
      " \u001b[90m [f27f6e37] \u001b[39m\u001b[92m+ libvorbis_jll v1.3.7+1\u001b[39m\n",
      " \u001b[90m [1270edf5] \u001b[39m\u001b[92m+ x264_jll v2021.5.5+0\u001b[39m\n",
      " \u001b[90m [dfaa095f] \u001b[39m\u001b[92m+ x265_jll v3.5.0+0\u001b[39m\n",
      " \u001b[90m [d8fb68d0] \u001b[39m\u001b[92m+ xkbcommon_jll v0.9.1+5\u001b[39m\n",
      "\u001b[32m\u001b[1m    Building\u001b[22m\u001b[39m GR → `C:\\Users\\JARVIS\\.julia\\scratchspaces\\44cfe95a-1eb2-52ea-b672-e2afdf69b78f\\af237c08bda486b74318c8070adb96efa6952530\\build.log`\n",
      "\u001b[32m\u001b[1mPrecompiling\u001b[22m\u001b[39m project...\n",
      "\u001b[32m  ✓ \u001b[39m\u001b[90mUnzip\u001b[39m\n",
      "\u001b[32m  ✓ \u001b[39m\u001b[90mLaTeXStrings\u001b[39m\n",
      "\u001b[32m  ✓ \u001b[39m\u001b[90mScratch\u001b[39m\n",
      "\u001b[32m  ✓ \u001b[39m\u001b[90mUnicodeFun\u001b[39m\n",
      "\u001b[32m  ✓ \u001b[39m\u001b[90mStructArrays\u001b[39m\n",
      "\u001b[32m  ✓ \u001b[39m\u001b[90mXorg_xtrans_jll\u001b[39m\n",
      "\u001b[32m  ✓ \u001b[39m\u001b[90mGraphite2_jll\u001b[39m\n",
      "\u001b[32m  ✓ \u001b[39m\u001b[90mx265_jll\u001b[39m\n",
      "\u001b[32m  ✓ \u001b[39m\u001b[90mx264_jll\u001b[39m\n",
      "\u001b[32m  ✓ \u001b[39m\u001b[90mJpegTurbo_jll\u001b[39m\n",
      "\u001b[32m  ✓ \u001b[39m\u001b[90mWayland_protocols_jll\u001b[39m\n",
      "\u001b[32m  ✓ \u001b[39m\u001b[90mFriBidi_jll\u001b[39m\n",
      "\u001b[32m  ✓ \u001b[39m\u001b[90mColorSchemes\u001b[39m\n",
      "\u001b[32m  ✓ \u001b[39m\u001b[90mOpenSSL_jll\u001b[39m\n",
      "\u001b[32m  ✓ \u001b[39m\u001b[90mLibgpg_error_jll\u001b[39m\n",
      "\u001b[32m  ✓ \u001b[39m\u001b[90mOgg_jll\u001b[39m\n",
      "\u001b[32m  ✓ \u001b[39m\u001b[90mLAME_jll\u001b[39m\n",
      "\u001b[32m  ✓ \u001b[39m\u001b[90mlibpng_jll\u001b[39m\n",
      "\u001b[32m  ✓ \u001b[39m\u001b[90mlibfdk_aac_jll\u001b[39m\n",
      "\u001b[32m  ✓ \u001b[39m\u001b[90mLibffi_jll\u001b[39m\n",
      "\u001b[32m  ✓ \u001b[39m\u001b[90mXorg_libpthread_stubs_jll\u001b[39m\n",
      "\u001b[32m  ✓ \u001b[39m\u001b[90mOpus_jll\u001b[39m\n",
      "\u001b[32m  ✓ \u001b[39m\u001b[90mLZO_jll\u001b[39m\n",
      "\u001b[32m  ✓ \u001b[39m\u001b[90mXorg_libXdmcp_jll\u001b[39m\n",
      "\u001b[32m  ✓ \u001b[39m\u001b[90mLibuuid_jll\u001b[39m\n",
      "\u001b[32m  ✓ \u001b[39m\u001b[90mEarCut_jll\u001b[39m\n",
      "\u001b[32m  ✓ \u001b[39m\u001b[90mLibmount_jll\u001b[39m\n",
      "\u001b[32m  ✓ \u001b[39m\u001b[90mPixman_jll\u001b[39m\n",
      "\u001b[32m  ✓ \u001b[39m\u001b[90mLERC_jll\u001b[39m\n",
      "\u001b[32m  ✓ \u001b[39m\u001b[90mXorg_libXau_jll\u001b[39m\n",
      "\u001b[32m  ✓ \u001b[39m\u001b[90mExpat_jll\u001b[39m\n",
      "\u001b[32m  ✓ \u001b[39m\u001b[90mPCRE_jll\u001b[39m\n",
      "\u001b[32m  ✓ \u001b[39m\u001b[90mFreeType2_jll\u001b[39m\n",
      "\u001b[32m  ✓ \u001b[39m\u001b[90mRelocatableFolders\u001b[39m\n",
      "\u001b[32m  ✓ \u001b[39m\u001b[90mGettext_jll\u001b[39m\n",
      "\u001b[32m  ✓ \u001b[39m\u001b[90mLibgcrypt_jll\u001b[39m\n",
      "\u001b[32m  ✓ \u001b[39m\u001b[90mLatexify\u001b[39m\n",
      "\u001b[32m  ✓ \u001b[39m\u001b[90mlibvorbis_jll\u001b[39m\n",
      "\u001b[32m  ✓ \u001b[39m\u001b[90mLibtiff_jll\u001b[39m\n",
      "\u001b[32m  ✓ \u001b[39m\u001b[90mPlotUtils\u001b[39m\n",
      "\u001b[32m  ✓ \u001b[39m\u001b[90mWayland_jll\u001b[39m\n",
      "\u001b[32m  ✓ \u001b[39m\u001b[90mFontconfig_jll\u001b[39m\n",
      "\u001b[32m  ✓ \u001b[39m\u001b[90mGlib_jll\u001b[39m\n",
      "\u001b[32m  ✓ \u001b[39m\u001b[90mXSLT_jll\u001b[39m\n",
      "\u001b[32m  ✓ \u001b[39m\u001b[90mGeometryBasics\u001b[39m\n",
      "\u001b[32m  ✓ \u001b[39m\u001b[90mRecipesPipeline\u001b[39m\n",
      "\u001b[32m  ✓ \u001b[39m\u001b[90mXorg_libxcb_jll\u001b[39m\n",
      "\u001b[32m  ✓ \u001b[39m\u001b[90mXorg_libX11_jll\u001b[39m\n",
      "\u001b[32m  ✓ \u001b[39m\u001b[90mXorg_xcb_util_jll\u001b[39m\n",
      "\u001b[32m  ✓ \u001b[39m\u001b[90mPlotThemes\u001b[39m\n",
      "\u001b[32m  ✓ \u001b[39m\u001b[90mXorg_libXext_jll\u001b[39m\n",
      "\u001b[32m  ✓ \u001b[39m\u001b[90mXorg_libXrender_jll\u001b[39m\n",
      "\u001b[32m  ✓ \u001b[39m\u001b[90mXorg_libxkbfile_jll\u001b[39m\n",
      "\u001b[32m  ✓ \u001b[39m\u001b[90mXorg_libXfixes_jll\u001b[39m\n",
      "\u001b[32m  ✓ \u001b[39m\u001b[90mXorg_xcb_util_renderutil_jll\u001b[39m\n",
      "\u001b[32m  ✓ \u001b[39m\u001b[90mXorg_xcb_util_wm_jll\u001b[39m\n",
      "\u001b[32m  ✓ \u001b[39m\u001b[90mXorg_xcb_util_keysyms_jll\u001b[39m\n",
      "\u001b[32m  ✓ \u001b[39m\u001b[90mXorg_xcb_util_image_jll\u001b[39m\n",
      "\u001b[32m  ✓ \u001b[39m\u001b[90mXorg_libXinerama_jll\u001b[39m\n",
      "\u001b[32m  ✓ \u001b[39m\u001b[90mLibglvnd_jll\u001b[39m\n",
      "\u001b[32m  ✓ \u001b[39m\u001b[90mXorg_libXrandr_jll\u001b[39m\n",
      "\u001b[32m  ✓ \u001b[39m\u001b[90mXorg_xkbcomp_jll\u001b[39m\n",
      "\u001b[32m  ✓ \u001b[39m\u001b[90mXorg_libXcursor_jll\u001b[39m\n",
      "\u001b[32m  ✓ \u001b[39m\u001b[90mCairo_jll\u001b[39m\n",
      "\u001b[32m  ✓ \u001b[39m\u001b[90mXorg_libXi_jll\u001b[39m\n",
      "\u001b[32m  ✓ \u001b[39m\u001b[90mXorg_xkeyboard_config_jll\u001b[39m\n",
      "\u001b[32m  ✓ \u001b[39m\u001b[90mGLFW_jll\u001b[39m\n",
      "\u001b[32m  ✓ \u001b[39m\u001b[90mxkbcommon_jll\u001b[39m\n",
      "\u001b[32m  ✓ \u001b[39m\u001b[90mHarfBuzz_jll\u001b[39m\n",
      "\u001b[32m  ✓ \u001b[39m\u001b[90mQt5Base_jll\u001b[39m\n",
      "\u001b[32m  ✓ \u001b[39m\u001b[90mlibass_jll\u001b[39m\n",
      "\u001b[32m  ✓ \u001b[39m\u001b[90mFFMPEG_jll\u001b[39m\n",
      "\u001b[32m  ✓ \u001b[39m\u001b[90mFFMPEG\u001b[39m\n",
      "\u001b[32m  ✓ \u001b[39m\u001b[90mGR_jll\u001b[39m\n",
      "\u001b[32m  ✓ \u001b[39m\u001b[90mGR\u001b[39m\n",
      "\u001b[32m  ✓ \u001b[39mPlots\n",
      "  76 dependencies successfully precompiled in 100 seconds (169 already precompiled)\n"
     ]
    }
   ],
   "source": [
    "Pkg.add(\"CategoricalArrays\")\n",
    "Pkg.add(\"Gadfly\")\n",
    "Pkg.add(\"Plots\")"
   ]
  },
  {
   "cell_type": "code",
   "execution_count": 14,
   "id": "9d36be1a",
   "metadata": {},
   "outputs": [],
   "source": [
    "using Pkg\n",
    "using DataFrames\n",
    "using Dates\n",
    "using Statistics,RData  #upload data of R format \n",
    "using CategoricalArrays # categorical data\n",
    "using Gadfly\n",
    "using Plots"
   ]
  },
  {
   "cell_type": "code",
   "execution_count": 16,
   "id": "ad4f5d06",
   "metadata": {},
   "outputs": [
    {
     "name": "stderr",
     "output_type": "stream",
     "text": [
      "\u001b[32m\u001b[1m   Resolving\u001b[22m\u001b[39m package versions...\n",
      "\u001b[32m\u001b[1m    Updating\u001b[22m\u001b[39m `C:\\Users\\JARVIS\\.julia\\environments\\v1.6\\Project.toml`\n",
      " \u001b[90m [31c24e10] \u001b[39m\u001b[92m+ Distributions v0.25.53\u001b[39m\n",
      "\u001b[32m\u001b[1m  No Changes\u001b[22m\u001b[39m to `C:\\Users\\JARVIS\\.julia\\environments\\v1.6\\Manifest.toml`\n"
     ]
    }
   ],
   "source": [
    "Pkg.add(\"Distributions\")"
   ]
  },
  {
   "cell_type": "code",
   "execution_count": 17,
   "id": "8ce68a36",
   "metadata": {},
   "outputs": [],
   "source": [
    "using RData, LinearAlgebra, GLM, DataFrames, Statistics, Random, Distributions, DataStructures, NamedArrays, PrettyTables\n",
    "import CodecBzip2"
   ]
  },
  {
   "cell_type": "code",
   "execution_count": 18,
   "id": "bbba002b",
   "metadata": {},
   "outputs": [
    {
     "name": "stderr",
     "output_type": "stream",
     "text": [
      "\u001b[32m\u001b[1m   Resolving\u001b[22m\u001b[39m package versions...\n",
      "\u001b[32m\u001b[1m  No Changes\u001b[22m\u001b[39m to `C:\\Users\\JARVIS\\.julia\\environments\\v1.6\\Project.toml`\n",
      "\u001b[32m\u001b[1m  No Changes\u001b[22m\u001b[39m to `C:\\Users\\JARVIS\\.julia\\environments\\v1.6\\Manifest.toml`\n"
     ]
    }
   ],
   "source": [
    "import Pkg\n",
    "Pkg.add(\"TableOperations\")"
   ]
  },
  {
   "cell_type": "code",
   "execution_count": 19,
   "id": "ac5100ec",
   "metadata": {
    "scrolled": true
   },
   "outputs": [
    {
     "name": "stderr",
     "output_type": "stream",
     "text": [
      "\u001b[32m\u001b[1m   Resolving\u001b[22m\u001b[39m package versions...\n",
      "\u001b[32m\u001b[1m  No Changes\u001b[22m\u001b[39m to `C:\\Users\\JARVIS\\.julia\\environments\\v1.6\\Project.toml`\n",
      "\u001b[32m\u001b[1m  No Changes\u001b[22m\u001b[39m to `C:\\Users\\JARVIS\\.julia\\environments\\v1.6\\Manifest.toml`\n"
     ]
    }
   ],
   "source": [
    "Pkg.add(\"StatsBase\")"
   ]
  },
  {
   "cell_type": "code",
   "execution_count": 20,
   "id": "02087fcd",
   "metadata": {
    "scrolled": true
   },
   "outputs": [
    {
     "name": "stderr",
     "output_type": "stream",
     "text": [
      "\u001b[32m\u001b[1m   Resolving\u001b[22m\u001b[39m package versions...\n",
      "\u001b[32m\u001b[1m  No Changes\u001b[22m\u001b[39m to `C:\\Users\\JARVIS\\.julia\\environments\\v1.6\\Project.toml`\n",
      "\u001b[32m\u001b[1m  No Changes\u001b[22m\u001b[39m to `C:\\Users\\JARVIS\\.julia\\environments\\v1.6\\Manifest.toml`\n"
     ]
    }
   ],
   "source": [
    "Pkg.add(\"FreqTables\")"
   ]
  },
  {
   "cell_type": "code",
   "execution_count": 22,
   "id": "2edb9338",
   "metadata": {},
   "outputs": [
    {
     "name": "stderr",
     "output_type": "stream",
     "text": [
      "\u001b[32m\u001b[1m   Resolving\u001b[22m\u001b[39m package versions...\n",
      "\u001b[32m\u001b[1m   Installed\u001b[22m\u001b[39m CSV ─ v0.10.4\n",
      "\u001b[32m\u001b[1m    Updating\u001b[22m\u001b[39m `C:\\Users\\JARVIS\\.julia\\environments\\v1.6\\Project.toml`\n",
      " \u001b[90m [336ed68f] \u001b[39m\u001b[92m+ CSV v0.10.4\u001b[39m\n",
      "\u001b[32m\u001b[1m    Updating\u001b[22m\u001b[39m `C:\\Users\\JARVIS\\.julia\\environments\\v1.6\\Manifest.toml`\n",
      " \u001b[90m [336ed68f] \u001b[39m\u001b[92m+ CSV v0.10.4\u001b[39m\n",
      "\u001b[32m\u001b[1mPrecompiling\u001b[22m\u001b[39m project...\n",
      "\u001b[32m  ✓ \u001b[39mCSV\n",
      "  1 dependency successfully precompiled in 9 seconds (245 already precompiled)\n"
     ]
    }
   ],
   "source": [
    "Pkg.add(\"CSV\")\n",
    "using CSV"
   ]
  },
  {
   "cell_type": "code",
   "execution_count": 23,
   "id": "51fa599a",
   "metadata": {},
   "outputs": [
    {
     "name": "stdout",
     "output_type": "stream",
     "text": [
      "Number of Rows : 5150\n",
      "Number of Columns : 21\n"
     ]
    }
   ],
   "source": [
    "#Reading the CSV file into a DataFrame\n",
    "#We have to set the category type for some variable\n",
    "\n",
    "data = CSV.File(\"../../data/wage2015_subsample_inference.csv\"; types = Dict(\"occ\" => Float64,\"occ2\"=> Float64,\"ind\"=>Float64,\"ind2\"=>Float64)) |> DataFrame\n",
    "println(\"Number of Rows : \", size(data)[1],\"\\n\",\"Number of Columns : \", size(data)[2],) #rows\n"
   ]
  },
  {
   "cell_type": "code",
   "execution_count": 24,
   "id": "2e63e319",
   "metadata": {
    "scrolled": true
   },
   "outputs": [
    {
     "data": {
      "text/html": [
       "<div class=\"data-frame\"><p>21 rows × 7 columns</p><table class=\"data-frame\"><thead><tr><th></th><th>variable</th><th>mean</th><th>min</th><th>median</th><th>max</th><th>nmissing</th><th>eltype</th></tr><tr><th></th><th title=\"Symbol\">Symbol</th><th title=\"Float64\">Float64</th><th title=\"Real\">Real</th><th title=\"Float64\">Float64</th><th title=\"Real\">Real</th><th title=\"Int64\">Int64</th><th title=\"DataType\">DataType</th></tr></thead><tbody><tr><th>1</th><td>rownames</td><td>15324.3</td><td>15</td><td>14436.0</td><td>32631</td><td>0</td><td>Int64</td></tr><tr><th>2</th><td>wage</td><td>17.8544</td><td>3.36538</td><td>14.6154</td><td>528.846</td><td>0</td><td>Float64</td></tr><tr><th>3</th><td>lwage</td><td>2.71856</td><td>1.21354</td><td>2.68207</td><td>6.2707</td><td>0</td><td>Float64</td></tr><tr><th>4</th><td>sex</td><td>0.321948</td><td>0.0</td><td>0.0</td><td>1.0</td><td>0</td><td>Float64</td></tr><tr><th>5</th><td>shs</td><td>0.0872093</td><td>0.0</td><td>0.0</td><td>1.0</td><td>0</td><td>Float64</td></tr><tr><th>6</th><td>hsg</td><td>0.912791</td><td>0.0</td><td>1.0</td><td>1.0</td><td>0</td><td>Float64</td></tr><tr><th>7</th><td>scl</td><td>0.0</td><td>0.0</td><td>0.0</td><td>0.0</td><td>0</td><td>Float64</td></tr><tr><th>8</th><td>clg</td><td>0.0</td><td>0.0</td><td>0.0</td><td>0.0</td><td>0</td><td>Float64</td></tr><tr><th>9</th><td>ad</td><td>0.0</td><td>0.0</td><td>0.0</td><td>0.0</td><td>0</td><td>Float64</td></tr><tr><th>10</th><td>mw</td><td>0.286337</td><td>0.0</td><td>0.0</td><td>1.0</td><td>0</td><td>Float64</td></tr><tr><th>11</th><td>so</td><td>0.291424</td><td>0.0</td><td>0.0</td><td>1.0</td><td>0</td><td>Float64</td></tr><tr><th>12</th><td>we</td><td>0.198401</td><td>0.0</td><td>0.0</td><td>1.0</td><td>0</td><td>Float64</td></tr><tr><th>13</th><td>ne</td><td>0.223837</td><td>0.0</td><td>0.0</td><td>1.0</td><td>0</td><td>Float64</td></tr><tr><th>14</th><td>exp1</td><td>17.19</td><td>5.0</td><td>14.0</td><td>47.0</td><td>0</td><td>Float64</td></tr><tr><th>15</th><td>exp2</td><td>4.02953</td><td>0.25</td><td>1.96</td><td>22.09</td><td>0</td><td>Float64</td></tr><tr><th>16</th><td>exp3</td><td>11.4344</td><td>0.125</td><td>2.744</td><td>103.823</td><td>0</td><td>Float64</td></tr><tr><th>17</th><td>exp4</td><td>36.1583</td><td>0.0625</td><td>3.8416</td><td>487.968</td><td>0</td><td>Float64</td></tr><tr><th>18</th><td>occ</td><td>7668.49</td><td>20.0</td><td>5400.0</td><td>100000.0</td><td>0</td><td>Float64</td></tr><tr><th>19</th><td>occ2</td><td>15.7158</td><td>1.0</td><td>17.0</td><td>22.0</td><td>0</td><td>Float64</td></tr><tr><th>20</th><td>ind</td><td>5972.47</td><td>370.0</td><td>5490.0</td><td>100000.0</td><td>0</td><td>Float64</td></tr><tr><th>21</th><td>ind2</td><td>11.5872</td><td>2.0</td><td>9.0</td><td>22.0</td><td>0</td><td>Float64</td></tr></tbody></table></div>"
      ],
      "text/latex": [
       "\\begin{tabular}{r|ccccccc}\n",
       "\t& variable & mean & min & median & max & nmissing & eltype\\\\\n",
       "\t\\hline\n",
       "\t& Symbol & Float64 & Real & Float64 & Real & Int64 & DataType\\\\\n",
       "\t\\hline\n",
       "\t1 & rownames & 15324.3 & 15 & 14436.0 & 32631 & 0 & Int64 \\\\\n",
       "\t2 & wage & 17.8544 & 3.36538 & 14.6154 & 528.846 & 0 & Float64 \\\\\n",
       "\t3 & lwage & 2.71856 & 1.21354 & 2.68207 & 6.2707 & 0 & Float64 \\\\\n",
       "\t4 & sex & 0.321948 & 0.0 & 0.0 & 1.0 & 0 & Float64 \\\\\n",
       "\t5 & shs & 0.0872093 & 0.0 & 0.0 & 1.0 & 0 & Float64 \\\\\n",
       "\t6 & hsg & 0.912791 & 0.0 & 1.0 & 1.0 & 0 & Float64 \\\\\n",
       "\t7 & scl & 0.0 & 0.0 & 0.0 & 0.0 & 0 & Float64 \\\\\n",
       "\t8 & clg & 0.0 & 0.0 & 0.0 & 0.0 & 0 & Float64 \\\\\n",
       "\t9 & ad & 0.0 & 0.0 & 0.0 & 0.0 & 0 & Float64 \\\\\n",
       "\t10 & mw & 0.286337 & 0.0 & 0.0 & 1.0 & 0 & Float64 \\\\\n",
       "\t11 & so & 0.291424 & 0.0 & 0.0 & 1.0 & 0 & Float64 \\\\\n",
       "\t12 & we & 0.198401 & 0.0 & 0.0 & 1.0 & 0 & Float64 \\\\\n",
       "\t13 & ne & 0.223837 & 0.0 & 0.0 & 1.0 & 0 & Float64 \\\\\n",
       "\t14 & exp1 & 17.19 & 5.0 & 14.0 & 47.0 & 0 & Float64 \\\\\n",
       "\t15 & exp2 & 4.02953 & 0.25 & 1.96 & 22.09 & 0 & Float64 \\\\\n",
       "\t16 & exp3 & 11.4344 & 0.125 & 2.744 & 103.823 & 0 & Float64 \\\\\n",
       "\t17 & exp4 & 36.1583 & 0.0625 & 3.8416 & 487.968 & 0 & Float64 \\\\\n",
       "\t18 & occ & 7668.49 & 20.0 & 5400.0 & 100000.0 & 0 & Float64 \\\\\n",
       "\t19 & occ2 & 15.7158 & 1.0 & 17.0 & 22.0 & 0 & Float64 \\\\\n",
       "\t20 & ind & 5972.47 & 370.0 & 5490.0 & 100000.0 & 0 & Float64 \\\\\n",
       "\t21 & ind2 & 11.5872 & 2.0 & 9.0 & 22.0 & 0 & Float64 \\\\\n",
       "\\end{tabular}\n"
      ],
      "text/plain": [
       "\u001b[1m21×7 DataFrame\u001b[0m\n",
       "\u001b[1m Row \u001b[0m│\u001b[1m variable \u001b[0m\u001b[1m mean          \u001b[0m\u001b[1m min       \u001b[0m\u001b[1m median      \u001b[0m\u001b[1m max         \u001b[0m\u001b[1m nmissing \u001b[0m\u001b[1m\u001b[0m ⋯\n",
       "\u001b[1m     \u001b[0m│\u001b[90m Symbol   \u001b[0m\u001b[90m Float64       \u001b[0m\u001b[90m Real      \u001b[0m\u001b[90m Float64     \u001b[0m\u001b[90m Real        \u001b[0m\u001b[90m Int64    \u001b[0m\u001b[90m\u001b[0m ⋯\n",
       "─────┼──────────────────────────────────────────────────────────────────────────\n",
       "   1 │ rownames  15324.3         15        14436.0       32631              0  ⋯\n",
       "   2 │ wage         17.8544       3.36538     14.6154      528.846          0\n",
       "   3 │ lwage         2.71856      1.21354      2.68207       6.2707         0\n",
       "   4 │ sex           0.321948     0.0          0.0           1.0            0\n",
       "   5 │ shs           0.0872093    0.0          0.0           1.0            0  ⋯\n",
       "   6 │ hsg           0.912791     0.0          1.0           1.0            0\n",
       "   7 │ scl           0.0          0.0          0.0           0.0            0\n",
       "   8 │ clg           0.0          0.0          0.0           0.0            0\n",
       "   9 │ ad            0.0          0.0          0.0           0.0            0  ⋯\n",
       "  10 │ mw            0.286337     0.0          0.0           1.0            0\n",
       "  11 │ so            0.291424     0.0          0.0           1.0            0\n",
       "  12 │ we            0.198401     0.0          0.0           1.0            0\n",
       "  13 │ ne            0.223837     0.0          0.0           1.0            0  ⋯\n",
       "  14 │ exp1         17.19         5.0         14.0          47.0            0\n",
       "  15 │ exp2          4.02953      0.25         1.96         22.09           0\n",
       "  16 │ exp3         11.4344       0.125        2.744       103.823          0\n",
       "  17 │ exp4         36.1583       0.0625       3.8416      487.968          0  ⋯\n",
       "  18 │ occ        7668.49        20.0       5400.0      100000.0            0\n",
       "  19 │ occ2         15.7158       1.0         17.0          22.0            0\n",
       "  20 │ ind        5972.47       370.0       5490.0      100000.0            0\n",
       "  21 │ ind2         11.5872       2.0          9.0          22.0            0  ⋯\n",
       "\u001b[36m                                                                1 column omitted\u001b[0m"
      ]
     },
     "execution_count": 24,
     "metadata": {},
     "output_type": "execute_result"
    }
   ],
   "source": [
    "Z4=copy(data)\n",
    "Z4=filter(row->row.shs in [1] || row.hsg in [1], Z4)\n",
    "describe(Z4)"
   ]
  },
  {
   "cell_type": "code",
   "execution_count": 25,
   "id": "89273172",
   "metadata": {},
   "outputs": [],
   "source": [
    "# couples variables combinations\n",
    "combinations_upto(x, n) = Iterators.flatten(combinations(x, i) for i in 1:n)\n",
    "# combinations without same couple\n",
    "expand_exp(args, deg::ConstantTerm) =\n",
    "    tuple(((&)(terms...) for terms in combinations_upto(args, deg.n))...)\n",
    "\n",
    "StatsModels.apply_schema(t::FunctionTerm{typeof(^)}, sch::StatsModels.Schema, ctx::Type) =\n",
    "    apply_schema.(expand_exp(t.args_parsed...), Ref(sch), ctx)"
   ]
  },
  {
   "cell_type": "markdown",
   "id": "820a3a6e",
   "metadata": {},
   "source": [
    "## Case 1: Basic Lasso"
   ]
  },
  {
   "cell_type": "code",
   "execution_count": 29,
   "id": "0ae36567",
   "metadata": {
    "scrolled": true
   },
   "outputs": [
    {
     "name": "stderr",
     "output_type": "stream",
     "text": [
      "\u001b[32m\u001b[1m   Resolving\u001b[22m\u001b[39m package versions...\n",
      "\u001b[32m\u001b[1m    Updating\u001b[22m\u001b[39m `C:\\Users\\JARVIS\\.julia\\environments\\v1.6\\Project.toml`\n",
      " \u001b[90m [bd369af6] \u001b[39m\u001b[92m+ Tables v1.7.0\u001b[39m\n",
      "\u001b[32m\u001b[1m  No Changes\u001b[22m\u001b[39m to `C:\\Users\\JARVIS\\.julia\\environments\\v1.6\\Manifest.toml`\n"
     ]
    }
   ],
   "source": [
    "Pkg.add(\"Tables\")\n",
    "using Tables"
   ]
  },
  {
   "cell_type": "code",
   "execution_count": 26,
   "id": "12dfb891",
   "metadata": {
    "collapsed": true
   },
   "outputs": [
    {
     "data": {
      "text/html": [
       "<div class=\"data-frame\"><p>1,376 rows × 10 columns (omitted printing of 1 columns)</p><table class=\"data-frame\"><thead><tr><th></th><th>Y</th><th>D</th><th>exp1</th><th>shs</th><th>hsg</th><th>mw</th><th>so</th><th>we</th><th>occ2</th></tr><tr><th></th><th title=\"Float64\">Float64</th><th title=\"Float64\">Float64</th><th title=\"Float64\">Float64</th><th title=\"Float64\">Float64</th><th title=\"Float64\">Float64</th><th title=\"Float64\">Float64</th><th title=\"Float64\">Float64</th><th title=\"Float64\">Float64</th><th title=\"Float64\">Float64</th></tr></thead><tbody><tr><th>1</th><td>2.40313</td><td>0.0</td><td>18.0</td><td>0.0</td><td>1.0</td><td>0.0</td><td>0.0</td><td>0.0</td><td>19.0</td></tr><tr><th>2</th><td>2.95651</td><td>1.0</td><td>42.0</td><td>0.0</td><td>1.0</td><td>0.0</td><td>0.0</td><td>0.0</td><td>17.0</td></tr><tr><th>3</th><td>2.95651</td><td>0.0</td><td>37.0</td><td>0.0</td><td>1.0</td><td>0.0</td><td>0.0</td><td>0.0</td><td>17.0</td></tr><tr><th>4</th><td>2.48491</td><td>1.0</td><td>31.0</td><td>0.0</td><td>1.0</td><td>0.0</td><td>0.0</td><td>0.0</td><td>13.0</td></tr><tr><th>5</th><td>2.85115</td><td>1.0</td><td>7.0</td><td>0.0</td><td>1.0</td><td>0.0</td><td>0.0</td><td>0.0</td><td>13.0</td></tr><tr><th>6</th><td>2.48651</td><td>0.0</td><td>30.0</td><td>0.0</td><td>1.0</td><td>0.0</td><td>0.0</td><td>0.0</td><td>14.0</td></tr><tr><th>7</th><td>3.32808</td><td>0.0</td><td>16.0</td><td>0.0</td><td>1.0</td><td>0.0</td><td>0.0</td><td>0.0</td><td>19.0</td></tr><tr><th>8</th><td>3.07269</td><td>0.0</td><td>27.0</td><td>0.0</td><td>1.0</td><td>0.0</td><td>0.0</td><td>0.0</td><td>19.0</td></tr><tr><th>9</th><td>2.95651</td><td>0.0</td><td>6.0</td><td>0.0</td><td>1.0</td><td>0.0</td><td>0.0</td><td>0.0</td><td>20.0</td></tr><tr><th>10</th><td>2.57922</td><td>0.0</td><td>8.0</td><td>0.0</td><td>1.0</td><td>0.0</td><td>0.0</td><td>0.0</td><td>13.0</td></tr><tr><th>11</th><td>2.95651</td><td>0.0</td><td>8.0</td><td>0.0</td><td>1.0</td><td>0.0</td><td>0.0</td><td>0.0</td><td>16.0</td></tr><tr><th>12</th><td>2.66883</td><td>1.0</td><td>5.0</td><td>0.0</td><td>1.0</td><td>0.0</td><td>0.0</td><td>0.0</td><td>1.0</td></tr><tr><th>13</th><td>2.48205</td><td>1.0</td><td>14.0</td><td>0.0</td><td>1.0</td><td>0.0</td><td>0.0</td><td>0.0</td><td>1.0</td></tr><tr><th>14</th><td>2.44569</td><td>0.0</td><td>5.0</td><td>0.0</td><td>1.0</td><td>0.0</td><td>0.0</td><td>0.0</td><td>21.0</td></tr><tr><th>15</th><td>2.44569</td><td>0.0</td><td>11.0</td><td>0.0</td><td>1.0</td><td>0.0</td><td>0.0</td><td>0.0</td><td>22.0</td></tr><tr><th>16</th><td>2.41752</td><td>0.0</td><td>12.0</td><td>0.0</td><td>1.0</td><td>0.0</td><td>0.0</td><td>0.0</td><td>22.0</td></tr><tr><th>17</th><td>1.90669</td><td>1.0</td><td>15.0</td><td>0.0</td><td>1.0</td><td>0.0</td><td>0.0</td><td>0.0</td><td>11.0</td></tr><tr><th>18</th><td>2.31215</td><td>0.0</td><td>27.0</td><td>0.0</td><td>1.0</td><td>0.0</td><td>0.0</td><td>0.0</td><td>11.0</td></tr><tr><th>19</th><td>2.64066</td><td>0.0</td><td>12.0</td><td>0.0</td><td>1.0</td><td>0.0</td><td>0.0</td><td>0.0</td><td>22.0</td></tr><tr><th>20</th><td>3.36198</td><td>0.0</td><td>41.0</td><td>0.0</td><td>1.0</td><td>0.0</td><td>0.0</td><td>0.0</td><td>22.0</td></tr><tr><th>21</th><td>2.73337</td><td>0.0</td><td>36.0</td><td>0.0</td><td>1.0</td><td>0.0</td><td>0.0</td><td>0.0</td><td>21.0</td></tr><tr><th>22</th><td>2.44569</td><td>0.0</td><td>41.0</td><td>0.0</td><td>1.0</td><td>0.0</td><td>0.0</td><td>0.0</td><td>11.0</td></tr><tr><th>23</th><td>2.44569</td><td>0.0</td><td>15.0</td><td>0.0</td><td>1.0</td><td>0.0</td><td>0.0</td><td>0.0</td><td>13.0</td></tr><tr><th>24</th><td>1.75254</td><td>1.0</td><td>26.0</td><td>0.0</td><td>1.0</td><td>0.0</td><td>0.0</td><td>0.0</td><td>13.0</td></tr><tr><th>25</th><td>2.95651</td><td>1.0</td><td>29.0</td><td>0.0</td><td>1.0</td><td>0.0</td><td>0.0</td><td>0.0</td><td>17.0</td></tr><tr><th>26</th><td>2.24502</td><td>0.0</td><td>25.0</td><td>0.0</td><td>1.0</td><td>0.0</td><td>0.0</td><td>0.0</td><td>13.0</td></tr><tr><th>27</th><td>1.90669</td><td>0.0</td><td>7.0</td><td>0.0</td><td>1.0</td><td>0.0</td><td>0.0</td><td>0.0</td><td>19.0</td></tr><tr><th>28</th><td>2.95651</td><td>1.0</td><td>36.0</td><td>0.0</td><td>1.0</td><td>0.0</td><td>0.0</td><td>0.0</td><td>10.0</td></tr><tr><th>29</th><td>2.35867</td><td>1.0</td><td>19.0</td><td>0.0</td><td>1.0</td><td>0.0</td><td>0.0</td><td>0.0</td><td>13.0</td></tr><tr><th>30</th><td>2.35867</td><td>0.0</td><td>28.0</td><td>0.0</td><td>1.0</td><td>0.0</td><td>0.0</td><td>0.0</td><td>14.0</td></tr><tr><th>&vellip;</th><td>&vellip;</td><td>&vellip;</td><td>&vellip;</td><td>&vellip;</td><td>&vellip;</td><td>&vellip;</td><td>&vellip;</td><td>&vellip;</td><td>&vellip;</td></tr></tbody></table></div>"
      ],
      "text/latex": [
       "\\begin{tabular}{r|cccccccccc}\n",
       "\t& Y & D & exp1 & shs & hsg & mw & so & we & occ2 & \\\\\n",
       "\t\\hline\n",
       "\t& Float64 & Float64 & Float64 & Float64 & Float64 & Float64 & Float64 & Float64 & Float64 & \\\\\n",
       "\t\\hline\n",
       "\t1 & 2.40313 & 0.0 & 18.0 & 0.0 & 1.0 & 0.0 & 0.0 & 0.0 & 19.0 & $\\dots$ \\\\\n",
       "\t2 & 2.95651 & 1.0 & 42.0 & 0.0 & 1.0 & 0.0 & 0.0 & 0.0 & 17.0 & $\\dots$ \\\\\n",
       "\t3 & 2.95651 & 0.0 & 37.0 & 0.0 & 1.0 & 0.0 & 0.0 & 0.0 & 17.0 & $\\dots$ \\\\\n",
       "\t4 & 2.48491 & 1.0 & 31.0 & 0.0 & 1.0 & 0.0 & 0.0 & 0.0 & 13.0 & $\\dots$ \\\\\n",
       "\t5 & 2.85115 & 1.0 & 7.0 & 0.0 & 1.0 & 0.0 & 0.0 & 0.0 & 13.0 & $\\dots$ \\\\\n",
       "\t6 & 2.48651 & 0.0 & 30.0 & 0.0 & 1.0 & 0.0 & 0.0 & 0.0 & 14.0 & $\\dots$ \\\\\n",
       "\t7 & 3.32808 & 0.0 & 16.0 & 0.0 & 1.0 & 0.0 & 0.0 & 0.0 & 19.0 & $\\dots$ \\\\\n",
       "\t8 & 3.07269 & 0.0 & 27.0 & 0.0 & 1.0 & 0.0 & 0.0 & 0.0 & 19.0 & $\\dots$ \\\\\n",
       "\t9 & 2.95651 & 0.0 & 6.0 & 0.0 & 1.0 & 0.0 & 0.0 & 0.0 & 20.0 & $\\dots$ \\\\\n",
       "\t10 & 2.57922 & 0.0 & 8.0 & 0.0 & 1.0 & 0.0 & 0.0 & 0.0 & 13.0 & $\\dots$ \\\\\n",
       "\t11 & 2.95651 & 0.0 & 8.0 & 0.0 & 1.0 & 0.0 & 0.0 & 0.0 & 16.0 & $\\dots$ \\\\\n",
       "\t12 & 2.66883 & 1.0 & 5.0 & 0.0 & 1.0 & 0.0 & 0.0 & 0.0 & 1.0 & $\\dots$ \\\\\n",
       "\t13 & 2.48205 & 1.0 & 14.0 & 0.0 & 1.0 & 0.0 & 0.0 & 0.0 & 1.0 & $\\dots$ \\\\\n",
       "\t14 & 2.44569 & 0.0 & 5.0 & 0.0 & 1.0 & 0.0 & 0.0 & 0.0 & 21.0 & $\\dots$ \\\\\n",
       "\t15 & 2.44569 & 0.0 & 11.0 & 0.0 & 1.0 & 0.0 & 0.0 & 0.0 & 22.0 & $\\dots$ \\\\\n",
       "\t16 & 2.41752 & 0.0 & 12.0 & 0.0 & 1.0 & 0.0 & 0.0 & 0.0 & 22.0 & $\\dots$ \\\\\n",
       "\t17 & 1.90669 & 1.0 & 15.0 & 0.0 & 1.0 & 0.0 & 0.0 & 0.0 & 11.0 & $\\dots$ \\\\\n",
       "\t18 & 2.31215 & 0.0 & 27.0 & 0.0 & 1.0 & 0.0 & 0.0 & 0.0 & 11.0 & $\\dots$ \\\\\n",
       "\t19 & 2.64066 & 0.0 & 12.0 & 0.0 & 1.0 & 0.0 & 0.0 & 0.0 & 22.0 & $\\dots$ \\\\\n",
       "\t20 & 3.36198 & 0.0 & 41.0 & 0.0 & 1.0 & 0.0 & 0.0 & 0.0 & 22.0 & $\\dots$ \\\\\n",
       "\t21 & 2.73337 & 0.0 & 36.0 & 0.0 & 1.0 & 0.0 & 0.0 & 0.0 & 21.0 & $\\dots$ \\\\\n",
       "\t22 & 2.44569 & 0.0 & 41.0 & 0.0 & 1.0 & 0.0 & 0.0 & 0.0 & 11.0 & $\\dots$ \\\\\n",
       "\t23 & 2.44569 & 0.0 & 15.0 & 0.0 & 1.0 & 0.0 & 0.0 & 0.0 & 13.0 & $\\dots$ \\\\\n",
       "\t24 & 1.75254 & 1.0 & 26.0 & 0.0 & 1.0 & 0.0 & 0.0 & 0.0 & 13.0 & $\\dots$ \\\\\n",
       "\t25 & 2.95651 & 1.0 & 29.0 & 0.0 & 1.0 & 0.0 & 0.0 & 0.0 & 17.0 & $\\dots$ \\\\\n",
       "\t26 & 2.24502 & 0.0 & 25.0 & 0.0 & 1.0 & 0.0 & 0.0 & 0.0 & 13.0 & $\\dots$ \\\\\n",
       "\t27 & 1.90669 & 0.0 & 7.0 & 0.0 & 1.0 & 0.0 & 0.0 & 0.0 & 19.0 & $\\dots$ \\\\\n",
       "\t28 & 2.95651 & 1.0 & 36.0 & 0.0 & 1.0 & 0.0 & 0.0 & 0.0 & 10.0 & $\\dots$ \\\\\n",
       "\t29 & 2.35867 & 1.0 & 19.0 & 0.0 & 1.0 & 0.0 & 0.0 & 0.0 & 13.0 & $\\dots$ \\\\\n",
       "\t30 & 2.35867 & 0.0 & 28.0 & 0.0 & 1.0 & 0.0 & 0.0 & 0.0 & 14.0 & $\\dots$ \\\\\n",
       "\t$\\dots$ & $\\dots$ & $\\dots$ & $\\dots$ & $\\dots$ & $\\dots$ & $\\dots$ & $\\dots$ & $\\dots$ & $\\dots$ &  \\\\\n",
       "\\end{tabular}\n"
      ],
      "text/plain": [
       "\u001b[1m1376×10 DataFrame\u001b[0m\n",
       "\u001b[1m  Row \u001b[0m│\u001b[1m Y       \u001b[0m\u001b[1m D       \u001b[0m\u001b[1m exp1    \u001b[0m\u001b[1m shs     \u001b[0m\u001b[1m hsg     \u001b[0m\u001b[1m mw      \u001b[0m\u001b[1m so      \u001b[0m\u001b[1m we     \u001b[0m ⋯\n",
       "\u001b[1m      \u001b[0m│\u001b[90m Float64 \u001b[0m\u001b[90m Float64 \u001b[0m\u001b[90m Float64 \u001b[0m\u001b[90m Float64 \u001b[0m\u001b[90m Float64 \u001b[0m\u001b[90m Float64 \u001b[0m\u001b[90m Float64 \u001b[0m\u001b[90m Float64\u001b[0m ⋯\n",
       "──────┼─────────────────────────────────────────────────────────────────────────\n",
       "    1 │ 2.40313      0.0     18.0      0.0      1.0      0.0      0.0      0.0 ⋯\n",
       "    2 │ 2.95651      1.0     42.0      0.0      1.0      0.0      0.0      0.0\n",
       "    3 │ 2.95651      0.0     37.0      0.0      1.0      0.0      0.0      0.0\n",
       "    4 │ 2.48491      1.0     31.0      0.0      1.0      0.0      0.0      0.0\n",
       "    5 │ 2.85115      1.0      7.0      0.0      1.0      0.0      0.0      0.0 ⋯\n",
       "    6 │ 2.48651      0.0     30.0      0.0      1.0      0.0      0.0      0.0\n",
       "    7 │ 3.32808      0.0     16.0      0.0      1.0      0.0      0.0      0.0\n",
       "    8 │ 3.07269      0.0     27.0      0.0      1.0      0.0      0.0      0.0\n",
       "    9 │ 2.95651      0.0      6.0      0.0      1.0      0.0      0.0      0.0 ⋯\n",
       "   10 │ 2.57922      0.0      8.0      0.0      1.0      0.0      0.0      0.0\n",
       "   11 │ 2.95651      0.0      8.0      0.0      1.0      0.0      0.0      0.0\n",
       "  ⋮   │    ⋮        ⋮        ⋮        ⋮        ⋮        ⋮        ⋮        ⋮    ⋱\n",
       " 1367 │ 2.158        1.0     25.0      0.0      1.0      0.0      0.0      1.0\n",
       " 1368 │ 2.48651      0.0     19.0      0.0      1.0      0.0      0.0      1.0 ⋯\n",
       " 1369 │ 2.52573      1.0     12.0      0.0      1.0      0.0      0.0      1.0\n",
       " 1370 │ 2.26336      0.0     20.0      0.0      1.0      0.0      0.0      1.0\n",
       " 1371 │ 2.48651      0.0     17.0      0.0      1.0      0.0      0.0      1.0\n",
       " 1372 │ 2.56347      0.0     15.0      0.0      1.0      0.0      0.0      1.0 ⋯\n",
       " 1373 │ 2.59984      1.0      8.0      0.0      1.0      0.0      0.0      1.0\n",
       " 1374 │ 3.11778      0.0     15.0      0.0      1.0      0.0      0.0      1.0\n",
       " 1375 │ 2.82298      0.0     11.0      0.0      1.0      0.0      0.0      1.0\n",
       " 1376 │ 3.49551      0.0     10.0      0.0      1.0      0.0      0.0      1.0 ⋯\n",
       "\u001b[36m                                                 2 columns and 1355 rows omitted\u001b[0m"
      ]
     },
     "execution_count": 26,
     "metadata": {},
     "output_type": "execute_result"
    }
   ],
   "source": [
    "# Create main variables\n",
    "Y = Z4[!, \"lwage\"]\n",
    "Y = DataFrame([Y], [:Y])\n",
    "D = Z4[!, \"sex\"]\n",
    "D = DataFrame([D], [:D])\n",
    "W1 = DataFrame(select(Z4, [\"exp1\" , \"shs\", \"hsg\", \"mw\", \"so\", \"we\", \"occ2\", \"ind2\"]))\n",
    "data1 = [Y D W1]"
   ]
  },
  {
   "cell_type": "code",
   "execution_count": 30,
   "id": "56ad26a2",
   "metadata": {},
   "outputs": [],
   "source": [
    "include(\"../Julia_Notebooks/hdmjl/hdmjl.jl\")"
   ]
  },
  {
   "cell_type": "code",
   "execution_count": 31,
   "id": "a01a762e",
   "metadata": {
    "collapsed": true
   },
   "outputs": [
    {
     "data": {
      "text/plain": [
       "rlasso_arg(\u001b[1m1376×8 DataFrame\u001b[0m\n",
       "\u001b[1m  Row \u001b[0m│\u001b[1m exp1    \u001b[0m\u001b[1m shs     \u001b[0m\u001b[1m hsg     \u001b[0m\u001b[1m mw      \u001b[0m\u001b[1m so      \u001b[0m\u001b[1m we      \u001b[0m\u001b[1m occ2    \u001b[0m\u001b[1m ind2   \u001b[0m ⋯\n",
       "\u001b[1m      \u001b[0m│\u001b[90m Float64 \u001b[0m\u001b[90m Float64 \u001b[0m\u001b[90m Float64 \u001b[0m\u001b[90m Float64 \u001b[0m\u001b[90m Float64 \u001b[0m\u001b[90m Float64 \u001b[0m\u001b[90m Float64 \u001b[0m\u001b[90m Float64\u001b[0m ⋯\n",
       "──────┼─────────────────────────────────────────────────────────────────────────\n",
       "    1 │    18.0      0.0      1.0      0.0      0.0      0.0     19.0      4.0 ⋯\n",
       "    2 │    42.0      0.0      1.0      0.0      0.0      0.0     17.0     14.0\n",
       "    3 │    37.0      0.0      1.0      0.0      0.0      0.0     17.0      9.0\n",
       "    4 │    31.0      0.0      1.0      0.0      0.0      0.0     13.0     19.0\n",
       "    5 │     7.0      0.0      1.0      0.0      0.0      0.0     13.0     18.0 ⋯\n",
       "    6 │    30.0      0.0      1.0      0.0      0.0      0.0     14.0     18.0\n",
       "    7 │    16.0      0.0      1.0      0.0      0.0      0.0     19.0      4.0\n",
       "    8 │    27.0      0.0      1.0      0.0      0.0      0.0     19.0      4.0\n",
       "    9 │     6.0      0.0      1.0      0.0      0.0      0.0     20.0      9.0 ⋯\n",
       "   10 │     8.0      0.0      1.0      0.0      0.0      0.0     13.0     20.0\n",
       "   11 │     8.0      0.0      1.0      0.0      0.0      0.0     16.0     14.0\n",
       "  ⋮   │    ⋮        ⋮        ⋮        ⋮        ⋮        ⋮        ⋮        ⋮    ⋱\n",
       " 1367 │    25.0      0.0      1.0      0.0      0.0      1.0     12.0     16.0\n",
       " 1368 │    19.0      0.0      1.0      0.0      0.0      1.0      9.0     19.0 ⋯\n",
       " 1369 │    12.0      0.0      1.0      0.0      0.0      1.0     13.0     20.0\n",
       " 1370 │    20.0      0.0      1.0      0.0      0.0      1.0     13.0     20.0\n",
       " 1371 │    17.0      0.0      1.0      0.0      0.0      1.0     22.0     10.0\n",
       " 1372 │    15.0      0.0      1.0      0.0      0.0      1.0      6.0     22.0 ⋯\n",
       " 1373 │     8.0      0.0      1.0      0.0      0.0      1.0     16.0     19.0\n",
       " 1374 │    15.0      0.0      1.0      0.0      0.0      1.0     22.0      9.0\n",
       " 1375 │    11.0      0.0      1.0      0.0      0.0      1.0     20.0     21.0\n",
       " 1376 │    10.0      0.0      1.0      0.0      0.0      1.0      9.0     11.0 ⋯\n",
       "\u001b[36m                                                              1355 rows omitted\u001b[0m, \u001b[1m1376×1 DataFrame\u001b[0m\n",
       "\u001b[1m  Row \u001b[0m│\u001b[1m Y       \u001b[0m\n",
       "\u001b[1m      \u001b[0m│\u001b[90m Float64 \u001b[0m\n",
       "──────┼─────────\n",
       "    1 │ 2.40313\n",
       "    2 │ 2.95651\n",
       "    3 │ 2.95651\n",
       "    4 │ 2.48491\n",
       "    5 │ 2.85115\n",
       "    6 │ 2.48651\n",
       "    7 │ 3.32808\n",
       "    8 │ 3.07269\n",
       "    9 │ 2.95651\n",
       "   10 │ 2.57922\n",
       "   11 │ 2.95651\n",
       "  ⋮   │    ⋮\n",
       " 1367 │ 2.158\n",
       " 1368 │ 2.48651\n",
       " 1369 │ 2.52573\n",
       " 1370 │ 2.26336\n",
       " 1371 │ 2.48651\n",
       " 1372 │ 2.56347\n",
       " 1373 │ 2.59984\n",
       " 1374 │ 3.11778\n",
       " 1375 │ 2.82298\n",
       " 1376 │ 3.49551\n",
       "\u001b[36m1355 rows omitted\u001b[0m, nothing, true, true, true, false, false, nothing, 1.1, nothing, 5000, 15, 1.0000000000000003e-5, -Inf, true, Inf, true)"
      ]
     },
     "execution_count": 31,
     "metadata": {},
     "output_type": "execute_result"
    }
   ],
   "source": [
    "res_Y_0 = rlasso_arg( W1, Y, nothing, true, true, true, false, false, \n",
    "                    nothing, 1.1, nothing, 5000, 15, 10^(-5), -Inf, true, Inf, true )"
   ]
  },
  {
   "cell_type": "code",
   "execution_count": 32,
   "id": "ed40f8d7",
   "metadata": {
    "collapsed": true
   },
   "outputs": [
    {
     "data": {
      "text/plain": [
       "Dict{String, Any} with 19 entries:\n",
       "  \"tss\"          => 349.503\n",
       "  \"dev\"          => [-0.315436, 0.237949, 0.237949, -0.233656, 0.132589, -0.232…\n",
       "  \"model\"        => [0.809956 -0.0872093 … 3.28416 -7.58721; 24.81 -0.0872093 ……\n",
       "  \"loadings\"     => [5.11778 0.183636 … 3.24156 2.95456]\n",
       "  \"sigma\"        => [0.491425]\n",
       "  \"lambda0\"      => 255.686\n",
       "  \"lambda\"       => \u001b[1m8×2 DataFrame\u001b[0m…\n",
       "  \"intercept\"    => 2.72041\n",
       "  \"Xy\"           => [1223.59, -10.6473, 10.6473, -9.32036, -27.657, 19.8359, -1…\n",
       "  \"iter\"         => 4\n",
       "  \"residuals\"    => [-0.411646, 0.0711823, 0.0513483, -0.254617, 0.288745, -0.2…\n",
       "  \"rss\"          => 349.503\n",
       "  \"index\"        => Bool[1, 0, 0, 0, 0, 0, 0, 1]\n",
       "  \"beta\"         => \u001b[1m8×2 DataFrame\u001b[0m…\n",
       "  \"options\"      => Dict{String, Any}(\"intercept\"=>true, \"post\"=>true, \"meanx\"=…\n",
       "  \"x1\"           => [0.809956 -7.58721; 24.81 2.41279; … ; -6.19004 9.41279; -7…\n",
       "  \"pen\"          => Dict{String, Any}(\"lambda0\"=>255.686, \"lambda\"=>[1302.63; 4…\n",
       "  \"startingval\"  => [-0.430903, 0.0579199, 0.0347555, -0.263788, 0.280003, -0.2…\n",
       "  \"coefficients\" => \u001b[1m9×2 DataFrame\u001b[0m…"
      ]
     },
     "execution_count": 32,
     "metadata": {},
     "output_type": "execute_result"
    }
   ],
   "source": [
    "res_Y = rlasso(res_Y_0)"
   ]
  },
  {
   "cell_type": "code",
   "execution_count": 33,
   "id": "2958b90f",
   "metadata": {},
   "outputs": [
    {
     "data": {
      "text/plain": [
       "1376-element Vector{Float64}:\n",
       " -0.41164574891266514\n",
       "  0.07118229119648428\n",
       "  0.051348327349015316\n",
       " -0.2546170832595275\n",
       "  0.28874465412037786\n",
       " -0.25698259466204765\n",
       "  0.5290494922432578\n",
       "  0.18706223413759\n",
       "  0.29541824869814576\n",
       "  0.03261774744505036\n",
       "  0.3388718823535951\n",
       "  0.07480947970979468\n",
       " -0.27754556516804607\n",
       "  ⋮\n",
       " -0.5355405202098489\n",
       " -0.18709831466873703\n",
       " -0.5698005773650909\n",
       " -0.15853712266063236\n",
       " -0.052363830583242676\n",
       " -0.37771388120534827\n",
       " -0.249350820471364\n",
       " -0.014563140330734914\n",
       "  0.04139701860896555\n",
       "  0.38582738687032686\n",
       "  0.2646009321928361\n",
       "  0.8266018884311667"
      ]
     },
     "execution_count": 33,
     "metadata": {},
     "output_type": "execute_result"
    }
   ],
   "source": [
    "res_Y = res_Y[\"residuals\"]"
   ]
  },
  {
   "cell_type": "code",
   "execution_count": 34,
   "id": "2c8107d1",
   "metadata": {},
   "outputs": [
    {
     "data": {
      "text/plain": [
       "1376×1 Matrix{Float64}:\n",
       " -0.14400482757771177\n",
       "  0.6546641468122814\n",
       " -0.2589277515370638\n",
       "  0.5112264005442321\n",
       "  0.528508020874363\n",
       " -0.4572345679712883\n",
       " -0.14400482757771177\n",
       " -0.14400482757771177\n",
       " -0.2161555180740179\n",
       " -0.5060552197858988\n",
       " -0.35959326434206723\n",
       "  0.42654556834270313\n",
       "  0.5647985309837508\n",
       "  ⋮\n",
       " -0.24164613120693285\n",
       "  0.7440964576387185\n",
       "  0.5488138503802763\n",
       " -0.5458032440731624\n",
       "  0.4939447802141011\n",
       " -0.5060552197858988\n",
       " -0.20492231609545158\n",
       " -0.6404203385266012\n",
       "  0.553998634007278\n",
       " -0.1876406957653206\n",
       " -0.42353496203558927\n",
       " -0.40755028143211486"
      ]
     },
     "execution_count": 34,
     "metadata": {},
     "output_type": "execute_result"
    }
   ],
   "source": [
    "res_D_0 = rlasso_arg( W1, D, nothing, true, true, true, false, false, \n",
    "                    nothing, 1.1, nothing, 5000, 15, 10^(-5), -Inf, true, Inf, true )\n",
    "res_D = rlasso(res_D_0)[\"residuals\"]\n",
    "# We need to convert the vector into matrix because the lm function requires \"X\" to be matrix \n",
    "res_D = reshape(res_D, length(res_D), 1)"
   ]
  },
  {
   "cell_type": "code",
   "execution_count": 35,
   "id": "a9ec8029",
   "metadata": {},
   "outputs": [
    {
     "data": {
      "text/plain": [
       "LinearModel{GLM.LmResp{Vector{Float64}}, GLM.DensePredChol{Float64, CholeskyPivoted{Float64, Matrix{Float64}}}}:\n",
       "\n",
       "Coefficients:\n",
       "─────────────────────────────────────────────────────────────────\n",
       "        Coef.  Std. Error      t  Pr(>|t|)  Lower 95%   Upper 95%\n",
       "─────────────────────────────────────────────────────────────────\n",
       "x1  -0.110144   0.0299349  -3.68    0.0002  -0.168867  -0.0514212\n",
       "─────────────────────────────────────────────────────────────────\n"
      ]
     },
     "execution_count": 35,
     "metadata": {},
     "output_type": "execute_result"
    }
   ],
   "source": [
    "lm(res_D, res_Y)"
   ]
  },
  {
   "cell_type": "code",
   "execution_count": 43,
   "id": "015adfbe",
   "metadata": {},
   "outputs": [
    {
     "name": "stderr",
     "output_type": "stream",
     "text": [
      "\u001b[32m\u001b[1m   Resolving\u001b[22m\u001b[39m package versions...\n",
      "\u001b[32m\u001b[1m    Updating\u001b[22m\u001b[39m `C:\\Users\\JARVIS\\.julia\\environments\\v1.6\\Project.toml`\n",
      " \u001b[90m [c8e1da08] \u001b[39m\u001b[92m+ IterTools v1.4.0\u001b[39m\n",
      "\u001b[32m\u001b[1m  No Changes\u001b[22m\u001b[39m to `C:\\Users\\JARVIS\\.julia\\environments\\v1.6\\Manifest.toml`\n"
     ]
    }
   ],
   "source": [
    "Pkg.add(\"IterTools\")"
   ]
  },
  {
   "cell_type": "code",
   "execution_count": 44,
   "id": "75716f24",
   "metadata": {},
   "outputs": [],
   "source": [
    "using IterTools"
   ]
  },
  {
   "cell_type": "markdown",
   "id": "353117be",
   "metadata": {},
   "source": [
    "### Case 2: Flexible Model\n"
   ]
  },
  {
   "cell_type": "code",
   "execution_count": 45,
   "id": "7ab1be0c",
   "metadata": {},
   "outputs": [],
   "source": [
    "using StatsModels, Combinatorics, IterTools\n",
    "\n",
    "combinations_upto(x, n) = Iterators.flatten(combinations(x, i) for i in 1:n)\n",
    "expand_exp(args, deg::ConstantTerm) =\n",
    "    tuple(((&)(terms...) for terms in combinations_upto(args, deg.n))...)\n",
    "\n",
    "StatsModels.apply_schema(t::FunctionTerm{typeof(^)}, sch::StatsModels.Schema, ctx::Type) =\n",
    "    apply_schema.(expand_exp(t.args_parsed...), Ref(sch), ctx)\n",
    "\n",
    "StatsModels.apply_schema(t::FunctionTerm{typeof(^)}, sch::StatsModels.FullRank, ctx::Type) =\n",
    "    apply_schema.(expand_exp(t.args_parsed...), Ref(sch), ctx)"
   ]
  },
  {
   "cell_type": "code",
   "execution_count": 78,
   "id": "87e81967",
   "metadata": {
    "collapsed": true
   },
   "outputs": [
    {
     "data": {
      "text/plain": [
       "FormulaTerm\n",
       "Response:\n",
       "  lwage(continuous)\n",
       "Predictors:\n",
       "  exp1(continuous)\n",
       "  exp2(continuous)\n",
       "  exp3(continuous)\n",
       "  exp4(continuous)\n",
       "  shs(continuous)\n",
       "  hsg(continuous)\n",
       "  occ2(continuous)\n",
       "  ind2(continuous)\n",
       "  mw(continuous)\n",
       "  so(continuous)\n",
       "  we(continuous)\n",
       "  exp1(continuous) & exp2(continuous)\n",
       "  exp1(continuous) & exp3(continuous)\n",
       "  exp1(continuous) & exp4(continuous)\n",
       "  exp1(continuous) & shs(continuous)\n",
       "  exp1(continuous) & hsg(continuous)\n",
       "  exp1(continuous) & occ2(continuous)\n",
       "  exp1(continuous) & ind2(continuous)\n",
       "  exp1(continuous) & mw(continuous)\n",
       "  exp1(continuous) & so(continuous)\n",
       "  exp1(continuous) & we(continuous)\n",
       "  exp2(continuous) & exp3(continuous)\n",
       "  exp2(continuous) & exp4(continuous)\n",
       "  exp2(continuous) & shs(continuous)\n",
       "  exp2(continuous) & hsg(continuous)\n",
       "  exp2(continuous) & occ2(continuous)\n",
       "  exp2(continuous) & ind2(continuous)\n",
       "  exp2(continuous) & mw(continuous)\n",
       "  exp2(continuous) & so(continuous)\n",
       "  exp2(continuous) & we(continuous)\n",
       "  exp3(continuous) & exp4(continuous)\n",
       "  exp3(continuous) & shs(continuous)\n",
       "  exp3(continuous) & hsg(continuous)\n",
       "  exp3(continuous) & occ2(continuous)\n",
       "  exp3(continuous) & ind2(continuous)\n",
       "  exp3(continuous) & mw(continuous)\n",
       "  exp3(continuous) & so(continuous)\n",
       "  exp3(continuous) & we(continuous)\n",
       "  exp4(continuous) & shs(continuous)\n",
       "  exp4(continuous) & hsg(continuous)\n",
       "  exp4(continuous) & occ2(continuous)\n",
       "  exp4(continuous) & ind2(continuous)\n",
       "  exp4(continuous) & mw(continuous)\n",
       "  exp4(continuous) & so(continuous)\n",
       "  exp4(continuous) & we(continuous)\n",
       "  shs(continuous) & hsg(continuous)\n",
       "  shs(continuous) & occ2(continuous)\n",
       "  shs(continuous) & ind2(continuous)\n",
       "  shs(continuous) & mw(continuous)\n",
       "  shs(continuous) & so(continuous)\n",
       "  shs(continuous) & we(continuous)\n",
       "  hsg(continuous) & occ2(continuous)\n",
       "  hsg(continuous) & ind2(continuous)\n",
       "  hsg(continuous) & mw(continuous)\n",
       "  hsg(continuous) & so(continuous)\n",
       "  hsg(continuous) & we(continuous)\n",
       "  occ2(continuous) & ind2(continuous)\n",
       "  occ2(continuous) & mw(continuous)\n",
       "  occ2(continuous) & so(continuous)\n",
       "  occ2(continuous) & we(continuous)\n",
       "  ind2(continuous) & mw(continuous)\n",
       "  ind2(continuous) & so(continuous)\n",
       "  ind2(continuous) & we(continuous)\n",
       "  mw(continuous) & so(continuous)\n",
       "  mw(continuous) & we(continuous)\n",
       "  so(continuous) & we(continuous)"
      ]
     },
     "execution_count": 78,
     "metadata": {},
     "output_type": "execute_result"
    }
   ],
   "source": [
    "flex = @formula(lwage ~ (exp1+exp2+exp3+exp4+shs+hsg+occ2+ind2+mw+so+we)^2)\n",
    "flex = apply_schema(flex, schema(flex, Z4))"
   ]
  },
  {
   "cell_type": "code",
   "execution_count": 80,
   "id": "15805d56",
   "metadata": {
    "collapsed": true
   },
   "outputs": [
    {
     "data": {
      "text/plain": [
       "StatsModels.TableRegressionModel{LinearModel{GLM.LmResp{Vector{Float64}}, GLM.DensePredChol{Float64, CholeskyPivoted{Float64, Matrix{Float64}}}}, Matrix{Float64}}\n",
       "\n",
       "lwage ~ 1 + sex + exp1 + shs + hsg + mw + so + we + occ2 + ind2 + exp1_1 + shs_1 + hsg_1 + mw_1 + so_1 + we_1 + occ2_1 + ind2_1\n",
       "\n",
       "Coefficients:\n",
       "─────────────────────────────────────────────────────────────────────────────────────\n",
       "                   Coef.    Std. Error       t  Pr(>|t|)     Lower 95%      Upper 95%\n",
       "─────────────────────────────────────────────────────────────────────────────────────\n",
       "(Intercept)   0.0         NaN           NaN       NaN     NaN           NaN\n",
       "sex           0.0         NaN           NaN       NaN     NaN           NaN\n",
       "exp1          0.0089615     0.00153527    5.84    <1e-08    0.00594974    0.0119733\n",
       "shs           2.7359        0.0922181    29.67    <1e-99    2.555         2.91681\n",
       "hsg           2.84143       0.0762826    37.25    <1e-99    2.69178       2.99107\n",
       "mw           -0.00776196    0.0446586    -0.17    0.8620   -0.0953692     0.0798453\n",
       "so           -0.083426      0.0444617    -1.88    0.0608   -0.170647      0.0037949\n",
       "we            0.0917761     0.0488616     1.88    0.0606   -0.00407611    0.187628\n",
       "occ2         -0.00502032    0.00294773   -1.70    0.0888   -0.0108029     0.000762269\n",
       "ind2         -0.0130238     0.00270948   -4.81    <1e-05   -0.018339     -0.0077086\n",
       "exp1_1       -0.00224076    0.00270936   -0.83    0.4084   -0.00755575    0.00307423\n",
       "shs_1         0.287079      0.175798      1.63    0.1027   -0.0577862     0.631945\n",
       "hsg_1         0.320151      0.141725      2.26    0.0240    0.0421279     0.598173\n",
       "mw_1         -0.13915       0.0794226    -1.75    0.0800   -0.294954      0.0166538\n",
       "so_1         -0.0648717     0.0787865    -0.82    0.4104   -0.219428      0.0896846\n",
       "we_1         -0.171917      0.0868762    -1.98    0.0480   -0.342343     -0.00149121\n",
       "occ2_1       -0.0172704     0.00518229   -3.33    0.0009   -0.0274365    -0.00710424\n",
       "ind2_1       -0.00310343    0.00518802   -0.60    0.5498   -0.0132808     0.00707396\n",
       "─────────────────────────────────────────────────────────────────────────────────────"
      ]
     },
     "execution_count": 80,
     "metadata": {},
     "output_type": "execute_result"
    }
   ],
   "source": [
    "X=W1\n",
    "Y = select(Z4, [:lwage,:sex])\n",
    "\n",
    "X = DataFrame(hcat(X, Matrix(select(Z4, [:sex])).*X,makeunique=true))\n",
    "\n",
    "base = hcat(Y, X)\n",
    "\n",
    "#base.inuidur1 = log.(base.inuidur1)  # log(inuidur1)\n",
    "\n",
    "terms = term.(names(base)) # term.() let us to get all variables as objects\n",
    "\n",
    "#interactive regression model\n",
    "\n",
    "ols_ira  = lm(terms[1] ~ sum(terms[2:end]), base)\n",
    "\n",
    "\n",
    "#table3 = regtable(\"Interactive model\" => ols_ira)\n"
   ]
  },
  {
   "cell_type": "code",
   "execution_count": 92,
   "id": "a4afa403",
   "metadata": {
    "collapsed": true
   },
   "outputs": [
    {
     "data": {
      "text/html": [
       "<div class=\"data-frame\"><p>1,376 rows × 1 columns</p><table class=\"data-frame\"><thead><tr><th></th><th>lwage</th></tr><tr><th></th><th title=\"Float64\">Float64</th></tr></thead><tbody><tr><th>1</th><td>2.40313</td></tr><tr><th>2</th><td>2.95651</td></tr><tr><th>3</th><td>2.95651</td></tr><tr><th>4</th><td>2.48491</td></tr><tr><th>5</th><td>2.85115</td></tr><tr><th>6</th><td>2.48651</td></tr><tr><th>7</th><td>3.32808</td></tr><tr><th>8</th><td>3.07269</td></tr><tr><th>9</th><td>2.95651</td></tr><tr><th>10</th><td>2.57922</td></tr><tr><th>11</th><td>2.95651</td></tr><tr><th>12</th><td>2.66883</td></tr><tr><th>13</th><td>2.48205</td></tr><tr><th>14</th><td>2.44569</td></tr><tr><th>15</th><td>2.44569</td></tr><tr><th>16</th><td>2.41752</td></tr><tr><th>17</th><td>1.90669</td></tr><tr><th>18</th><td>2.31215</td></tr><tr><th>19</th><td>2.64066</td></tr><tr><th>20</th><td>3.36198</td></tr><tr><th>21</th><td>2.73337</td></tr><tr><th>22</th><td>2.44569</td></tr><tr><th>23</th><td>2.44569</td></tr><tr><th>24</th><td>1.75254</td></tr><tr><th>25</th><td>2.95651</td></tr><tr><th>26</th><td>2.24502</td></tr><tr><th>27</th><td>1.90669</td></tr><tr><th>28</th><td>2.95651</td></tr><tr><th>29</th><td>2.35867</td></tr><tr><th>30</th><td>2.35867</td></tr><tr><th>&vellip;</th><td>&vellip;</td></tr></tbody></table></div>"
      ],
      "text/latex": [
       "\\begin{tabular}{r|c}\n",
       "\t& lwage\\\\\n",
       "\t\\hline\n",
       "\t& Float64\\\\\n",
       "\t\\hline\n",
       "\t1 & 2.40313 \\\\\n",
       "\t2 & 2.95651 \\\\\n",
       "\t3 & 2.95651 \\\\\n",
       "\t4 & 2.48491 \\\\\n",
       "\t5 & 2.85115 \\\\\n",
       "\t6 & 2.48651 \\\\\n",
       "\t7 & 3.32808 \\\\\n",
       "\t8 & 3.07269 \\\\\n",
       "\t9 & 2.95651 \\\\\n",
       "\t10 & 2.57922 \\\\\n",
       "\t11 & 2.95651 \\\\\n",
       "\t12 & 2.66883 \\\\\n",
       "\t13 & 2.48205 \\\\\n",
       "\t14 & 2.44569 \\\\\n",
       "\t15 & 2.44569 \\\\\n",
       "\t16 & 2.41752 \\\\\n",
       "\t17 & 1.90669 \\\\\n",
       "\t18 & 2.31215 \\\\\n",
       "\t19 & 2.64066 \\\\\n",
       "\t20 & 3.36198 \\\\\n",
       "\t21 & 2.73337 \\\\\n",
       "\t22 & 2.44569 \\\\\n",
       "\t23 & 2.44569 \\\\\n",
       "\t24 & 1.75254 \\\\\n",
       "\t25 & 2.95651 \\\\\n",
       "\t26 & 2.24502 \\\\\n",
       "\t27 & 1.90669 \\\\\n",
       "\t28 & 2.95651 \\\\\n",
       "\t29 & 2.35867 \\\\\n",
       "\t30 & 2.35867 \\\\\n",
       "\t$\\dots$ & $\\dots$ \\\\\n",
       "\\end{tabular}\n"
      ],
      "text/plain": [
       "\u001b[1m1376×1 DataFrame\u001b[0m\n",
       "\u001b[1m  Row \u001b[0m│\u001b[1m lwage   \u001b[0m\n",
       "\u001b[1m      \u001b[0m│\u001b[90m Float64 \u001b[0m\n",
       "──────┼─────────\n",
       "    1 │ 2.40313\n",
       "    2 │ 2.95651\n",
       "    3 │ 2.95651\n",
       "    4 │ 2.48491\n",
       "    5 │ 2.85115\n",
       "    6 │ 2.48651\n",
       "    7 │ 3.32808\n",
       "    8 │ 3.07269\n",
       "    9 │ 2.95651\n",
       "   10 │ 2.57922\n",
       "   11 │ 2.95651\n",
       "  ⋮   │    ⋮\n",
       " 1367 │ 2.158\n",
       " 1368 │ 2.48651\n",
       " 1369 │ 2.52573\n",
       " 1370 │ 2.26336\n",
       " 1371 │ 2.48651\n",
       " 1372 │ 2.56347\n",
       " 1373 │ 2.59984\n",
       " 1374 │ 3.11778\n",
       " 1375 │ 2.82298\n",
       " 1376 │ 3.49551\n",
       "\u001b[36m1355 rows omitted\u001b[0m"
      ]
     },
     "execution_count": 92,
     "metadata": {},
     "output_type": "execute_result"
    }
   ],
   "source": [
    "# demean function\n",
    "function desv_mean(a)\n",
    "    A = mean(a, dims = 1)\n",
    "    M = zeros(Float64, size(X,1), size(X,2))\n",
    "    for i in 1:size(a,2)\n",
    "          M[:,i] = a[:,i] .- A[i]\n",
    "    end\n",
    "    return M\n",
    "end  \n",
    "X = StatsModels.modelmatrix(flex.rhs,Z4)\n",
    "X = desv_mean(X)\n",
    "D = DataFrame([X[:,1]],:auto)  # Treatment varaible\n",
    "rename!(D, Dict(:x1 => :sex)) #rename x1 -> T4\n",
    "X = DataFrame(hcat(X[:,2:end], X[:,1].*X[:,2:end]),:auto)\n",
    "Y = select(Z4, [:lwage]) #select just lwage"
   ]
  },
  {
   "cell_type": "code",
   "execution_count": 95,
   "id": "26b1bb4f",
   "metadata": {
    "collapsed": true
   },
   "outputs": [
    {
     "data": {
      "text/plain": [
       "rlasso_arg(\u001b[1m1376×130 DataFrame\u001b[0m\n",
       "\u001b[1m  Row \u001b[0m│\u001b[1m x1         \u001b[0m\u001b[1m x2         \u001b[0m\u001b[1m x3       \u001b[0m\u001b[1m x4         \u001b[0m\u001b[1m x5        \u001b[0m\u001b[1m x6         \u001b[0m\u001b[1m x\u001b[0m ⋯\n",
       "\u001b[1m      \u001b[0m│\u001b[90m Float64    \u001b[0m\u001b[90m Float64    \u001b[0m\u001b[90m Float64  \u001b[0m\u001b[90m Float64    \u001b[0m\u001b[90m Float64   \u001b[0m\u001b[90m Float64    \u001b[0m\u001b[90m F\u001b[0m ⋯\n",
       "──────┼─────────────────────────────────────────────────────────────────────────\n",
       "    1 │ -0.789529    -5.60239   -25.6607  -0.0872093  0.0872093    3.28416   - ⋯\n",
       "    2 │ 13.6105      62.6536    275.011   -0.0872093  0.0872093    1.28416\n",
       "    3 │  9.66047     39.2186    151.258   -0.0872093  0.0872093    1.28416   -\n",
       "    4 │  5.58047     18.3566     56.1938  -0.0872093  0.0872093   -2.71584\n",
       "    5 │ -3.53953    -11.0914    -35.9182  -0.0872093  0.0872093   -2.71584     ⋯\n",
       "    6 │  4.97047     15.5656     44.8417  -0.0872093  0.0872093   -1.71584\n",
       "    7 │ -1.46953     -7.33839   -29.6047  -0.0872093  0.0872093    3.28416   -\n",
       "    8 │  3.26047      8.24861    16.9858  -0.0872093  0.0872093    3.28416   -\n",
       "    9 │ -3.66953    -11.2184    -36.0287  -0.0872093  0.0872093    4.28416   - ⋯\n",
       "   10 │ -3.38953    -10.9224    -35.7487  -0.0872093  0.0872093   -2.71584\n",
       "   11 │ -3.38953    -10.9224    -35.7487  -0.0872093  0.0872093    0.284157\n",
       "  ⋮   │     ⋮           ⋮          ⋮          ⋮           ⋮          ⋮         ⋱\n",
       " 1367 │  2.22047      4.19061     2.9042  -0.0872093  0.0872093   -3.71584\n",
       " 1368 │ -0.419529    -4.57539   -23.1262  -0.0872093  0.0872093   -6.71584     ⋯\n",
       " 1369 │ -2.58953     -9.70639   -34.0847  -0.0872093  0.0872093   -2.71584\n",
       " 1370 │ -0.0295294   -3.43439   -20.1583  -0.0872093  0.0872093   -2.71584\n",
       " 1371 │ -1.13953     -6.52139   -27.8062  -0.0872093  0.0872093    6.28416   -\n",
       " 1372 │ -1.77953     -8.05939   -31.0958  -0.0872093  0.0872093   -9.71584   1 ⋯\n",
       " 1373 │ -3.38953    -10.9224    -35.7487  -0.0872093  0.0872093    0.284157\n",
       " 1374 │ -1.77953     -8.05939   -31.0958  -0.0872093  0.0872093    6.28416   -\n",
       " 1375 │ -2.81953    -10.1034    -34.6942  -0.0872093  0.0872093    4.28416\n",
       " 1376 │ -3.02953    -10.4344    -35.1583  -0.0872093  0.0872093   -6.71584   - ⋯\n",
       "\u001b[36m                                               124 columns and 1355 rows omitted\u001b[0m, \u001b[1m1376×1 DataFrame\u001b[0m\n",
       "\u001b[1m  Row \u001b[0m│\u001b[1m sex        \u001b[0m\n",
       "\u001b[1m      \u001b[0m│\u001b[90m Float64    \u001b[0m\n",
       "──────┼────────────\n",
       "    1 │   0.809956\n",
       "    2 │  24.81\n",
       "    3 │  19.81\n",
       "    4 │  13.81\n",
       "    5 │ -10.19\n",
       "    6 │  12.81\n",
       "    7 │  -1.19004\n",
       "    8 │   9.80996\n",
       "    9 │ -11.19\n",
       "   10 │  -9.19004\n",
       "   11 │  -9.19004\n",
       "  ⋮   │     ⋮\n",
       " 1367 │   7.80996\n",
       " 1368 │   1.80996\n",
       " 1369 │  -5.19004\n",
       " 1370 │   2.80996\n",
       " 1371 │  -0.190044\n",
       " 1372 │  -2.19004\n",
       " 1373 │  -9.19004\n",
       " 1374 │  -2.19004\n",
       " 1375 │  -6.19004\n",
       " 1376 │  -7.19004\n",
       "\u001b[36m  1355 rows omitted\u001b[0m, nothing, true, true, true, false, false, nothing, 1.1, nothing, 5000, 15, 1.0000000000000003e-5, -Inf, true, Inf, true)"
      ]
     },
     "execution_count": 95,
     "metadata": {},
     "output_type": "execute_result"
    }
   ],
   "source": [
    "res_Y_1 = rlasso_arg( X,D, nothing, true, true, true, false, false, \n",
    "                    nothing, 1.1, nothing, 5000, 15, 10^(-5), -Inf, true, Inf, true )"
   ]
  },
  {
   "cell_type": "code",
   "execution_count": 96,
   "id": "3e8b2e12",
   "metadata": {},
   "outputs": [
    {
     "data": {
      "text/plain": [
       "Dict{String, Any} with 19 entries:\n",
       "  \"tss\"          => 1.47859e5\n",
       "  \"dev\"          => [0.809956, 24.81, 19.81, 13.81, -10.19, 12.81, -1.19004, 9.…\n",
       "  \"model\"        => [-0.789529 -5.60239 … 0.0 0.0; 13.6105 62.6536 … 0.0 0.0; ……\n",
       "  \"loadings\"     => [6.7721e-8 2.79699e-7 … 0.0 0.0]\n",
       "  \"sigma\"        => [1.20431e-8]\n",
       "  \"lambda0\"      => 316.265\n",
       "  \"lambda\"       => \u001b[1m130×2 DataFrame\u001b[0m…\n",
       "  \"intercept\"    => 18.8031\n",
       "  \"Xy\"           => [62024.7, 227075.0, 8.23776e5, 119.695, -119.695, 3795.31, …\n",
       "  \"iter\"         => 6\n",
       "  \"residuals\"    => [-1.11916e-8, -2.0036e-9, 1.18441e-8, -1.03124e-8, -1.9e-8,…\n",
       "  \"rss\"          => 1.47859e5\n",
       "  \"index\"        => Bool[1, 1, 1, 1, 0, 1, 1, 1, 1, 1  …  0, 1, 1, 1, 1, 1, 1, …\n",
       "  \"beta\"         => \u001b[1m130×2 DataFrame\u001b[0m…\n",
       "  \"options\"      => Dict{String, Any}(\"intercept\"=>true, \"post\"=>true, \"meanx\"=…\n",
       "  \"x1\"           => [-0.789529 -5.60239 … 1.28725 -0.400614; 13.6105 62.6536 … …\n",
       "  \"pen\"          => Dict{String, Any}(\"lambda0\"=>316.265, \"lambda\"=>[25341.5; 1…\n",
       "  \"startingval\"  => [0.809956, 24.81, 19.81, 13.81, -10.19, 12.81, -1.19004, 9.…\n",
       "  \"coefficients\" => \u001b[1m131×2 DataFrame\u001b[0m…"
      ]
     },
     "execution_count": 96,
     "metadata": {},
     "output_type": "execute_result"
    }
   ],
   "source": [
    "Y_resid = rlasso(res_Y_1)"
   ]
  },
  {
   "cell_type": "code",
   "execution_count": null,
   "id": "f5274691",
   "metadata": {},
   "outputs": [],
   "source": []
  },
  {
   "cell_type": "code",
   "execution_count": null,
   "id": "efc4932b",
   "metadata": {},
   "outputs": [],
   "source": []
  },
  {
   "cell_type": "code",
   "execution_count": null,
   "id": "09d5b94b",
   "metadata": {},
   "outputs": [],
   "source": []
  }
 ],
 "metadata": {
  "kernelspec": {
   "display_name": "Julia 1.7.2",
   "language": "julia",
   "name": "julia-1.7"
  },
  "language_info": {
   "file_extension": ".jl",
   "mimetype": "application/julia",
   "name": "julia",
   "version": "1.7.2"
  }
 },
 "nbformat": 4,
 "nbformat_minor": 5
}
